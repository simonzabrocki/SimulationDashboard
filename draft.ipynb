{
 "cells": [
  {
   "cell_type": "code",
   "execution_count": 4,
   "metadata": {
    "ExecuteTime": {
     "end_time": "2021-10-08T01:49:47.343156Z",
     "start_time": "2021-10-08T01:49:47.338878Z"
    }
   },
   "outputs": [],
   "source": [
    "from app import dimension_properties, indicator_properties"
   ]
  },
  {
   "cell_type": "code",
   "execution_count": 5,
   "metadata": {
    "ExecuteTime": {
     "end_time": "2021-10-08T01:49:49.225372Z",
     "start_time": "2021-10-08T01:49:49.190461Z"
    }
   },
   "outputs": [
    {
     "data": {
      "text/html": [
       "<div>\n",
       "<style scoped>\n",
       "    .dataframe tbody tr th:only-of-type {\n",
       "        vertical-align: middle;\n",
       "    }\n",
       "\n",
       "    .dataframe tbody tr th {\n",
       "        vertical-align: top;\n",
       "    }\n",
       "\n",
       "    .dataframe thead th {\n",
       "        text-align: right;\n",
       "    }\n",
       "</style>\n",
       "<table border=\"1\" class=\"dataframe\">\n",
       "  <thead>\n",
       "    <tr style=\"text-align: right;\">\n",
       "      <th></th>\n",
       "      <th>Indicator</th>\n",
       "      <th>Description</th>\n",
       "      <th>Unit</th>\n",
       "      <th>Dimension</th>\n",
       "      <th>Impact</th>\n",
       "      <th>minYear</th>\n",
       "      <th>maxYear</th>\n",
       "      <th>Category</th>\n",
       "    </tr>\n",
       "  </thead>\n",
       "  <tbody>\n",
       "    <tr>\n",
       "      <th>0</th>\n",
       "      <td>GE3</td>\n",
       "      <td>Ratio non-CO2 emissions (CH4, N2O and F-gas) i...</td>\n",
       "      <td>Tons CO2e per Capita</td>\n",
       "      <td>Natural Capital Protection</td>\n",
       "      <td>negative</td>\n",
       "      <td>1961</td>\n",
       "      <td>2020</td>\n",
       "      <td>GE</td>\n",
       "    </tr>\n",
       "    <tr>\n",
       "      <th>1</th>\n",
       "      <td>SE1</td>\n",
       "      <td>Palma Ratio</td>\n",
       "      <td>Ratio</td>\n",
       "      <td>Social Inclusion</td>\n",
       "      <td>negative</td>\n",
       "      <td>1967</td>\n",
       "      <td>2020</td>\n",
       "      <td>SE</td>\n",
       "    </tr>\n",
       "    <tr>\n",
       "      <th>2</th>\n",
       "      <td>ME1</td>\n",
       "      <td>Total domestic material consumption (DMC) per ...</td>\n",
       "      <td>kg per constant 2005 GDP</td>\n",
       "      <td>Efficient and Sustainable Resource Use</td>\n",
       "      <td>negative</td>\n",
       "      <td>1970</td>\n",
       "      <td>2020</td>\n",
       "      <td>ME</td>\n",
       "    </tr>\n",
       "    <tr>\n",
       "      <th>3</th>\n",
       "      <td>GB3</td>\n",
       "      <td>Getting paid, laws and regulations for equal g...</td>\n",
       "      <td>Score (0-100)</td>\n",
       "      <td>Social Inclusion</td>\n",
       "      <td>positive</td>\n",
       "      <td>1971</td>\n",
       "      <td>2020</td>\n",
       "      <td>GB</td>\n",
       "    </tr>\n",
       "    <tr>\n",
       "      <th>4</th>\n",
       "      <td>GN1</td>\n",
       "      <td>Share of patent publications in environmental ...</td>\n",
       "      <td>Percent</td>\n",
       "      <td>Green Economic Opportunities</td>\n",
       "      <td>positive</td>\n",
       "      <td>1980</td>\n",
       "      <td>2020</td>\n",
       "      <td>GN</td>\n",
       "    </tr>\n",
       "    <tr>\n",
       "      <th>5</th>\n",
       "      <td>CV3</td>\n",
       "      <td>Share of terrestrial and marine protected area...</td>\n",
       "      <td>Percent</td>\n",
       "      <td>Natural Capital Protection</td>\n",
       "      <td>positive</td>\n",
       "      <td>1990</td>\n",
       "      <td>2020</td>\n",
       "      <td>CV</td>\n",
       "    </tr>\n",
       "    <tr>\n",
       "      <th>6</th>\n",
       "      <td>EE2</td>\n",
       "      <td>Renewable energy share in the total final ener...</td>\n",
       "      <td>Percent</td>\n",
       "      <td>Efficient and Sustainable Resource Use</td>\n",
       "      <td>positive</td>\n",
       "      <td>1990</td>\n",
       "      <td>2020</td>\n",
       "      <td>EE</td>\n",
       "    </tr>\n",
       "    <tr>\n",
       "      <th>7</th>\n",
       "      <td>GE2</td>\n",
       "      <td>Ratio non-CO2 emissions (CH4, N2O and F-gas) e...</td>\n",
       "      <td>Tons CO2e per Capita</td>\n",
       "      <td>Natural Capital Protection</td>\n",
       "      <td>negative</td>\n",
       "      <td>1990</td>\n",
       "      <td>2020</td>\n",
       "      <td>GE</td>\n",
       "    </tr>\n",
       "    <tr>\n",
       "      <th>8</th>\n",
       "      <td>EE1</td>\n",
       "      <td>Energy intensity level of primary energy</td>\n",
       "      <td>Megajoules per constant 2011 purchasing power ...</td>\n",
       "      <td>Efficient and Sustainable Resource Use</td>\n",
       "      <td>negative</td>\n",
       "      <td>1990</td>\n",
       "      <td>2020</td>\n",
       "      <td>EE</td>\n",
       "    </tr>\n",
       "    <tr>\n",
       "      <th>9</th>\n",
       "      <td>BE2</td>\n",
       "      <td>Forest area as a proportion of total land area</td>\n",
       "      <td>Percent</td>\n",
       "      <td>Natural Capital Protection</td>\n",
       "      <td>positive</td>\n",
       "      <td>1990</td>\n",
       "      <td>2020</td>\n",
       "      <td>BE</td>\n",
       "    </tr>\n",
       "    <tr>\n",
       "      <th>10</th>\n",
       "      <td>EQ1</td>\n",
       "      <td>PM2.5 air pollution, mean annual exposure</td>\n",
       "      <td>micrograms per cubic meter</td>\n",
       "      <td>Natural Capital Protection</td>\n",
       "      <td>negative</td>\n",
       "      <td>1990</td>\n",
       "      <td>2020</td>\n",
       "      <td>EQ</td>\n",
       "    </tr>\n",
       "    <tr>\n",
       "      <th>11</th>\n",
       "      <td>EQ2</td>\n",
       "      <td>DALY rate due to unsafe water sources</td>\n",
       "      <td>Age-standardized Disability-Adjusted Life Year...</td>\n",
       "      <td>Natural Capital Protection</td>\n",
       "      <td>negative</td>\n",
       "      <td>1990</td>\n",
       "      <td>2020</td>\n",
       "      <td>EQ</td>\n",
       "    </tr>\n",
       "    <tr>\n",
       "      <th>12</th>\n",
       "      <td>SE2</td>\n",
       "      <td>Ratio Urban-rural access to electricity</td>\n",
       "      <td>Ratio</td>\n",
       "      <td>Social Inclusion</td>\n",
       "      <td>negative</td>\n",
       "      <td>1990</td>\n",
       "      <td>2020</td>\n",
       "      <td>SE</td>\n",
       "    </tr>\n",
       "    <tr>\n",
       "      <th>13</th>\n",
       "      <td>SP2</td>\n",
       "      <td>Universal health coverage</td>\n",
       "      <td>Index</td>\n",
       "      <td>Social Inclusion</td>\n",
       "      <td>positive</td>\n",
       "      <td>1990</td>\n",
       "      <td>2020</td>\n",
       "      <td>SP</td>\n",
       "    </tr>\n",
       "    <tr>\n",
       "      <th>14</th>\n",
       "      <td>ME2</td>\n",
       "      <td>total Material Footprint (MF) per Capita</td>\n",
       "      <td>MF tonnes per capita</td>\n",
       "      <td>Efficient and Sustainable Resource Use</td>\n",
       "      <td>negative</td>\n",
       "      <td>1990</td>\n",
       "      <td>2020</td>\n",
       "      <td>ME</td>\n",
       "    </tr>\n",
       "    <tr>\n",
       "      <th>15</th>\n",
       "      <td>GB1</td>\n",
       "      <td>Proportion of seats held by women in national ...</td>\n",
       "      <td>Percent</td>\n",
       "      <td>Social Inclusion</td>\n",
       "      <td>positive</td>\n",
       "      <td>1990</td>\n",
       "      <td>2020</td>\n",
       "      <td>GB</td>\n",
       "    </tr>\n",
       "    <tr>\n",
       "      <th>16</th>\n",
       "      <td>GV1</td>\n",
       "      <td>Adjusted net savings minus natural resources d...</td>\n",
       "      <td>Percent of GNI</td>\n",
       "      <td>Green Economic Opportunities</td>\n",
       "      <td>positive</td>\n",
       "      <td>1990</td>\n",
       "      <td>2020</td>\n",
       "      <td>GV</td>\n",
       "    </tr>\n",
       "    <tr>\n",
       "      <th>17</th>\n",
       "      <td>SP3</td>\n",
       "      <td>Proportion of urban population living in slums</td>\n",
       "      <td>Percent</td>\n",
       "      <td>Social Inclusion</td>\n",
       "      <td>negative</td>\n",
       "      <td>1990</td>\n",
       "      <td>2020</td>\n",
       "      <td>SP</td>\n",
       "    </tr>\n",
       "    <tr>\n",
       "      <th>18</th>\n",
       "      <td>SE3</td>\n",
       "      <td>Proportion of youth not in education, employme...</td>\n",
       "      <td>Percent</td>\n",
       "      <td>Social Inclusion</td>\n",
       "      <td>negative</td>\n",
       "      <td>1990</td>\n",
       "      <td>2020</td>\n",
       "      <td>SE</td>\n",
       "    </tr>\n",
       "    <tr>\n",
       "      <th>19</th>\n",
       "      <td>CV1</td>\n",
       "      <td>Red List Index</td>\n",
       "      <td>Index</td>\n",
       "      <td>Natural Capital Protection</td>\n",
       "      <td>positive</td>\n",
       "      <td>1993</td>\n",
       "      <td>2020</td>\n",
       "      <td>CV</td>\n",
       "    </tr>\n",
       "    <tr>\n",
       "      <th>20</th>\n",
       "      <td>SP1</td>\n",
       "      <td>Proportion of population above statutory pensi...</td>\n",
       "      <td>Percent</td>\n",
       "      <td>Social Inclusion</td>\n",
       "      <td>positive</td>\n",
       "      <td>1996</td>\n",
       "      <td>2020</td>\n",
       "      <td>SP</td>\n",
       "    </tr>\n",
       "    <tr>\n",
       "      <th>21</th>\n",
       "      <td>AB3</td>\n",
       "      <td>Mobile and broadband subscriptions</td>\n",
       "      <td>no. of subscriptions per 100 peple</td>\n",
       "      <td>Social Inclusion</td>\n",
       "      <td>positive</td>\n",
       "      <td>1998</td>\n",
       "      <td>2020</td>\n",
       "      <td>AB</td>\n",
       "    </tr>\n",
       "    <tr>\n",
       "      <th>22</th>\n",
       "      <td>BE1</td>\n",
       "      <td>Proportion terrestrial, freshwater, marine and...</td>\n",
       "      <td>Percent</td>\n",
       "      <td>Natural Capital Protection</td>\n",
       "      <td>positive</td>\n",
       "      <td>2000</td>\n",
       "      <td>2020</td>\n",
       "      <td>BE</td>\n",
       "    </tr>\n",
       "    <tr>\n",
       "      <th>23</th>\n",
       "      <td>BE3</td>\n",
       "      <td>Above-ground biomass stock in forest</td>\n",
       "      <td>tonnes per hectare</td>\n",
       "      <td>Natural Capital Protection</td>\n",
       "      <td>positive</td>\n",
       "      <td>2000</td>\n",
       "      <td>2020</td>\n",
       "      <td>BE</td>\n",
       "    </tr>\n",
       "    <tr>\n",
       "      <th>24</th>\n",
       "      <td>GT1</td>\n",
       "      <td>Share environmental export to total export</td>\n",
       "      <td>Percent</td>\n",
       "      <td>Green Economic Opportunities</td>\n",
       "      <td>positive</td>\n",
       "      <td>2000</td>\n",
       "      <td>2020</td>\n",
       "      <td>GT</td>\n",
       "    </tr>\n",
       "    <tr>\n",
       "      <th>25</th>\n",
       "      <td>AB2</td>\n",
       "      <td>Population with access to electricity and clea...</td>\n",
       "      <td>Percent</td>\n",
       "      <td>Social Inclusion</td>\n",
       "      <td>positive</td>\n",
       "      <td>2000</td>\n",
       "      <td>2020</td>\n",
       "      <td>AB</td>\n",
       "    </tr>\n",
       "    <tr>\n",
       "      <th>26</th>\n",
       "      <td>EW1</td>\n",
       "      <td>Water use efficiency</td>\n",
       "      <td>United States dollars per cubic meter</td>\n",
       "      <td>Efficient and Sustainable Resource Use</td>\n",
       "      <td>positive</td>\n",
       "      <td>2000</td>\n",
       "      <td>2020</td>\n",
       "      <td>EW</td>\n",
       "    </tr>\n",
       "    <tr>\n",
       "      <th>27</th>\n",
       "      <td>EW2</td>\n",
       "      <td>Water stress: freshwater withdrawal as a propo...</td>\n",
       "      <td>Percent</td>\n",
       "      <td>Efficient and Sustainable Resource Use</td>\n",
       "      <td>negative</td>\n",
       "      <td>2000</td>\n",
       "      <td>2020</td>\n",
       "      <td>EW</td>\n",
       "    </tr>\n",
       "    <tr>\n",
       "      <th>28</th>\n",
       "      <td>AB1</td>\n",
       "      <td>Population with access to safely managed water...</td>\n",
       "      <td>Percent</td>\n",
       "      <td>Social Inclusion</td>\n",
       "      <td>positive</td>\n",
       "      <td>2000</td>\n",
       "      <td>2020</td>\n",
       "      <td>AB</td>\n",
       "    </tr>\n",
       "    <tr>\n",
       "      <th>29</th>\n",
       "      <td>SL2</td>\n",
       "      <td>Proportion of agriculture organic to total agr...</td>\n",
       "      <td>Percent</td>\n",
       "      <td>Efficient and Sustainable Resource Use</td>\n",
       "      <td>positive</td>\n",
       "      <td>2004</td>\n",
       "      <td>2020</td>\n",
       "      <td>SL</td>\n",
       "    </tr>\n",
       "    <tr>\n",
       "      <th>30</th>\n",
       "      <td>GJ1</td>\n",
       "      <td>Share of green employment in total manufacturi...</td>\n",
       "      <td>Percent</td>\n",
       "      <td>Green Economic Opportunities</td>\n",
       "      <td>positive</td>\n",
       "      <td>2005</td>\n",
       "      <td>2020</td>\n",
       "      <td>GJ</td>\n",
       "    </tr>\n",
       "    <tr>\n",
       "      <th>31</th>\n",
       "      <td>GB2</td>\n",
       "      <td>Maximum of ratio female-male, male-female with...</td>\n",
       "      <td>Ratio</td>\n",
       "      <td>Social Inclusion</td>\n",
       "      <td>negative</td>\n",
       "      <td>2011</td>\n",
       "      <td>2020</td>\n",
       "      <td>GB</td>\n",
       "    </tr>\n",
       "    <tr>\n",
       "      <th>32</th>\n",
       "      <td>CV2</td>\n",
       "      <td>Tourism and recreation in coastal and marine a...</td>\n",
       "      <td>Source (0-100)</td>\n",
       "      <td>Natural Capital Protection</td>\n",
       "      <td>positive</td>\n",
       "      <td>2012</td>\n",
       "      <td>2020</td>\n",
       "      <td>CV</td>\n",
       "    </tr>\n",
       "    <tr>\n",
       "      <th>33</th>\n",
       "      <td>EQ3</td>\n",
       "      <td>Municipal solid waste (MSW) generated per Capita</td>\n",
       "      <td>Tons per Capita</td>\n",
       "      <td>Natural Capital Protection</td>\n",
       "      <td>negative</td>\n",
       "      <td>2018</td>\n",
       "      <td>2020</td>\n",
       "      <td>EQ</td>\n",
       "    </tr>\n",
       "    <tr>\n",
       "      <th>34</th>\n",
       "      <td>SL1</td>\n",
       "      <td>Nutrient balance per unit area</td>\n",
       "      <td>Tons per hectare</td>\n",
       "      <td>Efficient and Sustainable Resource Use</td>\n",
       "      <td>positive</td>\n",
       "      <td>2019</td>\n",
       "      <td>2020</td>\n",
       "      <td>SL</td>\n",
       "    </tr>\n",
       "    <tr>\n",
       "      <th>35</th>\n",
       "      <td>GE1</td>\n",
       "      <td>Ratio CO2 emissions excluding Agriculture and ...</td>\n",
       "      <td>Tons CO2e per Capita</td>\n",
       "      <td>Natural Capital Protection</td>\n",
       "      <td>negative</td>\n",
       "      <td>1990</td>\n",
       "      <td>2020</td>\n",
       "      <td>GE</td>\n",
       "    </tr>\n",
       "  </tbody>\n",
       "</table>\n",
       "</div>"
      ],
      "text/plain": [
       "   Indicator                                        Description  ... maxYear Category\n",
       "0        GE3  Ratio non-CO2 emissions (CH4, N2O and F-gas) i...  ...    2020       GE\n",
       "1        SE1                                        Palma Ratio  ...    2020       SE\n",
       "2        ME1  Total domestic material consumption (DMC) per ...  ...    2020       ME\n",
       "3        GB3  Getting paid, laws and regulations for equal g...  ...    2020       GB\n",
       "4        GN1  Share of patent publications in environmental ...  ...    2020       GN\n",
       "5        CV3  Share of terrestrial and marine protected area...  ...    2020       CV\n",
       "6        EE2  Renewable energy share in the total final ener...  ...    2020       EE\n",
       "7        GE2  Ratio non-CO2 emissions (CH4, N2O and F-gas) e...  ...    2020       GE\n",
       "8        EE1           Energy intensity level of primary energy  ...    2020       EE\n",
       "9        BE2     Forest area as a proportion of total land area  ...    2020       BE\n",
       "10       EQ1          PM2.5 air pollution, mean annual exposure  ...    2020       EQ\n",
       "11       EQ2              DALY rate due to unsafe water sources  ...    2020       EQ\n",
       "12       SE2            Ratio Urban-rural access to electricity  ...    2020       SE\n",
       "13       SP2                          Universal health coverage  ...    2020       SP\n",
       "14       ME2           total Material Footprint (MF) per Capita  ...    2020       ME\n",
       "15       GB1  Proportion of seats held by women in national ...  ...    2020       GB\n",
       "16       GV1  Adjusted net savings minus natural resources d...  ...    2020       GV\n",
       "17       SP3     Proportion of urban population living in slums  ...    2020       SP\n",
       "18       SE3  Proportion of youth not in education, employme...  ...    2020       SE\n",
       "19       CV1                                     Red List Index  ...    2020       CV\n",
       "20       SP1  Proportion of population above statutory pensi...  ...    2020       SP\n",
       "21       AB3                 Mobile and broadband subscriptions  ...    2020       AB\n",
       "22       BE1  Proportion terrestrial, freshwater, marine and...  ...    2020       BE\n",
       "23       BE3               Above-ground biomass stock in forest  ...    2020       BE\n",
       "24       GT1         Share environmental export to total export  ...    2020       GT\n",
       "25       AB2  Population with access to electricity and clea...  ...    2020       AB\n",
       "26       EW1                               Water use efficiency  ...    2020       EW\n",
       "27       EW2  Water stress: freshwater withdrawal as a propo...  ...    2020       EW\n",
       "28       AB1  Population with access to safely managed water...  ...    2020       AB\n",
       "29       SL2  Proportion of agriculture organic to total agr...  ...    2020       SL\n",
       "30       GJ1  Share of green employment in total manufacturi...  ...    2020       GJ\n",
       "31       GB2  Maximum of ratio female-male, male-female with...  ...    2020       GB\n",
       "32       CV2  Tourism and recreation in coastal and marine a...  ...    2020       CV\n",
       "33       EQ3   Municipal solid waste (MSW) generated per Capita  ...    2020       EQ\n",
       "34       SL1                     Nutrient balance per unit area  ...    2020       SL\n",
       "35       GE1  Ratio CO2 emissions excluding Agriculture and ...  ...    2020       GE\n",
       "\n",
       "[36 rows x 8 columns]"
      ]
     },
     "execution_count": 5,
     "metadata": {},
     "output_type": "execute_result"
    }
   ],
   "source": [
    "indicator_properties"
   ]
  },
  {
   "cell_type": "code",
   "execution_count": 1,
   "metadata": {
    "ExecuteTime": {
     "end_time": "2021-10-07T02:17:04.794826Z",
     "start_time": "2021-10-07T02:16:56.089274Z"
    }
   },
   "outputs": [],
   "source": [
    "import pandas as pd\n",
    "from app import indicator_data, indicator_properties, data\n",
    "from pages.simulation import scenario_data_dictionnary\n",
    "import plotly.express as px"
   ]
  },
  {
   "cell_type": "code",
   "execution_count": 2,
   "metadata": {
    "ExecuteTime": {
     "end_time": "2021-10-07T02:17:04.851199Z",
     "start_time": "2021-10-07T02:17:04.803530Z"
    },
    "scrolled": false
   },
   "outputs": [
    {
     "data": {
      "text/html": [
       "<div>\n",
       "<style scoped>\n",
       "    .dataframe tbody tr th:only-of-type {\n",
       "        vertical-align: middle;\n",
       "    }\n",
       "\n",
       "    .dataframe tbody tr th {\n",
       "        vertical-align: top;\n",
       "    }\n",
       "\n",
       "    .dataframe thead th {\n",
       "        text-align: right;\n",
       "    }\n",
       "</style>\n",
       "<table border=\"1\" class=\"dataframe\">\n",
       "  <thead>\n",
       "    <tr style=\"text-align: right;\">\n",
       "      <th></th>\n",
       "      <th>ISO</th>\n",
       "      <th>Variable</th>\n",
       "      <th>Aggregation</th>\n",
       "      <th>Year</th>\n",
       "      <th>Value</th>\n",
       "    </tr>\n",
       "  </thead>\n",
       "  <tbody>\n",
       "    <tr>\n",
       "      <th>102676</th>\n",
       "      <td>FRA</td>\n",
       "      <td>Index</td>\n",
       "      <td>Index</td>\n",
       "      <td>2005.0</td>\n",
       "      <td>65.10</td>\n",
       "    </tr>\n",
       "    <tr>\n",
       "      <th>102677</th>\n",
       "      <td>FRA</td>\n",
       "      <td>AB1</td>\n",
       "      <td>Indicator</td>\n",
       "      <td>2005.0</td>\n",
       "      <td>93.10</td>\n",
       "    </tr>\n",
       "    <tr>\n",
       "      <th>102678</th>\n",
       "      <td>FRA</td>\n",
       "      <td>AB2</td>\n",
       "      <td>Indicator</td>\n",
       "      <td>2005.0</td>\n",
       "      <td>97.50</td>\n",
       "    </tr>\n",
       "    <tr>\n",
       "      <th>102679</th>\n",
       "      <td>FRA</td>\n",
       "      <td>AB3</td>\n",
       "      <td>Indicator</td>\n",
       "      <td>2005.0</td>\n",
       "      <td>47.09</td>\n",
       "    </tr>\n",
       "    <tr>\n",
       "      <th>102680</th>\n",
       "      <td>FRA</td>\n",
       "      <td>BE1</td>\n",
       "      <td>Indicator</td>\n",
       "      <td>2005.0</td>\n",
       "      <td>59.73</td>\n",
       "    </tr>\n",
       "    <tr>\n",
       "      <th>...</th>\n",
       "      <td>...</td>\n",
       "      <td>...</td>\n",
       "      <td>...</td>\n",
       "      <td>...</td>\n",
       "      <td>...</td>\n",
       "    </tr>\n",
       "    <tr>\n",
       "      <th>104066</th>\n",
       "      <td>FRA</td>\n",
       "      <td>SP</td>\n",
       "      <td>Category</td>\n",
       "      <td>2019.0</td>\n",
       "      <td>85.42</td>\n",
       "    </tr>\n",
       "    <tr>\n",
       "      <th>104067</th>\n",
       "      <td>FRA</td>\n",
       "      <td>SI</td>\n",
       "      <td>Dimension</td>\n",
       "      <td>2019.0</td>\n",
       "      <td>89.31</td>\n",
       "    </tr>\n",
       "    <tr>\n",
       "      <th>104068</th>\n",
       "      <td>FRA</td>\n",
       "      <td>NCP</td>\n",
       "      <td>Dimension</td>\n",
       "      <td>2019.0</td>\n",
       "      <td>79.61</td>\n",
       "    </tr>\n",
       "    <tr>\n",
       "      <th>104069</th>\n",
       "      <td>FRA</td>\n",
       "      <td>ESRU</td>\n",
       "      <td>Dimension</td>\n",
       "      <td>2019.0</td>\n",
       "      <td>68.41</td>\n",
       "    </tr>\n",
       "    <tr>\n",
       "      <th>104070</th>\n",
       "      <td>FRA</td>\n",
       "      <td>GEO</td>\n",
       "      <td>Dimension</td>\n",
       "      <td>2019.0</td>\n",
       "      <td>46.17</td>\n",
       "    </tr>\n",
       "  </tbody>\n",
       "</table>\n",
       "<p>1395 rows × 5 columns</p>\n",
       "</div>"
      ],
      "text/plain": [
       "        ISO Variable Aggregation    Year  Value\n",
       "102676  FRA    Index       Index  2005.0  65.10\n",
       "102677  FRA      AB1   Indicator  2005.0  93.10\n",
       "102678  FRA      AB2   Indicator  2005.0  97.50\n",
       "102679  FRA      AB3   Indicator  2005.0  47.09\n",
       "102680  FRA      BE1   Indicator  2005.0  59.73\n",
       "...     ...      ...         ...     ...    ...\n",
       "104066  FRA       SP    Category  2019.0  85.42\n",
       "104067  FRA       SI   Dimension  2019.0  89.31\n",
       "104068  FRA      NCP   Dimension  2019.0  79.61\n",
       "104069  FRA     ESRU   Dimension  2019.0  68.41\n",
       "104070  FRA      GEO   Dimension  2019.0  46.17\n",
       "\n",
       "[1395 rows x 5 columns]"
      ]
     },
     "execution_count": 2,
     "metadata": {},
     "output_type": "execute_result"
    }
   ],
   "source": [
    "ISO = 'FRA'\n",
    "data.query(\"ISO == @ISO\")[['ISO', 'Variable', 'Aggregation', 'Year', 'Value']]"
   ]
  },
  {
   "cell_type": "code",
   "execution_count": 11,
   "metadata": {
    "ExecuteTime": {
     "end_time": "2021-10-04T01:18:30.885431Z",
     "start_time": "2021-10-04T01:18:30.845037Z"
    },
    "collapsed": true
   },
   "outputs": [
    {
     "data": {
      "text/html": [
       "<div>\n",
       "<style scoped>\n",
       "    .dataframe tbody tr th:only-of-type {\n",
       "        vertical-align: middle;\n",
       "    }\n",
       "\n",
       "    .dataframe tbody tr th {\n",
       "        vertical-align: top;\n",
       "    }\n",
       "\n",
       "    .dataframe thead th {\n",
       "        text-align: right;\n",
       "    }\n",
       "</style>\n",
       "<table border=\"1\" class=\"dataframe\">\n",
       "  <thead>\n",
       "    <tr style=\"text-align: right;\">\n",
       "      <th></th>\n",
       "      <th>Variable</th>\n",
       "      <th>ISO</th>\n",
       "      <th>Value</th>\n",
       "      <th>Aggregation</th>\n",
       "      <th>Year</th>\n",
       "      <th>Country</th>\n",
       "      <th>Continent</th>\n",
       "      <th>UNregion</th>\n",
       "      <th>IncomeLevel</th>\n",
       "      <th>Region</th>\n",
       "      <th>Variable_name</th>\n",
       "      <th>Continental_Rank</th>\n",
       "      <th>Income_Rank</th>\n",
       "      <th>Category</th>\n",
       "      <th>Dimension</th>\n",
       "    </tr>\n",
       "  </thead>\n",
       "  <tbody>\n",
       "    <tr>\n",
       "      <th>0</th>\n",
       "      <td>AB1</td>\n",
       "      <td>AFG</td>\n",
       "      <td>NaN</td>\n",
       "      <td>Indicator</td>\n",
       "      <td>2005.0</td>\n",
       "      <td>Afghanistan</td>\n",
       "      <td>Asia</td>\n",
       "      <td>Southern Asia</td>\n",
       "      <td>Low income</td>\n",
       "      <td>South Asia</td>\n",
       "      <td>NaN</td>\n",
       "      <td>NaN</td>\n",
       "      <td>NaN</td>\n",
       "      <td>NaN</td>\n",
       "      <td>NaN</td>\n",
       "    </tr>\n",
       "    <tr>\n",
       "      <th>1</th>\n",
       "      <td>AB2</td>\n",
       "      <td>AFG</td>\n",
       "      <td>18.50</td>\n",
       "      <td>Indicator</td>\n",
       "      <td>2005.0</td>\n",
       "      <td>Afghanistan</td>\n",
       "      <td>Asia</td>\n",
       "      <td>Southern Asia</td>\n",
       "      <td>Low income</td>\n",
       "      <td>South Asia</td>\n",
       "      <td>NaN</td>\n",
       "      <td>62.0</td>\n",
       "      <td>11.0</td>\n",
       "      <td>NaN</td>\n",
       "      <td>NaN</td>\n",
       "    </tr>\n",
       "    <tr>\n",
       "      <th>2</th>\n",
       "      <td>AB3</td>\n",
       "      <td>AFG</td>\n",
       "      <td>2.34</td>\n",
       "      <td>Indicator</td>\n",
       "      <td>2005.0</td>\n",
       "      <td>Afghanistan</td>\n",
       "      <td>Asia</td>\n",
       "      <td>Southern Asia</td>\n",
       "      <td>Low income</td>\n",
       "      <td>South Asia</td>\n",
       "      <td>NaN</td>\n",
       "      <td>85.0</td>\n",
       "      <td>33.0</td>\n",
       "      <td>NaN</td>\n",
       "      <td>NaN</td>\n",
       "    </tr>\n",
       "    <tr>\n",
       "      <th>3</th>\n",
       "      <td>BE1</td>\n",
       "      <td>AFG</td>\n",
       "      <td>0.00</td>\n",
       "      <td>Indicator</td>\n",
       "      <td>2005.0</td>\n",
       "      <td>Afghanistan</td>\n",
       "      <td>Asia</td>\n",
       "      <td>Southern Asia</td>\n",
       "      <td>Low income</td>\n",
       "      <td>South Asia</td>\n",
       "      <td>NaN</td>\n",
       "      <td>86.0</td>\n",
       "      <td>50.0</td>\n",
       "      <td>NaN</td>\n",
       "      <td>NaN</td>\n",
       "    </tr>\n",
       "    <tr>\n",
       "      <th>4</th>\n",
       "      <td>BE2</td>\n",
       "      <td>AFG</td>\n",
       "      <td>2.07</td>\n",
       "      <td>Indicator</td>\n",
       "      <td>2005.0</td>\n",
       "      <td>Afghanistan</td>\n",
       "      <td>Asia</td>\n",
       "      <td>Southern Asia</td>\n",
       "      <td>Low income</td>\n",
       "      <td>South Asia</td>\n",
       "      <td>NaN</td>\n",
       "      <td>64.0</td>\n",
       "      <td>40.0</td>\n",
       "      <td>NaN</td>\n",
       "      <td>NaN</td>\n",
       "    </tr>\n",
       "    <tr>\n",
       "      <th>...</th>\n",
       "      <td>...</td>\n",
       "      <td>...</td>\n",
       "      <td>...</td>\n",
       "      <td>...</td>\n",
       "      <td>...</td>\n",
       "      <td>...</td>\n",
       "      <td>...</td>\n",
       "      <td>...</td>\n",
       "      <td>...</td>\n",
       "      <td>...</td>\n",
       "      <td>...</td>\n",
       "      <td>...</td>\n",
       "      <td>...</td>\n",
       "      <td>...</td>\n",
       "      <td>...</td>\n",
       "    </tr>\n",
       "    <tr>\n",
       "      <th>337117</th>\n",
       "      <td>SP</td>\n",
       "      <td>ZWE</td>\n",
       "      <td>41.40</td>\n",
       "      <td>Category</td>\n",
       "      <td>2019.0</td>\n",
       "      <td>Zimbabwe</td>\n",
       "      <td>Africa</td>\n",
       "      <td>Eastern Africa</td>\n",
       "      <td>Lower middle income</td>\n",
       "      <td>Sub-Saharan Africa</td>\n",
       "      <td>Social protection</td>\n",
       "      <td>12.0</td>\n",
       "      <td>24.0</td>\n",
       "      <td>SP</td>\n",
       "      <td>Social Inclusion</td>\n",
       "    </tr>\n",
       "    <tr>\n",
       "      <th>337118</th>\n",
       "      <td>SI</td>\n",
       "      <td>ZWE</td>\n",
       "      <td>41.71</td>\n",
       "      <td>Dimension</td>\n",
       "      <td>2019.0</td>\n",
       "      <td>Zimbabwe</td>\n",
       "      <td>Africa</td>\n",
       "      <td>Eastern Africa</td>\n",
       "      <td>Lower middle income</td>\n",
       "      <td>Sub-Saharan Africa</td>\n",
       "      <td>Social inclusion</td>\n",
       "      <td>24.0</td>\n",
       "      <td>37.0</td>\n",
       "      <td>NaN</td>\n",
       "      <td>NaN</td>\n",
       "    </tr>\n",
       "    <tr>\n",
       "      <th>337119</th>\n",
       "      <td>NCP</td>\n",
       "      <td>ZWE</td>\n",
       "      <td>78.42</td>\n",
       "      <td>Dimension</td>\n",
       "      <td>2019.0</td>\n",
       "      <td>Zimbabwe</td>\n",
       "      <td>Africa</td>\n",
       "      <td>Eastern Africa</td>\n",
       "      <td>Lower middle income</td>\n",
       "      <td>Sub-Saharan Africa</td>\n",
       "      <td>Natural capital protection</td>\n",
       "      <td>1.0</td>\n",
       "      <td>1.0</td>\n",
       "      <td>NaN</td>\n",
       "      <td>NaN</td>\n",
       "    </tr>\n",
       "    <tr>\n",
       "      <th>337120</th>\n",
       "      <td>ESRU</td>\n",
       "      <td>ZWE</td>\n",
       "      <td>57.58</td>\n",
       "      <td>Dimension</td>\n",
       "      <td>2019.0</td>\n",
       "      <td>Zimbabwe</td>\n",
       "      <td>Africa</td>\n",
       "      <td>Eastern Africa</td>\n",
       "      <td>Lower middle income</td>\n",
       "      <td>Sub-Saharan Africa</td>\n",
       "      <td>Efficient and sustainable resource use</td>\n",
       "      <td>29.0</td>\n",
       "      <td>25.0</td>\n",
       "      <td>NaN</td>\n",
       "      <td>NaN</td>\n",
       "    </tr>\n",
       "    <tr>\n",
       "      <th>337121</th>\n",
       "      <td>GEO</td>\n",
       "      <td>ZWE</td>\n",
       "      <td>4.19</td>\n",
       "      <td>Dimension</td>\n",
       "      <td>2019.0</td>\n",
       "      <td>Zimbabwe</td>\n",
       "      <td>Africa</td>\n",
       "      <td>Eastern Africa</td>\n",
       "      <td>Lower middle income</td>\n",
       "      <td>Sub-Saharan Africa</td>\n",
       "      <td>Green economic opportunities</td>\n",
       "      <td>25.0</td>\n",
       "      <td>34.0</td>\n",
       "      <td>NaN</td>\n",
       "      <td>NaN</td>\n",
       "    </tr>\n",
       "  </tbody>\n",
       "</table>\n",
       "<p>337122 rows × 15 columns</p>\n",
       "</div>"
      ],
      "text/plain": [
       "       Variable  ISO  Value Aggregation    Year      Country Continent  \\\n",
       "0           AB1  AFG    NaN   Indicator  2005.0  Afghanistan      Asia   \n",
       "1           AB2  AFG  18.50   Indicator  2005.0  Afghanistan      Asia   \n",
       "2           AB3  AFG   2.34   Indicator  2005.0  Afghanistan      Asia   \n",
       "3           BE1  AFG   0.00   Indicator  2005.0  Afghanistan      Asia   \n",
       "4           BE2  AFG   2.07   Indicator  2005.0  Afghanistan      Asia   \n",
       "...         ...  ...    ...         ...     ...          ...       ...   \n",
       "337117       SP  ZWE  41.40    Category  2019.0     Zimbabwe    Africa   \n",
       "337118       SI  ZWE  41.71   Dimension  2019.0     Zimbabwe    Africa   \n",
       "337119      NCP  ZWE  78.42   Dimension  2019.0     Zimbabwe    Africa   \n",
       "337120     ESRU  ZWE  57.58   Dimension  2019.0     Zimbabwe    Africa   \n",
       "337121      GEO  ZWE   4.19   Dimension  2019.0     Zimbabwe    Africa   \n",
       "\n",
       "              UNregion          IncomeLevel               Region  \\\n",
       "0        Southern Asia           Low income           South Asia   \n",
       "1        Southern Asia           Low income           South Asia   \n",
       "2        Southern Asia           Low income           South Asia   \n",
       "3        Southern Asia           Low income           South Asia   \n",
       "4        Southern Asia           Low income           South Asia   \n",
       "...                ...                  ...                  ...   \n",
       "337117  Eastern Africa  Lower middle income  Sub-Saharan Africa    \n",
       "337118  Eastern Africa  Lower middle income  Sub-Saharan Africa    \n",
       "337119  Eastern Africa  Lower middle income  Sub-Saharan Africa    \n",
       "337120  Eastern Africa  Lower middle income  Sub-Saharan Africa    \n",
       "337121  Eastern Africa  Lower middle income  Sub-Saharan Africa    \n",
       "\n",
       "                                 Variable_name  Continental_Rank  Income_Rank  \\\n",
       "0                                          NaN               NaN          NaN   \n",
       "1                                          NaN              62.0         11.0   \n",
       "2                                          NaN              85.0         33.0   \n",
       "3                                          NaN              86.0         50.0   \n",
       "4                                          NaN              64.0         40.0   \n",
       "...                                        ...               ...          ...   \n",
       "337117                       Social protection              12.0         24.0   \n",
       "337118                        Social inclusion              24.0         37.0   \n",
       "337119              Natural capital protection               1.0          1.0   \n",
       "337120  Efficient and sustainable resource use              29.0         25.0   \n",
       "337121            Green economic opportunities              25.0         34.0   \n",
       "\n",
       "       Category         Dimension  \n",
       "0           NaN               NaN  \n",
       "1           NaN               NaN  \n",
       "2           NaN               NaN  \n",
       "3           NaN               NaN  \n",
       "4           NaN               NaN  \n",
       "...         ...               ...  \n",
       "337117       SP  Social Inclusion  \n",
       "337118      NaN               NaN  \n",
       "337119      NaN               NaN  \n",
       "337120      NaN               NaN  \n",
       "337121      NaN               NaN  \n",
       "\n",
       "[337122 rows x 15 columns]"
      ]
     },
     "execution_count": 11,
     "metadata": {},
     "output_type": "execute_result"
    }
   ],
   "source": [
    "data"
   ]
  },
  {
   "cell_type": "code",
   "execution_count": 4,
   "metadata": {
    "ExecuteTime": {
     "end_time": "2021-10-04T01:12:57.961970Z",
     "start_time": "2021-10-04T01:12:57.957072Z"
    }
   },
   "outputs": [],
   "source": [
    "def category_heatmap(ISO):\n",
    "    REF_1 = 'AVG_' + \"_\".join(data[data.ISO == ISO][[\"IncomeLevel\"]\n",
    "                                                    ].drop_duplicates().values[0].tolist())\n",
    "    REF_2 = 'AVG_' + \"_\".join(data[data.ISO == ISO][[\"Continent\"]\n",
    "                                                    ].drop_duplicates().values[0].tolist())\n",
    "\n",
    "    df = data[(data.ISO.isin([ISO, REF_1, REF_2])) &\n",
    "              (data.Aggregation == 'Index')].fillna(0)\n",
    "    \n",
    "    return df"
   ]
  },
  {
   "cell_type": "code",
   "execution_count": 6,
   "metadata": {
    "ExecuteTime": {
     "end_time": "2021-10-04T01:14:09.872123Z",
     "start_time": "2021-10-04T01:14:09.763879Z"
    }
   },
   "outputs": [
    {
     "data": {
      "text/html": [
       "<div>\n",
       "<style scoped>\n",
       "    .dataframe tbody tr th:only-of-type {\n",
       "        vertical-align: middle;\n",
       "    }\n",
       "\n",
       "    .dataframe tbody tr th {\n",
       "        vertical-align: top;\n",
       "    }\n",
       "\n",
       "    .dataframe thead th {\n",
       "        text-align: right;\n",
       "    }\n",
       "</style>\n",
       "<table border=\"1\" class=\"dataframe\">\n",
       "  <thead>\n",
       "    <tr style=\"text-align: right;\">\n",
       "      <th></th>\n",
       "      <th>Variable</th>\n",
       "      <th>ISO</th>\n",
       "      <th>Value</th>\n",
       "      <th>Aggregation</th>\n",
       "      <th>Year</th>\n",
       "      <th>Country</th>\n",
       "      <th>Continent</th>\n",
       "      <th>UNregion</th>\n",
       "      <th>IncomeLevel</th>\n",
       "      <th>Region</th>\n",
       "      <th>Variable_name</th>\n",
       "      <th>Continental_Rank</th>\n",
       "      <th>Income_Rank</th>\n",
       "      <th>Category</th>\n",
       "      <th>Dimension</th>\n",
       "    </tr>\n",
       "  </thead>\n",
       "  <tbody>\n",
       "    <tr>\n",
       "      <th>102676</th>\n",
       "      <td>Index</td>\n",
       "      <td>FRA</td>\n",
       "      <td>65.10</td>\n",
       "      <td>Index</td>\n",
       "      <td>2005.0</td>\n",
       "      <td>France</td>\n",
       "      <td>Europe</td>\n",
       "      <td>Western Europe</td>\n",
       "      <td>High income</td>\n",
       "      <td>Europe &amp; Central Asia</td>\n",
       "      <td>0</td>\n",
       "      <td>12.0</td>\n",
       "      <td>12.0</td>\n",
       "      <td>0</td>\n",
       "      <td>0</td>\n",
       "    </tr>\n",
       "    <tr>\n",
       "      <th>102769</th>\n",
       "      <td>Index</td>\n",
       "      <td>FRA</td>\n",
       "      <td>65.66</td>\n",
       "      <td>Index</td>\n",
       "      <td>2006.0</td>\n",
       "      <td>France</td>\n",
       "      <td>Europe</td>\n",
       "      <td>Western Europe</td>\n",
       "      <td>High income</td>\n",
       "      <td>Europe &amp; Central Asia</td>\n",
       "      <td>0</td>\n",
       "      <td>12.0</td>\n",
       "      <td>13.0</td>\n",
       "      <td>0</td>\n",
       "      <td>0</td>\n",
       "    </tr>\n",
       "    <tr>\n",
       "      <th>102862</th>\n",
       "      <td>Index</td>\n",
       "      <td>FRA</td>\n",
       "      <td>65.64</td>\n",
       "      <td>Index</td>\n",
       "      <td>2007.0</td>\n",
       "      <td>France</td>\n",
       "      <td>Europe</td>\n",
       "      <td>Western Europe</td>\n",
       "      <td>High income</td>\n",
       "      <td>Europe &amp; Central Asia</td>\n",
       "      <td>0</td>\n",
       "      <td>14.0</td>\n",
       "      <td>14.0</td>\n",
       "      <td>0</td>\n",
       "      <td>0</td>\n",
       "    </tr>\n",
       "    <tr>\n",
       "      <th>102955</th>\n",
       "      <td>Index</td>\n",
       "      <td>FRA</td>\n",
       "      <td>66.74</td>\n",
       "      <td>Index</td>\n",
       "      <td>2008.0</td>\n",
       "      <td>France</td>\n",
       "      <td>Europe</td>\n",
       "      <td>Western Europe</td>\n",
       "      <td>High income</td>\n",
       "      <td>Europe &amp; Central Asia</td>\n",
       "      <td>0</td>\n",
       "      <td>10.0</td>\n",
       "      <td>10.0</td>\n",
       "      <td>0</td>\n",
       "      <td>0</td>\n",
       "    </tr>\n",
       "    <tr>\n",
       "      <th>103048</th>\n",
       "      <td>Index</td>\n",
       "      <td>FRA</td>\n",
       "      <td>66.46</td>\n",
       "      <td>Index</td>\n",
       "      <td>2009.0</td>\n",
       "      <td>France</td>\n",
       "      <td>Europe</td>\n",
       "      <td>Western Europe</td>\n",
       "      <td>High income</td>\n",
       "      <td>Europe &amp; Central Asia</td>\n",
       "      <td>0</td>\n",
       "      <td>10.0</td>\n",
       "      <td>10.0</td>\n",
       "      <td>0</td>\n",
       "      <td>0</td>\n",
       "    </tr>\n",
       "    <tr>\n",
       "      <th>103141</th>\n",
       "      <td>Index</td>\n",
       "      <td>FRA</td>\n",
       "      <td>66.83</td>\n",
       "      <td>Index</td>\n",
       "      <td>2010.0</td>\n",
       "      <td>France</td>\n",
       "      <td>Europe</td>\n",
       "      <td>Western Europe</td>\n",
       "      <td>High income</td>\n",
       "      <td>Europe &amp; Central Asia</td>\n",
       "      <td>0</td>\n",
       "      <td>12.0</td>\n",
       "      <td>12.0</td>\n",
       "      <td>0</td>\n",
       "      <td>0</td>\n",
       "    </tr>\n",
       "    <tr>\n",
       "      <th>103234</th>\n",
       "      <td>Index</td>\n",
       "      <td>FRA</td>\n",
       "      <td>67.76</td>\n",
       "      <td>Index</td>\n",
       "      <td>2011.0</td>\n",
       "      <td>France</td>\n",
       "      <td>Europe</td>\n",
       "      <td>Western Europe</td>\n",
       "      <td>High income</td>\n",
       "      <td>Europe &amp; Central Asia</td>\n",
       "      <td>0</td>\n",
       "      <td>12.0</td>\n",
       "      <td>12.0</td>\n",
       "      <td>0</td>\n",
       "      <td>0</td>\n",
       "    </tr>\n",
       "    <tr>\n",
       "      <th>103327</th>\n",
       "      <td>Index</td>\n",
       "      <td>FRA</td>\n",
       "      <td>68.00</td>\n",
       "      <td>Index</td>\n",
       "      <td>2012.0</td>\n",
       "      <td>France</td>\n",
       "      <td>Europe</td>\n",
       "      <td>Western Europe</td>\n",
       "      <td>High income</td>\n",
       "      <td>Europe &amp; Central Asia</td>\n",
       "      <td>0</td>\n",
       "      <td>12.0</td>\n",
       "      <td>12.0</td>\n",
       "      <td>0</td>\n",
       "      <td>0</td>\n",
       "    </tr>\n",
       "    <tr>\n",
       "      <th>103420</th>\n",
       "      <td>Index</td>\n",
       "      <td>FRA</td>\n",
       "      <td>67.93</td>\n",
       "      <td>Index</td>\n",
       "      <td>2013.0</td>\n",
       "      <td>France</td>\n",
       "      <td>Europe</td>\n",
       "      <td>Western Europe</td>\n",
       "      <td>High income</td>\n",
       "      <td>Europe &amp; Central Asia</td>\n",
       "      <td>0</td>\n",
       "      <td>13.0</td>\n",
       "      <td>13.0</td>\n",
       "      <td>0</td>\n",
       "      <td>0</td>\n",
       "    </tr>\n",
       "    <tr>\n",
       "      <th>103513</th>\n",
       "      <td>Index</td>\n",
       "      <td>FRA</td>\n",
       "      <td>68.22</td>\n",
       "      <td>Index</td>\n",
       "      <td>2014.0</td>\n",
       "      <td>France</td>\n",
       "      <td>Europe</td>\n",
       "      <td>Western Europe</td>\n",
       "      <td>High income</td>\n",
       "      <td>Europe &amp; Central Asia</td>\n",
       "      <td>0</td>\n",
       "      <td>13.0</td>\n",
       "      <td>13.0</td>\n",
       "      <td>0</td>\n",
       "      <td>0</td>\n",
       "    </tr>\n",
       "    <tr>\n",
       "      <th>103606</th>\n",
       "      <td>Index</td>\n",
       "      <td>FRA</td>\n",
       "      <td>68.45</td>\n",
       "      <td>Index</td>\n",
       "      <td>2015.0</td>\n",
       "      <td>France</td>\n",
       "      <td>Europe</td>\n",
       "      <td>Western Europe</td>\n",
       "      <td>High income</td>\n",
       "      <td>Europe &amp; Central Asia</td>\n",
       "      <td>0</td>\n",
       "      <td>13.0</td>\n",
       "      <td>13.0</td>\n",
       "      <td>0</td>\n",
       "      <td>0</td>\n",
       "    </tr>\n",
       "    <tr>\n",
       "      <th>103699</th>\n",
       "      <td>Index</td>\n",
       "      <td>FRA</td>\n",
       "      <td>68.86</td>\n",
       "      <td>Index</td>\n",
       "      <td>2016.0</td>\n",
       "      <td>France</td>\n",
       "      <td>Europe</td>\n",
       "      <td>Western Europe</td>\n",
       "      <td>High income</td>\n",
       "      <td>Europe &amp; Central Asia</td>\n",
       "      <td>0</td>\n",
       "      <td>14.0</td>\n",
       "      <td>14.0</td>\n",
       "      <td>0</td>\n",
       "      <td>0</td>\n",
       "    </tr>\n",
       "    <tr>\n",
       "      <th>103792</th>\n",
       "      <td>Index</td>\n",
       "      <td>FRA</td>\n",
       "      <td>68.39</td>\n",
       "      <td>Index</td>\n",
       "      <td>2017.0</td>\n",
       "      <td>France</td>\n",
       "      <td>Europe</td>\n",
       "      <td>Western Europe</td>\n",
       "      <td>High income</td>\n",
       "      <td>Europe &amp; Central Asia</td>\n",
       "      <td>0</td>\n",
       "      <td>16.0</td>\n",
       "      <td>16.0</td>\n",
       "      <td>0</td>\n",
       "      <td>0</td>\n",
       "    </tr>\n",
       "    <tr>\n",
       "      <th>103885</th>\n",
       "      <td>Index</td>\n",
       "      <td>FRA</td>\n",
       "      <td>68.95</td>\n",
       "      <td>Index</td>\n",
       "      <td>2018.0</td>\n",
       "      <td>France</td>\n",
       "      <td>Europe</td>\n",
       "      <td>Western Europe</td>\n",
       "      <td>High income</td>\n",
       "      <td>Europe &amp; Central Asia</td>\n",
       "      <td>0</td>\n",
       "      <td>17.0</td>\n",
       "      <td>17.0</td>\n",
       "      <td>0</td>\n",
       "      <td>0</td>\n",
       "    </tr>\n",
       "    <tr>\n",
       "      <th>103978</th>\n",
       "      <td>Index</td>\n",
       "      <td>FRA</td>\n",
       "      <td>68.84</td>\n",
       "      <td>Index</td>\n",
       "      <td>2019.0</td>\n",
       "      <td>France</td>\n",
       "      <td>Europe</td>\n",
       "      <td>Western Europe</td>\n",
       "      <td>High income</td>\n",
       "      <td>Europe &amp; Central Asia</td>\n",
       "      <td>0</td>\n",
       "      <td>17.0</td>\n",
       "      <td>17.0</td>\n",
       "      <td>0</td>\n",
       "      <td>0</td>\n",
       "    </tr>\n",
       "  </tbody>\n",
       "</table>\n",
       "</div>"
      ],
      "text/plain": [
       "       Variable  ISO  Value Aggregation    Year Country Continent  \\\n",
       "102676    Index  FRA  65.10       Index  2005.0  France    Europe   \n",
       "102769    Index  FRA  65.66       Index  2006.0  France    Europe   \n",
       "102862    Index  FRA  65.64       Index  2007.0  France    Europe   \n",
       "102955    Index  FRA  66.74       Index  2008.0  France    Europe   \n",
       "103048    Index  FRA  66.46       Index  2009.0  France    Europe   \n",
       "103141    Index  FRA  66.83       Index  2010.0  France    Europe   \n",
       "103234    Index  FRA  67.76       Index  2011.0  France    Europe   \n",
       "103327    Index  FRA  68.00       Index  2012.0  France    Europe   \n",
       "103420    Index  FRA  67.93       Index  2013.0  France    Europe   \n",
       "103513    Index  FRA  68.22       Index  2014.0  France    Europe   \n",
       "103606    Index  FRA  68.45       Index  2015.0  France    Europe   \n",
       "103699    Index  FRA  68.86       Index  2016.0  France    Europe   \n",
       "103792    Index  FRA  68.39       Index  2017.0  France    Europe   \n",
       "103885    Index  FRA  68.95       Index  2018.0  France    Europe   \n",
       "103978    Index  FRA  68.84       Index  2019.0  France    Europe   \n",
       "\n",
       "              UNregion  IncomeLevel                 Region  Variable_name  \\\n",
       "102676  Western Europe  High income  Europe & Central Asia              0   \n",
       "102769  Western Europe  High income  Europe & Central Asia              0   \n",
       "102862  Western Europe  High income  Europe & Central Asia              0   \n",
       "102955  Western Europe  High income  Europe & Central Asia              0   \n",
       "103048  Western Europe  High income  Europe & Central Asia              0   \n",
       "103141  Western Europe  High income  Europe & Central Asia              0   \n",
       "103234  Western Europe  High income  Europe & Central Asia              0   \n",
       "103327  Western Europe  High income  Europe & Central Asia              0   \n",
       "103420  Western Europe  High income  Europe & Central Asia              0   \n",
       "103513  Western Europe  High income  Europe & Central Asia              0   \n",
       "103606  Western Europe  High income  Europe & Central Asia              0   \n",
       "103699  Western Europe  High income  Europe & Central Asia              0   \n",
       "103792  Western Europe  High income  Europe & Central Asia              0   \n",
       "103885  Western Europe  High income  Europe & Central Asia              0   \n",
       "103978  Western Europe  High income  Europe & Central Asia              0   \n",
       "\n",
       "        Continental_Rank  Income_Rank  Category  Dimension  \n",
       "102676              12.0         12.0         0          0  \n",
       "102769              12.0         13.0         0          0  \n",
       "102862              14.0         14.0         0          0  \n",
       "102955              10.0         10.0         0          0  \n",
       "103048              10.0         10.0         0          0  \n",
       "103141              12.0         12.0         0          0  \n",
       "103234              12.0         12.0         0          0  \n",
       "103327              12.0         12.0         0          0  \n",
       "103420              13.0         13.0         0          0  \n",
       "103513              13.0         13.0         0          0  \n",
       "103606              13.0         13.0         0          0  \n",
       "103699              14.0         14.0         0          0  \n",
       "103792              16.0         16.0         0          0  \n",
       "103885              17.0         17.0         0          0  \n",
       "103978              17.0         17.0         0          0  "
      ]
     },
     "execution_count": 6,
     "metadata": {},
     "output_type": "execute_result"
    }
   ],
   "source": [
    "category_heatmap('FRA')"
   ]
  },
  {
   "cell_type": "code",
   "execution_count": null,
   "metadata": {},
   "outputs": [],
   "source": [
    "    REF_1 = 'AVG_' + \"_\".join(data[data.ISO == ISO][[\"IncomeLevel\"]\n",
    "                                                    ].drop_duplicates().values[0].tolist())\n",
    "    REF_2 = 'AVG_' + \"_\".join(data[data.ISO == ISO][[\"Continent\"]\n",
    "                                                    ].drop_duplicates().values[0].tolist())"
   ]
  },
  {
   "cell_type": "code",
   "execution_count": 1,
   "metadata": {
    "ExecuteTime": {
     "end_time": "2021-10-19T08:51:38.611724Z",
     "start_time": "2021-10-19T08:51:38.494157Z"
    }
   },
   "outputs": [
    {
     "data": {
      "text/plain": [
       "3.12"
      ]
     },
     "execution_count": 1,
     "metadata": {},
     "output_type": "execute_result"
    }
   ],
   "source": [
    "0.8 * 3.9"
   ]
  },
  {
   "cell_type": "code",
   "execution_count": 3,
   "metadata": {
    "ExecuteTime": {
     "end_time": "2021-10-04T01:10:00.886798Z",
     "start_time": "2021-10-04T01:10:00.826233Z"
    }
   },
   "outputs": [
    {
     "data": {
      "text/html": [
       "<div>\n",
       "<style scoped>\n",
       "    .dataframe tbody tr th:only-of-type {\n",
       "        vertical-align: middle;\n",
       "    }\n",
       "\n",
       "    .dataframe tbody tr th {\n",
       "        vertical-align: top;\n",
       "    }\n",
       "\n",
       "    .dataframe thead th {\n",
       "        text-align: right;\n",
       "    }\n",
       "</style>\n",
       "<table border=\"1\" class=\"dataframe\">\n",
       "  <thead>\n",
       "    <tr style=\"text-align: right;\">\n",
       "      <th></th>\n",
       "      <th>Variable</th>\n",
       "      <th>ISO</th>\n",
       "      <th>Value</th>\n",
       "      <th>Aggregation</th>\n",
       "      <th>Year</th>\n",
       "      <th>Country</th>\n",
       "      <th>Continent</th>\n",
       "      <th>UNregion</th>\n",
       "      <th>IncomeLevel</th>\n",
       "      <th>Region</th>\n",
       "      <th>Variable_name</th>\n",
       "      <th>Continental_Rank</th>\n",
       "      <th>Income_Rank</th>\n",
       "      <th>Category</th>\n",
       "      <th>Dimension</th>\n",
       "    </tr>\n",
       "  </thead>\n",
       "  <tbody>\n",
       "    <tr>\n",
       "      <th>0</th>\n",
       "      <td>AB1</td>\n",
       "      <td>AFG</td>\n",
       "      <td>NaN</td>\n",
       "      <td>Indicator</td>\n",
       "      <td>2005.0</td>\n",
       "      <td>Afghanistan</td>\n",
       "      <td>Asia</td>\n",
       "      <td>Southern Asia</td>\n",
       "      <td>Low income</td>\n",
       "      <td>South Asia</td>\n",
       "      <td>NaN</td>\n",
       "      <td>NaN</td>\n",
       "      <td>NaN</td>\n",
       "      <td>NaN</td>\n",
       "      <td>NaN</td>\n",
       "    </tr>\n",
       "    <tr>\n",
       "      <th>1</th>\n",
       "      <td>AB2</td>\n",
       "      <td>AFG</td>\n",
       "      <td>18.50</td>\n",
       "      <td>Indicator</td>\n",
       "      <td>2005.0</td>\n",
       "      <td>Afghanistan</td>\n",
       "      <td>Asia</td>\n",
       "      <td>Southern Asia</td>\n",
       "      <td>Low income</td>\n",
       "      <td>South Asia</td>\n",
       "      <td>NaN</td>\n",
       "      <td>62.0</td>\n",
       "      <td>11.0</td>\n",
       "      <td>NaN</td>\n",
       "      <td>NaN</td>\n",
       "    </tr>\n",
       "    <tr>\n",
       "      <th>2</th>\n",
       "      <td>AB3</td>\n",
       "      <td>AFG</td>\n",
       "      <td>2.34</td>\n",
       "      <td>Indicator</td>\n",
       "      <td>2005.0</td>\n",
       "      <td>Afghanistan</td>\n",
       "      <td>Asia</td>\n",
       "      <td>Southern Asia</td>\n",
       "      <td>Low income</td>\n",
       "      <td>South Asia</td>\n",
       "      <td>NaN</td>\n",
       "      <td>85.0</td>\n",
       "      <td>33.0</td>\n",
       "      <td>NaN</td>\n",
       "      <td>NaN</td>\n",
       "    </tr>\n",
       "    <tr>\n",
       "      <th>3</th>\n",
       "      <td>BE1</td>\n",
       "      <td>AFG</td>\n",
       "      <td>0.00</td>\n",
       "      <td>Indicator</td>\n",
       "      <td>2005.0</td>\n",
       "      <td>Afghanistan</td>\n",
       "      <td>Asia</td>\n",
       "      <td>Southern Asia</td>\n",
       "      <td>Low income</td>\n",
       "      <td>South Asia</td>\n",
       "      <td>NaN</td>\n",
       "      <td>86.0</td>\n",
       "      <td>50.0</td>\n",
       "      <td>NaN</td>\n",
       "      <td>NaN</td>\n",
       "    </tr>\n",
       "    <tr>\n",
       "      <th>4</th>\n",
       "      <td>BE2</td>\n",
       "      <td>AFG</td>\n",
       "      <td>2.07</td>\n",
       "      <td>Indicator</td>\n",
       "      <td>2005.0</td>\n",
       "      <td>Afghanistan</td>\n",
       "      <td>Asia</td>\n",
       "      <td>Southern Asia</td>\n",
       "      <td>Low income</td>\n",
       "      <td>South Asia</td>\n",
       "      <td>NaN</td>\n",
       "      <td>64.0</td>\n",
       "      <td>40.0</td>\n",
       "      <td>NaN</td>\n",
       "      <td>NaN</td>\n",
       "    </tr>\n",
       "    <tr>\n",
       "      <th>...</th>\n",
       "      <td>...</td>\n",
       "      <td>...</td>\n",
       "      <td>...</td>\n",
       "      <td>...</td>\n",
       "      <td>...</td>\n",
       "      <td>...</td>\n",
       "      <td>...</td>\n",
       "      <td>...</td>\n",
       "      <td>...</td>\n",
       "      <td>...</td>\n",
       "      <td>...</td>\n",
       "      <td>...</td>\n",
       "      <td>...</td>\n",
       "      <td>...</td>\n",
       "      <td>...</td>\n",
       "    </tr>\n",
       "    <tr>\n",
       "      <th>337117</th>\n",
       "      <td>SP</td>\n",
       "      <td>ZWE</td>\n",
       "      <td>41.40</td>\n",
       "      <td>Category</td>\n",
       "      <td>2019.0</td>\n",
       "      <td>Zimbabwe</td>\n",
       "      <td>Africa</td>\n",
       "      <td>Eastern Africa</td>\n",
       "      <td>Lower middle income</td>\n",
       "      <td>Sub-Saharan Africa</td>\n",
       "      <td>Social protection</td>\n",
       "      <td>12.0</td>\n",
       "      <td>24.0</td>\n",
       "      <td>SP</td>\n",
       "      <td>Social Inclusion</td>\n",
       "    </tr>\n",
       "    <tr>\n",
       "      <th>337118</th>\n",
       "      <td>SI</td>\n",
       "      <td>ZWE</td>\n",
       "      <td>41.71</td>\n",
       "      <td>Dimension</td>\n",
       "      <td>2019.0</td>\n",
       "      <td>Zimbabwe</td>\n",
       "      <td>Africa</td>\n",
       "      <td>Eastern Africa</td>\n",
       "      <td>Lower middle income</td>\n",
       "      <td>Sub-Saharan Africa</td>\n",
       "      <td>Social inclusion</td>\n",
       "      <td>24.0</td>\n",
       "      <td>37.0</td>\n",
       "      <td>NaN</td>\n",
       "      <td>NaN</td>\n",
       "    </tr>\n",
       "    <tr>\n",
       "      <th>337119</th>\n",
       "      <td>NCP</td>\n",
       "      <td>ZWE</td>\n",
       "      <td>78.42</td>\n",
       "      <td>Dimension</td>\n",
       "      <td>2019.0</td>\n",
       "      <td>Zimbabwe</td>\n",
       "      <td>Africa</td>\n",
       "      <td>Eastern Africa</td>\n",
       "      <td>Lower middle income</td>\n",
       "      <td>Sub-Saharan Africa</td>\n",
       "      <td>Natural capital protection</td>\n",
       "      <td>1.0</td>\n",
       "      <td>1.0</td>\n",
       "      <td>NaN</td>\n",
       "      <td>NaN</td>\n",
       "    </tr>\n",
       "    <tr>\n",
       "      <th>337120</th>\n",
       "      <td>ESRU</td>\n",
       "      <td>ZWE</td>\n",
       "      <td>57.58</td>\n",
       "      <td>Dimension</td>\n",
       "      <td>2019.0</td>\n",
       "      <td>Zimbabwe</td>\n",
       "      <td>Africa</td>\n",
       "      <td>Eastern Africa</td>\n",
       "      <td>Lower middle income</td>\n",
       "      <td>Sub-Saharan Africa</td>\n",
       "      <td>Efficient and sustainable resource use</td>\n",
       "      <td>29.0</td>\n",
       "      <td>25.0</td>\n",
       "      <td>NaN</td>\n",
       "      <td>NaN</td>\n",
       "    </tr>\n",
       "    <tr>\n",
       "      <th>337121</th>\n",
       "      <td>GEO</td>\n",
       "      <td>ZWE</td>\n",
       "      <td>4.19</td>\n",
       "      <td>Dimension</td>\n",
       "      <td>2019.0</td>\n",
       "      <td>Zimbabwe</td>\n",
       "      <td>Africa</td>\n",
       "      <td>Eastern Africa</td>\n",
       "      <td>Lower middle income</td>\n",
       "      <td>Sub-Saharan Africa</td>\n",
       "      <td>Green economic opportunities</td>\n",
       "      <td>25.0</td>\n",
       "      <td>34.0</td>\n",
       "      <td>NaN</td>\n",
       "      <td>NaN</td>\n",
       "    </tr>\n",
       "  </tbody>\n",
       "</table>\n",
       "<p>337122 rows × 15 columns</p>\n",
       "</div>"
      ],
      "text/plain": [
       "       Variable  ISO  Value Aggregation    Year      Country Continent  \\\n",
       "0           AB1  AFG    NaN   Indicator  2005.0  Afghanistan      Asia   \n",
       "1           AB2  AFG  18.50   Indicator  2005.0  Afghanistan      Asia   \n",
       "2           AB3  AFG   2.34   Indicator  2005.0  Afghanistan      Asia   \n",
       "3           BE1  AFG   0.00   Indicator  2005.0  Afghanistan      Asia   \n",
       "4           BE2  AFG   2.07   Indicator  2005.0  Afghanistan      Asia   \n",
       "...         ...  ...    ...         ...     ...          ...       ...   \n",
       "337117       SP  ZWE  41.40    Category  2019.0     Zimbabwe    Africa   \n",
       "337118       SI  ZWE  41.71   Dimension  2019.0     Zimbabwe    Africa   \n",
       "337119      NCP  ZWE  78.42   Dimension  2019.0     Zimbabwe    Africa   \n",
       "337120     ESRU  ZWE  57.58   Dimension  2019.0     Zimbabwe    Africa   \n",
       "337121      GEO  ZWE   4.19   Dimension  2019.0     Zimbabwe    Africa   \n",
       "\n",
       "              UNregion          IncomeLevel               Region  \\\n",
       "0        Southern Asia           Low income           South Asia   \n",
       "1        Southern Asia           Low income           South Asia   \n",
       "2        Southern Asia           Low income           South Asia   \n",
       "3        Southern Asia           Low income           South Asia   \n",
       "4        Southern Asia           Low income           South Asia   \n",
       "...                ...                  ...                  ...   \n",
       "337117  Eastern Africa  Lower middle income  Sub-Saharan Africa    \n",
       "337118  Eastern Africa  Lower middle income  Sub-Saharan Africa    \n",
       "337119  Eastern Africa  Lower middle income  Sub-Saharan Africa    \n",
       "337120  Eastern Africa  Lower middle income  Sub-Saharan Africa    \n",
       "337121  Eastern Africa  Lower middle income  Sub-Saharan Africa    \n",
       "\n",
       "                                 Variable_name  Continental_Rank  Income_Rank  \\\n",
       "0                                          NaN               NaN          NaN   \n",
       "1                                          NaN              62.0         11.0   \n",
       "2                                          NaN              85.0         33.0   \n",
       "3                                          NaN              86.0         50.0   \n",
       "4                                          NaN              64.0         40.0   \n",
       "...                                        ...               ...          ...   \n",
       "337117                       Social protection              12.0         24.0   \n",
       "337118                        Social inclusion              24.0         37.0   \n",
       "337119              Natural capital protection               1.0          1.0   \n",
       "337120  Efficient and sustainable resource use              29.0         25.0   \n",
       "337121            Green economic opportunities              25.0         34.0   \n",
       "\n",
       "       Category         Dimension  \n",
       "0           NaN               NaN  \n",
       "1           NaN               NaN  \n",
       "2           NaN               NaN  \n",
       "3           NaN               NaN  \n",
       "4           NaN               NaN  \n",
       "...         ...               ...  \n",
       "337117       SP  Social Inclusion  \n",
       "337118      NaN               NaN  \n",
       "337119      NaN               NaN  \n",
       "337120      NaN               NaN  \n",
       "337121      NaN               NaN  \n",
       "\n",
       "[337122 rows x 15 columns]"
      ]
     },
     "execution_count": 3,
     "metadata": {},
     "output_type": "execute_result"
    }
   ],
   "source": [
    "data.loc['']"
   ]
  },
  {
   "cell_type": "code",
   "execution_count": 155,
   "metadata": {
    "ExecuteTime": {
     "end_time": "2021-09-15T01:58:32.246301Z",
     "start_time": "2021-09-15T01:58:32.230511Z"
    }
   },
   "outputs": [],
   "source": [
    "import plotly.express as px\n",
    "\n",
    "\n",
    "def missing_bar_plot(ISO):\n",
    "    cats = ['EE', 'EW', 'SL', 'ME',\n",
    "            'EQ', 'GE', 'BE', 'CV',\n",
    "            'AB', 'GB', 'SE', 'SP',\n",
    "            'GV', 'GT', 'GJ', 'GN']\n",
    "    \n",
    "\n",
    "    plot_df = (\n",
    "        missing_data.loc[ISO].reset_index().merge(indicator_properties[['Category', \"Dimension\"]].drop_duplicates(), on='Category')\n",
    "                    .merge(data[['Variable_name', 'Variable']].drop_duplicates(), left_on='Category', right_on='Variable')\n",
    "    )\n",
    "    plot_df_bis = plot_df.copy().assign(Dimension='Missing')\n",
    "    plot_df_bis['Data availability (%)'] = (100 - plot_df_bis['Data availability (%)']).round(2)\n",
    "\n",
    "    plot_df = pd.concat([plot_df, plot_df_bis])\n",
    "    fig = px.bar(plot_df,\n",
    "             y='Category',\n",
    "             x='Data availability (%)',\n",
    "             color='Dimension',\n",
    "             barmode='stack',\n",
    "             orientation='h',\n",
    "            text='Data availability (%)',\n",
    "             hover_data={'Variable_name': True, 'Dimension': False, 'Data availability (%)': False},\n",
    "            labels={'Variable_name': 'Category'},\n",
    "            color_discrete_map={\n",
    "                           \"Social Inclusion\": \"#d9b5c9\",\n",
    "                           \"Natural Capital Protection\": \"#f7be49\",\n",
    "                           \"Efficient and Sustainable Resource Use\": \"#8fd1e7\",\n",
    "                           \"Green Economic Opportunities\": \"#9dcc93\",\n",
    "                           \"Missing\": '#D3D3D3'\n",
    "                       },\n",
    "                ).update_layout(height=1000,\n",
    "                                plot_bgcolor='rgba(0, 0, 0, 0)',\n",
    "                                legend=dict(\n",
    "        yanchor=\"top\",\n",
    "        y=-0.05,\n",
    "        xanchor=\"center\",\n",
    "        x=0,\n",
    "        title=''\n",
    "        \n",
    "    ),\n",
    "    ).update_traces(texttemplate='%{text:.2s}%', textposition='inside', textfont=dict(\n",
    "        family=\"sans serif\",\n",
    "        size=18,\n",
    "        color=\"white\"\n",
    "    )).update_yaxes(title=\"\").update_xaxes(showticklabels=False)\n",
    "\n",
    "    return fig\n"
   ]
  },
  {
   "cell_type": "code",
   "execution_count": 156,
   "metadata": {
    "ExecuteTime": {
     "end_time": "2021-09-15T01:58:32.511074Z",
     "start_time": "2021-09-15T01:58:32.357297Z"
    }
   },
   "outputs": [
    {
     "data": {
      "application/vnd.plotly.v1+json": {
       "config": {
        "plotlyServerURL": "https://plot.ly"
       },
       "data": [
        {
         "alignmentgroup": "True",
         "customdata": [
          [
           "Greenhouse gas emissions reductions",
           "Natural Capital Protection"
          ],
          [
           "Cultural and social value",
           "Natural Capital Protection"
          ],
          [
           "Biodiversity and ecosystem protection",
           "Natural Capital Protection"
          ],
          [
           "Environmental quality",
           "Natural Capital Protection"
          ]
         ],
         "hovertemplate": "Category=%{customdata[0]}<extra></extra>",
         "legendgroup": "Natural Capital Protection",
         "marker": {
          "color": "#f7be49"
         },
         "name": "Natural Capital Protection",
         "offsetgroup": "Natural Capital Protection",
         "orientation": "h",
         "showlegend": true,
         "text": [
          100,
          57.8,
          73.3,
          51.1
         ],
         "textfont": {
          "color": "white",
          "family": "sans serif",
          "size": 18
         },
         "textposition": "inside",
         "texttemplate": "%{text:.2s}%",
         "type": "bar",
         "x": [
          100,
          57.8,
          73.3,
          51.1
         ],
         "xaxis": "x",
         "y": [
          "GE",
          "CV",
          "BE",
          "EQ"
         ],
         "yaxis": "y"
        },
        {
         "alignmentgroup": "True",
         "customdata": [
          [
           "Social equity",
           "Social Inclusion"
          ],
          [
           "Gender balance",
           "Social Inclusion"
          ],
          [
           "Social protection",
           "Social Inclusion"
          ],
          [
           "Access to basic services and resources",
           "Social Inclusion"
          ]
         ],
         "hovertemplate": "Category=%{customdata[0]}<extra></extra>",
         "legendgroup": "Social Inclusion",
         "marker": {
          "color": "#d9b5c9"
         },
         "name": "Social Inclusion",
         "offsetgroup": "Social Inclusion",
         "orientation": "h",
         "showlegend": true,
         "text": [
          97.8,
          97.8,
          46.7,
          100
         ],
         "textfont": {
          "color": "white",
          "family": "sans serif",
          "size": 18
         },
         "textposition": "inside",
         "texttemplate": "%{text:.2s}%",
         "type": "bar",
         "x": [
          97.8,
          97.8,
          46.7,
          100
         ],
         "xaxis": "x",
         "y": [
          "SE",
          "GB",
          "SP",
          "AB"
         ],
         "yaxis": "y"
        },
        {
         "alignmentgroup": "True",
         "customdata": [
          [
           "Material use efficiency",
           "Efficient and Sustainable Resource Use"
          ],
          [
           "Efficient and and sustainable energy",
           "Efficient and Sustainable Resource Use"
          ],
          [
           "Efficient and sustainable water use",
           "Efficient and Sustainable Resource Use"
          ],
          [
           "Sustainable land use",
           "Efficient and Sustainable Resource Use"
          ]
         ],
         "hovertemplate": "Category=%{customdata[0]}<extra></extra>",
         "legendgroup": "Efficient and Sustainable Resource Use",
         "marker": {
          "color": "#8fd1e7"
         },
         "name": "Efficient and Sustainable Resource Use",
         "offsetgroup": "Efficient and Sustainable Resource Use",
         "orientation": "h",
         "showlegend": true,
         "text": [
          73.3,
          86.7,
          86.7,
          86.7
         ],
         "textfont": {
          "color": "white",
          "family": "sans serif",
          "size": 18
         },
         "textposition": "inside",
         "texttemplate": "%{text:.2s}%",
         "type": "bar",
         "x": [
          73.3,
          86.7,
          86.7,
          86.7
         ],
         "xaxis": "x",
         "y": [
          "ME",
          "EE",
          "EW",
          "SL"
         ],
         "yaxis": "y"
        },
        {
         "alignmentgroup": "True",
         "customdata": [
          [
           "Green innovation",
           "Green Economic Opportunities"
          ],
          [
           "Green investment",
           "Green Economic Opportunities"
          ],
          [
           "Green trade",
           "Green Economic Opportunities"
          ],
          [
           "Green employment",
           "Green Economic Opportunities"
          ]
         ],
         "hovertemplate": "Category=%{customdata[0]}<extra></extra>",
         "legendgroup": "Green Economic Opportunities",
         "marker": {
          "color": "#9dcc93"
         },
         "name": "Green Economic Opportunities",
         "offsetgroup": "Green Economic Opportunities",
         "orientation": "h",
         "showlegend": true,
         "text": [
          86.7,
          93.3,
          100,
          86.7
         ],
         "textfont": {
          "color": "white",
          "family": "sans serif",
          "size": 18
         },
         "textposition": "inside",
         "texttemplate": "%{text:.2s}%",
         "type": "bar",
         "x": [
          86.7,
          93.3,
          100,
          86.7
         ],
         "xaxis": "x",
         "y": [
          "GN",
          "GV",
          "GT",
          "GJ"
         ],
         "yaxis": "y"
        },
        {
         "alignmentgroup": "True",
         "customdata": [
          [
           "Greenhouse gas emissions reductions",
           "Missing"
          ],
          [
           "Social equity",
           "Missing"
          ],
          [
           "Material use efficiency",
           "Missing"
          ],
          [
           "Gender balance",
           "Missing"
          ],
          [
           "Green innovation",
           "Missing"
          ],
          [
           "Cultural and social value",
           "Missing"
          ],
          [
           "Efficient and and sustainable energy",
           "Missing"
          ],
          [
           "Biodiversity and ecosystem protection",
           "Missing"
          ],
          [
           "Environmental quality",
           "Missing"
          ],
          [
           "Social protection",
           "Missing"
          ],
          [
           "Green investment",
           "Missing"
          ],
          [
           "Access to basic services and resources",
           "Missing"
          ],
          [
           "Green trade",
           "Missing"
          ],
          [
           "Efficient and sustainable water use",
           "Missing"
          ],
          [
           "Sustainable land use",
           "Missing"
          ],
          [
           "Green employment",
           "Missing"
          ]
         ],
         "hovertemplate": "Category=%{customdata[0]}<extra></extra>",
         "legendgroup": "Missing",
         "marker": {
          "color": "#D3D3D3"
         },
         "name": "Missing",
         "offsetgroup": "Missing",
         "orientation": "h",
         "showlegend": true,
         "text": [
          0,
          2.2,
          26.7,
          2.2,
          13.3,
          42.2,
          13.3,
          26.7,
          48.9,
          53.3,
          6.7,
          0,
          0,
          13.3,
          13.3,
          13.3
         ],
         "textfont": {
          "color": "white",
          "family": "sans serif",
          "size": 18
         },
         "textposition": "inside",
         "texttemplate": "%{text:.2s}%",
         "type": "bar",
         "x": [
          0,
          2.2,
          26.7,
          2.2,
          13.3,
          42.2,
          13.3,
          26.7,
          48.9,
          53.3,
          6.7,
          0,
          0,
          13.3,
          13.3,
          13.3
         ],
         "xaxis": "x",
         "y": [
          "GE",
          "SE",
          "ME",
          "GB",
          "GN",
          "CV",
          "EE",
          "BE",
          "EQ",
          "SP",
          "GV",
          "AB",
          "GT",
          "EW",
          "SL",
          "GJ"
         ],
         "yaxis": "y"
        }
       ],
       "layout": {
        "barmode": "stack",
        "height": 1000,
        "legend": {
         "title": {
          "text": ""
         },
         "tracegroupgap": 0,
         "x": 0,
         "xanchor": "center",
         "y": -0.05,
         "yanchor": "top"
        },
        "margin": {
         "t": 60
        },
        "plot_bgcolor": "rgba(0, 0, 0, 0)",
        "template": {
         "data": {
          "bar": [
           {
            "error_x": {
             "color": "#2a3f5f"
            },
            "error_y": {
             "color": "#2a3f5f"
            },
            "marker": {
             "line": {
              "color": "#E5ECF6",
              "width": 0.5
             }
            },
            "type": "bar"
           }
          ],
          "barpolar": [
           {
            "marker": {
             "line": {
              "color": "#E5ECF6",
              "width": 0.5
             }
            },
            "type": "barpolar"
           }
          ],
          "carpet": [
           {
            "aaxis": {
             "endlinecolor": "#2a3f5f",
             "gridcolor": "white",
             "linecolor": "white",
             "minorgridcolor": "white",
             "startlinecolor": "#2a3f5f"
            },
            "baxis": {
             "endlinecolor": "#2a3f5f",
             "gridcolor": "white",
             "linecolor": "white",
             "minorgridcolor": "white",
             "startlinecolor": "#2a3f5f"
            },
            "type": "carpet"
           }
          ],
          "choropleth": [
           {
            "colorbar": {
             "outlinewidth": 0,
             "ticks": ""
            },
            "type": "choropleth"
           }
          ],
          "contour": [
           {
            "colorbar": {
             "outlinewidth": 0,
             "ticks": ""
            },
            "colorscale": [
             [
              0,
              "#0d0887"
             ],
             [
              0.1111111111111111,
              "#46039f"
             ],
             [
              0.2222222222222222,
              "#7201a8"
             ],
             [
              0.3333333333333333,
              "#9c179e"
             ],
             [
              0.4444444444444444,
              "#bd3786"
             ],
             [
              0.5555555555555556,
              "#d8576b"
             ],
             [
              0.6666666666666666,
              "#ed7953"
             ],
             [
              0.7777777777777778,
              "#fb9f3a"
             ],
             [
              0.8888888888888888,
              "#fdca26"
             ],
             [
              1,
              "#f0f921"
             ]
            ],
            "type": "contour"
           }
          ],
          "contourcarpet": [
           {
            "colorbar": {
             "outlinewidth": 0,
             "ticks": ""
            },
            "type": "contourcarpet"
           }
          ],
          "heatmap": [
           {
            "colorbar": {
             "outlinewidth": 0,
             "ticks": ""
            },
            "colorscale": [
             [
              0,
              "#0d0887"
             ],
             [
              0.1111111111111111,
              "#46039f"
             ],
             [
              0.2222222222222222,
              "#7201a8"
             ],
             [
              0.3333333333333333,
              "#9c179e"
             ],
             [
              0.4444444444444444,
              "#bd3786"
             ],
             [
              0.5555555555555556,
              "#d8576b"
             ],
             [
              0.6666666666666666,
              "#ed7953"
             ],
             [
              0.7777777777777778,
              "#fb9f3a"
             ],
             [
              0.8888888888888888,
              "#fdca26"
             ],
             [
              1,
              "#f0f921"
             ]
            ],
            "type": "heatmap"
           }
          ],
          "heatmapgl": [
           {
            "colorbar": {
             "outlinewidth": 0,
             "ticks": ""
            },
            "colorscale": [
             [
              0,
              "#0d0887"
             ],
             [
              0.1111111111111111,
              "#46039f"
             ],
             [
              0.2222222222222222,
              "#7201a8"
             ],
             [
              0.3333333333333333,
              "#9c179e"
             ],
             [
              0.4444444444444444,
              "#bd3786"
             ],
             [
              0.5555555555555556,
              "#d8576b"
             ],
             [
              0.6666666666666666,
              "#ed7953"
             ],
             [
              0.7777777777777778,
              "#fb9f3a"
             ],
             [
              0.8888888888888888,
              "#fdca26"
             ],
             [
              1,
              "#f0f921"
             ]
            ],
            "type": "heatmapgl"
           }
          ],
          "histogram": [
           {
            "marker": {
             "colorbar": {
              "outlinewidth": 0,
              "ticks": ""
             }
            },
            "type": "histogram"
           }
          ],
          "histogram2d": [
           {
            "colorbar": {
             "outlinewidth": 0,
             "ticks": ""
            },
            "colorscale": [
             [
              0,
              "#0d0887"
             ],
             [
              0.1111111111111111,
              "#46039f"
             ],
             [
              0.2222222222222222,
              "#7201a8"
             ],
             [
              0.3333333333333333,
              "#9c179e"
             ],
             [
              0.4444444444444444,
              "#bd3786"
             ],
             [
              0.5555555555555556,
              "#d8576b"
             ],
             [
              0.6666666666666666,
              "#ed7953"
             ],
             [
              0.7777777777777778,
              "#fb9f3a"
             ],
             [
              0.8888888888888888,
              "#fdca26"
             ],
             [
              1,
              "#f0f921"
             ]
            ],
            "type": "histogram2d"
           }
          ],
          "histogram2dcontour": [
           {
            "colorbar": {
             "outlinewidth": 0,
             "ticks": ""
            },
            "colorscale": [
             [
              0,
              "#0d0887"
             ],
             [
              0.1111111111111111,
              "#46039f"
             ],
             [
              0.2222222222222222,
              "#7201a8"
             ],
             [
              0.3333333333333333,
              "#9c179e"
             ],
             [
              0.4444444444444444,
              "#bd3786"
             ],
             [
              0.5555555555555556,
              "#d8576b"
             ],
             [
              0.6666666666666666,
              "#ed7953"
             ],
             [
              0.7777777777777778,
              "#fb9f3a"
             ],
             [
              0.8888888888888888,
              "#fdca26"
             ],
             [
              1,
              "#f0f921"
             ]
            ],
            "type": "histogram2dcontour"
           }
          ],
          "mesh3d": [
           {
            "colorbar": {
             "outlinewidth": 0,
             "ticks": ""
            },
            "type": "mesh3d"
           }
          ],
          "parcoords": [
           {
            "line": {
             "colorbar": {
              "outlinewidth": 0,
              "ticks": ""
             }
            },
            "type": "parcoords"
           }
          ],
          "pie": [
           {
            "automargin": true,
            "type": "pie"
           }
          ],
          "scatter": [
           {
            "marker": {
             "colorbar": {
              "outlinewidth": 0,
              "ticks": ""
             }
            },
            "type": "scatter"
           }
          ],
          "scatter3d": [
           {
            "line": {
             "colorbar": {
              "outlinewidth": 0,
              "ticks": ""
             }
            },
            "marker": {
             "colorbar": {
              "outlinewidth": 0,
              "ticks": ""
             }
            },
            "type": "scatter3d"
           }
          ],
          "scattercarpet": [
           {
            "marker": {
             "colorbar": {
              "outlinewidth": 0,
              "ticks": ""
             }
            },
            "type": "scattercarpet"
           }
          ],
          "scattergeo": [
           {
            "marker": {
             "colorbar": {
              "outlinewidth": 0,
              "ticks": ""
             }
            },
            "type": "scattergeo"
           }
          ],
          "scattergl": [
           {
            "marker": {
             "colorbar": {
              "outlinewidth": 0,
              "ticks": ""
             }
            },
            "type": "scattergl"
           }
          ],
          "scattermapbox": [
           {
            "marker": {
             "colorbar": {
              "outlinewidth": 0,
              "ticks": ""
             }
            },
            "type": "scattermapbox"
           }
          ],
          "scatterpolar": [
           {
            "marker": {
             "colorbar": {
              "outlinewidth": 0,
              "ticks": ""
             }
            },
            "type": "scatterpolar"
           }
          ],
          "scatterpolargl": [
           {
            "marker": {
             "colorbar": {
              "outlinewidth": 0,
              "ticks": ""
             }
            },
            "type": "scatterpolargl"
           }
          ],
          "scatterternary": [
           {
            "marker": {
             "colorbar": {
              "outlinewidth": 0,
              "ticks": ""
             }
            },
            "type": "scatterternary"
           }
          ],
          "surface": [
           {
            "colorbar": {
             "outlinewidth": 0,
             "ticks": ""
            },
            "colorscale": [
             [
              0,
              "#0d0887"
             ],
             [
              0.1111111111111111,
              "#46039f"
             ],
             [
              0.2222222222222222,
              "#7201a8"
             ],
             [
              0.3333333333333333,
              "#9c179e"
             ],
             [
              0.4444444444444444,
              "#bd3786"
             ],
             [
              0.5555555555555556,
              "#d8576b"
             ],
             [
              0.6666666666666666,
              "#ed7953"
             ],
             [
              0.7777777777777778,
              "#fb9f3a"
             ],
             [
              0.8888888888888888,
              "#fdca26"
             ],
             [
              1,
              "#f0f921"
             ]
            ],
            "type": "surface"
           }
          ],
          "table": [
           {
            "cells": {
             "fill": {
              "color": "#EBF0F8"
             },
             "line": {
              "color": "white"
             }
            },
            "header": {
             "fill": {
              "color": "#C8D4E3"
             },
             "line": {
              "color": "white"
             }
            },
            "type": "table"
           }
          ]
         },
         "layout": {
          "annotationdefaults": {
           "arrowcolor": "#2a3f5f",
           "arrowhead": 0,
           "arrowwidth": 1
          },
          "autotypenumbers": "strict",
          "coloraxis": {
           "colorbar": {
            "outlinewidth": 0,
            "ticks": ""
           }
          },
          "colorscale": {
           "diverging": [
            [
             0,
             "#8e0152"
            ],
            [
             0.1,
             "#c51b7d"
            ],
            [
             0.2,
             "#de77ae"
            ],
            [
             0.3,
             "#f1b6da"
            ],
            [
             0.4,
             "#fde0ef"
            ],
            [
             0.5,
             "#f7f7f7"
            ],
            [
             0.6,
             "#e6f5d0"
            ],
            [
             0.7,
             "#b8e186"
            ],
            [
             0.8,
             "#7fbc41"
            ],
            [
             0.9,
             "#4d9221"
            ],
            [
             1,
             "#276419"
            ]
           ],
           "sequential": [
            [
             0,
             "#0d0887"
            ],
            [
             0.1111111111111111,
             "#46039f"
            ],
            [
             0.2222222222222222,
             "#7201a8"
            ],
            [
             0.3333333333333333,
             "#9c179e"
            ],
            [
             0.4444444444444444,
             "#bd3786"
            ],
            [
             0.5555555555555556,
             "#d8576b"
            ],
            [
             0.6666666666666666,
             "#ed7953"
            ],
            [
             0.7777777777777778,
             "#fb9f3a"
            ],
            [
             0.8888888888888888,
             "#fdca26"
            ],
            [
             1,
             "#f0f921"
            ]
           ],
           "sequentialminus": [
            [
             0,
             "#0d0887"
            ],
            [
             0.1111111111111111,
             "#46039f"
            ],
            [
             0.2222222222222222,
             "#7201a8"
            ],
            [
             0.3333333333333333,
             "#9c179e"
            ],
            [
             0.4444444444444444,
             "#bd3786"
            ],
            [
             0.5555555555555556,
             "#d8576b"
            ],
            [
             0.6666666666666666,
             "#ed7953"
            ],
            [
             0.7777777777777778,
             "#fb9f3a"
            ],
            [
             0.8888888888888888,
             "#fdca26"
            ],
            [
             1,
             "#f0f921"
            ]
           ]
          },
          "colorway": [
           "#636efa",
           "#EF553B",
           "#00cc96",
           "#ab63fa",
           "#FFA15A",
           "#19d3f3",
           "#FF6692",
           "#B6E880",
           "#FF97FF",
           "#FECB52"
          ],
          "font": {
           "color": "#2a3f5f"
          },
          "geo": {
           "bgcolor": "white",
           "lakecolor": "white",
           "landcolor": "#E5ECF6",
           "showlakes": true,
           "showland": true,
           "subunitcolor": "white"
          },
          "hoverlabel": {
           "align": "left"
          },
          "hovermode": "closest",
          "mapbox": {
           "style": "light"
          },
          "paper_bgcolor": "white",
          "plot_bgcolor": "#E5ECF6",
          "polar": {
           "angularaxis": {
            "gridcolor": "white",
            "linecolor": "white",
            "ticks": ""
           },
           "bgcolor": "#E5ECF6",
           "radialaxis": {
            "gridcolor": "white",
            "linecolor": "white",
            "ticks": ""
           }
          },
          "scene": {
           "xaxis": {
            "backgroundcolor": "#E5ECF6",
            "gridcolor": "white",
            "gridwidth": 2,
            "linecolor": "white",
            "showbackground": true,
            "ticks": "",
            "zerolinecolor": "white"
           },
           "yaxis": {
            "backgroundcolor": "#E5ECF6",
            "gridcolor": "white",
            "gridwidth": 2,
            "linecolor": "white",
            "showbackground": true,
            "ticks": "",
            "zerolinecolor": "white"
           },
           "zaxis": {
            "backgroundcolor": "#E5ECF6",
            "gridcolor": "white",
            "gridwidth": 2,
            "linecolor": "white",
            "showbackground": true,
            "ticks": "",
            "zerolinecolor": "white"
           }
          },
          "shapedefaults": {
           "line": {
            "color": "#2a3f5f"
           }
          },
          "ternary": {
           "aaxis": {
            "gridcolor": "white",
            "linecolor": "white",
            "ticks": ""
           },
           "baxis": {
            "gridcolor": "white",
            "linecolor": "white",
            "ticks": ""
           },
           "bgcolor": "#E5ECF6",
           "caxis": {
            "gridcolor": "white",
            "linecolor": "white",
            "ticks": ""
           }
          },
          "title": {
           "x": 0.05
          },
          "xaxis": {
           "automargin": true,
           "gridcolor": "white",
           "linecolor": "white",
           "ticks": "",
           "title": {
            "standoff": 15
           },
           "zerolinecolor": "white",
           "zerolinewidth": 2
          },
          "yaxis": {
           "automargin": true,
           "gridcolor": "white",
           "linecolor": "white",
           "ticks": "",
           "title": {
            "standoff": 15
           },
           "zerolinecolor": "white",
           "zerolinewidth": 2
          }
         }
        },
        "xaxis": {
         "anchor": "y",
         "domain": [
          0,
          1
         ],
         "showticklabels": false,
         "title": {
          "text": "Data availability (%)"
         }
        },
        "yaxis": {
         "anchor": "x",
         "domain": [
          0,
          1
         ],
         "title": {
          "text": ""
         }
        }
       }
      },
      "text/html": [
       "<div>                            <div id=\"d3a3bb9e-5bad-442b-ab87-1c1203710859\" class=\"plotly-graph-div\" style=\"height:1000px; width:100%;\"></div>            <script type=\"text/javascript\">                require([\"plotly\"], function(Plotly) {                    window.PLOTLYENV=window.PLOTLYENV || {};                                    if (document.getElementById(\"d3a3bb9e-5bad-442b-ab87-1c1203710859\")) {                    Plotly.newPlot(                        \"d3a3bb9e-5bad-442b-ab87-1c1203710859\",                        [{\"alignmentgroup\": \"True\", \"customdata\": [[\"Greenhouse gas emissions reductions\", \"Natural Capital Protection\"], [\"Cultural and social value\", \"Natural Capital Protection\"], [\"Biodiversity and ecosystem protection\", \"Natural Capital Protection\"], [\"Environmental quality\", \"Natural Capital Protection\"]], \"hovertemplate\": \"Category=%{customdata[0]}<extra></extra>\", \"legendgroup\": \"Natural Capital Protection\", \"marker\": {\"color\": \"#f7be49\"}, \"name\": \"Natural Capital Protection\", \"offsetgroup\": \"Natural Capital Protection\", \"orientation\": \"h\", \"showlegend\": true, \"text\": [100.0, 57.8, 73.3, 51.1], \"textfont\": {\"color\": \"white\", \"family\": \"sans serif\", \"size\": 18}, \"textposition\": \"inside\", \"texttemplate\": \"%{text:.2s}%\", \"type\": \"bar\", \"x\": [100.0, 57.8, 73.3, 51.1], \"xaxis\": \"x\", \"y\": [\"GE\", \"CV\", \"BE\", \"EQ\"], \"yaxis\": \"y\"}, {\"alignmentgroup\": \"True\", \"customdata\": [[\"Social equity\", \"Social Inclusion\"], [\"Gender balance\", \"Social Inclusion\"], [\"Social protection\", \"Social Inclusion\"], [\"Access to basic services and resources\", \"Social Inclusion\"]], \"hovertemplate\": \"Category=%{customdata[0]}<extra></extra>\", \"legendgroup\": \"Social Inclusion\", \"marker\": {\"color\": \"#d9b5c9\"}, \"name\": \"Social Inclusion\", \"offsetgroup\": \"Social Inclusion\", \"orientation\": \"h\", \"showlegend\": true, \"text\": [97.8, 97.8, 46.7, 100.0], \"textfont\": {\"color\": \"white\", \"family\": \"sans serif\", \"size\": 18}, \"textposition\": \"inside\", \"texttemplate\": \"%{text:.2s}%\", \"type\": \"bar\", \"x\": [97.8, 97.8, 46.7, 100.0], \"xaxis\": \"x\", \"y\": [\"SE\", \"GB\", \"SP\", \"AB\"], \"yaxis\": \"y\"}, {\"alignmentgroup\": \"True\", \"customdata\": [[\"Material use efficiency\", \"Efficient and Sustainable Resource Use\"], [\"Efficient and and sustainable energy\", \"Efficient and Sustainable Resource Use\"], [\"Efficient and sustainable water use\", \"Efficient and Sustainable Resource Use\"], [\"Sustainable land use\", \"Efficient and Sustainable Resource Use\"]], \"hovertemplate\": \"Category=%{customdata[0]}<extra></extra>\", \"legendgroup\": \"Efficient and Sustainable Resource Use\", \"marker\": {\"color\": \"#8fd1e7\"}, \"name\": \"Efficient and Sustainable Resource Use\", \"offsetgroup\": \"Efficient and Sustainable Resource Use\", \"orientation\": \"h\", \"showlegend\": true, \"text\": [73.3, 86.7, 86.7, 86.7], \"textfont\": {\"color\": \"white\", \"family\": \"sans serif\", \"size\": 18}, \"textposition\": \"inside\", \"texttemplate\": \"%{text:.2s}%\", \"type\": \"bar\", \"x\": [73.3, 86.7, 86.7, 86.7], \"xaxis\": \"x\", \"y\": [\"ME\", \"EE\", \"EW\", \"SL\"], \"yaxis\": \"y\"}, {\"alignmentgroup\": \"True\", \"customdata\": [[\"Green innovation\", \"Green Economic Opportunities\"], [\"Green investment\", \"Green Economic Opportunities\"], [\"Green trade\", \"Green Economic Opportunities\"], [\"Green employment\", \"Green Economic Opportunities\"]], \"hovertemplate\": \"Category=%{customdata[0]}<extra></extra>\", \"legendgroup\": \"Green Economic Opportunities\", \"marker\": {\"color\": \"#9dcc93\"}, \"name\": \"Green Economic Opportunities\", \"offsetgroup\": \"Green Economic Opportunities\", \"orientation\": \"h\", \"showlegend\": true, \"text\": [86.7, 93.3, 100.0, 86.7], \"textfont\": {\"color\": \"white\", \"family\": \"sans serif\", \"size\": 18}, \"textposition\": \"inside\", \"texttemplate\": \"%{text:.2s}%\", \"type\": \"bar\", \"x\": [86.7, 93.3, 100.0, 86.7], \"xaxis\": \"x\", \"y\": [\"GN\", \"GV\", \"GT\", \"GJ\"], \"yaxis\": \"y\"}, {\"alignmentgroup\": \"True\", \"customdata\": [[\"Greenhouse gas emissions reductions\", \"Missing\"], [\"Social equity\", \"Missing\"], [\"Material use efficiency\", \"Missing\"], [\"Gender balance\", \"Missing\"], [\"Green innovation\", \"Missing\"], [\"Cultural and social value\", \"Missing\"], [\"Efficient and and sustainable energy\", \"Missing\"], [\"Biodiversity and ecosystem protection\", \"Missing\"], [\"Environmental quality\", \"Missing\"], [\"Social protection\", \"Missing\"], [\"Green investment\", \"Missing\"], [\"Access to basic services and resources\", \"Missing\"], [\"Green trade\", \"Missing\"], [\"Efficient and sustainable water use\", \"Missing\"], [\"Sustainable land use\", \"Missing\"], [\"Green employment\", \"Missing\"]], \"hovertemplate\": \"Category=%{customdata[0]}<extra></extra>\", \"legendgroup\": \"Missing\", \"marker\": {\"color\": \"#D3D3D3\"}, \"name\": \"Missing\", \"offsetgroup\": \"Missing\", \"orientation\": \"h\", \"showlegend\": true, \"text\": [0.0, 2.2, 26.7, 2.2, 13.3, 42.2, 13.3, 26.7, 48.9, 53.3, 6.7, 0.0, 0.0, 13.3, 13.3, 13.3], \"textfont\": {\"color\": \"white\", \"family\": \"sans serif\", \"size\": 18}, \"textposition\": \"inside\", \"texttemplate\": \"%{text:.2s}%\", \"type\": \"bar\", \"x\": [0.0, 2.2, 26.7, 2.2, 13.3, 42.2, 13.3, 26.7, 48.9, 53.3, 6.7, 0.0, 0.0, 13.3, 13.3, 13.3], \"xaxis\": \"x\", \"y\": [\"GE\", \"SE\", \"ME\", \"GB\", \"GN\", \"CV\", \"EE\", \"BE\", \"EQ\", \"SP\", \"GV\", \"AB\", \"GT\", \"EW\", \"SL\", \"GJ\"], \"yaxis\": \"y\"}],                        {\"barmode\": \"stack\", \"height\": 1000, \"legend\": {\"title\": {\"text\": \"\"}, \"tracegroupgap\": 0, \"x\": 0, \"xanchor\": \"center\", \"y\": -0.05, \"yanchor\": \"top\"}, \"margin\": {\"t\": 60}, \"plot_bgcolor\": \"rgba(0, 0, 0, 0)\", \"template\": {\"data\": {\"bar\": [{\"error_x\": {\"color\": \"#2a3f5f\"}, \"error_y\": {\"color\": \"#2a3f5f\"}, \"marker\": {\"line\": {\"color\": \"#E5ECF6\", \"width\": 0.5}}, \"type\": \"bar\"}], \"barpolar\": [{\"marker\": {\"line\": {\"color\": \"#E5ECF6\", \"width\": 0.5}}, \"type\": \"barpolar\"}], \"carpet\": [{\"aaxis\": {\"endlinecolor\": \"#2a3f5f\", \"gridcolor\": \"white\", \"linecolor\": \"white\", \"minorgridcolor\": \"white\", \"startlinecolor\": \"#2a3f5f\"}, \"baxis\": {\"endlinecolor\": \"#2a3f5f\", \"gridcolor\": \"white\", \"linecolor\": \"white\", \"minorgridcolor\": \"white\", \"startlinecolor\": \"#2a3f5f\"}, \"type\": \"carpet\"}], \"choropleth\": [{\"colorbar\": {\"outlinewidth\": 0, \"ticks\": \"\"}, \"type\": \"choropleth\"}], \"contour\": [{\"colorbar\": {\"outlinewidth\": 0, \"ticks\": \"\"}, \"colorscale\": [[0.0, \"#0d0887\"], [0.1111111111111111, \"#46039f\"], [0.2222222222222222, \"#7201a8\"], [0.3333333333333333, \"#9c179e\"], [0.4444444444444444, \"#bd3786\"], [0.5555555555555556, \"#d8576b\"], [0.6666666666666666, \"#ed7953\"], [0.7777777777777778, \"#fb9f3a\"], [0.8888888888888888, \"#fdca26\"], [1.0, \"#f0f921\"]], \"type\": \"contour\"}], \"contourcarpet\": [{\"colorbar\": {\"outlinewidth\": 0, \"ticks\": \"\"}, \"type\": \"contourcarpet\"}], \"heatmap\": [{\"colorbar\": {\"outlinewidth\": 0, \"ticks\": \"\"}, \"colorscale\": [[0.0, \"#0d0887\"], [0.1111111111111111, \"#46039f\"], [0.2222222222222222, \"#7201a8\"], [0.3333333333333333, \"#9c179e\"], [0.4444444444444444, \"#bd3786\"], [0.5555555555555556, \"#d8576b\"], [0.6666666666666666, \"#ed7953\"], [0.7777777777777778, \"#fb9f3a\"], [0.8888888888888888, \"#fdca26\"], [1.0, \"#f0f921\"]], \"type\": \"heatmap\"}], \"heatmapgl\": [{\"colorbar\": {\"outlinewidth\": 0, \"ticks\": \"\"}, \"colorscale\": [[0.0, \"#0d0887\"], [0.1111111111111111, \"#46039f\"], [0.2222222222222222, \"#7201a8\"], [0.3333333333333333, \"#9c179e\"], [0.4444444444444444, \"#bd3786\"], [0.5555555555555556, \"#d8576b\"], [0.6666666666666666, \"#ed7953\"], [0.7777777777777778, \"#fb9f3a\"], [0.8888888888888888, \"#fdca26\"], [1.0, \"#f0f921\"]], \"type\": \"heatmapgl\"}], \"histogram\": [{\"marker\": {\"colorbar\": {\"outlinewidth\": 0, \"ticks\": \"\"}}, \"type\": \"histogram\"}], \"histogram2d\": [{\"colorbar\": {\"outlinewidth\": 0, \"ticks\": \"\"}, \"colorscale\": [[0.0, \"#0d0887\"], [0.1111111111111111, \"#46039f\"], [0.2222222222222222, \"#7201a8\"], [0.3333333333333333, \"#9c179e\"], [0.4444444444444444, \"#bd3786\"], [0.5555555555555556, \"#d8576b\"], [0.6666666666666666, \"#ed7953\"], [0.7777777777777778, \"#fb9f3a\"], [0.8888888888888888, \"#fdca26\"], [1.0, \"#f0f921\"]], \"type\": \"histogram2d\"}], \"histogram2dcontour\": [{\"colorbar\": {\"outlinewidth\": 0, \"ticks\": \"\"}, \"colorscale\": [[0.0, \"#0d0887\"], [0.1111111111111111, \"#46039f\"], [0.2222222222222222, \"#7201a8\"], [0.3333333333333333, \"#9c179e\"], [0.4444444444444444, \"#bd3786\"], [0.5555555555555556, \"#d8576b\"], [0.6666666666666666, \"#ed7953\"], [0.7777777777777778, \"#fb9f3a\"], [0.8888888888888888, \"#fdca26\"], [1.0, \"#f0f921\"]], \"type\": \"histogram2dcontour\"}], \"mesh3d\": [{\"colorbar\": {\"outlinewidth\": 0, \"ticks\": \"\"}, \"type\": \"mesh3d\"}], \"parcoords\": [{\"line\": {\"colorbar\": {\"outlinewidth\": 0, \"ticks\": \"\"}}, \"type\": \"parcoords\"}], \"pie\": [{\"automargin\": true, \"type\": \"pie\"}], \"scatter\": [{\"marker\": {\"colorbar\": {\"outlinewidth\": 0, \"ticks\": \"\"}}, \"type\": \"scatter\"}], \"scatter3d\": [{\"line\": {\"colorbar\": {\"outlinewidth\": 0, \"ticks\": \"\"}}, \"marker\": {\"colorbar\": {\"outlinewidth\": 0, \"ticks\": \"\"}}, \"type\": \"scatter3d\"}], \"scattercarpet\": [{\"marker\": {\"colorbar\": {\"outlinewidth\": 0, \"ticks\": \"\"}}, \"type\": \"scattercarpet\"}], \"scattergeo\": [{\"marker\": {\"colorbar\": {\"outlinewidth\": 0, \"ticks\": \"\"}}, \"type\": \"scattergeo\"}], \"scattergl\": [{\"marker\": {\"colorbar\": {\"outlinewidth\": 0, \"ticks\": \"\"}}, \"type\": \"scattergl\"}], \"scattermapbox\": [{\"marker\": {\"colorbar\": {\"outlinewidth\": 0, \"ticks\": \"\"}}, \"type\": \"scattermapbox\"}], \"scatterpolar\": [{\"marker\": {\"colorbar\": {\"outlinewidth\": 0, \"ticks\": \"\"}}, \"type\": \"scatterpolar\"}], \"scatterpolargl\": [{\"marker\": {\"colorbar\": {\"outlinewidth\": 0, \"ticks\": \"\"}}, \"type\": \"scatterpolargl\"}], \"scatterternary\": [{\"marker\": {\"colorbar\": {\"outlinewidth\": 0, \"ticks\": \"\"}}, \"type\": \"scatterternary\"}], \"surface\": [{\"colorbar\": {\"outlinewidth\": 0, \"ticks\": \"\"}, \"colorscale\": [[0.0, \"#0d0887\"], [0.1111111111111111, \"#46039f\"], [0.2222222222222222, \"#7201a8\"], [0.3333333333333333, \"#9c179e\"], [0.4444444444444444, \"#bd3786\"], [0.5555555555555556, \"#d8576b\"], [0.6666666666666666, \"#ed7953\"], [0.7777777777777778, \"#fb9f3a\"], [0.8888888888888888, \"#fdca26\"], [1.0, \"#f0f921\"]], \"type\": \"surface\"}], \"table\": [{\"cells\": {\"fill\": {\"color\": \"#EBF0F8\"}, \"line\": {\"color\": \"white\"}}, \"header\": {\"fill\": {\"color\": \"#C8D4E3\"}, \"line\": {\"color\": \"white\"}}, \"type\": \"table\"}]}, \"layout\": {\"annotationdefaults\": {\"arrowcolor\": \"#2a3f5f\", \"arrowhead\": 0, \"arrowwidth\": 1}, \"autotypenumbers\": \"strict\", \"coloraxis\": {\"colorbar\": {\"outlinewidth\": 0, \"ticks\": \"\"}}, \"colorscale\": {\"diverging\": [[0, \"#8e0152\"], [0.1, \"#c51b7d\"], [0.2, \"#de77ae\"], [0.3, \"#f1b6da\"], [0.4, \"#fde0ef\"], [0.5, \"#f7f7f7\"], [0.6, \"#e6f5d0\"], [0.7, \"#b8e186\"], [0.8, \"#7fbc41\"], [0.9, \"#4d9221\"], [1, \"#276419\"]], \"sequential\": [[0.0, \"#0d0887\"], [0.1111111111111111, \"#46039f\"], [0.2222222222222222, \"#7201a8\"], [0.3333333333333333, \"#9c179e\"], [0.4444444444444444, \"#bd3786\"], [0.5555555555555556, \"#d8576b\"], [0.6666666666666666, \"#ed7953\"], [0.7777777777777778, \"#fb9f3a\"], [0.8888888888888888, \"#fdca26\"], [1.0, \"#f0f921\"]], \"sequentialminus\": [[0.0, \"#0d0887\"], [0.1111111111111111, \"#46039f\"], [0.2222222222222222, \"#7201a8\"], [0.3333333333333333, \"#9c179e\"], [0.4444444444444444, \"#bd3786\"], [0.5555555555555556, \"#d8576b\"], [0.6666666666666666, \"#ed7953\"], [0.7777777777777778, \"#fb9f3a\"], [0.8888888888888888, \"#fdca26\"], [1.0, \"#f0f921\"]]}, \"colorway\": [\"#636efa\", \"#EF553B\", \"#00cc96\", \"#ab63fa\", \"#FFA15A\", \"#19d3f3\", \"#FF6692\", \"#B6E880\", \"#FF97FF\", \"#FECB52\"], \"font\": {\"color\": \"#2a3f5f\"}, \"geo\": {\"bgcolor\": \"white\", \"lakecolor\": \"white\", \"landcolor\": \"#E5ECF6\", \"showlakes\": true, \"showland\": true, \"subunitcolor\": \"white\"}, \"hoverlabel\": {\"align\": \"left\"}, \"hovermode\": \"closest\", \"mapbox\": {\"style\": \"light\"}, \"paper_bgcolor\": \"white\", \"plot_bgcolor\": \"#E5ECF6\", \"polar\": {\"angularaxis\": {\"gridcolor\": \"white\", \"linecolor\": \"white\", \"ticks\": \"\"}, \"bgcolor\": \"#E5ECF6\", \"radialaxis\": {\"gridcolor\": \"white\", \"linecolor\": \"white\", \"ticks\": \"\"}}, \"scene\": {\"xaxis\": {\"backgroundcolor\": \"#E5ECF6\", \"gridcolor\": \"white\", \"gridwidth\": 2, \"linecolor\": \"white\", \"showbackground\": true, \"ticks\": \"\", \"zerolinecolor\": \"white\"}, \"yaxis\": {\"backgroundcolor\": \"#E5ECF6\", \"gridcolor\": \"white\", \"gridwidth\": 2, \"linecolor\": \"white\", \"showbackground\": true, \"ticks\": \"\", \"zerolinecolor\": \"white\"}, \"zaxis\": {\"backgroundcolor\": \"#E5ECF6\", \"gridcolor\": \"white\", \"gridwidth\": 2, \"linecolor\": \"white\", \"showbackground\": true, \"ticks\": \"\", \"zerolinecolor\": \"white\"}}, \"shapedefaults\": {\"line\": {\"color\": \"#2a3f5f\"}}, \"ternary\": {\"aaxis\": {\"gridcolor\": \"white\", \"linecolor\": \"white\", \"ticks\": \"\"}, \"baxis\": {\"gridcolor\": \"white\", \"linecolor\": \"white\", \"ticks\": \"\"}, \"bgcolor\": \"#E5ECF6\", \"caxis\": {\"gridcolor\": \"white\", \"linecolor\": \"white\", \"ticks\": \"\"}}, \"title\": {\"x\": 0.05}, \"xaxis\": {\"automargin\": true, \"gridcolor\": \"white\", \"linecolor\": \"white\", \"ticks\": \"\", \"title\": {\"standoff\": 15}, \"zerolinecolor\": \"white\", \"zerolinewidth\": 2}, \"yaxis\": {\"automargin\": true, \"gridcolor\": \"white\", \"linecolor\": \"white\", \"ticks\": \"\", \"title\": {\"standoff\": 15}, \"zerolinecolor\": \"white\", \"zerolinewidth\": 2}}}, \"xaxis\": {\"anchor\": \"y\", \"domain\": [0.0, 1.0], \"showticklabels\": false, \"title\": {\"text\": \"Data availability (%)\"}}, \"yaxis\": {\"anchor\": \"x\", \"domain\": [0.0, 1.0], \"title\": {\"text\": \"\"}}},                        {\"responsive\": true}                    ).then(function(){\n",
       "                            \n",
       "var gd = document.getElementById('d3a3bb9e-5bad-442b-ab87-1c1203710859');\n",
       "var x = new MutationObserver(function (mutations, observer) {{\n",
       "        var display = window.getComputedStyle(gd).display;\n",
       "        if (!display || display === 'none') {{\n",
       "            console.log([gd, 'removed!']);\n",
       "            Plotly.purge(gd);\n",
       "            observer.disconnect();\n",
       "        }}\n",
       "}});\n",
       "\n",
       "// Listen for the removal of the full notebook cells\n",
       "var notebookContainer = gd.closest('#notebook-container');\n",
       "if (notebookContainer) {{\n",
       "    x.observe(notebookContainer, {childList: true});\n",
       "}}\n",
       "\n",
       "// Listen for the clearing of the current output cell\n",
       "var outputEl = gd.closest('.output');\n",
       "if (outputEl) {{\n",
       "    x.observe(outputEl, {childList: true});\n",
       "}}\n",
       "\n",
       "                        })                };                });            </script>        </div>"
      ]
     },
     "metadata": {},
     "output_type": "display_data"
    }
   ],
   "source": [
    "missing_bar_plot('FRA')"
   ]
  },
  {
   "cell_type": "code",
   "execution_count": null,
   "metadata": {},
   "outputs": [],
   "source": []
  }
 ],
 "metadata": {
  "kernelspec": {
   "display_name": "Python 3",
   "language": "python",
   "name": "python3"
  },
  "language_info": {
   "codemirror_mode": {
    "name": "ipython",
    "version": 3
   },
   "file_extension": ".py",
   "mimetype": "text/x-python",
   "name": "python",
   "nbconvert_exporter": "python",
   "pygments_lexer": "ipython3",
   "version": "3.7.7"
  }
 },
 "nbformat": 4,
 "nbformat_minor": 4
}
