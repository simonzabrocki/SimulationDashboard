{
 "cells": [
  {
   "cell_type": "code",
   "execution_count": 1,
   "metadata": {
    "ExecuteTime": {
     "end_time": "2021-05-19T06:54:26.242970Z",
     "start_time": "2021-05-19T06:54:23.929468Z"
    }
   },
   "outputs": [],
   "source": [
    "import pandas as pd\n",
    "from ggmodel_dev.models.utils import all_model_dictionary, all_model_properties_df\n"
   ]
  },
  {
   "cell_type": "code",
   "execution_count": 18,
   "metadata": {
    "ExecuteTime": {
     "end_time": "2021-05-19T07:05:50.206430Z",
     "start_time": "2021-05-19T07:05:50.195263Z"
    }
   },
   "outputs": [
    {
     "data": {
      "text/plain": [
       "'Land use change is a consequence of changes in a country’s food demand. The total food demand for 97 different food groups are calculated based on the total calorie demand, population, food waste reduction policies and other types of food demand.  From the total crop-based food demands, the total cropland demand was computed by dividing it by the total crop yields. However, some minor differences occurred as the food groups calculated did not exactly match the crop types in FAOSTAT. Thus, an additional parameter was used to correct this. With the total cropland demand, the change in land use was calculated by comparing it to the previous year. If the cropland area increased, it was assumed that this caused a decrease in the inactive or fallow land area. When cropland area decreases, the total inactive land or fallow areas will increase. A reforestation scenario set by the user determines the share of inactive lands to be converted to forests. Both the fallow land and forest area were then computed by adding their respective changes to the land use of the previous year.'"
      ]
     },
     "execution_count": 18,
     "metadata": {},
     "output_type": "execute_result"
    }
   ],
   "source": [
    "value = 'BE2_model'\n",
    "all_model_properties_df.query(f'model == \"{value}\"').description.values[0]"
   ]
  },
  {
   "cell_type": "code",
   "execution_count": 14,
   "metadata": {
    "ExecuteTime": {
     "end_time": "2021-05-19T07:05:25.880103Z",
     "start_time": "2021-05-19T07:05:25.873779Z"
    }
   },
   "outputs": [
    {
     "data": {
      "text/plain": [
       "<ggmodel_dev.graphmodel.GraphModel at 0x7efc690784d0>"
      ]
     },
     "execution_count": 14,
     "metadata": {},
     "output_type": "execute_result"
    }
   ],
   "source": [
    "all_model_dictionary['EW1_partial_model']"
   ]
  },
  {
   "cell_type": "code",
   "execution_count": 9,
   "metadata": {
    "ExecuteTime": {
     "end_time": "2021-05-19T06:56:55.305544Z",
     "start_time": "2021-05-19T06:56:55.289493Z"
    }
   },
   "outputs": [
    {
     "data": {
      "text/plain": [
       "[{'label': 'BE2_model', 'value': 'Change in Land Use'},\n",
       " {'label': 'BE3_model', 'value': 'Change in above group Biomass'},\n",
       " {'label': 'SL1_model', 'value': 'Nutrient Balance'},\n",
       " {'label': 'GE3_model', 'value': 'Agricultural Non-CO2 Emissions'}]"
      ]
     },
     "execution_count": 9,
     "metadata": {},
     "output_type": "execute_result"
    }
   ],
   "source": [
    "value = 'Landuse'\n"
   ]
  },
  {
   "cell_type": "code",
   "execution_count": null,
   "metadata": {},
   "outputs": [],
   "source": []
  }
 ],
 "metadata": {
  "kernelspec": {
   "display_name": "Python 3",
   "language": "python",
   "name": "python3"
  },
  "language_info": {
   "codemirror_mode": {
    "name": "ipython",
    "version": 3
   },
   "file_extension": ".py",
   "mimetype": "text/x-python",
   "name": "python",
   "nbconvert_exporter": "python",
   "pygments_lexer": "ipython3",
   "version": "3.7.7"
  }
 },
 "nbformat": 4,
 "nbformat_minor": 4
}
