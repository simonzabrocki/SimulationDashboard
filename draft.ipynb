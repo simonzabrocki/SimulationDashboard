{
 "cells": [
  {
   "cell_type": "code",
   "execution_count": 1,
   "metadata": {
    "ExecuteTime": {
     "end_time": "2021-05-19T06:54:26.242970Z",
     "start_time": "2021-05-19T06:54:23.929468Z"
    }
   },
   "outputs": [],
   "source": [
    "import pandas as pd\n",
    "from ggmodel_dev.models.utils import all_model_dictionary, all_model_properties_df\n"
   ]
  },
  {
   "cell_type": "code",
   "execution_count": 14,
   "metadata": {
    "ExecuteTime": {
     "end_time": "2021-05-19T07:05:25.880103Z",
     "start_time": "2021-05-19T07:05:25.873779Z"
    }
   },
   "outputs": [
    {
     "data": {
      "text/plain": [
       "<ggmodel_dev.graphmodel.GraphModel at 0x7efc690784d0>"
      ]
     },
     "execution_count": 14,
     "metadata": {},
     "output_type": "execute_result"
    }
   ],
   "source": [
    "all_model_dictionary['EW1_partial_model']"
   ]
  },
  {
   "cell_type": "code",
   "execution_count": 4,
   "metadata": {
    "ExecuteTime": {
     "end_time": "2021-05-21T01:02:33.414888Z",
     "start_time": "2021-05-21T01:02:33.409076Z"
    }
   },
   "outputs": [
    {
     "data": {
      "text/plain": [
       "'WP_ra'"
      ]
     },
     "execution_count": 4,
     "metadata": {},
     "output_type": "execute_result"
    }
   ],
   "source": [
    "'WP_rate_one'.rstrip('_one').rstrip('_two')"
   ]
  },
  {
   "cell_type": "code",
   "execution_count": null,
   "metadata": {},
   "outputs": [],
   "source": [
    "'WP_rate_one'.rstrip('_one').rstrip('_two')"
   ]
  },
  {
   "cell_type": "code",
   "execution_count": 6,
   "metadata": {
    "ExecuteTime": {
     "end_time": "2021-05-21T01:06:16.117836Z",
     "start_time": "2021-05-21T01:06:16.113128Z"
    }
   },
   "outputs": [
    {
     "data": {
      "text/plain": [
       "'WP_rate'"
      ]
     },
     "execution_count": 6,
     "metadata": {},
     "output_type": "execute_result"
    }
   ],
   "source": [
    "'WP_rate_one'[:-4]"
   ]
  },
  {
   "cell_type": "code",
   "execution_count": 9,
   "metadata": {
    "ExecuteTime": {
     "end_time": "2021-05-19T06:56:55.305544Z",
     "start_time": "2021-05-19T06:56:55.289493Z"
    }
   },
   "outputs": [
    {
     "data": {
      "text/plain": [
       "[{'label': 'BE2_model', 'value': 'Change in Land Use'},\n",
       " {'label': 'BE3_model', 'value': 'Change in above group Biomass'},\n",
       " {'label': 'SL1_model', 'value': 'Nutrient Balance'},\n",
       " {'label': 'GE3_model', 'value': 'Agricultural Non-CO2 Emissions'}]"
      ]
     },
     "execution_count": 9,
     "metadata": {},
     "output_type": "execute_result"
    }
   ],
   "source": [
    "value = 'Landuse'\n"
   ]
  },
  {
   "cell_type": "code",
   "execution_count": null,
   "metadata": {},
   "outputs": [],
   "source": []
  }
 ],
 "metadata": {
  "kernelspec": {
   "display_name": "Python 3",
   "language": "python",
   "name": "python3"
  },
  "language_info": {
   "codemirror_mode": {
    "name": "ipython",
    "version": 3
   },
   "file_extension": ".py",
   "mimetype": "text/x-python",
   "name": "python",
   "nbconvert_exporter": "python",
   "pygments_lexer": "ipython3",
   "version": "3.7.7"
  }
 },
 "nbformat": 4,
 "nbformat_minor": 4
}
