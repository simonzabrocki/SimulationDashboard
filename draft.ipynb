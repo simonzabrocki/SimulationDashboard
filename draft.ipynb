{
 "cells": [
  {
   "cell_type": "code",
   "execution_count": 43,
   "metadata": {
    "ExecuteTime": {
     "end_time": "2020-11-19T05:51:23.576057Z",
     "start_time": "2020-11-19T05:51:23.572356Z"
    }
   },
   "outputs": [],
   "source": [
    "import pandas as pd\n",
    "import plotly.express as px"
   ]
  },
  {
   "cell_type": "code",
   "execution_count": 44,
   "metadata": {
    "ExecuteTime": {
     "end_time": "2020-11-19T05:51:24.001165Z",
     "start_time": "2020-11-19T05:51:23.759046Z"
    }
   },
   "outputs": [],
   "source": [
    "data = pd.read_csv('data/GGIs_2005_2020_old_1.csv')"
   ]
  },
  {
   "cell_type": "code",
   "execution_count": 45,
   "metadata": {
    "ExecuteTime": {
     "end_time": "2020-11-19T05:51:24.136966Z",
     "start_time": "2020-11-19T05:51:24.131557Z"
    }
   },
   "outputs": [],
   "source": [
    "ISOs = ['TKM', 'KAZ', 'KGZ', 'TJK', 'UZB']"
   ]
  },
  {
   "cell_type": "code",
   "execution_count": 81,
   "metadata": {
    "ExecuteTime": {
     "end_time": "2020-11-19T06:05:54.158420Z",
     "start_time": "2020-11-19T06:05:54.124242Z"
    }
   },
   "outputs": [
    {
     "data": {
      "text/html": [
       "<div>\n",
       "<style scoped>\n",
       "    .dataframe tbody tr th:only-of-type {\n",
       "        vertical-align: middle;\n",
       "    }\n",
       "\n",
       "    .dataframe tbody tr th {\n",
       "        vertical-align: top;\n",
       "    }\n",
       "\n",
       "    .dataframe thead th {\n",
       "        text-align: right;\n",
       "    }\n",
       "</style>\n",
       "<table border=\"1\" class=\"dataframe\">\n",
       "  <thead>\n",
       "    <tr style=\"text-align: right;\">\n",
       "      <th></th>\n",
       "      <th>ISO</th>\n",
       "      <th>IncomeLevel</th>\n",
       "    </tr>\n",
       "  </thead>\n",
       "  <tbody>\n",
       "    <tr>\n",
       "      <th>111972</th>\n",
       "      <td>KAZ</td>\n",
       "      <td>Upper middle income</td>\n",
       "    </tr>\n",
       "    <tr>\n",
       "      <th>116779</th>\n",
       "      <td>KGZ</td>\n",
       "      <td>Lower middle income</td>\n",
       "    </tr>\n",
       "    <tr>\n",
       "      <th>212163</th>\n",
       "      <td>TJK</td>\n",
       "      <td>Low income</td>\n",
       "    </tr>\n",
       "    <tr>\n",
       "      <th>223089</th>\n",
       "      <td>TKM</td>\n",
       "      <td>Upper middle income</td>\n",
       "    </tr>\n",
       "    <tr>\n",
       "      <th>233238</th>\n",
       "      <td>UZB</td>\n",
       "      <td>Lower middle income</td>\n",
       "    </tr>\n",
       "  </tbody>\n",
       "</table>\n",
       "</div>"
      ],
      "text/plain": [
       "        ISO          IncomeLevel\n",
       "111972  KAZ  Upper middle income\n",
       "116779  KGZ  Lower middle income\n",
       "212163  TJK           Low income\n",
       "223089  TKM  Upper middle income\n",
       "233238  UZB  Lower middle income"
      ]
     },
     "execution_count": 81,
     "metadata": {},
     "output_type": "execute_result"
    }
   ],
   "source": [
    " data[data.ISO.isin(ISOs)][['ISO', 'IncomeLevel']].drop_duplicates()"
   ]
  },
  {
   "cell_type": "code",
   "execution_count": 68,
   "metadata": {
    "ExecuteTime": {
     "end_time": "2020-11-19T05:54:51.196559Z",
     "start_time": "2020-11-19T05:54:51.157075Z"
    }
   },
   "outputs": [],
   "source": [
    "custom_country = data[data.ISO.isin(ISOs)].groupby(['Aggregation', 'Year', 'Variable', 'Continent', 'UNregion', 'Region']).mean().reset_index()"
   ]
  },
  {
   "cell_type": "code",
   "execution_count": 77,
   "metadata": {
    "ExecuteTime": {
     "end_time": "2020-11-19T05:59:27.155741Z",
     "start_time": "2020-11-19T05:59:27.136086Z"
    }
   },
   "outputs": [
    {
     "data": {
      "text/plain": [
       "array(['Low income', 'Upper middle income', 'Lower middle income',\n",
       "       'High income'], dtype=object)"
      ]
     },
     "execution_count": 77,
     "metadata": {},
     "output_type": "execute_result"
    }
   ],
   "source": [
    "data.IncomeLevel.unique()"
   ]
  },
  {
   "cell_type": "code",
   "execution_count": 72,
   "metadata": {
    "ExecuteTime": {
     "end_time": "2020-11-19T05:55:40.411668Z",
     "start_time": "2020-11-19T05:55:40.404993Z"
    }
   },
   "outputs": [],
   "source": [
    "custom_country['ISO'] = 'CUSTOM'\n",
    "custom_country['IncomeLevel'] = 'middle income'\n",
    "custom_country['Country'] = 'Kazakhstan, Kyrgyz Republic, Tajikistan, Turkmenistan, Uzbekistan'"
   ]
  },
  {
   "cell_type": "code",
   "execution_count": 75,
   "metadata": {
    "ExecuteTime": {
     "end_time": "2020-11-19T05:58:26.368885Z",
     "start_time": "2020-11-19T05:58:26.307299Z"
    }
   },
   "outputs": [
    {
     "data": {
      "text/html": [
       "<div>\n",
       "<style scoped>\n",
       "    .dataframe tbody tr th:only-of-type {\n",
       "        vertical-align: middle;\n",
       "    }\n",
       "\n",
       "    .dataframe tbody tr th {\n",
       "        vertical-align: top;\n",
       "    }\n",
       "\n",
       "    .dataframe thead th {\n",
       "        text-align: right;\n",
       "    }\n",
       "</style>\n",
       "<table border=\"1\" class=\"dataframe\">\n",
       "  <thead>\n",
       "    <tr style=\"text-align: right;\">\n",
       "      <th></th>\n",
       "      <th>Aggregation</th>\n",
       "      <th>Year</th>\n",
       "      <th>Variable</th>\n",
       "      <th>Continent</th>\n",
       "      <th>UNregion</th>\n",
       "      <th>Region</th>\n",
       "      <th>Value</th>\n",
       "      <th>ISO</th>\n",
       "      <th>Country</th>\n",
       "      <th>IncomeLevel</th>\n",
       "    </tr>\n",
       "  </thead>\n",
       "  <tbody>\n",
       "    <tr>\n",
       "      <th>0</th>\n",
       "      <td>Category</td>\n",
       "      <td>2005.0</td>\n",
       "      <td>AB</td>\n",
       "      <td>Asia</td>\n",
       "      <td>Central Asia</td>\n",
       "      <td>Europe &amp; Central Asia</td>\n",
       "      <td>46.370</td>\n",
       "      <td>CUSTOM</td>\n",
       "      <td>Kazakhstan, Kyrgyz Republic, Tajikistan, Turkm...</td>\n",
       "      <td>middle income</td>\n",
       "    </tr>\n",
       "    <tr>\n",
       "      <th>1</th>\n",
       "      <td>Category</td>\n",
       "      <td>2005.0</td>\n",
       "      <td>BE</td>\n",
       "      <td>Asia</td>\n",
       "      <td>Central Asia</td>\n",
       "      <td>Europe &amp; Central Asia</td>\n",
       "      <td>20.430</td>\n",
       "      <td>CUSTOM</td>\n",
       "      <td>Kazakhstan, Kyrgyz Republic, Tajikistan, Turkm...</td>\n",
       "      <td>middle income</td>\n",
       "    </tr>\n",
       "    <tr>\n",
       "      <th>2</th>\n",
       "      <td>Category</td>\n",
       "      <td>2005.0</td>\n",
       "      <td>EE</td>\n",
       "      <td>Asia</td>\n",
       "      <td>Central Asia</td>\n",
       "      <td>Europe &amp; Central Asia</td>\n",
       "      <td>34.108</td>\n",
       "      <td>CUSTOM</td>\n",
       "      <td>Kazakhstan, Kyrgyz Republic, Tajikistan, Turkm...</td>\n",
       "      <td>middle income</td>\n",
       "    </tr>\n",
       "    <tr>\n",
       "      <th>3</th>\n",
       "      <td>Category</td>\n",
       "      <td>2005.0</td>\n",
       "      <td>EQ</td>\n",
       "      <td>Asia</td>\n",
       "      <td>Central Asia</td>\n",
       "      <td>Europe &amp; Central Asia</td>\n",
       "      <td>85.918</td>\n",
       "      <td>CUSTOM</td>\n",
       "      <td>Kazakhstan, Kyrgyz Republic, Tajikistan, Turkm...</td>\n",
       "      <td>middle income</td>\n",
       "    </tr>\n",
       "    <tr>\n",
       "      <th>4</th>\n",
       "      <td>Category</td>\n",
       "      <td>2005.0</td>\n",
       "      <td>EW</td>\n",
       "      <td>Asia</td>\n",
       "      <td>Central Asia</td>\n",
       "      <td>Europe &amp; Central Asia</td>\n",
       "      <td>13.852</td>\n",
       "      <td>CUSTOM</td>\n",
       "      <td>Kazakhstan, Kyrgyz Republic, Tajikistan, Turkm...</td>\n",
       "      <td>middle income</td>\n",
       "    </tr>\n",
       "    <tr>\n",
       "      <th>...</th>\n",
       "      <td>...</td>\n",
       "      <td>...</td>\n",
       "      <td>...</td>\n",
       "      <td>...</td>\n",
       "      <td>...</td>\n",
       "      <td>...</td>\n",
       "      <td>...</td>\n",
       "      <td>...</td>\n",
       "      <td>...</td>\n",
       "      <td>...</td>\n",
       "    </tr>\n",
       "    <tr>\n",
       "      <th>241656</th>\n",
       "      <td>Category</td>\n",
       "      <td>2020.0</td>\n",
       "      <td>SP</td>\n",
       "      <td>Africa</td>\n",
       "      <td>Eastern Africa</td>\n",
       "      <td>Sub-Saharan Africa</td>\n",
       "      <td>42.030</td>\n",
       "      <td>ZWE</td>\n",
       "      <td>Zimbabwe</td>\n",
       "      <td>Lower middle income</td>\n",
       "    </tr>\n",
       "    <tr>\n",
       "      <th>241657</th>\n",
       "      <td>Dimension</td>\n",
       "      <td>2020.0</td>\n",
       "      <td>SI</td>\n",
       "      <td>Africa</td>\n",
       "      <td>Eastern Africa</td>\n",
       "      <td>Sub-Saharan Africa</td>\n",
       "      <td>41.810</td>\n",
       "      <td>ZWE</td>\n",
       "      <td>Zimbabwe</td>\n",
       "      <td>Lower middle income</td>\n",
       "    </tr>\n",
       "    <tr>\n",
       "      <th>241658</th>\n",
       "      <td>Dimension</td>\n",
       "      <td>2020.0</td>\n",
       "      <td>NCP</td>\n",
       "      <td>Africa</td>\n",
       "      <td>Eastern Africa</td>\n",
       "      <td>Sub-Saharan Africa</td>\n",
       "      <td>78.120</td>\n",
       "      <td>ZWE</td>\n",
       "      <td>Zimbabwe</td>\n",
       "      <td>Lower middle income</td>\n",
       "    </tr>\n",
       "    <tr>\n",
       "      <th>241659</th>\n",
       "      <td>Dimension</td>\n",
       "      <td>2020.0</td>\n",
       "      <td>ESRU</td>\n",
       "      <td>Africa</td>\n",
       "      <td>Eastern Africa</td>\n",
       "      <td>Sub-Saharan Africa</td>\n",
       "      <td>30.700</td>\n",
       "      <td>ZWE</td>\n",
       "      <td>Zimbabwe</td>\n",
       "      <td>Lower middle income</td>\n",
       "    </tr>\n",
       "    <tr>\n",
       "      <th>241660</th>\n",
       "      <td>Dimension</td>\n",
       "      <td>2020.0</td>\n",
       "      <td>GEO</td>\n",
       "      <td>Africa</td>\n",
       "      <td>Eastern Africa</td>\n",
       "      <td>Sub-Saharan Africa</td>\n",
       "      <td>8.980</td>\n",
       "      <td>ZWE</td>\n",
       "      <td>Zimbabwe</td>\n",
       "      <td>Lower middle income</td>\n",
       "    </tr>\n",
       "  </tbody>\n",
       "</table>\n",
       "<p>242978 rows × 10 columns</p>\n",
       "</div>"
      ],
      "text/plain": [
       "       Aggregation    Year Variable Continent        UNregion  \\\n",
       "0         Category  2005.0       AB      Asia    Central Asia   \n",
       "1         Category  2005.0       BE      Asia    Central Asia   \n",
       "2         Category  2005.0       EE      Asia    Central Asia   \n",
       "3         Category  2005.0       EQ      Asia    Central Asia   \n",
       "4         Category  2005.0       EW      Asia    Central Asia   \n",
       "...            ...     ...      ...       ...             ...   \n",
       "241656    Category  2020.0       SP    Africa  Eastern Africa   \n",
       "241657   Dimension  2020.0       SI    Africa  Eastern Africa   \n",
       "241658   Dimension  2020.0      NCP    Africa  Eastern Africa   \n",
       "241659   Dimension  2020.0     ESRU    Africa  Eastern Africa   \n",
       "241660   Dimension  2020.0      GEO    Africa  Eastern Africa   \n",
       "\n",
       "                       Region   Value     ISO  \\\n",
       "0       Europe & Central Asia  46.370  CUSTOM   \n",
       "1       Europe & Central Asia  20.430  CUSTOM   \n",
       "2       Europe & Central Asia  34.108  CUSTOM   \n",
       "3       Europe & Central Asia  85.918  CUSTOM   \n",
       "4       Europe & Central Asia  13.852  CUSTOM   \n",
       "...                       ...     ...     ...   \n",
       "241656    Sub-Saharan Africa   42.030     ZWE   \n",
       "241657    Sub-Saharan Africa   41.810     ZWE   \n",
       "241658    Sub-Saharan Africa   78.120     ZWE   \n",
       "241659    Sub-Saharan Africa   30.700     ZWE   \n",
       "241660    Sub-Saharan Africa    8.980     ZWE   \n",
       "\n",
       "                                                  Country          IncomeLevel  \n",
       "0       Kazakhstan, Kyrgyz Republic, Tajikistan, Turkm...        middle income  \n",
       "1       Kazakhstan, Kyrgyz Republic, Tajikistan, Turkm...        middle income  \n",
       "2       Kazakhstan, Kyrgyz Republic, Tajikistan, Turkm...        middle income  \n",
       "3       Kazakhstan, Kyrgyz Republic, Tajikistan, Turkm...        middle income  \n",
       "4       Kazakhstan, Kyrgyz Republic, Tajikistan, Turkm...        middle income  \n",
       "...                                                   ...                  ...  \n",
       "241656                                           Zimbabwe  Lower middle income  \n",
       "241657                                           Zimbabwe  Lower middle income  \n",
       "241658                                           Zimbabwe  Lower middle income  \n",
       "241659                                           Zimbabwe  Lower middle income  \n",
       "241660                                           Zimbabwe  Lower middle income  \n",
       "\n",
       "[242978 rows x 10 columns]"
      ]
     },
     "execution_count": 75,
     "metadata": {},
     "output_type": "execute_result"
    }
   ],
   "source": [
    "pd.concat([custom_country, data])"
   ]
  },
  {
   "cell_type": "code",
   "execution_count": null,
   "metadata": {},
   "outputs": [],
   "source": []
  }
 ],
 "metadata": {
  "kernelspec": {
   "display_name": "Python 3",
   "language": "python",
   "name": "python3"
  },
  "language_info": {
   "codemirror_mode": {
    "name": "ipython",
    "version": 3
   },
   "file_extension": ".py",
   "mimetype": "text/x-python",
   "name": "python",
   "nbconvert_exporter": "python",
   "pygments_lexer": "ipython3",
   "version": "3.7.7"
  }
 },
 "nbformat": 4,
 "nbformat_minor": 4
}
