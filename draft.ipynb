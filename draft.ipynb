{
 "cells": [
  {
   "cell_type": "code",
   "execution_count": 8,
   "metadata": {
    "ExecuteTime": {
     "end_time": "2021-06-09T01:15:28.277135Z",
     "start_time": "2021-06-09T01:15:25.342381Z"
    }
   },
   "outputs": [],
   "source": [
    "import os\n",
    "import pandas as pd\n",
    "import plotly.express as px\n",
    "\n",
    "from plots.simulation.GE3_plots import sankeyplot, emission_data_dict_to_df\n",
    "from ggmodel_dev.models.landuse import BE2_scenario, GE3_scenario\n",
    "from ggmodel_dev.models.water import EW_scenario\n",
    "from ggmodel_dev.models.transport import VEHC_scenario\n",
    "from ggmodel_dev.projection import run_projection\n",
    "\n",
    "\n",
    "\n",
    "def get_data_dict_from_folder_parquet(folder_name):\n",
    "    files = os.listdir(folder_name)\n",
    "    data_dict = {file.split('.')[0]: pd.read_parquet(\n",
    "        f'{folder_name}/{file}') for file in files}\n",
    "    data_dict = {name: df[name] for name, df in data_dict.items()}\n",
    "    return data_dict\n",
    "\n",
    "\n",
    "def get_data_dict_from_folder(folder_name):\n",
    "    files = os.listdir(folder_name)\n",
    "    data_dict = {file.split('.')[0]: pd.read_csv(\n",
    "        f'{folder_name}/{file}') for file in files}\n",
    "\n",
    "    data_dict = {name: df.set_index([col for col in df.columns if col != name]).squeeze(\n",
    "    ) for name, df in data_dict.items()}\n",
    "\n",
    "    return data_dict"
   ]
  },
  {
   "cell_type": "code",
   "execution_count": 9,
   "metadata": {
    "ExecuteTime": {
     "end_time": "2021-06-09T01:15:32.818372Z",
     "start_time": "2021-06-09T01:15:28.280550Z"
    }
   },
   "outputs": [],
   "source": [
    "scenario_data_dictionnary = {\n",
    "    'EW_models': get_data_dict_from_folder('data/sim/EW'),\n",
    "    'BE2_model': get_data_dict_from_folder('data/sim/BE2'),\n",
    "    'GE3_model': get_data_dict_from_folder_parquet('data/sim/GE3'),\n",
    "    'VEHC_model': get_data_dict_from_folder('data/sim/VEHC'),\n",
    "}\n"
   ]
  },
  {
   "cell_type": "code",
   "execution_count": 244,
   "metadata": {
    "ExecuteTime": {
     "end_time": "2021-06-09T04:09:35.935226Z",
     "start_time": "2021-06-09T04:09:35.917352Z"
    }
   },
   "outputs": [],
   "source": [
    "from ggmodel_dev.projection import *\n",
    "from ggmodel_dev.models.landuse.GE3 import model_dictionnary\n",
    "\n",
    "projection_dict = {\n",
    "    'Pop': lambda x: x,\n",
    "    'OEi': lambda x: x,\n",
    "    'EF_EEi': lambda x: x,\n",
    "    'TAi': lambda x: x,\n",
    "    'IN_F': lambda x: x,\n",
    "    'MYi': lambda x: x,\n",
    "    'EF_ASi': lambda x: x,\n",
    "    'EF_Ti': lambda x: x,\n",
    "    'EF_CH4Ti': lambda x: x,\n",
    "    'EF_Li': lambda x: x,\n",
    "    'EF_F': lambda x: x,        \n",
    "}\n",
    "\n",
    "\n",
    "def run_scenario(data_dict,\n",
    "                 MM_Ti=1/3,\n",
    "                 MM_ASi=1/3,\n",
    "                 MM_LPi=1/3,\n",
    "                 TAi_pct_Asses=1,\n",
    "                 TAi_pct_Cattle_dairy=1,\n",
    "                 TAi_pct_Cattle_non_dairy=1,\n",
    "                 TAi_pct_Chickens_broilers=1,\n",
    "                 TAi_pct_Chickens_layers=1,\n",
    "                 TAi_pct_Ducks=1,\n",
    "                 TAi_pct_Goats=1,\n",
    "                 TAi_pct_Horses=1,\n",
    "                 TAi_pct_Mules=1,\n",
    "                 TAi_pct_Sheep=1,\n",
    "                 TAi_pct_Swine_breeding=1,\n",
    "                 TAi_pct_Swine_market=1,\n",
    "                 TAi_pct_Turkeys=1\n",
    "                 ):\n",
    "    \n",
    "    data_dict = data_dict.copy()\n",
    "    \n",
    "    \n",
    "    data_dict['MM_Ti'] = MM_Ti\n",
    "    data_dict['MM_ASi'] = MM_ASi\n",
    "    data_dict['MM_LPi'] = MM_LPi\n",
    "    \n",
    "    TAi_pct_target = pd.Series(index=['Asses', 'Cattle, dairy','Cattle, non-dairy',\n",
    "                                  'Chickens, broilers', 'Chickens, layers', 'Ducks', 'Goats',\n",
    "                                  'Horses', 'Mules', 'Sheep', 'Swine, breeding', 'Swine, market',\n",
    "                                  'Turkeys'],\n",
    "                           data=[TAi_Asses_pct, TAi_cattle_dairy_pct,\n",
    "                                 TAi_pct_Cattle_non_dairy, TAi_Chickens_broilers_pct,\n",
    "                                 TAi_Chickens_layers_pct, TAi_ducks_pct,TAi_Goat_pct,\n",
    "                                 TAi_Horses_pct, TAi_Mules_pct ,TAi_Sheep_pct, TAi_Swine_breeding_pct,\n",
    "                                 TAi_Swine_market_pct, TAi_Turkeys_market_pct\n",
    "                               \n",
    "                           ], name='TAi_pct_target')\n",
    "    \n",
    "    TAi_pct_target.index.name = 'Item'\n",
    "    \n",
    "    tmp = pd.merge(data_dict['TAi'].reset_index(), TAi_pct_target.reset_index(),on='Item')\n",
    "    tmp['TAi'] = tmp['TAi'] * tmp['TAi_pct_target']\n",
    "\n",
    "    data_dict['TAi'] = tmp.set_index(['ISO', 'Year', 'Item'])['TAi']\n",
    "    \n",
    "    results = model_dictionnary['GE3_model'].run(data_dict)\n",
    "    \n",
    "    return results"
   ]
  },
  {
   "cell_type": "code",
   "execution_count": 247,
   "metadata": {
    "ExecuteTime": {
     "end_time": "2021-06-09T04:09:47.216079Z",
     "start_time": "2021-06-09T04:09:47.205620Z"
    }
   },
   "outputs": [],
   "source": [
    "def run_all_scenarios_GE3(data_dict, ISO, args_dict_1, args_dict_2):\n",
    "    scenarios_results = {}\n",
    "    data_dict = {k: v.loc[ISO, 2018, :] for k, v in data_dict.items()}\n",
    "\n",
    "    scenarios_results['BAU'] = run_scenario(\n",
    "        data_dict=data_dict, MM_Ti=data_dict['MM_Ti'], MM_ASi=data_dict['MM_ASi'])\n",
    "    scenarios_results['scenario_one'] = run_scenario(\n",
    "        data_dict=data_dict, **args_dict_1)\n",
    "    scenarios_results['scenario_two'] = run_scenario(\n",
    "        data_dict=data_dict, **args_dict_2)\n",
    "\n",
    "    df_0 = emission_data_dict_to_df({k: v for k, v in scenarios_results['scenario_one'].items() if k in ['TEE_CO2eq', 'TMA_CO2eq', 'TMT_CO2eq', 'TMP_CO2eq']})\n",
    "    df_1 = emission_data_dict_to_df({k: v for k, v in scenarios_results['scenario_two'].items() if k in ['TEE_CO2eq', 'TMA_CO2eq', 'TMT_CO2eq', 'TMP_CO2eq']})\n",
    "\n",
    "    #fig_1 = sankeyplot(df_0, 'Item', 'Variable').update_layout(title='Scenario 1')\n",
    "    #fig_2 = sankeyplot(df_1, 'Item', 'Variable').update_layout(title='Scenario 2')\n",
    "\n",
    "    #return fig_1, fig_2, {}\n",
    "    return df_0, df_1\n"
   ]
  },
  {
   "cell_type": "code",
   "execution_count": 254,
   "metadata": {
    "ExecuteTime": {
     "end_time": "2021-06-09T04:11:28.887563Z",
     "start_time": "2021-06-09T04:11:28.641815Z"
    }
   },
   "outputs": [
    {
     "name": "stderr",
     "output_type": "stream",
     "text": [
      "/home/simon/anaconda3/lib/python3.7/site-packages/pandas/core/indexes/multi.py:3585: RuntimeWarning:\n",
      "\n",
      "The values in the array are unorderable. Pass `sort=False` to suppress this warning.\n",
      "\n"
     ]
    }
   ],
   "source": [
    "data_dict = scenario_data_dictionnary['GE3_model']\n",
    "\n",
    "args_dict_1 = dict(MM_Ti=1/3, MM_ASi=1/3, MM_LPi=1/3)\n",
    "args_dict_2 = dict(MM_Ti=1/3, MM_ASi=1/3, MM_LPi=1/3, TAi_pct_Cattle_non_dairy=1/2)\n",
    "\n",
    "df_0, df_1 = run_all_scenarios_GE3(data_dict, 'FRA', args_dict_1, args_dict_2)\n",
    "df = pd.concat([df_0.assign(scenario='scenario_0'), df_1.assign(scenario='scenario_1')], axis=0)\n",
    "\n",
    "\n",
    "df = df.merge(model_dictionnary['GE3_model'].summary_df[['name', 'unit']], left_on='Variable', right_index=True)"
   ]
  },
  {
   "cell_type": "code",
   "execution_count": 256,
   "metadata": {
    "ExecuteTime": {
     "end_time": "2021-06-09T04:11:44.591134Z",
     "start_time": "2021-06-09T04:11:44.571327Z"
    }
   },
   "outputs": [
    {
     "data": {
      "text/html": [
       "<div>\n",
       "<style scoped>\n",
       "    .dataframe tbody tr th:only-of-type {\n",
       "        vertical-align: middle;\n",
       "    }\n",
       "\n",
       "    .dataframe tbody tr th {\n",
       "        vertical-align: top;\n",
       "    }\n",
       "\n",
       "    .dataframe thead th {\n",
       "        text-align: right;\n",
       "    }\n",
       "</style>\n",
       "<table border=\"1\" class=\"dataframe\">\n",
       "  <thead>\n",
       "    <tr style=\"text-align: right;\">\n",
       "      <th></th>\n",
       "      <th>ISO</th>\n",
       "      <th>Year</th>\n",
       "      <th>Item</th>\n",
       "      <th>Value</th>\n",
       "      <th>Variable</th>\n",
       "      <th>scenario</th>\n",
       "      <th>name</th>\n",
       "      <th>unit</th>\n",
       "    </tr>\n",
       "  </thead>\n",
       "  <tbody>\n",
       "    <tr>\n",
       "      <th>4</th>\n",
       "      <td>FRA</td>\n",
       "      <td>2018</td>\n",
       "      <td>Cattle, non-dairy</td>\n",
       "      <td>1759.820777</td>\n",
       "      <td>TMA_CO2eq</td>\n",
       "      <td>scenario_0</td>\n",
       "      <td>Emissions (CO2eq) (Manure applied)</td>\n",
       "      <td>gigagrams (CO2eq)</td>\n",
       "    </tr>\n",
       "    <tr>\n",
       "      <th>4</th>\n",
       "      <td>FRA</td>\n",
       "      <td>2018</td>\n",
       "      <td>Cattle, non-dairy</td>\n",
       "      <td>879.910389</td>\n",
       "      <td>TMA_CO2eq</td>\n",
       "      <td>scenario_1</td>\n",
       "      <td>Emissions (CO2eq) (Manure applied)</td>\n",
       "      <td>gigagrams (CO2eq)</td>\n",
       "    </tr>\n",
       "    <tr>\n",
       "      <th>23</th>\n",
       "      <td>FRA</td>\n",
       "      <td>2018</td>\n",
       "      <td>Cattle, non-dairy</td>\n",
       "      <td>2990.464678</td>\n",
       "      <td>TMP_CO2eq</td>\n",
       "      <td>scenario_0</td>\n",
       "      <td>Emissions (CO2eq) (Manure on pasture)</td>\n",
       "      <td>gigagrams (CO2eq)</td>\n",
       "    </tr>\n",
       "    <tr>\n",
       "      <th>23</th>\n",
       "      <td>FRA</td>\n",
       "      <td>2018</td>\n",
       "      <td>Cattle, non-dairy</td>\n",
       "      <td>1495.232339</td>\n",
       "      <td>TMP_CO2eq</td>\n",
       "      <td>scenario_1</td>\n",
       "      <td>Emissions (CO2eq) (Manure on pasture)</td>\n",
       "      <td>gigagrams (CO2eq)</td>\n",
       "    </tr>\n",
       "    <tr>\n",
       "      <th>46</th>\n",
       "      <td>FRA</td>\n",
       "      <td>2018</td>\n",
       "      <td>Cattle, non-dairy</td>\n",
       "      <td>2973.253021</td>\n",
       "      <td>TMT_CO2eq</td>\n",
       "      <td>scenario_0</td>\n",
       "      <td>Emissions (CO2eq) (Manure management)</td>\n",
       "      <td>gigagrams (CO2eq)</td>\n",
       "    </tr>\n",
       "    <tr>\n",
       "      <th>46</th>\n",
       "      <td>FRA</td>\n",
       "      <td>2018</td>\n",
       "      <td>Cattle, non-dairy</td>\n",
       "      <td>1486.626511</td>\n",
       "      <td>TMT_CO2eq</td>\n",
       "      <td>scenario_1</td>\n",
       "      <td>Emissions (CO2eq) (Manure management)</td>\n",
       "      <td>gigagrams (CO2eq)</td>\n",
       "    </tr>\n",
       "    <tr>\n",
       "      <th>65</th>\n",
       "      <td>FRA</td>\n",
       "      <td>2018</td>\n",
       "      <td>Cattle, non-dairy</td>\n",
       "      <td>17948.591262</td>\n",
       "      <td>TEE_CO2eq</td>\n",
       "      <td>scenario_0</td>\n",
       "      <td>Emissions (CO2eq) (Enteric)</td>\n",
       "      <td>gigagrams (CO2eq)</td>\n",
       "    </tr>\n",
       "    <tr>\n",
       "      <th>65</th>\n",
       "      <td>FRA</td>\n",
       "      <td>2018</td>\n",
       "      <td>Cattle, non-dairy</td>\n",
       "      <td>8974.295631</td>\n",
       "      <td>TEE_CO2eq</td>\n",
       "      <td>scenario_1</td>\n",
       "      <td>Emissions (CO2eq) (Enteric)</td>\n",
       "      <td>gigagrams (CO2eq)</td>\n",
       "    </tr>\n",
       "  </tbody>\n",
       "</table>\n",
       "</div>"
      ],
      "text/plain": [
       "    ISO  Year               Item         Value   Variable    scenario  \\\n",
       "4   FRA  2018  Cattle, non-dairy   1759.820777  TMA_CO2eq  scenario_0   \n",
       "4   FRA  2018  Cattle, non-dairy    879.910389  TMA_CO2eq  scenario_1   \n",
       "23  FRA  2018  Cattle, non-dairy   2990.464678  TMP_CO2eq  scenario_0   \n",
       "23  FRA  2018  Cattle, non-dairy   1495.232339  TMP_CO2eq  scenario_1   \n",
       "46  FRA  2018  Cattle, non-dairy   2973.253021  TMT_CO2eq  scenario_0   \n",
       "46  FRA  2018  Cattle, non-dairy   1486.626511  TMT_CO2eq  scenario_1   \n",
       "65  FRA  2018  Cattle, non-dairy  17948.591262  TEE_CO2eq  scenario_0   \n",
       "65  FRA  2018  Cattle, non-dairy   8974.295631  TEE_CO2eq  scenario_1   \n",
       "\n",
       "                                     name               unit  \n",
       "4      Emissions (CO2eq) (Manure applied)  gigagrams (CO2eq)  \n",
       "4      Emissions (CO2eq) (Manure applied)  gigagrams (CO2eq)  \n",
       "23  Emissions (CO2eq) (Manure on pasture)  gigagrams (CO2eq)  \n",
       "23  Emissions (CO2eq) (Manure on pasture)  gigagrams (CO2eq)  \n",
       "46  Emissions (CO2eq) (Manure management)  gigagrams (CO2eq)  \n",
       "46  Emissions (CO2eq) (Manure management)  gigagrams (CO2eq)  \n",
       "65            Emissions (CO2eq) (Enteric)  gigagrams (CO2eq)  \n",
       "65            Emissions (CO2eq) (Enteric)  gigagrams (CO2eq)  "
      ]
     },
     "execution_count": 256,
     "metadata": {},
     "output_type": "execute_result"
    }
   ],
   "source": [
    "df.query('Item == \"Cattle, non-dairy\"')"
   ]
  },
  {
   "cell_type": "code",
   "execution_count": null,
   "metadata": {},
   "outputs": [],
   "source": []
  },
  {
   "cell_type": "code",
   "execution_count": 152,
   "metadata": {
    "ExecuteTime": {
     "end_time": "2021-06-09T03:02:05.346311Z",
     "start_time": "2021-06-09T03:02:05.341764Z"
    }
   },
   "outputs": [],
   "source": [
    "def apply_pct_by_item(series, percent_target=1):\n",
    "    pass"
   ]
  },
  {
   "cell_type": "code",
   "execution_count": 176,
   "metadata": {
    "ExecuteTime": {
     "end_time": "2021-06-09T04:00:42.247401Z",
     "start_time": "2021-06-09T04:00:42.239547Z"
    }
   },
   "outputs": [
    {
     "data": {
      "text/plain": [
       "['TAi_pct_Asses',\n",
       " 'TAi_pct_Cattle_dairy',\n",
       " 'TAi_pct_Cattle_non_dairy',\n",
       " 'TAi_pct_Chickens_broilers',\n",
       " 'TAi_pct_Chickens_layers',\n",
       " 'TAi_pct_Ducks',\n",
       " 'TAi_pct_Goats',\n",
       " 'TAi_pct_Horses',\n",
       " 'TAi_pct_Mules',\n",
       " 'TAi_pct_Sheep',\n",
       " 'TAi_pct_Swine_breeding',\n",
       " 'TAi_pct_Swine_market',\n",
       " 'TAi_pct_Turkeys']"
      ]
     },
     "execution_count": 176,
     "metadata": {},
     "output_type": "execute_result"
    }
   ],
   "source": [
    "Items = ['Asses', 'Cattle, dairy', 'Cattle, non_dairy',\n",
    "         'Chickens, broilers', 'Chickens, layers', 'Ducks', 'Goats',\n",
    "         'Horses', 'Mules', 'Sheep', 'Swine, breeding', 'Swine, market',\n",
    "         'Turkeys']\n",
    "\n",
    "sliders_name = [f\"TAi_pct_{'_'.join(item.split(', '))}\" for item in Items]\n",
    "sliders_name"
   ]
  },
  {
   "cell_type": "code",
   "execution_count": 180,
   "metadata": {
    "ExecuteTime": {
     "end_time": "2021-06-09T04:00:59.550761Z",
     "start_time": "2021-06-09T04:00:59.538358Z"
    }
   },
   "outputs": [],
   "source": []
  },
  {
   "cell_type": "code",
   "execution_count": 126,
   "metadata": {
    "ExecuteTime": {
     "end_time": "2021-06-09T02:50:34.298499Z",
     "start_time": "2021-06-09T02:50:34.294530Z"
    }
   },
   "outputs": [],
   "source": [
    "from ggmodel_dev.models.landuse.GE3 import model_dictionnary\n"
   ]
  },
  {
   "cell_type": "code",
   "execution_count": 136,
   "metadata": {
    "ExecuteTime": {
     "end_time": "2021-06-09T02:53:43.006932Z",
     "start_time": "2021-06-09T02:53:42.817695Z"
    }
   },
   "outputs": [
    {
     "data": {
      "application/vnd.plotly.v1+json": {
       "config": {
        "plotlyServerURL": "https://plot.ly"
       },
       "data": [
        {
         "branchvalues": "total",
         "domain": {
          "x": [
           0,
           1
          ],
          "y": [
           0,
           1
          ]
         },
         "hovertemplate": "labels=%{label}<br>Value=%{value}<br>parent=%{parent}<br>id=%{id}<extra></extra>",
         "ids": [
          "Asses/Emissions (CO2eq) (Enteric)/scenario_0",
          "Cattle, dairy/Emissions (CO2eq) (Enteric)/scenario_0",
          "Cattle, non-dairy/Emissions (CO2eq) (Enteric)/scenario_0",
          "Goats/Emissions (CO2eq) (Enteric)/scenario_0",
          "Horses/Emissions (CO2eq) (Enteric)/scenario_0",
          "Mules/Emissions (CO2eq) (Enteric)/scenario_0",
          "Sheep/Emissions (CO2eq) (Enteric)/scenario_0",
          "Swine, breeding/Emissions (CO2eq) (Enteric)/scenario_0",
          "Swine, market/Emissions (CO2eq) (Enteric)/scenario_0",
          "Asses/Emissions (CO2eq) (Manure applied)/scenario_0",
          "Cattle, dairy/Emissions (CO2eq) (Manure applied)/scenario_0",
          "Cattle, non-dairy/Emissions (CO2eq) (Manure applied)/scenario_0",
          "Chickens, broilers/Emissions (CO2eq) (Manure applied)/scenario_0",
          "Chickens, layers/Emissions (CO2eq) (Manure applied)/scenario_0",
          "Ducks/Emissions (CO2eq) (Manure applied)/scenario_0",
          "Goats/Emissions (CO2eq) (Manure applied)/scenario_0",
          "Horses/Emissions (CO2eq) (Manure applied)/scenario_0",
          "Mules/Emissions (CO2eq) (Manure applied)/scenario_0",
          "Sheep/Emissions (CO2eq) (Manure applied)/scenario_0",
          "Swine, breeding/Emissions (CO2eq) (Manure applied)/scenario_0",
          "Swine, market/Emissions (CO2eq) (Manure applied)/scenario_0",
          "Turkeys/Emissions (CO2eq) (Manure applied)/scenario_0",
          "Asses/Emissions (CO2eq) (Manure management)/scenario_0",
          "Cattle, dairy/Emissions (CO2eq) (Manure management)/scenario_0",
          "Cattle, non-dairy/Emissions (CO2eq) (Manure management)/scenario_0",
          "Chickens, broilers/Emissions (CO2eq) (Manure management)/scenario_0",
          "Chickens, layers/Emissions (CO2eq) (Manure management)/scenario_0",
          "Ducks/Emissions (CO2eq) (Manure management)/scenario_0",
          "Goats/Emissions (CO2eq) (Manure management)/scenario_0",
          "Horses/Emissions (CO2eq) (Manure management)/scenario_0",
          "Mules/Emissions (CO2eq) (Manure management)/scenario_0",
          "Sheep/Emissions (CO2eq) (Manure management)/scenario_0",
          "Swine, breeding/Emissions (CO2eq) (Manure management)/scenario_0",
          "Swine, market/Emissions (CO2eq) (Manure management)/scenario_0",
          "Turkeys/Emissions (CO2eq) (Manure management)/scenario_0",
          "Asses/Emissions (CO2eq) (Manure on pasture)/scenario_0",
          "Cattle, dairy/Emissions (CO2eq) (Manure on pasture)/scenario_0",
          "Cattle, non-dairy/Emissions (CO2eq) (Manure on pasture)/scenario_0",
          "Chickens, broilers/Emissions (CO2eq) (Manure on pasture)/scenario_0",
          "Chickens, layers/Emissions (CO2eq) (Manure on pasture)/scenario_0",
          "Ducks/Emissions (CO2eq) (Manure on pasture)/scenario_0",
          "Goats/Emissions (CO2eq) (Manure on pasture)/scenario_0",
          "Horses/Emissions (CO2eq) (Manure on pasture)/scenario_0",
          "Mules/Emissions (CO2eq) (Manure on pasture)/scenario_0",
          "Sheep/Emissions (CO2eq) (Manure on pasture)/scenario_0",
          "Turkeys/Emissions (CO2eq) (Manure on pasture)/scenario_0",
          "Asses/Emissions (CO2eq) (Enteric)/scenario_1",
          "Cattle, dairy/Emissions (CO2eq) (Enteric)/scenario_1",
          "Cattle, non-dairy/Emissions (CO2eq) (Enteric)/scenario_1",
          "Goats/Emissions (CO2eq) (Enteric)/scenario_1",
          "Horses/Emissions (CO2eq) (Enteric)/scenario_1",
          "Mules/Emissions (CO2eq) (Enteric)/scenario_1",
          "Sheep/Emissions (CO2eq) (Enteric)/scenario_1",
          "Swine, breeding/Emissions (CO2eq) (Enteric)/scenario_1",
          "Swine, market/Emissions (CO2eq) (Enteric)/scenario_1",
          "Asses/Emissions (CO2eq) (Manure applied)/scenario_1",
          "Cattle, dairy/Emissions (CO2eq) (Manure applied)/scenario_1",
          "Cattle, non-dairy/Emissions (CO2eq) (Manure applied)/scenario_1",
          "Chickens, broilers/Emissions (CO2eq) (Manure applied)/scenario_1",
          "Chickens, layers/Emissions (CO2eq) (Manure applied)/scenario_1",
          "Ducks/Emissions (CO2eq) (Manure applied)/scenario_1",
          "Goats/Emissions (CO2eq) (Manure applied)/scenario_1",
          "Horses/Emissions (CO2eq) (Manure applied)/scenario_1",
          "Mules/Emissions (CO2eq) (Manure applied)/scenario_1",
          "Sheep/Emissions (CO2eq) (Manure applied)/scenario_1",
          "Swine, breeding/Emissions (CO2eq) (Manure applied)/scenario_1",
          "Swine, market/Emissions (CO2eq) (Manure applied)/scenario_1",
          "Turkeys/Emissions (CO2eq) (Manure applied)/scenario_1",
          "Asses/Emissions (CO2eq) (Manure management)/scenario_1",
          "Cattle, dairy/Emissions (CO2eq) (Manure management)/scenario_1",
          "Cattle, non-dairy/Emissions (CO2eq) (Manure management)/scenario_1",
          "Chickens, broilers/Emissions (CO2eq) (Manure management)/scenario_1",
          "Chickens, layers/Emissions (CO2eq) (Manure management)/scenario_1",
          "Ducks/Emissions (CO2eq) (Manure management)/scenario_1",
          "Goats/Emissions (CO2eq) (Manure management)/scenario_1",
          "Horses/Emissions (CO2eq) (Manure management)/scenario_1",
          "Mules/Emissions (CO2eq) (Manure management)/scenario_1",
          "Sheep/Emissions (CO2eq) (Manure management)/scenario_1",
          "Swine, breeding/Emissions (CO2eq) (Manure management)/scenario_1",
          "Swine, market/Emissions (CO2eq) (Manure management)/scenario_1",
          "Turkeys/Emissions (CO2eq) (Manure management)/scenario_1",
          "Asses/Emissions (CO2eq) (Manure on pasture)/scenario_1",
          "Cattle, dairy/Emissions (CO2eq) (Manure on pasture)/scenario_1",
          "Cattle, non-dairy/Emissions (CO2eq) (Manure on pasture)/scenario_1",
          "Chickens, broilers/Emissions (CO2eq) (Manure on pasture)/scenario_1",
          "Chickens, layers/Emissions (CO2eq) (Manure on pasture)/scenario_1",
          "Ducks/Emissions (CO2eq) (Manure on pasture)/scenario_1",
          "Goats/Emissions (CO2eq) (Manure on pasture)/scenario_1",
          "Horses/Emissions (CO2eq) (Manure on pasture)/scenario_1",
          "Mules/Emissions (CO2eq) (Manure on pasture)/scenario_1",
          "Sheep/Emissions (CO2eq) (Manure on pasture)/scenario_1",
          "Turkeys/Emissions (CO2eq) (Manure on pasture)/scenario_1",
          "Asses/Emissions (CO2eq) (Enteric)",
          "Cattle, dairy/Emissions (CO2eq) (Enteric)",
          "Cattle, non-dairy/Emissions (CO2eq) (Enteric)",
          "Goats/Emissions (CO2eq) (Enteric)",
          "Horses/Emissions (CO2eq) (Enteric)",
          "Mules/Emissions (CO2eq) (Enteric)",
          "Sheep/Emissions (CO2eq) (Enteric)",
          "Swine, breeding/Emissions (CO2eq) (Enteric)",
          "Swine, market/Emissions (CO2eq) (Enteric)",
          "Asses/Emissions (CO2eq) (Manure applied)",
          "Cattle, dairy/Emissions (CO2eq) (Manure applied)",
          "Cattle, non-dairy/Emissions (CO2eq) (Manure applied)",
          "Chickens, broilers/Emissions (CO2eq) (Manure applied)",
          "Chickens, layers/Emissions (CO2eq) (Manure applied)",
          "Ducks/Emissions (CO2eq) (Manure applied)",
          "Goats/Emissions (CO2eq) (Manure applied)",
          "Horses/Emissions (CO2eq) (Manure applied)",
          "Mules/Emissions (CO2eq) (Manure applied)",
          "Sheep/Emissions (CO2eq) (Manure applied)",
          "Swine, breeding/Emissions (CO2eq) (Manure applied)",
          "Swine, market/Emissions (CO2eq) (Manure applied)",
          "Turkeys/Emissions (CO2eq) (Manure applied)",
          "Asses/Emissions (CO2eq) (Manure management)",
          "Cattle, dairy/Emissions (CO2eq) (Manure management)",
          "Cattle, non-dairy/Emissions (CO2eq) (Manure management)",
          "Chickens, broilers/Emissions (CO2eq) (Manure management)",
          "Chickens, layers/Emissions (CO2eq) (Manure management)",
          "Ducks/Emissions (CO2eq) (Manure management)",
          "Goats/Emissions (CO2eq) (Manure management)",
          "Horses/Emissions (CO2eq) (Manure management)",
          "Mules/Emissions (CO2eq) (Manure management)",
          "Sheep/Emissions (CO2eq) (Manure management)",
          "Swine, breeding/Emissions (CO2eq) (Manure management)",
          "Swine, market/Emissions (CO2eq) (Manure management)",
          "Turkeys/Emissions (CO2eq) (Manure management)",
          "Asses/Emissions (CO2eq) (Manure on pasture)",
          "Cattle, dairy/Emissions (CO2eq) (Manure on pasture)",
          "Cattle, non-dairy/Emissions (CO2eq) (Manure on pasture)",
          "Chickens, broilers/Emissions (CO2eq) (Manure on pasture)",
          "Chickens, layers/Emissions (CO2eq) (Manure on pasture)",
          "Ducks/Emissions (CO2eq) (Manure on pasture)",
          "Goats/Emissions (CO2eq) (Manure on pasture)",
          "Horses/Emissions (CO2eq) (Manure on pasture)",
          "Mules/Emissions (CO2eq) (Manure on pasture)",
          "Sheep/Emissions (CO2eq) (Manure on pasture)",
          "Turkeys/Emissions (CO2eq) (Manure on pasture)",
          "Asses",
          "Cattle, dairy",
          "Cattle, non-dairy",
          "Chickens, broilers",
          "Chickens, layers",
          "Ducks",
          "Goats",
          "Horses",
          "Mules",
          "Sheep",
          "Swine, breeding",
          "Swine, market",
          "Turkeys"
         ],
         "labels": [
          "scenario_0",
          "scenario_0",
          "scenario_0",
          "scenario_0",
          "scenario_0",
          "scenario_0",
          "scenario_0",
          "scenario_0",
          "scenario_0",
          "scenario_0",
          "scenario_0",
          "scenario_0",
          "scenario_0",
          "scenario_0",
          "scenario_0",
          "scenario_0",
          "scenario_0",
          "scenario_0",
          "scenario_0",
          "scenario_0",
          "scenario_0",
          "scenario_0",
          "scenario_0",
          "scenario_0",
          "scenario_0",
          "scenario_0",
          "scenario_0",
          "scenario_0",
          "scenario_0",
          "scenario_0",
          "scenario_0",
          "scenario_0",
          "scenario_0",
          "scenario_0",
          "scenario_0",
          "scenario_0",
          "scenario_0",
          "scenario_0",
          "scenario_0",
          "scenario_0",
          "scenario_0",
          "scenario_0",
          "scenario_0",
          "scenario_0",
          "scenario_0",
          "scenario_0",
          "scenario_1",
          "scenario_1",
          "scenario_1",
          "scenario_1",
          "scenario_1",
          "scenario_1",
          "scenario_1",
          "scenario_1",
          "scenario_1",
          "scenario_1",
          "scenario_1",
          "scenario_1",
          "scenario_1",
          "scenario_1",
          "scenario_1",
          "scenario_1",
          "scenario_1",
          "scenario_1",
          "scenario_1",
          "scenario_1",
          "scenario_1",
          "scenario_1",
          "scenario_1",
          "scenario_1",
          "scenario_1",
          "scenario_1",
          "scenario_1",
          "scenario_1",
          "scenario_1",
          "scenario_1",
          "scenario_1",
          "scenario_1",
          "scenario_1",
          "scenario_1",
          "scenario_1",
          "scenario_1",
          "scenario_1",
          "scenario_1",
          "scenario_1",
          "scenario_1",
          "scenario_1",
          "scenario_1",
          "scenario_1",
          "scenario_1",
          "scenario_1",
          "scenario_1",
          "Emissions (CO2eq) (Enteric)",
          "Emissions (CO2eq) (Enteric)",
          "Emissions (CO2eq) (Enteric)",
          "Emissions (CO2eq) (Enteric)",
          "Emissions (CO2eq) (Enteric)",
          "Emissions (CO2eq) (Enteric)",
          "Emissions (CO2eq) (Enteric)",
          "Emissions (CO2eq) (Enteric)",
          "Emissions (CO2eq) (Enteric)",
          "Emissions (CO2eq) (Manure applied)",
          "Emissions (CO2eq) (Manure applied)",
          "Emissions (CO2eq) (Manure applied)",
          "Emissions (CO2eq) (Manure applied)",
          "Emissions (CO2eq) (Manure applied)",
          "Emissions (CO2eq) (Manure applied)",
          "Emissions (CO2eq) (Manure applied)",
          "Emissions (CO2eq) (Manure applied)",
          "Emissions (CO2eq) (Manure applied)",
          "Emissions (CO2eq) (Manure applied)",
          "Emissions (CO2eq) (Manure applied)",
          "Emissions (CO2eq) (Manure applied)",
          "Emissions (CO2eq) (Manure applied)",
          "Emissions (CO2eq) (Manure management)",
          "Emissions (CO2eq) (Manure management)",
          "Emissions (CO2eq) (Manure management)",
          "Emissions (CO2eq) (Manure management)",
          "Emissions (CO2eq) (Manure management)",
          "Emissions (CO2eq) (Manure management)",
          "Emissions (CO2eq) (Manure management)",
          "Emissions (CO2eq) (Manure management)",
          "Emissions (CO2eq) (Manure management)",
          "Emissions (CO2eq) (Manure management)",
          "Emissions (CO2eq) (Manure management)",
          "Emissions (CO2eq) (Manure management)",
          "Emissions (CO2eq) (Manure management)",
          "Emissions (CO2eq) (Manure on pasture)",
          "Emissions (CO2eq) (Manure on pasture)",
          "Emissions (CO2eq) (Manure on pasture)",
          "Emissions (CO2eq) (Manure on pasture)",
          "Emissions (CO2eq) (Manure on pasture)",
          "Emissions (CO2eq) (Manure on pasture)",
          "Emissions (CO2eq) (Manure on pasture)",
          "Emissions (CO2eq) (Manure on pasture)",
          "Emissions (CO2eq) (Manure on pasture)",
          "Emissions (CO2eq) (Manure on pasture)",
          "Emissions (CO2eq) (Manure on pasture)",
          "Asses",
          "Cattle, dairy",
          "Cattle, non-dairy",
          "Chickens, broilers",
          "Chickens, layers",
          "Ducks",
          "Goats",
          "Horses",
          "Mules",
          "Sheep",
          "Swine, breeding",
          "Swine, market",
          "Turkeys"
         ],
         "name": "",
         "parents": [
          "Asses/Emissions (CO2eq) (Enteric)",
          "Cattle, dairy/Emissions (CO2eq) (Enteric)",
          "Cattle, non-dairy/Emissions (CO2eq) (Enteric)",
          "Goats/Emissions (CO2eq) (Enteric)",
          "Horses/Emissions (CO2eq) (Enteric)",
          "Mules/Emissions (CO2eq) (Enteric)",
          "Sheep/Emissions (CO2eq) (Enteric)",
          "Swine, breeding/Emissions (CO2eq) (Enteric)",
          "Swine, market/Emissions (CO2eq) (Enteric)",
          "Asses/Emissions (CO2eq) (Manure applied)",
          "Cattle, dairy/Emissions (CO2eq) (Manure applied)",
          "Cattle, non-dairy/Emissions (CO2eq) (Manure applied)",
          "Chickens, broilers/Emissions (CO2eq) (Manure applied)",
          "Chickens, layers/Emissions (CO2eq) (Manure applied)",
          "Ducks/Emissions (CO2eq) (Manure applied)",
          "Goats/Emissions (CO2eq) (Manure applied)",
          "Horses/Emissions (CO2eq) (Manure applied)",
          "Mules/Emissions (CO2eq) (Manure applied)",
          "Sheep/Emissions (CO2eq) (Manure applied)",
          "Swine, breeding/Emissions (CO2eq) (Manure applied)",
          "Swine, market/Emissions (CO2eq) (Manure applied)",
          "Turkeys/Emissions (CO2eq) (Manure applied)",
          "Asses/Emissions (CO2eq) (Manure management)",
          "Cattle, dairy/Emissions (CO2eq) (Manure management)",
          "Cattle, non-dairy/Emissions (CO2eq) (Manure management)",
          "Chickens, broilers/Emissions (CO2eq) (Manure management)",
          "Chickens, layers/Emissions (CO2eq) (Manure management)",
          "Ducks/Emissions (CO2eq) (Manure management)",
          "Goats/Emissions (CO2eq) (Manure management)",
          "Horses/Emissions (CO2eq) (Manure management)",
          "Mules/Emissions (CO2eq) (Manure management)",
          "Sheep/Emissions (CO2eq) (Manure management)",
          "Swine, breeding/Emissions (CO2eq) (Manure management)",
          "Swine, market/Emissions (CO2eq) (Manure management)",
          "Turkeys/Emissions (CO2eq) (Manure management)",
          "Asses/Emissions (CO2eq) (Manure on pasture)",
          "Cattle, dairy/Emissions (CO2eq) (Manure on pasture)",
          "Cattle, non-dairy/Emissions (CO2eq) (Manure on pasture)",
          "Chickens, broilers/Emissions (CO2eq) (Manure on pasture)",
          "Chickens, layers/Emissions (CO2eq) (Manure on pasture)",
          "Ducks/Emissions (CO2eq) (Manure on pasture)",
          "Goats/Emissions (CO2eq) (Manure on pasture)",
          "Horses/Emissions (CO2eq) (Manure on pasture)",
          "Mules/Emissions (CO2eq) (Manure on pasture)",
          "Sheep/Emissions (CO2eq) (Manure on pasture)",
          "Turkeys/Emissions (CO2eq) (Manure on pasture)",
          "Asses/Emissions (CO2eq) (Enteric)",
          "Cattle, dairy/Emissions (CO2eq) (Enteric)",
          "Cattle, non-dairy/Emissions (CO2eq) (Enteric)",
          "Goats/Emissions (CO2eq) (Enteric)",
          "Horses/Emissions (CO2eq) (Enteric)",
          "Mules/Emissions (CO2eq) (Enteric)",
          "Sheep/Emissions (CO2eq) (Enteric)",
          "Swine, breeding/Emissions (CO2eq) (Enteric)",
          "Swine, market/Emissions (CO2eq) (Enteric)",
          "Asses/Emissions (CO2eq) (Manure applied)",
          "Cattle, dairy/Emissions (CO2eq) (Manure applied)",
          "Cattle, non-dairy/Emissions (CO2eq) (Manure applied)",
          "Chickens, broilers/Emissions (CO2eq) (Manure applied)",
          "Chickens, layers/Emissions (CO2eq) (Manure applied)",
          "Ducks/Emissions (CO2eq) (Manure applied)",
          "Goats/Emissions (CO2eq) (Manure applied)",
          "Horses/Emissions (CO2eq) (Manure applied)",
          "Mules/Emissions (CO2eq) (Manure applied)",
          "Sheep/Emissions (CO2eq) (Manure applied)",
          "Swine, breeding/Emissions (CO2eq) (Manure applied)",
          "Swine, market/Emissions (CO2eq) (Manure applied)",
          "Turkeys/Emissions (CO2eq) (Manure applied)",
          "Asses/Emissions (CO2eq) (Manure management)",
          "Cattle, dairy/Emissions (CO2eq) (Manure management)",
          "Cattle, non-dairy/Emissions (CO2eq) (Manure management)",
          "Chickens, broilers/Emissions (CO2eq) (Manure management)",
          "Chickens, layers/Emissions (CO2eq) (Manure management)",
          "Ducks/Emissions (CO2eq) (Manure management)",
          "Goats/Emissions (CO2eq) (Manure management)",
          "Horses/Emissions (CO2eq) (Manure management)",
          "Mules/Emissions (CO2eq) (Manure management)",
          "Sheep/Emissions (CO2eq) (Manure management)",
          "Swine, breeding/Emissions (CO2eq) (Manure management)",
          "Swine, market/Emissions (CO2eq) (Manure management)",
          "Turkeys/Emissions (CO2eq) (Manure management)",
          "Asses/Emissions (CO2eq) (Manure on pasture)",
          "Cattle, dairy/Emissions (CO2eq) (Manure on pasture)",
          "Cattle, non-dairy/Emissions (CO2eq) (Manure on pasture)",
          "Chickens, broilers/Emissions (CO2eq) (Manure on pasture)",
          "Chickens, layers/Emissions (CO2eq) (Manure on pasture)",
          "Ducks/Emissions (CO2eq) (Manure on pasture)",
          "Goats/Emissions (CO2eq) (Manure on pasture)",
          "Horses/Emissions (CO2eq) (Manure on pasture)",
          "Mules/Emissions (CO2eq) (Manure on pasture)",
          "Sheep/Emissions (CO2eq) (Manure on pasture)",
          "Turkeys/Emissions (CO2eq) (Manure on pasture)",
          "Asses",
          "Cattle, dairy",
          "Cattle, non-dairy",
          "Goats",
          "Horses",
          "Mules",
          "Sheep",
          "Swine, breeding",
          "Swine, market",
          "Asses",
          "Cattle, dairy",
          "Cattle, non-dairy",
          "Chickens, broilers",
          "Chickens, layers",
          "Ducks",
          "Goats",
          "Horses",
          "Mules",
          "Sheep",
          "Swine, breeding",
          "Swine, market",
          "Turkeys",
          "Asses",
          "Cattle, dairy",
          "Cattle, non-dairy",
          "Chickens, broilers",
          "Chickens, layers",
          "Ducks",
          "Goats",
          "Horses",
          "Mules",
          "Sheep",
          "Swine, breeding",
          "Swine, market",
          "Turkeys",
          "Asses",
          "Cattle, dairy",
          "Cattle, non-dairy",
          "Chickens, broilers",
          "Chickens, layers",
          "Ducks",
          "Goats",
          "Horses",
          "Mules",
          "Sheep",
          "Turkeys",
          "",
          "",
          "",
          "",
          "",
          "",
          "",
          "",
          "",
          "",
          "",
          "",
          ""
         ],
         "type": "treemap",
         "values": [
          6.396599999999999,
          8728.335251999999,
          17948.591261999998,
          136.35888,
          140.193018,
          5.877479999999999,
          1183.090608,
          41.972868,
          377.7559065,
          2.6153923400462,
          2599.0162712534593,
          5279.462332410406,
          268.1490981460004,
          259.4878255528416,
          136.4925145359204,
          162.57549076908342,
          92.35055964409578,
          2.40313856904836,
          737.4959462046879,
          281.4899024488431,
          776.8392108337254,
          240.702832333964,
          0.4861415999999999,
          1648.7153880624,
          2062.5765348132,
          44.78166,
          226.0540233,
          10.06992,
          3.54533088,
          12.15006156,
          0.44668848,
          28.098401940000002,
          267.2328559824,
          1511.0236259999997,
          35.588699999999996,
          0.8717974466820667,
          1472.1700557449662,
          2990.464677798901,
          151.26359382594896,
          146.98261447398718,
          77.31394180006679,
          54.19183025636113,
          30.783519881365255,
          0.8010461896827867,
          245.8319820682293,
          136.34216376958798,
          6.396599999999999,
          8728.335251999999,
          17948.591261999998,
          136.35888,
          140.193018,
          5.877479999999999,
          1183.090608,
          41.972868,
          377.7559065,
          0.8717974466820667,
          866.3387570844865,
          1759.8207774701352,
          89.38303271533348,
          86.4959418509472,
          45.4975048453068,
          54.19183025636113,
          30.783519881365255,
          0.8010461896827867,
          245.8319820682293,
          93.82996748294771,
          258.94640361124175,
          80.23427744465467,
          0.7909658820566666,
          2121.263801017574,
          2973.2530210564864,
          76.65952481455949,
          256.9022263377504,
          26.2963028469276,
          22.493523277329068,
          22.913530049987855,
          0.7267745603086666,
          134.68289766188963,
          300.6966905392555,
          1603.3751405746384,
          64.20372202571599,
          2.6153923400462,
          4416.510167234899,
          8971.394033396702,
          453.7907814778469,
          440.9478434219616,
          231.9418254002004,
          162.57549076908342,
          92.35055964409578,
          2.40313856904836,
          737.4959462046879,
          409.0264913087639,
          12.793199999999999,
          17456.670503999998,
          35897.182523999996,
          272.71776,
          280.386036,
          11.754959999999999,
          2366.181216,
          83.945736,
          755.511813,
          3.487189786728267,
          3465.355028337946,
          7039.283109880541,
          357.53213086133394,
          345.9837674037888,
          181.9900193812272,
          216.76732102544455,
          123.13407952546103,
          3.204184758731147,
          983.3279282729172,
          375.31986993179083,
          1035.785614444967,
          320.93710977861866,
          1.2771074820566666,
          3769.9791890799743,
          5035.829555869686,
          121.44118481455949,
          482.9562496377504,
          36.3662228469276,
          26.03885415732907,
          35.06359160998785,
          1.1734630403086665,
          162.78129960188963,
          567.9295465216555,
          3114.398766574638,
          99.79242202571598,
          3.487189786728267,
          5888.680222979865,
          11961.858711195604,
          605.0543753037958,
          587.9304578959487,
          309.2557672002672,
          216.76732102544455,
          123.13407952546103,
          3.204184758731147,
          983.3279282729172,
          545.3686550783519,
          21.0446870555132,
          30580.684944397784,
          59934.153900945836,
          1084.0276909796892,
          1416.8704749374879,
          527.612009428422,
          732.2912562082182,
          561.71778666091,
          19.33679255777096,
          4495.618372147725,
          1027.1951524534463,
          4905.696194019604,
          966.0981868826866
         ]
        }
       ],
       "layout": {
        "legend": {
         "tracegroupgap": 0
        },
        "margin": {
         "t": 60
        },
        "template": {
         "data": {
          "bar": [
           {
            "error_x": {
             "color": "#2a3f5f"
            },
            "error_y": {
             "color": "#2a3f5f"
            },
            "marker": {
             "line": {
              "color": "#E5ECF6",
              "width": 0.5
             }
            },
            "type": "bar"
           }
          ],
          "barpolar": [
           {
            "marker": {
             "line": {
              "color": "#E5ECF6",
              "width": 0.5
             }
            },
            "type": "barpolar"
           }
          ],
          "carpet": [
           {
            "aaxis": {
             "endlinecolor": "#2a3f5f",
             "gridcolor": "white",
             "linecolor": "white",
             "minorgridcolor": "white",
             "startlinecolor": "#2a3f5f"
            },
            "baxis": {
             "endlinecolor": "#2a3f5f",
             "gridcolor": "white",
             "linecolor": "white",
             "minorgridcolor": "white",
             "startlinecolor": "#2a3f5f"
            },
            "type": "carpet"
           }
          ],
          "choropleth": [
           {
            "colorbar": {
             "outlinewidth": 0,
             "ticks": ""
            },
            "type": "choropleth"
           }
          ],
          "contour": [
           {
            "colorbar": {
             "outlinewidth": 0,
             "ticks": ""
            },
            "colorscale": [
             [
              0,
              "#0d0887"
             ],
             [
              0.1111111111111111,
              "#46039f"
             ],
             [
              0.2222222222222222,
              "#7201a8"
             ],
             [
              0.3333333333333333,
              "#9c179e"
             ],
             [
              0.4444444444444444,
              "#bd3786"
             ],
             [
              0.5555555555555556,
              "#d8576b"
             ],
             [
              0.6666666666666666,
              "#ed7953"
             ],
             [
              0.7777777777777778,
              "#fb9f3a"
             ],
             [
              0.8888888888888888,
              "#fdca26"
             ],
             [
              1,
              "#f0f921"
             ]
            ],
            "type": "contour"
           }
          ],
          "contourcarpet": [
           {
            "colorbar": {
             "outlinewidth": 0,
             "ticks": ""
            },
            "type": "contourcarpet"
           }
          ],
          "heatmap": [
           {
            "colorbar": {
             "outlinewidth": 0,
             "ticks": ""
            },
            "colorscale": [
             [
              0,
              "#0d0887"
             ],
             [
              0.1111111111111111,
              "#46039f"
             ],
             [
              0.2222222222222222,
              "#7201a8"
             ],
             [
              0.3333333333333333,
              "#9c179e"
             ],
             [
              0.4444444444444444,
              "#bd3786"
             ],
             [
              0.5555555555555556,
              "#d8576b"
             ],
             [
              0.6666666666666666,
              "#ed7953"
             ],
             [
              0.7777777777777778,
              "#fb9f3a"
             ],
             [
              0.8888888888888888,
              "#fdca26"
             ],
             [
              1,
              "#f0f921"
             ]
            ],
            "type": "heatmap"
           }
          ],
          "heatmapgl": [
           {
            "colorbar": {
             "outlinewidth": 0,
             "ticks": ""
            },
            "colorscale": [
             [
              0,
              "#0d0887"
             ],
             [
              0.1111111111111111,
              "#46039f"
             ],
             [
              0.2222222222222222,
              "#7201a8"
             ],
             [
              0.3333333333333333,
              "#9c179e"
             ],
             [
              0.4444444444444444,
              "#bd3786"
             ],
             [
              0.5555555555555556,
              "#d8576b"
             ],
             [
              0.6666666666666666,
              "#ed7953"
             ],
             [
              0.7777777777777778,
              "#fb9f3a"
             ],
             [
              0.8888888888888888,
              "#fdca26"
             ],
             [
              1,
              "#f0f921"
             ]
            ],
            "type": "heatmapgl"
           }
          ],
          "histogram": [
           {
            "marker": {
             "colorbar": {
              "outlinewidth": 0,
              "ticks": ""
             }
            },
            "type": "histogram"
           }
          ],
          "histogram2d": [
           {
            "colorbar": {
             "outlinewidth": 0,
             "ticks": ""
            },
            "colorscale": [
             [
              0,
              "#0d0887"
             ],
             [
              0.1111111111111111,
              "#46039f"
             ],
             [
              0.2222222222222222,
              "#7201a8"
             ],
             [
              0.3333333333333333,
              "#9c179e"
             ],
             [
              0.4444444444444444,
              "#bd3786"
             ],
             [
              0.5555555555555556,
              "#d8576b"
             ],
             [
              0.6666666666666666,
              "#ed7953"
             ],
             [
              0.7777777777777778,
              "#fb9f3a"
             ],
             [
              0.8888888888888888,
              "#fdca26"
             ],
             [
              1,
              "#f0f921"
             ]
            ],
            "type": "histogram2d"
           }
          ],
          "histogram2dcontour": [
           {
            "colorbar": {
             "outlinewidth": 0,
             "ticks": ""
            },
            "colorscale": [
             [
              0,
              "#0d0887"
             ],
             [
              0.1111111111111111,
              "#46039f"
             ],
             [
              0.2222222222222222,
              "#7201a8"
             ],
             [
              0.3333333333333333,
              "#9c179e"
             ],
             [
              0.4444444444444444,
              "#bd3786"
             ],
             [
              0.5555555555555556,
              "#d8576b"
             ],
             [
              0.6666666666666666,
              "#ed7953"
             ],
             [
              0.7777777777777778,
              "#fb9f3a"
             ],
             [
              0.8888888888888888,
              "#fdca26"
             ],
             [
              1,
              "#f0f921"
             ]
            ],
            "type": "histogram2dcontour"
           }
          ],
          "mesh3d": [
           {
            "colorbar": {
             "outlinewidth": 0,
             "ticks": ""
            },
            "type": "mesh3d"
           }
          ],
          "parcoords": [
           {
            "line": {
             "colorbar": {
              "outlinewidth": 0,
              "ticks": ""
             }
            },
            "type": "parcoords"
           }
          ],
          "pie": [
           {
            "automargin": true,
            "type": "pie"
           }
          ],
          "scatter": [
           {
            "marker": {
             "colorbar": {
              "outlinewidth": 0,
              "ticks": ""
             }
            },
            "type": "scatter"
           }
          ],
          "scatter3d": [
           {
            "line": {
             "colorbar": {
              "outlinewidth": 0,
              "ticks": ""
             }
            },
            "marker": {
             "colorbar": {
              "outlinewidth": 0,
              "ticks": ""
             }
            },
            "type": "scatter3d"
           }
          ],
          "scattercarpet": [
           {
            "marker": {
             "colorbar": {
              "outlinewidth": 0,
              "ticks": ""
             }
            },
            "type": "scattercarpet"
           }
          ],
          "scattergeo": [
           {
            "marker": {
             "colorbar": {
              "outlinewidth": 0,
              "ticks": ""
             }
            },
            "type": "scattergeo"
           }
          ],
          "scattergl": [
           {
            "marker": {
             "colorbar": {
              "outlinewidth": 0,
              "ticks": ""
             }
            },
            "type": "scattergl"
           }
          ],
          "scattermapbox": [
           {
            "marker": {
             "colorbar": {
              "outlinewidth": 0,
              "ticks": ""
             }
            },
            "type": "scattermapbox"
           }
          ],
          "scatterpolar": [
           {
            "marker": {
             "colorbar": {
              "outlinewidth": 0,
              "ticks": ""
             }
            },
            "type": "scatterpolar"
           }
          ],
          "scatterpolargl": [
           {
            "marker": {
             "colorbar": {
              "outlinewidth": 0,
              "ticks": ""
             }
            },
            "type": "scatterpolargl"
           }
          ],
          "scatterternary": [
           {
            "marker": {
             "colorbar": {
              "outlinewidth": 0,
              "ticks": ""
             }
            },
            "type": "scatterternary"
           }
          ],
          "surface": [
           {
            "colorbar": {
             "outlinewidth": 0,
             "ticks": ""
            },
            "colorscale": [
             [
              0,
              "#0d0887"
             ],
             [
              0.1111111111111111,
              "#46039f"
             ],
             [
              0.2222222222222222,
              "#7201a8"
             ],
             [
              0.3333333333333333,
              "#9c179e"
             ],
             [
              0.4444444444444444,
              "#bd3786"
             ],
             [
              0.5555555555555556,
              "#d8576b"
             ],
             [
              0.6666666666666666,
              "#ed7953"
             ],
             [
              0.7777777777777778,
              "#fb9f3a"
             ],
             [
              0.8888888888888888,
              "#fdca26"
             ],
             [
              1,
              "#f0f921"
             ]
            ],
            "type": "surface"
           }
          ],
          "table": [
           {
            "cells": {
             "fill": {
              "color": "#EBF0F8"
             },
             "line": {
              "color": "white"
             }
            },
            "header": {
             "fill": {
              "color": "#C8D4E3"
             },
             "line": {
              "color": "white"
             }
            },
            "type": "table"
           }
          ]
         },
         "layout": {
          "annotationdefaults": {
           "arrowcolor": "#2a3f5f",
           "arrowhead": 0,
           "arrowwidth": 1
          },
          "autotypenumbers": "strict",
          "coloraxis": {
           "colorbar": {
            "outlinewidth": 0,
            "ticks": ""
           }
          },
          "colorscale": {
           "diverging": [
            [
             0,
             "#8e0152"
            ],
            [
             0.1,
             "#c51b7d"
            ],
            [
             0.2,
             "#de77ae"
            ],
            [
             0.3,
             "#f1b6da"
            ],
            [
             0.4,
             "#fde0ef"
            ],
            [
             0.5,
             "#f7f7f7"
            ],
            [
             0.6,
             "#e6f5d0"
            ],
            [
             0.7,
             "#b8e186"
            ],
            [
             0.8,
             "#7fbc41"
            ],
            [
             0.9,
             "#4d9221"
            ],
            [
             1,
             "#276419"
            ]
           ],
           "sequential": [
            [
             0,
             "#0d0887"
            ],
            [
             0.1111111111111111,
             "#46039f"
            ],
            [
             0.2222222222222222,
             "#7201a8"
            ],
            [
             0.3333333333333333,
             "#9c179e"
            ],
            [
             0.4444444444444444,
             "#bd3786"
            ],
            [
             0.5555555555555556,
             "#d8576b"
            ],
            [
             0.6666666666666666,
             "#ed7953"
            ],
            [
             0.7777777777777778,
             "#fb9f3a"
            ],
            [
             0.8888888888888888,
             "#fdca26"
            ],
            [
             1,
             "#f0f921"
            ]
           ],
           "sequentialminus": [
            [
             0,
             "#0d0887"
            ],
            [
             0.1111111111111111,
             "#46039f"
            ],
            [
             0.2222222222222222,
             "#7201a8"
            ],
            [
             0.3333333333333333,
             "#9c179e"
            ],
            [
             0.4444444444444444,
             "#bd3786"
            ],
            [
             0.5555555555555556,
             "#d8576b"
            ],
            [
             0.6666666666666666,
             "#ed7953"
            ],
            [
             0.7777777777777778,
             "#fb9f3a"
            ],
            [
             0.8888888888888888,
             "#fdca26"
            ],
            [
             1,
             "#f0f921"
            ]
           ]
          },
          "colorway": [
           "#636efa",
           "#EF553B",
           "#00cc96",
           "#ab63fa",
           "#FFA15A",
           "#19d3f3",
           "#FF6692",
           "#B6E880",
           "#FF97FF",
           "#FECB52"
          ],
          "font": {
           "color": "#2a3f5f"
          },
          "geo": {
           "bgcolor": "white",
           "lakecolor": "white",
           "landcolor": "#E5ECF6",
           "showlakes": true,
           "showland": true,
           "subunitcolor": "white"
          },
          "hoverlabel": {
           "align": "left"
          },
          "hovermode": "closest",
          "mapbox": {
           "style": "light"
          },
          "paper_bgcolor": "white",
          "plot_bgcolor": "#E5ECF6",
          "polar": {
           "angularaxis": {
            "gridcolor": "white",
            "linecolor": "white",
            "ticks": ""
           },
           "bgcolor": "#E5ECF6",
           "radialaxis": {
            "gridcolor": "white",
            "linecolor": "white",
            "ticks": ""
           }
          },
          "scene": {
           "xaxis": {
            "backgroundcolor": "#E5ECF6",
            "gridcolor": "white",
            "gridwidth": 2,
            "linecolor": "white",
            "showbackground": true,
            "ticks": "",
            "zerolinecolor": "white"
           },
           "yaxis": {
            "backgroundcolor": "#E5ECF6",
            "gridcolor": "white",
            "gridwidth": 2,
            "linecolor": "white",
            "showbackground": true,
            "ticks": "",
            "zerolinecolor": "white"
           },
           "zaxis": {
            "backgroundcolor": "#E5ECF6",
            "gridcolor": "white",
            "gridwidth": 2,
            "linecolor": "white",
            "showbackground": true,
            "ticks": "",
            "zerolinecolor": "white"
           }
          },
          "shapedefaults": {
           "line": {
            "color": "#2a3f5f"
           }
          },
          "ternary": {
           "aaxis": {
            "gridcolor": "white",
            "linecolor": "white",
            "ticks": ""
           },
           "baxis": {
            "gridcolor": "white",
            "linecolor": "white",
            "ticks": ""
           },
           "bgcolor": "#E5ECF6",
           "caxis": {
            "gridcolor": "white",
            "linecolor": "white",
            "ticks": ""
           }
          },
          "title": {
           "x": 0.05
          },
          "xaxis": {
           "automargin": true,
           "gridcolor": "white",
           "linecolor": "white",
           "ticks": "",
           "title": {
            "standoff": 15
           },
           "zerolinecolor": "white",
           "zerolinewidth": 2
          },
          "yaxis": {
           "automargin": true,
           "gridcolor": "white",
           "linecolor": "white",
           "ticks": "",
           "title": {
            "standoff": 15
           },
           "zerolinecolor": "white",
           "zerolinewidth": 2
          }
         }
        }
       }
      },
      "text/html": [
       "<div>                            <div id=\"519c8c96-4180-4790-bf7e-2d114ffd6199\" class=\"plotly-graph-div\" style=\"height:525px; width:100%;\"></div>            <script type=\"text/javascript\">                require([\"plotly\"], function(Plotly) {                    window.PLOTLYENV=window.PLOTLYENV || {};                                    if (document.getElementById(\"519c8c96-4180-4790-bf7e-2d114ffd6199\")) {                    Plotly.newPlot(                        \"519c8c96-4180-4790-bf7e-2d114ffd6199\",                        [{\"branchvalues\": \"total\", \"domain\": {\"x\": [0.0, 1.0], \"y\": [0.0, 1.0]}, \"hovertemplate\": \"labels=%{label}<br>Value=%{value}<br>parent=%{parent}<br>id=%{id}<extra></extra>\", \"ids\": [\"Asses/Emissions (CO2eq) (Enteric)/scenario_0\", \"Cattle, dairy/Emissions (CO2eq) (Enteric)/scenario_0\", \"Cattle, non-dairy/Emissions (CO2eq) (Enteric)/scenario_0\", \"Goats/Emissions (CO2eq) (Enteric)/scenario_0\", \"Horses/Emissions (CO2eq) (Enteric)/scenario_0\", \"Mules/Emissions (CO2eq) (Enteric)/scenario_0\", \"Sheep/Emissions (CO2eq) (Enteric)/scenario_0\", \"Swine, breeding/Emissions (CO2eq) (Enteric)/scenario_0\", \"Swine, market/Emissions (CO2eq) (Enteric)/scenario_0\", \"Asses/Emissions (CO2eq) (Manure applied)/scenario_0\", \"Cattle, dairy/Emissions (CO2eq) (Manure applied)/scenario_0\", \"Cattle, non-dairy/Emissions (CO2eq) (Manure applied)/scenario_0\", \"Chickens, broilers/Emissions (CO2eq) (Manure applied)/scenario_0\", \"Chickens, layers/Emissions (CO2eq) (Manure applied)/scenario_0\", \"Ducks/Emissions (CO2eq) (Manure applied)/scenario_0\", \"Goats/Emissions (CO2eq) (Manure applied)/scenario_0\", \"Horses/Emissions (CO2eq) (Manure applied)/scenario_0\", \"Mules/Emissions (CO2eq) (Manure applied)/scenario_0\", \"Sheep/Emissions (CO2eq) (Manure applied)/scenario_0\", \"Swine, breeding/Emissions (CO2eq) (Manure applied)/scenario_0\", \"Swine, market/Emissions (CO2eq) (Manure applied)/scenario_0\", \"Turkeys/Emissions (CO2eq) (Manure applied)/scenario_0\", \"Asses/Emissions (CO2eq) (Manure management)/scenario_0\", \"Cattle, dairy/Emissions (CO2eq) (Manure management)/scenario_0\", \"Cattle, non-dairy/Emissions (CO2eq) (Manure management)/scenario_0\", \"Chickens, broilers/Emissions (CO2eq) (Manure management)/scenario_0\", \"Chickens, layers/Emissions (CO2eq) (Manure management)/scenario_0\", \"Ducks/Emissions (CO2eq) (Manure management)/scenario_0\", \"Goats/Emissions (CO2eq) (Manure management)/scenario_0\", \"Horses/Emissions (CO2eq) (Manure management)/scenario_0\", \"Mules/Emissions (CO2eq) (Manure management)/scenario_0\", \"Sheep/Emissions (CO2eq) (Manure management)/scenario_0\", \"Swine, breeding/Emissions (CO2eq) (Manure management)/scenario_0\", \"Swine, market/Emissions (CO2eq) (Manure management)/scenario_0\", \"Turkeys/Emissions (CO2eq) (Manure management)/scenario_0\", \"Asses/Emissions (CO2eq) (Manure on pasture)/scenario_0\", \"Cattle, dairy/Emissions (CO2eq) (Manure on pasture)/scenario_0\", \"Cattle, non-dairy/Emissions (CO2eq) (Manure on pasture)/scenario_0\", \"Chickens, broilers/Emissions (CO2eq) (Manure on pasture)/scenario_0\", \"Chickens, layers/Emissions (CO2eq) (Manure on pasture)/scenario_0\", \"Ducks/Emissions (CO2eq) (Manure on pasture)/scenario_0\", \"Goats/Emissions (CO2eq) (Manure on pasture)/scenario_0\", \"Horses/Emissions (CO2eq) (Manure on pasture)/scenario_0\", \"Mules/Emissions (CO2eq) (Manure on pasture)/scenario_0\", \"Sheep/Emissions (CO2eq) (Manure on pasture)/scenario_0\", \"Turkeys/Emissions (CO2eq) (Manure on pasture)/scenario_0\", \"Asses/Emissions (CO2eq) (Enteric)/scenario_1\", \"Cattle, dairy/Emissions (CO2eq) (Enteric)/scenario_1\", \"Cattle, non-dairy/Emissions (CO2eq) (Enteric)/scenario_1\", \"Goats/Emissions (CO2eq) (Enteric)/scenario_1\", \"Horses/Emissions (CO2eq) (Enteric)/scenario_1\", \"Mules/Emissions (CO2eq) (Enteric)/scenario_1\", \"Sheep/Emissions (CO2eq) (Enteric)/scenario_1\", \"Swine, breeding/Emissions (CO2eq) (Enteric)/scenario_1\", \"Swine, market/Emissions (CO2eq) (Enteric)/scenario_1\", \"Asses/Emissions (CO2eq) (Manure applied)/scenario_1\", \"Cattle, dairy/Emissions (CO2eq) (Manure applied)/scenario_1\", \"Cattle, non-dairy/Emissions (CO2eq) (Manure applied)/scenario_1\", \"Chickens, broilers/Emissions (CO2eq) (Manure applied)/scenario_1\", \"Chickens, layers/Emissions (CO2eq) (Manure applied)/scenario_1\", \"Ducks/Emissions (CO2eq) (Manure applied)/scenario_1\", \"Goats/Emissions (CO2eq) (Manure applied)/scenario_1\", \"Horses/Emissions (CO2eq) (Manure applied)/scenario_1\", \"Mules/Emissions (CO2eq) (Manure applied)/scenario_1\", \"Sheep/Emissions (CO2eq) (Manure applied)/scenario_1\", \"Swine, breeding/Emissions (CO2eq) (Manure applied)/scenario_1\", \"Swine, market/Emissions (CO2eq) (Manure applied)/scenario_1\", \"Turkeys/Emissions (CO2eq) (Manure applied)/scenario_1\", \"Asses/Emissions (CO2eq) (Manure management)/scenario_1\", \"Cattle, dairy/Emissions (CO2eq) (Manure management)/scenario_1\", \"Cattle, non-dairy/Emissions (CO2eq) (Manure management)/scenario_1\", \"Chickens, broilers/Emissions (CO2eq) (Manure management)/scenario_1\", \"Chickens, layers/Emissions (CO2eq) (Manure management)/scenario_1\", \"Ducks/Emissions (CO2eq) (Manure management)/scenario_1\", \"Goats/Emissions (CO2eq) (Manure management)/scenario_1\", \"Horses/Emissions (CO2eq) (Manure management)/scenario_1\", \"Mules/Emissions (CO2eq) (Manure management)/scenario_1\", \"Sheep/Emissions (CO2eq) (Manure management)/scenario_1\", \"Swine, breeding/Emissions (CO2eq) (Manure management)/scenario_1\", \"Swine, market/Emissions (CO2eq) (Manure management)/scenario_1\", \"Turkeys/Emissions (CO2eq) (Manure management)/scenario_1\", \"Asses/Emissions (CO2eq) (Manure on pasture)/scenario_1\", \"Cattle, dairy/Emissions (CO2eq) (Manure on pasture)/scenario_1\", \"Cattle, non-dairy/Emissions (CO2eq) (Manure on pasture)/scenario_1\", \"Chickens, broilers/Emissions (CO2eq) (Manure on pasture)/scenario_1\", \"Chickens, layers/Emissions (CO2eq) (Manure on pasture)/scenario_1\", \"Ducks/Emissions (CO2eq) (Manure on pasture)/scenario_1\", \"Goats/Emissions (CO2eq) (Manure on pasture)/scenario_1\", \"Horses/Emissions (CO2eq) (Manure on pasture)/scenario_1\", \"Mules/Emissions (CO2eq) (Manure on pasture)/scenario_1\", \"Sheep/Emissions (CO2eq) (Manure on pasture)/scenario_1\", \"Turkeys/Emissions (CO2eq) (Manure on pasture)/scenario_1\", \"Asses/Emissions (CO2eq) (Enteric)\", \"Cattle, dairy/Emissions (CO2eq) (Enteric)\", \"Cattle, non-dairy/Emissions (CO2eq) (Enteric)\", \"Goats/Emissions (CO2eq) (Enteric)\", \"Horses/Emissions (CO2eq) (Enteric)\", \"Mules/Emissions (CO2eq) (Enteric)\", \"Sheep/Emissions (CO2eq) (Enteric)\", \"Swine, breeding/Emissions (CO2eq) (Enteric)\", \"Swine, market/Emissions (CO2eq) (Enteric)\", \"Asses/Emissions (CO2eq) (Manure applied)\", \"Cattle, dairy/Emissions (CO2eq) (Manure applied)\", \"Cattle, non-dairy/Emissions (CO2eq) (Manure applied)\", \"Chickens, broilers/Emissions (CO2eq) (Manure applied)\", \"Chickens, layers/Emissions (CO2eq) (Manure applied)\", \"Ducks/Emissions (CO2eq) (Manure applied)\", \"Goats/Emissions (CO2eq) (Manure applied)\", \"Horses/Emissions (CO2eq) (Manure applied)\", \"Mules/Emissions (CO2eq) (Manure applied)\", \"Sheep/Emissions (CO2eq) (Manure applied)\", \"Swine, breeding/Emissions (CO2eq) (Manure applied)\", \"Swine, market/Emissions (CO2eq) (Manure applied)\", \"Turkeys/Emissions (CO2eq) (Manure applied)\", \"Asses/Emissions (CO2eq) (Manure management)\", \"Cattle, dairy/Emissions (CO2eq) (Manure management)\", \"Cattle, non-dairy/Emissions (CO2eq) (Manure management)\", \"Chickens, broilers/Emissions (CO2eq) (Manure management)\", \"Chickens, layers/Emissions (CO2eq) (Manure management)\", \"Ducks/Emissions (CO2eq) (Manure management)\", \"Goats/Emissions (CO2eq) (Manure management)\", \"Horses/Emissions (CO2eq) (Manure management)\", \"Mules/Emissions (CO2eq) (Manure management)\", \"Sheep/Emissions (CO2eq) (Manure management)\", \"Swine, breeding/Emissions (CO2eq) (Manure management)\", \"Swine, market/Emissions (CO2eq) (Manure management)\", \"Turkeys/Emissions (CO2eq) (Manure management)\", \"Asses/Emissions (CO2eq) (Manure on pasture)\", \"Cattle, dairy/Emissions (CO2eq) (Manure on pasture)\", \"Cattle, non-dairy/Emissions (CO2eq) (Manure on pasture)\", \"Chickens, broilers/Emissions (CO2eq) (Manure on pasture)\", \"Chickens, layers/Emissions (CO2eq) (Manure on pasture)\", \"Ducks/Emissions (CO2eq) (Manure on pasture)\", \"Goats/Emissions (CO2eq) (Manure on pasture)\", \"Horses/Emissions (CO2eq) (Manure on pasture)\", \"Mules/Emissions (CO2eq) (Manure on pasture)\", \"Sheep/Emissions (CO2eq) (Manure on pasture)\", \"Turkeys/Emissions (CO2eq) (Manure on pasture)\", \"Asses\", \"Cattle, dairy\", \"Cattle, non-dairy\", \"Chickens, broilers\", \"Chickens, layers\", \"Ducks\", \"Goats\", \"Horses\", \"Mules\", \"Sheep\", \"Swine, breeding\", \"Swine, market\", \"Turkeys\"], \"labels\": [\"scenario_0\", \"scenario_0\", \"scenario_0\", \"scenario_0\", \"scenario_0\", \"scenario_0\", \"scenario_0\", \"scenario_0\", \"scenario_0\", \"scenario_0\", \"scenario_0\", \"scenario_0\", \"scenario_0\", \"scenario_0\", \"scenario_0\", \"scenario_0\", \"scenario_0\", \"scenario_0\", \"scenario_0\", \"scenario_0\", \"scenario_0\", \"scenario_0\", \"scenario_0\", \"scenario_0\", \"scenario_0\", \"scenario_0\", \"scenario_0\", \"scenario_0\", \"scenario_0\", \"scenario_0\", \"scenario_0\", \"scenario_0\", \"scenario_0\", \"scenario_0\", \"scenario_0\", \"scenario_0\", \"scenario_0\", \"scenario_0\", \"scenario_0\", \"scenario_0\", \"scenario_0\", \"scenario_0\", \"scenario_0\", \"scenario_0\", \"scenario_0\", \"scenario_0\", \"scenario_1\", \"scenario_1\", \"scenario_1\", \"scenario_1\", \"scenario_1\", \"scenario_1\", \"scenario_1\", \"scenario_1\", \"scenario_1\", \"scenario_1\", \"scenario_1\", \"scenario_1\", \"scenario_1\", \"scenario_1\", \"scenario_1\", \"scenario_1\", \"scenario_1\", \"scenario_1\", \"scenario_1\", \"scenario_1\", \"scenario_1\", \"scenario_1\", \"scenario_1\", \"scenario_1\", \"scenario_1\", \"scenario_1\", \"scenario_1\", \"scenario_1\", \"scenario_1\", \"scenario_1\", \"scenario_1\", \"scenario_1\", \"scenario_1\", \"scenario_1\", \"scenario_1\", \"scenario_1\", \"scenario_1\", \"scenario_1\", \"scenario_1\", \"scenario_1\", \"scenario_1\", \"scenario_1\", \"scenario_1\", \"scenario_1\", \"scenario_1\", \"scenario_1\", \"Emissions (CO2eq) (Enteric)\", \"Emissions (CO2eq) (Enteric)\", \"Emissions (CO2eq) (Enteric)\", \"Emissions (CO2eq) (Enteric)\", \"Emissions (CO2eq) (Enteric)\", \"Emissions (CO2eq) (Enteric)\", \"Emissions (CO2eq) (Enteric)\", \"Emissions (CO2eq) (Enteric)\", \"Emissions (CO2eq) (Enteric)\", \"Emissions (CO2eq) (Manure applied)\", \"Emissions (CO2eq) (Manure applied)\", \"Emissions (CO2eq) (Manure applied)\", \"Emissions (CO2eq) (Manure applied)\", \"Emissions (CO2eq) (Manure applied)\", \"Emissions (CO2eq) (Manure applied)\", \"Emissions (CO2eq) (Manure applied)\", \"Emissions (CO2eq) (Manure applied)\", \"Emissions (CO2eq) (Manure applied)\", \"Emissions (CO2eq) (Manure applied)\", \"Emissions (CO2eq) (Manure applied)\", \"Emissions (CO2eq) (Manure applied)\", \"Emissions (CO2eq) (Manure applied)\", \"Emissions (CO2eq) (Manure management)\", \"Emissions (CO2eq) (Manure management)\", \"Emissions (CO2eq) (Manure management)\", \"Emissions (CO2eq) (Manure management)\", \"Emissions (CO2eq) (Manure management)\", \"Emissions (CO2eq) (Manure management)\", \"Emissions (CO2eq) (Manure management)\", \"Emissions (CO2eq) (Manure management)\", \"Emissions (CO2eq) (Manure management)\", \"Emissions (CO2eq) (Manure management)\", \"Emissions (CO2eq) (Manure management)\", \"Emissions (CO2eq) (Manure management)\", \"Emissions (CO2eq) (Manure management)\", \"Emissions (CO2eq) (Manure on pasture)\", \"Emissions (CO2eq) (Manure on pasture)\", \"Emissions (CO2eq) (Manure on pasture)\", \"Emissions (CO2eq) (Manure on pasture)\", \"Emissions (CO2eq) (Manure on pasture)\", \"Emissions (CO2eq) (Manure on pasture)\", \"Emissions (CO2eq) (Manure on pasture)\", \"Emissions (CO2eq) (Manure on pasture)\", \"Emissions (CO2eq) (Manure on pasture)\", \"Emissions (CO2eq) (Manure on pasture)\", \"Emissions (CO2eq) (Manure on pasture)\", \"Asses\", \"Cattle, dairy\", \"Cattle, non-dairy\", \"Chickens, broilers\", \"Chickens, layers\", \"Ducks\", \"Goats\", \"Horses\", \"Mules\", \"Sheep\", \"Swine, breeding\", \"Swine, market\", \"Turkeys\"], \"name\": \"\", \"parents\": [\"Asses/Emissions (CO2eq) (Enteric)\", \"Cattle, dairy/Emissions (CO2eq) (Enteric)\", \"Cattle, non-dairy/Emissions (CO2eq) (Enteric)\", \"Goats/Emissions (CO2eq) (Enteric)\", \"Horses/Emissions (CO2eq) (Enteric)\", \"Mules/Emissions (CO2eq) (Enteric)\", \"Sheep/Emissions (CO2eq) (Enteric)\", \"Swine, breeding/Emissions (CO2eq) (Enteric)\", \"Swine, market/Emissions (CO2eq) (Enteric)\", \"Asses/Emissions (CO2eq) (Manure applied)\", \"Cattle, dairy/Emissions (CO2eq) (Manure applied)\", \"Cattle, non-dairy/Emissions (CO2eq) (Manure applied)\", \"Chickens, broilers/Emissions (CO2eq) (Manure applied)\", \"Chickens, layers/Emissions (CO2eq) (Manure applied)\", \"Ducks/Emissions (CO2eq) (Manure applied)\", \"Goats/Emissions (CO2eq) (Manure applied)\", \"Horses/Emissions (CO2eq) (Manure applied)\", \"Mules/Emissions (CO2eq) (Manure applied)\", \"Sheep/Emissions (CO2eq) (Manure applied)\", \"Swine, breeding/Emissions (CO2eq) (Manure applied)\", \"Swine, market/Emissions (CO2eq) (Manure applied)\", \"Turkeys/Emissions (CO2eq) (Manure applied)\", \"Asses/Emissions (CO2eq) (Manure management)\", \"Cattle, dairy/Emissions (CO2eq) (Manure management)\", \"Cattle, non-dairy/Emissions (CO2eq) (Manure management)\", \"Chickens, broilers/Emissions (CO2eq) (Manure management)\", \"Chickens, layers/Emissions (CO2eq) (Manure management)\", \"Ducks/Emissions (CO2eq) (Manure management)\", \"Goats/Emissions (CO2eq) (Manure management)\", \"Horses/Emissions (CO2eq) (Manure management)\", \"Mules/Emissions (CO2eq) (Manure management)\", \"Sheep/Emissions (CO2eq) (Manure management)\", \"Swine, breeding/Emissions (CO2eq) (Manure management)\", \"Swine, market/Emissions (CO2eq) (Manure management)\", \"Turkeys/Emissions (CO2eq) (Manure management)\", \"Asses/Emissions (CO2eq) (Manure on pasture)\", \"Cattle, dairy/Emissions (CO2eq) (Manure on pasture)\", \"Cattle, non-dairy/Emissions (CO2eq) (Manure on pasture)\", \"Chickens, broilers/Emissions (CO2eq) (Manure on pasture)\", \"Chickens, layers/Emissions (CO2eq) (Manure on pasture)\", \"Ducks/Emissions (CO2eq) (Manure on pasture)\", \"Goats/Emissions (CO2eq) (Manure on pasture)\", \"Horses/Emissions (CO2eq) (Manure on pasture)\", \"Mules/Emissions (CO2eq) (Manure on pasture)\", \"Sheep/Emissions (CO2eq) (Manure on pasture)\", \"Turkeys/Emissions (CO2eq) (Manure on pasture)\", \"Asses/Emissions (CO2eq) (Enteric)\", \"Cattle, dairy/Emissions (CO2eq) (Enteric)\", \"Cattle, non-dairy/Emissions (CO2eq) (Enteric)\", \"Goats/Emissions (CO2eq) (Enteric)\", \"Horses/Emissions (CO2eq) (Enteric)\", \"Mules/Emissions (CO2eq) (Enteric)\", \"Sheep/Emissions (CO2eq) (Enteric)\", \"Swine, breeding/Emissions (CO2eq) (Enteric)\", \"Swine, market/Emissions (CO2eq) (Enteric)\", \"Asses/Emissions (CO2eq) (Manure applied)\", \"Cattle, dairy/Emissions (CO2eq) (Manure applied)\", \"Cattle, non-dairy/Emissions (CO2eq) (Manure applied)\", \"Chickens, broilers/Emissions (CO2eq) (Manure applied)\", \"Chickens, layers/Emissions (CO2eq) (Manure applied)\", \"Ducks/Emissions (CO2eq) (Manure applied)\", \"Goats/Emissions (CO2eq) (Manure applied)\", \"Horses/Emissions (CO2eq) (Manure applied)\", \"Mules/Emissions (CO2eq) (Manure applied)\", \"Sheep/Emissions (CO2eq) (Manure applied)\", \"Swine, breeding/Emissions (CO2eq) (Manure applied)\", \"Swine, market/Emissions (CO2eq) (Manure applied)\", \"Turkeys/Emissions (CO2eq) (Manure applied)\", \"Asses/Emissions (CO2eq) (Manure management)\", \"Cattle, dairy/Emissions (CO2eq) (Manure management)\", \"Cattle, non-dairy/Emissions (CO2eq) (Manure management)\", \"Chickens, broilers/Emissions (CO2eq) (Manure management)\", \"Chickens, layers/Emissions (CO2eq) (Manure management)\", \"Ducks/Emissions (CO2eq) (Manure management)\", \"Goats/Emissions (CO2eq) (Manure management)\", \"Horses/Emissions (CO2eq) (Manure management)\", \"Mules/Emissions (CO2eq) (Manure management)\", \"Sheep/Emissions (CO2eq) (Manure management)\", \"Swine, breeding/Emissions (CO2eq) (Manure management)\", \"Swine, market/Emissions (CO2eq) (Manure management)\", \"Turkeys/Emissions (CO2eq) (Manure management)\", \"Asses/Emissions (CO2eq) (Manure on pasture)\", \"Cattle, dairy/Emissions (CO2eq) (Manure on pasture)\", \"Cattle, non-dairy/Emissions (CO2eq) (Manure on pasture)\", \"Chickens, broilers/Emissions (CO2eq) (Manure on pasture)\", \"Chickens, layers/Emissions (CO2eq) (Manure on pasture)\", \"Ducks/Emissions (CO2eq) (Manure on pasture)\", \"Goats/Emissions (CO2eq) (Manure on pasture)\", \"Horses/Emissions (CO2eq) (Manure on pasture)\", \"Mules/Emissions (CO2eq) (Manure on pasture)\", \"Sheep/Emissions (CO2eq) (Manure on pasture)\", \"Turkeys/Emissions (CO2eq) (Manure on pasture)\", \"Asses\", \"Cattle, dairy\", \"Cattle, non-dairy\", \"Goats\", \"Horses\", \"Mules\", \"Sheep\", \"Swine, breeding\", \"Swine, market\", \"Asses\", \"Cattle, dairy\", \"Cattle, non-dairy\", \"Chickens, broilers\", \"Chickens, layers\", \"Ducks\", \"Goats\", \"Horses\", \"Mules\", \"Sheep\", \"Swine, breeding\", \"Swine, market\", \"Turkeys\", \"Asses\", \"Cattle, dairy\", \"Cattle, non-dairy\", \"Chickens, broilers\", \"Chickens, layers\", \"Ducks\", \"Goats\", \"Horses\", \"Mules\", \"Sheep\", \"Swine, breeding\", \"Swine, market\", \"Turkeys\", \"Asses\", \"Cattle, dairy\", \"Cattle, non-dairy\", \"Chickens, broilers\", \"Chickens, layers\", \"Ducks\", \"Goats\", \"Horses\", \"Mules\", \"Sheep\", \"Turkeys\", \"\", \"\", \"\", \"\", \"\", \"\", \"\", \"\", \"\", \"\", \"\", \"\", \"\"], \"type\": \"treemap\", \"values\": [6.396599999999999, 8728.335251999999, 17948.591261999998, 136.35888, 140.193018, 5.877479999999999, 1183.090608, 41.972868, 377.7559065, 2.6153923400462, 2599.0162712534593, 5279.462332410406, 268.1490981460004, 259.4878255528416, 136.4925145359204, 162.57549076908342, 92.35055964409578, 2.40313856904836, 737.4959462046879, 281.4899024488431, 776.8392108337254, 240.702832333964, 0.4861415999999999, 1648.7153880624, 2062.5765348132, 44.78166, 226.0540233, 10.06992, 3.54533088, 12.15006156, 0.44668848, 28.098401940000002, 267.2328559824, 1511.0236259999997, 35.588699999999996, 0.8717974466820667, 1472.1700557449662, 2990.464677798901, 151.26359382594896, 146.98261447398718, 77.31394180006679, 54.19183025636113, 30.783519881365255, 0.8010461896827867, 245.8319820682293, 136.34216376958798, 6.396599999999999, 8728.335251999999, 17948.591261999998, 136.35888, 140.193018, 5.877479999999999, 1183.090608, 41.972868, 377.7559065, 0.8717974466820667, 866.3387570844865, 1759.8207774701352, 89.38303271533348, 86.4959418509472, 45.4975048453068, 54.19183025636113, 30.783519881365255, 0.8010461896827867, 245.8319820682293, 93.82996748294771, 258.94640361124175, 80.23427744465467, 0.7909658820566666, 2121.263801017574, 2973.2530210564864, 76.65952481455949, 256.9022263377504, 26.2963028469276, 22.493523277329068, 22.913530049987855, 0.7267745603086666, 134.68289766188963, 300.6966905392555, 1603.3751405746384, 64.20372202571599, 2.6153923400462, 4416.510167234899, 8971.394033396702, 453.7907814778469, 440.9478434219616, 231.9418254002004, 162.57549076908342, 92.35055964409578, 2.40313856904836, 737.4959462046879, 409.0264913087639, 12.793199999999999, 17456.670503999998, 35897.182523999996, 272.71776, 280.386036, 11.754959999999999, 2366.181216, 83.945736, 755.511813, 3.487189786728267, 3465.355028337946, 7039.283109880541, 357.53213086133394, 345.9837674037888, 181.9900193812272, 216.76732102544455, 123.13407952546103, 3.204184758731147, 983.3279282729172, 375.31986993179083, 1035.785614444967, 320.93710977861866, 1.2771074820566666, 3769.9791890799743, 5035.829555869686, 121.44118481455949, 482.9562496377504, 36.3662228469276, 26.03885415732907, 35.06359160998785, 1.1734630403086665, 162.78129960188963, 567.9295465216555, 3114.398766574638, 99.79242202571598, 3.487189786728267, 5888.680222979865, 11961.858711195604, 605.0543753037958, 587.9304578959487, 309.2557672002672, 216.76732102544455, 123.13407952546103, 3.204184758731147, 983.3279282729172, 545.3686550783519, 21.0446870555132, 30580.684944397784, 59934.153900945836, 1084.0276909796892, 1416.8704749374879, 527.612009428422, 732.2912562082182, 561.71778666091, 19.33679255777096, 4495.618372147725, 1027.1951524534463, 4905.696194019604, 966.0981868826866]}],                        {\"legend\": {\"tracegroupgap\": 0}, \"margin\": {\"t\": 60}, \"template\": {\"data\": {\"bar\": [{\"error_x\": {\"color\": \"#2a3f5f\"}, \"error_y\": {\"color\": \"#2a3f5f\"}, \"marker\": {\"line\": {\"color\": \"#E5ECF6\", \"width\": 0.5}}, \"type\": \"bar\"}], \"barpolar\": [{\"marker\": {\"line\": {\"color\": \"#E5ECF6\", \"width\": 0.5}}, \"type\": \"barpolar\"}], \"carpet\": [{\"aaxis\": {\"endlinecolor\": \"#2a3f5f\", \"gridcolor\": \"white\", \"linecolor\": \"white\", \"minorgridcolor\": \"white\", \"startlinecolor\": \"#2a3f5f\"}, \"baxis\": {\"endlinecolor\": \"#2a3f5f\", \"gridcolor\": \"white\", \"linecolor\": \"white\", \"minorgridcolor\": \"white\", \"startlinecolor\": \"#2a3f5f\"}, \"type\": \"carpet\"}], \"choropleth\": [{\"colorbar\": {\"outlinewidth\": 0, \"ticks\": \"\"}, \"type\": \"choropleth\"}], \"contour\": [{\"colorbar\": {\"outlinewidth\": 0, \"ticks\": \"\"}, \"colorscale\": [[0.0, \"#0d0887\"], [0.1111111111111111, \"#46039f\"], [0.2222222222222222, \"#7201a8\"], [0.3333333333333333, \"#9c179e\"], [0.4444444444444444, \"#bd3786\"], [0.5555555555555556, \"#d8576b\"], [0.6666666666666666, \"#ed7953\"], [0.7777777777777778, \"#fb9f3a\"], [0.8888888888888888, \"#fdca26\"], [1.0, \"#f0f921\"]], \"type\": \"contour\"}], \"contourcarpet\": [{\"colorbar\": {\"outlinewidth\": 0, \"ticks\": \"\"}, \"type\": \"contourcarpet\"}], \"heatmap\": [{\"colorbar\": {\"outlinewidth\": 0, \"ticks\": \"\"}, \"colorscale\": [[0.0, \"#0d0887\"], [0.1111111111111111, \"#46039f\"], [0.2222222222222222, \"#7201a8\"], [0.3333333333333333, \"#9c179e\"], [0.4444444444444444, \"#bd3786\"], [0.5555555555555556, \"#d8576b\"], [0.6666666666666666, \"#ed7953\"], [0.7777777777777778, \"#fb9f3a\"], [0.8888888888888888, \"#fdca26\"], [1.0, \"#f0f921\"]], \"type\": \"heatmap\"}], \"heatmapgl\": [{\"colorbar\": {\"outlinewidth\": 0, \"ticks\": \"\"}, \"colorscale\": [[0.0, \"#0d0887\"], [0.1111111111111111, \"#46039f\"], [0.2222222222222222, \"#7201a8\"], [0.3333333333333333, \"#9c179e\"], [0.4444444444444444, \"#bd3786\"], [0.5555555555555556, \"#d8576b\"], [0.6666666666666666, \"#ed7953\"], [0.7777777777777778, \"#fb9f3a\"], [0.8888888888888888, \"#fdca26\"], [1.0, \"#f0f921\"]], \"type\": \"heatmapgl\"}], \"histogram\": [{\"marker\": {\"colorbar\": {\"outlinewidth\": 0, \"ticks\": \"\"}}, \"type\": \"histogram\"}], \"histogram2d\": [{\"colorbar\": {\"outlinewidth\": 0, \"ticks\": \"\"}, \"colorscale\": [[0.0, \"#0d0887\"], [0.1111111111111111, \"#46039f\"], [0.2222222222222222, \"#7201a8\"], [0.3333333333333333, \"#9c179e\"], [0.4444444444444444, \"#bd3786\"], [0.5555555555555556, \"#d8576b\"], [0.6666666666666666, \"#ed7953\"], [0.7777777777777778, \"#fb9f3a\"], [0.8888888888888888, \"#fdca26\"], [1.0, \"#f0f921\"]], \"type\": \"histogram2d\"}], \"histogram2dcontour\": [{\"colorbar\": {\"outlinewidth\": 0, \"ticks\": \"\"}, \"colorscale\": [[0.0, \"#0d0887\"], [0.1111111111111111, \"#46039f\"], [0.2222222222222222, \"#7201a8\"], [0.3333333333333333, \"#9c179e\"], [0.4444444444444444, \"#bd3786\"], [0.5555555555555556, \"#d8576b\"], [0.6666666666666666, \"#ed7953\"], [0.7777777777777778, \"#fb9f3a\"], [0.8888888888888888, \"#fdca26\"], [1.0, \"#f0f921\"]], \"type\": \"histogram2dcontour\"}], \"mesh3d\": [{\"colorbar\": {\"outlinewidth\": 0, \"ticks\": \"\"}, \"type\": \"mesh3d\"}], \"parcoords\": [{\"line\": {\"colorbar\": {\"outlinewidth\": 0, \"ticks\": \"\"}}, \"type\": \"parcoords\"}], \"pie\": [{\"automargin\": true, \"type\": \"pie\"}], \"scatter\": [{\"marker\": {\"colorbar\": {\"outlinewidth\": 0, \"ticks\": \"\"}}, \"type\": \"scatter\"}], \"scatter3d\": [{\"line\": {\"colorbar\": {\"outlinewidth\": 0, \"ticks\": \"\"}}, \"marker\": {\"colorbar\": {\"outlinewidth\": 0, \"ticks\": \"\"}}, \"type\": \"scatter3d\"}], \"scattercarpet\": [{\"marker\": {\"colorbar\": {\"outlinewidth\": 0, \"ticks\": \"\"}}, \"type\": \"scattercarpet\"}], \"scattergeo\": [{\"marker\": {\"colorbar\": {\"outlinewidth\": 0, \"ticks\": \"\"}}, \"type\": \"scattergeo\"}], \"scattergl\": [{\"marker\": {\"colorbar\": {\"outlinewidth\": 0, \"ticks\": \"\"}}, \"type\": \"scattergl\"}], \"scattermapbox\": [{\"marker\": {\"colorbar\": {\"outlinewidth\": 0, \"ticks\": \"\"}}, \"type\": \"scattermapbox\"}], \"scatterpolar\": [{\"marker\": {\"colorbar\": {\"outlinewidth\": 0, \"ticks\": \"\"}}, \"type\": \"scatterpolar\"}], \"scatterpolargl\": [{\"marker\": {\"colorbar\": {\"outlinewidth\": 0, \"ticks\": \"\"}}, \"type\": \"scatterpolargl\"}], \"scatterternary\": [{\"marker\": {\"colorbar\": {\"outlinewidth\": 0, \"ticks\": \"\"}}, \"type\": \"scatterternary\"}], \"surface\": [{\"colorbar\": {\"outlinewidth\": 0, \"ticks\": \"\"}, \"colorscale\": [[0.0, \"#0d0887\"], [0.1111111111111111, \"#46039f\"], [0.2222222222222222, \"#7201a8\"], [0.3333333333333333, \"#9c179e\"], [0.4444444444444444, \"#bd3786\"], [0.5555555555555556, \"#d8576b\"], [0.6666666666666666, \"#ed7953\"], [0.7777777777777778, \"#fb9f3a\"], [0.8888888888888888, \"#fdca26\"], [1.0, \"#f0f921\"]], \"type\": \"surface\"}], \"table\": [{\"cells\": {\"fill\": {\"color\": \"#EBF0F8\"}, \"line\": {\"color\": \"white\"}}, \"header\": {\"fill\": {\"color\": \"#C8D4E3\"}, \"line\": {\"color\": \"white\"}}, \"type\": \"table\"}]}, \"layout\": {\"annotationdefaults\": {\"arrowcolor\": \"#2a3f5f\", \"arrowhead\": 0, \"arrowwidth\": 1}, \"autotypenumbers\": \"strict\", \"coloraxis\": {\"colorbar\": {\"outlinewidth\": 0, \"ticks\": \"\"}}, \"colorscale\": {\"diverging\": [[0, \"#8e0152\"], [0.1, \"#c51b7d\"], [0.2, \"#de77ae\"], [0.3, \"#f1b6da\"], [0.4, \"#fde0ef\"], [0.5, \"#f7f7f7\"], [0.6, \"#e6f5d0\"], [0.7, \"#b8e186\"], [0.8, \"#7fbc41\"], [0.9, \"#4d9221\"], [1, \"#276419\"]], \"sequential\": [[0.0, \"#0d0887\"], [0.1111111111111111, \"#46039f\"], [0.2222222222222222, \"#7201a8\"], [0.3333333333333333, \"#9c179e\"], [0.4444444444444444, \"#bd3786\"], [0.5555555555555556, \"#d8576b\"], [0.6666666666666666, \"#ed7953\"], [0.7777777777777778, \"#fb9f3a\"], [0.8888888888888888, \"#fdca26\"], [1.0, \"#f0f921\"]], \"sequentialminus\": [[0.0, \"#0d0887\"], [0.1111111111111111, \"#46039f\"], [0.2222222222222222, \"#7201a8\"], [0.3333333333333333, \"#9c179e\"], [0.4444444444444444, \"#bd3786\"], [0.5555555555555556, \"#d8576b\"], [0.6666666666666666, \"#ed7953\"], [0.7777777777777778, \"#fb9f3a\"], [0.8888888888888888, \"#fdca26\"], [1.0, \"#f0f921\"]]}, \"colorway\": [\"#636efa\", \"#EF553B\", \"#00cc96\", \"#ab63fa\", \"#FFA15A\", \"#19d3f3\", \"#FF6692\", \"#B6E880\", \"#FF97FF\", \"#FECB52\"], \"font\": {\"color\": \"#2a3f5f\"}, \"geo\": {\"bgcolor\": \"white\", \"lakecolor\": \"white\", \"landcolor\": \"#E5ECF6\", \"showlakes\": true, \"showland\": true, \"subunitcolor\": \"white\"}, \"hoverlabel\": {\"align\": \"left\"}, \"hovermode\": \"closest\", \"mapbox\": {\"style\": \"light\"}, \"paper_bgcolor\": \"white\", \"plot_bgcolor\": \"#E5ECF6\", \"polar\": {\"angularaxis\": {\"gridcolor\": \"white\", \"linecolor\": \"white\", \"ticks\": \"\"}, \"bgcolor\": \"#E5ECF6\", \"radialaxis\": {\"gridcolor\": \"white\", \"linecolor\": \"white\", \"ticks\": \"\"}}, \"scene\": {\"xaxis\": {\"backgroundcolor\": \"#E5ECF6\", \"gridcolor\": \"white\", \"gridwidth\": 2, \"linecolor\": \"white\", \"showbackground\": true, \"ticks\": \"\", \"zerolinecolor\": \"white\"}, \"yaxis\": {\"backgroundcolor\": \"#E5ECF6\", \"gridcolor\": \"white\", \"gridwidth\": 2, \"linecolor\": \"white\", \"showbackground\": true, \"ticks\": \"\", \"zerolinecolor\": \"white\"}, \"zaxis\": {\"backgroundcolor\": \"#E5ECF6\", \"gridcolor\": \"white\", \"gridwidth\": 2, \"linecolor\": \"white\", \"showbackground\": true, \"ticks\": \"\", \"zerolinecolor\": \"white\"}}, \"shapedefaults\": {\"line\": {\"color\": \"#2a3f5f\"}}, \"ternary\": {\"aaxis\": {\"gridcolor\": \"white\", \"linecolor\": \"white\", \"ticks\": \"\"}, \"baxis\": {\"gridcolor\": \"white\", \"linecolor\": \"white\", \"ticks\": \"\"}, \"bgcolor\": \"#E5ECF6\", \"caxis\": {\"gridcolor\": \"white\", \"linecolor\": \"white\", \"ticks\": \"\"}}, \"title\": {\"x\": 0.05}, \"xaxis\": {\"automargin\": true, \"gridcolor\": \"white\", \"linecolor\": \"white\", \"ticks\": \"\", \"title\": {\"standoff\": 15}, \"zerolinecolor\": \"white\", \"zerolinewidth\": 2}, \"yaxis\": {\"automargin\": true, \"gridcolor\": \"white\", \"linecolor\": \"white\", \"ticks\": \"\", \"title\": {\"standoff\": 15}, \"zerolinecolor\": \"white\", \"zerolinewidth\": 2}}}},                        {\"responsive\": true}                    ).then(function(){\n",
       "                            \n",
       "var gd = document.getElementById('519c8c96-4180-4790-bf7e-2d114ffd6199');\n",
       "var x = new MutationObserver(function (mutations, observer) {{\n",
       "        var display = window.getComputedStyle(gd).display;\n",
       "        if (!display || display === 'none') {{\n",
       "            console.log([gd, 'removed!']);\n",
       "            Plotly.purge(gd);\n",
       "            observer.disconnect();\n",
       "        }}\n",
       "}});\n",
       "\n",
       "// Listen for the removal of the full notebook cells\n",
       "var notebookContainer = gd.closest('#notebook-container');\n",
       "if (notebookContainer) {{\n",
       "    x.observe(notebookContainer, {childList: true});\n",
       "}}\n",
       "\n",
       "// Listen for the clearing of the current output cell\n",
       "var outputEl = gd.closest('.output');\n",
       "if (outputEl) {{\n",
       "    x.observe(outputEl, {childList: true});\n",
       "}}\n",
       "\n",
       "                        })                };                });            </script>        </div>"
      ]
     },
     "metadata": {},
     "output_type": "display_data"
    }
   ],
   "source": [
    "import plotly.express as px\n",
    "fig = px.treemap(df.query('Variable != \"Non-CO2 agricultural emissions\"'), path=['Item','name', 'scenario'], values='Value')\n",
    "fig"
   ]
  },
  {
   "cell_type": "code",
   "execution_count": 134,
   "metadata": {
    "ExecuteTime": {
     "end_time": "2021-06-09T02:52:59.357395Z",
     "start_time": "2021-06-09T02:52:59.171454Z"
    }
   },
   "outputs": [
    {
     "data": {
      "application/vnd.plotly.v1+json": {
       "config": {
        "plotlyServerURL": "https://plot.ly"
       },
       "data": [
        {
         "branchvalues": "total",
         "domain": {
          "x": [
           0,
           1
          ],
          "y": [
           0,
           1
          ]
         },
         "hovertemplate": "labels=%{label}<br>Value=%{value}<br>parent=%{parent}<br>id=%{id}<extra></extra>",
         "ids": [
          "scenario_0/Asses/Emissions (CO2eq) (Enteric)",
          "scenario_1/Asses/Emissions (CO2eq) (Enteric)",
          "scenario_0/Cattle, dairy/Emissions (CO2eq) (Enteric)",
          "scenario_1/Cattle, dairy/Emissions (CO2eq) (Enteric)",
          "scenario_0/Cattle, non-dairy/Emissions (CO2eq) (Enteric)",
          "scenario_1/Cattle, non-dairy/Emissions (CO2eq) (Enteric)",
          "scenario_0/Goats/Emissions (CO2eq) (Enteric)",
          "scenario_1/Goats/Emissions (CO2eq) (Enteric)",
          "scenario_0/Horses/Emissions (CO2eq) (Enteric)",
          "scenario_1/Horses/Emissions (CO2eq) (Enteric)",
          "scenario_0/Mules/Emissions (CO2eq) (Enteric)",
          "scenario_1/Mules/Emissions (CO2eq) (Enteric)",
          "scenario_0/Sheep/Emissions (CO2eq) (Enteric)",
          "scenario_1/Sheep/Emissions (CO2eq) (Enteric)",
          "scenario_0/Swine, breeding/Emissions (CO2eq) (Enteric)",
          "scenario_1/Swine, breeding/Emissions (CO2eq) (Enteric)",
          "scenario_0/Swine, market/Emissions (CO2eq) (Enteric)",
          "scenario_1/Swine, market/Emissions (CO2eq) (Enteric)",
          "scenario_0/Asses/Emissions (CO2eq) (Manure applied)",
          "scenario_1/Asses/Emissions (CO2eq) (Manure applied)",
          "scenario_0/Cattle, dairy/Emissions (CO2eq) (Manure applied)",
          "scenario_1/Cattle, dairy/Emissions (CO2eq) (Manure applied)",
          "scenario_0/Cattle, non-dairy/Emissions (CO2eq) (Manure applied)",
          "scenario_1/Cattle, non-dairy/Emissions (CO2eq) (Manure applied)",
          "scenario_0/Chickens, broilers/Emissions (CO2eq) (Manure applied)",
          "scenario_1/Chickens, broilers/Emissions (CO2eq) (Manure applied)",
          "scenario_0/Chickens, layers/Emissions (CO2eq) (Manure applied)",
          "scenario_1/Chickens, layers/Emissions (CO2eq) (Manure applied)",
          "scenario_0/Ducks/Emissions (CO2eq) (Manure applied)",
          "scenario_1/Ducks/Emissions (CO2eq) (Manure applied)",
          "scenario_0/Goats/Emissions (CO2eq) (Manure applied)",
          "scenario_1/Goats/Emissions (CO2eq) (Manure applied)",
          "scenario_0/Horses/Emissions (CO2eq) (Manure applied)",
          "scenario_1/Horses/Emissions (CO2eq) (Manure applied)",
          "scenario_0/Mules/Emissions (CO2eq) (Manure applied)",
          "scenario_1/Mules/Emissions (CO2eq) (Manure applied)",
          "scenario_0/Sheep/Emissions (CO2eq) (Manure applied)",
          "scenario_1/Sheep/Emissions (CO2eq) (Manure applied)",
          "scenario_0/Swine, breeding/Emissions (CO2eq) (Manure applied)",
          "scenario_1/Swine, breeding/Emissions (CO2eq) (Manure applied)",
          "scenario_0/Swine, market/Emissions (CO2eq) (Manure applied)",
          "scenario_1/Swine, market/Emissions (CO2eq) (Manure applied)",
          "scenario_0/Turkeys/Emissions (CO2eq) (Manure applied)",
          "scenario_1/Turkeys/Emissions (CO2eq) (Manure applied)",
          "scenario_0/Asses/Emissions (CO2eq) (Manure management)",
          "scenario_1/Asses/Emissions (CO2eq) (Manure management)",
          "scenario_0/Cattle, dairy/Emissions (CO2eq) (Manure management)",
          "scenario_1/Cattle, dairy/Emissions (CO2eq) (Manure management)",
          "scenario_0/Cattle, non-dairy/Emissions (CO2eq) (Manure management)",
          "scenario_1/Cattle, non-dairy/Emissions (CO2eq) (Manure management)",
          "scenario_0/Chickens, broilers/Emissions (CO2eq) (Manure management)",
          "scenario_1/Chickens, broilers/Emissions (CO2eq) (Manure management)",
          "scenario_0/Chickens, layers/Emissions (CO2eq) (Manure management)",
          "scenario_1/Chickens, layers/Emissions (CO2eq) (Manure management)",
          "scenario_0/Ducks/Emissions (CO2eq) (Manure management)",
          "scenario_1/Ducks/Emissions (CO2eq) (Manure management)",
          "scenario_0/Goats/Emissions (CO2eq) (Manure management)",
          "scenario_1/Goats/Emissions (CO2eq) (Manure management)",
          "scenario_0/Horses/Emissions (CO2eq) (Manure management)",
          "scenario_1/Horses/Emissions (CO2eq) (Manure management)",
          "scenario_0/Mules/Emissions (CO2eq) (Manure management)",
          "scenario_1/Mules/Emissions (CO2eq) (Manure management)",
          "scenario_0/Sheep/Emissions (CO2eq) (Manure management)",
          "scenario_1/Sheep/Emissions (CO2eq) (Manure management)",
          "scenario_0/Swine, breeding/Emissions (CO2eq) (Manure management)",
          "scenario_1/Swine, breeding/Emissions (CO2eq) (Manure management)",
          "scenario_0/Swine, market/Emissions (CO2eq) (Manure management)",
          "scenario_1/Swine, market/Emissions (CO2eq) (Manure management)",
          "scenario_0/Turkeys/Emissions (CO2eq) (Manure management)",
          "scenario_1/Turkeys/Emissions (CO2eq) (Manure management)",
          "scenario_0/Asses/Emissions (CO2eq) (Manure on pasture)",
          "scenario_1/Asses/Emissions (CO2eq) (Manure on pasture)",
          "scenario_0/Cattle, dairy/Emissions (CO2eq) (Manure on pasture)",
          "scenario_1/Cattle, dairy/Emissions (CO2eq) (Manure on pasture)",
          "scenario_0/Cattle, non-dairy/Emissions (CO2eq) (Manure on pasture)",
          "scenario_1/Cattle, non-dairy/Emissions (CO2eq) (Manure on pasture)",
          "scenario_0/Chickens, broilers/Emissions (CO2eq) (Manure on pasture)",
          "scenario_1/Chickens, broilers/Emissions (CO2eq) (Manure on pasture)",
          "scenario_0/Chickens, layers/Emissions (CO2eq) (Manure on pasture)",
          "scenario_1/Chickens, layers/Emissions (CO2eq) (Manure on pasture)",
          "scenario_0/Ducks/Emissions (CO2eq) (Manure on pasture)",
          "scenario_1/Ducks/Emissions (CO2eq) (Manure on pasture)",
          "scenario_0/Goats/Emissions (CO2eq) (Manure on pasture)",
          "scenario_1/Goats/Emissions (CO2eq) (Manure on pasture)",
          "scenario_0/Horses/Emissions (CO2eq) (Manure on pasture)",
          "scenario_1/Horses/Emissions (CO2eq) (Manure on pasture)",
          "scenario_0/Mules/Emissions (CO2eq) (Manure on pasture)",
          "scenario_1/Mules/Emissions (CO2eq) (Manure on pasture)",
          "scenario_0/Sheep/Emissions (CO2eq) (Manure on pasture)",
          "scenario_1/Sheep/Emissions (CO2eq) (Manure on pasture)",
          "scenario_0/Turkeys/Emissions (CO2eq) (Manure on pasture)",
          "scenario_1/Turkeys/Emissions (CO2eq) (Manure on pasture)",
          "scenario_0/Asses",
          "scenario_1/Asses",
          "scenario_0/Cattle, dairy",
          "scenario_1/Cattle, dairy",
          "scenario_0/Cattle, non-dairy",
          "scenario_1/Cattle, non-dairy",
          "scenario_0/Chickens, broilers",
          "scenario_1/Chickens, broilers",
          "scenario_0/Chickens, layers",
          "scenario_1/Chickens, layers",
          "scenario_0/Ducks",
          "scenario_1/Ducks",
          "scenario_0/Goats",
          "scenario_1/Goats",
          "scenario_0/Horses",
          "scenario_1/Horses",
          "scenario_0/Mules",
          "scenario_1/Mules",
          "scenario_0/Sheep",
          "scenario_1/Sheep",
          "scenario_0/Swine, breeding",
          "scenario_1/Swine, breeding",
          "scenario_0/Swine, market",
          "scenario_1/Swine, market",
          "scenario_0/Turkeys",
          "scenario_1/Turkeys",
          "scenario_0",
          "scenario_1"
         ],
         "labels": [
          "Emissions (CO2eq) (Enteric)",
          "Emissions (CO2eq) (Enteric)",
          "Emissions (CO2eq) (Enteric)",
          "Emissions (CO2eq) (Enteric)",
          "Emissions (CO2eq) (Enteric)",
          "Emissions (CO2eq) (Enteric)",
          "Emissions (CO2eq) (Enteric)",
          "Emissions (CO2eq) (Enteric)",
          "Emissions (CO2eq) (Enteric)",
          "Emissions (CO2eq) (Enteric)",
          "Emissions (CO2eq) (Enteric)",
          "Emissions (CO2eq) (Enteric)",
          "Emissions (CO2eq) (Enteric)",
          "Emissions (CO2eq) (Enteric)",
          "Emissions (CO2eq) (Enteric)",
          "Emissions (CO2eq) (Enteric)",
          "Emissions (CO2eq) (Enteric)",
          "Emissions (CO2eq) (Enteric)",
          "Emissions (CO2eq) (Manure applied)",
          "Emissions (CO2eq) (Manure applied)",
          "Emissions (CO2eq) (Manure applied)",
          "Emissions (CO2eq) (Manure applied)",
          "Emissions (CO2eq) (Manure applied)",
          "Emissions (CO2eq) (Manure applied)",
          "Emissions (CO2eq) (Manure applied)",
          "Emissions (CO2eq) (Manure applied)",
          "Emissions (CO2eq) (Manure applied)",
          "Emissions (CO2eq) (Manure applied)",
          "Emissions (CO2eq) (Manure applied)",
          "Emissions (CO2eq) (Manure applied)",
          "Emissions (CO2eq) (Manure applied)",
          "Emissions (CO2eq) (Manure applied)",
          "Emissions (CO2eq) (Manure applied)",
          "Emissions (CO2eq) (Manure applied)",
          "Emissions (CO2eq) (Manure applied)",
          "Emissions (CO2eq) (Manure applied)",
          "Emissions (CO2eq) (Manure applied)",
          "Emissions (CO2eq) (Manure applied)",
          "Emissions (CO2eq) (Manure applied)",
          "Emissions (CO2eq) (Manure applied)",
          "Emissions (CO2eq) (Manure applied)",
          "Emissions (CO2eq) (Manure applied)",
          "Emissions (CO2eq) (Manure applied)",
          "Emissions (CO2eq) (Manure applied)",
          "Emissions (CO2eq) (Manure management)",
          "Emissions (CO2eq) (Manure management)",
          "Emissions (CO2eq) (Manure management)",
          "Emissions (CO2eq) (Manure management)",
          "Emissions (CO2eq) (Manure management)",
          "Emissions (CO2eq) (Manure management)",
          "Emissions (CO2eq) (Manure management)",
          "Emissions (CO2eq) (Manure management)",
          "Emissions (CO2eq) (Manure management)",
          "Emissions (CO2eq) (Manure management)",
          "Emissions (CO2eq) (Manure management)",
          "Emissions (CO2eq) (Manure management)",
          "Emissions (CO2eq) (Manure management)",
          "Emissions (CO2eq) (Manure management)",
          "Emissions (CO2eq) (Manure management)",
          "Emissions (CO2eq) (Manure management)",
          "Emissions (CO2eq) (Manure management)",
          "Emissions (CO2eq) (Manure management)",
          "Emissions (CO2eq) (Manure management)",
          "Emissions (CO2eq) (Manure management)",
          "Emissions (CO2eq) (Manure management)",
          "Emissions (CO2eq) (Manure management)",
          "Emissions (CO2eq) (Manure management)",
          "Emissions (CO2eq) (Manure management)",
          "Emissions (CO2eq) (Manure management)",
          "Emissions (CO2eq) (Manure management)",
          "Emissions (CO2eq) (Manure on pasture)",
          "Emissions (CO2eq) (Manure on pasture)",
          "Emissions (CO2eq) (Manure on pasture)",
          "Emissions (CO2eq) (Manure on pasture)",
          "Emissions (CO2eq) (Manure on pasture)",
          "Emissions (CO2eq) (Manure on pasture)",
          "Emissions (CO2eq) (Manure on pasture)",
          "Emissions (CO2eq) (Manure on pasture)",
          "Emissions (CO2eq) (Manure on pasture)",
          "Emissions (CO2eq) (Manure on pasture)",
          "Emissions (CO2eq) (Manure on pasture)",
          "Emissions (CO2eq) (Manure on pasture)",
          "Emissions (CO2eq) (Manure on pasture)",
          "Emissions (CO2eq) (Manure on pasture)",
          "Emissions (CO2eq) (Manure on pasture)",
          "Emissions (CO2eq) (Manure on pasture)",
          "Emissions (CO2eq) (Manure on pasture)",
          "Emissions (CO2eq) (Manure on pasture)",
          "Emissions (CO2eq) (Manure on pasture)",
          "Emissions (CO2eq) (Manure on pasture)",
          "Emissions (CO2eq) (Manure on pasture)",
          "Emissions (CO2eq) (Manure on pasture)",
          "Asses",
          "Asses",
          "Cattle, dairy",
          "Cattle, dairy",
          "Cattle, non-dairy",
          "Cattle, non-dairy",
          "Chickens, broilers",
          "Chickens, broilers",
          "Chickens, layers",
          "Chickens, layers",
          "Ducks",
          "Ducks",
          "Goats",
          "Goats",
          "Horses",
          "Horses",
          "Mules",
          "Mules",
          "Sheep",
          "Sheep",
          "Swine, breeding",
          "Swine, breeding",
          "Swine, market",
          "Swine, market",
          "Turkeys",
          "Turkeys",
          "scenario_0",
          "scenario_1"
         ],
         "name": "",
         "parents": [
          "scenario_0/Asses",
          "scenario_1/Asses",
          "scenario_0/Cattle, dairy",
          "scenario_1/Cattle, dairy",
          "scenario_0/Cattle, non-dairy",
          "scenario_1/Cattle, non-dairy",
          "scenario_0/Goats",
          "scenario_1/Goats",
          "scenario_0/Horses",
          "scenario_1/Horses",
          "scenario_0/Mules",
          "scenario_1/Mules",
          "scenario_0/Sheep",
          "scenario_1/Sheep",
          "scenario_0/Swine, breeding",
          "scenario_1/Swine, breeding",
          "scenario_0/Swine, market",
          "scenario_1/Swine, market",
          "scenario_0/Asses",
          "scenario_1/Asses",
          "scenario_0/Cattle, dairy",
          "scenario_1/Cattle, dairy",
          "scenario_0/Cattle, non-dairy",
          "scenario_1/Cattle, non-dairy",
          "scenario_0/Chickens, broilers",
          "scenario_1/Chickens, broilers",
          "scenario_0/Chickens, layers",
          "scenario_1/Chickens, layers",
          "scenario_0/Ducks",
          "scenario_1/Ducks",
          "scenario_0/Goats",
          "scenario_1/Goats",
          "scenario_0/Horses",
          "scenario_1/Horses",
          "scenario_0/Mules",
          "scenario_1/Mules",
          "scenario_0/Sheep",
          "scenario_1/Sheep",
          "scenario_0/Swine, breeding",
          "scenario_1/Swine, breeding",
          "scenario_0/Swine, market",
          "scenario_1/Swine, market",
          "scenario_0/Turkeys",
          "scenario_1/Turkeys",
          "scenario_0/Asses",
          "scenario_1/Asses",
          "scenario_0/Cattle, dairy",
          "scenario_1/Cattle, dairy",
          "scenario_0/Cattle, non-dairy",
          "scenario_1/Cattle, non-dairy",
          "scenario_0/Chickens, broilers",
          "scenario_1/Chickens, broilers",
          "scenario_0/Chickens, layers",
          "scenario_1/Chickens, layers",
          "scenario_0/Ducks",
          "scenario_1/Ducks",
          "scenario_0/Goats",
          "scenario_1/Goats",
          "scenario_0/Horses",
          "scenario_1/Horses",
          "scenario_0/Mules",
          "scenario_1/Mules",
          "scenario_0/Sheep",
          "scenario_1/Sheep",
          "scenario_0/Swine, breeding",
          "scenario_1/Swine, breeding",
          "scenario_0/Swine, market",
          "scenario_1/Swine, market",
          "scenario_0/Turkeys",
          "scenario_1/Turkeys",
          "scenario_0/Asses",
          "scenario_1/Asses",
          "scenario_0/Cattle, dairy",
          "scenario_1/Cattle, dairy",
          "scenario_0/Cattle, non-dairy",
          "scenario_1/Cattle, non-dairy",
          "scenario_0/Chickens, broilers",
          "scenario_1/Chickens, broilers",
          "scenario_0/Chickens, layers",
          "scenario_1/Chickens, layers",
          "scenario_0/Ducks",
          "scenario_1/Ducks",
          "scenario_0/Goats",
          "scenario_1/Goats",
          "scenario_0/Horses",
          "scenario_1/Horses",
          "scenario_0/Mules",
          "scenario_1/Mules",
          "scenario_0/Sheep",
          "scenario_1/Sheep",
          "scenario_0/Turkeys",
          "scenario_1/Turkeys",
          "scenario_0",
          "scenario_1",
          "scenario_0",
          "scenario_1",
          "scenario_0",
          "scenario_1",
          "scenario_0",
          "scenario_1",
          "scenario_0",
          "scenario_1",
          "scenario_0",
          "scenario_1",
          "scenario_0",
          "scenario_1",
          "scenario_0",
          "scenario_1",
          "scenario_0",
          "scenario_1",
          "scenario_0",
          "scenario_1",
          "scenario_0",
          "scenario_1",
          "scenario_0",
          "scenario_1",
          "scenario_0",
          "scenario_1",
          "",
          ""
         ],
         "type": "treemap",
         "values": [
          6.396599999999999,
          6.396599999999999,
          8728.335251999999,
          8728.335251999999,
          17948.591261999998,
          17948.591261999998,
          136.35888,
          136.35888,
          140.193018,
          140.193018,
          5.877479999999999,
          5.877479999999999,
          1183.090608,
          1183.090608,
          41.972868,
          41.972868,
          377.7559065,
          377.7559065,
          2.6153923400462,
          0.8717974466820667,
          2599.0162712534593,
          866.3387570844865,
          5279.462332410406,
          1759.8207774701352,
          268.1490981460004,
          89.38303271533348,
          259.4878255528416,
          86.4959418509472,
          136.4925145359204,
          45.4975048453068,
          162.57549076908342,
          54.19183025636113,
          92.35055964409578,
          30.783519881365255,
          2.40313856904836,
          0.8010461896827867,
          737.4959462046879,
          245.8319820682293,
          281.4899024488431,
          93.82996748294771,
          776.8392108337254,
          258.94640361124175,
          240.702832333964,
          80.23427744465467,
          0.4861415999999999,
          0.7909658820566666,
          1648.7153880624,
          2121.263801017574,
          2062.5765348132,
          2973.2530210564864,
          44.78166,
          76.65952481455949,
          226.0540233,
          256.9022263377504,
          10.06992,
          26.2963028469276,
          3.54533088,
          22.493523277329068,
          12.15006156,
          22.913530049987855,
          0.44668848,
          0.7267745603086666,
          28.098401940000002,
          134.68289766188963,
          267.2328559824,
          300.6966905392555,
          1511.0236259999997,
          1603.3751405746384,
          35.588699999999996,
          64.20372202571599,
          0.8717974466820667,
          2.6153923400462,
          1472.1700557449662,
          4416.510167234899,
          2990.464677798901,
          8971.394033396702,
          151.26359382594896,
          453.7907814778469,
          146.98261447398718,
          440.9478434219616,
          77.31394180006679,
          231.9418254002004,
          54.19183025636113,
          162.57549076908342,
          30.783519881365255,
          92.35055964409578,
          0.8010461896827867,
          2.40313856904836,
          245.8319820682293,
          737.4959462046879,
          136.34216376958798,
          409.0264913087639,
          10.369931386728267,
          10.674755668784933,
          14448.236967060824,
          16132.447977336959,
          28281.094807022506,
          31653.059093923323,
          464.19435197194935,
          619.8333390077399,
          632.5244633268288,
          784.3460116106592,
          223.8763763359872,
          303.7356330924348,
          356.67153190544457,
          375.61972430277365,
          275.47715908546104,
          286.2406275754489,
          9.528353238731146,
          9.808439319039813,
          2194.516938212917,
          2301.1014339348067,
          590.6956264312431,
          436.4995260222032,
          2665.618743333725,
          2240.07745068588,
          412.633696103552,
          553.4644907791346,
          50565.43894541589,
          55706.908503259176
         ]
        }
       ],
       "layout": {
        "legend": {
         "tracegroupgap": 0
        },
        "margin": {
         "t": 60
        },
        "template": {
         "data": {
          "bar": [
           {
            "error_x": {
             "color": "#2a3f5f"
            },
            "error_y": {
             "color": "#2a3f5f"
            },
            "marker": {
             "line": {
              "color": "#E5ECF6",
              "width": 0.5
             }
            },
            "type": "bar"
           }
          ],
          "barpolar": [
           {
            "marker": {
             "line": {
              "color": "#E5ECF6",
              "width": 0.5
             }
            },
            "type": "barpolar"
           }
          ],
          "carpet": [
           {
            "aaxis": {
             "endlinecolor": "#2a3f5f",
             "gridcolor": "white",
             "linecolor": "white",
             "minorgridcolor": "white",
             "startlinecolor": "#2a3f5f"
            },
            "baxis": {
             "endlinecolor": "#2a3f5f",
             "gridcolor": "white",
             "linecolor": "white",
             "minorgridcolor": "white",
             "startlinecolor": "#2a3f5f"
            },
            "type": "carpet"
           }
          ],
          "choropleth": [
           {
            "colorbar": {
             "outlinewidth": 0,
             "ticks": ""
            },
            "type": "choropleth"
           }
          ],
          "contour": [
           {
            "colorbar": {
             "outlinewidth": 0,
             "ticks": ""
            },
            "colorscale": [
             [
              0,
              "#0d0887"
             ],
             [
              0.1111111111111111,
              "#46039f"
             ],
             [
              0.2222222222222222,
              "#7201a8"
             ],
             [
              0.3333333333333333,
              "#9c179e"
             ],
             [
              0.4444444444444444,
              "#bd3786"
             ],
             [
              0.5555555555555556,
              "#d8576b"
             ],
             [
              0.6666666666666666,
              "#ed7953"
             ],
             [
              0.7777777777777778,
              "#fb9f3a"
             ],
             [
              0.8888888888888888,
              "#fdca26"
             ],
             [
              1,
              "#f0f921"
             ]
            ],
            "type": "contour"
           }
          ],
          "contourcarpet": [
           {
            "colorbar": {
             "outlinewidth": 0,
             "ticks": ""
            },
            "type": "contourcarpet"
           }
          ],
          "heatmap": [
           {
            "colorbar": {
             "outlinewidth": 0,
             "ticks": ""
            },
            "colorscale": [
             [
              0,
              "#0d0887"
             ],
             [
              0.1111111111111111,
              "#46039f"
             ],
             [
              0.2222222222222222,
              "#7201a8"
             ],
             [
              0.3333333333333333,
              "#9c179e"
             ],
             [
              0.4444444444444444,
              "#bd3786"
             ],
             [
              0.5555555555555556,
              "#d8576b"
             ],
             [
              0.6666666666666666,
              "#ed7953"
             ],
             [
              0.7777777777777778,
              "#fb9f3a"
             ],
             [
              0.8888888888888888,
              "#fdca26"
             ],
             [
              1,
              "#f0f921"
             ]
            ],
            "type": "heatmap"
           }
          ],
          "heatmapgl": [
           {
            "colorbar": {
             "outlinewidth": 0,
             "ticks": ""
            },
            "colorscale": [
             [
              0,
              "#0d0887"
             ],
             [
              0.1111111111111111,
              "#46039f"
             ],
             [
              0.2222222222222222,
              "#7201a8"
             ],
             [
              0.3333333333333333,
              "#9c179e"
             ],
             [
              0.4444444444444444,
              "#bd3786"
             ],
             [
              0.5555555555555556,
              "#d8576b"
             ],
             [
              0.6666666666666666,
              "#ed7953"
             ],
             [
              0.7777777777777778,
              "#fb9f3a"
             ],
             [
              0.8888888888888888,
              "#fdca26"
             ],
             [
              1,
              "#f0f921"
             ]
            ],
            "type": "heatmapgl"
           }
          ],
          "histogram": [
           {
            "marker": {
             "colorbar": {
              "outlinewidth": 0,
              "ticks": ""
             }
            },
            "type": "histogram"
           }
          ],
          "histogram2d": [
           {
            "colorbar": {
             "outlinewidth": 0,
             "ticks": ""
            },
            "colorscale": [
             [
              0,
              "#0d0887"
             ],
             [
              0.1111111111111111,
              "#46039f"
             ],
             [
              0.2222222222222222,
              "#7201a8"
             ],
             [
              0.3333333333333333,
              "#9c179e"
             ],
             [
              0.4444444444444444,
              "#bd3786"
             ],
             [
              0.5555555555555556,
              "#d8576b"
             ],
             [
              0.6666666666666666,
              "#ed7953"
             ],
             [
              0.7777777777777778,
              "#fb9f3a"
             ],
             [
              0.8888888888888888,
              "#fdca26"
             ],
             [
              1,
              "#f0f921"
             ]
            ],
            "type": "histogram2d"
           }
          ],
          "histogram2dcontour": [
           {
            "colorbar": {
             "outlinewidth": 0,
             "ticks": ""
            },
            "colorscale": [
             [
              0,
              "#0d0887"
             ],
             [
              0.1111111111111111,
              "#46039f"
             ],
             [
              0.2222222222222222,
              "#7201a8"
             ],
             [
              0.3333333333333333,
              "#9c179e"
             ],
             [
              0.4444444444444444,
              "#bd3786"
             ],
             [
              0.5555555555555556,
              "#d8576b"
             ],
             [
              0.6666666666666666,
              "#ed7953"
             ],
             [
              0.7777777777777778,
              "#fb9f3a"
             ],
             [
              0.8888888888888888,
              "#fdca26"
             ],
             [
              1,
              "#f0f921"
             ]
            ],
            "type": "histogram2dcontour"
           }
          ],
          "mesh3d": [
           {
            "colorbar": {
             "outlinewidth": 0,
             "ticks": ""
            },
            "type": "mesh3d"
           }
          ],
          "parcoords": [
           {
            "line": {
             "colorbar": {
              "outlinewidth": 0,
              "ticks": ""
             }
            },
            "type": "parcoords"
           }
          ],
          "pie": [
           {
            "automargin": true,
            "type": "pie"
           }
          ],
          "scatter": [
           {
            "marker": {
             "colorbar": {
              "outlinewidth": 0,
              "ticks": ""
             }
            },
            "type": "scatter"
           }
          ],
          "scatter3d": [
           {
            "line": {
             "colorbar": {
              "outlinewidth": 0,
              "ticks": ""
             }
            },
            "marker": {
             "colorbar": {
              "outlinewidth": 0,
              "ticks": ""
             }
            },
            "type": "scatter3d"
           }
          ],
          "scattercarpet": [
           {
            "marker": {
             "colorbar": {
              "outlinewidth": 0,
              "ticks": ""
             }
            },
            "type": "scattercarpet"
           }
          ],
          "scattergeo": [
           {
            "marker": {
             "colorbar": {
              "outlinewidth": 0,
              "ticks": ""
             }
            },
            "type": "scattergeo"
           }
          ],
          "scattergl": [
           {
            "marker": {
             "colorbar": {
              "outlinewidth": 0,
              "ticks": ""
             }
            },
            "type": "scattergl"
           }
          ],
          "scattermapbox": [
           {
            "marker": {
             "colorbar": {
              "outlinewidth": 0,
              "ticks": ""
             }
            },
            "type": "scattermapbox"
           }
          ],
          "scatterpolar": [
           {
            "marker": {
             "colorbar": {
              "outlinewidth": 0,
              "ticks": ""
             }
            },
            "type": "scatterpolar"
           }
          ],
          "scatterpolargl": [
           {
            "marker": {
             "colorbar": {
              "outlinewidth": 0,
              "ticks": ""
             }
            },
            "type": "scatterpolargl"
           }
          ],
          "scatterternary": [
           {
            "marker": {
             "colorbar": {
              "outlinewidth": 0,
              "ticks": ""
             }
            },
            "type": "scatterternary"
           }
          ],
          "surface": [
           {
            "colorbar": {
             "outlinewidth": 0,
             "ticks": ""
            },
            "colorscale": [
             [
              0,
              "#0d0887"
             ],
             [
              0.1111111111111111,
              "#46039f"
             ],
             [
              0.2222222222222222,
              "#7201a8"
             ],
             [
              0.3333333333333333,
              "#9c179e"
             ],
             [
              0.4444444444444444,
              "#bd3786"
             ],
             [
              0.5555555555555556,
              "#d8576b"
             ],
             [
              0.6666666666666666,
              "#ed7953"
             ],
             [
              0.7777777777777778,
              "#fb9f3a"
             ],
             [
              0.8888888888888888,
              "#fdca26"
             ],
             [
              1,
              "#f0f921"
             ]
            ],
            "type": "surface"
           }
          ],
          "table": [
           {
            "cells": {
             "fill": {
              "color": "#EBF0F8"
             },
             "line": {
              "color": "white"
             }
            },
            "header": {
             "fill": {
              "color": "#C8D4E3"
             },
             "line": {
              "color": "white"
             }
            },
            "type": "table"
           }
          ]
         },
         "layout": {
          "annotationdefaults": {
           "arrowcolor": "#2a3f5f",
           "arrowhead": 0,
           "arrowwidth": 1
          },
          "autotypenumbers": "strict",
          "coloraxis": {
           "colorbar": {
            "outlinewidth": 0,
            "ticks": ""
           }
          },
          "colorscale": {
           "diverging": [
            [
             0,
             "#8e0152"
            ],
            [
             0.1,
             "#c51b7d"
            ],
            [
             0.2,
             "#de77ae"
            ],
            [
             0.3,
             "#f1b6da"
            ],
            [
             0.4,
             "#fde0ef"
            ],
            [
             0.5,
             "#f7f7f7"
            ],
            [
             0.6,
             "#e6f5d0"
            ],
            [
             0.7,
             "#b8e186"
            ],
            [
             0.8,
             "#7fbc41"
            ],
            [
             0.9,
             "#4d9221"
            ],
            [
             1,
             "#276419"
            ]
           ],
           "sequential": [
            [
             0,
             "#0d0887"
            ],
            [
             0.1111111111111111,
             "#46039f"
            ],
            [
             0.2222222222222222,
             "#7201a8"
            ],
            [
             0.3333333333333333,
             "#9c179e"
            ],
            [
             0.4444444444444444,
             "#bd3786"
            ],
            [
             0.5555555555555556,
             "#d8576b"
            ],
            [
             0.6666666666666666,
             "#ed7953"
            ],
            [
             0.7777777777777778,
             "#fb9f3a"
            ],
            [
             0.8888888888888888,
             "#fdca26"
            ],
            [
             1,
             "#f0f921"
            ]
           ],
           "sequentialminus": [
            [
             0,
             "#0d0887"
            ],
            [
             0.1111111111111111,
             "#46039f"
            ],
            [
             0.2222222222222222,
             "#7201a8"
            ],
            [
             0.3333333333333333,
             "#9c179e"
            ],
            [
             0.4444444444444444,
             "#bd3786"
            ],
            [
             0.5555555555555556,
             "#d8576b"
            ],
            [
             0.6666666666666666,
             "#ed7953"
            ],
            [
             0.7777777777777778,
             "#fb9f3a"
            ],
            [
             0.8888888888888888,
             "#fdca26"
            ],
            [
             1,
             "#f0f921"
            ]
           ]
          },
          "colorway": [
           "#636efa",
           "#EF553B",
           "#00cc96",
           "#ab63fa",
           "#FFA15A",
           "#19d3f3",
           "#FF6692",
           "#B6E880",
           "#FF97FF",
           "#FECB52"
          ],
          "font": {
           "color": "#2a3f5f"
          },
          "geo": {
           "bgcolor": "white",
           "lakecolor": "white",
           "landcolor": "#E5ECF6",
           "showlakes": true,
           "showland": true,
           "subunitcolor": "white"
          },
          "hoverlabel": {
           "align": "left"
          },
          "hovermode": "closest",
          "mapbox": {
           "style": "light"
          },
          "paper_bgcolor": "white",
          "plot_bgcolor": "#E5ECF6",
          "polar": {
           "angularaxis": {
            "gridcolor": "white",
            "linecolor": "white",
            "ticks": ""
           },
           "bgcolor": "#E5ECF6",
           "radialaxis": {
            "gridcolor": "white",
            "linecolor": "white",
            "ticks": ""
           }
          },
          "scene": {
           "xaxis": {
            "backgroundcolor": "#E5ECF6",
            "gridcolor": "white",
            "gridwidth": 2,
            "linecolor": "white",
            "showbackground": true,
            "ticks": "",
            "zerolinecolor": "white"
           },
           "yaxis": {
            "backgroundcolor": "#E5ECF6",
            "gridcolor": "white",
            "gridwidth": 2,
            "linecolor": "white",
            "showbackground": true,
            "ticks": "",
            "zerolinecolor": "white"
           },
           "zaxis": {
            "backgroundcolor": "#E5ECF6",
            "gridcolor": "white",
            "gridwidth": 2,
            "linecolor": "white",
            "showbackground": true,
            "ticks": "",
            "zerolinecolor": "white"
           }
          },
          "shapedefaults": {
           "line": {
            "color": "#2a3f5f"
           }
          },
          "ternary": {
           "aaxis": {
            "gridcolor": "white",
            "linecolor": "white",
            "ticks": ""
           },
           "baxis": {
            "gridcolor": "white",
            "linecolor": "white",
            "ticks": ""
           },
           "bgcolor": "#E5ECF6",
           "caxis": {
            "gridcolor": "white",
            "linecolor": "white",
            "ticks": ""
           }
          },
          "title": {
           "x": 0.05
          },
          "xaxis": {
           "automargin": true,
           "gridcolor": "white",
           "linecolor": "white",
           "ticks": "",
           "title": {
            "standoff": 15
           },
           "zerolinecolor": "white",
           "zerolinewidth": 2
          },
          "yaxis": {
           "automargin": true,
           "gridcolor": "white",
           "linecolor": "white",
           "ticks": "",
           "title": {
            "standoff": 15
           },
           "zerolinecolor": "white",
           "zerolinewidth": 2
          }
         }
        }
       }
      },
      "text/html": [
       "<div>                            <div id=\"1fc47d2f-8b35-44f1-885e-f146a0940882\" class=\"plotly-graph-div\" style=\"height:525px; width:100%;\"></div>            <script type=\"text/javascript\">                require([\"plotly\"], function(Plotly) {                    window.PLOTLYENV=window.PLOTLYENV || {};                                    if (document.getElementById(\"1fc47d2f-8b35-44f1-885e-f146a0940882\")) {                    Plotly.newPlot(                        \"1fc47d2f-8b35-44f1-885e-f146a0940882\",                        [{\"branchvalues\": \"total\", \"domain\": {\"x\": [0.0, 1.0], \"y\": [0.0, 1.0]}, \"hovertemplate\": \"labels=%{label}<br>Value=%{value}<br>parent=%{parent}<br>id=%{id}<extra></extra>\", \"ids\": [\"scenario_0/Asses/Emissions (CO2eq) (Enteric)\", \"scenario_1/Asses/Emissions (CO2eq) (Enteric)\", \"scenario_0/Cattle, dairy/Emissions (CO2eq) (Enteric)\", \"scenario_1/Cattle, dairy/Emissions (CO2eq) (Enteric)\", \"scenario_0/Cattle, non-dairy/Emissions (CO2eq) (Enteric)\", \"scenario_1/Cattle, non-dairy/Emissions (CO2eq) (Enteric)\", \"scenario_0/Goats/Emissions (CO2eq) (Enteric)\", \"scenario_1/Goats/Emissions (CO2eq) (Enteric)\", \"scenario_0/Horses/Emissions (CO2eq) (Enteric)\", \"scenario_1/Horses/Emissions (CO2eq) (Enteric)\", \"scenario_0/Mules/Emissions (CO2eq) (Enteric)\", \"scenario_1/Mules/Emissions (CO2eq) (Enteric)\", \"scenario_0/Sheep/Emissions (CO2eq) (Enteric)\", \"scenario_1/Sheep/Emissions (CO2eq) (Enteric)\", \"scenario_0/Swine, breeding/Emissions (CO2eq) (Enteric)\", \"scenario_1/Swine, breeding/Emissions (CO2eq) (Enteric)\", \"scenario_0/Swine, market/Emissions (CO2eq) (Enteric)\", \"scenario_1/Swine, market/Emissions (CO2eq) (Enteric)\", \"scenario_0/Asses/Emissions (CO2eq) (Manure applied)\", \"scenario_1/Asses/Emissions (CO2eq) (Manure applied)\", \"scenario_0/Cattle, dairy/Emissions (CO2eq) (Manure applied)\", \"scenario_1/Cattle, dairy/Emissions (CO2eq) (Manure applied)\", \"scenario_0/Cattle, non-dairy/Emissions (CO2eq) (Manure applied)\", \"scenario_1/Cattle, non-dairy/Emissions (CO2eq) (Manure applied)\", \"scenario_0/Chickens, broilers/Emissions (CO2eq) (Manure applied)\", \"scenario_1/Chickens, broilers/Emissions (CO2eq) (Manure applied)\", \"scenario_0/Chickens, layers/Emissions (CO2eq) (Manure applied)\", \"scenario_1/Chickens, layers/Emissions (CO2eq) (Manure applied)\", \"scenario_0/Ducks/Emissions (CO2eq) (Manure applied)\", \"scenario_1/Ducks/Emissions (CO2eq) (Manure applied)\", \"scenario_0/Goats/Emissions (CO2eq) (Manure applied)\", \"scenario_1/Goats/Emissions (CO2eq) (Manure applied)\", \"scenario_0/Horses/Emissions (CO2eq) (Manure applied)\", \"scenario_1/Horses/Emissions (CO2eq) (Manure applied)\", \"scenario_0/Mules/Emissions (CO2eq) (Manure applied)\", \"scenario_1/Mules/Emissions (CO2eq) (Manure applied)\", \"scenario_0/Sheep/Emissions (CO2eq) (Manure applied)\", \"scenario_1/Sheep/Emissions (CO2eq) (Manure applied)\", \"scenario_0/Swine, breeding/Emissions (CO2eq) (Manure applied)\", \"scenario_1/Swine, breeding/Emissions (CO2eq) (Manure applied)\", \"scenario_0/Swine, market/Emissions (CO2eq) (Manure applied)\", \"scenario_1/Swine, market/Emissions (CO2eq) (Manure applied)\", \"scenario_0/Turkeys/Emissions (CO2eq) (Manure applied)\", \"scenario_1/Turkeys/Emissions (CO2eq) (Manure applied)\", \"scenario_0/Asses/Emissions (CO2eq) (Manure management)\", \"scenario_1/Asses/Emissions (CO2eq) (Manure management)\", \"scenario_0/Cattle, dairy/Emissions (CO2eq) (Manure management)\", \"scenario_1/Cattle, dairy/Emissions (CO2eq) (Manure management)\", \"scenario_0/Cattle, non-dairy/Emissions (CO2eq) (Manure management)\", \"scenario_1/Cattle, non-dairy/Emissions (CO2eq) (Manure management)\", \"scenario_0/Chickens, broilers/Emissions (CO2eq) (Manure management)\", \"scenario_1/Chickens, broilers/Emissions (CO2eq) (Manure management)\", \"scenario_0/Chickens, layers/Emissions (CO2eq) (Manure management)\", \"scenario_1/Chickens, layers/Emissions (CO2eq) (Manure management)\", \"scenario_0/Ducks/Emissions (CO2eq) (Manure management)\", \"scenario_1/Ducks/Emissions (CO2eq) (Manure management)\", \"scenario_0/Goats/Emissions (CO2eq) (Manure management)\", \"scenario_1/Goats/Emissions (CO2eq) (Manure management)\", \"scenario_0/Horses/Emissions (CO2eq) (Manure management)\", \"scenario_1/Horses/Emissions (CO2eq) (Manure management)\", \"scenario_0/Mules/Emissions (CO2eq) (Manure management)\", \"scenario_1/Mules/Emissions (CO2eq) (Manure management)\", \"scenario_0/Sheep/Emissions (CO2eq) (Manure management)\", \"scenario_1/Sheep/Emissions (CO2eq) (Manure management)\", \"scenario_0/Swine, breeding/Emissions (CO2eq) (Manure management)\", \"scenario_1/Swine, breeding/Emissions (CO2eq) (Manure management)\", \"scenario_0/Swine, market/Emissions (CO2eq) (Manure management)\", \"scenario_1/Swine, market/Emissions (CO2eq) (Manure management)\", \"scenario_0/Turkeys/Emissions (CO2eq) (Manure management)\", \"scenario_1/Turkeys/Emissions (CO2eq) (Manure management)\", \"scenario_0/Asses/Emissions (CO2eq) (Manure on pasture)\", \"scenario_1/Asses/Emissions (CO2eq) (Manure on pasture)\", \"scenario_0/Cattle, dairy/Emissions (CO2eq) (Manure on pasture)\", \"scenario_1/Cattle, dairy/Emissions (CO2eq) (Manure on pasture)\", \"scenario_0/Cattle, non-dairy/Emissions (CO2eq) (Manure on pasture)\", \"scenario_1/Cattle, non-dairy/Emissions (CO2eq) (Manure on pasture)\", \"scenario_0/Chickens, broilers/Emissions (CO2eq) (Manure on pasture)\", \"scenario_1/Chickens, broilers/Emissions (CO2eq) (Manure on pasture)\", \"scenario_0/Chickens, layers/Emissions (CO2eq) (Manure on pasture)\", \"scenario_1/Chickens, layers/Emissions (CO2eq) (Manure on pasture)\", \"scenario_0/Ducks/Emissions (CO2eq) (Manure on pasture)\", \"scenario_1/Ducks/Emissions (CO2eq) (Manure on pasture)\", \"scenario_0/Goats/Emissions (CO2eq) (Manure on pasture)\", \"scenario_1/Goats/Emissions (CO2eq) (Manure on pasture)\", \"scenario_0/Horses/Emissions (CO2eq) (Manure on pasture)\", \"scenario_1/Horses/Emissions (CO2eq) (Manure on pasture)\", \"scenario_0/Mules/Emissions (CO2eq) (Manure on pasture)\", \"scenario_1/Mules/Emissions (CO2eq) (Manure on pasture)\", \"scenario_0/Sheep/Emissions (CO2eq) (Manure on pasture)\", \"scenario_1/Sheep/Emissions (CO2eq) (Manure on pasture)\", \"scenario_0/Turkeys/Emissions (CO2eq) (Manure on pasture)\", \"scenario_1/Turkeys/Emissions (CO2eq) (Manure on pasture)\", \"scenario_0/Asses\", \"scenario_1/Asses\", \"scenario_0/Cattle, dairy\", \"scenario_1/Cattle, dairy\", \"scenario_0/Cattle, non-dairy\", \"scenario_1/Cattle, non-dairy\", \"scenario_0/Chickens, broilers\", \"scenario_1/Chickens, broilers\", \"scenario_0/Chickens, layers\", \"scenario_1/Chickens, layers\", \"scenario_0/Ducks\", \"scenario_1/Ducks\", \"scenario_0/Goats\", \"scenario_1/Goats\", \"scenario_0/Horses\", \"scenario_1/Horses\", \"scenario_0/Mules\", \"scenario_1/Mules\", \"scenario_0/Sheep\", \"scenario_1/Sheep\", \"scenario_0/Swine, breeding\", \"scenario_1/Swine, breeding\", \"scenario_0/Swine, market\", \"scenario_1/Swine, market\", \"scenario_0/Turkeys\", \"scenario_1/Turkeys\", \"scenario_0\", \"scenario_1\"], \"labels\": [\"Emissions (CO2eq) (Enteric)\", \"Emissions (CO2eq) (Enteric)\", \"Emissions (CO2eq) (Enteric)\", \"Emissions (CO2eq) (Enteric)\", \"Emissions (CO2eq) (Enteric)\", \"Emissions (CO2eq) (Enteric)\", \"Emissions (CO2eq) (Enteric)\", \"Emissions (CO2eq) (Enteric)\", \"Emissions (CO2eq) (Enteric)\", \"Emissions (CO2eq) (Enteric)\", \"Emissions (CO2eq) (Enteric)\", \"Emissions (CO2eq) (Enteric)\", \"Emissions (CO2eq) (Enteric)\", \"Emissions (CO2eq) (Enteric)\", \"Emissions (CO2eq) (Enteric)\", \"Emissions (CO2eq) (Enteric)\", \"Emissions (CO2eq) (Enteric)\", \"Emissions (CO2eq) (Enteric)\", \"Emissions (CO2eq) (Manure applied)\", \"Emissions (CO2eq) (Manure applied)\", \"Emissions (CO2eq) (Manure applied)\", \"Emissions (CO2eq) (Manure applied)\", \"Emissions (CO2eq) (Manure applied)\", \"Emissions (CO2eq) (Manure applied)\", \"Emissions (CO2eq) (Manure applied)\", \"Emissions (CO2eq) (Manure applied)\", \"Emissions (CO2eq) (Manure applied)\", \"Emissions (CO2eq) (Manure applied)\", \"Emissions (CO2eq) (Manure applied)\", \"Emissions (CO2eq) (Manure applied)\", \"Emissions (CO2eq) (Manure applied)\", \"Emissions (CO2eq) (Manure applied)\", \"Emissions (CO2eq) (Manure applied)\", \"Emissions (CO2eq) (Manure applied)\", \"Emissions (CO2eq) (Manure applied)\", \"Emissions (CO2eq) (Manure applied)\", \"Emissions (CO2eq) (Manure applied)\", \"Emissions (CO2eq) (Manure applied)\", \"Emissions (CO2eq) (Manure applied)\", \"Emissions (CO2eq) (Manure applied)\", \"Emissions (CO2eq) (Manure applied)\", \"Emissions (CO2eq) (Manure applied)\", \"Emissions (CO2eq) (Manure applied)\", \"Emissions (CO2eq) (Manure applied)\", \"Emissions (CO2eq) (Manure management)\", \"Emissions (CO2eq) (Manure management)\", \"Emissions (CO2eq) (Manure management)\", \"Emissions (CO2eq) (Manure management)\", \"Emissions (CO2eq) (Manure management)\", \"Emissions (CO2eq) (Manure management)\", \"Emissions (CO2eq) (Manure management)\", \"Emissions (CO2eq) (Manure management)\", \"Emissions (CO2eq) (Manure management)\", \"Emissions (CO2eq) (Manure management)\", \"Emissions (CO2eq) (Manure management)\", \"Emissions (CO2eq) (Manure management)\", \"Emissions (CO2eq) (Manure management)\", \"Emissions (CO2eq) (Manure management)\", \"Emissions (CO2eq) (Manure management)\", \"Emissions (CO2eq) (Manure management)\", \"Emissions (CO2eq) (Manure management)\", \"Emissions (CO2eq) (Manure management)\", \"Emissions (CO2eq) (Manure management)\", \"Emissions (CO2eq) (Manure management)\", \"Emissions (CO2eq) (Manure management)\", \"Emissions (CO2eq) (Manure management)\", \"Emissions (CO2eq) (Manure management)\", \"Emissions (CO2eq) (Manure management)\", \"Emissions (CO2eq) (Manure management)\", \"Emissions (CO2eq) (Manure management)\", \"Emissions (CO2eq) (Manure on pasture)\", \"Emissions (CO2eq) (Manure on pasture)\", \"Emissions (CO2eq) (Manure on pasture)\", \"Emissions (CO2eq) (Manure on pasture)\", \"Emissions (CO2eq) (Manure on pasture)\", \"Emissions (CO2eq) (Manure on pasture)\", \"Emissions (CO2eq) (Manure on pasture)\", \"Emissions (CO2eq) (Manure on pasture)\", \"Emissions (CO2eq) (Manure on pasture)\", \"Emissions (CO2eq) (Manure on pasture)\", \"Emissions (CO2eq) (Manure on pasture)\", \"Emissions (CO2eq) (Manure on pasture)\", \"Emissions (CO2eq) (Manure on pasture)\", \"Emissions (CO2eq) (Manure on pasture)\", \"Emissions (CO2eq) (Manure on pasture)\", \"Emissions (CO2eq) (Manure on pasture)\", \"Emissions (CO2eq) (Manure on pasture)\", \"Emissions (CO2eq) (Manure on pasture)\", \"Emissions (CO2eq) (Manure on pasture)\", \"Emissions (CO2eq) (Manure on pasture)\", \"Emissions (CO2eq) (Manure on pasture)\", \"Emissions (CO2eq) (Manure on pasture)\", \"Asses\", \"Asses\", \"Cattle, dairy\", \"Cattle, dairy\", \"Cattle, non-dairy\", \"Cattle, non-dairy\", \"Chickens, broilers\", \"Chickens, broilers\", \"Chickens, layers\", \"Chickens, layers\", \"Ducks\", \"Ducks\", \"Goats\", \"Goats\", \"Horses\", \"Horses\", \"Mules\", \"Mules\", \"Sheep\", \"Sheep\", \"Swine, breeding\", \"Swine, breeding\", \"Swine, market\", \"Swine, market\", \"Turkeys\", \"Turkeys\", \"scenario_0\", \"scenario_1\"], \"name\": \"\", \"parents\": [\"scenario_0/Asses\", \"scenario_1/Asses\", \"scenario_0/Cattle, dairy\", \"scenario_1/Cattle, dairy\", \"scenario_0/Cattle, non-dairy\", \"scenario_1/Cattle, non-dairy\", \"scenario_0/Goats\", \"scenario_1/Goats\", \"scenario_0/Horses\", \"scenario_1/Horses\", \"scenario_0/Mules\", \"scenario_1/Mules\", \"scenario_0/Sheep\", \"scenario_1/Sheep\", \"scenario_0/Swine, breeding\", \"scenario_1/Swine, breeding\", \"scenario_0/Swine, market\", \"scenario_1/Swine, market\", \"scenario_0/Asses\", \"scenario_1/Asses\", \"scenario_0/Cattle, dairy\", \"scenario_1/Cattle, dairy\", \"scenario_0/Cattle, non-dairy\", \"scenario_1/Cattle, non-dairy\", \"scenario_0/Chickens, broilers\", \"scenario_1/Chickens, broilers\", \"scenario_0/Chickens, layers\", \"scenario_1/Chickens, layers\", \"scenario_0/Ducks\", \"scenario_1/Ducks\", \"scenario_0/Goats\", \"scenario_1/Goats\", \"scenario_0/Horses\", \"scenario_1/Horses\", \"scenario_0/Mules\", \"scenario_1/Mules\", \"scenario_0/Sheep\", \"scenario_1/Sheep\", \"scenario_0/Swine, breeding\", \"scenario_1/Swine, breeding\", \"scenario_0/Swine, market\", \"scenario_1/Swine, market\", \"scenario_0/Turkeys\", \"scenario_1/Turkeys\", \"scenario_0/Asses\", \"scenario_1/Asses\", \"scenario_0/Cattle, dairy\", \"scenario_1/Cattle, dairy\", \"scenario_0/Cattle, non-dairy\", \"scenario_1/Cattle, non-dairy\", \"scenario_0/Chickens, broilers\", \"scenario_1/Chickens, broilers\", \"scenario_0/Chickens, layers\", \"scenario_1/Chickens, layers\", \"scenario_0/Ducks\", \"scenario_1/Ducks\", \"scenario_0/Goats\", \"scenario_1/Goats\", \"scenario_0/Horses\", \"scenario_1/Horses\", \"scenario_0/Mules\", \"scenario_1/Mules\", \"scenario_0/Sheep\", \"scenario_1/Sheep\", \"scenario_0/Swine, breeding\", \"scenario_1/Swine, breeding\", \"scenario_0/Swine, market\", \"scenario_1/Swine, market\", \"scenario_0/Turkeys\", \"scenario_1/Turkeys\", \"scenario_0/Asses\", \"scenario_1/Asses\", \"scenario_0/Cattle, dairy\", \"scenario_1/Cattle, dairy\", \"scenario_0/Cattle, non-dairy\", \"scenario_1/Cattle, non-dairy\", \"scenario_0/Chickens, broilers\", \"scenario_1/Chickens, broilers\", \"scenario_0/Chickens, layers\", \"scenario_1/Chickens, layers\", \"scenario_0/Ducks\", \"scenario_1/Ducks\", \"scenario_0/Goats\", \"scenario_1/Goats\", \"scenario_0/Horses\", \"scenario_1/Horses\", \"scenario_0/Mules\", \"scenario_1/Mules\", \"scenario_0/Sheep\", \"scenario_1/Sheep\", \"scenario_0/Turkeys\", \"scenario_1/Turkeys\", \"scenario_0\", \"scenario_1\", \"scenario_0\", \"scenario_1\", \"scenario_0\", \"scenario_1\", \"scenario_0\", \"scenario_1\", \"scenario_0\", \"scenario_1\", \"scenario_0\", \"scenario_1\", \"scenario_0\", \"scenario_1\", \"scenario_0\", \"scenario_1\", \"scenario_0\", \"scenario_1\", \"scenario_0\", \"scenario_1\", \"scenario_0\", \"scenario_1\", \"scenario_0\", \"scenario_1\", \"scenario_0\", \"scenario_1\", \"\", \"\"], \"type\": \"treemap\", \"values\": [6.396599999999999, 6.396599999999999, 8728.335251999999, 8728.335251999999, 17948.591261999998, 17948.591261999998, 136.35888, 136.35888, 140.193018, 140.193018, 5.877479999999999, 5.877479999999999, 1183.090608, 1183.090608, 41.972868, 41.972868, 377.7559065, 377.7559065, 2.6153923400462, 0.8717974466820667, 2599.0162712534593, 866.3387570844865, 5279.462332410406, 1759.8207774701352, 268.1490981460004, 89.38303271533348, 259.4878255528416, 86.4959418509472, 136.4925145359204, 45.4975048453068, 162.57549076908342, 54.19183025636113, 92.35055964409578, 30.783519881365255, 2.40313856904836, 0.8010461896827867, 737.4959462046879, 245.8319820682293, 281.4899024488431, 93.82996748294771, 776.8392108337254, 258.94640361124175, 240.702832333964, 80.23427744465467, 0.4861415999999999, 0.7909658820566666, 1648.7153880624, 2121.263801017574, 2062.5765348132, 2973.2530210564864, 44.78166, 76.65952481455949, 226.0540233, 256.9022263377504, 10.06992, 26.2963028469276, 3.54533088, 22.493523277329068, 12.15006156, 22.913530049987855, 0.44668848, 0.7267745603086666, 28.098401940000002, 134.68289766188963, 267.2328559824, 300.6966905392555, 1511.0236259999997, 1603.3751405746384, 35.588699999999996, 64.20372202571599, 0.8717974466820667, 2.6153923400462, 1472.1700557449662, 4416.510167234899, 2990.464677798901, 8971.394033396702, 151.26359382594896, 453.7907814778469, 146.98261447398718, 440.9478434219616, 77.31394180006679, 231.9418254002004, 54.19183025636113, 162.57549076908342, 30.783519881365255, 92.35055964409578, 0.8010461896827867, 2.40313856904836, 245.8319820682293, 737.4959462046879, 136.34216376958798, 409.0264913087639, 10.369931386728267, 10.674755668784933, 14448.236967060824, 16132.447977336959, 28281.094807022506, 31653.059093923323, 464.19435197194935, 619.8333390077399, 632.5244633268288, 784.3460116106592, 223.8763763359872, 303.7356330924348, 356.67153190544457, 375.61972430277365, 275.47715908546104, 286.2406275754489, 9.528353238731146, 9.808439319039813, 2194.516938212917, 2301.1014339348067, 590.6956264312431, 436.4995260222032, 2665.618743333725, 2240.07745068588, 412.633696103552, 553.4644907791346, 50565.43894541589, 55706.908503259176]}],                        {\"legend\": {\"tracegroupgap\": 0}, \"margin\": {\"t\": 60}, \"template\": {\"data\": {\"bar\": [{\"error_x\": {\"color\": \"#2a3f5f\"}, \"error_y\": {\"color\": \"#2a3f5f\"}, \"marker\": {\"line\": {\"color\": \"#E5ECF6\", \"width\": 0.5}}, \"type\": \"bar\"}], \"barpolar\": [{\"marker\": {\"line\": {\"color\": \"#E5ECF6\", \"width\": 0.5}}, \"type\": \"barpolar\"}], \"carpet\": [{\"aaxis\": {\"endlinecolor\": \"#2a3f5f\", \"gridcolor\": \"white\", \"linecolor\": \"white\", \"minorgridcolor\": \"white\", \"startlinecolor\": \"#2a3f5f\"}, \"baxis\": {\"endlinecolor\": \"#2a3f5f\", \"gridcolor\": \"white\", \"linecolor\": \"white\", \"minorgridcolor\": \"white\", \"startlinecolor\": \"#2a3f5f\"}, \"type\": \"carpet\"}], \"choropleth\": [{\"colorbar\": {\"outlinewidth\": 0, \"ticks\": \"\"}, \"type\": \"choropleth\"}], \"contour\": [{\"colorbar\": {\"outlinewidth\": 0, \"ticks\": \"\"}, \"colorscale\": [[0.0, \"#0d0887\"], [0.1111111111111111, \"#46039f\"], [0.2222222222222222, \"#7201a8\"], [0.3333333333333333, \"#9c179e\"], [0.4444444444444444, \"#bd3786\"], [0.5555555555555556, \"#d8576b\"], [0.6666666666666666, \"#ed7953\"], [0.7777777777777778, \"#fb9f3a\"], [0.8888888888888888, \"#fdca26\"], [1.0, \"#f0f921\"]], \"type\": \"contour\"}], \"contourcarpet\": [{\"colorbar\": {\"outlinewidth\": 0, \"ticks\": \"\"}, \"type\": \"contourcarpet\"}], \"heatmap\": [{\"colorbar\": {\"outlinewidth\": 0, \"ticks\": \"\"}, \"colorscale\": [[0.0, \"#0d0887\"], [0.1111111111111111, \"#46039f\"], [0.2222222222222222, \"#7201a8\"], [0.3333333333333333, \"#9c179e\"], [0.4444444444444444, \"#bd3786\"], [0.5555555555555556, \"#d8576b\"], [0.6666666666666666, \"#ed7953\"], [0.7777777777777778, \"#fb9f3a\"], [0.8888888888888888, \"#fdca26\"], [1.0, \"#f0f921\"]], \"type\": \"heatmap\"}], \"heatmapgl\": [{\"colorbar\": {\"outlinewidth\": 0, \"ticks\": \"\"}, \"colorscale\": [[0.0, \"#0d0887\"], [0.1111111111111111, \"#46039f\"], [0.2222222222222222, \"#7201a8\"], [0.3333333333333333, \"#9c179e\"], [0.4444444444444444, \"#bd3786\"], [0.5555555555555556, \"#d8576b\"], [0.6666666666666666, \"#ed7953\"], [0.7777777777777778, \"#fb9f3a\"], [0.8888888888888888, \"#fdca26\"], [1.0, \"#f0f921\"]], \"type\": \"heatmapgl\"}], \"histogram\": [{\"marker\": {\"colorbar\": {\"outlinewidth\": 0, \"ticks\": \"\"}}, \"type\": \"histogram\"}], \"histogram2d\": [{\"colorbar\": {\"outlinewidth\": 0, \"ticks\": \"\"}, \"colorscale\": [[0.0, \"#0d0887\"], [0.1111111111111111, \"#46039f\"], [0.2222222222222222, \"#7201a8\"], [0.3333333333333333, \"#9c179e\"], [0.4444444444444444, \"#bd3786\"], [0.5555555555555556, \"#d8576b\"], [0.6666666666666666, \"#ed7953\"], [0.7777777777777778, \"#fb9f3a\"], [0.8888888888888888, \"#fdca26\"], [1.0, \"#f0f921\"]], \"type\": \"histogram2d\"}], \"histogram2dcontour\": [{\"colorbar\": {\"outlinewidth\": 0, \"ticks\": \"\"}, \"colorscale\": [[0.0, \"#0d0887\"], [0.1111111111111111, \"#46039f\"], [0.2222222222222222, \"#7201a8\"], [0.3333333333333333, \"#9c179e\"], [0.4444444444444444, \"#bd3786\"], [0.5555555555555556, \"#d8576b\"], [0.6666666666666666, \"#ed7953\"], [0.7777777777777778, \"#fb9f3a\"], [0.8888888888888888, \"#fdca26\"], [1.0, \"#f0f921\"]], \"type\": \"histogram2dcontour\"}], \"mesh3d\": [{\"colorbar\": {\"outlinewidth\": 0, \"ticks\": \"\"}, \"type\": \"mesh3d\"}], \"parcoords\": [{\"line\": {\"colorbar\": {\"outlinewidth\": 0, \"ticks\": \"\"}}, \"type\": \"parcoords\"}], \"pie\": [{\"automargin\": true, \"type\": \"pie\"}], \"scatter\": [{\"marker\": {\"colorbar\": {\"outlinewidth\": 0, \"ticks\": \"\"}}, \"type\": \"scatter\"}], \"scatter3d\": [{\"line\": {\"colorbar\": {\"outlinewidth\": 0, \"ticks\": \"\"}}, \"marker\": {\"colorbar\": {\"outlinewidth\": 0, \"ticks\": \"\"}}, \"type\": \"scatter3d\"}], \"scattercarpet\": [{\"marker\": {\"colorbar\": {\"outlinewidth\": 0, \"ticks\": \"\"}}, \"type\": \"scattercarpet\"}], \"scattergeo\": [{\"marker\": {\"colorbar\": {\"outlinewidth\": 0, \"ticks\": \"\"}}, \"type\": \"scattergeo\"}], \"scattergl\": [{\"marker\": {\"colorbar\": {\"outlinewidth\": 0, \"ticks\": \"\"}}, \"type\": \"scattergl\"}], \"scattermapbox\": [{\"marker\": {\"colorbar\": {\"outlinewidth\": 0, \"ticks\": \"\"}}, \"type\": \"scattermapbox\"}], \"scatterpolar\": [{\"marker\": {\"colorbar\": {\"outlinewidth\": 0, \"ticks\": \"\"}}, \"type\": \"scatterpolar\"}], \"scatterpolargl\": [{\"marker\": {\"colorbar\": {\"outlinewidth\": 0, \"ticks\": \"\"}}, \"type\": \"scatterpolargl\"}], \"scatterternary\": [{\"marker\": {\"colorbar\": {\"outlinewidth\": 0, \"ticks\": \"\"}}, \"type\": \"scatterternary\"}], \"surface\": [{\"colorbar\": {\"outlinewidth\": 0, \"ticks\": \"\"}, \"colorscale\": [[0.0, \"#0d0887\"], [0.1111111111111111, \"#46039f\"], [0.2222222222222222, \"#7201a8\"], [0.3333333333333333, \"#9c179e\"], [0.4444444444444444, \"#bd3786\"], [0.5555555555555556, \"#d8576b\"], [0.6666666666666666, \"#ed7953\"], [0.7777777777777778, \"#fb9f3a\"], [0.8888888888888888, \"#fdca26\"], [1.0, \"#f0f921\"]], \"type\": \"surface\"}], \"table\": [{\"cells\": {\"fill\": {\"color\": \"#EBF0F8\"}, \"line\": {\"color\": \"white\"}}, \"header\": {\"fill\": {\"color\": \"#C8D4E3\"}, \"line\": {\"color\": \"white\"}}, \"type\": \"table\"}]}, \"layout\": {\"annotationdefaults\": {\"arrowcolor\": \"#2a3f5f\", \"arrowhead\": 0, \"arrowwidth\": 1}, \"autotypenumbers\": \"strict\", \"coloraxis\": {\"colorbar\": {\"outlinewidth\": 0, \"ticks\": \"\"}}, \"colorscale\": {\"diverging\": [[0, \"#8e0152\"], [0.1, \"#c51b7d\"], [0.2, \"#de77ae\"], [0.3, \"#f1b6da\"], [0.4, \"#fde0ef\"], [0.5, \"#f7f7f7\"], [0.6, \"#e6f5d0\"], [0.7, \"#b8e186\"], [0.8, \"#7fbc41\"], [0.9, \"#4d9221\"], [1, \"#276419\"]], \"sequential\": [[0.0, \"#0d0887\"], [0.1111111111111111, \"#46039f\"], [0.2222222222222222, \"#7201a8\"], [0.3333333333333333, \"#9c179e\"], [0.4444444444444444, \"#bd3786\"], [0.5555555555555556, \"#d8576b\"], [0.6666666666666666, \"#ed7953\"], [0.7777777777777778, \"#fb9f3a\"], [0.8888888888888888, \"#fdca26\"], [1.0, \"#f0f921\"]], \"sequentialminus\": [[0.0, \"#0d0887\"], [0.1111111111111111, \"#46039f\"], [0.2222222222222222, \"#7201a8\"], [0.3333333333333333, \"#9c179e\"], [0.4444444444444444, \"#bd3786\"], [0.5555555555555556, \"#d8576b\"], [0.6666666666666666, \"#ed7953\"], [0.7777777777777778, \"#fb9f3a\"], [0.8888888888888888, \"#fdca26\"], [1.0, \"#f0f921\"]]}, \"colorway\": [\"#636efa\", \"#EF553B\", \"#00cc96\", \"#ab63fa\", \"#FFA15A\", \"#19d3f3\", \"#FF6692\", \"#B6E880\", \"#FF97FF\", \"#FECB52\"], \"font\": {\"color\": \"#2a3f5f\"}, \"geo\": {\"bgcolor\": \"white\", \"lakecolor\": \"white\", \"landcolor\": \"#E5ECF6\", \"showlakes\": true, \"showland\": true, \"subunitcolor\": \"white\"}, \"hoverlabel\": {\"align\": \"left\"}, \"hovermode\": \"closest\", \"mapbox\": {\"style\": \"light\"}, \"paper_bgcolor\": \"white\", \"plot_bgcolor\": \"#E5ECF6\", \"polar\": {\"angularaxis\": {\"gridcolor\": \"white\", \"linecolor\": \"white\", \"ticks\": \"\"}, \"bgcolor\": \"#E5ECF6\", \"radialaxis\": {\"gridcolor\": \"white\", \"linecolor\": \"white\", \"ticks\": \"\"}}, \"scene\": {\"xaxis\": {\"backgroundcolor\": \"#E5ECF6\", \"gridcolor\": \"white\", \"gridwidth\": 2, \"linecolor\": \"white\", \"showbackground\": true, \"ticks\": \"\", \"zerolinecolor\": \"white\"}, \"yaxis\": {\"backgroundcolor\": \"#E5ECF6\", \"gridcolor\": \"white\", \"gridwidth\": 2, \"linecolor\": \"white\", \"showbackground\": true, \"ticks\": \"\", \"zerolinecolor\": \"white\"}, \"zaxis\": {\"backgroundcolor\": \"#E5ECF6\", \"gridcolor\": \"white\", \"gridwidth\": 2, \"linecolor\": \"white\", \"showbackground\": true, \"ticks\": \"\", \"zerolinecolor\": \"white\"}}, \"shapedefaults\": {\"line\": {\"color\": \"#2a3f5f\"}}, \"ternary\": {\"aaxis\": {\"gridcolor\": \"white\", \"linecolor\": \"white\", \"ticks\": \"\"}, \"baxis\": {\"gridcolor\": \"white\", \"linecolor\": \"white\", \"ticks\": \"\"}, \"bgcolor\": \"#E5ECF6\", \"caxis\": {\"gridcolor\": \"white\", \"linecolor\": \"white\", \"ticks\": \"\"}}, \"title\": {\"x\": 0.05}, \"xaxis\": {\"automargin\": true, \"gridcolor\": \"white\", \"linecolor\": \"white\", \"ticks\": \"\", \"title\": {\"standoff\": 15}, \"zerolinecolor\": \"white\", \"zerolinewidth\": 2}, \"yaxis\": {\"automargin\": true, \"gridcolor\": \"white\", \"linecolor\": \"white\", \"ticks\": \"\", \"title\": {\"standoff\": 15}, \"zerolinecolor\": \"white\", \"zerolinewidth\": 2}}}},                        {\"responsive\": true}                    ).then(function(){\n",
       "                            \n",
       "var gd = document.getElementById('1fc47d2f-8b35-44f1-885e-f146a0940882');\n",
       "var x = new MutationObserver(function (mutations, observer) {{\n",
       "        var display = window.getComputedStyle(gd).display;\n",
       "        if (!display || display === 'none') {{\n",
       "            console.log([gd, 'removed!']);\n",
       "            Plotly.purge(gd);\n",
       "            observer.disconnect();\n",
       "        }}\n",
       "}});\n",
       "\n",
       "// Listen for the removal of the full notebook cells\n",
       "var notebookContainer = gd.closest('#notebook-container');\n",
       "if (notebookContainer) {{\n",
       "    x.observe(notebookContainer, {childList: true});\n",
       "}}\n",
       "\n",
       "// Listen for the clearing of the current output cell\n",
       "var outputEl = gd.closest('.output');\n",
       "if (outputEl) {{\n",
       "    x.observe(outputEl, {childList: true});\n",
       "}}\n",
       "\n",
       "                        })                };                });            </script>        </div>"
      ]
     },
     "metadata": {},
     "output_type": "display_data"
    }
   ],
   "source": [
    "fig = px.treemap(df.query('Variable != \"Non-CO2 agricultural emissions\"'), path=['scenario', 'Item', 'name'], values='Value')\n",
    "fig"
   ]
  },
  {
   "cell_type": "code",
   "execution_count": 131,
   "metadata": {
    "ExecuteTime": {
     "end_time": "2021-06-09T02:51:28.373691Z",
     "start_time": "2021-06-09T02:51:28.341309Z"
    }
   },
   "outputs": [
    {
     "data": {
      "application/vnd.plotly.v1+json": {
       "config": {
        "plotlyServerURL": "https://plot.ly"
       },
       "data": [
        {
         "link": {
          "color": [
           "#86BBD8",
           "#86BBD8",
           "#86BBD8",
           "#86BBD8",
           "#86BBD8",
           "#86BBD8",
           "#86BBD8",
           "#86BBD8",
           "#86BBD8",
           "#86BBD8",
           "#86BBD8",
           "#86BBD8",
           "#86BBD8",
           "#D8A488",
           "#D8A488",
           "#D8A488",
           "#D8A488",
           "#D8A488",
           "#D8A488",
           "#D8A488",
           "#D8A488",
           "#D8A488",
           "#D8A488",
           "#D8A488",
           "#D8A488",
           "#D8A488",
           "#86BBD8",
           "#86BBD8",
           "#86BBD8",
           "#86BBD8",
           "#86BBD8",
           "#86BBD8",
           "#86BBD8",
           "#86BBD8",
           "#86BBD8",
           "#86BBD8",
           "#86BBD8",
           "#D8A488",
           "#D8A488",
           "#D8A488",
           "#D8A488",
           "#D8A488",
           "#D8A488",
           "#D8A488",
           "#D8A488",
           "#D8A488",
           "#D8A488",
           "#D8A488",
           "#86BBD8",
           "#86BBD8",
           "#86BBD8",
           "#86BBD8",
           "#86BBD8",
           "#86BBD8",
           "#86BBD8",
           "#86BBD8",
           "#86BBD8",
           "#86BBD8",
           "#86BBD8",
           "#86BBD8",
           "#86BBD8",
           "#D8A488",
           "#D8A488",
           "#D8A488",
           "#D8A488",
           "#D8A488",
           "#D8A488",
           "#D8A488",
           "#D8A488",
           "#D8A488",
           "#D8A488",
           "#D8A488",
           "#D8A488",
           "#D8A488",
           "#86BBD8",
           "#86BBD8",
           "#86BBD8",
           "#86BBD8",
           "#86BBD8",
           "#86BBD8",
           "#86BBD8",
           "#86BBD8",
           "#86BBD8",
           "#D8A488",
           "#D8A488",
           "#D8A488",
           "#D8A488",
           "#D8A488",
           "#D8A488",
           "#D8A488",
           "#D8A488",
           "#D8A488"
          ],
          "source": [
           0,
           1,
           2,
           3,
           4,
           5,
           6,
           7,
           8,
           9,
           10,
           11,
           16,
           0,
           1,
           2,
           3,
           4,
           5,
           6,
           7,
           8,
           9,
           10,
           11,
           16,
           0,
           1,
           2,
           3,
           4,
           5,
           6,
           7,
           8,
           9,
           16,
           0,
           1,
           2,
           3,
           4,
           5,
           6,
           7,
           8,
           9,
           16,
           0,
           1,
           2,
           3,
           4,
           5,
           6,
           7,
           8,
           9,
           10,
           11,
           16,
           0,
           1,
           2,
           3,
           4,
           5,
           6,
           7,
           8,
           9,
           10,
           11,
           16,
           0,
           1,
           2,
           6,
           7,
           8,
           9,
           10,
           11,
           0,
           1,
           2,
           6,
           7,
           8,
           9,
           10,
           11
          ],
          "target": [
           13,
           13,
           13,
           13,
           13,
           13,
           13,
           13,
           13,
           13,
           13,
           13,
           13,
           13,
           13,
           13,
           13,
           13,
           13,
           13,
           13,
           13,
           13,
           13,
           13,
           13,
           14,
           14,
           14,
           14,
           14,
           14,
           14,
           14,
           14,
           14,
           14,
           14,
           14,
           14,
           14,
           14,
           14,
           14,
           14,
           14,
           14,
           14,
           15,
           15,
           15,
           15,
           15,
           15,
           15,
           15,
           15,
           15,
           15,
           15,
           15,
           15,
           15,
           15,
           15,
           15,
           15,
           15,
           15,
           15,
           15,
           15,
           15,
           15,
           12,
           12,
           12,
           12,
           12,
           12,
           12,
           12,
           12,
           12,
           12,
           12,
           12,
           12,
           12,
           12,
           12,
           12
          ],
          "value": [
           2.6153923400462,
           2599.0162712534593,
           5279.462332410406,
           268.1490981460004,
           259.4878255528416,
           136.4925145359204,
           162.57549076908342,
           92.35055964409578,
           2.40313856904836,
           737.4959462046879,
           281.4899024488431,
           776.8392108337254,
           240.702832333964,
           0.8717974466820667,
           866.3387570844865,
           1759.8207774701352,
           89.38303271533348,
           86.4959418509472,
           45.4975048453068,
           54.19183025636113,
           30.783519881365255,
           0.8010461896827867,
           245.8319820682293,
           93.82996748294771,
           258.94640361124175,
           80.23427744465467,
           0.8717974466820667,
           1472.1700557449662,
           2990.464677798901,
           151.26359382594896,
           146.98261447398718,
           77.31394180006679,
           54.19183025636113,
           30.783519881365255,
           0.8010461896827867,
           245.8319820682293,
           136.34216376958798,
           2.6153923400462,
           4416.510167234899,
           8971.394033396702,
           453.7907814778469,
           440.9478434219616,
           231.9418254002004,
           162.57549076908342,
           92.35055964409578,
           2.40313856904836,
           737.4959462046879,
           409.0264913087639,
           0.4861415999999999,
           1648.7153880624,
           2062.5765348132,
           44.78166,
           226.0540233,
           10.06992,
           3.54533088,
           12.15006156,
           0.44668848,
           28.098401940000002,
           267.2328559824,
           1511.0236259999997,
           35.588699999999996,
           0.7909658820566666,
           2121.263801017574,
           2973.2530210564864,
           76.65952481455949,
           256.9022263377504,
           26.2963028469276,
           22.493523277329068,
           22.913530049987855,
           0.7267745603086666,
           134.68289766188963,
           300.6966905392555,
           1603.3751405746384,
           64.20372202571599,
           6.396599999999999,
           8728.335251999999,
           17948.591261999998,
           136.35888,
           140.193018,
           5.877479999999999,
           1183.090608,
           41.972868,
           377.7559065,
           6.396599999999999,
           8728.335251999999,
           17948.591261999998,
           136.35888,
           140.193018,
           5.877479999999999,
           1183.090608,
           41.972868,
           377.7559065
          ]
         },
         "node": {
          "color": "silver",
          "label": [
           "Asses",
           "Cattle, dairy",
           "Cattle, non-dairy",
           "Chickens, broilers",
           "Chickens, layers",
           "Ducks",
           "Goats",
           "Horses",
           "Mules",
           "Sheep",
           "Swine, breeding",
           "Swine, market",
           "TEE_CO2eq",
           "TMA_CO2eq",
           "TMP_CO2eq",
           "TMT_CO2eq",
           "Turkeys"
          ],
          "line": {
           "color": "black",
           "width": 0.5
          },
          "pad": 15,
          "thickness": 20
         },
         "type": "sankey",
         "valueformat": ".00f",
         "valuesuffix": " Gg(CO2eq)"
        }
       ],
       "layout": {
        "template": {
         "data": {
          "bar": [
           {
            "error_x": {
             "color": "#2a3f5f"
            },
            "error_y": {
             "color": "#2a3f5f"
            },
            "marker": {
             "line": {
              "color": "#E5ECF6",
              "width": 0.5
             }
            },
            "type": "bar"
           }
          ],
          "barpolar": [
           {
            "marker": {
             "line": {
              "color": "#E5ECF6",
              "width": 0.5
             }
            },
            "type": "barpolar"
           }
          ],
          "carpet": [
           {
            "aaxis": {
             "endlinecolor": "#2a3f5f",
             "gridcolor": "white",
             "linecolor": "white",
             "minorgridcolor": "white",
             "startlinecolor": "#2a3f5f"
            },
            "baxis": {
             "endlinecolor": "#2a3f5f",
             "gridcolor": "white",
             "linecolor": "white",
             "minorgridcolor": "white",
             "startlinecolor": "#2a3f5f"
            },
            "type": "carpet"
           }
          ],
          "choropleth": [
           {
            "colorbar": {
             "outlinewidth": 0,
             "ticks": ""
            },
            "type": "choropleth"
           }
          ],
          "contour": [
           {
            "colorbar": {
             "outlinewidth": 0,
             "ticks": ""
            },
            "colorscale": [
             [
              0,
              "#0d0887"
             ],
             [
              0.1111111111111111,
              "#46039f"
             ],
             [
              0.2222222222222222,
              "#7201a8"
             ],
             [
              0.3333333333333333,
              "#9c179e"
             ],
             [
              0.4444444444444444,
              "#bd3786"
             ],
             [
              0.5555555555555556,
              "#d8576b"
             ],
             [
              0.6666666666666666,
              "#ed7953"
             ],
             [
              0.7777777777777778,
              "#fb9f3a"
             ],
             [
              0.8888888888888888,
              "#fdca26"
             ],
             [
              1,
              "#f0f921"
             ]
            ],
            "type": "contour"
           }
          ],
          "contourcarpet": [
           {
            "colorbar": {
             "outlinewidth": 0,
             "ticks": ""
            },
            "type": "contourcarpet"
           }
          ],
          "heatmap": [
           {
            "colorbar": {
             "outlinewidth": 0,
             "ticks": ""
            },
            "colorscale": [
             [
              0,
              "#0d0887"
             ],
             [
              0.1111111111111111,
              "#46039f"
             ],
             [
              0.2222222222222222,
              "#7201a8"
             ],
             [
              0.3333333333333333,
              "#9c179e"
             ],
             [
              0.4444444444444444,
              "#bd3786"
             ],
             [
              0.5555555555555556,
              "#d8576b"
             ],
             [
              0.6666666666666666,
              "#ed7953"
             ],
             [
              0.7777777777777778,
              "#fb9f3a"
             ],
             [
              0.8888888888888888,
              "#fdca26"
             ],
             [
              1,
              "#f0f921"
             ]
            ],
            "type": "heatmap"
           }
          ],
          "heatmapgl": [
           {
            "colorbar": {
             "outlinewidth": 0,
             "ticks": ""
            },
            "colorscale": [
             [
              0,
              "#0d0887"
             ],
             [
              0.1111111111111111,
              "#46039f"
             ],
             [
              0.2222222222222222,
              "#7201a8"
             ],
             [
              0.3333333333333333,
              "#9c179e"
             ],
             [
              0.4444444444444444,
              "#bd3786"
             ],
             [
              0.5555555555555556,
              "#d8576b"
             ],
             [
              0.6666666666666666,
              "#ed7953"
             ],
             [
              0.7777777777777778,
              "#fb9f3a"
             ],
             [
              0.8888888888888888,
              "#fdca26"
             ],
             [
              1,
              "#f0f921"
             ]
            ],
            "type": "heatmapgl"
           }
          ],
          "histogram": [
           {
            "marker": {
             "colorbar": {
              "outlinewidth": 0,
              "ticks": ""
             }
            },
            "type": "histogram"
           }
          ],
          "histogram2d": [
           {
            "colorbar": {
             "outlinewidth": 0,
             "ticks": ""
            },
            "colorscale": [
             [
              0,
              "#0d0887"
             ],
             [
              0.1111111111111111,
              "#46039f"
             ],
             [
              0.2222222222222222,
              "#7201a8"
             ],
             [
              0.3333333333333333,
              "#9c179e"
             ],
             [
              0.4444444444444444,
              "#bd3786"
             ],
             [
              0.5555555555555556,
              "#d8576b"
             ],
             [
              0.6666666666666666,
              "#ed7953"
             ],
             [
              0.7777777777777778,
              "#fb9f3a"
             ],
             [
              0.8888888888888888,
              "#fdca26"
             ],
             [
              1,
              "#f0f921"
             ]
            ],
            "type": "histogram2d"
           }
          ],
          "histogram2dcontour": [
           {
            "colorbar": {
             "outlinewidth": 0,
             "ticks": ""
            },
            "colorscale": [
             [
              0,
              "#0d0887"
             ],
             [
              0.1111111111111111,
              "#46039f"
             ],
             [
              0.2222222222222222,
              "#7201a8"
             ],
             [
              0.3333333333333333,
              "#9c179e"
             ],
             [
              0.4444444444444444,
              "#bd3786"
             ],
             [
              0.5555555555555556,
              "#d8576b"
             ],
             [
              0.6666666666666666,
              "#ed7953"
             ],
             [
              0.7777777777777778,
              "#fb9f3a"
             ],
             [
              0.8888888888888888,
              "#fdca26"
             ],
             [
              1,
              "#f0f921"
             ]
            ],
            "type": "histogram2dcontour"
           }
          ],
          "mesh3d": [
           {
            "colorbar": {
             "outlinewidth": 0,
             "ticks": ""
            },
            "type": "mesh3d"
           }
          ],
          "parcoords": [
           {
            "line": {
             "colorbar": {
              "outlinewidth": 0,
              "ticks": ""
             }
            },
            "type": "parcoords"
           }
          ],
          "pie": [
           {
            "automargin": true,
            "type": "pie"
           }
          ],
          "scatter": [
           {
            "marker": {
             "colorbar": {
              "outlinewidth": 0,
              "ticks": ""
             }
            },
            "type": "scatter"
           }
          ],
          "scatter3d": [
           {
            "line": {
             "colorbar": {
              "outlinewidth": 0,
              "ticks": ""
             }
            },
            "marker": {
             "colorbar": {
              "outlinewidth": 0,
              "ticks": ""
             }
            },
            "type": "scatter3d"
           }
          ],
          "scattercarpet": [
           {
            "marker": {
             "colorbar": {
              "outlinewidth": 0,
              "ticks": ""
             }
            },
            "type": "scattercarpet"
           }
          ],
          "scattergeo": [
           {
            "marker": {
             "colorbar": {
              "outlinewidth": 0,
              "ticks": ""
             }
            },
            "type": "scattergeo"
           }
          ],
          "scattergl": [
           {
            "marker": {
             "colorbar": {
              "outlinewidth": 0,
              "ticks": ""
             }
            },
            "type": "scattergl"
           }
          ],
          "scattermapbox": [
           {
            "marker": {
             "colorbar": {
              "outlinewidth": 0,
              "ticks": ""
             }
            },
            "type": "scattermapbox"
           }
          ],
          "scatterpolar": [
           {
            "marker": {
             "colorbar": {
              "outlinewidth": 0,
              "ticks": ""
             }
            },
            "type": "scatterpolar"
           }
          ],
          "scatterpolargl": [
           {
            "marker": {
             "colorbar": {
              "outlinewidth": 0,
              "ticks": ""
             }
            },
            "type": "scatterpolargl"
           }
          ],
          "scatterternary": [
           {
            "marker": {
             "colorbar": {
              "outlinewidth": 0,
              "ticks": ""
             }
            },
            "type": "scatterternary"
           }
          ],
          "surface": [
           {
            "colorbar": {
             "outlinewidth": 0,
             "ticks": ""
            },
            "colorscale": [
             [
              0,
              "#0d0887"
             ],
             [
              0.1111111111111111,
              "#46039f"
             ],
             [
              0.2222222222222222,
              "#7201a8"
             ],
             [
              0.3333333333333333,
              "#9c179e"
             ],
             [
              0.4444444444444444,
              "#bd3786"
             ],
             [
              0.5555555555555556,
              "#d8576b"
             ],
             [
              0.6666666666666666,
              "#ed7953"
             ],
             [
              0.7777777777777778,
              "#fb9f3a"
             ],
             [
              0.8888888888888888,
              "#fdca26"
             ],
             [
              1,
              "#f0f921"
             ]
            ],
            "type": "surface"
           }
          ],
          "table": [
           {
            "cells": {
             "fill": {
              "color": "#EBF0F8"
             },
             "line": {
              "color": "white"
             }
            },
            "header": {
             "fill": {
              "color": "#C8D4E3"
             },
             "line": {
              "color": "white"
             }
            },
            "type": "table"
           }
          ]
         },
         "layout": {
          "annotationdefaults": {
           "arrowcolor": "#2a3f5f",
           "arrowhead": 0,
           "arrowwidth": 1
          },
          "autotypenumbers": "strict",
          "coloraxis": {
           "colorbar": {
            "outlinewidth": 0,
            "ticks": ""
           }
          },
          "colorscale": {
           "diverging": [
            [
             0,
             "#8e0152"
            ],
            [
             0.1,
             "#c51b7d"
            ],
            [
             0.2,
             "#de77ae"
            ],
            [
             0.3,
             "#f1b6da"
            ],
            [
             0.4,
             "#fde0ef"
            ],
            [
             0.5,
             "#f7f7f7"
            ],
            [
             0.6,
             "#e6f5d0"
            ],
            [
             0.7,
             "#b8e186"
            ],
            [
             0.8,
             "#7fbc41"
            ],
            [
             0.9,
             "#4d9221"
            ],
            [
             1,
             "#276419"
            ]
           ],
           "sequential": [
            [
             0,
             "#0d0887"
            ],
            [
             0.1111111111111111,
             "#46039f"
            ],
            [
             0.2222222222222222,
             "#7201a8"
            ],
            [
             0.3333333333333333,
             "#9c179e"
            ],
            [
             0.4444444444444444,
             "#bd3786"
            ],
            [
             0.5555555555555556,
             "#d8576b"
            ],
            [
             0.6666666666666666,
             "#ed7953"
            ],
            [
             0.7777777777777778,
             "#fb9f3a"
            ],
            [
             0.8888888888888888,
             "#fdca26"
            ],
            [
             1,
             "#f0f921"
            ]
           ],
           "sequentialminus": [
            [
             0,
             "#0d0887"
            ],
            [
             0.1111111111111111,
             "#46039f"
            ],
            [
             0.2222222222222222,
             "#7201a8"
            ],
            [
             0.3333333333333333,
             "#9c179e"
            ],
            [
             0.4444444444444444,
             "#bd3786"
            ],
            [
             0.5555555555555556,
             "#d8576b"
            ],
            [
             0.6666666666666666,
             "#ed7953"
            ],
            [
             0.7777777777777778,
             "#fb9f3a"
            ],
            [
             0.8888888888888888,
             "#fdca26"
            ],
            [
             1,
             "#f0f921"
            ]
           ]
          },
          "colorway": [
           "#636efa",
           "#EF553B",
           "#00cc96",
           "#ab63fa",
           "#FFA15A",
           "#19d3f3",
           "#FF6692",
           "#B6E880",
           "#FF97FF",
           "#FECB52"
          ],
          "font": {
           "color": "#2a3f5f"
          },
          "geo": {
           "bgcolor": "white",
           "lakecolor": "white",
           "landcolor": "#E5ECF6",
           "showlakes": true,
           "showland": true,
           "subunitcolor": "white"
          },
          "hoverlabel": {
           "align": "left"
          },
          "hovermode": "closest",
          "mapbox": {
           "style": "light"
          },
          "paper_bgcolor": "white",
          "plot_bgcolor": "#E5ECF6",
          "polar": {
           "angularaxis": {
            "gridcolor": "white",
            "linecolor": "white",
            "ticks": ""
           },
           "bgcolor": "#E5ECF6",
           "radialaxis": {
            "gridcolor": "white",
            "linecolor": "white",
            "ticks": ""
           }
          },
          "scene": {
           "xaxis": {
            "backgroundcolor": "#E5ECF6",
            "gridcolor": "white",
            "gridwidth": 2,
            "linecolor": "white",
            "showbackground": true,
            "ticks": "",
            "zerolinecolor": "white"
           },
           "yaxis": {
            "backgroundcolor": "#E5ECF6",
            "gridcolor": "white",
            "gridwidth": 2,
            "linecolor": "white",
            "showbackground": true,
            "ticks": "",
            "zerolinecolor": "white"
           },
           "zaxis": {
            "backgroundcolor": "#E5ECF6",
            "gridcolor": "white",
            "gridwidth": 2,
            "linecolor": "white",
            "showbackground": true,
            "ticks": "",
            "zerolinecolor": "white"
           }
          },
          "shapedefaults": {
           "line": {
            "color": "#2a3f5f"
           }
          },
          "ternary": {
           "aaxis": {
            "gridcolor": "white",
            "linecolor": "white",
            "ticks": ""
           },
           "baxis": {
            "gridcolor": "white",
            "linecolor": "white",
            "ticks": ""
           },
           "bgcolor": "#E5ECF6",
           "caxis": {
            "gridcolor": "white",
            "linecolor": "white",
            "ticks": ""
           }
          },
          "title": {
           "x": 0.05
          },
          "xaxis": {
           "automargin": true,
           "gridcolor": "white",
           "linecolor": "white",
           "ticks": "",
           "title": {
            "standoff": 15
           },
           "zerolinecolor": "white",
           "zerolinewidth": 2
          },
          "yaxis": {
           "automargin": true,
           "gridcolor": "white",
           "linecolor": "white",
           "ticks": "",
           "title": {
            "standoff": 15
           },
           "zerolinecolor": "white",
           "zerolinewidth": 2
          }
         }
        }
       }
      },
      "text/html": [
       "<div>                            <div id=\"d9ce0f37-2048-4cce-b915-6a5db4921b7d\" class=\"plotly-graph-div\" style=\"height:525px; width:100%;\"></div>            <script type=\"text/javascript\">                require([\"plotly\"], function(Plotly) {                    window.PLOTLYENV=window.PLOTLYENV || {};                                    if (document.getElementById(\"d9ce0f37-2048-4cce-b915-6a5db4921b7d\")) {                    Plotly.newPlot(                        \"d9ce0f37-2048-4cce-b915-6a5db4921b7d\",                        [{\"link\": {\"color\": [\"#86BBD8\", \"#86BBD8\", \"#86BBD8\", \"#86BBD8\", \"#86BBD8\", \"#86BBD8\", \"#86BBD8\", \"#86BBD8\", \"#86BBD8\", \"#86BBD8\", \"#86BBD8\", \"#86BBD8\", \"#86BBD8\", \"#D8A488\", \"#D8A488\", \"#D8A488\", \"#D8A488\", \"#D8A488\", \"#D8A488\", \"#D8A488\", \"#D8A488\", \"#D8A488\", \"#D8A488\", \"#D8A488\", \"#D8A488\", \"#D8A488\", \"#86BBD8\", \"#86BBD8\", \"#86BBD8\", \"#86BBD8\", \"#86BBD8\", \"#86BBD8\", \"#86BBD8\", \"#86BBD8\", \"#86BBD8\", \"#86BBD8\", \"#86BBD8\", \"#D8A488\", \"#D8A488\", \"#D8A488\", \"#D8A488\", \"#D8A488\", \"#D8A488\", \"#D8A488\", \"#D8A488\", \"#D8A488\", \"#D8A488\", \"#D8A488\", \"#86BBD8\", \"#86BBD8\", \"#86BBD8\", \"#86BBD8\", \"#86BBD8\", \"#86BBD8\", \"#86BBD8\", \"#86BBD8\", \"#86BBD8\", \"#86BBD8\", \"#86BBD8\", \"#86BBD8\", \"#86BBD8\", \"#D8A488\", \"#D8A488\", \"#D8A488\", \"#D8A488\", \"#D8A488\", \"#D8A488\", \"#D8A488\", \"#D8A488\", \"#D8A488\", \"#D8A488\", \"#D8A488\", \"#D8A488\", \"#D8A488\", \"#86BBD8\", \"#86BBD8\", \"#86BBD8\", \"#86BBD8\", \"#86BBD8\", \"#86BBD8\", \"#86BBD8\", \"#86BBD8\", \"#86BBD8\", \"#D8A488\", \"#D8A488\", \"#D8A488\", \"#D8A488\", \"#D8A488\", \"#D8A488\", \"#D8A488\", \"#D8A488\", \"#D8A488\"], \"source\": [0, 1, 2, 3, 4, 5, 6, 7, 8, 9, 10, 11, 16, 0, 1, 2, 3, 4, 5, 6, 7, 8, 9, 10, 11, 16, 0, 1, 2, 3, 4, 5, 6, 7, 8, 9, 16, 0, 1, 2, 3, 4, 5, 6, 7, 8, 9, 16, 0, 1, 2, 3, 4, 5, 6, 7, 8, 9, 10, 11, 16, 0, 1, 2, 3, 4, 5, 6, 7, 8, 9, 10, 11, 16, 0, 1, 2, 6, 7, 8, 9, 10, 11, 0, 1, 2, 6, 7, 8, 9, 10, 11], \"target\": [13, 13, 13, 13, 13, 13, 13, 13, 13, 13, 13, 13, 13, 13, 13, 13, 13, 13, 13, 13, 13, 13, 13, 13, 13, 13, 14, 14, 14, 14, 14, 14, 14, 14, 14, 14, 14, 14, 14, 14, 14, 14, 14, 14, 14, 14, 14, 14, 15, 15, 15, 15, 15, 15, 15, 15, 15, 15, 15, 15, 15, 15, 15, 15, 15, 15, 15, 15, 15, 15, 15, 15, 15, 15, 12, 12, 12, 12, 12, 12, 12, 12, 12, 12, 12, 12, 12, 12, 12, 12, 12, 12], \"value\": [2.6153923400462, 2599.0162712534593, 5279.462332410406, 268.1490981460004, 259.4878255528416, 136.4925145359204, 162.57549076908342, 92.35055964409578, 2.40313856904836, 737.4959462046879, 281.4899024488431, 776.8392108337254, 240.702832333964, 0.8717974466820667, 866.3387570844865, 1759.8207774701352, 89.38303271533348, 86.4959418509472, 45.4975048453068, 54.19183025636113, 30.783519881365255, 0.8010461896827867, 245.8319820682293, 93.82996748294771, 258.94640361124175, 80.23427744465467, 0.8717974466820667, 1472.1700557449662, 2990.464677798901, 151.26359382594896, 146.98261447398718, 77.31394180006679, 54.19183025636113, 30.783519881365255, 0.8010461896827867, 245.8319820682293, 136.34216376958798, 2.6153923400462, 4416.510167234899, 8971.394033396702, 453.7907814778469, 440.9478434219616, 231.9418254002004, 162.57549076908342, 92.35055964409578, 2.40313856904836, 737.4959462046879, 409.0264913087639, 0.4861415999999999, 1648.7153880624, 2062.5765348132, 44.78166, 226.0540233, 10.06992, 3.54533088, 12.15006156, 0.44668848, 28.098401940000002, 267.2328559824, 1511.0236259999997, 35.588699999999996, 0.7909658820566666, 2121.263801017574, 2973.2530210564864, 76.65952481455949, 256.9022263377504, 26.2963028469276, 22.493523277329068, 22.913530049987855, 0.7267745603086666, 134.68289766188963, 300.6966905392555, 1603.3751405746384, 64.20372202571599, 6.396599999999999, 8728.335251999999, 17948.591261999998, 136.35888, 140.193018, 5.877479999999999, 1183.090608, 41.972868, 377.7559065, 6.396599999999999, 8728.335251999999, 17948.591261999998, 136.35888, 140.193018, 5.877479999999999, 1183.090608, 41.972868, 377.7559065]}, \"node\": {\"color\": \"silver\", \"label\": [\"Asses\", \"Cattle, dairy\", \"Cattle, non-dairy\", \"Chickens, broilers\", \"Chickens, layers\", \"Ducks\", \"Goats\", \"Horses\", \"Mules\", \"Sheep\", \"Swine, breeding\", \"Swine, market\", \"TEE_CO2eq\", \"TMA_CO2eq\", \"TMP_CO2eq\", \"TMT_CO2eq\", \"Turkeys\"], \"line\": {\"color\": \"black\", \"width\": 0.5}, \"pad\": 15, \"thickness\": 20}, \"type\": \"sankey\", \"valueformat\": \".00f\", \"valuesuffix\": \" Gg(CO2eq)\"}],                        {\"template\": {\"data\": {\"bar\": [{\"error_x\": {\"color\": \"#2a3f5f\"}, \"error_y\": {\"color\": \"#2a3f5f\"}, \"marker\": {\"line\": {\"color\": \"#E5ECF6\", \"width\": 0.5}}, \"type\": \"bar\"}], \"barpolar\": [{\"marker\": {\"line\": {\"color\": \"#E5ECF6\", \"width\": 0.5}}, \"type\": \"barpolar\"}], \"carpet\": [{\"aaxis\": {\"endlinecolor\": \"#2a3f5f\", \"gridcolor\": \"white\", \"linecolor\": \"white\", \"minorgridcolor\": \"white\", \"startlinecolor\": \"#2a3f5f\"}, \"baxis\": {\"endlinecolor\": \"#2a3f5f\", \"gridcolor\": \"white\", \"linecolor\": \"white\", \"minorgridcolor\": \"white\", \"startlinecolor\": \"#2a3f5f\"}, \"type\": \"carpet\"}], \"choropleth\": [{\"colorbar\": {\"outlinewidth\": 0, \"ticks\": \"\"}, \"type\": \"choropleth\"}], \"contour\": [{\"colorbar\": {\"outlinewidth\": 0, \"ticks\": \"\"}, \"colorscale\": [[0.0, \"#0d0887\"], [0.1111111111111111, \"#46039f\"], [0.2222222222222222, \"#7201a8\"], [0.3333333333333333, \"#9c179e\"], [0.4444444444444444, \"#bd3786\"], [0.5555555555555556, \"#d8576b\"], [0.6666666666666666, \"#ed7953\"], [0.7777777777777778, \"#fb9f3a\"], [0.8888888888888888, \"#fdca26\"], [1.0, \"#f0f921\"]], \"type\": \"contour\"}], \"contourcarpet\": [{\"colorbar\": {\"outlinewidth\": 0, \"ticks\": \"\"}, \"type\": \"contourcarpet\"}], \"heatmap\": [{\"colorbar\": {\"outlinewidth\": 0, \"ticks\": \"\"}, \"colorscale\": [[0.0, \"#0d0887\"], [0.1111111111111111, \"#46039f\"], [0.2222222222222222, \"#7201a8\"], [0.3333333333333333, \"#9c179e\"], [0.4444444444444444, \"#bd3786\"], [0.5555555555555556, \"#d8576b\"], [0.6666666666666666, \"#ed7953\"], [0.7777777777777778, \"#fb9f3a\"], [0.8888888888888888, \"#fdca26\"], [1.0, \"#f0f921\"]], \"type\": \"heatmap\"}], \"heatmapgl\": [{\"colorbar\": {\"outlinewidth\": 0, \"ticks\": \"\"}, \"colorscale\": [[0.0, \"#0d0887\"], [0.1111111111111111, \"#46039f\"], [0.2222222222222222, \"#7201a8\"], [0.3333333333333333, \"#9c179e\"], [0.4444444444444444, \"#bd3786\"], [0.5555555555555556, \"#d8576b\"], [0.6666666666666666, \"#ed7953\"], [0.7777777777777778, \"#fb9f3a\"], [0.8888888888888888, \"#fdca26\"], [1.0, \"#f0f921\"]], \"type\": \"heatmapgl\"}], \"histogram\": [{\"marker\": {\"colorbar\": {\"outlinewidth\": 0, \"ticks\": \"\"}}, \"type\": \"histogram\"}], \"histogram2d\": [{\"colorbar\": {\"outlinewidth\": 0, \"ticks\": \"\"}, \"colorscale\": [[0.0, \"#0d0887\"], [0.1111111111111111, \"#46039f\"], [0.2222222222222222, \"#7201a8\"], [0.3333333333333333, \"#9c179e\"], [0.4444444444444444, \"#bd3786\"], [0.5555555555555556, \"#d8576b\"], [0.6666666666666666, \"#ed7953\"], [0.7777777777777778, \"#fb9f3a\"], [0.8888888888888888, \"#fdca26\"], [1.0, \"#f0f921\"]], \"type\": \"histogram2d\"}], \"histogram2dcontour\": [{\"colorbar\": {\"outlinewidth\": 0, \"ticks\": \"\"}, \"colorscale\": [[0.0, \"#0d0887\"], [0.1111111111111111, \"#46039f\"], [0.2222222222222222, \"#7201a8\"], [0.3333333333333333, \"#9c179e\"], [0.4444444444444444, \"#bd3786\"], [0.5555555555555556, \"#d8576b\"], [0.6666666666666666, \"#ed7953\"], [0.7777777777777778, \"#fb9f3a\"], [0.8888888888888888, \"#fdca26\"], [1.0, \"#f0f921\"]], \"type\": \"histogram2dcontour\"}], \"mesh3d\": [{\"colorbar\": {\"outlinewidth\": 0, \"ticks\": \"\"}, \"type\": \"mesh3d\"}], \"parcoords\": [{\"line\": {\"colorbar\": {\"outlinewidth\": 0, \"ticks\": \"\"}}, \"type\": \"parcoords\"}], \"pie\": [{\"automargin\": true, \"type\": \"pie\"}], \"scatter\": [{\"marker\": {\"colorbar\": {\"outlinewidth\": 0, \"ticks\": \"\"}}, \"type\": \"scatter\"}], \"scatter3d\": [{\"line\": {\"colorbar\": {\"outlinewidth\": 0, \"ticks\": \"\"}}, \"marker\": {\"colorbar\": {\"outlinewidth\": 0, \"ticks\": \"\"}}, \"type\": \"scatter3d\"}], \"scattercarpet\": [{\"marker\": {\"colorbar\": {\"outlinewidth\": 0, \"ticks\": \"\"}}, \"type\": \"scattercarpet\"}], \"scattergeo\": [{\"marker\": {\"colorbar\": {\"outlinewidth\": 0, \"ticks\": \"\"}}, \"type\": \"scattergeo\"}], \"scattergl\": [{\"marker\": {\"colorbar\": {\"outlinewidth\": 0, \"ticks\": \"\"}}, \"type\": \"scattergl\"}], \"scattermapbox\": [{\"marker\": {\"colorbar\": {\"outlinewidth\": 0, \"ticks\": \"\"}}, \"type\": \"scattermapbox\"}], \"scatterpolar\": [{\"marker\": {\"colorbar\": {\"outlinewidth\": 0, \"ticks\": \"\"}}, \"type\": \"scatterpolar\"}], \"scatterpolargl\": [{\"marker\": {\"colorbar\": {\"outlinewidth\": 0, \"ticks\": \"\"}}, \"type\": \"scatterpolargl\"}], \"scatterternary\": [{\"marker\": {\"colorbar\": {\"outlinewidth\": 0, \"ticks\": \"\"}}, \"type\": \"scatterternary\"}], \"surface\": [{\"colorbar\": {\"outlinewidth\": 0, \"ticks\": \"\"}, \"colorscale\": [[0.0, \"#0d0887\"], [0.1111111111111111, \"#46039f\"], [0.2222222222222222, \"#7201a8\"], [0.3333333333333333, \"#9c179e\"], [0.4444444444444444, \"#bd3786\"], [0.5555555555555556, \"#d8576b\"], [0.6666666666666666, \"#ed7953\"], [0.7777777777777778, \"#fb9f3a\"], [0.8888888888888888, \"#fdca26\"], [1.0, \"#f0f921\"]], \"type\": \"surface\"}], \"table\": [{\"cells\": {\"fill\": {\"color\": \"#EBF0F8\"}, \"line\": {\"color\": \"white\"}}, \"header\": {\"fill\": {\"color\": \"#C8D4E3\"}, \"line\": {\"color\": \"white\"}}, \"type\": \"table\"}]}, \"layout\": {\"annotationdefaults\": {\"arrowcolor\": \"#2a3f5f\", \"arrowhead\": 0, \"arrowwidth\": 1}, \"autotypenumbers\": \"strict\", \"coloraxis\": {\"colorbar\": {\"outlinewidth\": 0, \"ticks\": \"\"}}, \"colorscale\": {\"diverging\": [[0, \"#8e0152\"], [0.1, \"#c51b7d\"], [0.2, \"#de77ae\"], [0.3, \"#f1b6da\"], [0.4, \"#fde0ef\"], [0.5, \"#f7f7f7\"], [0.6, \"#e6f5d0\"], [0.7, \"#b8e186\"], [0.8, \"#7fbc41\"], [0.9, \"#4d9221\"], [1, \"#276419\"]], \"sequential\": [[0.0, \"#0d0887\"], [0.1111111111111111, \"#46039f\"], [0.2222222222222222, \"#7201a8\"], [0.3333333333333333, \"#9c179e\"], [0.4444444444444444, \"#bd3786\"], [0.5555555555555556, \"#d8576b\"], [0.6666666666666666, \"#ed7953\"], [0.7777777777777778, \"#fb9f3a\"], [0.8888888888888888, \"#fdca26\"], [1.0, \"#f0f921\"]], \"sequentialminus\": [[0.0, \"#0d0887\"], [0.1111111111111111, \"#46039f\"], [0.2222222222222222, \"#7201a8\"], [0.3333333333333333, \"#9c179e\"], [0.4444444444444444, \"#bd3786\"], [0.5555555555555556, \"#d8576b\"], [0.6666666666666666, \"#ed7953\"], [0.7777777777777778, \"#fb9f3a\"], [0.8888888888888888, \"#fdca26\"], [1.0, \"#f0f921\"]]}, \"colorway\": [\"#636efa\", \"#EF553B\", \"#00cc96\", \"#ab63fa\", \"#FFA15A\", \"#19d3f3\", \"#FF6692\", \"#B6E880\", \"#FF97FF\", \"#FECB52\"], \"font\": {\"color\": \"#2a3f5f\"}, \"geo\": {\"bgcolor\": \"white\", \"lakecolor\": \"white\", \"landcolor\": \"#E5ECF6\", \"showlakes\": true, \"showland\": true, \"subunitcolor\": \"white\"}, \"hoverlabel\": {\"align\": \"left\"}, \"hovermode\": \"closest\", \"mapbox\": {\"style\": \"light\"}, \"paper_bgcolor\": \"white\", \"plot_bgcolor\": \"#E5ECF6\", \"polar\": {\"angularaxis\": {\"gridcolor\": \"white\", \"linecolor\": \"white\", \"ticks\": \"\"}, \"bgcolor\": \"#E5ECF6\", \"radialaxis\": {\"gridcolor\": \"white\", \"linecolor\": \"white\", \"ticks\": \"\"}}, \"scene\": {\"xaxis\": {\"backgroundcolor\": \"#E5ECF6\", \"gridcolor\": \"white\", \"gridwidth\": 2, \"linecolor\": \"white\", \"showbackground\": true, \"ticks\": \"\", \"zerolinecolor\": \"white\"}, \"yaxis\": {\"backgroundcolor\": \"#E5ECF6\", \"gridcolor\": \"white\", \"gridwidth\": 2, \"linecolor\": \"white\", \"showbackground\": true, \"ticks\": \"\", \"zerolinecolor\": \"white\"}, \"zaxis\": {\"backgroundcolor\": \"#E5ECF6\", \"gridcolor\": \"white\", \"gridwidth\": 2, \"linecolor\": \"white\", \"showbackground\": true, \"ticks\": \"\", \"zerolinecolor\": \"white\"}}, \"shapedefaults\": {\"line\": {\"color\": \"#2a3f5f\"}}, \"ternary\": {\"aaxis\": {\"gridcolor\": \"white\", \"linecolor\": \"white\", \"ticks\": \"\"}, \"baxis\": {\"gridcolor\": \"white\", \"linecolor\": \"white\", \"ticks\": \"\"}, \"bgcolor\": \"#E5ECF6\", \"caxis\": {\"gridcolor\": \"white\", \"linecolor\": \"white\", \"ticks\": \"\"}}, \"title\": {\"x\": 0.05}, \"xaxis\": {\"automargin\": true, \"gridcolor\": \"white\", \"linecolor\": \"white\", \"ticks\": \"\", \"title\": {\"standoff\": 15}, \"zerolinecolor\": \"white\", \"zerolinewidth\": 2}, \"yaxis\": {\"automargin\": true, \"gridcolor\": \"white\", \"linecolor\": \"white\", \"ticks\": \"\", \"title\": {\"standoff\": 15}, \"zerolinecolor\": \"white\", \"zerolinewidth\": 2}}}},                        {\"responsive\": true}                    ).then(function(){\n",
       "                            \n",
       "var gd = document.getElementById('d9ce0f37-2048-4cce-b915-6a5db4921b7d');\n",
       "var x = new MutationObserver(function (mutations, observer) {{\n",
       "        var display = window.getComputedStyle(gd).display;\n",
       "        if (!display || display === 'none') {{\n",
       "            console.log([gd, 'removed!']);\n",
       "            Plotly.purge(gd);\n",
       "            observer.disconnect();\n",
       "        }}\n",
       "}});\n",
       "\n",
       "// Listen for the removal of the full notebook cells\n",
       "var notebookContainer = gd.closest('#notebook-container');\n",
       "if (notebookContainer) {{\n",
       "    x.observe(notebookContainer, {childList: true});\n",
       "}}\n",
       "\n",
       "// Listen for the clearing of the current output cell\n",
       "var outputEl = gd.closest('.output');\n",
       "if (outputEl) {{\n",
       "    x.observe(outputEl, {childList: true});\n",
       "}}\n",
       "\n",
       "                        })                };                });            </script>        </div>"
      ]
     },
     "metadata": {},
     "output_type": "display_data"
    }
   ],
   "source": [
    "sankeyplot(df, 'Item', 'Variable')"
   ]
  },
  {
   "cell_type": "code",
   "execution_count": 360,
   "metadata": {
    "ExecuteTime": {
     "end_time": "2021-06-09T04:48:57.023650Z",
     "start_time": "2021-06-09T04:48:56.984433Z"
    }
   },
   "outputs": [],
   "source": [
    "ided_comp =[{'props': {'id': 'MM_Ti_one', 'included': False, 'marks': {'0': {'label': '0%', 'style': {'color': 'white'}}, '1': {'label': '100%', 'style': {'color': 'white'}}}, 'max': 1, 'min': 0, 'step': 0.1, 'value': 0.5, 'drag_value': 0.5}, 'type': 'Slider', 'namespace': 'dash_core_components'}, {'props': {'id': 'MM_ASi_one', 'included': False, 'marks': {'0': {'label': '0%', 'style': {'color': 'white'}}, '1': {'label': '100%', 'style': {'color': 'white'}}}, 'max': 1, 'min': 0, 'step': 0.1, 'value': 1, 'drag_value': 1}, 'type': 'Slider', 'namespace': 'dash_core_components'}, {'props': {'children': [{'props': {'children': [{'props': {'children': [{'props': {'children': 'Asses', 'style': {'font-size': 10}}, 'type': 'P', 'namespace': 'dash_html_components'}, {'props': {'id': 'TAi_pct_Asses_one', 'included': False, 'marks': {'0': {'label': 'x0', 'style': {'color': 'white'}}, '1': {'label': 'x1', 'style': {'color': 'white'}}, '2': {'label': 'x2', 'style': {'color': 'white'}}}, 'max': 2, 'min': 0, 'step': 0.1, 'value': 1, 'drag_value': 1}, 'type': 'Slider', 'namespace': 'dash_core_components'}], 'className': 'row'}, 'type': 'Div', 'namespace': 'dash_html_components'}, {'props': {'children': [{'props': {'children': 'Cattle, dairy', 'style': {'font-size': 10}}, 'type': 'P', 'namespace': 'dash_html_components'}, {'props': {'id': 'TAi_pct_Cattle_dairy_one', 'included': False, 'marks': {}, 'max': 2, 'min': 0, 'step': 0.1, 'value': 1, 'drag_value': 1}, 'type': 'Slider', 'namespace': 'dash_core_components'}], 'className': 'row'}, 'type': 'Div', 'namespace': 'dash_html_components'}, {'props': {'children': [{'props': {'children': 'Cattle, non_dairy', 'style': {'font-size': 10}}, 'type': 'P', 'namespace': 'dash_html_components'}, {'props': {'id': 'TAi_pct_Cattle_non_dairy_one', 'included': False, 'marks': {}, 'max': 2, 'min': 0, 'step': 0.1, 'value': 1, 'drag_value': 1}, 'type': 'Slider', 'namespace': 'dash_core_components'}], 'className': 'row'}, 'type': 'Div', 'namespace': 'dash_html_components'}, {'props': {'children': [{'props': {'children': 'Chickens, broilers', 'style': {'font-size': 10}}, 'type': 'P', 'namespace': 'dash_html_components'}, {'props': {'id': 'TAi_pct_Chickens_broilers_one', 'included': False, 'marks': {}, 'max': 2, 'min': 0, 'step': 0.1, 'value': 1, 'drag_value': 1}, 'type': 'Slider', 'namespace': 'dash_core_components'}], 'className': 'row'}, 'type': 'Div', 'namespace': 'dash_html_components'}], 'className': 'bare_container four columns'}, 'type': 'Div', 'namespace': 'dash_html_components'}, {'props': {'children': [{'props': {'children': [{'props': {'children': 'Chickens, layers', 'style': {'font-size': 10}}, 'type': 'P', 'namespace': 'dash_html_components'}, {'props': {'id': 'TAi_pct_Chickens_layers_one', 'included': False, 'marks': {'0': {'label': 'x0', 'style': {'color': 'white'}}, '1': {'label': 'x1', 'style': {'color': 'white'}}, '2': {'label': 'x2', 'style': {'color': 'white'}}}, 'max': 2, 'min': 0, 'step': 0.1, 'value': 1, 'drag_value': 1}, 'type': 'Slider', 'namespace': 'dash_core_components'}], 'className': 'row'}, 'type': 'Div', 'namespace': 'dash_html_components'}, {'props': {'children': [{'props': {'children': 'Ducks', 'style': {'font-size': 10}}, 'type': 'P', 'namespace': 'dash_html_components'}, {'props': {'id': 'TAi_pct_Ducks_one', 'included': False, 'marks': {}, 'max': 2, 'min': 0, 'step': 0.1, 'value': 1, 'drag_value': 1}, 'type': 'Slider', 'namespace': 'dash_core_components'}], 'className': 'row'}, 'type': 'Div', 'namespace': 'dash_html_components'}, {'props': {'children': [{'props': {'children': 'Goats', 'style': {'font-size': 10}}, 'type': 'P', 'namespace': 'dash_html_components'}, {'props': {'id': 'TAi_pct_Goats_one', 'included': False, 'marks': {}, 'max': 2, 'min': 0, 'step': 0.1, 'value': 1, 'drag_value': 1}, 'type': 'Slider', 'namespace': 'dash_core_components'}], 'className': 'row'}, 'type': 'Div', 'namespace': 'dash_html_components'}, {'props': {'children': [{'props': {'children': 'Horses', 'style': {'font-size': 10}}, 'type': 'P', 'namespace': 'dash_html_components'}, {'props': {'id': 'TAi_pct_Horses_one', 'included': False, 'marks': {}, 'max': 2, 'min': 0, 'step': 0.1, 'value': 1, 'drag_value': 1}, 'type': 'Slider', 'namespace': 'dash_core_components'}], 'className': 'row'}, 'type': 'Div', 'namespace': 'dash_html_components'}], 'className': 'bare_container four columns'}, 'type': 'Div', 'namespace': 'dash_html_components'}, {'props': {'children': [{'props': {'children': [{'props': {'children': 'Sheep', 'style': {'font-size': 10}}, 'type': 'P', 'namespace': 'dash_html_components'}, {'props': {'id': 'TAi_pct_Sheep_one', 'included': False, 'marks': {'0': {'label': 'x0', 'style': {'color': 'white'}}, '1': {'label': 'x1', 'style': {'color': 'white'}}, '2': {'label': 'x2', 'style': {'color': 'white'}}}, 'max': 2, 'min': 0, 'step': 0.1, 'value': 1, 'drag_value': 1}, 'type': 'Slider', 'namespace': 'dash_core_components'}], 'className': 'row'}, 'type': 'Div', 'namespace': 'dash_html_components'}, {'props': {'children': [{'props': {'children': 'Sheep', 'style': {'font-size': 10}}, 'type': 'P', 'namespace': 'dash_html_components'}, {'props': {'id': 'TAi_pct_Sheep_one', 'included': False, 'marks': {}, 'max': 2, 'min': 0, 'step': 0.1, 'value': 1, 'drag_value': 1}, 'type': 'Slider', 'namespace': 'dash_core_components'}], 'className': 'row'}, 'type': 'Div', 'namespace': 'dash_html_components'}, {'props': {'children': [{'props': {'children': 'Swine, breeding', 'style': {'font-size': 10}}, 'type': 'P', 'namespace': 'dash_html_components'}, {'props': {'id': 'TAi_pct_Swine_breeding_one', 'included': False, 'marks': {}, 'max': 2, 'min': 0, 'step': 0.1, 'value': 1, 'drag_value': 1}, 'type': 'Slider', 'namespace': 'dash_core_components'}], 'className': 'row'}, 'type': 'Div', 'namespace': 'dash_html_components'}, {'props': {'children': [{'props': {'children': 'Swine, market', 'style': {'font-size': 10}}, 'type': 'P', 'namespace': 'dash_html_components'}, {'props': {'id': 'TAi_pct_Swine_market_one', 'included': False, 'marks': {}, 'max': 2, 'min': 0, 'step': 0.1, 'value': 1, 'drag_value': 1}, 'type': 'Slider', 'namespace': 'dash_core_components'}], 'className': 'row'}, 'type': 'Div', 'namespace': 'dash_html_components'}], 'className': 'bare_container four columns'}, 'type': 'Div', 'namespace': 'dash_html_components'}], 'id': 'TAi_pct_one'}, 'type': 'Div', 'namespace': 'dash_html_components'}]"
   ]
  },
  {
   "cell_type": "code",
   "execution_count": 367,
   "metadata": {
    "ExecuteTime": {
     "end_time": "2021-06-09T04:51:05.963731Z",
     "start_time": "2021-06-09T04:51:05.959034Z"
    }
   },
   "outputs": [],
   "source": [
    "def get_ided_comp_from_box(box):\n",
    "    return [el for el in box['props']['children'] if 'id' in el['props']]"
   ]
  },
  {
   "cell_type": "code",
   "execution_count": 376,
   "metadata": {
    "ExecuteTime": {
     "end_time": "2021-06-09T04:52:46.745402Z",
     "start_time": "2021-06-09T04:52:46.738692Z"
    }
   },
   "outputs": [
    {
     "data": {
      "text/plain": [
       "[]"
      ]
     },
     "execution_count": 376,
     "metadata": {},
     "output_type": "execute_result"
    }
   ],
   "source": [
    "get_ided_comp_from_box(ided_comp[2]['props']['children'][0])"
   ]
  },
  {
   "cell_type": "code",
   "execution_count": null,
   "metadata": {},
   "outputs": [],
   "source": []
  },
  {
   "cell_type": "code",
   "execution_count": 361,
   "metadata": {
    "ExecuteTime": {
     "end_time": "2021-06-09T04:48:57.372254Z",
     "start_time": "2021-06-09T04:48:57.352881Z"
    }
   },
   "outputs": [
    {
     "data": {
      "text/plain": [
       "[{'props': {'id': 'MM_Ti_one',\n",
       "   'included': False,\n",
       "   'marks': {'0': {'label': '0%', 'style': {'color': 'white'}},\n",
       "    '1': {'label': '100%', 'style': {'color': 'white'}}},\n",
       "   'max': 1,\n",
       "   'min': 0,\n",
       "   'step': 0.1,\n",
       "   'value': 0.5,\n",
       "   'drag_value': 0.5},\n",
       "  'type': 'Slider',\n",
       "  'namespace': 'dash_core_components'},\n",
       " {'props': {'id': 'MM_ASi_one',\n",
       "   'included': False,\n",
       "   'marks': {'0': {'label': '0%', 'style': {'color': 'white'}},\n",
       "    '1': {'label': '100%', 'style': {'color': 'white'}}},\n",
       "   'max': 1,\n",
       "   'min': 0,\n",
       "   'step': 0.1,\n",
       "   'value': 1,\n",
       "   'drag_value': 1},\n",
       "  'type': 'Slider',\n",
       "  'namespace': 'dash_core_components'},\n",
       " {'props': {'children': [{'props': {'children': [{'props': {'children': [{'props': {'children': 'Asses',\n",
       "            'style': {'font-size': 10}},\n",
       "           'type': 'P',\n",
       "           'namespace': 'dash_html_components'},\n",
       "          {'props': {'id': 'TAi_pct_Asses_one',\n",
       "            'included': False,\n",
       "            'marks': {'0': {'label': 'x0', 'style': {'color': 'white'}},\n",
       "             '1': {'label': 'x1', 'style': {'color': 'white'}},\n",
       "             '2': {'label': 'x2', 'style': {'color': 'white'}}},\n",
       "            'max': 2,\n",
       "            'min': 0,\n",
       "            'step': 0.1,\n",
       "            'value': 1,\n",
       "            'drag_value': 1},\n",
       "           'type': 'Slider',\n",
       "           'namespace': 'dash_core_components'}],\n",
       "         'className': 'row'},\n",
       "        'type': 'Div',\n",
       "        'namespace': 'dash_html_components'},\n",
       "       {'props': {'children': [{'props': {'children': 'Cattle, dairy',\n",
       "            'style': {'font-size': 10}},\n",
       "           'type': 'P',\n",
       "           'namespace': 'dash_html_components'},\n",
       "          {'props': {'id': 'TAi_pct_Cattle_dairy_one',\n",
       "            'included': False,\n",
       "            'marks': {},\n",
       "            'max': 2,\n",
       "            'min': 0,\n",
       "            'step': 0.1,\n",
       "            'value': 1,\n",
       "            'drag_value': 1},\n",
       "           'type': 'Slider',\n",
       "           'namespace': 'dash_core_components'}],\n",
       "         'className': 'row'},\n",
       "        'type': 'Div',\n",
       "        'namespace': 'dash_html_components'},\n",
       "       {'props': {'children': [{'props': {'children': 'Cattle, non_dairy',\n",
       "            'style': {'font-size': 10}},\n",
       "           'type': 'P',\n",
       "           'namespace': 'dash_html_components'},\n",
       "          {'props': {'id': 'TAi_pct_Cattle_non_dairy_one',\n",
       "            'included': False,\n",
       "            'marks': {},\n",
       "            'max': 2,\n",
       "            'min': 0,\n",
       "            'step': 0.1,\n",
       "            'value': 1,\n",
       "            'drag_value': 1},\n",
       "           'type': 'Slider',\n",
       "           'namespace': 'dash_core_components'}],\n",
       "         'className': 'row'},\n",
       "        'type': 'Div',\n",
       "        'namespace': 'dash_html_components'},\n",
       "       {'props': {'children': [{'props': {'children': 'Chickens, broilers',\n",
       "            'style': {'font-size': 10}},\n",
       "           'type': 'P',\n",
       "           'namespace': 'dash_html_components'},\n",
       "          {'props': {'id': 'TAi_pct_Chickens_broilers_one',\n",
       "            'included': False,\n",
       "            'marks': {},\n",
       "            'max': 2,\n",
       "            'min': 0,\n",
       "            'step': 0.1,\n",
       "            'value': 1,\n",
       "            'drag_value': 1},\n",
       "           'type': 'Slider',\n",
       "           'namespace': 'dash_core_components'}],\n",
       "         'className': 'row'},\n",
       "        'type': 'Div',\n",
       "        'namespace': 'dash_html_components'}],\n",
       "      'className': 'bare_container four columns'},\n",
       "     'type': 'Div',\n",
       "     'namespace': 'dash_html_components'},\n",
       "    {'props': {'children': [{'props': {'children': [{'props': {'children': 'Chickens, layers',\n",
       "            'style': {'font-size': 10}},\n",
       "           'type': 'P',\n",
       "           'namespace': 'dash_html_components'},\n",
       "          {'props': {'id': 'TAi_pct_Chickens_layers_one',\n",
       "            'included': False,\n",
       "            'marks': {'0': {'label': 'x0', 'style': {'color': 'white'}},\n",
       "             '1': {'label': 'x1', 'style': {'color': 'white'}},\n",
       "             '2': {'label': 'x2', 'style': {'color': 'white'}}},\n",
       "            'max': 2,\n",
       "            'min': 0,\n",
       "            'step': 0.1,\n",
       "            'value': 1,\n",
       "            'drag_value': 1},\n",
       "           'type': 'Slider',\n",
       "           'namespace': 'dash_core_components'}],\n",
       "         'className': 'row'},\n",
       "        'type': 'Div',\n",
       "        'namespace': 'dash_html_components'},\n",
       "       {'props': {'children': [{'props': {'children': 'Ducks',\n",
       "            'style': {'font-size': 10}},\n",
       "           'type': 'P',\n",
       "           'namespace': 'dash_html_components'},\n",
       "          {'props': {'id': 'TAi_pct_Ducks_one',\n",
       "            'included': False,\n",
       "            'marks': {},\n",
       "            'max': 2,\n",
       "            'min': 0,\n",
       "            'step': 0.1,\n",
       "            'value': 1,\n",
       "            'drag_value': 1},\n",
       "           'type': 'Slider',\n",
       "           'namespace': 'dash_core_components'}],\n",
       "         'className': 'row'},\n",
       "        'type': 'Div',\n",
       "        'namespace': 'dash_html_components'},\n",
       "       {'props': {'children': [{'props': {'children': 'Goats',\n",
       "            'style': {'font-size': 10}},\n",
       "           'type': 'P',\n",
       "           'namespace': 'dash_html_components'},\n",
       "          {'props': {'id': 'TAi_pct_Goats_one',\n",
       "            'included': False,\n",
       "            'marks': {},\n",
       "            'max': 2,\n",
       "            'min': 0,\n",
       "            'step': 0.1,\n",
       "            'value': 1,\n",
       "            'drag_value': 1},\n",
       "           'type': 'Slider',\n",
       "           'namespace': 'dash_core_components'}],\n",
       "         'className': 'row'},\n",
       "        'type': 'Div',\n",
       "        'namespace': 'dash_html_components'},\n",
       "       {'props': {'children': [{'props': {'children': 'Horses',\n",
       "            'style': {'font-size': 10}},\n",
       "           'type': 'P',\n",
       "           'namespace': 'dash_html_components'},\n",
       "          {'props': {'id': 'TAi_pct_Horses_one',\n",
       "            'included': False,\n",
       "            'marks': {},\n",
       "            'max': 2,\n",
       "            'min': 0,\n",
       "            'step': 0.1,\n",
       "            'value': 1,\n",
       "            'drag_value': 1},\n",
       "           'type': 'Slider',\n",
       "           'namespace': 'dash_core_components'}],\n",
       "         'className': 'row'},\n",
       "        'type': 'Div',\n",
       "        'namespace': 'dash_html_components'}],\n",
       "      'className': 'bare_container four columns'},\n",
       "     'type': 'Div',\n",
       "     'namespace': 'dash_html_components'},\n",
       "    {'props': {'children': [{'props': {'children': [{'props': {'children': 'Sheep',\n",
       "            'style': {'font-size': 10}},\n",
       "           'type': 'P',\n",
       "           'namespace': 'dash_html_components'},\n",
       "          {'props': {'id': 'TAi_pct_Sheep_one',\n",
       "            'included': False,\n",
       "            'marks': {'0': {'label': 'x0', 'style': {'color': 'white'}},\n",
       "             '1': {'label': 'x1', 'style': {'color': 'white'}},\n",
       "             '2': {'label': 'x2', 'style': {'color': 'white'}}},\n",
       "            'max': 2,\n",
       "            'min': 0,\n",
       "            'step': 0.1,\n",
       "            'value': 1,\n",
       "            'drag_value': 1},\n",
       "           'type': 'Slider',\n",
       "           'namespace': 'dash_core_components'}],\n",
       "         'className': 'row'},\n",
       "        'type': 'Div',\n",
       "        'namespace': 'dash_html_components'},\n",
       "       {'props': {'children': [{'props': {'children': 'Sheep',\n",
       "            'style': {'font-size': 10}},\n",
       "           'type': 'P',\n",
       "           'namespace': 'dash_html_components'},\n",
       "          {'props': {'id': 'TAi_pct_Sheep_one',\n",
       "            'included': False,\n",
       "            'marks': {},\n",
       "            'max': 2,\n",
       "            'min': 0,\n",
       "            'step': 0.1,\n",
       "            'value': 1,\n",
       "            'drag_value': 1},\n",
       "           'type': 'Slider',\n",
       "           'namespace': 'dash_core_components'}],\n",
       "         'className': 'row'},\n",
       "        'type': 'Div',\n",
       "        'namespace': 'dash_html_components'},\n",
       "       {'props': {'children': [{'props': {'children': 'Swine, breeding',\n",
       "            'style': {'font-size': 10}},\n",
       "           'type': 'P',\n",
       "           'namespace': 'dash_html_components'},\n",
       "          {'props': {'id': 'TAi_pct_Swine_breeding_one',\n",
       "            'included': False,\n",
       "            'marks': {},\n",
       "            'max': 2,\n",
       "            'min': 0,\n",
       "            'step': 0.1,\n",
       "            'value': 1,\n",
       "            'drag_value': 1},\n",
       "           'type': 'Slider',\n",
       "           'namespace': 'dash_core_components'}],\n",
       "         'className': 'row'},\n",
       "        'type': 'Div',\n",
       "        'namespace': 'dash_html_components'},\n",
       "       {'props': {'children': [{'props': {'children': 'Swine, market',\n",
       "            'style': {'font-size': 10}},\n",
       "           'type': 'P',\n",
       "           'namespace': 'dash_html_components'},\n",
       "          {'props': {'id': 'TAi_pct_Swine_market_one',\n",
       "            'included': False,\n",
       "            'marks': {},\n",
       "            'max': 2,\n",
       "            'min': 0,\n",
       "            'step': 0.1,\n",
       "            'value': 1,\n",
       "            'drag_value': 1},\n",
       "           'type': 'Slider',\n",
       "           'namespace': 'dash_core_components'}],\n",
       "         'className': 'row'},\n",
       "        'type': 'Div',\n",
       "        'namespace': 'dash_html_components'}],\n",
       "      'className': 'bare_container four columns'},\n",
       "     'type': 'Div',\n",
       "     'namespace': 'dash_html_components'}],\n",
       "   'id': 'TAi_pct_one'},\n",
       "  'type': 'Div',\n",
       "  'namespace': 'dash_html_components'}]"
      ]
     },
     "execution_count": 361,
     "metadata": {},
     "output_type": "execute_result"
    }
   ],
   "source": [
    "ided_comp "
   ]
  }
 ],
 "metadata": {
  "kernelspec": {
   "display_name": "Python 3",
   "language": "python",
   "name": "python3"
  },
  "language_info": {
   "codemirror_mode": {
    "name": "ipython",
    "version": 3
   },
   "file_extension": ".py",
   "mimetype": "text/x-python",
   "name": "python",
   "nbconvert_exporter": "python",
   "pygments_lexer": "ipython3",
   "version": "3.7.7"
  }
 },
 "nbformat": 4,
 "nbformat_minor": 4
}
