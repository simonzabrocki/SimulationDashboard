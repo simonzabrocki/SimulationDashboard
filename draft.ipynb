{
 "cells": [
  {
   "cell_type": "code",
   "execution_count": 211,
   "metadata": {
    "ExecuteTime": {
     "end_time": "2020-11-18T06:48:35.450999Z",
     "start_time": "2020-11-18T06:48:35.445957Z"
    }
   },
   "outputs": [],
   "source": [
    "import pandas as pd\n",
    "import plotly.express as px"
   ]
  },
  {
   "cell_type": "code",
   "execution_count": 222,
   "metadata": {
    "ExecuteTime": {
     "end_time": "2020-11-18T06:49:28.034538Z",
     "start_time": "2020-11-18T06:49:27.467126Z"
    }
   },
   "outputs": [],
   "source": [
    "data = pd.read_csv('data/indicators/data.csv', index_col=0)"
   ]
  },
  {
   "cell_type": "code",
   "execution_count": 223,
   "metadata": {
    "ExecuteTime": {
     "end_time": "2020-11-18T06:49:28.374131Z",
     "start_time": "2020-11-18T06:49:28.337096Z"
    }
   },
   "outputs": [
    {
     "data": {
      "text/html": [
       "<div>\n",
       "<style scoped>\n",
       "    .dataframe tbody tr th:only-of-type {\n",
       "        vertical-align: middle;\n",
       "    }\n",
       "\n",
       "    .dataframe tbody tr th {\n",
       "        vertical-align: top;\n",
       "    }\n",
       "\n",
       "    .dataframe thead th {\n",
       "        text-align: right;\n",
       "    }\n",
       "</style>\n",
       "<table border=\"1\" class=\"dataframe\">\n",
       "  <thead>\n",
       "    <tr style=\"text-align: right;\">\n",
       "      <th></th>\n",
       "      <th>ISO</th>\n",
       "      <th>Year</th>\n",
       "      <th>Indicator</th>\n",
       "      <th>From</th>\n",
       "      <th>Description</th>\n",
       "      <th>Country</th>\n",
       "      <th>Source</th>\n",
       "      <th>URL</th>\n",
       "      <th>DownloadDate</th>\n",
       "      <th>Variable Type</th>\n",
       "      <th>Imputed From</th>\n",
       "      <th>Imputed from Year</th>\n",
       "      <th>Value</th>\n",
       "    </tr>\n",
       "  </thead>\n",
       "  <tbody>\n",
       "    <tr>\n",
       "      <th>832651</th>\n",
       "      <td>PRT</td>\n",
       "      <td>1960</td>\n",
       "      <td>GE1</td>\n",
       "      <td>WB API</td>\n",
       "      <td>CO2 emissions (metric tons per capita)</td>\n",
       "      <td>Portugal</td>\n",
       "      <td>Carbon Dioxide Information Analysis Center, En...</td>\n",
       "      <td>https://api.worldbank.org/v2/country/all/indic...</td>\n",
       "      <td>2020-11-16</td>\n",
       "      <td>Full Indicator</td>\n",
       "      <td>NaN</td>\n",
       "      <td>NaN</td>\n",
       "      <td>0.928578</td>\n",
       "    </tr>\n",
       "    <tr>\n",
       "      <th>836616</th>\n",
       "      <td>PRY</td>\n",
       "      <td>1960</td>\n",
       "      <td>GE1</td>\n",
       "      <td>WB API</td>\n",
       "      <td>CO2 emissions (metric tons per capita)</td>\n",
       "      <td>Paraguay</td>\n",
       "      <td>Carbon Dioxide Information Analysis Center, En...</td>\n",
       "      <td>https://api.worldbank.org/v2/country/all/indic...</td>\n",
       "      <td>2020-11-16</td>\n",
       "      <td>Full Indicator</td>\n",
       "      <td>NaN</td>\n",
       "      <td>NaN</td>\n",
       "      <td>0.159855</td>\n",
       "    </tr>\n",
       "    <tr>\n",
       "      <th>114986</th>\n",
       "      <td>BLZ</td>\n",
       "      <td>1960</td>\n",
       "      <td>GE1</td>\n",
       "      <td>WB API</td>\n",
       "      <td>CO2 emissions (metric tons per capita)</td>\n",
       "      <td>Belize</td>\n",
       "      <td>Carbon Dioxide Information Analysis Center, En...</td>\n",
       "      <td>https://api.worldbank.org/v2/country/all/indic...</td>\n",
       "      <td>2020-11-16</td>\n",
       "      <td>Full Indicator</td>\n",
       "      <td>NaN</td>\n",
       "      <td>NaN</td>\n",
       "      <td>0.477972</td>\n",
       "    </tr>\n",
       "    <tr>\n",
       "      <th>828686</th>\n",
       "      <td>PRK</td>\n",
       "      <td>1960</td>\n",
       "      <td>GE1</td>\n",
       "      <td>WB API</td>\n",
       "      <td>CO2 emissions (metric tons per capita)</td>\n",
       "      <td>Korea, Dem. People’s Rep.</td>\n",
       "      <td>Carbon Dioxide Information Analysis Center, En...</td>\n",
       "      <td>https://api.worldbank.org/v2/country/all/indic...</td>\n",
       "      <td>2020-11-16</td>\n",
       "      <td>Full Indicator</td>\n",
       "      <td>NaN</td>\n",
       "      <td>NaN</td>\n",
       "      <td>2.084804</td>\n",
       "    </tr>\n",
       "    <tr>\n",
       "      <th>848511</th>\n",
       "      <td>PST</td>\n",
       "      <td>1960</td>\n",
       "      <td>GE1</td>\n",
       "      <td>WB API</td>\n",
       "      <td>CO2 emissions (metric tons per capita)</td>\n",
       "      <td>Post-demographic dividend</td>\n",
       "      <td>Carbon Dioxide Information Analysis Center, En...</td>\n",
       "      <td>https://api.worldbank.org/v2/country/all/indic...</td>\n",
       "      <td>2020-11-16</td>\n",
       "      <td>Full Indicator</td>\n",
       "      <td>NaN</td>\n",
       "      <td>NaN</td>\n",
       "      <td>7.732650</td>\n",
       "    </tr>\n",
       "    <tr>\n",
       "      <th>...</th>\n",
       "      <td>...</td>\n",
       "      <td>...</td>\n",
       "      <td>...</td>\n",
       "      <td>...</td>\n",
       "      <td>...</td>\n",
       "      <td>...</td>\n",
       "      <td>...</td>\n",
       "      <td>...</td>\n",
       "      <td>...</td>\n",
       "      <td>...</td>\n",
       "      <td>...</td>\n",
       "      <td>...</td>\n",
       "      <td>...</td>\n",
       "    </tr>\n",
       "    <tr>\n",
       "      <th>765222</th>\n",
       "      <td>NOR</td>\n",
       "      <td>2020</td>\n",
       "      <td>AB2</td>\n",
       "      <td>IMPUTED</td>\n",
       "      <td>[(Proportion of population with access to elec...</td>\n",
       "      <td>NaN</td>\n",
       "      <td>World Bank AND Global Health Observatory (GHO)...</td>\n",
       "      <td>NaN</td>\n",
       "      <td>NaN</td>\n",
       "      <td>Full Indicator</td>\n",
       "      <td>SDG API</td>\n",
       "      <td>2017.0</td>\n",
       "      <td>97.500000</td>\n",
       "    </tr>\n",
       "    <tr>\n",
       "      <th>765223</th>\n",
       "      <td>NOR</td>\n",
       "      <td>2020</td>\n",
       "      <td>GB1</td>\n",
       "      <td>SDG API</td>\n",
       "      <td>Proportion of seats held by women in national ...</td>\n",
       "      <td>Norway</td>\n",
       "      <td>Inter-Parliamentary Union (IPU), the database ...</td>\n",
       "      <td>https://unstats.un.org/SDGAPI/v1/sdg/Series/Data</td>\n",
       "      <td>2020-11-16</td>\n",
       "      <td>Full Indicator</td>\n",
       "      <td>NaN</td>\n",
       "      <td>NaN</td>\n",
       "      <td>41.420000</td>\n",
       "    </tr>\n",
       "    <tr>\n",
       "      <th>765224</th>\n",
       "      <td>NOR</td>\n",
       "      <td>2020</td>\n",
       "      <td>SL2</td>\n",
       "      <td>IMPUTED</td>\n",
       "      <td>(Organic agriculture land) / (Total agricultur...</td>\n",
       "      <td>NaN</td>\n",
       "      <td>FAO</td>\n",
       "      <td>NaN</td>\n",
       "      <td>NaN</td>\n",
       "      <td>Full Indicator</td>\n",
       "      <td>MANUAL</td>\n",
       "      <td>2017.0</td>\n",
       "      <td>4.434023</td>\n",
       "    </tr>\n",
       "    <tr>\n",
       "      <th>765226</th>\n",
       "      <td>NOR</td>\n",
       "      <td>2020</td>\n",
       "      <td>GV1</td>\n",
       "      <td>IMPUTED</td>\n",
       "      <td>Adjusted net savings, including particulate em...</td>\n",
       "      <td>NaN</td>\n",
       "      <td>World Bank staff estimates based on sources an...</td>\n",
       "      <td>https://api.worldbank.org/v2/country/all/indic...</td>\n",
       "      <td>NaN</td>\n",
       "      <td>Full Indicator</td>\n",
       "      <td>WB API</td>\n",
       "      <td>2018.0</td>\n",
       "      <td>18.208421</td>\n",
       "    </tr>\n",
       "    <tr>\n",
       "      <th>765210</th>\n",
       "      <td>NOR</td>\n",
       "      <td>2020</td>\n",
       "      <td>GB3</td>\n",
       "      <td>MANUAL</td>\n",
       "      <td>Getting paid, laws and regulations for equal g...</td>\n",
       "      <td>Norway</td>\n",
       "      <td>World Bank Women, Business and the Law</td>\n",
       "      <td>http://wbl.worldbank.org/en/reports</td>\n",
       "      <td>NaN</td>\n",
       "      <td>Full Indicator</td>\n",
       "      <td>NaN</td>\n",
       "      <td>NaN</td>\n",
       "      <td>100.000000</td>\n",
       "    </tr>\n",
       "  </tbody>\n",
       "</table>\n",
       "<p>175975 rows × 13 columns</p>\n",
       "</div>"
      ],
      "text/plain": [
       "        ISO  Year Indicator     From  \\\n",
       "832651  PRT  1960       GE1   WB API   \n",
       "836616  PRY  1960       GE1   WB API   \n",
       "114986  BLZ  1960       GE1   WB API   \n",
       "828686  PRK  1960       GE1   WB API   \n",
       "848511  PST  1960       GE1   WB API   \n",
       "...     ...   ...       ...      ...   \n",
       "765222  NOR  2020       AB2  IMPUTED   \n",
       "765223  NOR  2020       GB1  SDG API   \n",
       "765224  NOR  2020       SL2  IMPUTED   \n",
       "765226  NOR  2020       GV1  IMPUTED   \n",
       "765210  NOR  2020       GB3   MANUAL   \n",
       "\n",
       "                                              Description  \\\n",
       "832651             CO2 emissions (metric tons per capita)   \n",
       "836616             CO2 emissions (metric tons per capita)   \n",
       "114986             CO2 emissions (metric tons per capita)   \n",
       "828686             CO2 emissions (metric tons per capita)   \n",
       "848511             CO2 emissions (metric tons per capita)   \n",
       "...                                                   ...   \n",
       "765222  [(Proportion of population with access to elec...   \n",
       "765223  Proportion of seats held by women in national ...   \n",
       "765224  (Organic agriculture land) / (Total agricultur...   \n",
       "765226  Adjusted net savings, including particulate em...   \n",
       "765210  Getting paid, laws and regulations for equal g...   \n",
       "\n",
       "                          Country  \\\n",
       "832651                   Portugal   \n",
       "836616                   Paraguay   \n",
       "114986                     Belize   \n",
       "828686  Korea, Dem. People’s Rep.   \n",
       "848511  Post-demographic dividend   \n",
       "...                           ...   \n",
       "765222                        NaN   \n",
       "765223                     Norway   \n",
       "765224                        NaN   \n",
       "765226                        NaN   \n",
       "765210                     Norway   \n",
       "\n",
       "                                                   Source  \\\n",
       "832651  Carbon Dioxide Information Analysis Center, En...   \n",
       "836616  Carbon Dioxide Information Analysis Center, En...   \n",
       "114986  Carbon Dioxide Information Analysis Center, En...   \n",
       "828686  Carbon Dioxide Information Analysis Center, En...   \n",
       "848511  Carbon Dioxide Information Analysis Center, En...   \n",
       "...                                                   ...   \n",
       "765222  World Bank AND Global Health Observatory (GHO)...   \n",
       "765223  Inter-Parliamentary Union (IPU), the database ...   \n",
       "765224                                                FAO   \n",
       "765226  World Bank staff estimates based on sources an...   \n",
       "765210             World Bank Women, Business and the Law   \n",
       "\n",
       "                                                      URL DownloadDate  \\\n",
       "832651  https://api.worldbank.org/v2/country/all/indic...   2020-11-16   \n",
       "836616  https://api.worldbank.org/v2/country/all/indic...   2020-11-16   \n",
       "114986  https://api.worldbank.org/v2/country/all/indic...   2020-11-16   \n",
       "828686  https://api.worldbank.org/v2/country/all/indic...   2020-11-16   \n",
       "848511  https://api.worldbank.org/v2/country/all/indic...   2020-11-16   \n",
       "...                                                   ...          ...   \n",
       "765222                                                NaN          NaN   \n",
       "765223   https://unstats.un.org/SDGAPI/v1/sdg/Series/Data   2020-11-16   \n",
       "765224                                                NaN          NaN   \n",
       "765226  https://api.worldbank.org/v2/country/all/indic...          NaN   \n",
       "765210                http://wbl.worldbank.org/en/reports          NaN   \n",
       "\n",
       "         Variable Type Imputed From  Imputed from Year       Value  \n",
       "832651  Full Indicator          NaN                NaN    0.928578  \n",
       "836616  Full Indicator          NaN                NaN    0.159855  \n",
       "114986  Full Indicator          NaN                NaN    0.477972  \n",
       "828686  Full Indicator          NaN                NaN    2.084804  \n",
       "848511  Full Indicator          NaN                NaN    7.732650  \n",
       "...                ...          ...                ...         ...  \n",
       "765222  Full Indicator      SDG API             2017.0   97.500000  \n",
       "765223  Full Indicator          NaN                NaN   41.420000  \n",
       "765224  Full Indicator       MANUAL             2017.0    4.434023  \n",
       "765226  Full Indicator       WB API             2018.0   18.208421  \n",
       "765210  Full Indicator          NaN                NaN  100.000000  \n",
       "\n",
       "[175975 rows x 13 columns]"
      ]
     },
     "execution_count": 223,
     "metadata": {},
     "output_type": "execute_result"
    }
   ],
   "source": [
    "data"
   ]
  },
  {
   "cell_type": "code",
   "execution_count": 213,
   "metadata": {
    "ExecuteTime": {
     "end_time": "2020-11-18T06:48:36.230233Z",
     "start_time": "2020-11-18T06:48:36.224876Z"
    }
   },
   "outputs": [],
   "source": [
    "dimension_properties = pd.read_csv('data/indicators/dimension_properties.csv', index_col=0)\n"
   ]
  },
  {
   "cell_type": "code",
   "execution_count": 214,
   "metadata": {
    "ExecuteTime": {
     "end_time": "2020-11-18T06:48:36.235877Z",
     "start_time": "2020-11-18T06:48:36.232524Z"
    }
   },
   "outputs": [],
   "source": [
    "dimension_options = dimension_properties.Dimension.values\n"
   ]
  },
  {
   "cell_type": "code",
   "execution_count": 217,
   "metadata": {
    "ExecuteTime": {
     "end_time": "2020-11-18T06:48:39.101422Z",
     "start_time": "2020-11-18T06:48:39.074310Z"
    }
   },
   "outputs": [],
   "source": [
    "data['Imputed From'] = data['Imputed From'].fillna('')\n",
    "data['Imputed from Year'] = data['Imputed from Year'].fillna('')"
   ]
  },
  {
   "cell_type": "code",
   "execution_count": null,
   "metadata": {},
   "outputs": [],
   "source": []
  },
  {
   "cell_type": "code",
   "execution_count": 218,
   "metadata": {
    "ExecuteTime": {
     "end_time": "2020-11-18T06:48:39.641747Z",
     "start_time": "2020-11-18T06:48:39.525807Z"
    }
   },
   "outputs": [],
   "source": [
    "data['From'] = data['From'] + ' ' + data['Imputed From'] + ' ' +data['Imputed from Year'].astype(str)"
   ]
  },
  {
   "cell_type": "code",
   "execution_count": 219,
   "metadata": {
    "ExecuteTime": {
     "end_time": "2020-11-18T06:48:39.729510Z",
     "start_time": "2020-11-18T06:48:39.718525Z"
    }
   },
   "outputs": [],
   "source": [
    "indicator_properties = pd.read_csv('data/indicators/indicator_properties.csv', index_col=0)\n",
    "indicator_properties = indicator_properties"
   ]
  },
  {
   "cell_type": "code",
   "execution_count": 220,
   "metadata": {
    "ExecuteTime": {
     "end_time": "2020-11-18T06:48:39.976189Z",
     "start_time": "2020-11-18T06:48:39.943942Z"
    }
   },
   "outputs": [
    {
     "data": {
      "text/html": [
       "<div>\n",
       "<style scoped>\n",
       "    .dataframe tbody tr th:only-of-type {\n",
       "        vertical-align: middle;\n",
       "    }\n",
       "\n",
       "    .dataframe tbody tr th {\n",
       "        vertical-align: top;\n",
       "    }\n",
       "\n",
       "    .dataframe thead th {\n",
       "        text-align: right;\n",
       "    }\n",
       "</style>\n",
       "<table border=\"1\" class=\"dataframe\">\n",
       "  <thead>\n",
       "    <tr style=\"text-align: right;\">\n",
       "      <th></th>\n",
       "      <th>Indicator</th>\n",
       "      <th>Description</th>\n",
       "      <th>Unit</th>\n",
       "      <th>Dimension</th>\n",
       "      <th>Impact</th>\n",
       "      <th>minYear</th>\n",
       "      <th>maxYear</th>\n",
       "    </tr>\n",
       "  </thead>\n",
       "  <tbody>\n",
       "    <tr>\n",
       "      <th>NaN</th>\n",
       "      <td>GE1</td>\n",
       "      <td>Ratio CO2 emissions incl LUCF to population</td>\n",
       "      <td>Tons CO2e per Capita</td>\n",
       "      <td>Natural Capital Protection</td>\n",
       "      <td>negative</td>\n",
       "      <td>1960</td>\n",
       "      <td>2020</td>\n",
       "    </tr>\n",
       "    <tr>\n",
       "      <th>1.0</th>\n",
       "      <td>GE3</td>\n",
       "      <td>Ratio non-CO2 emissions (CH4, N2O and F-gas) i...</td>\n",
       "      <td>Tons CO2e per Capita</td>\n",
       "      <td>Natural Capital Protection</td>\n",
       "      <td>negative</td>\n",
       "      <td>1961</td>\n",
       "      <td>2020</td>\n",
       "    </tr>\n",
       "    <tr>\n",
       "      <th>2.0</th>\n",
       "      <td>SE1</td>\n",
       "      <td>Palma Ratio</td>\n",
       "      <td>Ratio</td>\n",
       "      <td>Social Inclusion</td>\n",
       "      <td>negative</td>\n",
       "      <td>1967</td>\n",
       "      <td>2020</td>\n",
       "    </tr>\n",
       "    <tr>\n",
       "      <th>3.0</th>\n",
       "      <td>ME1</td>\n",
       "      <td>Total domestic material consumption (DMC) per ...</td>\n",
       "      <td>kg per constant 2005 GDP</td>\n",
       "      <td>Efficient and Sustainable Resource Use</td>\n",
       "      <td>negative</td>\n",
       "      <td>1970</td>\n",
       "      <td>2020</td>\n",
       "    </tr>\n",
       "    <tr>\n",
       "      <th>4.0</th>\n",
       "      <td>GB3</td>\n",
       "      <td>Getting paid, laws and regulations for equal g...</td>\n",
       "      <td>Score (0-100)</td>\n",
       "      <td>Social Inclusion</td>\n",
       "      <td>positive</td>\n",
       "      <td>1971</td>\n",
       "      <td>2020</td>\n",
       "    </tr>\n",
       "    <tr>\n",
       "      <th>5.0</th>\n",
       "      <td>GN1</td>\n",
       "      <td>Share of patent publications in environmental ...</td>\n",
       "      <td>Percent</td>\n",
       "      <td>Green Economic Opportunities</td>\n",
       "      <td>positive</td>\n",
       "      <td>1980</td>\n",
       "      <td>2020</td>\n",
       "    </tr>\n",
       "    <tr>\n",
       "      <th>6.0</th>\n",
       "      <td>CV3</td>\n",
       "      <td>Share of terrestrial and marine protected area...</td>\n",
       "      <td>Percent</td>\n",
       "      <td>Natural Capital Protection</td>\n",
       "      <td>positive</td>\n",
       "      <td>1990</td>\n",
       "      <td>2020</td>\n",
       "    </tr>\n",
       "    <tr>\n",
       "      <th>7.0</th>\n",
       "      <td>EE2</td>\n",
       "      <td>Renewable energy share in the total final ener...</td>\n",
       "      <td>Percent</td>\n",
       "      <td>Efficient and Sustainable Resource Use</td>\n",
       "      <td>positive</td>\n",
       "      <td>1990</td>\n",
       "      <td>2020</td>\n",
       "    </tr>\n",
       "    <tr>\n",
       "      <th>8.0</th>\n",
       "      <td>GE2</td>\n",
       "      <td>Ratio non-CO2 emissions (CH4, N2O and F-gas) e...</td>\n",
       "      <td>Tons CO2e per Capita</td>\n",
       "      <td>Natural Capital Protection</td>\n",
       "      <td>negative</td>\n",
       "      <td>1990</td>\n",
       "      <td>2020</td>\n",
       "    </tr>\n",
       "    <tr>\n",
       "      <th>9.0</th>\n",
       "      <td>EE1</td>\n",
       "      <td>Energy intensity level of primary energy</td>\n",
       "      <td>Megajoules per constant 2011 purchasing power ...</td>\n",
       "      <td>Efficient and Sustainable Resource Use</td>\n",
       "      <td>negative</td>\n",
       "      <td>1990</td>\n",
       "      <td>2020</td>\n",
       "    </tr>\n",
       "    <tr>\n",
       "      <th>10.0</th>\n",
       "      <td>BE2</td>\n",
       "      <td>Forest area as a proportion of total land area</td>\n",
       "      <td>Percent</td>\n",
       "      <td>Natural Capital Protection</td>\n",
       "      <td>positive</td>\n",
       "      <td>1990</td>\n",
       "      <td>2020</td>\n",
       "    </tr>\n",
       "    <tr>\n",
       "      <th>11.0</th>\n",
       "      <td>EQ1</td>\n",
       "      <td>PM2.5 air pollution, mean annual exposure</td>\n",
       "      <td>micrograms per cubic meter</td>\n",
       "      <td>Natural Capital Protection</td>\n",
       "      <td>negative</td>\n",
       "      <td>1990</td>\n",
       "      <td>2020</td>\n",
       "    </tr>\n",
       "    <tr>\n",
       "      <th>12.0</th>\n",
       "      <td>EQ2</td>\n",
       "      <td>DALY rate due to unsafe water sources</td>\n",
       "      <td>Age-standardized Disability-Adjusted Life Year...</td>\n",
       "      <td>Natural Capital Protection</td>\n",
       "      <td>negative</td>\n",
       "      <td>1990</td>\n",
       "      <td>2020</td>\n",
       "    </tr>\n",
       "    <tr>\n",
       "      <th>13.0</th>\n",
       "      <td>SE2</td>\n",
       "      <td>Ratio Urban-rural access to basic services (wa...</td>\n",
       "      <td>Ratio</td>\n",
       "      <td>Social Inclusion</td>\n",
       "      <td>negative</td>\n",
       "      <td>1990</td>\n",
       "      <td>2020</td>\n",
       "    </tr>\n",
       "    <tr>\n",
       "      <th>14.0</th>\n",
       "      <td>SP2</td>\n",
       "      <td>Healthcare access and quality index</td>\n",
       "      <td>Index</td>\n",
       "      <td>Social Inclusion</td>\n",
       "      <td>positive</td>\n",
       "      <td>1990</td>\n",
       "      <td>2020</td>\n",
       "    </tr>\n",
       "    <tr>\n",
       "      <th>15.0</th>\n",
       "      <td>ME2</td>\n",
       "      <td>total Material Footprint (MF) per Capita</td>\n",
       "      <td>MF tonnes per capita</td>\n",
       "      <td>Efficient and Sustainable Resource Use</td>\n",
       "      <td>negative</td>\n",
       "      <td>1990</td>\n",
       "      <td>2020</td>\n",
       "    </tr>\n",
       "    <tr>\n",
       "      <th>16.0</th>\n",
       "      <td>GB1</td>\n",
       "      <td>Proportion of seats held by women in national ...</td>\n",
       "      <td>Percent</td>\n",
       "      <td>Social Inclusion</td>\n",
       "      <td>positive</td>\n",
       "      <td>1990</td>\n",
       "      <td>2020</td>\n",
       "    </tr>\n",
       "    <tr>\n",
       "      <th>17.0</th>\n",
       "      <td>GV1</td>\n",
       "      <td>Adjusted net savings minus natural resources d...</td>\n",
       "      <td>Percent of GNI</td>\n",
       "      <td>Green Economic Opportunities</td>\n",
       "      <td>positive</td>\n",
       "      <td>1990</td>\n",
       "      <td>2020</td>\n",
       "    </tr>\n",
       "    <tr>\n",
       "      <th>18.0</th>\n",
       "      <td>SP3</td>\n",
       "      <td>Proportion of urban population living in slums</td>\n",
       "      <td>Percent</td>\n",
       "      <td>Social Inclusion</td>\n",
       "      <td>negative</td>\n",
       "      <td>1990</td>\n",
       "      <td>2020</td>\n",
       "    </tr>\n",
       "    <tr>\n",
       "      <th>19.0</th>\n",
       "      <td>SE3</td>\n",
       "      <td>Proportion of youth not in education, employme...</td>\n",
       "      <td>Percent</td>\n",
       "      <td>Social Inclusion</td>\n",
       "      <td>negative</td>\n",
       "      <td>1990</td>\n",
       "      <td>2020</td>\n",
       "    </tr>\n",
       "    <tr>\n",
       "      <th>20.0</th>\n",
       "      <td>CV1</td>\n",
       "      <td>Red List Index</td>\n",
       "      <td>Index</td>\n",
       "      <td>Natural Capital Protection</td>\n",
       "      <td>positive</td>\n",
       "      <td>1993</td>\n",
       "      <td>2020</td>\n",
       "    </tr>\n",
       "    <tr>\n",
       "      <th>21.0</th>\n",
       "      <td>SP1</td>\n",
       "      <td>Proportion of population above statutory pensi...</td>\n",
       "      <td>Percent</td>\n",
       "      <td>Social Inclusion</td>\n",
       "      <td>positive</td>\n",
       "      <td>1996</td>\n",
       "      <td>2020</td>\n",
       "    </tr>\n",
       "    <tr>\n",
       "      <th>22.0</th>\n",
       "      <td>AB3</td>\n",
       "      <td>Mobile and broadband subscriptions</td>\n",
       "      <td>no. of subscriptions per 100 peple</td>\n",
       "      <td>Social Inclusion</td>\n",
       "      <td>positive</td>\n",
       "      <td>1998</td>\n",
       "      <td>2020</td>\n",
       "    </tr>\n",
       "    <tr>\n",
       "      <th>23.0</th>\n",
       "      <td>BE1</td>\n",
       "      <td>Proportion terrestrial, freshwater, marine and...</td>\n",
       "      <td>Percent</td>\n",
       "      <td>Natural Capital Protection</td>\n",
       "      <td>positive</td>\n",
       "      <td>2000</td>\n",
       "      <td>2020</td>\n",
       "    </tr>\n",
       "    <tr>\n",
       "      <th>24.0</th>\n",
       "      <td>BE3</td>\n",
       "      <td>Above-ground biomass stock in forest</td>\n",
       "      <td>tonnes per hectare</td>\n",
       "      <td>Natural Capital Protection</td>\n",
       "      <td>positive</td>\n",
       "      <td>2000</td>\n",
       "      <td>2020</td>\n",
       "    </tr>\n",
       "    <tr>\n",
       "      <th>25.0</th>\n",
       "      <td>GT1</td>\n",
       "      <td>Share environmental export to total export</td>\n",
       "      <td>Percent</td>\n",
       "      <td>Green Economic Opportunities</td>\n",
       "      <td>positive</td>\n",
       "      <td>2000</td>\n",
       "      <td>2020</td>\n",
       "    </tr>\n",
       "    <tr>\n",
       "      <th>26.0</th>\n",
       "      <td>AB2</td>\n",
       "      <td>Population with access to electricity and clea...</td>\n",
       "      <td>Percent</td>\n",
       "      <td>Social Inclusion</td>\n",
       "      <td>positive</td>\n",
       "      <td>2000</td>\n",
       "      <td>2020</td>\n",
       "    </tr>\n",
       "    <tr>\n",
       "      <th>27.0</th>\n",
       "      <td>EW1</td>\n",
       "      <td>Water use efficiency</td>\n",
       "      <td>United States dollars per cubic meter</td>\n",
       "      <td>Efficient and Sustainable Resource Use</td>\n",
       "      <td>positive</td>\n",
       "      <td>2000</td>\n",
       "      <td>2020</td>\n",
       "    </tr>\n",
       "    <tr>\n",
       "      <th>28.0</th>\n",
       "      <td>EW2</td>\n",
       "      <td>Water stress: freshwater withdrawal as a propo...</td>\n",
       "      <td>Percent</td>\n",
       "      <td>Efficient and Sustainable Resource Use</td>\n",
       "      <td>negative</td>\n",
       "      <td>2000</td>\n",
       "      <td>2020</td>\n",
       "    </tr>\n",
       "    <tr>\n",
       "      <th>29.0</th>\n",
       "      <td>AB1</td>\n",
       "      <td>Population with access to safely managed water...</td>\n",
       "      <td>Percent</td>\n",
       "      <td>Social Inclusion</td>\n",
       "      <td>positive</td>\n",
       "      <td>2000</td>\n",
       "      <td>2020</td>\n",
       "    </tr>\n",
       "    <tr>\n",
       "      <th>30.0</th>\n",
       "      <td>SL2</td>\n",
       "      <td>Proportion of agriculture organic to total agr...</td>\n",
       "      <td>Percent</td>\n",
       "      <td>Efficient and Sustainable Resource Use</td>\n",
       "      <td>positive</td>\n",
       "      <td>2004</td>\n",
       "      <td>2020</td>\n",
       "    </tr>\n",
       "    <tr>\n",
       "      <th>31.0</th>\n",
       "      <td>GJ1</td>\n",
       "      <td>Share of green employment in total manufacturi...</td>\n",
       "      <td>Percent</td>\n",
       "      <td>Green Economic Opportunities</td>\n",
       "      <td>positive</td>\n",
       "      <td>2005</td>\n",
       "      <td>2020</td>\n",
       "    </tr>\n",
       "    <tr>\n",
       "      <th>32.0</th>\n",
       "      <td>GB2</td>\n",
       "      <td>Maximum of ratio female-male, male-female with...</td>\n",
       "      <td>Ratio</td>\n",
       "      <td>Social Inclusion</td>\n",
       "      <td>negative</td>\n",
       "      <td>2011</td>\n",
       "      <td>2020</td>\n",
       "    </tr>\n",
       "    <tr>\n",
       "      <th>33.0</th>\n",
       "      <td>CV2</td>\n",
       "      <td>Tourism and recreation in coastal and marine a...</td>\n",
       "      <td>Source (0-100)</td>\n",
       "      <td>Natural Capital Protection</td>\n",
       "      <td>positive</td>\n",
       "      <td>2012</td>\n",
       "      <td>2020</td>\n",
       "    </tr>\n",
       "    <tr>\n",
       "      <th>34.0</th>\n",
       "      <td>EQ3</td>\n",
       "      <td>Municipal solid waste (MSW) generated per Capita</td>\n",
       "      <td>Tons per Capita</td>\n",
       "      <td>Natural Capital Protection</td>\n",
       "      <td>negative</td>\n",
       "      <td>2018</td>\n",
       "      <td>2020</td>\n",
       "    </tr>\n",
       "    <tr>\n",
       "      <th>35.0</th>\n",
       "      <td>SL1</td>\n",
       "      <td>Average soil organic carbon content</td>\n",
       "      <td>Tons per hectare</td>\n",
       "      <td>Efficient and Sustainable Resource Use</td>\n",
       "      <td>positive</td>\n",
       "      <td>2019</td>\n",
       "      <td>2020</td>\n",
       "    </tr>\n",
       "  </tbody>\n",
       "</table>\n",
       "</div>"
      ],
      "text/plain": [
       "     Indicator                                        Description  \\\n",
       "NaN        GE1        Ratio CO2 emissions incl LUCF to population   \n",
       "1.0        GE3  Ratio non-CO2 emissions (CH4, N2O and F-gas) i...   \n",
       "2.0        SE1                                        Palma Ratio   \n",
       "3.0        ME1  Total domestic material consumption (DMC) per ...   \n",
       "4.0        GB3  Getting paid, laws and regulations for equal g...   \n",
       "5.0        GN1  Share of patent publications in environmental ...   \n",
       "6.0        CV3  Share of terrestrial and marine protected area...   \n",
       "7.0        EE2  Renewable energy share in the total final ener...   \n",
       "8.0        GE2  Ratio non-CO2 emissions (CH4, N2O and F-gas) e...   \n",
       "9.0        EE1           Energy intensity level of primary energy   \n",
       "10.0       BE2     Forest area as a proportion of total land area   \n",
       "11.0       EQ1          PM2.5 air pollution, mean annual exposure   \n",
       "12.0       EQ2              DALY rate due to unsafe water sources   \n",
       "13.0       SE2  Ratio Urban-rural access to basic services (wa...   \n",
       "14.0       SP2                Healthcare access and quality index   \n",
       "15.0       ME2           total Material Footprint (MF) per Capita   \n",
       "16.0       GB1  Proportion of seats held by women in national ...   \n",
       "17.0       GV1  Adjusted net savings minus natural resources d...   \n",
       "18.0       SP3     Proportion of urban population living in slums   \n",
       "19.0       SE3  Proportion of youth not in education, employme...   \n",
       "20.0       CV1                                     Red List Index   \n",
       "21.0       SP1  Proportion of population above statutory pensi...   \n",
       "22.0       AB3                 Mobile and broadband subscriptions   \n",
       "23.0       BE1  Proportion terrestrial, freshwater, marine and...   \n",
       "24.0       BE3               Above-ground biomass stock in forest   \n",
       "25.0       GT1         Share environmental export to total export   \n",
       "26.0       AB2  Population with access to electricity and clea...   \n",
       "27.0       EW1                               Water use efficiency   \n",
       "28.0       EW2  Water stress: freshwater withdrawal as a propo...   \n",
       "29.0       AB1  Population with access to safely managed water...   \n",
       "30.0       SL2  Proportion of agriculture organic to total agr...   \n",
       "31.0       GJ1  Share of green employment in total manufacturi...   \n",
       "32.0       GB2  Maximum of ratio female-male, male-female with...   \n",
       "33.0       CV2  Tourism and recreation in coastal and marine a...   \n",
       "34.0       EQ3   Municipal solid waste (MSW) generated per Capita   \n",
       "35.0       SL1                Average soil organic carbon content   \n",
       "\n",
       "                                                   Unit  \\\n",
       "NaN                                Tons CO2e per Capita   \n",
       "1.0                                Tons CO2e per Capita   \n",
       "2.0                                               Ratio   \n",
       "3.0                            kg per constant 2005 GDP   \n",
       "4.0                                       Score (0-100)   \n",
       "5.0                                             Percent   \n",
       "6.0                                             Percent   \n",
       "7.0                                             Percent   \n",
       "8.0                                Tons CO2e per Capita   \n",
       "9.0   Megajoules per constant 2011 purchasing power ...   \n",
       "10.0                                            Percent   \n",
       "11.0                         micrograms per cubic meter   \n",
       "12.0  Age-standardized Disability-Adjusted Life Year...   \n",
       "13.0                                              Ratio   \n",
       "14.0                                              Index   \n",
       "15.0                               MF tonnes per capita   \n",
       "16.0                                            Percent   \n",
       "17.0                                     Percent of GNI   \n",
       "18.0                                            Percent   \n",
       "19.0                                            Percent   \n",
       "20.0                                              Index   \n",
       "21.0                                            Percent   \n",
       "22.0                 no. of subscriptions per 100 peple   \n",
       "23.0                                            Percent   \n",
       "24.0                                 tonnes per hectare   \n",
       "25.0                                            Percent   \n",
       "26.0                                            Percent   \n",
       "27.0              United States dollars per cubic meter   \n",
       "28.0                                            Percent   \n",
       "29.0                                            Percent   \n",
       "30.0                                            Percent   \n",
       "31.0                                            Percent   \n",
       "32.0                                              Ratio   \n",
       "33.0                                     Source (0-100)   \n",
       "34.0                                    Tons per Capita   \n",
       "35.0                                   Tons per hectare   \n",
       "\n",
       "                                   Dimension    Impact  minYear  maxYear  \n",
       "NaN               Natural Capital Protection  negative     1960     2020  \n",
       "1.0               Natural Capital Protection  negative     1961     2020  \n",
       "2.0                         Social Inclusion  negative     1967     2020  \n",
       "3.0   Efficient and Sustainable Resource Use  negative     1970     2020  \n",
       "4.0                         Social Inclusion  positive     1971     2020  \n",
       "5.0             Green Economic Opportunities  positive     1980     2020  \n",
       "6.0               Natural Capital Protection  positive     1990     2020  \n",
       "7.0   Efficient and Sustainable Resource Use  positive     1990     2020  \n",
       "8.0               Natural Capital Protection  negative     1990     2020  \n",
       "9.0   Efficient and Sustainable Resource Use  negative     1990     2020  \n",
       "10.0              Natural Capital Protection  positive     1990     2020  \n",
       "11.0              Natural Capital Protection  negative     1990     2020  \n",
       "12.0              Natural Capital Protection  negative     1990     2020  \n",
       "13.0                        Social Inclusion  negative     1990     2020  \n",
       "14.0                        Social Inclusion  positive     1990     2020  \n",
       "15.0  Efficient and Sustainable Resource Use  negative     1990     2020  \n",
       "16.0                        Social Inclusion  positive     1990     2020  \n",
       "17.0            Green Economic Opportunities  positive     1990     2020  \n",
       "18.0                        Social Inclusion  negative     1990     2020  \n",
       "19.0                        Social Inclusion  negative     1990     2020  \n",
       "20.0              Natural Capital Protection  positive     1993     2020  \n",
       "21.0                        Social Inclusion  positive     1996     2020  \n",
       "22.0                        Social Inclusion  positive     1998     2020  \n",
       "23.0              Natural Capital Protection  positive     2000     2020  \n",
       "24.0              Natural Capital Protection  positive     2000     2020  \n",
       "25.0            Green Economic Opportunities  positive     2000     2020  \n",
       "26.0                        Social Inclusion  positive     2000     2020  \n",
       "27.0  Efficient and Sustainable Resource Use  positive     2000     2020  \n",
       "28.0  Efficient and Sustainable Resource Use  negative     2000     2020  \n",
       "29.0                        Social Inclusion  positive     2000     2020  \n",
       "30.0  Efficient and Sustainable Resource Use  positive     2004     2020  \n",
       "31.0            Green Economic Opportunities  positive     2005     2020  \n",
       "32.0                        Social Inclusion  negative     2011     2020  \n",
       "33.0              Natural Capital Protection  positive     2012     2020  \n",
       "34.0              Natural Capital Protection  negative     2018     2020  \n",
       "35.0  Efficient and Sustainable Resource Use  positive     2019     2020  "
      ]
     },
     "execution_count": 220,
     "metadata": {},
     "output_type": "execute_result"
    }
   ],
   "source": [
    "indicator_properties"
   ]
  },
  {
   "cell_type": "code",
   "execution_count": 221,
   "metadata": {
    "ExecuteTime": {
     "end_time": "2020-11-18T06:48:40.370386Z",
     "start_time": "2020-11-18T06:48:40.362918Z"
    }
   },
   "outputs": [],
   "source": [
    "indicator_properties['display_name'] = indicator_properties['Indicator'] + ': ' + indicator_properties['Description']"
   ]
  },
  {
   "cell_type": "code",
   "execution_count": 180,
   "metadata": {
    "ExecuteTime": {
     "end_time": "2020-11-18T06:18:57.760315Z",
     "start_time": "2020-11-18T06:18:57.696463Z"
    }
   },
   "outputs": [],
   "source": [
    "data = data[data.Indicator.isin(indicator_properties.Indicator)]"
   ]
  },
  {
   "cell_type": "code",
   "execution_count": 181,
   "metadata": {
    "ExecuteTime": {
     "end_time": "2020-11-18T06:18:57.901697Z",
     "start_time": "2020-11-18T06:18:57.897762Z"
    }
   },
   "outputs": [],
   "source": [
    "ISO_list = ['DEU', 'FRA', 'KOR']\n",
    "Indicator = 'EE1'"
   ]
  },
  {
   "cell_type": "code",
   "execution_count": 184,
   "metadata": {
    "ExecuteTime": {
     "end_time": "2020-11-18T06:19:05.089454Z",
     "start_time": "2020-11-18T06:19:05.079189Z"
    }
   },
   "outputs": [],
   "source": [
    "def indicator_line_charts(data, indicator_properties, ISO_list, Indicator):\n",
    "    indicator_properties = indicator_properties.set_index('Indicator')\n",
    "\n",
    "    df = data[(data.ISO.isin(ISO_list)) & (data.Indicator == Indicator)]\n",
    "    title = indicator_properties.loc[Indicator]['Description']\n",
    "    xaxis_title = indicator_properties.loc[Indicator]['Unit']\n",
    "    fig = px.scatter(df,\n",
    "              x='Year',\n",
    "              y='Value',\n",
    "              color='ISO',\n",
    "              hover_data={'Value': True,\n",
    "                          'Year':False,\n",
    "                          'Country': True,\n",
    "                          'Source': True,\n",
    "                          'From': True},\n",
    "              height=400,)\n",
    "    fig.update_layout(title=title, yaxis_title=xaxis_title)\n",
    "    fig.update_traces(mode='lines+markers')\n",
    "\n",
    "    return fig"
   ]
  },
  {
   "cell_type": "code",
   "execution_count": 185,
   "metadata": {
    "ExecuteTime": {
     "end_time": "2020-11-18T06:19:05.389192Z",
     "start_time": "2020-11-18T06:19:05.294145Z"
    }
   },
   "outputs": [
    {
     "data": {
      "application/vnd.plotly.v1+json": {
       "config": {
        "plotlyServerURL": "https://plot.ly"
       },
       "data": [
        {
         "customdata": [
          [
           4.99,
           2000,
           "France",
           "IEA (2019), World Energy Balances",
           "SDG API  "
          ],
          [
           5.06,
           2001,
           "France",
           "IEA (2019), World Energy Balances",
           "SDG API  "
          ],
          [
           5.01,
           2002,
           "France",
           "IEA (2019), World Energy Balances",
           "SDG API  "
          ],
          [
           5.1,
           2003,
           "France",
           "IEA (2019), World Energy Balances",
           "SDG API  "
          ],
          [
           5.03,
           2004,
           "France",
           "IEA (2019), World Energy Balances",
           "SDG API  "
          ],
          [
           4.97,
           2005,
           "France",
           "IEA (2019), World Energy Balances",
           "SDG API  "
          ],
          [
           4.77,
           2006,
           "France",
           "IEA (2019), World Energy Balances",
           "SDG API  "
          ],
          [
           4.61,
           2007,
           "France",
           "IEA (2019), World Energy Balances",
           "SDG API  "
          ],
          [
           4.62,
           2008,
           "France",
           "IEA (2019), World Energy Balances",
           "SDG API  "
          ],
          [
           4.55,
           2009,
           "France",
           "IEA (2019), World Energy Balances",
           "SDG API  "
          ],
          [
           4.6,
           2010,
           "France",
           "IEA (2019), World Energy Balances",
           "SDG API  "
          ],
          [
           4.4,
           2011,
           "France",
           "IEA (2019), World Energy Balances",
           "SDG API  "
          ],
          [
           4.39,
           2012,
           "France",
           "IEA (2019), World Energy Balances",
           "SDG API  "
          ],
          [
           4.38,
           2013,
           "France",
           "IEA (2019), World Energy Balances",
           "SDG API  "
          ],
          [
           4.17,
           2014,
           "France",
           "IEA (2019), World Energy Balances",
           "SDG API  "
          ],
          [
           4.18,
           2015,
           "France",
           "IEA (2019), World Energy Balances",
           "SDG API  "
          ],
          [
           4.07,
           2016,
           "France",
           "IEA (2019), World Energy Balances",
           "SDG API  "
          ],
          [
           3.97,
           2017,
           "France",
           "IEA (2019), World Energy Balances",
           "SDG API  "
          ],
          [
           3.97,
           2018,
           null,
           "IEA (2019), World Energy Balances",
           "IMPUTED SDG API 2017.0"
          ],
          [
           3.97,
           2019,
           null,
           "IEA (2019), World Energy Balances",
           "IMPUTED SDG API 2017.0"
          ],
          [
           3.97,
           2020,
           null,
           "IEA (2019), World Energy Balances",
           "IMPUTED SDG API 2017.0"
          ]
         ],
         "hovertemplate": "ISO=FRA<br>Value=%{customdata[0]}<br>Country=%{customdata[2]}<br>Source=%{customdata[3]}<br>From=%{customdata[4]}<extra></extra>",
         "legendgroup": "FRA",
         "marker": {
          "color": "#636efa",
          "symbol": "circle"
         },
         "mode": "lines+markers",
         "name": "FRA",
         "orientation": "v",
         "showlegend": true,
         "type": "scatter",
         "x": [
          2000,
          2001,
          2002,
          2003,
          2004,
          2005,
          2006,
          2007,
          2008,
          2009,
          2010,
          2011,
          2012,
          2013,
          2014,
          2015,
          2016,
          2017,
          2018,
          2019,
          2020
         ],
         "xaxis": "x",
         "y": [
          4.99,
          5.06,
          5.01,
          5.1,
          5.03,
          4.97,
          4.77,
          4.61,
          4.62,
          4.55,
          4.6,
          4.4,
          4.39,
          4.38,
          4.17,
          4.18,
          4.07,
          3.97,
          3.97,
          3.97,
          3.97
         ],
         "yaxis": "y"
        },
        {
         "customdata": [
          [
           8.07,
           2000,
           "Republic of Korea",
           "IEA (2019), World Energy Balances",
           "SDG API  "
          ],
          [
           7.84,
           2001,
           "Republic of Korea",
           "IEA (2019), World Energy Balances",
           "SDG API  "
          ],
          [
           7.59,
           2002,
           "Republic of Korea",
           "IEA (2019), World Energy Balances",
           "SDG API  "
          ],
          [
           7.53,
           2003,
           "Republic of Korea",
           "IEA (2019), World Energy Balances",
           "SDG API  "
          ],
          [
           7.37,
           2004,
           "Republic of Korea",
           "IEA (2019), World Energy Balances",
           "SDG API  "
          ],
          [
           7.16,
           2005,
           "Republic of Korea",
           "IEA (2019), World Energy Balances",
           "SDG API  "
          ],
          [
           6.92,
           2006,
           "Republic of Korea",
           "IEA (2019), World Energy Balances",
           "SDG API  "
          ],
          [
           6.82,
           2007,
           "Republic of Korea",
           "IEA (2019), World Energy Balances",
           "SDG API  "
          ],
          [
           6.78,
           2008,
           "Republic of Korea",
           "IEA (2019), World Energy Balances",
           "SDG API  "
          ],
          [
           6.8,
           2009,
           "Republic of Korea",
           "IEA (2019), World Energy Balances",
           "SDG API  "
          ],
          [
           6.96,
           2010,
           "Republic of Korea",
           "IEA (2019), World Energy Balances",
           "SDG API  "
          ],
          [
           6.99,
           2011,
           "Republic of Korea",
           "IEA (2019), World Energy Balances",
           "SDG API  "
          ],
          [
           6.92,
           2012,
           "Republic of Korea",
           "IEA (2019), World Energy Balances",
           "SDG API  "
          ],
          [
           6.73,
           2013,
           "Republic of Korea",
           "IEA (2019), World Energy Balances",
           "SDG API  "
          ],
          [
           6.63,
           2014,
           "Republic of Korea",
           "IEA (2019), World Energy Balances",
           "SDG API  "
          ],
          [
           6.55,
           2015,
           "Republic of Korea",
           "IEA (2019), World Energy Balances",
           "SDG API  "
          ],
          [
           6.59,
           2016,
           "Republic of Korea",
           "IEA (2019), World Energy Balances",
           "SDG API  "
          ],
          [
           6.39,
           2017,
           "Republic of Korea",
           "IEA (2019), World Energy Balances",
           "SDG API  "
          ],
          [
           6.39,
           2018,
           null,
           "IEA (2019), World Energy Balances",
           "IMPUTED SDG API 2017.0"
          ],
          [
           6.39,
           2019,
           null,
           "IEA (2019), World Energy Balances",
           "IMPUTED SDG API 2017.0"
          ],
          [
           6.39,
           2020,
           null,
           "IEA (2019), World Energy Balances",
           "IMPUTED SDG API 2017.0"
          ]
         ],
         "hovertemplate": "ISO=KOR<br>Value=%{customdata[0]}<br>Country=%{customdata[2]}<br>Source=%{customdata[3]}<br>From=%{customdata[4]}<extra></extra>",
         "legendgroup": "KOR",
         "marker": {
          "color": "#EF553B",
          "symbol": "circle"
         },
         "mode": "lines+markers",
         "name": "KOR",
         "orientation": "v",
         "showlegend": true,
         "type": "scatter",
         "x": [
          2000,
          2001,
          2002,
          2003,
          2004,
          2005,
          2006,
          2007,
          2008,
          2009,
          2010,
          2011,
          2012,
          2013,
          2014,
          2015,
          2016,
          2017,
          2018,
          2019,
          2020
         ],
         "xaxis": "x",
         "y": [
          8.07,
          7.84,
          7.59,
          7.53,
          7.37,
          7.16,
          6.92,
          6.82,
          6.78,
          6.8,
          6.96,
          6.99,
          6.92,
          6.73,
          6.63,
          6.55,
          6.59,
          6.39,
          6.39,
          6.39,
          6.39
         ],
         "yaxis": "y"
        },
        {
         "customdata": [
          [
           4.66,
           2000,
           "Germany",
           "IEA (2019), World Energy Balances",
           "SDG API  "
          ],
          [
           4.72,
           2001,
           "Germany",
           "IEA (2019), World Energy Balances",
           "SDG API  "
          ],
          [
           4.62,
           2002,
           "Germany",
           "IEA (2019), World Energy Balances",
           "SDG API  "
          ],
          [
           4.62,
           2003,
           "Germany",
           "IEA (2019), World Energy Balances",
           "SDG API  "
          ],
          [
           4.6,
           2004,
           "Germany",
           "IEA (2019), World Energy Balances",
           "SDG API  "
          ],
          [
           4.55,
           2005,
           "Germany",
           "IEA (2019), World Energy Balances",
           "SDG API  "
          ],
          [
           4.5,
           2006,
           "Germany",
           "IEA (2019), World Energy Balances",
           "SDG API  "
          ],
          [
           4.13,
           2007,
           "Germany",
           "IEA (2019), World Energy Balances",
           "SDG API  "
          ],
          [
           4.12,
           2008,
           "Germany",
           "IEA (2019), World Energy Balances",
           "SDG API  "
          ],
          [
           4.09,
           2009,
           "Germany",
           "IEA (2019), World Energy Balances",
           "SDG API  "
          ],
          [
           4.13,
           2010,
           "Germany",
           "IEA (2019), World Energy Balances",
           "SDG API  "
          ],
          [
           3.79,
           2011,
           "Germany",
           "IEA (2019), World Energy Balances",
           "SDG API  "
          ],
          [
           3.78,
           2012,
           "Germany",
           "IEA (2019), World Energy Balances",
           "SDG API  "
          ],
          [
           3.85,
           2013,
           "Germany",
           "IEA (2019), World Energy Balances",
           "SDG API  "
          ],
          [
           3.62,
           2014,
           "Germany",
           "IEA (2019), World Energy Balances",
           "SDG API  "
          ],
          [
           3.59,
           2015,
           "Germany",
           "IEA (2019), World Energy Balances",
           "SDG API  "
          ],
          [
           3.53,
           2016,
           "Germany",
           "IEA (2019), World Energy Balances",
           "SDG API  "
          ],
          [
           3.47,
           2017,
           "Germany",
           "IEA (2019), World Energy Balances",
           "SDG API  "
          ],
          [
           3.47,
           2018,
           null,
           "IEA (2019), World Energy Balances",
           "IMPUTED SDG API 2017.0"
          ],
          [
           3.47,
           2019,
           null,
           "IEA (2019), World Energy Balances",
           "IMPUTED SDG API 2017.0"
          ],
          [
           3.47,
           2020,
           null,
           "IEA (2019), World Energy Balances",
           "IMPUTED SDG API 2017.0"
          ]
         ],
         "hovertemplate": "ISO=DEU<br>Value=%{customdata[0]}<br>Country=%{customdata[2]}<br>Source=%{customdata[3]}<br>From=%{customdata[4]}<extra></extra>",
         "legendgroup": "DEU",
         "marker": {
          "color": "#00cc96",
          "symbol": "circle"
         },
         "mode": "lines+markers",
         "name": "DEU",
         "orientation": "v",
         "showlegend": true,
         "type": "scatter",
         "x": [
          2000,
          2001,
          2002,
          2003,
          2004,
          2005,
          2006,
          2007,
          2008,
          2009,
          2010,
          2011,
          2012,
          2013,
          2014,
          2015,
          2016,
          2017,
          2018,
          2019,
          2020
         ],
         "xaxis": "x",
         "y": [
          4.66,
          4.72,
          4.62,
          4.62,
          4.6,
          4.55,
          4.5,
          4.13,
          4.12,
          4.09,
          4.13,
          3.79,
          3.78,
          3.85,
          3.62,
          3.59,
          3.53,
          3.47,
          3.47,
          3.47,
          3.47
         ],
         "yaxis": "y"
        }
       ],
       "layout": {
        "height": 400,
        "legend": {
         "title": {
          "text": "ISO"
         },
         "tracegroupgap": 0
        },
        "margin": {
         "t": 60
        },
        "template": {
         "data": {
          "bar": [
           {
            "error_x": {
             "color": "#2a3f5f"
            },
            "error_y": {
             "color": "#2a3f5f"
            },
            "marker": {
             "line": {
              "color": "#E5ECF6",
              "width": 0.5
             }
            },
            "type": "bar"
           }
          ],
          "barpolar": [
           {
            "marker": {
             "line": {
              "color": "#E5ECF6",
              "width": 0.5
             }
            },
            "type": "barpolar"
           }
          ],
          "carpet": [
           {
            "aaxis": {
             "endlinecolor": "#2a3f5f",
             "gridcolor": "white",
             "linecolor": "white",
             "minorgridcolor": "white",
             "startlinecolor": "#2a3f5f"
            },
            "baxis": {
             "endlinecolor": "#2a3f5f",
             "gridcolor": "white",
             "linecolor": "white",
             "minorgridcolor": "white",
             "startlinecolor": "#2a3f5f"
            },
            "type": "carpet"
           }
          ],
          "choropleth": [
           {
            "colorbar": {
             "outlinewidth": 0,
             "ticks": ""
            },
            "type": "choropleth"
           }
          ],
          "contour": [
           {
            "colorbar": {
             "outlinewidth": 0,
             "ticks": ""
            },
            "colorscale": [
             [
              0,
              "#0d0887"
             ],
             [
              0.1111111111111111,
              "#46039f"
             ],
             [
              0.2222222222222222,
              "#7201a8"
             ],
             [
              0.3333333333333333,
              "#9c179e"
             ],
             [
              0.4444444444444444,
              "#bd3786"
             ],
             [
              0.5555555555555556,
              "#d8576b"
             ],
             [
              0.6666666666666666,
              "#ed7953"
             ],
             [
              0.7777777777777778,
              "#fb9f3a"
             ],
             [
              0.8888888888888888,
              "#fdca26"
             ],
             [
              1,
              "#f0f921"
             ]
            ],
            "type": "contour"
           }
          ],
          "contourcarpet": [
           {
            "colorbar": {
             "outlinewidth": 0,
             "ticks": ""
            },
            "type": "contourcarpet"
           }
          ],
          "heatmap": [
           {
            "colorbar": {
             "outlinewidth": 0,
             "ticks": ""
            },
            "colorscale": [
             [
              0,
              "#0d0887"
             ],
             [
              0.1111111111111111,
              "#46039f"
             ],
             [
              0.2222222222222222,
              "#7201a8"
             ],
             [
              0.3333333333333333,
              "#9c179e"
             ],
             [
              0.4444444444444444,
              "#bd3786"
             ],
             [
              0.5555555555555556,
              "#d8576b"
             ],
             [
              0.6666666666666666,
              "#ed7953"
             ],
             [
              0.7777777777777778,
              "#fb9f3a"
             ],
             [
              0.8888888888888888,
              "#fdca26"
             ],
             [
              1,
              "#f0f921"
             ]
            ],
            "type": "heatmap"
           }
          ],
          "heatmapgl": [
           {
            "colorbar": {
             "outlinewidth": 0,
             "ticks": ""
            },
            "colorscale": [
             [
              0,
              "#0d0887"
             ],
             [
              0.1111111111111111,
              "#46039f"
             ],
             [
              0.2222222222222222,
              "#7201a8"
             ],
             [
              0.3333333333333333,
              "#9c179e"
             ],
             [
              0.4444444444444444,
              "#bd3786"
             ],
             [
              0.5555555555555556,
              "#d8576b"
             ],
             [
              0.6666666666666666,
              "#ed7953"
             ],
             [
              0.7777777777777778,
              "#fb9f3a"
             ],
             [
              0.8888888888888888,
              "#fdca26"
             ],
             [
              1,
              "#f0f921"
             ]
            ],
            "type": "heatmapgl"
           }
          ],
          "histogram": [
           {
            "marker": {
             "colorbar": {
              "outlinewidth": 0,
              "ticks": ""
             }
            },
            "type": "histogram"
           }
          ],
          "histogram2d": [
           {
            "colorbar": {
             "outlinewidth": 0,
             "ticks": ""
            },
            "colorscale": [
             [
              0,
              "#0d0887"
             ],
             [
              0.1111111111111111,
              "#46039f"
             ],
             [
              0.2222222222222222,
              "#7201a8"
             ],
             [
              0.3333333333333333,
              "#9c179e"
             ],
             [
              0.4444444444444444,
              "#bd3786"
             ],
             [
              0.5555555555555556,
              "#d8576b"
             ],
             [
              0.6666666666666666,
              "#ed7953"
             ],
             [
              0.7777777777777778,
              "#fb9f3a"
             ],
             [
              0.8888888888888888,
              "#fdca26"
             ],
             [
              1,
              "#f0f921"
             ]
            ],
            "type": "histogram2d"
           }
          ],
          "histogram2dcontour": [
           {
            "colorbar": {
             "outlinewidth": 0,
             "ticks": ""
            },
            "colorscale": [
             [
              0,
              "#0d0887"
             ],
             [
              0.1111111111111111,
              "#46039f"
             ],
             [
              0.2222222222222222,
              "#7201a8"
             ],
             [
              0.3333333333333333,
              "#9c179e"
             ],
             [
              0.4444444444444444,
              "#bd3786"
             ],
             [
              0.5555555555555556,
              "#d8576b"
             ],
             [
              0.6666666666666666,
              "#ed7953"
             ],
             [
              0.7777777777777778,
              "#fb9f3a"
             ],
             [
              0.8888888888888888,
              "#fdca26"
             ],
             [
              1,
              "#f0f921"
             ]
            ],
            "type": "histogram2dcontour"
           }
          ],
          "mesh3d": [
           {
            "colorbar": {
             "outlinewidth": 0,
             "ticks": ""
            },
            "type": "mesh3d"
           }
          ],
          "parcoords": [
           {
            "line": {
             "colorbar": {
              "outlinewidth": 0,
              "ticks": ""
             }
            },
            "type": "parcoords"
           }
          ],
          "pie": [
           {
            "automargin": true,
            "type": "pie"
           }
          ],
          "scatter": [
           {
            "marker": {
             "colorbar": {
              "outlinewidth": 0,
              "ticks": ""
             }
            },
            "type": "scatter"
           }
          ],
          "scatter3d": [
           {
            "line": {
             "colorbar": {
              "outlinewidth": 0,
              "ticks": ""
             }
            },
            "marker": {
             "colorbar": {
              "outlinewidth": 0,
              "ticks": ""
             }
            },
            "type": "scatter3d"
           }
          ],
          "scattercarpet": [
           {
            "marker": {
             "colorbar": {
              "outlinewidth": 0,
              "ticks": ""
             }
            },
            "type": "scattercarpet"
           }
          ],
          "scattergeo": [
           {
            "marker": {
             "colorbar": {
              "outlinewidth": 0,
              "ticks": ""
             }
            },
            "type": "scattergeo"
           }
          ],
          "scattergl": [
           {
            "marker": {
             "colorbar": {
              "outlinewidth": 0,
              "ticks": ""
             }
            },
            "type": "scattergl"
           }
          ],
          "scattermapbox": [
           {
            "marker": {
             "colorbar": {
              "outlinewidth": 0,
              "ticks": ""
             }
            },
            "type": "scattermapbox"
           }
          ],
          "scatterpolar": [
           {
            "marker": {
             "colorbar": {
              "outlinewidth": 0,
              "ticks": ""
             }
            },
            "type": "scatterpolar"
           }
          ],
          "scatterpolargl": [
           {
            "marker": {
             "colorbar": {
              "outlinewidth": 0,
              "ticks": ""
             }
            },
            "type": "scatterpolargl"
           }
          ],
          "scatterternary": [
           {
            "marker": {
             "colorbar": {
              "outlinewidth": 0,
              "ticks": ""
             }
            },
            "type": "scatterternary"
           }
          ],
          "surface": [
           {
            "colorbar": {
             "outlinewidth": 0,
             "ticks": ""
            },
            "colorscale": [
             [
              0,
              "#0d0887"
             ],
             [
              0.1111111111111111,
              "#46039f"
             ],
             [
              0.2222222222222222,
              "#7201a8"
             ],
             [
              0.3333333333333333,
              "#9c179e"
             ],
             [
              0.4444444444444444,
              "#bd3786"
             ],
             [
              0.5555555555555556,
              "#d8576b"
             ],
             [
              0.6666666666666666,
              "#ed7953"
             ],
             [
              0.7777777777777778,
              "#fb9f3a"
             ],
             [
              0.8888888888888888,
              "#fdca26"
             ],
             [
              1,
              "#f0f921"
             ]
            ],
            "type": "surface"
           }
          ],
          "table": [
           {
            "cells": {
             "fill": {
              "color": "#EBF0F8"
             },
             "line": {
              "color": "white"
             }
            },
            "header": {
             "fill": {
              "color": "#C8D4E3"
             },
             "line": {
              "color": "white"
             }
            },
            "type": "table"
           }
          ]
         },
         "layout": {
          "annotationdefaults": {
           "arrowcolor": "#2a3f5f",
           "arrowhead": 0,
           "arrowwidth": 1
          },
          "coloraxis": {
           "colorbar": {
            "outlinewidth": 0,
            "ticks": ""
           }
          },
          "colorscale": {
           "diverging": [
            [
             0,
             "#8e0152"
            ],
            [
             0.1,
             "#c51b7d"
            ],
            [
             0.2,
             "#de77ae"
            ],
            [
             0.3,
             "#f1b6da"
            ],
            [
             0.4,
             "#fde0ef"
            ],
            [
             0.5,
             "#f7f7f7"
            ],
            [
             0.6,
             "#e6f5d0"
            ],
            [
             0.7,
             "#b8e186"
            ],
            [
             0.8,
             "#7fbc41"
            ],
            [
             0.9,
             "#4d9221"
            ],
            [
             1,
             "#276419"
            ]
           ],
           "sequential": [
            [
             0,
             "#0d0887"
            ],
            [
             0.1111111111111111,
             "#46039f"
            ],
            [
             0.2222222222222222,
             "#7201a8"
            ],
            [
             0.3333333333333333,
             "#9c179e"
            ],
            [
             0.4444444444444444,
             "#bd3786"
            ],
            [
             0.5555555555555556,
             "#d8576b"
            ],
            [
             0.6666666666666666,
             "#ed7953"
            ],
            [
             0.7777777777777778,
             "#fb9f3a"
            ],
            [
             0.8888888888888888,
             "#fdca26"
            ],
            [
             1,
             "#f0f921"
            ]
           ],
           "sequentialminus": [
            [
             0,
             "#0d0887"
            ],
            [
             0.1111111111111111,
             "#46039f"
            ],
            [
             0.2222222222222222,
             "#7201a8"
            ],
            [
             0.3333333333333333,
             "#9c179e"
            ],
            [
             0.4444444444444444,
             "#bd3786"
            ],
            [
             0.5555555555555556,
             "#d8576b"
            ],
            [
             0.6666666666666666,
             "#ed7953"
            ],
            [
             0.7777777777777778,
             "#fb9f3a"
            ],
            [
             0.8888888888888888,
             "#fdca26"
            ],
            [
             1,
             "#f0f921"
            ]
           ]
          },
          "colorway": [
           "#636efa",
           "#EF553B",
           "#00cc96",
           "#ab63fa",
           "#FFA15A",
           "#19d3f3",
           "#FF6692",
           "#B6E880",
           "#FF97FF",
           "#FECB52"
          ],
          "font": {
           "color": "#2a3f5f"
          },
          "geo": {
           "bgcolor": "white",
           "lakecolor": "white",
           "landcolor": "#E5ECF6",
           "showlakes": true,
           "showland": true,
           "subunitcolor": "white"
          },
          "hoverlabel": {
           "align": "left"
          },
          "hovermode": "closest",
          "mapbox": {
           "style": "light"
          },
          "paper_bgcolor": "white",
          "plot_bgcolor": "#E5ECF6",
          "polar": {
           "angularaxis": {
            "gridcolor": "white",
            "linecolor": "white",
            "ticks": ""
           },
           "bgcolor": "#E5ECF6",
           "radialaxis": {
            "gridcolor": "white",
            "linecolor": "white",
            "ticks": ""
           }
          },
          "scene": {
           "xaxis": {
            "backgroundcolor": "#E5ECF6",
            "gridcolor": "white",
            "gridwidth": 2,
            "linecolor": "white",
            "showbackground": true,
            "ticks": "",
            "zerolinecolor": "white"
           },
           "yaxis": {
            "backgroundcolor": "#E5ECF6",
            "gridcolor": "white",
            "gridwidth": 2,
            "linecolor": "white",
            "showbackground": true,
            "ticks": "",
            "zerolinecolor": "white"
           },
           "zaxis": {
            "backgroundcolor": "#E5ECF6",
            "gridcolor": "white",
            "gridwidth": 2,
            "linecolor": "white",
            "showbackground": true,
            "ticks": "",
            "zerolinecolor": "white"
           }
          },
          "shapedefaults": {
           "line": {
            "color": "#2a3f5f"
           }
          },
          "ternary": {
           "aaxis": {
            "gridcolor": "white",
            "linecolor": "white",
            "ticks": ""
           },
           "baxis": {
            "gridcolor": "white",
            "linecolor": "white",
            "ticks": ""
           },
           "bgcolor": "#E5ECF6",
           "caxis": {
            "gridcolor": "white",
            "linecolor": "white",
            "ticks": ""
           }
          },
          "title": {
           "x": 0.05
          },
          "xaxis": {
           "automargin": true,
           "gridcolor": "white",
           "linecolor": "white",
           "ticks": "",
           "title": {
            "standoff": 15
           },
           "zerolinecolor": "white",
           "zerolinewidth": 2
          },
          "yaxis": {
           "automargin": true,
           "gridcolor": "white",
           "linecolor": "white",
           "ticks": "",
           "title": {
            "standoff": 15
           },
           "zerolinecolor": "white",
           "zerolinewidth": 2
          }
         }
        },
        "title": {
         "text": "Energy intensity level of primary energy"
        },
        "xaxis": {
         "anchor": "y",
         "domain": [
          0,
          1
         ],
         "title": {
          "text": "Year"
         }
        },
        "yaxis": {
         "anchor": "x",
         "domain": [
          0,
          1
         ],
         "title": {
          "text": "Megajoules per constant 2011 purchasing power parity GDP"
         }
        }
       }
      },
      "text/html": [
       "<div>\n",
       "        \n",
       "        \n",
       "            <div id=\"61a0fa87-bcd8-44e1-bfe4-b0c4bf85cc5f\" class=\"plotly-graph-div\" style=\"height:400px; width:100%;\"></div>\n",
       "            <script type=\"text/javascript\">\n",
       "                require([\"plotly\"], function(Plotly) {\n",
       "                    window.PLOTLYENV=window.PLOTLYENV || {};\n",
       "                    \n",
       "                if (document.getElementById(\"61a0fa87-bcd8-44e1-bfe4-b0c4bf85cc5f\")) {\n",
       "                    Plotly.newPlot(\n",
       "                        '61a0fa87-bcd8-44e1-bfe4-b0c4bf85cc5f',\n",
       "                        [{\"customdata\": [[4.99, 2000.0, \"France\", \"IEA (2019), World Energy Balances\", \"SDG API  \"], [5.06, 2001.0, \"France\", \"IEA (2019), World Energy Balances\", \"SDG API  \"], [5.01, 2002.0, \"France\", \"IEA (2019), World Energy Balances\", \"SDG API  \"], [5.1, 2003.0, \"France\", \"IEA (2019), World Energy Balances\", \"SDG API  \"], [5.03, 2004.0, \"France\", \"IEA (2019), World Energy Balances\", \"SDG API  \"], [4.97, 2005.0, \"France\", \"IEA (2019), World Energy Balances\", \"SDG API  \"], [4.77, 2006.0, \"France\", \"IEA (2019), World Energy Balances\", \"SDG API  \"], [4.61, 2007.0, \"France\", \"IEA (2019), World Energy Balances\", \"SDG API  \"], [4.62, 2008.0, \"France\", \"IEA (2019), World Energy Balances\", \"SDG API  \"], [4.55, 2009.0, \"France\", \"IEA (2019), World Energy Balances\", \"SDG API  \"], [4.6, 2010.0, \"France\", \"IEA (2019), World Energy Balances\", \"SDG API  \"], [4.4, 2011.0, \"France\", \"IEA (2019), World Energy Balances\", \"SDG API  \"], [4.39, 2012.0, \"France\", \"IEA (2019), World Energy Balances\", \"SDG API  \"], [4.38, 2013.0, \"France\", \"IEA (2019), World Energy Balances\", \"SDG API  \"], [4.17, 2014.0, \"France\", \"IEA (2019), World Energy Balances\", \"SDG API  \"], [4.18, 2015.0, \"France\", \"IEA (2019), World Energy Balances\", \"SDG API  \"], [4.07, 2016.0, \"France\", \"IEA (2019), World Energy Balances\", \"SDG API  \"], [3.97, 2017.0, \"France\", \"IEA (2019), World Energy Balances\", \"SDG API  \"], [3.97, 2018.0, null, \"IEA (2019), World Energy Balances\", \"IMPUTED SDG API 2017.0\"], [3.97, 2019.0, null, \"IEA (2019), World Energy Balances\", \"IMPUTED SDG API 2017.0\"], [3.97, 2020.0, null, \"IEA (2019), World Energy Balances\", \"IMPUTED SDG API 2017.0\"]], \"hovertemplate\": \"ISO=FRA<br>Value=%{customdata[0]}<br>Country=%{customdata[2]}<br>Source=%{customdata[3]}<br>From=%{customdata[4]}<extra></extra>\", \"legendgroup\": \"FRA\", \"marker\": {\"color\": \"#636efa\", \"symbol\": \"circle\"}, \"mode\": \"lines+markers\", \"name\": \"FRA\", \"orientation\": \"v\", \"showlegend\": true, \"type\": \"scatter\", \"x\": [2000, 2001, 2002, 2003, 2004, 2005, 2006, 2007, 2008, 2009, 2010, 2011, 2012, 2013, 2014, 2015, 2016, 2017, 2018, 2019, 2020], \"xaxis\": \"x\", \"y\": [4.99, 5.06, 5.01, 5.1, 5.03, 4.97, 4.77, 4.61, 4.62, 4.55, 4.6, 4.4, 4.39, 4.38, 4.17, 4.18, 4.07, 3.97, 3.97, 3.97, 3.97], \"yaxis\": \"y\"}, {\"customdata\": [[8.07, 2000.0, \"Republic of Korea\", \"IEA (2019), World Energy Balances\", \"SDG API  \"], [7.84, 2001.0, \"Republic of Korea\", \"IEA (2019), World Energy Balances\", \"SDG API  \"], [7.59, 2002.0, \"Republic of Korea\", \"IEA (2019), World Energy Balances\", \"SDG API  \"], [7.53, 2003.0, \"Republic of Korea\", \"IEA (2019), World Energy Balances\", \"SDG API  \"], [7.37, 2004.0, \"Republic of Korea\", \"IEA (2019), World Energy Balances\", \"SDG API  \"], [7.16, 2005.0, \"Republic of Korea\", \"IEA (2019), World Energy Balances\", \"SDG API  \"], [6.92, 2006.0, \"Republic of Korea\", \"IEA (2019), World Energy Balances\", \"SDG API  \"], [6.82, 2007.0, \"Republic of Korea\", \"IEA (2019), World Energy Balances\", \"SDG API  \"], [6.78, 2008.0, \"Republic of Korea\", \"IEA (2019), World Energy Balances\", \"SDG API  \"], [6.8, 2009.0, \"Republic of Korea\", \"IEA (2019), World Energy Balances\", \"SDG API  \"], [6.96, 2010.0, \"Republic of Korea\", \"IEA (2019), World Energy Balances\", \"SDG API  \"], [6.99, 2011.0, \"Republic of Korea\", \"IEA (2019), World Energy Balances\", \"SDG API  \"], [6.92, 2012.0, \"Republic of Korea\", \"IEA (2019), World Energy Balances\", \"SDG API  \"], [6.73, 2013.0, \"Republic of Korea\", \"IEA (2019), World Energy Balances\", \"SDG API  \"], [6.63, 2014.0, \"Republic of Korea\", \"IEA (2019), World Energy Balances\", \"SDG API  \"], [6.55, 2015.0, \"Republic of Korea\", \"IEA (2019), World Energy Balances\", \"SDG API  \"], [6.59, 2016.0, \"Republic of Korea\", \"IEA (2019), World Energy Balances\", \"SDG API  \"], [6.39, 2017.0, \"Republic of Korea\", \"IEA (2019), World Energy Balances\", \"SDG API  \"], [6.39, 2018.0, null, \"IEA (2019), World Energy Balances\", \"IMPUTED SDG API 2017.0\"], [6.39, 2019.0, null, \"IEA (2019), World Energy Balances\", \"IMPUTED SDG API 2017.0\"], [6.39, 2020.0, null, \"IEA (2019), World Energy Balances\", \"IMPUTED SDG API 2017.0\"]], \"hovertemplate\": \"ISO=KOR<br>Value=%{customdata[0]}<br>Country=%{customdata[2]}<br>Source=%{customdata[3]}<br>From=%{customdata[4]}<extra></extra>\", \"legendgroup\": \"KOR\", \"marker\": {\"color\": \"#EF553B\", \"symbol\": \"circle\"}, \"mode\": \"lines+markers\", \"name\": \"KOR\", \"orientation\": \"v\", \"showlegend\": true, \"type\": \"scatter\", \"x\": [2000, 2001, 2002, 2003, 2004, 2005, 2006, 2007, 2008, 2009, 2010, 2011, 2012, 2013, 2014, 2015, 2016, 2017, 2018, 2019, 2020], \"xaxis\": \"x\", \"y\": [8.07, 7.84, 7.59, 7.53, 7.37, 7.16, 6.92, 6.82, 6.78, 6.8, 6.96, 6.99, 6.92, 6.73, 6.63, 6.55, 6.59, 6.39, 6.39, 6.39, 6.39], \"yaxis\": \"y\"}, {\"customdata\": [[4.66, 2000.0, \"Germany\", \"IEA (2019), World Energy Balances\", \"SDG API  \"], [4.72, 2001.0, \"Germany\", \"IEA (2019), World Energy Balances\", \"SDG API  \"], [4.62, 2002.0, \"Germany\", \"IEA (2019), World Energy Balances\", \"SDG API  \"], [4.62, 2003.0, \"Germany\", \"IEA (2019), World Energy Balances\", \"SDG API  \"], [4.6, 2004.0, \"Germany\", \"IEA (2019), World Energy Balances\", \"SDG API  \"], [4.55, 2005.0, \"Germany\", \"IEA (2019), World Energy Balances\", \"SDG API  \"], [4.5, 2006.0, \"Germany\", \"IEA (2019), World Energy Balances\", \"SDG API  \"], [4.13, 2007.0, \"Germany\", \"IEA (2019), World Energy Balances\", \"SDG API  \"], [4.12, 2008.0, \"Germany\", \"IEA (2019), World Energy Balances\", \"SDG API  \"], [4.09, 2009.0, \"Germany\", \"IEA (2019), World Energy Balances\", \"SDG API  \"], [4.13, 2010.0, \"Germany\", \"IEA (2019), World Energy Balances\", \"SDG API  \"], [3.79, 2011.0, \"Germany\", \"IEA (2019), World Energy Balances\", \"SDG API  \"], [3.78, 2012.0, \"Germany\", \"IEA (2019), World Energy Balances\", \"SDG API  \"], [3.85, 2013.0, \"Germany\", \"IEA (2019), World Energy Balances\", \"SDG API  \"], [3.62, 2014.0, \"Germany\", \"IEA (2019), World Energy Balances\", \"SDG API  \"], [3.59, 2015.0, \"Germany\", \"IEA (2019), World Energy Balances\", \"SDG API  \"], [3.53, 2016.0, \"Germany\", \"IEA (2019), World Energy Balances\", \"SDG API  \"], [3.47, 2017.0, \"Germany\", \"IEA (2019), World Energy Balances\", \"SDG API  \"], [3.47, 2018.0, null, \"IEA (2019), World Energy Balances\", \"IMPUTED SDG API 2017.0\"], [3.47, 2019.0, null, \"IEA (2019), World Energy Balances\", \"IMPUTED SDG API 2017.0\"], [3.47, 2020.0, null, \"IEA (2019), World Energy Balances\", \"IMPUTED SDG API 2017.0\"]], \"hovertemplate\": \"ISO=DEU<br>Value=%{customdata[0]}<br>Country=%{customdata[2]}<br>Source=%{customdata[3]}<br>From=%{customdata[4]}<extra></extra>\", \"legendgroup\": \"DEU\", \"marker\": {\"color\": \"#00cc96\", \"symbol\": \"circle\"}, \"mode\": \"lines+markers\", \"name\": \"DEU\", \"orientation\": \"v\", \"showlegend\": true, \"type\": \"scatter\", \"x\": [2000, 2001, 2002, 2003, 2004, 2005, 2006, 2007, 2008, 2009, 2010, 2011, 2012, 2013, 2014, 2015, 2016, 2017, 2018, 2019, 2020], \"xaxis\": \"x\", \"y\": [4.66, 4.72, 4.62, 4.62, 4.6, 4.55, 4.5, 4.13, 4.12, 4.09, 4.13, 3.79, 3.78, 3.85, 3.62, 3.59, 3.53, 3.47, 3.47, 3.47, 3.47], \"yaxis\": \"y\"}],\n",
       "                        {\"height\": 400, \"legend\": {\"title\": {\"text\": \"ISO\"}, \"tracegroupgap\": 0}, \"margin\": {\"t\": 60}, \"template\": {\"data\": {\"bar\": [{\"error_x\": {\"color\": \"#2a3f5f\"}, \"error_y\": {\"color\": \"#2a3f5f\"}, \"marker\": {\"line\": {\"color\": \"#E5ECF6\", \"width\": 0.5}}, \"type\": \"bar\"}], \"barpolar\": [{\"marker\": {\"line\": {\"color\": \"#E5ECF6\", \"width\": 0.5}}, \"type\": \"barpolar\"}], \"carpet\": [{\"aaxis\": {\"endlinecolor\": \"#2a3f5f\", \"gridcolor\": \"white\", \"linecolor\": \"white\", \"minorgridcolor\": \"white\", \"startlinecolor\": \"#2a3f5f\"}, \"baxis\": {\"endlinecolor\": \"#2a3f5f\", \"gridcolor\": \"white\", \"linecolor\": \"white\", \"minorgridcolor\": \"white\", \"startlinecolor\": \"#2a3f5f\"}, \"type\": \"carpet\"}], \"choropleth\": [{\"colorbar\": {\"outlinewidth\": 0, \"ticks\": \"\"}, \"type\": \"choropleth\"}], \"contour\": [{\"colorbar\": {\"outlinewidth\": 0, \"ticks\": \"\"}, \"colorscale\": [[0.0, \"#0d0887\"], [0.1111111111111111, \"#46039f\"], [0.2222222222222222, \"#7201a8\"], [0.3333333333333333, \"#9c179e\"], [0.4444444444444444, \"#bd3786\"], [0.5555555555555556, \"#d8576b\"], [0.6666666666666666, \"#ed7953\"], [0.7777777777777778, \"#fb9f3a\"], [0.8888888888888888, \"#fdca26\"], [1.0, \"#f0f921\"]], \"type\": \"contour\"}], \"contourcarpet\": [{\"colorbar\": {\"outlinewidth\": 0, \"ticks\": \"\"}, \"type\": \"contourcarpet\"}], \"heatmap\": [{\"colorbar\": {\"outlinewidth\": 0, \"ticks\": \"\"}, \"colorscale\": [[0.0, \"#0d0887\"], [0.1111111111111111, \"#46039f\"], [0.2222222222222222, \"#7201a8\"], [0.3333333333333333, \"#9c179e\"], [0.4444444444444444, \"#bd3786\"], [0.5555555555555556, \"#d8576b\"], [0.6666666666666666, \"#ed7953\"], [0.7777777777777778, \"#fb9f3a\"], [0.8888888888888888, \"#fdca26\"], [1.0, \"#f0f921\"]], \"type\": \"heatmap\"}], \"heatmapgl\": [{\"colorbar\": {\"outlinewidth\": 0, \"ticks\": \"\"}, \"colorscale\": [[0.0, \"#0d0887\"], [0.1111111111111111, \"#46039f\"], [0.2222222222222222, \"#7201a8\"], [0.3333333333333333, \"#9c179e\"], [0.4444444444444444, \"#bd3786\"], [0.5555555555555556, \"#d8576b\"], [0.6666666666666666, \"#ed7953\"], [0.7777777777777778, \"#fb9f3a\"], [0.8888888888888888, \"#fdca26\"], [1.0, \"#f0f921\"]], \"type\": \"heatmapgl\"}], \"histogram\": [{\"marker\": {\"colorbar\": {\"outlinewidth\": 0, \"ticks\": \"\"}}, \"type\": \"histogram\"}], \"histogram2d\": [{\"colorbar\": {\"outlinewidth\": 0, \"ticks\": \"\"}, \"colorscale\": [[0.0, \"#0d0887\"], [0.1111111111111111, \"#46039f\"], [0.2222222222222222, \"#7201a8\"], [0.3333333333333333, \"#9c179e\"], [0.4444444444444444, \"#bd3786\"], [0.5555555555555556, \"#d8576b\"], [0.6666666666666666, \"#ed7953\"], [0.7777777777777778, \"#fb9f3a\"], [0.8888888888888888, \"#fdca26\"], [1.0, \"#f0f921\"]], \"type\": \"histogram2d\"}], \"histogram2dcontour\": [{\"colorbar\": {\"outlinewidth\": 0, \"ticks\": \"\"}, \"colorscale\": [[0.0, \"#0d0887\"], [0.1111111111111111, \"#46039f\"], [0.2222222222222222, \"#7201a8\"], [0.3333333333333333, \"#9c179e\"], [0.4444444444444444, \"#bd3786\"], [0.5555555555555556, \"#d8576b\"], [0.6666666666666666, \"#ed7953\"], [0.7777777777777778, \"#fb9f3a\"], [0.8888888888888888, \"#fdca26\"], [1.0, \"#f0f921\"]], \"type\": \"histogram2dcontour\"}], \"mesh3d\": [{\"colorbar\": {\"outlinewidth\": 0, \"ticks\": \"\"}, \"type\": \"mesh3d\"}], \"parcoords\": [{\"line\": {\"colorbar\": {\"outlinewidth\": 0, \"ticks\": \"\"}}, \"type\": \"parcoords\"}], \"pie\": [{\"automargin\": true, \"type\": \"pie\"}], \"scatter\": [{\"marker\": {\"colorbar\": {\"outlinewidth\": 0, \"ticks\": \"\"}}, \"type\": \"scatter\"}], \"scatter3d\": [{\"line\": {\"colorbar\": {\"outlinewidth\": 0, \"ticks\": \"\"}}, \"marker\": {\"colorbar\": {\"outlinewidth\": 0, \"ticks\": \"\"}}, \"type\": \"scatter3d\"}], \"scattercarpet\": [{\"marker\": {\"colorbar\": {\"outlinewidth\": 0, \"ticks\": \"\"}}, \"type\": \"scattercarpet\"}], \"scattergeo\": [{\"marker\": {\"colorbar\": {\"outlinewidth\": 0, \"ticks\": \"\"}}, \"type\": \"scattergeo\"}], \"scattergl\": [{\"marker\": {\"colorbar\": {\"outlinewidth\": 0, \"ticks\": \"\"}}, \"type\": \"scattergl\"}], \"scattermapbox\": [{\"marker\": {\"colorbar\": {\"outlinewidth\": 0, \"ticks\": \"\"}}, \"type\": \"scattermapbox\"}], \"scatterpolar\": [{\"marker\": {\"colorbar\": {\"outlinewidth\": 0, \"ticks\": \"\"}}, \"type\": \"scatterpolar\"}], \"scatterpolargl\": [{\"marker\": {\"colorbar\": {\"outlinewidth\": 0, \"ticks\": \"\"}}, \"type\": \"scatterpolargl\"}], \"scatterternary\": [{\"marker\": {\"colorbar\": {\"outlinewidth\": 0, \"ticks\": \"\"}}, \"type\": \"scatterternary\"}], \"surface\": [{\"colorbar\": {\"outlinewidth\": 0, \"ticks\": \"\"}, \"colorscale\": [[0.0, \"#0d0887\"], [0.1111111111111111, \"#46039f\"], [0.2222222222222222, \"#7201a8\"], [0.3333333333333333, \"#9c179e\"], [0.4444444444444444, \"#bd3786\"], [0.5555555555555556, \"#d8576b\"], [0.6666666666666666, \"#ed7953\"], [0.7777777777777778, \"#fb9f3a\"], [0.8888888888888888, \"#fdca26\"], [1.0, \"#f0f921\"]], \"type\": \"surface\"}], \"table\": [{\"cells\": {\"fill\": {\"color\": \"#EBF0F8\"}, \"line\": {\"color\": \"white\"}}, \"header\": {\"fill\": {\"color\": \"#C8D4E3\"}, \"line\": {\"color\": \"white\"}}, \"type\": \"table\"}]}, \"layout\": {\"annotationdefaults\": {\"arrowcolor\": \"#2a3f5f\", \"arrowhead\": 0, \"arrowwidth\": 1}, \"coloraxis\": {\"colorbar\": {\"outlinewidth\": 0, \"ticks\": \"\"}}, \"colorscale\": {\"diverging\": [[0, \"#8e0152\"], [0.1, \"#c51b7d\"], [0.2, \"#de77ae\"], [0.3, \"#f1b6da\"], [0.4, \"#fde0ef\"], [0.5, \"#f7f7f7\"], [0.6, \"#e6f5d0\"], [0.7, \"#b8e186\"], [0.8, \"#7fbc41\"], [0.9, \"#4d9221\"], [1, \"#276419\"]], \"sequential\": [[0.0, \"#0d0887\"], [0.1111111111111111, \"#46039f\"], [0.2222222222222222, \"#7201a8\"], [0.3333333333333333, \"#9c179e\"], [0.4444444444444444, \"#bd3786\"], [0.5555555555555556, \"#d8576b\"], [0.6666666666666666, \"#ed7953\"], [0.7777777777777778, \"#fb9f3a\"], [0.8888888888888888, \"#fdca26\"], [1.0, \"#f0f921\"]], \"sequentialminus\": [[0.0, \"#0d0887\"], [0.1111111111111111, \"#46039f\"], [0.2222222222222222, \"#7201a8\"], [0.3333333333333333, \"#9c179e\"], [0.4444444444444444, \"#bd3786\"], [0.5555555555555556, \"#d8576b\"], [0.6666666666666666, \"#ed7953\"], [0.7777777777777778, \"#fb9f3a\"], [0.8888888888888888, \"#fdca26\"], [1.0, \"#f0f921\"]]}, \"colorway\": [\"#636efa\", \"#EF553B\", \"#00cc96\", \"#ab63fa\", \"#FFA15A\", \"#19d3f3\", \"#FF6692\", \"#B6E880\", \"#FF97FF\", \"#FECB52\"], \"font\": {\"color\": \"#2a3f5f\"}, \"geo\": {\"bgcolor\": \"white\", \"lakecolor\": \"white\", \"landcolor\": \"#E5ECF6\", \"showlakes\": true, \"showland\": true, \"subunitcolor\": \"white\"}, \"hoverlabel\": {\"align\": \"left\"}, \"hovermode\": \"closest\", \"mapbox\": {\"style\": \"light\"}, \"paper_bgcolor\": \"white\", \"plot_bgcolor\": \"#E5ECF6\", \"polar\": {\"angularaxis\": {\"gridcolor\": \"white\", \"linecolor\": \"white\", \"ticks\": \"\"}, \"bgcolor\": \"#E5ECF6\", \"radialaxis\": {\"gridcolor\": \"white\", \"linecolor\": \"white\", \"ticks\": \"\"}}, \"scene\": {\"xaxis\": {\"backgroundcolor\": \"#E5ECF6\", \"gridcolor\": \"white\", \"gridwidth\": 2, \"linecolor\": \"white\", \"showbackground\": true, \"ticks\": \"\", \"zerolinecolor\": \"white\"}, \"yaxis\": {\"backgroundcolor\": \"#E5ECF6\", \"gridcolor\": \"white\", \"gridwidth\": 2, \"linecolor\": \"white\", \"showbackground\": true, \"ticks\": \"\", \"zerolinecolor\": \"white\"}, \"zaxis\": {\"backgroundcolor\": \"#E5ECF6\", \"gridcolor\": \"white\", \"gridwidth\": 2, \"linecolor\": \"white\", \"showbackground\": true, \"ticks\": \"\", \"zerolinecolor\": \"white\"}}, \"shapedefaults\": {\"line\": {\"color\": \"#2a3f5f\"}}, \"ternary\": {\"aaxis\": {\"gridcolor\": \"white\", \"linecolor\": \"white\", \"ticks\": \"\"}, \"baxis\": {\"gridcolor\": \"white\", \"linecolor\": \"white\", \"ticks\": \"\"}, \"bgcolor\": \"#E5ECF6\", \"caxis\": {\"gridcolor\": \"white\", \"linecolor\": \"white\", \"ticks\": \"\"}}, \"title\": {\"x\": 0.05}, \"xaxis\": {\"automargin\": true, \"gridcolor\": \"white\", \"linecolor\": \"white\", \"ticks\": \"\", \"title\": {\"standoff\": 15}, \"zerolinecolor\": \"white\", \"zerolinewidth\": 2}, \"yaxis\": {\"automargin\": true, \"gridcolor\": \"white\", \"linecolor\": \"white\", \"ticks\": \"\", \"title\": {\"standoff\": 15}, \"zerolinecolor\": \"white\", \"zerolinewidth\": 2}}}, \"title\": {\"text\": \"Energy intensity level of primary energy\"}, \"xaxis\": {\"anchor\": \"y\", \"domain\": [0.0, 1.0], \"title\": {\"text\": \"Year\"}}, \"yaxis\": {\"anchor\": \"x\", \"domain\": [0.0, 1.0], \"title\": {\"text\": \"Megajoules per constant 2011 purchasing power parity GDP\"}}},\n",
       "                        {\"responsive\": true}\n",
       "                    ).then(function(){\n",
       "                            \n",
       "var gd = document.getElementById('61a0fa87-bcd8-44e1-bfe4-b0c4bf85cc5f');\n",
       "var x = new MutationObserver(function (mutations, observer) {{\n",
       "        var display = window.getComputedStyle(gd).display;\n",
       "        if (!display || display === 'none') {{\n",
       "            console.log([gd, 'removed!']);\n",
       "            Plotly.purge(gd);\n",
       "            observer.disconnect();\n",
       "        }}\n",
       "}});\n",
       "\n",
       "// Listen for the removal of the full notebook cells\n",
       "var notebookContainer = gd.closest('#notebook-container');\n",
       "if (notebookContainer) {{\n",
       "    x.observe(notebookContainer, {childList: true});\n",
       "}}\n",
       "\n",
       "// Listen for the clearing of the current output cell\n",
       "var outputEl = gd.closest('.output');\n",
       "if (outputEl) {{\n",
       "    x.observe(outputEl, {childList: true});\n",
       "}}\n",
       "\n",
       "                        })\n",
       "                };\n",
       "                });\n",
       "            </script>\n",
       "        </div>"
      ]
     },
     "metadata": {},
     "output_type": "display_data"
    }
   ],
   "source": [
    "indicator_line_charts(data, indicator_properties, ISO_list, Indicator)"
   ]
  },
  {
   "cell_type": "code",
   "execution_count": null,
   "metadata": {},
   "outputs": [],
   "source": []
  }
 ],
 "metadata": {
  "kernelspec": {
   "display_name": "Python 3",
   "language": "python",
   "name": "python3"
  },
  "language_info": {
   "codemirror_mode": {
    "name": "ipython",
    "version": 3
   },
   "file_extension": ".py",
   "mimetype": "text/x-python",
   "name": "python",
   "nbconvert_exporter": "python",
   "pygments_lexer": "ipython3",
   "version": "3.7.7"
  }
 },
 "nbformat": 4,
 "nbformat_minor": 4
}
