{
 "cells": [
  {
   "cell_type": "code",
   "execution_count": 121,
   "metadata": {
    "ExecuteTime": {
     "end_time": "2021-09-15T01:52:43.587857Z",
     "start_time": "2021-09-15T01:52:43.583188Z"
    }
   },
   "outputs": [],
   "source": [
    "import pandas as pd\n",
    "from app import indicator_data, indicator_properties, data"
   ]
  },
  {
   "cell_type": "code",
   "execution_count": 73,
   "metadata": {
    "ExecuteTime": {
     "end_time": "2021-09-15T01:44:18.836738Z",
     "start_time": "2021-09-15T01:44:18.824305Z"
    }
   },
   "outputs": [],
   "source": [
    "def get_missing_values_stat(data, indicator_properties, max_year=2019, min_year=2005):\n",
    "    data = data[(data.Year >= min_year) & (data.Year <= max_year)]\n",
    "    data = pd.merge(data, indicator_properties, on='Indicator').astype({'Year': int})\n",
    "    \n",
    "    \n",
    "    \n",
    "\n",
    "    \n",
    "    total_points = (indicator_properties.groupby('Category').Indicator.count() * (max_year - min_year + 1))\n",
    "    \n",
    "    df =  data.groupby(['ISO', 'Category']).apply(lambda x: x['Imputed'].sum()).divide(total_points) * 100\n",
    "    \n",
    "    ISOs = data.ISO.unique()\n",
    "    Categorys = indicator_properties.Category.unique()\n",
    "    full_index = pd.MultiIndex.from_product([ISOs, Categorys],\n",
    "                               names=['ISO', 'Category'])\n",
    "    \n",
    "    return (100 - df.reindex(full_index, fill_value=100)).round(1).to_frame(name='Data availability (%)')\n"
   ]
  },
  {
   "cell_type": "code",
   "execution_count": 74,
   "metadata": {
    "ExecuteTime": {
     "end_time": "2021-09-15T01:44:19.604198Z",
     "start_time": "2021-09-15T01:44:18.963997Z"
    }
   },
   "outputs": [],
   "source": [
    "missing_data = get_missing_values_stat(indicator_data, indicator_properties)#.reset_index().set_index(['ISO', 'Category'])"
   ]
  },
  {
   "cell_type": "code",
   "execution_count": 130,
   "metadata": {
    "ExecuteTime": {
     "end_time": "2021-09-15T01:54:41.752133Z",
     "start_time": "2021-09-15T01:54:41.685941Z"
    }
   },
   "outputs": [
    {
     "data": {
      "text/html": [
       "<div>\n",
       "<style scoped>\n",
       "    .dataframe tbody tr th:only-of-type {\n",
       "        vertical-align: middle;\n",
       "    }\n",
       "\n",
       "    .dataframe tbody tr th {\n",
       "        vertical-align: top;\n",
       "    }\n",
       "\n",
       "    .dataframe thead th {\n",
       "        text-align: right;\n",
       "    }\n",
       "</style>\n",
       "<table border=\"1\" class=\"dataframe\">\n",
       "  <thead>\n",
       "    <tr style=\"text-align: right;\">\n",
       "      <th></th>\n",
       "      <th>ISO</th>\n",
       "      <th>Category</th>\n",
       "      <th>Data availability (%)</th>\n",
       "      <th>Variable_name</th>\n",
       "      <th>Variable</th>\n",
       "    </tr>\n",
       "  </thead>\n",
       "  <tbody>\n",
       "    <tr>\n",
       "      <th>0</th>\n",
       "      <td>ALB</td>\n",
       "      <td>GE</td>\n",
       "      <td>100.0</td>\n",
       "      <td>Greenhouse gas emissions reductions</td>\n",
       "      <td>GE</td>\n",
       "    </tr>\n",
       "    <tr>\n",
       "      <th>1</th>\n",
       "      <td>AND</td>\n",
       "      <td>GE</td>\n",
       "      <td>100.0</td>\n",
       "      <td>Greenhouse gas emissions reductions</td>\n",
       "      <td>GE</td>\n",
       "    </tr>\n",
       "    <tr>\n",
       "      <th>2</th>\n",
       "      <td>ARE</td>\n",
       "      <td>GE</td>\n",
       "      <td>100.0</td>\n",
       "      <td>Greenhouse gas emissions reductions</td>\n",
       "      <td>GE</td>\n",
       "    </tr>\n",
       "    <tr>\n",
       "      <th>3</th>\n",
       "      <td>ARM</td>\n",
       "      <td>GE</td>\n",
       "      <td>100.0</td>\n",
       "      <td>Greenhouse gas emissions reductions</td>\n",
       "      <td>GE</td>\n",
       "    </tr>\n",
       "    <tr>\n",
       "      <th>4</th>\n",
       "      <td>ASM</td>\n",
       "      <td>GE</td>\n",
       "      <td>0.0</td>\n",
       "      <td>Greenhouse gas emissions reductions</td>\n",
       "      <td>GE</td>\n",
       "    </tr>\n",
       "    <tr>\n",
       "      <th>...</th>\n",
       "      <td>...</td>\n",
       "      <td>...</td>\n",
       "      <td>...</td>\n",
       "      <td>...</td>\n",
       "      <td>...</td>\n",
       "    </tr>\n",
       "    <tr>\n",
       "      <th>3883</th>\n",
       "      <td>JEY</td>\n",
       "      <td>GJ</td>\n",
       "      <td>0.0</td>\n",
       "      <td>Green employment</td>\n",
       "      <td>GJ</td>\n",
       "    </tr>\n",
       "    <tr>\n",
       "      <th>3884</th>\n",
       "      <td>NFK</td>\n",
       "      <td>GJ</td>\n",
       "      <td>0.0</td>\n",
       "      <td>Green employment</td>\n",
       "      <td>GJ</td>\n",
       "    </tr>\n",
       "    <tr>\n",
       "      <th>3885</th>\n",
       "      <td>PCN</td>\n",
       "      <td>GJ</td>\n",
       "      <td>0.0</td>\n",
       "      <td>Green employment</td>\n",
       "      <td>GJ</td>\n",
       "    </tr>\n",
       "    <tr>\n",
       "      <th>3886</th>\n",
       "      <td>TWN</td>\n",
       "      <td>GJ</td>\n",
       "      <td>0.0</td>\n",
       "      <td>Green employment</td>\n",
       "      <td>GJ</td>\n",
       "    </tr>\n",
       "    <tr>\n",
       "      <th>3887</th>\n",
       "      <td>XKX</td>\n",
       "      <td>GJ</td>\n",
       "      <td>0.0</td>\n",
       "      <td>Green employment</td>\n",
       "      <td>GJ</td>\n",
       "    </tr>\n",
       "  </tbody>\n",
       "</table>\n",
       "<p>3888 rows × 5 columns</p>\n",
       "</div>"
      ],
      "text/plain": [
       "      ISO Category  Data availability (%)  \\\n",
       "0     ALB       GE                  100.0   \n",
       "1     AND       GE                  100.0   \n",
       "2     ARE       GE                  100.0   \n",
       "3     ARM       GE                  100.0   \n",
       "4     ASM       GE                    0.0   \n",
       "...   ...      ...                    ...   \n",
       "3883  JEY       GJ                    0.0   \n",
       "3884  NFK       GJ                    0.0   \n",
       "3885  PCN       GJ                    0.0   \n",
       "3886  TWN       GJ                    0.0   \n",
       "3887  XKX       GJ                    0.0   \n",
       "\n",
       "                            Variable_name Variable  \n",
       "0     Greenhouse gas emissions reductions       GE  \n",
       "1     Greenhouse gas emissions reductions       GE  \n",
       "2     Greenhouse gas emissions reductions       GE  \n",
       "3     Greenhouse gas emissions reductions       GE  \n",
       "4     Greenhouse gas emissions reductions       GE  \n",
       "...                                   ...      ...  \n",
       "3883                     Green employment       GJ  \n",
       "3884                     Green employment       GJ  \n",
       "3885                     Green employment       GJ  \n",
       "3886                     Green employment       GJ  \n",
       "3887                     Green employment       GJ  \n",
       "\n",
       "[3888 rows x 5 columns]"
      ]
     },
     "execution_count": 130,
     "metadata": {},
     "output_type": "execute_result"
    }
   ],
   "source": [
    "missing_data.reset_index().merge(data[['Variable_name', 'Variable']].drop_duplicates(), left_on='Category', right_on='Variable')"
   ]
  },
  {
   "cell_type": "code",
   "execution_count": 125,
   "metadata": {
    "ExecuteTime": {
     "end_time": "2021-09-15T01:53:51.752475Z",
     "start_time": "2021-09-15T01:53:51.733442Z"
    }
   },
   "outputs": [
    {
     "data": {
      "text/html": [
       "<div>\n",
       "<style scoped>\n",
       "    .dataframe tbody tr th:only-of-type {\n",
       "        vertical-align: middle;\n",
       "    }\n",
       "\n",
       "    .dataframe tbody tr th {\n",
       "        vertical-align: top;\n",
       "    }\n",
       "\n",
       "    .dataframe thead th {\n",
       "        text-align: right;\n",
       "    }\n",
       "</style>\n",
       "<table border=\"1\" class=\"dataframe\">\n",
       "  <thead>\n",
       "    <tr style=\"text-align: right;\">\n",
       "      <th></th>\n",
       "      <th>Variable_name</th>\n",
       "      <th>Variable</th>\n",
       "    </tr>\n",
       "  </thead>\n",
       "  <tbody>\n",
       "    <tr>\n",
       "      <th>0</th>\n",
       "      <td>NaN</td>\n",
       "      <td>AB1</td>\n",
       "    </tr>\n",
       "    <tr>\n",
       "      <th>1</th>\n",
       "      <td>NaN</td>\n",
       "      <td>AB2</td>\n",
       "    </tr>\n",
       "    <tr>\n",
       "      <th>2</th>\n",
       "      <td>NaN</td>\n",
       "      <td>AB3</td>\n",
       "    </tr>\n",
       "    <tr>\n",
       "      <th>3</th>\n",
       "      <td>NaN</td>\n",
       "      <td>BE1</td>\n",
       "    </tr>\n",
       "    <tr>\n",
       "      <th>4</th>\n",
       "      <td>NaN</td>\n",
       "      <td>BE2</td>\n",
       "    </tr>\n",
       "    <tr>\n",
       "      <th>...</th>\n",
       "      <td>...</td>\n",
       "      <td>...</td>\n",
       "    </tr>\n",
       "    <tr>\n",
       "      <th>337117</th>\n",
       "      <td>Social protection</td>\n",
       "      <td>SP</td>\n",
       "    </tr>\n",
       "    <tr>\n",
       "      <th>337118</th>\n",
       "      <td>Social inclusion</td>\n",
       "      <td>SI</td>\n",
       "    </tr>\n",
       "    <tr>\n",
       "      <th>337119</th>\n",
       "      <td>Natural capital protection</td>\n",
       "      <td>NCP</td>\n",
       "    </tr>\n",
       "    <tr>\n",
       "      <th>337120</th>\n",
       "      <td>Efficient and sustainable resource use</td>\n",
       "      <td>ESRU</td>\n",
       "    </tr>\n",
       "    <tr>\n",
       "      <th>337121</th>\n",
       "      <td>Green economic opportunities</td>\n",
       "      <td>GEO</td>\n",
       "    </tr>\n",
       "  </tbody>\n",
       "</table>\n",
       "<p>337122 rows × 2 columns</p>\n",
       "</div>"
      ],
      "text/plain": [
       "                                 Variable_name Variable\n",
       "0                                          NaN      AB1\n",
       "1                                          NaN      AB2\n",
       "2                                          NaN      AB3\n",
       "3                                          NaN      BE1\n",
       "4                                          NaN      BE2\n",
       "...                                        ...      ...\n",
       "337117                       Social protection       SP\n",
       "337118                        Social inclusion       SI\n",
       "337119              Natural capital protection      NCP\n",
       "337120  Efficient and sustainable resource use     ESRU\n",
       "337121            Green economic opportunities      GEO\n",
       "\n",
       "[337122 rows x 2 columns]"
      ]
     },
     "execution_count": 125,
     "metadata": {},
     "output_type": "execute_result"
    }
   ],
   "source": []
  },
  {
   "cell_type": "code",
   "execution_count": 117,
   "metadata": {
    "ExecuteTime": {
     "end_time": "2021-09-15T01:51:54.668338Z",
     "start_time": "2021-09-15T01:51:54.656068Z"
    }
   },
   "outputs": [],
   "source": [
    "import plotly.express as px\n",
    "\n",
    "\n",
    "def missing_bar_plot(ISO):\n",
    "    cats = ['EE', 'EW', 'SL', 'ME',\n",
    "            'EQ', 'GE', 'BE', 'CV',\n",
    "            'AB', 'GB', 'SE', 'SP',\n",
    "            'GV', 'GT', 'GJ', 'GN']\n",
    "    \n",
    "\n",
    "    plot_df = missing_data.loc[ISO].reset_index().merge(indicator_properties[['Category', \"Dimension\"]].drop_duplicates(), on='Category')#.T[cats].T.reset_index()\n",
    "    plot_df_bis = plot_df.copy().assign(Dimension='Missing')\n",
    "    plot_df_bis['Data availability (%)'] = (100 - plot_df_bis['Data availability (%)']).round(2)\n",
    "\n",
    "    plot_df = pd.concat([plot_df, plot_df_bis])\n",
    "    fig = px.bar(plot_df,\n",
    "             y='Category',\n",
    "             x='Data availability (%)',\n",
    "             color='Dimension',\n",
    "             barmode='stack',\n",
    "             orientation='h',\n",
    "            text='Data availability (%)',\n",
    "            hover_data={'Dimension': False, 'Data availability (%)': False, 'Category': False},\n",
    "            color_discrete_map={\n",
    "                           \"Social Inclusion\": \"#d9b5c9\",\n",
    "                           \"Natural Capital Protection\": \"#f7be49\",\n",
    "                           \"Efficient and Sustainable Resource Use\": \"#8fd1e7\",\n",
    "                           \"Green Economic Opportunities\": \"#9dcc93\",\n",
    "                           \"Missing\": '#D3D3D3'\n",
    "                       },\n",
    "                ).update_layout(height=1000,\n",
    "                                plot_bgcolor='rgba(0, 0, 0, 0)',\n",
    "                                legend=dict(\n",
    "        yanchor=\"top\",\n",
    "        y=-0.05,\n",
    "        xanchor=\"center\",\n",
    "        x=0,\n",
    "        title=''\n",
    "        \n",
    "    ),\n",
    "    ).update_traces(texttemplate='%{text:.2s}%', textposition='inside', textfont=dict(\n",
    "        family=\"sans serif\",\n",
    "        size=18,\n",
    "        color=\"white\"\n",
    "    )).update_yaxes(title=\"\").update_xaxes(showticklabels=False)\n",
    "\n",
    "    return fig\n"
   ]
  },
  {
   "cell_type": "code",
   "execution_count": 118,
   "metadata": {
    "ExecuteTime": {
     "end_time": "2021-09-15T01:51:54.938467Z",
     "start_time": "2021-09-15T01:51:54.796519Z"
    }
   },
   "outputs": [
    {
     "data": {
      "application/vnd.plotly.v1+json": {
       "config": {
        "plotlyServerURL": "https://plot.ly"
       },
       "data": [
        {
         "alignmentgroup": "True",
         "customdata": [
          [
           "Natural Capital Protection"
          ],
          [
           "Natural Capital Protection"
          ],
          [
           "Natural Capital Protection"
          ],
          [
           "Natural Capital Protection"
          ]
         ],
         "hovertemplate": "<extra></extra>",
         "legendgroup": "Natural Capital Protection",
         "marker": {
          "color": "#f7be49"
         },
         "name": "Natural Capital Protection",
         "offsetgroup": "Natural Capital Protection",
         "orientation": "h",
         "showlegend": true,
         "text": [
          100,
          57.8,
          73.3,
          51.1
         ],
         "textfont": {
          "color": "white",
          "family": "sans serif",
          "size": 18
         },
         "textposition": "inside",
         "texttemplate": "%{text:.2s}%",
         "type": "bar",
         "x": [
          100,
          57.8,
          73.3,
          51.1
         ],
         "xaxis": "x",
         "y": [
          "GE",
          "CV",
          "BE",
          "EQ"
         ],
         "yaxis": "y"
        },
        {
         "alignmentgroup": "True",
         "customdata": [
          [
           "Social Inclusion"
          ],
          [
           "Social Inclusion"
          ],
          [
           "Social Inclusion"
          ],
          [
           "Social Inclusion"
          ]
         ],
         "hovertemplate": "<extra></extra>",
         "legendgroup": "Social Inclusion",
         "marker": {
          "color": "#d9b5c9"
         },
         "name": "Social Inclusion",
         "offsetgroup": "Social Inclusion",
         "orientation": "h",
         "showlegend": true,
         "text": [
          97.8,
          97.8,
          46.7,
          100
         ],
         "textfont": {
          "color": "white",
          "family": "sans serif",
          "size": 18
         },
         "textposition": "inside",
         "texttemplate": "%{text:.2s}%",
         "type": "bar",
         "x": [
          97.8,
          97.8,
          46.7,
          100
         ],
         "xaxis": "x",
         "y": [
          "SE",
          "GB",
          "SP",
          "AB"
         ],
         "yaxis": "y"
        },
        {
         "alignmentgroup": "True",
         "customdata": [
          [
           "Efficient and Sustainable Resource Use"
          ],
          [
           "Efficient and Sustainable Resource Use"
          ],
          [
           "Efficient and Sustainable Resource Use"
          ],
          [
           "Efficient and Sustainable Resource Use"
          ]
         ],
         "hovertemplate": "<extra></extra>",
         "legendgroup": "Efficient and Sustainable Resource Use",
         "marker": {
          "color": "#8fd1e7"
         },
         "name": "Efficient and Sustainable Resource Use",
         "offsetgroup": "Efficient and Sustainable Resource Use",
         "orientation": "h",
         "showlegend": true,
         "text": [
          73.3,
          86.7,
          86.7,
          86.7
         ],
         "textfont": {
          "color": "white",
          "family": "sans serif",
          "size": 18
         },
         "textposition": "inside",
         "texttemplate": "%{text:.2s}%",
         "type": "bar",
         "x": [
          73.3,
          86.7,
          86.7,
          86.7
         ],
         "xaxis": "x",
         "y": [
          "ME",
          "EE",
          "EW",
          "SL"
         ],
         "yaxis": "y"
        },
        {
         "alignmentgroup": "True",
         "customdata": [
          [
           "Green Economic Opportunities"
          ],
          [
           "Green Economic Opportunities"
          ],
          [
           "Green Economic Opportunities"
          ],
          [
           "Green Economic Opportunities"
          ]
         ],
         "hovertemplate": "<extra></extra>",
         "legendgroup": "Green Economic Opportunities",
         "marker": {
          "color": "#9dcc93"
         },
         "name": "Green Economic Opportunities",
         "offsetgroup": "Green Economic Opportunities",
         "orientation": "h",
         "showlegend": true,
         "text": [
          86.7,
          93.3,
          100,
          86.7
         ],
         "textfont": {
          "color": "white",
          "family": "sans serif",
          "size": 18
         },
         "textposition": "inside",
         "texttemplate": "%{text:.2s}%",
         "type": "bar",
         "x": [
          86.7,
          93.3,
          100,
          86.7
         ],
         "xaxis": "x",
         "y": [
          "GN",
          "GV",
          "GT",
          "GJ"
         ],
         "yaxis": "y"
        },
        {
         "alignmentgroup": "True",
         "customdata": [
          [
           "Missing"
          ],
          [
           "Missing"
          ],
          [
           "Missing"
          ],
          [
           "Missing"
          ],
          [
           "Missing"
          ],
          [
           "Missing"
          ],
          [
           "Missing"
          ],
          [
           "Missing"
          ],
          [
           "Missing"
          ],
          [
           "Missing"
          ],
          [
           "Missing"
          ],
          [
           "Missing"
          ],
          [
           "Missing"
          ],
          [
           "Missing"
          ],
          [
           "Missing"
          ],
          [
           "Missing"
          ]
         ],
         "hovertemplate": "<extra></extra>",
         "legendgroup": "Missing",
         "marker": {
          "color": "#D3D3D3"
         },
         "name": "Missing",
         "offsetgroup": "Missing",
         "orientation": "h",
         "showlegend": true,
         "text": [
          0,
          2.2,
          26.7,
          2.2,
          13.3,
          42.2,
          13.3,
          26.7,
          48.9,
          53.3,
          6.7,
          0,
          0,
          13.3,
          13.3,
          13.3
         ],
         "textfont": {
          "color": "white",
          "family": "sans serif",
          "size": 18
         },
         "textposition": "inside",
         "texttemplate": "%{text:.2s}%",
         "type": "bar",
         "x": [
          0,
          2.2,
          26.7,
          2.2,
          13.3,
          42.2,
          13.3,
          26.7,
          48.9,
          53.3,
          6.7,
          0,
          0,
          13.3,
          13.3,
          13.3
         ],
         "xaxis": "x",
         "y": [
          "GE",
          "SE",
          "ME",
          "GB",
          "GN",
          "CV",
          "EE",
          "BE",
          "EQ",
          "SP",
          "GV",
          "AB",
          "GT",
          "EW",
          "SL",
          "GJ"
         ],
         "yaxis": "y"
        }
       ],
       "layout": {
        "barmode": "stack",
        "height": 1000,
        "legend": {
         "title": {
          "text": ""
         },
         "tracegroupgap": 0,
         "x": 0,
         "xanchor": "center",
         "y": -0.05,
         "yanchor": "top"
        },
        "margin": {
         "t": 60
        },
        "plot_bgcolor": "rgba(0, 0, 0, 0)",
        "template": {
         "data": {
          "bar": [
           {
            "error_x": {
             "color": "#2a3f5f"
            },
            "error_y": {
             "color": "#2a3f5f"
            },
            "marker": {
             "line": {
              "color": "#E5ECF6",
              "width": 0.5
             }
            },
            "type": "bar"
           }
          ],
          "barpolar": [
           {
            "marker": {
             "line": {
              "color": "#E5ECF6",
              "width": 0.5
             }
            },
            "type": "barpolar"
           }
          ],
          "carpet": [
           {
            "aaxis": {
             "endlinecolor": "#2a3f5f",
             "gridcolor": "white",
             "linecolor": "white",
             "minorgridcolor": "white",
             "startlinecolor": "#2a3f5f"
            },
            "baxis": {
             "endlinecolor": "#2a3f5f",
             "gridcolor": "white",
             "linecolor": "white",
             "minorgridcolor": "white",
             "startlinecolor": "#2a3f5f"
            },
            "type": "carpet"
           }
          ],
          "choropleth": [
           {
            "colorbar": {
             "outlinewidth": 0,
             "ticks": ""
            },
            "type": "choropleth"
           }
          ],
          "contour": [
           {
            "colorbar": {
             "outlinewidth": 0,
             "ticks": ""
            },
            "colorscale": [
             [
              0,
              "#0d0887"
             ],
             [
              0.1111111111111111,
              "#46039f"
             ],
             [
              0.2222222222222222,
              "#7201a8"
             ],
             [
              0.3333333333333333,
              "#9c179e"
             ],
             [
              0.4444444444444444,
              "#bd3786"
             ],
             [
              0.5555555555555556,
              "#d8576b"
             ],
             [
              0.6666666666666666,
              "#ed7953"
             ],
             [
              0.7777777777777778,
              "#fb9f3a"
             ],
             [
              0.8888888888888888,
              "#fdca26"
             ],
             [
              1,
              "#f0f921"
             ]
            ],
            "type": "contour"
           }
          ],
          "contourcarpet": [
           {
            "colorbar": {
             "outlinewidth": 0,
             "ticks": ""
            },
            "type": "contourcarpet"
           }
          ],
          "heatmap": [
           {
            "colorbar": {
             "outlinewidth": 0,
             "ticks": ""
            },
            "colorscale": [
             [
              0,
              "#0d0887"
             ],
             [
              0.1111111111111111,
              "#46039f"
             ],
             [
              0.2222222222222222,
              "#7201a8"
             ],
             [
              0.3333333333333333,
              "#9c179e"
             ],
             [
              0.4444444444444444,
              "#bd3786"
             ],
             [
              0.5555555555555556,
              "#d8576b"
             ],
             [
              0.6666666666666666,
              "#ed7953"
             ],
             [
              0.7777777777777778,
              "#fb9f3a"
             ],
             [
              0.8888888888888888,
              "#fdca26"
             ],
             [
              1,
              "#f0f921"
             ]
            ],
            "type": "heatmap"
           }
          ],
          "heatmapgl": [
           {
            "colorbar": {
             "outlinewidth": 0,
             "ticks": ""
            },
            "colorscale": [
             [
              0,
              "#0d0887"
             ],
             [
              0.1111111111111111,
              "#46039f"
             ],
             [
              0.2222222222222222,
              "#7201a8"
             ],
             [
              0.3333333333333333,
              "#9c179e"
             ],
             [
              0.4444444444444444,
              "#bd3786"
             ],
             [
              0.5555555555555556,
              "#d8576b"
             ],
             [
              0.6666666666666666,
              "#ed7953"
             ],
             [
              0.7777777777777778,
              "#fb9f3a"
             ],
             [
              0.8888888888888888,
              "#fdca26"
             ],
             [
              1,
              "#f0f921"
             ]
            ],
            "type": "heatmapgl"
           }
          ],
          "histogram": [
           {
            "marker": {
             "colorbar": {
              "outlinewidth": 0,
              "ticks": ""
             }
            },
            "type": "histogram"
           }
          ],
          "histogram2d": [
           {
            "colorbar": {
             "outlinewidth": 0,
             "ticks": ""
            },
            "colorscale": [
             [
              0,
              "#0d0887"
             ],
             [
              0.1111111111111111,
              "#46039f"
             ],
             [
              0.2222222222222222,
              "#7201a8"
             ],
             [
              0.3333333333333333,
              "#9c179e"
             ],
             [
              0.4444444444444444,
              "#bd3786"
             ],
             [
              0.5555555555555556,
              "#d8576b"
             ],
             [
              0.6666666666666666,
              "#ed7953"
             ],
             [
              0.7777777777777778,
              "#fb9f3a"
             ],
             [
              0.8888888888888888,
              "#fdca26"
             ],
             [
              1,
              "#f0f921"
             ]
            ],
            "type": "histogram2d"
           }
          ],
          "histogram2dcontour": [
           {
            "colorbar": {
             "outlinewidth": 0,
             "ticks": ""
            },
            "colorscale": [
             [
              0,
              "#0d0887"
             ],
             [
              0.1111111111111111,
              "#46039f"
             ],
             [
              0.2222222222222222,
              "#7201a8"
             ],
             [
              0.3333333333333333,
              "#9c179e"
             ],
             [
              0.4444444444444444,
              "#bd3786"
             ],
             [
              0.5555555555555556,
              "#d8576b"
             ],
             [
              0.6666666666666666,
              "#ed7953"
             ],
             [
              0.7777777777777778,
              "#fb9f3a"
             ],
             [
              0.8888888888888888,
              "#fdca26"
             ],
             [
              1,
              "#f0f921"
             ]
            ],
            "type": "histogram2dcontour"
           }
          ],
          "mesh3d": [
           {
            "colorbar": {
             "outlinewidth": 0,
             "ticks": ""
            },
            "type": "mesh3d"
           }
          ],
          "parcoords": [
           {
            "line": {
             "colorbar": {
              "outlinewidth": 0,
              "ticks": ""
             }
            },
            "type": "parcoords"
           }
          ],
          "pie": [
           {
            "automargin": true,
            "type": "pie"
           }
          ],
          "scatter": [
           {
            "marker": {
             "colorbar": {
              "outlinewidth": 0,
              "ticks": ""
             }
            },
            "type": "scatter"
           }
          ],
          "scatter3d": [
           {
            "line": {
             "colorbar": {
              "outlinewidth": 0,
              "ticks": ""
             }
            },
            "marker": {
             "colorbar": {
              "outlinewidth": 0,
              "ticks": ""
             }
            },
            "type": "scatter3d"
           }
          ],
          "scattercarpet": [
           {
            "marker": {
             "colorbar": {
              "outlinewidth": 0,
              "ticks": ""
             }
            },
            "type": "scattercarpet"
           }
          ],
          "scattergeo": [
           {
            "marker": {
             "colorbar": {
              "outlinewidth": 0,
              "ticks": ""
             }
            },
            "type": "scattergeo"
           }
          ],
          "scattergl": [
           {
            "marker": {
             "colorbar": {
              "outlinewidth": 0,
              "ticks": ""
             }
            },
            "type": "scattergl"
           }
          ],
          "scattermapbox": [
           {
            "marker": {
             "colorbar": {
              "outlinewidth": 0,
              "ticks": ""
             }
            },
            "type": "scattermapbox"
           }
          ],
          "scatterpolar": [
           {
            "marker": {
             "colorbar": {
              "outlinewidth": 0,
              "ticks": ""
             }
            },
            "type": "scatterpolar"
           }
          ],
          "scatterpolargl": [
           {
            "marker": {
             "colorbar": {
              "outlinewidth": 0,
              "ticks": ""
             }
            },
            "type": "scatterpolargl"
           }
          ],
          "scatterternary": [
           {
            "marker": {
             "colorbar": {
              "outlinewidth": 0,
              "ticks": ""
             }
            },
            "type": "scatterternary"
           }
          ],
          "surface": [
           {
            "colorbar": {
             "outlinewidth": 0,
             "ticks": ""
            },
            "colorscale": [
             [
              0,
              "#0d0887"
             ],
             [
              0.1111111111111111,
              "#46039f"
             ],
             [
              0.2222222222222222,
              "#7201a8"
             ],
             [
              0.3333333333333333,
              "#9c179e"
             ],
             [
              0.4444444444444444,
              "#bd3786"
             ],
             [
              0.5555555555555556,
              "#d8576b"
             ],
             [
              0.6666666666666666,
              "#ed7953"
             ],
             [
              0.7777777777777778,
              "#fb9f3a"
             ],
             [
              0.8888888888888888,
              "#fdca26"
             ],
             [
              1,
              "#f0f921"
             ]
            ],
            "type": "surface"
           }
          ],
          "table": [
           {
            "cells": {
             "fill": {
              "color": "#EBF0F8"
             },
             "line": {
              "color": "white"
             }
            },
            "header": {
             "fill": {
              "color": "#C8D4E3"
             },
             "line": {
              "color": "white"
             }
            },
            "type": "table"
           }
          ]
         },
         "layout": {
          "annotationdefaults": {
           "arrowcolor": "#2a3f5f",
           "arrowhead": 0,
           "arrowwidth": 1
          },
          "autotypenumbers": "strict",
          "coloraxis": {
           "colorbar": {
            "outlinewidth": 0,
            "ticks": ""
           }
          },
          "colorscale": {
           "diverging": [
            [
             0,
             "#8e0152"
            ],
            [
             0.1,
             "#c51b7d"
            ],
            [
             0.2,
             "#de77ae"
            ],
            [
             0.3,
             "#f1b6da"
            ],
            [
             0.4,
             "#fde0ef"
            ],
            [
             0.5,
             "#f7f7f7"
            ],
            [
             0.6,
             "#e6f5d0"
            ],
            [
             0.7,
             "#b8e186"
            ],
            [
             0.8,
             "#7fbc41"
            ],
            [
             0.9,
             "#4d9221"
            ],
            [
             1,
             "#276419"
            ]
           ],
           "sequential": [
            [
             0,
             "#0d0887"
            ],
            [
             0.1111111111111111,
             "#46039f"
            ],
            [
             0.2222222222222222,
             "#7201a8"
            ],
            [
             0.3333333333333333,
             "#9c179e"
            ],
            [
             0.4444444444444444,
             "#bd3786"
            ],
            [
             0.5555555555555556,
             "#d8576b"
            ],
            [
             0.6666666666666666,
             "#ed7953"
            ],
            [
             0.7777777777777778,
             "#fb9f3a"
            ],
            [
             0.8888888888888888,
             "#fdca26"
            ],
            [
             1,
             "#f0f921"
            ]
           ],
           "sequentialminus": [
            [
             0,
             "#0d0887"
            ],
            [
             0.1111111111111111,
             "#46039f"
            ],
            [
             0.2222222222222222,
             "#7201a8"
            ],
            [
             0.3333333333333333,
             "#9c179e"
            ],
            [
             0.4444444444444444,
             "#bd3786"
            ],
            [
             0.5555555555555556,
             "#d8576b"
            ],
            [
             0.6666666666666666,
             "#ed7953"
            ],
            [
             0.7777777777777778,
             "#fb9f3a"
            ],
            [
             0.8888888888888888,
             "#fdca26"
            ],
            [
             1,
             "#f0f921"
            ]
           ]
          },
          "colorway": [
           "#636efa",
           "#EF553B",
           "#00cc96",
           "#ab63fa",
           "#FFA15A",
           "#19d3f3",
           "#FF6692",
           "#B6E880",
           "#FF97FF",
           "#FECB52"
          ],
          "font": {
           "color": "#2a3f5f"
          },
          "geo": {
           "bgcolor": "white",
           "lakecolor": "white",
           "landcolor": "#E5ECF6",
           "showlakes": true,
           "showland": true,
           "subunitcolor": "white"
          },
          "hoverlabel": {
           "align": "left"
          },
          "hovermode": "closest",
          "mapbox": {
           "style": "light"
          },
          "paper_bgcolor": "white",
          "plot_bgcolor": "#E5ECF6",
          "polar": {
           "angularaxis": {
            "gridcolor": "white",
            "linecolor": "white",
            "ticks": ""
           },
           "bgcolor": "#E5ECF6",
           "radialaxis": {
            "gridcolor": "white",
            "linecolor": "white",
            "ticks": ""
           }
          },
          "scene": {
           "xaxis": {
            "backgroundcolor": "#E5ECF6",
            "gridcolor": "white",
            "gridwidth": 2,
            "linecolor": "white",
            "showbackground": true,
            "ticks": "",
            "zerolinecolor": "white"
           },
           "yaxis": {
            "backgroundcolor": "#E5ECF6",
            "gridcolor": "white",
            "gridwidth": 2,
            "linecolor": "white",
            "showbackground": true,
            "ticks": "",
            "zerolinecolor": "white"
           },
           "zaxis": {
            "backgroundcolor": "#E5ECF6",
            "gridcolor": "white",
            "gridwidth": 2,
            "linecolor": "white",
            "showbackground": true,
            "ticks": "",
            "zerolinecolor": "white"
           }
          },
          "shapedefaults": {
           "line": {
            "color": "#2a3f5f"
           }
          },
          "ternary": {
           "aaxis": {
            "gridcolor": "white",
            "linecolor": "white",
            "ticks": ""
           },
           "baxis": {
            "gridcolor": "white",
            "linecolor": "white",
            "ticks": ""
           },
           "bgcolor": "#E5ECF6",
           "caxis": {
            "gridcolor": "white",
            "linecolor": "white",
            "ticks": ""
           }
          },
          "title": {
           "x": 0.05
          },
          "xaxis": {
           "automargin": true,
           "gridcolor": "white",
           "linecolor": "white",
           "ticks": "",
           "title": {
            "standoff": 15
           },
           "zerolinecolor": "white",
           "zerolinewidth": 2
          },
          "yaxis": {
           "automargin": true,
           "gridcolor": "white",
           "linecolor": "white",
           "ticks": "",
           "title": {
            "standoff": 15
           },
           "zerolinecolor": "white",
           "zerolinewidth": 2
          }
         }
        },
        "xaxis": {
         "anchor": "y",
         "domain": [
          0,
          1
         ],
         "showticklabels": false,
         "title": {
          "text": "Data availability (%)"
         }
        },
        "yaxis": {
         "anchor": "x",
         "domain": [
          0,
          1
         ],
         "title": {
          "text": ""
         }
        }
       }
      },
      "text/html": [
       "<div>                            <div id=\"02de1cd8-ca34-456a-89fc-95767c816545\" class=\"plotly-graph-div\" style=\"height:1000px; width:100%;\"></div>            <script type=\"text/javascript\">                require([\"plotly\"], function(Plotly) {                    window.PLOTLYENV=window.PLOTLYENV || {};                                    if (document.getElementById(\"02de1cd8-ca34-456a-89fc-95767c816545\")) {                    Plotly.newPlot(                        \"02de1cd8-ca34-456a-89fc-95767c816545\",                        [{\"alignmentgroup\": \"True\", \"customdata\": [[\"Natural Capital Protection\"], [\"Natural Capital Protection\"], [\"Natural Capital Protection\"], [\"Natural Capital Protection\"]], \"hovertemplate\": \"<extra></extra>\", \"legendgroup\": \"Natural Capital Protection\", \"marker\": {\"color\": \"#f7be49\"}, \"name\": \"Natural Capital Protection\", \"offsetgroup\": \"Natural Capital Protection\", \"orientation\": \"h\", \"showlegend\": true, \"text\": [100.0, 57.8, 73.3, 51.1], \"textfont\": {\"color\": \"white\", \"family\": \"sans serif\", \"size\": 18}, \"textposition\": \"inside\", \"texttemplate\": \"%{text:.2s}%\", \"type\": \"bar\", \"x\": [100.0, 57.8, 73.3, 51.1], \"xaxis\": \"x\", \"y\": [\"GE\", \"CV\", \"BE\", \"EQ\"], \"yaxis\": \"y\"}, {\"alignmentgroup\": \"True\", \"customdata\": [[\"Social Inclusion\"], [\"Social Inclusion\"], [\"Social Inclusion\"], [\"Social Inclusion\"]], \"hovertemplate\": \"<extra></extra>\", \"legendgroup\": \"Social Inclusion\", \"marker\": {\"color\": \"#d9b5c9\"}, \"name\": \"Social Inclusion\", \"offsetgroup\": \"Social Inclusion\", \"orientation\": \"h\", \"showlegend\": true, \"text\": [97.8, 97.8, 46.7, 100.0], \"textfont\": {\"color\": \"white\", \"family\": \"sans serif\", \"size\": 18}, \"textposition\": \"inside\", \"texttemplate\": \"%{text:.2s}%\", \"type\": \"bar\", \"x\": [97.8, 97.8, 46.7, 100.0], \"xaxis\": \"x\", \"y\": [\"SE\", \"GB\", \"SP\", \"AB\"], \"yaxis\": \"y\"}, {\"alignmentgroup\": \"True\", \"customdata\": [[\"Efficient and Sustainable Resource Use\"], [\"Efficient and Sustainable Resource Use\"], [\"Efficient and Sustainable Resource Use\"], [\"Efficient and Sustainable Resource Use\"]], \"hovertemplate\": \"<extra></extra>\", \"legendgroup\": \"Efficient and Sustainable Resource Use\", \"marker\": {\"color\": \"#8fd1e7\"}, \"name\": \"Efficient and Sustainable Resource Use\", \"offsetgroup\": \"Efficient and Sustainable Resource Use\", \"orientation\": \"h\", \"showlegend\": true, \"text\": [73.3, 86.7, 86.7, 86.7], \"textfont\": {\"color\": \"white\", \"family\": \"sans serif\", \"size\": 18}, \"textposition\": \"inside\", \"texttemplate\": \"%{text:.2s}%\", \"type\": \"bar\", \"x\": [73.3, 86.7, 86.7, 86.7], \"xaxis\": \"x\", \"y\": [\"ME\", \"EE\", \"EW\", \"SL\"], \"yaxis\": \"y\"}, {\"alignmentgroup\": \"True\", \"customdata\": [[\"Green Economic Opportunities\"], [\"Green Economic Opportunities\"], [\"Green Economic Opportunities\"], [\"Green Economic Opportunities\"]], \"hovertemplate\": \"<extra></extra>\", \"legendgroup\": \"Green Economic Opportunities\", \"marker\": {\"color\": \"#9dcc93\"}, \"name\": \"Green Economic Opportunities\", \"offsetgroup\": \"Green Economic Opportunities\", \"orientation\": \"h\", \"showlegend\": true, \"text\": [86.7, 93.3, 100.0, 86.7], \"textfont\": {\"color\": \"white\", \"family\": \"sans serif\", \"size\": 18}, \"textposition\": \"inside\", \"texttemplate\": \"%{text:.2s}%\", \"type\": \"bar\", \"x\": [86.7, 93.3, 100.0, 86.7], \"xaxis\": \"x\", \"y\": [\"GN\", \"GV\", \"GT\", \"GJ\"], \"yaxis\": \"y\"}, {\"alignmentgroup\": \"True\", \"customdata\": [[\"Missing\"], [\"Missing\"], [\"Missing\"], [\"Missing\"], [\"Missing\"], [\"Missing\"], [\"Missing\"], [\"Missing\"], [\"Missing\"], [\"Missing\"], [\"Missing\"], [\"Missing\"], [\"Missing\"], [\"Missing\"], [\"Missing\"], [\"Missing\"]], \"hovertemplate\": \"<extra></extra>\", \"legendgroup\": \"Missing\", \"marker\": {\"color\": \"#D3D3D3\"}, \"name\": \"Missing\", \"offsetgroup\": \"Missing\", \"orientation\": \"h\", \"showlegend\": true, \"text\": [0.0, 2.2, 26.7, 2.2, 13.3, 42.2, 13.3, 26.7, 48.9, 53.3, 6.7, 0.0, 0.0, 13.3, 13.3, 13.3], \"textfont\": {\"color\": \"white\", \"family\": \"sans serif\", \"size\": 18}, \"textposition\": \"inside\", \"texttemplate\": \"%{text:.2s}%\", \"type\": \"bar\", \"x\": [0.0, 2.2, 26.7, 2.2, 13.3, 42.2, 13.3, 26.7, 48.9, 53.3, 6.7, 0.0, 0.0, 13.3, 13.3, 13.3], \"xaxis\": \"x\", \"y\": [\"GE\", \"SE\", \"ME\", \"GB\", \"GN\", \"CV\", \"EE\", \"BE\", \"EQ\", \"SP\", \"GV\", \"AB\", \"GT\", \"EW\", \"SL\", \"GJ\"], \"yaxis\": \"y\"}],                        {\"barmode\": \"stack\", \"height\": 1000, \"legend\": {\"title\": {\"text\": \"\"}, \"tracegroupgap\": 0, \"x\": 0, \"xanchor\": \"center\", \"y\": -0.05, \"yanchor\": \"top\"}, \"margin\": {\"t\": 60}, \"plot_bgcolor\": \"rgba(0, 0, 0, 0)\", \"template\": {\"data\": {\"bar\": [{\"error_x\": {\"color\": \"#2a3f5f\"}, \"error_y\": {\"color\": \"#2a3f5f\"}, \"marker\": {\"line\": {\"color\": \"#E5ECF6\", \"width\": 0.5}}, \"type\": \"bar\"}], \"barpolar\": [{\"marker\": {\"line\": {\"color\": \"#E5ECF6\", \"width\": 0.5}}, \"type\": \"barpolar\"}], \"carpet\": [{\"aaxis\": {\"endlinecolor\": \"#2a3f5f\", \"gridcolor\": \"white\", \"linecolor\": \"white\", \"minorgridcolor\": \"white\", \"startlinecolor\": \"#2a3f5f\"}, \"baxis\": {\"endlinecolor\": \"#2a3f5f\", \"gridcolor\": \"white\", \"linecolor\": \"white\", \"minorgridcolor\": \"white\", \"startlinecolor\": \"#2a3f5f\"}, \"type\": \"carpet\"}], \"choropleth\": [{\"colorbar\": {\"outlinewidth\": 0, \"ticks\": \"\"}, \"type\": \"choropleth\"}], \"contour\": [{\"colorbar\": {\"outlinewidth\": 0, \"ticks\": \"\"}, \"colorscale\": [[0.0, \"#0d0887\"], [0.1111111111111111, \"#46039f\"], [0.2222222222222222, \"#7201a8\"], [0.3333333333333333, \"#9c179e\"], [0.4444444444444444, \"#bd3786\"], [0.5555555555555556, \"#d8576b\"], [0.6666666666666666, \"#ed7953\"], [0.7777777777777778, \"#fb9f3a\"], [0.8888888888888888, \"#fdca26\"], [1.0, \"#f0f921\"]], \"type\": \"contour\"}], \"contourcarpet\": [{\"colorbar\": {\"outlinewidth\": 0, \"ticks\": \"\"}, \"type\": \"contourcarpet\"}], \"heatmap\": [{\"colorbar\": {\"outlinewidth\": 0, \"ticks\": \"\"}, \"colorscale\": [[0.0, \"#0d0887\"], [0.1111111111111111, \"#46039f\"], [0.2222222222222222, \"#7201a8\"], [0.3333333333333333, \"#9c179e\"], [0.4444444444444444, \"#bd3786\"], [0.5555555555555556, \"#d8576b\"], [0.6666666666666666, \"#ed7953\"], [0.7777777777777778, \"#fb9f3a\"], [0.8888888888888888, \"#fdca26\"], [1.0, \"#f0f921\"]], \"type\": \"heatmap\"}], \"heatmapgl\": [{\"colorbar\": {\"outlinewidth\": 0, \"ticks\": \"\"}, \"colorscale\": [[0.0, \"#0d0887\"], [0.1111111111111111, \"#46039f\"], [0.2222222222222222, \"#7201a8\"], [0.3333333333333333, \"#9c179e\"], [0.4444444444444444, \"#bd3786\"], [0.5555555555555556, \"#d8576b\"], [0.6666666666666666, \"#ed7953\"], [0.7777777777777778, \"#fb9f3a\"], [0.8888888888888888, \"#fdca26\"], [1.0, \"#f0f921\"]], \"type\": \"heatmapgl\"}], \"histogram\": [{\"marker\": {\"colorbar\": {\"outlinewidth\": 0, \"ticks\": \"\"}}, \"type\": \"histogram\"}], \"histogram2d\": [{\"colorbar\": {\"outlinewidth\": 0, \"ticks\": \"\"}, \"colorscale\": [[0.0, \"#0d0887\"], [0.1111111111111111, \"#46039f\"], [0.2222222222222222, \"#7201a8\"], [0.3333333333333333, \"#9c179e\"], [0.4444444444444444, \"#bd3786\"], [0.5555555555555556, \"#d8576b\"], [0.6666666666666666, \"#ed7953\"], [0.7777777777777778, \"#fb9f3a\"], [0.8888888888888888, \"#fdca26\"], [1.0, \"#f0f921\"]], \"type\": \"histogram2d\"}], \"histogram2dcontour\": [{\"colorbar\": {\"outlinewidth\": 0, \"ticks\": \"\"}, \"colorscale\": [[0.0, \"#0d0887\"], [0.1111111111111111, \"#46039f\"], [0.2222222222222222, \"#7201a8\"], [0.3333333333333333, \"#9c179e\"], [0.4444444444444444, \"#bd3786\"], [0.5555555555555556, \"#d8576b\"], [0.6666666666666666, \"#ed7953\"], [0.7777777777777778, \"#fb9f3a\"], [0.8888888888888888, \"#fdca26\"], [1.0, \"#f0f921\"]], \"type\": \"histogram2dcontour\"}], \"mesh3d\": [{\"colorbar\": {\"outlinewidth\": 0, \"ticks\": \"\"}, \"type\": \"mesh3d\"}], \"parcoords\": [{\"line\": {\"colorbar\": {\"outlinewidth\": 0, \"ticks\": \"\"}}, \"type\": \"parcoords\"}], \"pie\": [{\"automargin\": true, \"type\": \"pie\"}], \"scatter\": [{\"marker\": {\"colorbar\": {\"outlinewidth\": 0, \"ticks\": \"\"}}, \"type\": \"scatter\"}], \"scatter3d\": [{\"line\": {\"colorbar\": {\"outlinewidth\": 0, \"ticks\": \"\"}}, \"marker\": {\"colorbar\": {\"outlinewidth\": 0, \"ticks\": \"\"}}, \"type\": \"scatter3d\"}], \"scattercarpet\": [{\"marker\": {\"colorbar\": {\"outlinewidth\": 0, \"ticks\": \"\"}}, \"type\": \"scattercarpet\"}], \"scattergeo\": [{\"marker\": {\"colorbar\": {\"outlinewidth\": 0, \"ticks\": \"\"}}, \"type\": \"scattergeo\"}], \"scattergl\": [{\"marker\": {\"colorbar\": {\"outlinewidth\": 0, \"ticks\": \"\"}}, \"type\": \"scattergl\"}], \"scattermapbox\": [{\"marker\": {\"colorbar\": {\"outlinewidth\": 0, \"ticks\": \"\"}}, \"type\": \"scattermapbox\"}], \"scatterpolar\": [{\"marker\": {\"colorbar\": {\"outlinewidth\": 0, \"ticks\": \"\"}}, \"type\": \"scatterpolar\"}], \"scatterpolargl\": [{\"marker\": {\"colorbar\": {\"outlinewidth\": 0, \"ticks\": \"\"}}, \"type\": \"scatterpolargl\"}], \"scatterternary\": [{\"marker\": {\"colorbar\": {\"outlinewidth\": 0, \"ticks\": \"\"}}, \"type\": \"scatterternary\"}], \"surface\": [{\"colorbar\": {\"outlinewidth\": 0, \"ticks\": \"\"}, \"colorscale\": [[0.0, \"#0d0887\"], [0.1111111111111111, \"#46039f\"], [0.2222222222222222, \"#7201a8\"], [0.3333333333333333, \"#9c179e\"], [0.4444444444444444, \"#bd3786\"], [0.5555555555555556, \"#d8576b\"], [0.6666666666666666, \"#ed7953\"], [0.7777777777777778, \"#fb9f3a\"], [0.8888888888888888, \"#fdca26\"], [1.0, \"#f0f921\"]], \"type\": \"surface\"}], \"table\": [{\"cells\": {\"fill\": {\"color\": \"#EBF0F8\"}, \"line\": {\"color\": \"white\"}}, \"header\": {\"fill\": {\"color\": \"#C8D4E3\"}, \"line\": {\"color\": \"white\"}}, \"type\": \"table\"}]}, \"layout\": {\"annotationdefaults\": {\"arrowcolor\": \"#2a3f5f\", \"arrowhead\": 0, \"arrowwidth\": 1}, \"autotypenumbers\": \"strict\", \"coloraxis\": {\"colorbar\": {\"outlinewidth\": 0, \"ticks\": \"\"}}, \"colorscale\": {\"diverging\": [[0, \"#8e0152\"], [0.1, \"#c51b7d\"], [0.2, \"#de77ae\"], [0.3, \"#f1b6da\"], [0.4, \"#fde0ef\"], [0.5, \"#f7f7f7\"], [0.6, \"#e6f5d0\"], [0.7, \"#b8e186\"], [0.8, \"#7fbc41\"], [0.9, \"#4d9221\"], [1, \"#276419\"]], \"sequential\": [[0.0, \"#0d0887\"], [0.1111111111111111, \"#46039f\"], [0.2222222222222222, \"#7201a8\"], [0.3333333333333333, \"#9c179e\"], [0.4444444444444444, \"#bd3786\"], [0.5555555555555556, \"#d8576b\"], [0.6666666666666666, \"#ed7953\"], [0.7777777777777778, \"#fb9f3a\"], [0.8888888888888888, \"#fdca26\"], [1.0, \"#f0f921\"]], \"sequentialminus\": [[0.0, \"#0d0887\"], [0.1111111111111111, \"#46039f\"], [0.2222222222222222, \"#7201a8\"], [0.3333333333333333, \"#9c179e\"], [0.4444444444444444, \"#bd3786\"], [0.5555555555555556, \"#d8576b\"], [0.6666666666666666, \"#ed7953\"], [0.7777777777777778, \"#fb9f3a\"], [0.8888888888888888, \"#fdca26\"], [1.0, \"#f0f921\"]]}, \"colorway\": [\"#636efa\", \"#EF553B\", \"#00cc96\", \"#ab63fa\", \"#FFA15A\", \"#19d3f3\", \"#FF6692\", \"#B6E880\", \"#FF97FF\", \"#FECB52\"], \"font\": {\"color\": \"#2a3f5f\"}, \"geo\": {\"bgcolor\": \"white\", \"lakecolor\": \"white\", \"landcolor\": \"#E5ECF6\", \"showlakes\": true, \"showland\": true, \"subunitcolor\": \"white\"}, \"hoverlabel\": {\"align\": \"left\"}, \"hovermode\": \"closest\", \"mapbox\": {\"style\": \"light\"}, \"paper_bgcolor\": \"white\", \"plot_bgcolor\": \"#E5ECF6\", \"polar\": {\"angularaxis\": {\"gridcolor\": \"white\", \"linecolor\": \"white\", \"ticks\": \"\"}, \"bgcolor\": \"#E5ECF6\", \"radialaxis\": {\"gridcolor\": \"white\", \"linecolor\": \"white\", \"ticks\": \"\"}}, \"scene\": {\"xaxis\": {\"backgroundcolor\": \"#E5ECF6\", \"gridcolor\": \"white\", \"gridwidth\": 2, \"linecolor\": \"white\", \"showbackground\": true, \"ticks\": \"\", \"zerolinecolor\": \"white\"}, \"yaxis\": {\"backgroundcolor\": \"#E5ECF6\", \"gridcolor\": \"white\", \"gridwidth\": 2, \"linecolor\": \"white\", \"showbackground\": true, \"ticks\": \"\", \"zerolinecolor\": \"white\"}, \"zaxis\": {\"backgroundcolor\": \"#E5ECF6\", \"gridcolor\": \"white\", \"gridwidth\": 2, \"linecolor\": \"white\", \"showbackground\": true, \"ticks\": \"\", \"zerolinecolor\": \"white\"}}, \"shapedefaults\": {\"line\": {\"color\": \"#2a3f5f\"}}, \"ternary\": {\"aaxis\": {\"gridcolor\": \"white\", \"linecolor\": \"white\", \"ticks\": \"\"}, \"baxis\": {\"gridcolor\": \"white\", \"linecolor\": \"white\", \"ticks\": \"\"}, \"bgcolor\": \"#E5ECF6\", \"caxis\": {\"gridcolor\": \"white\", \"linecolor\": \"white\", \"ticks\": \"\"}}, \"title\": {\"x\": 0.05}, \"xaxis\": {\"automargin\": true, \"gridcolor\": \"white\", \"linecolor\": \"white\", \"ticks\": \"\", \"title\": {\"standoff\": 15}, \"zerolinecolor\": \"white\", \"zerolinewidth\": 2}, \"yaxis\": {\"automargin\": true, \"gridcolor\": \"white\", \"linecolor\": \"white\", \"ticks\": \"\", \"title\": {\"standoff\": 15}, \"zerolinecolor\": \"white\", \"zerolinewidth\": 2}}}, \"xaxis\": {\"anchor\": \"y\", \"domain\": [0.0, 1.0], \"showticklabels\": false, \"title\": {\"text\": \"Data availability (%)\"}}, \"yaxis\": {\"anchor\": \"x\", \"domain\": [0.0, 1.0], \"title\": {\"text\": \"\"}}},                        {\"responsive\": true}                    ).then(function(){\n",
       "                            \n",
       "var gd = document.getElementById('02de1cd8-ca34-456a-89fc-95767c816545');\n",
       "var x = new MutationObserver(function (mutations, observer) {{\n",
       "        var display = window.getComputedStyle(gd).display;\n",
       "        if (!display || display === 'none') {{\n",
       "            console.log([gd, 'removed!']);\n",
       "            Plotly.purge(gd);\n",
       "            observer.disconnect();\n",
       "        }}\n",
       "}});\n",
       "\n",
       "// Listen for the removal of the full notebook cells\n",
       "var notebookContainer = gd.closest('#notebook-container');\n",
       "if (notebookContainer) {{\n",
       "    x.observe(notebookContainer, {childList: true});\n",
       "}}\n",
       "\n",
       "// Listen for the clearing of the current output cell\n",
       "var outputEl = gd.closest('.output');\n",
       "if (outputEl) {{\n",
       "    x.observe(outputEl, {childList: true});\n",
       "}}\n",
       "\n",
       "                        })                };                });            </script>        </div>"
      ]
     },
     "metadata": {},
     "output_type": "display_data"
    }
   ],
   "source": [
    "missing_bar_plot('FRA')"
   ]
  },
  {
   "cell_type": "code",
   "execution_count": null,
   "metadata": {},
   "outputs": [],
   "source": []
  }
 ],
 "metadata": {
  "kernelspec": {
   "display_name": "Python 3",
   "language": "python",
   "name": "python3"
  },
  "language_info": {
   "codemirror_mode": {
    "name": "ipython",
    "version": 3
   },
   "file_extension": ".py",
   "mimetype": "text/x-python",
   "name": "python",
   "nbconvert_exporter": "python",
   "pygments_lexer": "ipython3",
   "version": "3.7.7"
  }
 },
 "nbformat": 4,
 "nbformat_minor": 4
}
