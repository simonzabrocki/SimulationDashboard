{
 "cells": [
  {
   "cell_type": "code",
   "execution_count": 1,
   "metadata": {
    "ExecuteTime": {
     "end_time": "2021-08-31T02:32:09.369799Z",
     "start_time": "2021-08-31T02:32:06.739297Z"
    }
   },
   "outputs": [],
   "source": [
    "from ggmodel_dev.models.utils import all_model_dictionary, all_model_properties_df\n"
   ]
  },
  {
   "cell_type": "code",
   "execution_count": null,
   "metadata": {},
   "outputs": [],
   "source": []
  },
  {
   "cell_type": "code",
   "execution_count": 2,
   "metadata": {
    "ExecuteTime": {
     "end_time": "2021-08-31T02:32:09.881441Z",
     "start_time": "2021-08-31T02:32:09.860775Z"
    }
   },
   "outputs": [
    {
     "data": {
      "text/plain": [
       "{'TCLDi_model': <ggmodel_dev.graphmodel.GraphModel at 0x7f8f140416d0>,\n",
       " 'TCLDi_partial_model': <ggmodel_dev.graphmodel.GraphModel at 0x7f8f140416d0>,\n",
       " 'FPi_model': <ggmodel_dev.graphmodel.GraphModel at 0x7f8f021ab6d0>,\n",
       " 'IL_FL_model': <ggmodel_dev.graphmodel.GraphModel at 0x7f8f02603610>,\n",
       " 'BE2_partial_model': <ggmodel_dev.graphmodel.GraphModel at 0x7f8f021eccd0>,\n",
       " 'BE2_model': <ggmodel_dev.graphmodel.GraphModel at 0x7f8f0210d050>,\n",
       " 'BE3_model': <ggmodel_dev.graphmodel.GraphModel at 0x7f8f021fbd90>,\n",
       " 'SL1_model': <ggmodel_dev.graphmodel.GraphModel at 0x7f8f021fbdd0>,\n",
       " 'TMi_model': <ggmodel_dev.graphmodel.GraphModel at 0x7f8f021f9e10>,\n",
       " 'TAi_model': <ggmodel_dev.graphmodel.GraphModel at 0x7f8f021f9690>,\n",
       " 'M_xi_model': <ggmodel_dev.graphmodel.GraphModel at 0x7f8f021f9d50>,\n",
       " 'TMP_CO2eq_model': <ggmodel_dev.graphmodel.GraphModel at 0x7f8f0221b910>,\n",
       " 'TMT_CO2eq_model': <ggmodel_dev.graphmodel.GraphModel at 0x7f8f0221b210>,\n",
       " 'TMA_CO2eq_model': <ggmodel_dev.graphmodel.GraphModel at 0x7f8f0221be10>,\n",
       " 'TEE_CO2eq_model': <ggmodel_dev.graphmodel.GraphModel at 0x7f8f0216ff90>,\n",
       " 'FE_CO2eq_model': <ggmodel_dev.graphmodel.GraphModel at 0x7f8f0216fd50>,\n",
       " 'GE3_partial_model': <ggmodel_dev.graphmodel.GraphModel at 0x7f8f0216f190>,\n",
       " 'GE3_model': <ggmodel_dev.graphmodel.GraphModel at 0x7f8f0216fdd0>,\n",
       " 'OE_CO2eq_partial_model': <ggmodel_dev.graphmodel.GraphModel at 0x7f8f020cd490>,\n",
       " 'E_burn_CO2eq_model': <ggmodel_dev.graphmodel.GraphModel at 0x7f8f020cd350>,\n",
       " 'E_rice_CO2eq_model': <ggmodel_dev.graphmodel.GraphModel at 0x7f8f020cd050>,\n",
       " 'E_OS_CO2eq_model': <ggmodel_dev.graphmodel.GraphModel at 0x7f8f020cd290>,\n",
       " 'E_CR_CO2eq_model': <ggmodel_dev.graphmodel.GraphModel at 0x7f8f020cdcd0>,\n",
       " 'OE_CO2eq_model': <ggmodel_dev.graphmodel.GraphModel at 0x7f8f020e0210>,\n",
       " 'IWW_model': <ggmodel_dev.graphmodel.GraphModel at 0x7f8f020a6310>,\n",
       " 'MWU_model': <ggmodel_dev.graphmodel.GraphModel at 0x7f8f02099950>,\n",
       " 'EW1_partial_model': <ggmodel_dev.graphmodel.GraphModel at 0x7f8f020991d0>,\n",
       " 'EW2_partial_model': <ggmodel_dev.graphmodel.GraphModel at 0x7f8f02099750>,\n",
       " 'EW1_model': <ggmodel_dev.graphmodel.GraphModel at 0x7f8f02099210>,\n",
       " 'EW2_model': <ggmodel_dev.graphmodel.GraphModel at 0x7f8f020407d0>,\n",
       " 'EW_model': <ggmodel_dev.graphmodel.GraphModel at 0x7f8f02047d50>,\n",
       " 'VEHC_model': <ggmodel_dev.graphmodel.GraphModel at 0x7f8f01ff9190>,\n",
       " 'GGGM_model': <ggmodel_dev.graphmodel.GraphModel at 0x7f8f01ff9c50>}"
      ]
     },
     "execution_count": 2,
     "metadata": {},
     "output_type": "execute_result"
    }
   ],
   "source": [
    "all_model_dictionary"
   ]
  },
  {
   "cell_type": "code",
   "execution_count": 3,
   "metadata": {
    "ExecuteTime": {
     "end_time": "2021-08-31T02:33:32.084792Z",
     "start_time": "2021-08-31T02:33:30.217448Z"
    }
   },
   "outputs": [
    {
     "name": "stdout",
     "output_type": "stream",
     "text": [
      "TCLDi_model outputs/TCLDi_model\n",
      "TCLDi_partial_model outputs/TCLDi_partial_model\n",
      "FPi_model outputs/FPi_model\n",
      "IL_FL_model outputs/IL_FL_model\n",
      "BE2_partial_model outputs/BE2_partial_model\n",
      "BE2_model outputs/BE2_model\n",
      "BE3_model outputs/BE3_model\n",
      "SL1_model outputs/SL1_model\n",
      "TMi_model outputs/TMi_model\n",
      "TAi_model outputs/TAi_model\n",
      "M_xi_model outputs/M_xi_model\n",
      "TMP_CO2eq_model outputs/TMP_CO2eq_model\n",
      "TMT_CO2eq_model outputs/TMT_CO2eq_model\n",
      "TMA_CO2eq_model outputs/TMA_CO2eq_model\n",
      "TEE_CO2eq_model outputs/TEE_CO2eq_model\n",
      "FE_CO2eq_model outputs/FE_CO2eq_model\n",
      "GE3_partial_model outputs/GE3_partial_model\n",
      "GE3_model outputs/GE3_model\n",
      "OE_CO2eq_partial_model outputs/OE_CO2eq_partial_model\n",
      "E_burn_CO2eq_model outputs/E_burn_CO2eq_model\n",
      "E_rice_CO2eq_model outputs/E_rice_CO2eq_model\n",
      "E_OS_CO2eq_model outputs/E_OS_CO2eq_model\n",
      "E_CR_CO2eq_model outputs/E_CR_CO2eq_model\n",
      "OE_CO2eq_model outputs/OE_CO2eq_model\n",
      "IWW_model outputs/IWW_model\n",
      "MWU_model outputs/MWU_model\n",
      "EW1_partial_model outputs/EW1_partial_model\n",
      "EW2_partial_model outputs/EW2_partial_model\n",
      "EW1_model outputs/EW1_model\n",
      "EW2_model outputs/EW2_model\n",
      "EW_model outputs/EW_model\n",
      "VEHC_model outputs/VEHC_model\n",
      "GGGM_model outputs/GGGM_model\n"
     ]
    }
   ],
   "source": [
    "\n",
    "\n",
    "def render_model_dictionnary(model_dict, path):\n",
    "\n",
    "    for model_name, model in model_dict.items():\n",
    "        save_path = f'{path}/{model_name}'\n",
    "        print(model_name, save_path)\n",
    "        graph_draw = model.draw()\n",
    "        graph_draw.render(save_path)\n",
    "\n",
    "\n",
    "# def render_model(model, path='graphplots'):\n",
    "#     model_dict = model.model_dictionnary\n",
    "#     folder = model.__name__.split('.')[1]\n",
    "#     render_model_dictionnary(model_dict, f'{path}/{folder}')\n",
    "\n",
    "render_model_dictionnary(all_model_dictionary, 'outputs')\n"
   ]
  },
  {
   "cell_type": "code",
   "execution_count": null,
   "metadata": {},
   "outputs": [],
   "source": []
  }
 ],
 "metadata": {
  "kernelspec": {
   "display_name": "Python 3",
   "language": "python",
   "name": "python3"
  },
  "language_info": {
   "codemirror_mode": {
    "name": "ipython",
    "version": 3
   },
   "file_extension": ".py",
   "mimetype": "text/x-python",
   "name": "python",
   "nbconvert_exporter": "python",
   "pygments_lexer": "ipython3",
   "version": "3.7.7"
  }
 },
 "nbformat": 4,
 "nbformat_minor": 4
}
