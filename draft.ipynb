{
 "cells": [
  {
   "cell_type": "code",
   "execution_count": 1,
   "metadata": {
    "ExecuteTime": {
     "end_time": "2021-06-11T02:18:44.371453Z",
     "start_time": "2021-06-11T02:18:41.710122Z"
    }
   },
   "outputs": [],
   "source": [
    "import os\n",
    "import pandas as pd\n",
    "import plotly.express as px\n",
    "\n",
    "from plots.simulation.GE3_plots import sankeyplot, emission_data_dict_to_df\n",
    "from ggmodel_dev.models.landuse import BE2_scenario, GE3_scenario\n",
    "from ggmodel_dev.models.water import EW_scenario\n",
    "from ggmodel_dev.models.transport import VEHC_scenario\n",
    "from ggmodel_dev.projection import run_projection\n",
    "\n",
    "\n",
    "\n",
    "def get_data_dict_from_folder_parquet(folder_name):\n",
    "    files = os.listdir(folder_name)\n",
    "    data_dict = {file.split('.')[0]: pd.read_parquet(\n",
    "        f'{folder_name}/{file}') for file in files}\n",
    "    data_dict = {name: df[name] for name, df in data_dict.items()}\n",
    "    return data_dict\n",
    "\n",
    "\n",
    "def get_data_dict_from_folder(folder_name):\n",
    "    files = os.listdir(folder_name)\n",
    "    data_dict = {file.split('.')[0]: pd.read_csv(\n",
    "        f'{folder_name}/{file}') for file in files}\n",
    "\n",
    "    data_dict = {name: df.set_index([col for col in df.columns if col != name]).squeeze(\n",
    "    ) for name, df in data_dict.items()}\n",
    "\n",
    "    return data_dict"
   ]
  },
  {
   "cell_type": "code",
   "execution_count": 2,
   "metadata": {
    "ExecuteTime": {
     "end_time": "2021-06-11T02:18:47.815612Z",
     "start_time": "2021-06-11T02:18:44.372926Z"
    }
   },
   "outputs": [],
   "source": [
    "scenario_data_dictionnary = {\n",
    "    'EW_models': get_data_dict_from_folder('data/sim/EW'),\n",
    "    'BE2_model': get_data_dict_from_folder('data/sim/BE2'),\n",
    "    'GE3_model': get_data_dict_from_folder_parquet('data/sim/GE3'),\n",
    "    'VEHC_model': get_data_dict_from_folder('data/sim/VEHC'),\n",
    "}\n"
   ]
  },
  {
   "cell_type": "code",
   "execution_count": 3,
   "metadata": {
    "ExecuteTime": {
     "end_time": "2021-06-11T02:18:47.827874Z",
     "start_time": "2021-06-11T02:18:47.817281Z"
    }
   },
   "outputs": [],
   "source": [
    "from ggmodel_dev.projection import *\n",
    "from ggmodel_dev.models.landuse.GE3 import model_dictionnary\n",
    "\n",
    "projection_dict = {\n",
    "    'Pop': lambda x: x,\n",
    "    'OEi': lambda x: x,\n",
    "    'EF_EEi': lambda x: x,\n",
    "    'TAi': lambda x: x,\n",
    "    'IN_F': lambda x: x,\n",
    "    'MYi': lambda x: x,\n",
    "    'EF_ASi': lambda x: x,\n",
    "    'EF_Ti': lambda x: x,\n",
    "    'EF_CH4Ti': lambda x: x,\n",
    "    'EF_Li': lambda x: x,\n",
    "    'EF_F': lambda x: x,        \n",
    "}\n",
    "\n",
    "\n",
    "def run_scenario(data_dict,\n",
    "                 MM_Ti=1/3,\n",
    "                 MM_ASi=1/3,\n",
    "                 MM_LPi=1/3,\n",
    "                 TAi_pct_Asses=1,\n",
    "                 TAi_pct_Cattle_dairy=1,\n",
    "                 TAi_pct_Cattle_non_dairy=1,\n",
    "                 TAi_pct_Chickens_broilers=1,\n",
    "                 TAi_pct_Chickens_layers=1,\n",
    "                 TAi_pct_Ducks=1,\n",
    "                 TAi_pct_Goats=1,\n",
    "                 TAi_pct_Horses=1,\n",
    "                 TAi_pct_Mules=1,\n",
    "                 TAi_pct_Sheep=1,\n",
    "                 TAi_pct_Swine_breeding=1,\n",
    "                 TAi_pct_Swine_market=1,\n",
    "                 TAi_pct_Turkeys=1\n",
    "                 ):\n",
    "    \n",
    "    data_dict = data_dict.copy()\n",
    "    \n",
    "    \n",
    "    data_dict['MM_Ti'] = MM_Ti\n",
    "    data_dict['MM_ASi'] = MM_ASi\n",
    "    data_dict['MM_LPi'] = MM_LPi\n",
    "    \n",
    "    TAi_pct_target = pd.Series(index=['Asses', 'Cattle, dairy','Cattle, non-dairy',\n",
    "                                  'Chickens, broilers', 'Chickens, layers', 'Ducks', 'Goats',\n",
    "                                  'Horses', 'Mules', 'Sheep', 'Swine, breeding', 'Swine, market',\n",
    "                                  'Turkeys'],\n",
    "                           data=[TAi_pct_Asses, TAi_pct_Cattle_dairy,\n",
    "                                 TAi_pct_Cattle_non_dairy, TAi_pct_Chickens_broilers,\n",
    "                                 TAi_pct_Chickens_layers, TAi_pct_Ducks,TAi_pct_Goats,\n",
    "                                 TAi_pct_Horses, TAi_pct_Mules ,TAi_pct_Sheep, TAi_pct_Swine_breeding,\n",
    "                                 TAi_pct_Swine_market, TAi_pct_Turkeys\n",
    "                               \n",
    "                           ], name='TAi_pct_target')\n",
    "    \n",
    "    TAi_pct_target.index.name = 'Item'\n",
    "    \n",
    "    tmp = pd.merge(data_dict['TAi'].reset_index(), TAi_pct_target.reset_index(),on='Item')\n",
    "    tmp['TAi'] = tmp['TAi'] * tmp['TAi_pct_target']\n",
    "\n",
    "    data_dict['TAi'] = tmp.set_index(['ISO', 'Year', 'Item'])['TAi']\n",
    "    \n",
    "    results = model_dictionnary['GE3_model'].run(data_dict)\n",
    "    \n",
    "    return results"
   ]
  },
  {
   "cell_type": "code",
   "execution_count": 99,
   "metadata": {
    "ExecuteTime": {
     "end_time": "2021-06-11T02:34:09.255216Z",
     "start_time": "2021-06-11T02:34:09.247963Z"
    }
   },
   "outputs": [],
   "source": [
    "def emission_data_dict_to_df(data_dict):\n",
    "\n",
    "    data_dict = data_dict.copy()\n",
    "\n",
    "    data = pd.concat([v.to_frame(name='Value').assign(Variable=k)\n",
    "                      for k, v in data_dict.items()], axis=0).reset_index().dropna()\n",
    "\n",
    "    data = pd.concat([data, data.groupby('Variable').sum().reset_index().rename(\n",
    "        columns={\"Variable\": 'Item'}).assign(Variable='GE3_partial')])\n",
    "\n",
    "    return data"
   ]
  },
  {
   "cell_type": "code",
   "execution_count": 123,
   "metadata": {
    "ExecuteTime": {
     "end_time": "2021-06-11T02:38:39.044972Z",
     "start_time": "2021-06-11T02:38:39.037610Z"
    }
   },
   "outputs": [],
   "source": [
    "def run_all_scenarios_GE3(data_dict, ISO, args_dict_1, args_dict_2):\n",
    "    scenarios_results = {}\n",
    "    data_dict = {k: v.loc[ISO, 2018, :] for k, v in data_dict.items()}\n",
    "\n",
    "    scenarios_results['BAU'] = run_scenario(\n",
    "        data_dict=data_dict, MM_Ti=data_dict['MM_Ti'], MM_ASi=data_dict['MM_ASi'])\n",
    "    scenarios_results['scenario_one'] = run_scenario(\n",
    "        data_dict=data_dict, **args_dict_1)\n",
    "    scenarios_results['scenario_two'] = run_scenario(\n",
    "        data_dict=data_dict, **args_dict_2)\n",
    "    \n",
    "    displayed_variables = ['TEE_CO2eq', 'TMA_CO2eq', 'TMT_CO2eq', 'TMP_CO2eq']\n",
    "\n",
    "    df_0 = emission_data_dict_to_df({k: v for k, v in scenarios_results['BAU'].items() if k in displayed_variables})\n",
    "    df_1 = emission_data_dict_to_df({k: v for k, v in scenarios_results['scenario_one'].items() if k in displayed_variables})\n",
    "    df_2 = emission_data_dict_to_df({k: v for k, v in scenarios_results['scenario_two'].items() if k in displayed_variables})\n",
    "\n",
    "    df = pd.concat([df_1.assign(scenario='BAU'), df_1.assign(scenario='scenario 1'), df_2.assign(scenario='scenario 2')], axis=0)\n",
    "    \n",
    "    fig_1 = px.treemap(df.query('Variable != \"GE3_partial\"'), path=['Item','name', 'scenario'], values='Value')\n",
    "\n",
    "    return fig_1, {}, {}\n"
   ]
  },
  {
   "cell_type": "code",
   "execution_count": 124,
   "metadata": {
    "ExecuteTime": {
     "end_time": "2021-06-11T02:38:39.508265Z",
     "start_time": "2021-06-11T02:38:39.217076Z"
    }
   },
   "outputs": [
    {
     "name": "stderr",
     "output_type": "stream",
     "text": [
      "/home/simon/anaconda3/lib/python3.7/site-packages/pandas/core/indexes/multi.py:3585: RuntimeWarning:\n",
      "\n",
      "The values in the array are unorderable. Pass `sort=False` to suppress this warning.\n",
      "\n"
     ]
    }
   ],
   "source": [
    "data_dict = scenario_data_dictionnary['GE3_model']\n",
    "\n",
    "args_dict_1 = dict(MM_Ti=1/3, MM_ASi=1/3, MM_LPi=1/3)\n",
    "args_dict_2 = dict(MM_Ti=1/3, MM_ASi=1/3, MM_LPi=1/3, TAi_pct_Cattle_non_dairy=1/2)\n",
    "\n",
    "df = run_all_scenarios_GE3(data_dict, 'FRA', args_dict_1, args_dict_2)\n",
    " \n",
    "\n",
    "#sankeyplot(df, 'Item', 'Variable')"
   ]
  },
  {
   "cell_type": "code",
   "execution_count": 125,
   "metadata": {
    "ExecuteTime": {
     "end_time": "2021-06-11T02:38:39.517655Z",
     "start_time": "2021-06-11T02:38:39.510128Z"
    }
   },
   "outputs": [],
   "source": [
    "from ggmodel_dev.models.landuse.GE3 import model_dictionnary\n",
    "df = df.merge(model_dictionnary['GE3_model'].summary_df[['name', 'unit']], left_on='Variable', right_index=True, how='left')\n",
    "\n",
    "df.loc[df.Variable == 'GE3_partial', 'unit'] = 'gigagrams (CO2eq)'\n",
    "df.loc[df.Variable == 'GE3_partial', 'name'] = 'Non-CO2 agricultural emissions'\n",
    "\n",
    "# df = df.merge(model_dictionnary['GE3_model'].summary_df[['name']], left_on='Item', right_index=True, how='left', suffixes=('_target', '_source'))\n",
    "# df['name'] = df['name_target']\n",
    "# df.loc[df.name_source.isna(), 'name'] = df.loc[df.name_source.isna(), 'Item']"
   ]
  },
  {
   "cell_type": "code",
   "execution_count": 126,
   "metadata": {
    "ExecuteTime": {
     "end_time": "2021-06-11T02:38:39.690298Z",
     "start_time": "2021-06-11T02:38:39.668615Z"
    }
   },
   "outputs": [
    {
     "data": {
      "text/html": [
       "<div>\n",
       "<style scoped>\n",
       "    .dataframe tbody tr th:only-of-type {\n",
       "        vertical-align: middle;\n",
       "    }\n",
       "\n",
       "    .dataframe tbody tr th {\n",
       "        vertical-align: top;\n",
       "    }\n",
       "\n",
       "    .dataframe thead th {\n",
       "        text-align: right;\n",
       "    }\n",
       "</style>\n",
       "<table border=\"1\" class=\"dataframe\">\n",
       "  <thead>\n",
       "    <tr style=\"text-align: right;\">\n",
       "      <th></th>\n",
       "      <th>ISO</th>\n",
       "      <th>Year</th>\n",
       "      <th>Item</th>\n",
       "      <th>Value</th>\n",
       "      <th>Variable</th>\n",
       "      <th>scenario</th>\n",
       "      <th>name</th>\n",
       "      <th>unit</th>\n",
       "    </tr>\n",
       "  </thead>\n",
       "  <tbody>\n",
       "    <tr>\n",
       "      <th>1</th>\n",
       "      <td>FRA</td>\n",
       "      <td>2018</td>\n",
       "      <td>Asses</td>\n",
       "      <td>0.871797</td>\n",
       "      <td>TMA_CO2eq</td>\n",
       "      <td>BAU</td>\n",
       "      <td>Emissions (CO2eq) (Manure applied)</td>\n",
       "      <td>gigagrams (CO2eq)</td>\n",
       "    </tr>\n",
       "    <tr>\n",
       "      <th>3</th>\n",
       "      <td>FRA</td>\n",
       "      <td>2018</td>\n",
       "      <td>Cattle, dairy</td>\n",
       "      <td>866.338757</td>\n",
       "      <td>TMA_CO2eq</td>\n",
       "      <td>BAU</td>\n",
       "      <td>Emissions (CO2eq) (Manure applied)</td>\n",
       "      <td>gigagrams (CO2eq)</td>\n",
       "    </tr>\n",
       "    <tr>\n",
       "      <th>4</th>\n",
       "      <td>FRA</td>\n",
       "      <td>2018</td>\n",
       "      <td>Cattle, non-dairy</td>\n",
       "      <td>1759.820777</td>\n",
       "      <td>TMA_CO2eq</td>\n",
       "      <td>BAU</td>\n",
       "      <td>Emissions (CO2eq) (Manure applied)</td>\n",
       "      <td>gigagrams (CO2eq)</td>\n",
       "    </tr>\n",
       "    <tr>\n",
       "      <th>6</th>\n",
       "      <td>FRA</td>\n",
       "      <td>2018</td>\n",
       "      <td>Chickens, broilers</td>\n",
       "      <td>89.383033</td>\n",
       "      <td>TMA_CO2eq</td>\n",
       "      <td>BAU</td>\n",
       "      <td>Emissions (CO2eq) (Manure applied)</td>\n",
       "      <td>gigagrams (CO2eq)</td>\n",
       "    </tr>\n",
       "    <tr>\n",
       "      <th>7</th>\n",
       "      <td>FRA</td>\n",
       "      <td>2018</td>\n",
       "      <td>Chickens, layers</td>\n",
       "      <td>86.495942</td>\n",
       "      <td>TMA_CO2eq</td>\n",
       "      <td>BAU</td>\n",
       "      <td>Emissions (CO2eq) (Manure applied)</td>\n",
       "      <td>gigagrams (CO2eq)</td>\n",
       "    </tr>\n",
       "    <tr>\n",
       "      <th>...</th>\n",
       "      <td>...</td>\n",
       "      <td>...</td>\n",
       "      <td>...</td>\n",
       "      <td>...</td>\n",
       "      <td>...</td>\n",
       "      <td>...</td>\n",
       "      <td>...</td>\n",
       "      <td>...</td>\n",
       "    </tr>\n",
       "    <tr>\n",
       "      <th>74</th>\n",
       "      <td>FRA</td>\n",
       "      <td>2018</td>\n",
       "      <td>Swine, market</td>\n",
       "      <td>377.755906</td>\n",
       "      <td>TEE_CO2eq</td>\n",
       "      <td>scenario 2</td>\n",
       "      <td>Emissions (CO2eq) (Enteric)</td>\n",
       "      <td>gigagrams (CO2eq)</td>\n",
       "    </tr>\n",
       "    <tr>\n",
       "      <th>0</th>\n",
       "      <td>NaN</td>\n",
       "      <td>18162</td>\n",
       "      <td>TEE_CO2eq</td>\n",
       "      <td>19594.276243</td>\n",
       "      <td>GE3_partial</td>\n",
       "      <td>scenario 2</td>\n",
       "      <td>Non-CO2 agricultural emissions</td>\n",
       "      <td>gigagrams (CO2eq)</td>\n",
       "    </tr>\n",
       "    <tr>\n",
       "      <th>1</th>\n",
       "      <td>NaN</td>\n",
       "      <td>26234</td>\n",
       "      <td>TMA_CO2eq</td>\n",
       "      <td>2733.116450</td>\n",
       "      <td>GE3_partial</td>\n",
       "      <td>scenario 2</td>\n",
       "      <td>Non-CO2 agricultural emissions</td>\n",
       "      <td>gigagrams (CO2eq)</td>\n",
       "    </tr>\n",
       "    <tr>\n",
       "      <th>2</th>\n",
       "      <td>NaN</td>\n",
       "      <td>22198</td>\n",
       "      <td>TMP_CO2eq</td>\n",
       "      <td>3811.784884</td>\n",
       "      <td>GE3_partial</td>\n",
       "      <td>scenario 2</td>\n",
       "      <td>Non-CO2 agricultural emissions</td>\n",
       "      <td>gigagrams (CO2eq)</td>\n",
       "    </tr>\n",
       "    <tr>\n",
       "      <th>3</th>\n",
       "      <td>NaN</td>\n",
       "      <td>26234</td>\n",
       "      <td>TMT_CO2eq</td>\n",
       "      <td>6117.631610</td>\n",
       "      <td>GE3_partial</td>\n",
       "      <td>scenario 2</td>\n",
       "      <td>Non-CO2 agricultural emissions</td>\n",
       "      <td>gigagrams (CO2eq)</td>\n",
       "    </tr>\n",
       "  </tbody>\n",
       "</table>\n",
       "<p>150 rows × 8 columns</p>\n",
       "</div>"
      ],
      "text/plain": [
       "    ISO   Year                Item         Value     Variable    scenario  \\\n",
       "1   FRA   2018               Asses      0.871797    TMA_CO2eq         BAU   \n",
       "3   FRA   2018       Cattle, dairy    866.338757    TMA_CO2eq         BAU   \n",
       "4   FRA   2018   Cattle, non-dairy   1759.820777    TMA_CO2eq         BAU   \n",
       "6   FRA   2018  Chickens, broilers     89.383033    TMA_CO2eq         BAU   \n",
       "7   FRA   2018    Chickens, layers     86.495942    TMA_CO2eq         BAU   \n",
       "..  ...    ...                 ...           ...          ...         ...   \n",
       "74  FRA   2018       Swine, market    377.755906    TEE_CO2eq  scenario 2   \n",
       "0   NaN  18162           TEE_CO2eq  19594.276243  GE3_partial  scenario 2   \n",
       "1   NaN  26234           TMA_CO2eq   2733.116450  GE3_partial  scenario 2   \n",
       "2   NaN  22198           TMP_CO2eq   3811.784884  GE3_partial  scenario 2   \n",
       "3   NaN  26234           TMT_CO2eq   6117.631610  GE3_partial  scenario 2   \n",
       "\n",
       "                                  name               unit  \n",
       "1   Emissions (CO2eq) (Manure applied)  gigagrams (CO2eq)  \n",
       "3   Emissions (CO2eq) (Manure applied)  gigagrams (CO2eq)  \n",
       "4   Emissions (CO2eq) (Manure applied)  gigagrams (CO2eq)  \n",
       "6   Emissions (CO2eq) (Manure applied)  gigagrams (CO2eq)  \n",
       "7   Emissions (CO2eq) (Manure applied)  gigagrams (CO2eq)  \n",
       "..                                 ...                ...  \n",
       "74         Emissions (CO2eq) (Enteric)  gigagrams (CO2eq)  \n",
       "0       Non-CO2 agricultural emissions  gigagrams (CO2eq)  \n",
       "1       Non-CO2 agricultural emissions  gigagrams (CO2eq)  \n",
       "2       Non-CO2 agricultural emissions  gigagrams (CO2eq)  \n",
       "3       Non-CO2 agricultural emissions  gigagrams (CO2eq)  \n",
       "\n",
       "[150 rows x 8 columns]"
      ]
     },
     "execution_count": 126,
     "metadata": {},
     "output_type": "execute_result"
    }
   ],
   "source": [
    "df"
   ]
  },
  {
   "cell_type": "code",
   "execution_count": 127,
   "metadata": {
    "ExecuteTime": {
     "end_time": "2021-06-11T02:38:40.412033Z",
     "start_time": "2021-06-11T02:38:40.241717Z"
    }
   },
   "outputs": [
    {
     "data": {
      "application/vnd.plotly.v1+json": {
       "config": {
        "plotlyServerURL": "https://plot.ly"
       },
       "data": [
        {
         "branchvalues": "total",
         "domain": {
          "x": [
           0,
           1
          ],
          "y": [
           0,
           1
          ]
         },
         "hovertemplate": "labels=%{label}<br>Value=%{value}<br>parent=%{parent}<br>id=%{id}<extra></extra>",
         "ids": [
          "Asses/Emissions (CO2eq) (Enteric)/BAU",
          "Cattle, dairy/Emissions (CO2eq) (Enteric)/BAU",
          "Cattle, non-dairy/Emissions (CO2eq) (Enteric)/BAU",
          "Goats/Emissions (CO2eq) (Enteric)/BAU",
          "Horses/Emissions (CO2eq) (Enteric)/BAU",
          "Mules/Emissions (CO2eq) (Enteric)/BAU",
          "Sheep/Emissions (CO2eq) (Enteric)/BAU",
          "Swine, breeding/Emissions (CO2eq) (Enteric)/BAU",
          "Swine, market/Emissions (CO2eq) (Enteric)/BAU",
          "Asses/Emissions (CO2eq) (Manure applied)/BAU",
          "Cattle, dairy/Emissions (CO2eq) (Manure applied)/BAU",
          "Cattle, non-dairy/Emissions (CO2eq) (Manure applied)/BAU",
          "Chickens, broilers/Emissions (CO2eq) (Manure applied)/BAU",
          "Chickens, layers/Emissions (CO2eq) (Manure applied)/BAU",
          "Ducks/Emissions (CO2eq) (Manure applied)/BAU",
          "Goats/Emissions (CO2eq) (Manure applied)/BAU",
          "Horses/Emissions (CO2eq) (Manure applied)/BAU",
          "Mules/Emissions (CO2eq) (Manure applied)/BAU",
          "Sheep/Emissions (CO2eq) (Manure applied)/BAU",
          "Swine, breeding/Emissions (CO2eq) (Manure applied)/BAU",
          "Swine, market/Emissions (CO2eq) (Manure applied)/BAU",
          "Turkeys/Emissions (CO2eq) (Manure applied)/BAU",
          "Asses/Emissions (CO2eq) (Manure management)/BAU",
          "Cattle, dairy/Emissions (CO2eq) (Manure management)/BAU",
          "Cattle, non-dairy/Emissions (CO2eq) (Manure management)/BAU",
          "Chickens, broilers/Emissions (CO2eq) (Manure management)/BAU",
          "Chickens, layers/Emissions (CO2eq) (Manure management)/BAU",
          "Ducks/Emissions (CO2eq) (Manure management)/BAU",
          "Goats/Emissions (CO2eq) (Manure management)/BAU",
          "Horses/Emissions (CO2eq) (Manure management)/BAU",
          "Mules/Emissions (CO2eq) (Manure management)/BAU",
          "Sheep/Emissions (CO2eq) (Manure management)/BAU",
          "Swine, breeding/Emissions (CO2eq) (Manure management)/BAU",
          "Swine, market/Emissions (CO2eq) (Manure management)/BAU",
          "Turkeys/Emissions (CO2eq) (Manure management)/BAU",
          "Asses/Emissions (CO2eq) (Manure on pasture)/BAU",
          "Cattle, dairy/Emissions (CO2eq) (Manure on pasture)/BAU",
          "Cattle, non-dairy/Emissions (CO2eq) (Manure on pasture)/BAU",
          "Chickens, broilers/Emissions (CO2eq) (Manure on pasture)/BAU",
          "Chickens, layers/Emissions (CO2eq) (Manure on pasture)/BAU",
          "Ducks/Emissions (CO2eq) (Manure on pasture)/BAU",
          "Goats/Emissions (CO2eq) (Manure on pasture)/BAU",
          "Horses/Emissions (CO2eq) (Manure on pasture)/BAU",
          "Mules/Emissions (CO2eq) (Manure on pasture)/BAU",
          "Sheep/Emissions (CO2eq) (Manure on pasture)/BAU",
          "Turkeys/Emissions (CO2eq) (Manure on pasture)/BAU",
          "Asses/Emissions (CO2eq) (Enteric)/scenario 1",
          "Cattle, dairy/Emissions (CO2eq) (Enteric)/scenario 1",
          "Cattle, non-dairy/Emissions (CO2eq) (Enteric)/scenario 1",
          "Goats/Emissions (CO2eq) (Enteric)/scenario 1",
          "Horses/Emissions (CO2eq) (Enteric)/scenario 1",
          "Mules/Emissions (CO2eq) (Enteric)/scenario 1",
          "Sheep/Emissions (CO2eq) (Enteric)/scenario 1",
          "Swine, breeding/Emissions (CO2eq) (Enteric)/scenario 1",
          "Swine, market/Emissions (CO2eq) (Enteric)/scenario 1",
          "Asses/Emissions (CO2eq) (Manure applied)/scenario 1",
          "Cattle, dairy/Emissions (CO2eq) (Manure applied)/scenario 1",
          "Cattle, non-dairy/Emissions (CO2eq) (Manure applied)/scenario 1",
          "Chickens, broilers/Emissions (CO2eq) (Manure applied)/scenario 1",
          "Chickens, layers/Emissions (CO2eq) (Manure applied)/scenario 1",
          "Ducks/Emissions (CO2eq) (Manure applied)/scenario 1",
          "Goats/Emissions (CO2eq) (Manure applied)/scenario 1",
          "Horses/Emissions (CO2eq) (Manure applied)/scenario 1",
          "Mules/Emissions (CO2eq) (Manure applied)/scenario 1",
          "Sheep/Emissions (CO2eq) (Manure applied)/scenario 1",
          "Swine, breeding/Emissions (CO2eq) (Manure applied)/scenario 1",
          "Swine, market/Emissions (CO2eq) (Manure applied)/scenario 1",
          "Turkeys/Emissions (CO2eq) (Manure applied)/scenario 1",
          "Asses/Emissions (CO2eq) (Manure management)/scenario 1",
          "Cattle, dairy/Emissions (CO2eq) (Manure management)/scenario 1",
          "Cattle, non-dairy/Emissions (CO2eq) (Manure management)/scenario 1",
          "Chickens, broilers/Emissions (CO2eq) (Manure management)/scenario 1",
          "Chickens, layers/Emissions (CO2eq) (Manure management)/scenario 1",
          "Ducks/Emissions (CO2eq) (Manure management)/scenario 1",
          "Goats/Emissions (CO2eq) (Manure management)/scenario 1",
          "Horses/Emissions (CO2eq) (Manure management)/scenario 1",
          "Mules/Emissions (CO2eq) (Manure management)/scenario 1",
          "Sheep/Emissions (CO2eq) (Manure management)/scenario 1",
          "Swine, breeding/Emissions (CO2eq) (Manure management)/scenario 1",
          "Swine, market/Emissions (CO2eq) (Manure management)/scenario 1",
          "Turkeys/Emissions (CO2eq) (Manure management)/scenario 1",
          "Asses/Emissions (CO2eq) (Manure on pasture)/scenario 1",
          "Cattle, dairy/Emissions (CO2eq) (Manure on pasture)/scenario 1",
          "Cattle, non-dairy/Emissions (CO2eq) (Manure on pasture)/scenario 1",
          "Chickens, broilers/Emissions (CO2eq) (Manure on pasture)/scenario 1",
          "Chickens, layers/Emissions (CO2eq) (Manure on pasture)/scenario 1",
          "Ducks/Emissions (CO2eq) (Manure on pasture)/scenario 1",
          "Goats/Emissions (CO2eq) (Manure on pasture)/scenario 1",
          "Horses/Emissions (CO2eq) (Manure on pasture)/scenario 1",
          "Mules/Emissions (CO2eq) (Manure on pasture)/scenario 1",
          "Sheep/Emissions (CO2eq) (Manure on pasture)/scenario 1",
          "Turkeys/Emissions (CO2eq) (Manure on pasture)/scenario 1",
          "Asses/Emissions (CO2eq) (Enteric)/scenario 2",
          "Cattle, dairy/Emissions (CO2eq) (Enteric)/scenario 2",
          "Cattle, non-dairy/Emissions (CO2eq) (Enteric)/scenario 2",
          "Goats/Emissions (CO2eq) (Enteric)/scenario 2",
          "Horses/Emissions (CO2eq) (Enteric)/scenario 2",
          "Mules/Emissions (CO2eq) (Enteric)/scenario 2",
          "Sheep/Emissions (CO2eq) (Enteric)/scenario 2",
          "Swine, breeding/Emissions (CO2eq) (Enteric)/scenario 2",
          "Swine, market/Emissions (CO2eq) (Enteric)/scenario 2",
          "Asses/Emissions (CO2eq) (Manure applied)/scenario 2",
          "Cattle, dairy/Emissions (CO2eq) (Manure applied)/scenario 2",
          "Cattle, non-dairy/Emissions (CO2eq) (Manure applied)/scenario 2",
          "Chickens, broilers/Emissions (CO2eq) (Manure applied)/scenario 2",
          "Chickens, layers/Emissions (CO2eq) (Manure applied)/scenario 2",
          "Ducks/Emissions (CO2eq) (Manure applied)/scenario 2",
          "Goats/Emissions (CO2eq) (Manure applied)/scenario 2",
          "Horses/Emissions (CO2eq) (Manure applied)/scenario 2",
          "Mules/Emissions (CO2eq) (Manure applied)/scenario 2",
          "Sheep/Emissions (CO2eq) (Manure applied)/scenario 2",
          "Swine, breeding/Emissions (CO2eq) (Manure applied)/scenario 2",
          "Swine, market/Emissions (CO2eq) (Manure applied)/scenario 2",
          "Turkeys/Emissions (CO2eq) (Manure applied)/scenario 2",
          "Asses/Emissions (CO2eq) (Manure management)/scenario 2",
          "Cattle, dairy/Emissions (CO2eq) (Manure management)/scenario 2",
          "Cattle, non-dairy/Emissions (CO2eq) (Manure management)/scenario 2",
          "Chickens, broilers/Emissions (CO2eq) (Manure management)/scenario 2",
          "Chickens, layers/Emissions (CO2eq) (Manure management)/scenario 2",
          "Ducks/Emissions (CO2eq) (Manure management)/scenario 2",
          "Goats/Emissions (CO2eq) (Manure management)/scenario 2",
          "Horses/Emissions (CO2eq) (Manure management)/scenario 2",
          "Mules/Emissions (CO2eq) (Manure management)/scenario 2",
          "Sheep/Emissions (CO2eq) (Manure management)/scenario 2",
          "Swine, breeding/Emissions (CO2eq) (Manure management)/scenario 2",
          "Swine, market/Emissions (CO2eq) (Manure management)/scenario 2",
          "Turkeys/Emissions (CO2eq) (Manure management)/scenario 2",
          "Asses/Emissions (CO2eq) (Manure on pasture)/scenario 2",
          "Cattle, dairy/Emissions (CO2eq) (Manure on pasture)/scenario 2",
          "Cattle, non-dairy/Emissions (CO2eq) (Manure on pasture)/scenario 2",
          "Chickens, broilers/Emissions (CO2eq) (Manure on pasture)/scenario 2",
          "Chickens, layers/Emissions (CO2eq) (Manure on pasture)/scenario 2",
          "Ducks/Emissions (CO2eq) (Manure on pasture)/scenario 2",
          "Goats/Emissions (CO2eq) (Manure on pasture)/scenario 2",
          "Horses/Emissions (CO2eq) (Manure on pasture)/scenario 2",
          "Mules/Emissions (CO2eq) (Manure on pasture)/scenario 2",
          "Sheep/Emissions (CO2eq) (Manure on pasture)/scenario 2",
          "Turkeys/Emissions (CO2eq) (Manure on pasture)/scenario 2",
          "Asses/Emissions (CO2eq) (Enteric)",
          "Cattle, dairy/Emissions (CO2eq) (Enteric)",
          "Cattle, non-dairy/Emissions (CO2eq) (Enteric)",
          "Goats/Emissions (CO2eq) (Enteric)",
          "Horses/Emissions (CO2eq) (Enteric)",
          "Mules/Emissions (CO2eq) (Enteric)",
          "Sheep/Emissions (CO2eq) (Enteric)",
          "Swine, breeding/Emissions (CO2eq) (Enteric)",
          "Swine, market/Emissions (CO2eq) (Enteric)",
          "Asses/Emissions (CO2eq) (Manure applied)",
          "Cattle, dairy/Emissions (CO2eq) (Manure applied)",
          "Cattle, non-dairy/Emissions (CO2eq) (Manure applied)",
          "Chickens, broilers/Emissions (CO2eq) (Manure applied)",
          "Chickens, layers/Emissions (CO2eq) (Manure applied)",
          "Ducks/Emissions (CO2eq) (Manure applied)",
          "Goats/Emissions (CO2eq) (Manure applied)",
          "Horses/Emissions (CO2eq) (Manure applied)",
          "Mules/Emissions (CO2eq) (Manure applied)",
          "Sheep/Emissions (CO2eq) (Manure applied)",
          "Swine, breeding/Emissions (CO2eq) (Manure applied)",
          "Swine, market/Emissions (CO2eq) (Manure applied)",
          "Turkeys/Emissions (CO2eq) (Manure applied)",
          "Asses/Emissions (CO2eq) (Manure management)",
          "Cattle, dairy/Emissions (CO2eq) (Manure management)",
          "Cattle, non-dairy/Emissions (CO2eq) (Manure management)",
          "Chickens, broilers/Emissions (CO2eq) (Manure management)",
          "Chickens, layers/Emissions (CO2eq) (Manure management)",
          "Ducks/Emissions (CO2eq) (Manure management)",
          "Goats/Emissions (CO2eq) (Manure management)",
          "Horses/Emissions (CO2eq) (Manure management)",
          "Mules/Emissions (CO2eq) (Manure management)",
          "Sheep/Emissions (CO2eq) (Manure management)",
          "Swine, breeding/Emissions (CO2eq) (Manure management)",
          "Swine, market/Emissions (CO2eq) (Manure management)",
          "Turkeys/Emissions (CO2eq) (Manure management)",
          "Asses/Emissions (CO2eq) (Manure on pasture)",
          "Cattle, dairy/Emissions (CO2eq) (Manure on pasture)",
          "Cattle, non-dairy/Emissions (CO2eq) (Manure on pasture)",
          "Chickens, broilers/Emissions (CO2eq) (Manure on pasture)",
          "Chickens, layers/Emissions (CO2eq) (Manure on pasture)",
          "Ducks/Emissions (CO2eq) (Manure on pasture)",
          "Goats/Emissions (CO2eq) (Manure on pasture)",
          "Horses/Emissions (CO2eq) (Manure on pasture)",
          "Mules/Emissions (CO2eq) (Manure on pasture)",
          "Sheep/Emissions (CO2eq) (Manure on pasture)",
          "Turkeys/Emissions (CO2eq) (Manure on pasture)",
          "Asses",
          "Cattle, dairy",
          "Cattle, non-dairy",
          "Chickens, broilers",
          "Chickens, layers",
          "Ducks",
          "Goats",
          "Horses",
          "Mules",
          "Sheep",
          "Swine, breeding",
          "Swine, market",
          "Turkeys"
         ],
         "labels": [
          "BAU",
          "BAU",
          "BAU",
          "BAU",
          "BAU",
          "BAU",
          "BAU",
          "BAU",
          "BAU",
          "BAU",
          "BAU",
          "BAU",
          "BAU",
          "BAU",
          "BAU",
          "BAU",
          "BAU",
          "BAU",
          "BAU",
          "BAU",
          "BAU",
          "BAU",
          "BAU",
          "BAU",
          "BAU",
          "BAU",
          "BAU",
          "BAU",
          "BAU",
          "BAU",
          "BAU",
          "BAU",
          "BAU",
          "BAU",
          "BAU",
          "BAU",
          "BAU",
          "BAU",
          "BAU",
          "BAU",
          "BAU",
          "BAU",
          "BAU",
          "BAU",
          "BAU",
          "BAU",
          "scenario 1",
          "scenario 1",
          "scenario 1",
          "scenario 1",
          "scenario 1",
          "scenario 1",
          "scenario 1",
          "scenario 1",
          "scenario 1",
          "scenario 1",
          "scenario 1",
          "scenario 1",
          "scenario 1",
          "scenario 1",
          "scenario 1",
          "scenario 1",
          "scenario 1",
          "scenario 1",
          "scenario 1",
          "scenario 1",
          "scenario 1",
          "scenario 1",
          "scenario 1",
          "scenario 1",
          "scenario 1",
          "scenario 1",
          "scenario 1",
          "scenario 1",
          "scenario 1",
          "scenario 1",
          "scenario 1",
          "scenario 1",
          "scenario 1",
          "scenario 1",
          "scenario 1",
          "scenario 1",
          "scenario 1",
          "scenario 1",
          "scenario 1",
          "scenario 1",
          "scenario 1",
          "scenario 1",
          "scenario 1",
          "scenario 1",
          "scenario 1",
          "scenario 1",
          "scenario 2",
          "scenario 2",
          "scenario 2",
          "scenario 2",
          "scenario 2",
          "scenario 2",
          "scenario 2",
          "scenario 2",
          "scenario 2",
          "scenario 2",
          "scenario 2",
          "scenario 2",
          "scenario 2",
          "scenario 2",
          "scenario 2",
          "scenario 2",
          "scenario 2",
          "scenario 2",
          "scenario 2",
          "scenario 2",
          "scenario 2",
          "scenario 2",
          "scenario 2",
          "scenario 2",
          "scenario 2",
          "scenario 2",
          "scenario 2",
          "scenario 2",
          "scenario 2",
          "scenario 2",
          "scenario 2",
          "scenario 2",
          "scenario 2",
          "scenario 2",
          "scenario 2",
          "scenario 2",
          "scenario 2",
          "scenario 2",
          "scenario 2",
          "scenario 2",
          "scenario 2",
          "scenario 2",
          "scenario 2",
          "scenario 2",
          "scenario 2",
          "scenario 2",
          "Emissions (CO2eq) (Enteric)",
          "Emissions (CO2eq) (Enteric)",
          "Emissions (CO2eq) (Enteric)",
          "Emissions (CO2eq) (Enteric)",
          "Emissions (CO2eq) (Enteric)",
          "Emissions (CO2eq) (Enteric)",
          "Emissions (CO2eq) (Enteric)",
          "Emissions (CO2eq) (Enteric)",
          "Emissions (CO2eq) (Enteric)",
          "Emissions (CO2eq) (Manure applied)",
          "Emissions (CO2eq) (Manure applied)",
          "Emissions (CO2eq) (Manure applied)",
          "Emissions (CO2eq) (Manure applied)",
          "Emissions (CO2eq) (Manure applied)",
          "Emissions (CO2eq) (Manure applied)",
          "Emissions (CO2eq) (Manure applied)",
          "Emissions (CO2eq) (Manure applied)",
          "Emissions (CO2eq) (Manure applied)",
          "Emissions (CO2eq) (Manure applied)",
          "Emissions (CO2eq) (Manure applied)",
          "Emissions (CO2eq) (Manure applied)",
          "Emissions (CO2eq) (Manure applied)",
          "Emissions (CO2eq) (Manure management)",
          "Emissions (CO2eq) (Manure management)",
          "Emissions (CO2eq) (Manure management)",
          "Emissions (CO2eq) (Manure management)",
          "Emissions (CO2eq) (Manure management)",
          "Emissions (CO2eq) (Manure management)",
          "Emissions (CO2eq) (Manure management)",
          "Emissions (CO2eq) (Manure management)",
          "Emissions (CO2eq) (Manure management)",
          "Emissions (CO2eq) (Manure management)",
          "Emissions (CO2eq) (Manure management)",
          "Emissions (CO2eq) (Manure management)",
          "Emissions (CO2eq) (Manure management)",
          "Emissions (CO2eq) (Manure on pasture)",
          "Emissions (CO2eq) (Manure on pasture)",
          "Emissions (CO2eq) (Manure on pasture)",
          "Emissions (CO2eq) (Manure on pasture)",
          "Emissions (CO2eq) (Manure on pasture)",
          "Emissions (CO2eq) (Manure on pasture)",
          "Emissions (CO2eq) (Manure on pasture)",
          "Emissions (CO2eq) (Manure on pasture)",
          "Emissions (CO2eq) (Manure on pasture)",
          "Emissions (CO2eq) (Manure on pasture)",
          "Emissions (CO2eq) (Manure on pasture)",
          "Asses",
          "Cattle, dairy",
          "Cattle, non-dairy",
          "Chickens, broilers",
          "Chickens, layers",
          "Ducks",
          "Goats",
          "Horses",
          "Mules",
          "Sheep",
          "Swine, breeding",
          "Swine, market",
          "Turkeys"
         ],
         "name": "",
         "parents": [
          "Asses/Emissions (CO2eq) (Enteric)",
          "Cattle, dairy/Emissions (CO2eq) (Enteric)",
          "Cattle, non-dairy/Emissions (CO2eq) (Enteric)",
          "Goats/Emissions (CO2eq) (Enteric)",
          "Horses/Emissions (CO2eq) (Enteric)",
          "Mules/Emissions (CO2eq) (Enteric)",
          "Sheep/Emissions (CO2eq) (Enteric)",
          "Swine, breeding/Emissions (CO2eq) (Enteric)",
          "Swine, market/Emissions (CO2eq) (Enteric)",
          "Asses/Emissions (CO2eq) (Manure applied)",
          "Cattle, dairy/Emissions (CO2eq) (Manure applied)",
          "Cattle, non-dairy/Emissions (CO2eq) (Manure applied)",
          "Chickens, broilers/Emissions (CO2eq) (Manure applied)",
          "Chickens, layers/Emissions (CO2eq) (Manure applied)",
          "Ducks/Emissions (CO2eq) (Manure applied)",
          "Goats/Emissions (CO2eq) (Manure applied)",
          "Horses/Emissions (CO2eq) (Manure applied)",
          "Mules/Emissions (CO2eq) (Manure applied)",
          "Sheep/Emissions (CO2eq) (Manure applied)",
          "Swine, breeding/Emissions (CO2eq) (Manure applied)",
          "Swine, market/Emissions (CO2eq) (Manure applied)",
          "Turkeys/Emissions (CO2eq) (Manure applied)",
          "Asses/Emissions (CO2eq) (Manure management)",
          "Cattle, dairy/Emissions (CO2eq) (Manure management)",
          "Cattle, non-dairy/Emissions (CO2eq) (Manure management)",
          "Chickens, broilers/Emissions (CO2eq) (Manure management)",
          "Chickens, layers/Emissions (CO2eq) (Manure management)",
          "Ducks/Emissions (CO2eq) (Manure management)",
          "Goats/Emissions (CO2eq) (Manure management)",
          "Horses/Emissions (CO2eq) (Manure management)",
          "Mules/Emissions (CO2eq) (Manure management)",
          "Sheep/Emissions (CO2eq) (Manure management)",
          "Swine, breeding/Emissions (CO2eq) (Manure management)",
          "Swine, market/Emissions (CO2eq) (Manure management)",
          "Turkeys/Emissions (CO2eq) (Manure management)",
          "Asses/Emissions (CO2eq) (Manure on pasture)",
          "Cattle, dairy/Emissions (CO2eq) (Manure on pasture)",
          "Cattle, non-dairy/Emissions (CO2eq) (Manure on pasture)",
          "Chickens, broilers/Emissions (CO2eq) (Manure on pasture)",
          "Chickens, layers/Emissions (CO2eq) (Manure on pasture)",
          "Ducks/Emissions (CO2eq) (Manure on pasture)",
          "Goats/Emissions (CO2eq) (Manure on pasture)",
          "Horses/Emissions (CO2eq) (Manure on pasture)",
          "Mules/Emissions (CO2eq) (Manure on pasture)",
          "Sheep/Emissions (CO2eq) (Manure on pasture)",
          "Turkeys/Emissions (CO2eq) (Manure on pasture)",
          "Asses/Emissions (CO2eq) (Enteric)",
          "Cattle, dairy/Emissions (CO2eq) (Enteric)",
          "Cattle, non-dairy/Emissions (CO2eq) (Enteric)",
          "Goats/Emissions (CO2eq) (Enteric)",
          "Horses/Emissions (CO2eq) (Enteric)",
          "Mules/Emissions (CO2eq) (Enteric)",
          "Sheep/Emissions (CO2eq) (Enteric)",
          "Swine, breeding/Emissions (CO2eq) (Enteric)",
          "Swine, market/Emissions (CO2eq) (Enteric)",
          "Asses/Emissions (CO2eq) (Manure applied)",
          "Cattle, dairy/Emissions (CO2eq) (Manure applied)",
          "Cattle, non-dairy/Emissions (CO2eq) (Manure applied)",
          "Chickens, broilers/Emissions (CO2eq) (Manure applied)",
          "Chickens, layers/Emissions (CO2eq) (Manure applied)",
          "Ducks/Emissions (CO2eq) (Manure applied)",
          "Goats/Emissions (CO2eq) (Manure applied)",
          "Horses/Emissions (CO2eq) (Manure applied)",
          "Mules/Emissions (CO2eq) (Manure applied)",
          "Sheep/Emissions (CO2eq) (Manure applied)",
          "Swine, breeding/Emissions (CO2eq) (Manure applied)",
          "Swine, market/Emissions (CO2eq) (Manure applied)",
          "Turkeys/Emissions (CO2eq) (Manure applied)",
          "Asses/Emissions (CO2eq) (Manure management)",
          "Cattle, dairy/Emissions (CO2eq) (Manure management)",
          "Cattle, non-dairy/Emissions (CO2eq) (Manure management)",
          "Chickens, broilers/Emissions (CO2eq) (Manure management)",
          "Chickens, layers/Emissions (CO2eq) (Manure management)",
          "Ducks/Emissions (CO2eq) (Manure management)",
          "Goats/Emissions (CO2eq) (Manure management)",
          "Horses/Emissions (CO2eq) (Manure management)",
          "Mules/Emissions (CO2eq) (Manure management)",
          "Sheep/Emissions (CO2eq) (Manure management)",
          "Swine, breeding/Emissions (CO2eq) (Manure management)",
          "Swine, market/Emissions (CO2eq) (Manure management)",
          "Turkeys/Emissions (CO2eq) (Manure management)",
          "Asses/Emissions (CO2eq) (Manure on pasture)",
          "Cattle, dairy/Emissions (CO2eq) (Manure on pasture)",
          "Cattle, non-dairy/Emissions (CO2eq) (Manure on pasture)",
          "Chickens, broilers/Emissions (CO2eq) (Manure on pasture)",
          "Chickens, layers/Emissions (CO2eq) (Manure on pasture)",
          "Ducks/Emissions (CO2eq) (Manure on pasture)",
          "Goats/Emissions (CO2eq) (Manure on pasture)",
          "Horses/Emissions (CO2eq) (Manure on pasture)",
          "Mules/Emissions (CO2eq) (Manure on pasture)",
          "Sheep/Emissions (CO2eq) (Manure on pasture)",
          "Turkeys/Emissions (CO2eq) (Manure on pasture)",
          "Asses/Emissions (CO2eq) (Enteric)",
          "Cattle, dairy/Emissions (CO2eq) (Enteric)",
          "Cattle, non-dairy/Emissions (CO2eq) (Enteric)",
          "Goats/Emissions (CO2eq) (Enteric)",
          "Horses/Emissions (CO2eq) (Enteric)",
          "Mules/Emissions (CO2eq) (Enteric)",
          "Sheep/Emissions (CO2eq) (Enteric)",
          "Swine, breeding/Emissions (CO2eq) (Enteric)",
          "Swine, market/Emissions (CO2eq) (Enteric)",
          "Asses/Emissions (CO2eq) (Manure applied)",
          "Cattle, dairy/Emissions (CO2eq) (Manure applied)",
          "Cattle, non-dairy/Emissions (CO2eq) (Manure applied)",
          "Chickens, broilers/Emissions (CO2eq) (Manure applied)",
          "Chickens, layers/Emissions (CO2eq) (Manure applied)",
          "Ducks/Emissions (CO2eq) (Manure applied)",
          "Goats/Emissions (CO2eq) (Manure applied)",
          "Horses/Emissions (CO2eq) (Manure applied)",
          "Mules/Emissions (CO2eq) (Manure applied)",
          "Sheep/Emissions (CO2eq) (Manure applied)",
          "Swine, breeding/Emissions (CO2eq) (Manure applied)",
          "Swine, market/Emissions (CO2eq) (Manure applied)",
          "Turkeys/Emissions (CO2eq) (Manure applied)",
          "Asses/Emissions (CO2eq) (Manure management)",
          "Cattle, dairy/Emissions (CO2eq) (Manure management)",
          "Cattle, non-dairy/Emissions (CO2eq) (Manure management)",
          "Chickens, broilers/Emissions (CO2eq) (Manure management)",
          "Chickens, layers/Emissions (CO2eq) (Manure management)",
          "Ducks/Emissions (CO2eq) (Manure management)",
          "Goats/Emissions (CO2eq) (Manure management)",
          "Horses/Emissions (CO2eq) (Manure management)",
          "Mules/Emissions (CO2eq) (Manure management)",
          "Sheep/Emissions (CO2eq) (Manure management)",
          "Swine, breeding/Emissions (CO2eq) (Manure management)",
          "Swine, market/Emissions (CO2eq) (Manure management)",
          "Turkeys/Emissions (CO2eq) (Manure management)",
          "Asses/Emissions (CO2eq) (Manure on pasture)",
          "Cattle, dairy/Emissions (CO2eq) (Manure on pasture)",
          "Cattle, non-dairy/Emissions (CO2eq) (Manure on pasture)",
          "Chickens, broilers/Emissions (CO2eq) (Manure on pasture)",
          "Chickens, layers/Emissions (CO2eq) (Manure on pasture)",
          "Ducks/Emissions (CO2eq) (Manure on pasture)",
          "Goats/Emissions (CO2eq) (Manure on pasture)",
          "Horses/Emissions (CO2eq) (Manure on pasture)",
          "Mules/Emissions (CO2eq) (Manure on pasture)",
          "Sheep/Emissions (CO2eq) (Manure on pasture)",
          "Turkeys/Emissions (CO2eq) (Manure on pasture)",
          "Asses",
          "Cattle, dairy",
          "Cattle, non-dairy",
          "Goats",
          "Horses",
          "Mules",
          "Sheep",
          "Swine, breeding",
          "Swine, market",
          "Asses",
          "Cattle, dairy",
          "Cattle, non-dairy",
          "Chickens, broilers",
          "Chickens, layers",
          "Ducks",
          "Goats",
          "Horses",
          "Mules",
          "Sheep",
          "Swine, breeding",
          "Swine, market",
          "Turkeys",
          "Asses",
          "Cattle, dairy",
          "Cattle, non-dairy",
          "Chickens, broilers",
          "Chickens, layers",
          "Ducks",
          "Goats",
          "Horses",
          "Mules",
          "Sheep",
          "Swine, breeding",
          "Swine, market",
          "Turkeys",
          "Asses",
          "Cattle, dairy",
          "Cattle, non-dairy",
          "Chickens, broilers",
          "Chickens, layers",
          "Ducks",
          "Goats",
          "Horses",
          "Mules",
          "Sheep",
          "Turkeys",
          "",
          "",
          "",
          "",
          "",
          "",
          "",
          "",
          "",
          "",
          "",
          "",
          ""
         ],
         "type": "treemap",
         "values": [
          6.396599999999999,
          8728.335251999999,
          17948.591261999998,
          136.35888,
          140.193018,
          5.877479999999999,
          1183.090608,
          41.972868,
          377.7559065,
          0.8717974466820667,
          866.3387570844865,
          1759.8207774701352,
          89.38303271533348,
          86.4959418509472,
          45.4975048453068,
          54.19183025636113,
          30.783519881365255,
          0.8010461896827867,
          245.8319820682293,
          93.82996748294771,
          258.94640361124175,
          80.23427744465467,
          0.7909658820566666,
          2121.263801017574,
          2973.2530210564864,
          76.65952481455949,
          256.9022263377504,
          26.2963028469276,
          22.493523277329068,
          22.913530049987855,
          0.7267745603086666,
          134.68289766188963,
          300.6966905392555,
          1603.3751405746384,
          64.20372202571599,
          0.8717974466820667,
          1472.1700557449662,
          2990.464677798901,
          151.26359382594896,
          146.98261447398718,
          77.31394180006679,
          54.19183025636113,
          30.783519881365255,
          0.8010461896827867,
          245.8319820682293,
          136.34216376958798,
          6.396599999999999,
          8728.335251999999,
          17948.591261999998,
          136.35888,
          140.193018,
          5.877479999999999,
          1183.090608,
          41.972868,
          377.7559065,
          0.8717974466820667,
          866.3387570844865,
          1759.8207774701352,
          89.38303271533348,
          86.4959418509472,
          45.4975048453068,
          54.19183025636113,
          30.783519881365255,
          0.8010461896827867,
          245.8319820682293,
          93.82996748294771,
          258.94640361124175,
          80.23427744465467,
          0.7909658820566666,
          2121.263801017574,
          2973.2530210564864,
          76.65952481455949,
          256.9022263377504,
          26.2963028469276,
          22.493523277329068,
          22.913530049987855,
          0.7267745603086666,
          134.68289766188963,
          300.6966905392555,
          1603.3751405746384,
          64.20372202571599,
          0.8717974466820667,
          1472.1700557449662,
          2990.464677798901,
          151.26359382594896,
          146.98261447398718,
          77.31394180006679,
          54.19183025636113,
          30.783519881365255,
          0.8010461896827867,
          245.8319820682293,
          136.34216376958798,
          6.396599999999999,
          8728.335251999999,
          8974.295630999999,
          136.35888,
          140.193018,
          5.877479999999999,
          1183.090608,
          41.972868,
          377.7559065,
          0.8717974466820667,
          866.3387570844865,
          879.9103887350676,
          89.38303271533348,
          86.4959418509472,
          45.4975048453068,
          54.19183025636113,
          30.783519881365255,
          0.8010461896827867,
          245.8319820682293,
          93.82996748294771,
          258.94640361124175,
          80.23427744465467,
          0.7909658820566666,
          2121.263801017574,
          1486.6265105282432,
          76.65952481455949,
          256.9022263377504,
          26.2963028469276,
          22.493523277329068,
          22.913530049987855,
          0.7267745603086666,
          134.68289766188963,
          300.6966905392555,
          1603.3751405746384,
          64.20372202571599,
          0.8717974466820667,
          1472.1700557449662,
          1495.2323388994505,
          151.26359382594896,
          146.98261447398718,
          77.31394180006679,
          54.19183025636113,
          30.783519881365255,
          0.8010461896827867,
          245.8319820682293,
          136.34216376958798,
          19.189799999999998,
          26185.005756,
          44871.478155,
          409.07664,
          420.579054,
          17.63244,
          3549.271824,
          125.91860399999999,
          1133.2677194999999,
          2.6153923400462,
          2599.0162712534593,
          4399.551943675338,
          268.1490981460005,
          259.4878255528416,
          136.4925145359204,
          162.5754907690834,
          92.35055964409577,
          2.40313856904836,
          737.4959462046879,
          281.4899024488431,
          776.8392108337252,
          240.702832333964,
          2.3728976461699998,
          6363.791403052723,
          7433.1325526412165,
          229.97857444367847,
          770.7066790132512,
          78.8889085407828,
          67.4805698319872,
          68.74059014996357,
          2.1803236809259996,
          404.0486929856689,
          902.0900716177664,
          4810.125421723915,
          192.61116607714797,
          2.6153923400462,
          4416.510167234899,
          7476.161694497252,
          453.79078147784685,
          440.9478434219616,
          231.94182540020034,
          162.5754907690834,
          92.35055964409577,
          2.40313856904836,
          737.4959462046879,
          409.026491308764,
          26.7934823262624,
          39564.32359754107,
          64180.3243458138,
          951.9184540675259,
          1471.1423479880543,
          447.32324847690353,
          801.7081913701539,
          674.020763438155,
          24.619040819022715,
          5428.312409395045,
          1309.4985780666095,
          6720.23235205764,
          842.3404897198759
         ]
        }
       ],
       "layout": {
        "legend": {
         "tracegroupgap": 0
        },
        "margin": {
         "t": 60
        },
        "template": {
         "data": {
          "bar": [
           {
            "error_x": {
             "color": "#2a3f5f"
            },
            "error_y": {
             "color": "#2a3f5f"
            },
            "marker": {
             "line": {
              "color": "#E5ECF6",
              "width": 0.5
             }
            },
            "type": "bar"
           }
          ],
          "barpolar": [
           {
            "marker": {
             "line": {
              "color": "#E5ECF6",
              "width": 0.5
             }
            },
            "type": "barpolar"
           }
          ],
          "carpet": [
           {
            "aaxis": {
             "endlinecolor": "#2a3f5f",
             "gridcolor": "white",
             "linecolor": "white",
             "minorgridcolor": "white",
             "startlinecolor": "#2a3f5f"
            },
            "baxis": {
             "endlinecolor": "#2a3f5f",
             "gridcolor": "white",
             "linecolor": "white",
             "minorgridcolor": "white",
             "startlinecolor": "#2a3f5f"
            },
            "type": "carpet"
           }
          ],
          "choropleth": [
           {
            "colorbar": {
             "outlinewidth": 0,
             "ticks": ""
            },
            "type": "choropleth"
           }
          ],
          "contour": [
           {
            "colorbar": {
             "outlinewidth": 0,
             "ticks": ""
            },
            "colorscale": [
             [
              0,
              "#0d0887"
             ],
             [
              0.1111111111111111,
              "#46039f"
             ],
             [
              0.2222222222222222,
              "#7201a8"
             ],
             [
              0.3333333333333333,
              "#9c179e"
             ],
             [
              0.4444444444444444,
              "#bd3786"
             ],
             [
              0.5555555555555556,
              "#d8576b"
             ],
             [
              0.6666666666666666,
              "#ed7953"
             ],
             [
              0.7777777777777778,
              "#fb9f3a"
             ],
             [
              0.8888888888888888,
              "#fdca26"
             ],
             [
              1,
              "#f0f921"
             ]
            ],
            "type": "contour"
           }
          ],
          "contourcarpet": [
           {
            "colorbar": {
             "outlinewidth": 0,
             "ticks": ""
            },
            "type": "contourcarpet"
           }
          ],
          "heatmap": [
           {
            "colorbar": {
             "outlinewidth": 0,
             "ticks": ""
            },
            "colorscale": [
             [
              0,
              "#0d0887"
             ],
             [
              0.1111111111111111,
              "#46039f"
             ],
             [
              0.2222222222222222,
              "#7201a8"
             ],
             [
              0.3333333333333333,
              "#9c179e"
             ],
             [
              0.4444444444444444,
              "#bd3786"
             ],
             [
              0.5555555555555556,
              "#d8576b"
             ],
             [
              0.6666666666666666,
              "#ed7953"
             ],
             [
              0.7777777777777778,
              "#fb9f3a"
             ],
             [
              0.8888888888888888,
              "#fdca26"
             ],
             [
              1,
              "#f0f921"
             ]
            ],
            "type": "heatmap"
           }
          ],
          "heatmapgl": [
           {
            "colorbar": {
             "outlinewidth": 0,
             "ticks": ""
            },
            "colorscale": [
             [
              0,
              "#0d0887"
             ],
             [
              0.1111111111111111,
              "#46039f"
             ],
             [
              0.2222222222222222,
              "#7201a8"
             ],
             [
              0.3333333333333333,
              "#9c179e"
             ],
             [
              0.4444444444444444,
              "#bd3786"
             ],
             [
              0.5555555555555556,
              "#d8576b"
             ],
             [
              0.6666666666666666,
              "#ed7953"
             ],
             [
              0.7777777777777778,
              "#fb9f3a"
             ],
             [
              0.8888888888888888,
              "#fdca26"
             ],
             [
              1,
              "#f0f921"
             ]
            ],
            "type": "heatmapgl"
           }
          ],
          "histogram": [
           {
            "marker": {
             "colorbar": {
              "outlinewidth": 0,
              "ticks": ""
             }
            },
            "type": "histogram"
           }
          ],
          "histogram2d": [
           {
            "colorbar": {
             "outlinewidth": 0,
             "ticks": ""
            },
            "colorscale": [
             [
              0,
              "#0d0887"
             ],
             [
              0.1111111111111111,
              "#46039f"
             ],
             [
              0.2222222222222222,
              "#7201a8"
             ],
             [
              0.3333333333333333,
              "#9c179e"
             ],
             [
              0.4444444444444444,
              "#bd3786"
             ],
             [
              0.5555555555555556,
              "#d8576b"
             ],
             [
              0.6666666666666666,
              "#ed7953"
             ],
             [
              0.7777777777777778,
              "#fb9f3a"
             ],
             [
              0.8888888888888888,
              "#fdca26"
             ],
             [
              1,
              "#f0f921"
             ]
            ],
            "type": "histogram2d"
           }
          ],
          "histogram2dcontour": [
           {
            "colorbar": {
             "outlinewidth": 0,
             "ticks": ""
            },
            "colorscale": [
             [
              0,
              "#0d0887"
             ],
             [
              0.1111111111111111,
              "#46039f"
             ],
             [
              0.2222222222222222,
              "#7201a8"
             ],
             [
              0.3333333333333333,
              "#9c179e"
             ],
             [
              0.4444444444444444,
              "#bd3786"
             ],
             [
              0.5555555555555556,
              "#d8576b"
             ],
             [
              0.6666666666666666,
              "#ed7953"
             ],
             [
              0.7777777777777778,
              "#fb9f3a"
             ],
             [
              0.8888888888888888,
              "#fdca26"
             ],
             [
              1,
              "#f0f921"
             ]
            ],
            "type": "histogram2dcontour"
           }
          ],
          "mesh3d": [
           {
            "colorbar": {
             "outlinewidth": 0,
             "ticks": ""
            },
            "type": "mesh3d"
           }
          ],
          "parcoords": [
           {
            "line": {
             "colorbar": {
              "outlinewidth": 0,
              "ticks": ""
             }
            },
            "type": "parcoords"
           }
          ],
          "pie": [
           {
            "automargin": true,
            "type": "pie"
           }
          ],
          "scatter": [
           {
            "marker": {
             "colorbar": {
              "outlinewidth": 0,
              "ticks": ""
             }
            },
            "type": "scatter"
           }
          ],
          "scatter3d": [
           {
            "line": {
             "colorbar": {
              "outlinewidth": 0,
              "ticks": ""
             }
            },
            "marker": {
             "colorbar": {
              "outlinewidth": 0,
              "ticks": ""
             }
            },
            "type": "scatter3d"
           }
          ],
          "scattercarpet": [
           {
            "marker": {
             "colorbar": {
              "outlinewidth": 0,
              "ticks": ""
             }
            },
            "type": "scattercarpet"
           }
          ],
          "scattergeo": [
           {
            "marker": {
             "colorbar": {
              "outlinewidth": 0,
              "ticks": ""
             }
            },
            "type": "scattergeo"
           }
          ],
          "scattergl": [
           {
            "marker": {
             "colorbar": {
              "outlinewidth": 0,
              "ticks": ""
             }
            },
            "type": "scattergl"
           }
          ],
          "scattermapbox": [
           {
            "marker": {
             "colorbar": {
              "outlinewidth": 0,
              "ticks": ""
             }
            },
            "type": "scattermapbox"
           }
          ],
          "scatterpolar": [
           {
            "marker": {
             "colorbar": {
              "outlinewidth": 0,
              "ticks": ""
             }
            },
            "type": "scatterpolar"
           }
          ],
          "scatterpolargl": [
           {
            "marker": {
             "colorbar": {
              "outlinewidth": 0,
              "ticks": ""
             }
            },
            "type": "scatterpolargl"
           }
          ],
          "scatterternary": [
           {
            "marker": {
             "colorbar": {
              "outlinewidth": 0,
              "ticks": ""
             }
            },
            "type": "scatterternary"
           }
          ],
          "surface": [
           {
            "colorbar": {
             "outlinewidth": 0,
             "ticks": ""
            },
            "colorscale": [
             [
              0,
              "#0d0887"
             ],
             [
              0.1111111111111111,
              "#46039f"
             ],
             [
              0.2222222222222222,
              "#7201a8"
             ],
             [
              0.3333333333333333,
              "#9c179e"
             ],
             [
              0.4444444444444444,
              "#bd3786"
             ],
             [
              0.5555555555555556,
              "#d8576b"
             ],
             [
              0.6666666666666666,
              "#ed7953"
             ],
             [
              0.7777777777777778,
              "#fb9f3a"
             ],
             [
              0.8888888888888888,
              "#fdca26"
             ],
             [
              1,
              "#f0f921"
             ]
            ],
            "type": "surface"
           }
          ],
          "table": [
           {
            "cells": {
             "fill": {
              "color": "#EBF0F8"
             },
             "line": {
              "color": "white"
             }
            },
            "header": {
             "fill": {
              "color": "#C8D4E3"
             },
             "line": {
              "color": "white"
             }
            },
            "type": "table"
           }
          ]
         },
         "layout": {
          "annotationdefaults": {
           "arrowcolor": "#2a3f5f",
           "arrowhead": 0,
           "arrowwidth": 1
          },
          "autotypenumbers": "strict",
          "coloraxis": {
           "colorbar": {
            "outlinewidth": 0,
            "ticks": ""
           }
          },
          "colorscale": {
           "diverging": [
            [
             0,
             "#8e0152"
            ],
            [
             0.1,
             "#c51b7d"
            ],
            [
             0.2,
             "#de77ae"
            ],
            [
             0.3,
             "#f1b6da"
            ],
            [
             0.4,
             "#fde0ef"
            ],
            [
             0.5,
             "#f7f7f7"
            ],
            [
             0.6,
             "#e6f5d0"
            ],
            [
             0.7,
             "#b8e186"
            ],
            [
             0.8,
             "#7fbc41"
            ],
            [
             0.9,
             "#4d9221"
            ],
            [
             1,
             "#276419"
            ]
           ],
           "sequential": [
            [
             0,
             "#0d0887"
            ],
            [
             0.1111111111111111,
             "#46039f"
            ],
            [
             0.2222222222222222,
             "#7201a8"
            ],
            [
             0.3333333333333333,
             "#9c179e"
            ],
            [
             0.4444444444444444,
             "#bd3786"
            ],
            [
             0.5555555555555556,
             "#d8576b"
            ],
            [
             0.6666666666666666,
             "#ed7953"
            ],
            [
             0.7777777777777778,
             "#fb9f3a"
            ],
            [
             0.8888888888888888,
             "#fdca26"
            ],
            [
             1,
             "#f0f921"
            ]
           ],
           "sequentialminus": [
            [
             0,
             "#0d0887"
            ],
            [
             0.1111111111111111,
             "#46039f"
            ],
            [
             0.2222222222222222,
             "#7201a8"
            ],
            [
             0.3333333333333333,
             "#9c179e"
            ],
            [
             0.4444444444444444,
             "#bd3786"
            ],
            [
             0.5555555555555556,
             "#d8576b"
            ],
            [
             0.6666666666666666,
             "#ed7953"
            ],
            [
             0.7777777777777778,
             "#fb9f3a"
            ],
            [
             0.8888888888888888,
             "#fdca26"
            ],
            [
             1,
             "#f0f921"
            ]
           ]
          },
          "colorway": [
           "#636efa",
           "#EF553B",
           "#00cc96",
           "#ab63fa",
           "#FFA15A",
           "#19d3f3",
           "#FF6692",
           "#B6E880",
           "#FF97FF",
           "#FECB52"
          ],
          "font": {
           "color": "#2a3f5f"
          },
          "geo": {
           "bgcolor": "white",
           "lakecolor": "white",
           "landcolor": "#E5ECF6",
           "showlakes": true,
           "showland": true,
           "subunitcolor": "white"
          },
          "hoverlabel": {
           "align": "left"
          },
          "hovermode": "closest",
          "mapbox": {
           "style": "light"
          },
          "paper_bgcolor": "white",
          "plot_bgcolor": "#E5ECF6",
          "polar": {
           "angularaxis": {
            "gridcolor": "white",
            "linecolor": "white",
            "ticks": ""
           },
           "bgcolor": "#E5ECF6",
           "radialaxis": {
            "gridcolor": "white",
            "linecolor": "white",
            "ticks": ""
           }
          },
          "scene": {
           "xaxis": {
            "backgroundcolor": "#E5ECF6",
            "gridcolor": "white",
            "gridwidth": 2,
            "linecolor": "white",
            "showbackground": true,
            "ticks": "",
            "zerolinecolor": "white"
           },
           "yaxis": {
            "backgroundcolor": "#E5ECF6",
            "gridcolor": "white",
            "gridwidth": 2,
            "linecolor": "white",
            "showbackground": true,
            "ticks": "",
            "zerolinecolor": "white"
           },
           "zaxis": {
            "backgroundcolor": "#E5ECF6",
            "gridcolor": "white",
            "gridwidth": 2,
            "linecolor": "white",
            "showbackground": true,
            "ticks": "",
            "zerolinecolor": "white"
           }
          },
          "shapedefaults": {
           "line": {
            "color": "#2a3f5f"
           }
          },
          "ternary": {
           "aaxis": {
            "gridcolor": "white",
            "linecolor": "white",
            "ticks": ""
           },
           "baxis": {
            "gridcolor": "white",
            "linecolor": "white",
            "ticks": ""
           },
           "bgcolor": "#E5ECF6",
           "caxis": {
            "gridcolor": "white",
            "linecolor": "white",
            "ticks": ""
           }
          },
          "title": {
           "x": 0.05
          },
          "xaxis": {
           "automargin": true,
           "gridcolor": "white",
           "linecolor": "white",
           "ticks": "",
           "title": {
            "standoff": 15
           },
           "zerolinecolor": "white",
           "zerolinewidth": 2
          },
          "yaxis": {
           "automargin": true,
           "gridcolor": "white",
           "linecolor": "white",
           "ticks": "",
           "title": {
            "standoff": 15
           },
           "zerolinecolor": "white",
           "zerolinewidth": 2
          }
         }
        }
       }
      },
      "text/html": [
       "<div>                            <div id=\"8f6f95f7-a131-41f0-9082-3dae627cd8f7\" class=\"plotly-graph-div\" style=\"height:525px; width:100%;\"></div>            <script type=\"text/javascript\">                require([\"plotly\"], function(Plotly) {                    window.PLOTLYENV=window.PLOTLYENV || {};                                    if (document.getElementById(\"8f6f95f7-a131-41f0-9082-3dae627cd8f7\")) {                    Plotly.newPlot(                        \"8f6f95f7-a131-41f0-9082-3dae627cd8f7\",                        [{\"branchvalues\": \"total\", \"domain\": {\"x\": [0.0, 1.0], \"y\": [0.0, 1.0]}, \"hovertemplate\": \"labels=%{label}<br>Value=%{value}<br>parent=%{parent}<br>id=%{id}<extra></extra>\", \"ids\": [\"Asses/Emissions (CO2eq) (Enteric)/BAU\", \"Cattle, dairy/Emissions (CO2eq) (Enteric)/BAU\", \"Cattle, non-dairy/Emissions (CO2eq) (Enteric)/BAU\", \"Goats/Emissions (CO2eq) (Enteric)/BAU\", \"Horses/Emissions (CO2eq) (Enteric)/BAU\", \"Mules/Emissions (CO2eq) (Enteric)/BAU\", \"Sheep/Emissions (CO2eq) (Enteric)/BAU\", \"Swine, breeding/Emissions (CO2eq) (Enteric)/BAU\", \"Swine, market/Emissions (CO2eq) (Enteric)/BAU\", \"Asses/Emissions (CO2eq) (Manure applied)/BAU\", \"Cattle, dairy/Emissions (CO2eq) (Manure applied)/BAU\", \"Cattle, non-dairy/Emissions (CO2eq) (Manure applied)/BAU\", \"Chickens, broilers/Emissions (CO2eq) (Manure applied)/BAU\", \"Chickens, layers/Emissions (CO2eq) (Manure applied)/BAU\", \"Ducks/Emissions (CO2eq) (Manure applied)/BAU\", \"Goats/Emissions (CO2eq) (Manure applied)/BAU\", \"Horses/Emissions (CO2eq) (Manure applied)/BAU\", \"Mules/Emissions (CO2eq) (Manure applied)/BAU\", \"Sheep/Emissions (CO2eq) (Manure applied)/BAU\", \"Swine, breeding/Emissions (CO2eq) (Manure applied)/BAU\", \"Swine, market/Emissions (CO2eq) (Manure applied)/BAU\", \"Turkeys/Emissions (CO2eq) (Manure applied)/BAU\", \"Asses/Emissions (CO2eq) (Manure management)/BAU\", \"Cattle, dairy/Emissions (CO2eq) (Manure management)/BAU\", \"Cattle, non-dairy/Emissions (CO2eq) (Manure management)/BAU\", \"Chickens, broilers/Emissions (CO2eq) (Manure management)/BAU\", \"Chickens, layers/Emissions (CO2eq) (Manure management)/BAU\", \"Ducks/Emissions (CO2eq) (Manure management)/BAU\", \"Goats/Emissions (CO2eq) (Manure management)/BAU\", \"Horses/Emissions (CO2eq) (Manure management)/BAU\", \"Mules/Emissions (CO2eq) (Manure management)/BAU\", \"Sheep/Emissions (CO2eq) (Manure management)/BAU\", \"Swine, breeding/Emissions (CO2eq) (Manure management)/BAU\", \"Swine, market/Emissions (CO2eq) (Manure management)/BAU\", \"Turkeys/Emissions (CO2eq) (Manure management)/BAU\", \"Asses/Emissions (CO2eq) (Manure on pasture)/BAU\", \"Cattle, dairy/Emissions (CO2eq) (Manure on pasture)/BAU\", \"Cattle, non-dairy/Emissions (CO2eq) (Manure on pasture)/BAU\", \"Chickens, broilers/Emissions (CO2eq) (Manure on pasture)/BAU\", \"Chickens, layers/Emissions (CO2eq) (Manure on pasture)/BAU\", \"Ducks/Emissions (CO2eq) (Manure on pasture)/BAU\", \"Goats/Emissions (CO2eq) (Manure on pasture)/BAU\", \"Horses/Emissions (CO2eq) (Manure on pasture)/BAU\", \"Mules/Emissions (CO2eq) (Manure on pasture)/BAU\", \"Sheep/Emissions (CO2eq) (Manure on pasture)/BAU\", \"Turkeys/Emissions (CO2eq) (Manure on pasture)/BAU\", \"Asses/Emissions (CO2eq) (Enteric)/scenario 1\", \"Cattle, dairy/Emissions (CO2eq) (Enteric)/scenario 1\", \"Cattle, non-dairy/Emissions (CO2eq) (Enteric)/scenario 1\", \"Goats/Emissions (CO2eq) (Enteric)/scenario 1\", \"Horses/Emissions (CO2eq) (Enteric)/scenario 1\", \"Mules/Emissions (CO2eq) (Enteric)/scenario 1\", \"Sheep/Emissions (CO2eq) (Enteric)/scenario 1\", \"Swine, breeding/Emissions (CO2eq) (Enteric)/scenario 1\", \"Swine, market/Emissions (CO2eq) (Enteric)/scenario 1\", \"Asses/Emissions (CO2eq) (Manure applied)/scenario 1\", \"Cattle, dairy/Emissions (CO2eq) (Manure applied)/scenario 1\", \"Cattle, non-dairy/Emissions (CO2eq) (Manure applied)/scenario 1\", \"Chickens, broilers/Emissions (CO2eq) (Manure applied)/scenario 1\", \"Chickens, layers/Emissions (CO2eq) (Manure applied)/scenario 1\", \"Ducks/Emissions (CO2eq) (Manure applied)/scenario 1\", \"Goats/Emissions (CO2eq) (Manure applied)/scenario 1\", \"Horses/Emissions (CO2eq) (Manure applied)/scenario 1\", \"Mules/Emissions (CO2eq) (Manure applied)/scenario 1\", \"Sheep/Emissions (CO2eq) (Manure applied)/scenario 1\", \"Swine, breeding/Emissions (CO2eq) (Manure applied)/scenario 1\", \"Swine, market/Emissions (CO2eq) (Manure applied)/scenario 1\", \"Turkeys/Emissions (CO2eq) (Manure applied)/scenario 1\", \"Asses/Emissions (CO2eq) (Manure management)/scenario 1\", \"Cattle, dairy/Emissions (CO2eq) (Manure management)/scenario 1\", \"Cattle, non-dairy/Emissions (CO2eq) (Manure management)/scenario 1\", \"Chickens, broilers/Emissions (CO2eq) (Manure management)/scenario 1\", \"Chickens, layers/Emissions (CO2eq) (Manure management)/scenario 1\", \"Ducks/Emissions (CO2eq) (Manure management)/scenario 1\", \"Goats/Emissions (CO2eq) (Manure management)/scenario 1\", \"Horses/Emissions (CO2eq) (Manure management)/scenario 1\", \"Mules/Emissions (CO2eq) (Manure management)/scenario 1\", \"Sheep/Emissions (CO2eq) (Manure management)/scenario 1\", \"Swine, breeding/Emissions (CO2eq) (Manure management)/scenario 1\", \"Swine, market/Emissions (CO2eq) (Manure management)/scenario 1\", \"Turkeys/Emissions (CO2eq) (Manure management)/scenario 1\", \"Asses/Emissions (CO2eq) (Manure on pasture)/scenario 1\", \"Cattle, dairy/Emissions (CO2eq) (Manure on pasture)/scenario 1\", \"Cattle, non-dairy/Emissions (CO2eq) (Manure on pasture)/scenario 1\", \"Chickens, broilers/Emissions (CO2eq) (Manure on pasture)/scenario 1\", \"Chickens, layers/Emissions (CO2eq) (Manure on pasture)/scenario 1\", \"Ducks/Emissions (CO2eq) (Manure on pasture)/scenario 1\", \"Goats/Emissions (CO2eq) (Manure on pasture)/scenario 1\", \"Horses/Emissions (CO2eq) (Manure on pasture)/scenario 1\", \"Mules/Emissions (CO2eq) (Manure on pasture)/scenario 1\", \"Sheep/Emissions (CO2eq) (Manure on pasture)/scenario 1\", \"Turkeys/Emissions (CO2eq) (Manure on pasture)/scenario 1\", \"Asses/Emissions (CO2eq) (Enteric)/scenario 2\", \"Cattle, dairy/Emissions (CO2eq) (Enteric)/scenario 2\", \"Cattle, non-dairy/Emissions (CO2eq) (Enteric)/scenario 2\", \"Goats/Emissions (CO2eq) (Enteric)/scenario 2\", \"Horses/Emissions (CO2eq) (Enteric)/scenario 2\", \"Mules/Emissions (CO2eq) (Enteric)/scenario 2\", \"Sheep/Emissions (CO2eq) (Enteric)/scenario 2\", \"Swine, breeding/Emissions (CO2eq) (Enteric)/scenario 2\", \"Swine, market/Emissions (CO2eq) (Enteric)/scenario 2\", \"Asses/Emissions (CO2eq) (Manure applied)/scenario 2\", \"Cattle, dairy/Emissions (CO2eq) (Manure applied)/scenario 2\", \"Cattle, non-dairy/Emissions (CO2eq) (Manure applied)/scenario 2\", \"Chickens, broilers/Emissions (CO2eq) (Manure applied)/scenario 2\", \"Chickens, layers/Emissions (CO2eq) (Manure applied)/scenario 2\", \"Ducks/Emissions (CO2eq) (Manure applied)/scenario 2\", \"Goats/Emissions (CO2eq) (Manure applied)/scenario 2\", \"Horses/Emissions (CO2eq) (Manure applied)/scenario 2\", \"Mules/Emissions (CO2eq) (Manure applied)/scenario 2\", \"Sheep/Emissions (CO2eq) (Manure applied)/scenario 2\", \"Swine, breeding/Emissions (CO2eq) (Manure applied)/scenario 2\", \"Swine, market/Emissions (CO2eq) (Manure applied)/scenario 2\", \"Turkeys/Emissions (CO2eq) (Manure applied)/scenario 2\", \"Asses/Emissions (CO2eq) (Manure management)/scenario 2\", \"Cattle, dairy/Emissions (CO2eq) (Manure management)/scenario 2\", \"Cattle, non-dairy/Emissions (CO2eq) (Manure management)/scenario 2\", \"Chickens, broilers/Emissions (CO2eq) (Manure management)/scenario 2\", \"Chickens, layers/Emissions (CO2eq) (Manure management)/scenario 2\", \"Ducks/Emissions (CO2eq) (Manure management)/scenario 2\", \"Goats/Emissions (CO2eq) (Manure management)/scenario 2\", \"Horses/Emissions (CO2eq) (Manure management)/scenario 2\", \"Mules/Emissions (CO2eq) (Manure management)/scenario 2\", \"Sheep/Emissions (CO2eq) (Manure management)/scenario 2\", \"Swine, breeding/Emissions (CO2eq) (Manure management)/scenario 2\", \"Swine, market/Emissions (CO2eq) (Manure management)/scenario 2\", \"Turkeys/Emissions (CO2eq) (Manure management)/scenario 2\", \"Asses/Emissions (CO2eq) (Manure on pasture)/scenario 2\", \"Cattle, dairy/Emissions (CO2eq) (Manure on pasture)/scenario 2\", \"Cattle, non-dairy/Emissions (CO2eq) (Manure on pasture)/scenario 2\", \"Chickens, broilers/Emissions (CO2eq) (Manure on pasture)/scenario 2\", \"Chickens, layers/Emissions (CO2eq) (Manure on pasture)/scenario 2\", \"Ducks/Emissions (CO2eq) (Manure on pasture)/scenario 2\", \"Goats/Emissions (CO2eq) (Manure on pasture)/scenario 2\", \"Horses/Emissions (CO2eq) (Manure on pasture)/scenario 2\", \"Mules/Emissions (CO2eq) (Manure on pasture)/scenario 2\", \"Sheep/Emissions (CO2eq) (Manure on pasture)/scenario 2\", \"Turkeys/Emissions (CO2eq) (Manure on pasture)/scenario 2\", \"Asses/Emissions (CO2eq) (Enteric)\", \"Cattle, dairy/Emissions (CO2eq) (Enteric)\", \"Cattle, non-dairy/Emissions (CO2eq) (Enteric)\", \"Goats/Emissions (CO2eq) (Enteric)\", \"Horses/Emissions (CO2eq) (Enteric)\", \"Mules/Emissions (CO2eq) (Enteric)\", \"Sheep/Emissions (CO2eq) (Enteric)\", \"Swine, breeding/Emissions (CO2eq) (Enteric)\", \"Swine, market/Emissions (CO2eq) (Enteric)\", \"Asses/Emissions (CO2eq) (Manure applied)\", \"Cattle, dairy/Emissions (CO2eq) (Manure applied)\", \"Cattle, non-dairy/Emissions (CO2eq) (Manure applied)\", \"Chickens, broilers/Emissions (CO2eq) (Manure applied)\", \"Chickens, layers/Emissions (CO2eq) (Manure applied)\", \"Ducks/Emissions (CO2eq) (Manure applied)\", \"Goats/Emissions (CO2eq) (Manure applied)\", \"Horses/Emissions (CO2eq) (Manure applied)\", \"Mules/Emissions (CO2eq) (Manure applied)\", \"Sheep/Emissions (CO2eq) (Manure applied)\", \"Swine, breeding/Emissions (CO2eq) (Manure applied)\", \"Swine, market/Emissions (CO2eq) (Manure applied)\", \"Turkeys/Emissions (CO2eq) (Manure applied)\", \"Asses/Emissions (CO2eq) (Manure management)\", \"Cattle, dairy/Emissions (CO2eq) (Manure management)\", \"Cattle, non-dairy/Emissions (CO2eq) (Manure management)\", \"Chickens, broilers/Emissions (CO2eq) (Manure management)\", \"Chickens, layers/Emissions (CO2eq) (Manure management)\", \"Ducks/Emissions (CO2eq) (Manure management)\", \"Goats/Emissions (CO2eq) (Manure management)\", \"Horses/Emissions (CO2eq) (Manure management)\", \"Mules/Emissions (CO2eq) (Manure management)\", \"Sheep/Emissions (CO2eq) (Manure management)\", \"Swine, breeding/Emissions (CO2eq) (Manure management)\", \"Swine, market/Emissions (CO2eq) (Manure management)\", \"Turkeys/Emissions (CO2eq) (Manure management)\", \"Asses/Emissions (CO2eq) (Manure on pasture)\", \"Cattle, dairy/Emissions (CO2eq) (Manure on pasture)\", \"Cattle, non-dairy/Emissions (CO2eq) (Manure on pasture)\", \"Chickens, broilers/Emissions (CO2eq) (Manure on pasture)\", \"Chickens, layers/Emissions (CO2eq) (Manure on pasture)\", \"Ducks/Emissions (CO2eq) (Manure on pasture)\", \"Goats/Emissions (CO2eq) (Manure on pasture)\", \"Horses/Emissions (CO2eq) (Manure on pasture)\", \"Mules/Emissions (CO2eq) (Manure on pasture)\", \"Sheep/Emissions (CO2eq) (Manure on pasture)\", \"Turkeys/Emissions (CO2eq) (Manure on pasture)\", \"Asses\", \"Cattle, dairy\", \"Cattle, non-dairy\", \"Chickens, broilers\", \"Chickens, layers\", \"Ducks\", \"Goats\", \"Horses\", \"Mules\", \"Sheep\", \"Swine, breeding\", \"Swine, market\", \"Turkeys\"], \"labels\": [\"BAU\", \"BAU\", \"BAU\", \"BAU\", \"BAU\", \"BAU\", \"BAU\", \"BAU\", \"BAU\", \"BAU\", \"BAU\", \"BAU\", \"BAU\", \"BAU\", \"BAU\", \"BAU\", \"BAU\", \"BAU\", \"BAU\", \"BAU\", \"BAU\", \"BAU\", \"BAU\", \"BAU\", \"BAU\", \"BAU\", \"BAU\", \"BAU\", \"BAU\", \"BAU\", \"BAU\", \"BAU\", \"BAU\", \"BAU\", \"BAU\", \"BAU\", \"BAU\", \"BAU\", \"BAU\", \"BAU\", \"BAU\", \"BAU\", \"BAU\", \"BAU\", \"BAU\", \"BAU\", \"scenario 1\", \"scenario 1\", \"scenario 1\", \"scenario 1\", \"scenario 1\", \"scenario 1\", \"scenario 1\", \"scenario 1\", \"scenario 1\", \"scenario 1\", \"scenario 1\", \"scenario 1\", \"scenario 1\", \"scenario 1\", \"scenario 1\", \"scenario 1\", \"scenario 1\", \"scenario 1\", \"scenario 1\", \"scenario 1\", \"scenario 1\", \"scenario 1\", \"scenario 1\", \"scenario 1\", \"scenario 1\", \"scenario 1\", \"scenario 1\", \"scenario 1\", \"scenario 1\", \"scenario 1\", \"scenario 1\", \"scenario 1\", \"scenario 1\", \"scenario 1\", \"scenario 1\", \"scenario 1\", \"scenario 1\", \"scenario 1\", \"scenario 1\", \"scenario 1\", \"scenario 1\", \"scenario 1\", \"scenario 1\", \"scenario 1\", \"scenario 1\", \"scenario 1\", \"scenario 2\", \"scenario 2\", \"scenario 2\", \"scenario 2\", \"scenario 2\", \"scenario 2\", \"scenario 2\", \"scenario 2\", \"scenario 2\", \"scenario 2\", \"scenario 2\", \"scenario 2\", \"scenario 2\", \"scenario 2\", \"scenario 2\", \"scenario 2\", \"scenario 2\", \"scenario 2\", \"scenario 2\", \"scenario 2\", \"scenario 2\", \"scenario 2\", \"scenario 2\", \"scenario 2\", \"scenario 2\", \"scenario 2\", \"scenario 2\", \"scenario 2\", \"scenario 2\", \"scenario 2\", \"scenario 2\", \"scenario 2\", \"scenario 2\", \"scenario 2\", \"scenario 2\", \"scenario 2\", \"scenario 2\", \"scenario 2\", \"scenario 2\", \"scenario 2\", \"scenario 2\", \"scenario 2\", \"scenario 2\", \"scenario 2\", \"scenario 2\", \"scenario 2\", \"Emissions (CO2eq) (Enteric)\", \"Emissions (CO2eq) (Enteric)\", \"Emissions (CO2eq) (Enteric)\", \"Emissions (CO2eq) (Enteric)\", \"Emissions (CO2eq) (Enteric)\", \"Emissions (CO2eq) (Enteric)\", \"Emissions (CO2eq) (Enteric)\", \"Emissions (CO2eq) (Enteric)\", \"Emissions (CO2eq) (Enteric)\", \"Emissions (CO2eq) (Manure applied)\", \"Emissions (CO2eq) (Manure applied)\", \"Emissions (CO2eq) (Manure applied)\", \"Emissions (CO2eq) (Manure applied)\", \"Emissions (CO2eq) (Manure applied)\", \"Emissions (CO2eq) (Manure applied)\", \"Emissions (CO2eq) (Manure applied)\", \"Emissions (CO2eq) (Manure applied)\", \"Emissions (CO2eq) (Manure applied)\", \"Emissions (CO2eq) (Manure applied)\", \"Emissions (CO2eq) (Manure applied)\", \"Emissions (CO2eq) (Manure applied)\", \"Emissions (CO2eq) (Manure applied)\", \"Emissions (CO2eq) (Manure management)\", \"Emissions (CO2eq) (Manure management)\", \"Emissions (CO2eq) (Manure management)\", \"Emissions (CO2eq) (Manure management)\", \"Emissions (CO2eq) (Manure management)\", \"Emissions (CO2eq) (Manure management)\", \"Emissions (CO2eq) (Manure management)\", \"Emissions (CO2eq) (Manure management)\", \"Emissions (CO2eq) (Manure management)\", \"Emissions (CO2eq) (Manure management)\", \"Emissions (CO2eq) (Manure management)\", \"Emissions (CO2eq) (Manure management)\", \"Emissions (CO2eq) (Manure management)\", \"Emissions (CO2eq) (Manure on pasture)\", \"Emissions (CO2eq) (Manure on pasture)\", \"Emissions (CO2eq) (Manure on pasture)\", \"Emissions (CO2eq) (Manure on pasture)\", \"Emissions (CO2eq) (Manure on pasture)\", \"Emissions (CO2eq) (Manure on pasture)\", \"Emissions (CO2eq) (Manure on pasture)\", \"Emissions (CO2eq) (Manure on pasture)\", \"Emissions (CO2eq) (Manure on pasture)\", \"Emissions (CO2eq) (Manure on pasture)\", \"Emissions (CO2eq) (Manure on pasture)\", \"Asses\", \"Cattle, dairy\", \"Cattle, non-dairy\", \"Chickens, broilers\", \"Chickens, layers\", \"Ducks\", \"Goats\", \"Horses\", \"Mules\", \"Sheep\", \"Swine, breeding\", \"Swine, market\", \"Turkeys\"], \"name\": \"\", \"parents\": [\"Asses/Emissions (CO2eq) (Enteric)\", \"Cattle, dairy/Emissions (CO2eq) (Enteric)\", \"Cattle, non-dairy/Emissions (CO2eq) (Enteric)\", \"Goats/Emissions (CO2eq) (Enteric)\", \"Horses/Emissions (CO2eq) (Enteric)\", \"Mules/Emissions (CO2eq) (Enteric)\", \"Sheep/Emissions (CO2eq) (Enteric)\", \"Swine, breeding/Emissions (CO2eq) (Enteric)\", \"Swine, market/Emissions (CO2eq) (Enteric)\", \"Asses/Emissions (CO2eq) (Manure applied)\", \"Cattle, dairy/Emissions (CO2eq) (Manure applied)\", \"Cattle, non-dairy/Emissions (CO2eq) (Manure applied)\", \"Chickens, broilers/Emissions (CO2eq) (Manure applied)\", \"Chickens, layers/Emissions (CO2eq) (Manure applied)\", \"Ducks/Emissions (CO2eq) (Manure applied)\", \"Goats/Emissions (CO2eq) (Manure applied)\", \"Horses/Emissions (CO2eq) (Manure applied)\", \"Mules/Emissions (CO2eq) (Manure applied)\", \"Sheep/Emissions (CO2eq) (Manure applied)\", \"Swine, breeding/Emissions (CO2eq) (Manure applied)\", \"Swine, market/Emissions (CO2eq) (Manure applied)\", \"Turkeys/Emissions (CO2eq) (Manure applied)\", \"Asses/Emissions (CO2eq) (Manure management)\", \"Cattle, dairy/Emissions (CO2eq) (Manure management)\", \"Cattle, non-dairy/Emissions (CO2eq) (Manure management)\", \"Chickens, broilers/Emissions (CO2eq) (Manure management)\", \"Chickens, layers/Emissions (CO2eq) (Manure management)\", \"Ducks/Emissions (CO2eq) (Manure management)\", \"Goats/Emissions (CO2eq) (Manure management)\", \"Horses/Emissions (CO2eq) (Manure management)\", \"Mules/Emissions (CO2eq) (Manure management)\", \"Sheep/Emissions (CO2eq) (Manure management)\", \"Swine, breeding/Emissions (CO2eq) (Manure management)\", \"Swine, market/Emissions (CO2eq) (Manure management)\", \"Turkeys/Emissions (CO2eq) (Manure management)\", \"Asses/Emissions (CO2eq) (Manure on pasture)\", \"Cattle, dairy/Emissions (CO2eq) (Manure on pasture)\", \"Cattle, non-dairy/Emissions (CO2eq) (Manure on pasture)\", \"Chickens, broilers/Emissions (CO2eq) (Manure on pasture)\", \"Chickens, layers/Emissions (CO2eq) (Manure on pasture)\", \"Ducks/Emissions (CO2eq) (Manure on pasture)\", \"Goats/Emissions (CO2eq) (Manure on pasture)\", \"Horses/Emissions (CO2eq) (Manure on pasture)\", \"Mules/Emissions (CO2eq) (Manure on pasture)\", \"Sheep/Emissions (CO2eq) (Manure on pasture)\", \"Turkeys/Emissions (CO2eq) (Manure on pasture)\", \"Asses/Emissions (CO2eq) (Enteric)\", \"Cattle, dairy/Emissions (CO2eq) (Enteric)\", \"Cattle, non-dairy/Emissions (CO2eq) (Enteric)\", \"Goats/Emissions (CO2eq) (Enteric)\", \"Horses/Emissions (CO2eq) (Enteric)\", \"Mules/Emissions (CO2eq) (Enteric)\", \"Sheep/Emissions (CO2eq) (Enteric)\", \"Swine, breeding/Emissions (CO2eq) (Enteric)\", \"Swine, market/Emissions (CO2eq) (Enteric)\", \"Asses/Emissions (CO2eq) (Manure applied)\", \"Cattle, dairy/Emissions (CO2eq) (Manure applied)\", \"Cattle, non-dairy/Emissions (CO2eq) (Manure applied)\", \"Chickens, broilers/Emissions (CO2eq) (Manure applied)\", \"Chickens, layers/Emissions (CO2eq) (Manure applied)\", \"Ducks/Emissions (CO2eq) (Manure applied)\", \"Goats/Emissions (CO2eq) (Manure applied)\", \"Horses/Emissions (CO2eq) (Manure applied)\", \"Mules/Emissions (CO2eq) (Manure applied)\", \"Sheep/Emissions (CO2eq) (Manure applied)\", \"Swine, breeding/Emissions (CO2eq) (Manure applied)\", \"Swine, market/Emissions (CO2eq) (Manure applied)\", \"Turkeys/Emissions (CO2eq) (Manure applied)\", \"Asses/Emissions (CO2eq) (Manure management)\", \"Cattle, dairy/Emissions (CO2eq) (Manure management)\", \"Cattle, non-dairy/Emissions (CO2eq) (Manure management)\", \"Chickens, broilers/Emissions (CO2eq) (Manure management)\", \"Chickens, layers/Emissions (CO2eq) (Manure management)\", \"Ducks/Emissions (CO2eq) (Manure management)\", \"Goats/Emissions (CO2eq) (Manure management)\", \"Horses/Emissions (CO2eq) (Manure management)\", \"Mules/Emissions (CO2eq) (Manure management)\", \"Sheep/Emissions (CO2eq) (Manure management)\", \"Swine, breeding/Emissions (CO2eq) (Manure management)\", \"Swine, market/Emissions (CO2eq) (Manure management)\", \"Turkeys/Emissions (CO2eq) (Manure management)\", \"Asses/Emissions (CO2eq) (Manure on pasture)\", \"Cattle, dairy/Emissions (CO2eq) (Manure on pasture)\", \"Cattle, non-dairy/Emissions (CO2eq) (Manure on pasture)\", \"Chickens, broilers/Emissions (CO2eq) (Manure on pasture)\", \"Chickens, layers/Emissions (CO2eq) (Manure on pasture)\", \"Ducks/Emissions (CO2eq) (Manure on pasture)\", \"Goats/Emissions (CO2eq) (Manure on pasture)\", \"Horses/Emissions (CO2eq) (Manure on pasture)\", \"Mules/Emissions (CO2eq) (Manure on pasture)\", \"Sheep/Emissions (CO2eq) (Manure on pasture)\", \"Turkeys/Emissions (CO2eq) (Manure on pasture)\", \"Asses/Emissions (CO2eq) (Enteric)\", \"Cattle, dairy/Emissions (CO2eq) (Enteric)\", \"Cattle, non-dairy/Emissions (CO2eq) (Enteric)\", \"Goats/Emissions (CO2eq) (Enteric)\", \"Horses/Emissions (CO2eq) (Enteric)\", \"Mules/Emissions (CO2eq) (Enteric)\", \"Sheep/Emissions (CO2eq) (Enteric)\", \"Swine, breeding/Emissions (CO2eq) (Enteric)\", \"Swine, market/Emissions (CO2eq) (Enteric)\", \"Asses/Emissions (CO2eq) (Manure applied)\", \"Cattle, dairy/Emissions (CO2eq) (Manure applied)\", \"Cattle, non-dairy/Emissions (CO2eq) (Manure applied)\", \"Chickens, broilers/Emissions (CO2eq) (Manure applied)\", \"Chickens, layers/Emissions (CO2eq) (Manure applied)\", \"Ducks/Emissions (CO2eq) (Manure applied)\", \"Goats/Emissions (CO2eq) (Manure applied)\", \"Horses/Emissions (CO2eq) (Manure applied)\", \"Mules/Emissions (CO2eq) (Manure applied)\", \"Sheep/Emissions (CO2eq) (Manure applied)\", \"Swine, breeding/Emissions (CO2eq) (Manure applied)\", \"Swine, market/Emissions (CO2eq) (Manure applied)\", \"Turkeys/Emissions (CO2eq) (Manure applied)\", \"Asses/Emissions (CO2eq) (Manure management)\", \"Cattle, dairy/Emissions (CO2eq) (Manure management)\", \"Cattle, non-dairy/Emissions (CO2eq) (Manure management)\", \"Chickens, broilers/Emissions (CO2eq) (Manure management)\", \"Chickens, layers/Emissions (CO2eq) (Manure management)\", \"Ducks/Emissions (CO2eq) (Manure management)\", \"Goats/Emissions (CO2eq) (Manure management)\", \"Horses/Emissions (CO2eq) (Manure management)\", \"Mules/Emissions (CO2eq) (Manure management)\", \"Sheep/Emissions (CO2eq) (Manure management)\", \"Swine, breeding/Emissions (CO2eq) (Manure management)\", \"Swine, market/Emissions (CO2eq) (Manure management)\", \"Turkeys/Emissions (CO2eq) (Manure management)\", \"Asses/Emissions (CO2eq) (Manure on pasture)\", \"Cattle, dairy/Emissions (CO2eq) (Manure on pasture)\", \"Cattle, non-dairy/Emissions (CO2eq) (Manure on pasture)\", \"Chickens, broilers/Emissions (CO2eq) (Manure on pasture)\", \"Chickens, layers/Emissions (CO2eq) (Manure on pasture)\", \"Ducks/Emissions (CO2eq) (Manure on pasture)\", \"Goats/Emissions (CO2eq) (Manure on pasture)\", \"Horses/Emissions (CO2eq) (Manure on pasture)\", \"Mules/Emissions (CO2eq) (Manure on pasture)\", \"Sheep/Emissions (CO2eq) (Manure on pasture)\", \"Turkeys/Emissions (CO2eq) (Manure on pasture)\", \"Asses\", \"Cattle, dairy\", \"Cattle, non-dairy\", \"Goats\", \"Horses\", \"Mules\", \"Sheep\", \"Swine, breeding\", \"Swine, market\", \"Asses\", \"Cattle, dairy\", \"Cattle, non-dairy\", \"Chickens, broilers\", \"Chickens, layers\", \"Ducks\", \"Goats\", \"Horses\", \"Mules\", \"Sheep\", \"Swine, breeding\", \"Swine, market\", \"Turkeys\", \"Asses\", \"Cattle, dairy\", \"Cattle, non-dairy\", \"Chickens, broilers\", \"Chickens, layers\", \"Ducks\", \"Goats\", \"Horses\", \"Mules\", \"Sheep\", \"Swine, breeding\", \"Swine, market\", \"Turkeys\", \"Asses\", \"Cattle, dairy\", \"Cattle, non-dairy\", \"Chickens, broilers\", \"Chickens, layers\", \"Ducks\", \"Goats\", \"Horses\", \"Mules\", \"Sheep\", \"Turkeys\", \"\", \"\", \"\", \"\", \"\", \"\", \"\", \"\", \"\", \"\", \"\", \"\", \"\"], \"type\": \"treemap\", \"values\": [6.396599999999999, 8728.335251999999, 17948.591261999998, 136.35888, 140.193018, 5.877479999999999, 1183.090608, 41.972868, 377.7559065, 0.8717974466820667, 866.3387570844865, 1759.8207774701352, 89.38303271533348, 86.4959418509472, 45.4975048453068, 54.19183025636113, 30.783519881365255, 0.8010461896827867, 245.8319820682293, 93.82996748294771, 258.94640361124175, 80.23427744465467, 0.7909658820566666, 2121.263801017574, 2973.2530210564864, 76.65952481455949, 256.9022263377504, 26.2963028469276, 22.493523277329068, 22.913530049987855, 0.7267745603086666, 134.68289766188963, 300.6966905392555, 1603.3751405746384, 64.20372202571599, 0.8717974466820667, 1472.1700557449662, 2990.464677798901, 151.26359382594896, 146.98261447398718, 77.31394180006679, 54.19183025636113, 30.783519881365255, 0.8010461896827867, 245.8319820682293, 136.34216376958798, 6.396599999999999, 8728.335251999999, 17948.591261999998, 136.35888, 140.193018, 5.877479999999999, 1183.090608, 41.972868, 377.7559065, 0.8717974466820667, 866.3387570844865, 1759.8207774701352, 89.38303271533348, 86.4959418509472, 45.4975048453068, 54.19183025636113, 30.783519881365255, 0.8010461896827867, 245.8319820682293, 93.82996748294771, 258.94640361124175, 80.23427744465467, 0.7909658820566666, 2121.263801017574, 2973.2530210564864, 76.65952481455949, 256.9022263377504, 26.2963028469276, 22.493523277329068, 22.913530049987855, 0.7267745603086666, 134.68289766188963, 300.6966905392555, 1603.3751405746384, 64.20372202571599, 0.8717974466820667, 1472.1700557449662, 2990.464677798901, 151.26359382594896, 146.98261447398718, 77.31394180006679, 54.19183025636113, 30.783519881365255, 0.8010461896827867, 245.8319820682293, 136.34216376958798, 6.396599999999999, 8728.335251999999, 8974.295630999999, 136.35888, 140.193018, 5.877479999999999, 1183.090608, 41.972868, 377.7559065, 0.8717974466820667, 866.3387570844865, 879.9103887350676, 89.38303271533348, 86.4959418509472, 45.4975048453068, 54.19183025636113, 30.783519881365255, 0.8010461896827867, 245.8319820682293, 93.82996748294771, 258.94640361124175, 80.23427744465467, 0.7909658820566666, 2121.263801017574, 1486.6265105282432, 76.65952481455949, 256.9022263377504, 26.2963028469276, 22.493523277329068, 22.913530049987855, 0.7267745603086666, 134.68289766188963, 300.6966905392555, 1603.3751405746384, 64.20372202571599, 0.8717974466820667, 1472.1700557449662, 1495.2323388994505, 151.26359382594896, 146.98261447398718, 77.31394180006679, 54.19183025636113, 30.783519881365255, 0.8010461896827867, 245.8319820682293, 136.34216376958798, 19.189799999999998, 26185.005756, 44871.478155, 409.07664, 420.579054, 17.63244, 3549.271824, 125.91860399999999, 1133.2677194999999, 2.6153923400462, 2599.0162712534593, 4399.551943675338, 268.1490981460005, 259.4878255528416, 136.4925145359204, 162.5754907690834, 92.35055964409577, 2.40313856904836, 737.4959462046879, 281.4899024488431, 776.8392108337252, 240.702832333964, 2.3728976461699998, 6363.791403052723, 7433.1325526412165, 229.97857444367847, 770.7066790132512, 78.8889085407828, 67.4805698319872, 68.74059014996357, 2.1803236809259996, 404.0486929856689, 902.0900716177664, 4810.125421723915, 192.61116607714797, 2.6153923400462, 4416.510167234899, 7476.161694497252, 453.79078147784685, 440.9478434219616, 231.94182540020034, 162.5754907690834, 92.35055964409577, 2.40313856904836, 737.4959462046879, 409.026491308764, 26.7934823262624, 39564.32359754107, 64180.3243458138, 951.9184540675259, 1471.1423479880543, 447.32324847690353, 801.7081913701539, 674.020763438155, 24.619040819022715, 5428.312409395045, 1309.4985780666095, 6720.23235205764, 842.3404897198759]}],                        {\"legend\": {\"tracegroupgap\": 0}, \"margin\": {\"t\": 60}, \"template\": {\"data\": {\"bar\": [{\"error_x\": {\"color\": \"#2a3f5f\"}, \"error_y\": {\"color\": \"#2a3f5f\"}, \"marker\": {\"line\": {\"color\": \"#E5ECF6\", \"width\": 0.5}}, \"type\": \"bar\"}], \"barpolar\": [{\"marker\": {\"line\": {\"color\": \"#E5ECF6\", \"width\": 0.5}}, \"type\": \"barpolar\"}], \"carpet\": [{\"aaxis\": {\"endlinecolor\": \"#2a3f5f\", \"gridcolor\": \"white\", \"linecolor\": \"white\", \"minorgridcolor\": \"white\", \"startlinecolor\": \"#2a3f5f\"}, \"baxis\": {\"endlinecolor\": \"#2a3f5f\", \"gridcolor\": \"white\", \"linecolor\": \"white\", \"minorgridcolor\": \"white\", \"startlinecolor\": \"#2a3f5f\"}, \"type\": \"carpet\"}], \"choropleth\": [{\"colorbar\": {\"outlinewidth\": 0, \"ticks\": \"\"}, \"type\": \"choropleth\"}], \"contour\": [{\"colorbar\": {\"outlinewidth\": 0, \"ticks\": \"\"}, \"colorscale\": [[0.0, \"#0d0887\"], [0.1111111111111111, \"#46039f\"], [0.2222222222222222, \"#7201a8\"], [0.3333333333333333, \"#9c179e\"], [0.4444444444444444, \"#bd3786\"], [0.5555555555555556, \"#d8576b\"], [0.6666666666666666, \"#ed7953\"], [0.7777777777777778, \"#fb9f3a\"], [0.8888888888888888, \"#fdca26\"], [1.0, \"#f0f921\"]], \"type\": \"contour\"}], \"contourcarpet\": [{\"colorbar\": {\"outlinewidth\": 0, \"ticks\": \"\"}, \"type\": \"contourcarpet\"}], \"heatmap\": [{\"colorbar\": {\"outlinewidth\": 0, \"ticks\": \"\"}, \"colorscale\": [[0.0, \"#0d0887\"], [0.1111111111111111, \"#46039f\"], [0.2222222222222222, \"#7201a8\"], [0.3333333333333333, \"#9c179e\"], [0.4444444444444444, \"#bd3786\"], [0.5555555555555556, \"#d8576b\"], [0.6666666666666666, \"#ed7953\"], [0.7777777777777778, \"#fb9f3a\"], [0.8888888888888888, \"#fdca26\"], [1.0, \"#f0f921\"]], \"type\": \"heatmap\"}], \"heatmapgl\": [{\"colorbar\": {\"outlinewidth\": 0, \"ticks\": \"\"}, \"colorscale\": [[0.0, \"#0d0887\"], [0.1111111111111111, \"#46039f\"], [0.2222222222222222, \"#7201a8\"], [0.3333333333333333, \"#9c179e\"], [0.4444444444444444, \"#bd3786\"], [0.5555555555555556, \"#d8576b\"], [0.6666666666666666, \"#ed7953\"], [0.7777777777777778, \"#fb9f3a\"], [0.8888888888888888, \"#fdca26\"], [1.0, \"#f0f921\"]], \"type\": \"heatmapgl\"}], \"histogram\": [{\"marker\": {\"colorbar\": {\"outlinewidth\": 0, \"ticks\": \"\"}}, \"type\": \"histogram\"}], \"histogram2d\": [{\"colorbar\": {\"outlinewidth\": 0, \"ticks\": \"\"}, \"colorscale\": [[0.0, \"#0d0887\"], [0.1111111111111111, \"#46039f\"], [0.2222222222222222, \"#7201a8\"], [0.3333333333333333, \"#9c179e\"], [0.4444444444444444, \"#bd3786\"], [0.5555555555555556, \"#d8576b\"], [0.6666666666666666, \"#ed7953\"], [0.7777777777777778, \"#fb9f3a\"], [0.8888888888888888, \"#fdca26\"], [1.0, \"#f0f921\"]], \"type\": \"histogram2d\"}], \"histogram2dcontour\": [{\"colorbar\": {\"outlinewidth\": 0, \"ticks\": \"\"}, \"colorscale\": [[0.0, \"#0d0887\"], [0.1111111111111111, \"#46039f\"], [0.2222222222222222, \"#7201a8\"], [0.3333333333333333, \"#9c179e\"], [0.4444444444444444, \"#bd3786\"], [0.5555555555555556, \"#d8576b\"], [0.6666666666666666, \"#ed7953\"], [0.7777777777777778, \"#fb9f3a\"], [0.8888888888888888, \"#fdca26\"], [1.0, \"#f0f921\"]], \"type\": \"histogram2dcontour\"}], \"mesh3d\": [{\"colorbar\": {\"outlinewidth\": 0, \"ticks\": \"\"}, \"type\": \"mesh3d\"}], \"parcoords\": [{\"line\": {\"colorbar\": {\"outlinewidth\": 0, \"ticks\": \"\"}}, \"type\": \"parcoords\"}], \"pie\": [{\"automargin\": true, \"type\": \"pie\"}], \"scatter\": [{\"marker\": {\"colorbar\": {\"outlinewidth\": 0, \"ticks\": \"\"}}, \"type\": \"scatter\"}], \"scatter3d\": [{\"line\": {\"colorbar\": {\"outlinewidth\": 0, \"ticks\": \"\"}}, \"marker\": {\"colorbar\": {\"outlinewidth\": 0, \"ticks\": \"\"}}, \"type\": \"scatter3d\"}], \"scattercarpet\": [{\"marker\": {\"colorbar\": {\"outlinewidth\": 0, \"ticks\": \"\"}}, \"type\": \"scattercarpet\"}], \"scattergeo\": [{\"marker\": {\"colorbar\": {\"outlinewidth\": 0, \"ticks\": \"\"}}, \"type\": \"scattergeo\"}], \"scattergl\": [{\"marker\": {\"colorbar\": {\"outlinewidth\": 0, \"ticks\": \"\"}}, \"type\": \"scattergl\"}], \"scattermapbox\": [{\"marker\": {\"colorbar\": {\"outlinewidth\": 0, \"ticks\": \"\"}}, \"type\": \"scattermapbox\"}], \"scatterpolar\": [{\"marker\": {\"colorbar\": {\"outlinewidth\": 0, \"ticks\": \"\"}}, \"type\": \"scatterpolar\"}], \"scatterpolargl\": [{\"marker\": {\"colorbar\": {\"outlinewidth\": 0, \"ticks\": \"\"}}, \"type\": \"scatterpolargl\"}], \"scatterternary\": [{\"marker\": {\"colorbar\": {\"outlinewidth\": 0, \"ticks\": \"\"}}, \"type\": \"scatterternary\"}], \"surface\": [{\"colorbar\": {\"outlinewidth\": 0, \"ticks\": \"\"}, \"colorscale\": [[0.0, \"#0d0887\"], [0.1111111111111111, \"#46039f\"], [0.2222222222222222, \"#7201a8\"], [0.3333333333333333, \"#9c179e\"], [0.4444444444444444, \"#bd3786\"], [0.5555555555555556, \"#d8576b\"], [0.6666666666666666, \"#ed7953\"], [0.7777777777777778, \"#fb9f3a\"], [0.8888888888888888, \"#fdca26\"], [1.0, \"#f0f921\"]], \"type\": \"surface\"}], \"table\": [{\"cells\": {\"fill\": {\"color\": \"#EBF0F8\"}, \"line\": {\"color\": \"white\"}}, \"header\": {\"fill\": {\"color\": \"#C8D4E3\"}, \"line\": {\"color\": \"white\"}}, \"type\": \"table\"}]}, \"layout\": {\"annotationdefaults\": {\"arrowcolor\": \"#2a3f5f\", \"arrowhead\": 0, \"arrowwidth\": 1}, \"autotypenumbers\": \"strict\", \"coloraxis\": {\"colorbar\": {\"outlinewidth\": 0, \"ticks\": \"\"}}, \"colorscale\": {\"diverging\": [[0, \"#8e0152\"], [0.1, \"#c51b7d\"], [0.2, \"#de77ae\"], [0.3, \"#f1b6da\"], [0.4, \"#fde0ef\"], [0.5, \"#f7f7f7\"], [0.6, \"#e6f5d0\"], [0.7, \"#b8e186\"], [0.8, \"#7fbc41\"], [0.9, \"#4d9221\"], [1, \"#276419\"]], \"sequential\": [[0.0, \"#0d0887\"], [0.1111111111111111, \"#46039f\"], [0.2222222222222222, \"#7201a8\"], [0.3333333333333333, \"#9c179e\"], [0.4444444444444444, \"#bd3786\"], [0.5555555555555556, \"#d8576b\"], [0.6666666666666666, \"#ed7953\"], [0.7777777777777778, \"#fb9f3a\"], [0.8888888888888888, \"#fdca26\"], [1.0, \"#f0f921\"]], \"sequentialminus\": [[0.0, \"#0d0887\"], [0.1111111111111111, \"#46039f\"], [0.2222222222222222, \"#7201a8\"], [0.3333333333333333, \"#9c179e\"], [0.4444444444444444, \"#bd3786\"], [0.5555555555555556, \"#d8576b\"], [0.6666666666666666, \"#ed7953\"], [0.7777777777777778, \"#fb9f3a\"], [0.8888888888888888, \"#fdca26\"], [1.0, \"#f0f921\"]]}, \"colorway\": [\"#636efa\", \"#EF553B\", \"#00cc96\", \"#ab63fa\", \"#FFA15A\", \"#19d3f3\", \"#FF6692\", \"#B6E880\", \"#FF97FF\", \"#FECB52\"], \"font\": {\"color\": \"#2a3f5f\"}, \"geo\": {\"bgcolor\": \"white\", \"lakecolor\": \"white\", \"landcolor\": \"#E5ECF6\", \"showlakes\": true, \"showland\": true, \"subunitcolor\": \"white\"}, \"hoverlabel\": {\"align\": \"left\"}, \"hovermode\": \"closest\", \"mapbox\": {\"style\": \"light\"}, \"paper_bgcolor\": \"white\", \"plot_bgcolor\": \"#E5ECF6\", \"polar\": {\"angularaxis\": {\"gridcolor\": \"white\", \"linecolor\": \"white\", \"ticks\": \"\"}, \"bgcolor\": \"#E5ECF6\", \"radialaxis\": {\"gridcolor\": \"white\", \"linecolor\": \"white\", \"ticks\": \"\"}}, \"scene\": {\"xaxis\": {\"backgroundcolor\": \"#E5ECF6\", \"gridcolor\": \"white\", \"gridwidth\": 2, \"linecolor\": \"white\", \"showbackground\": true, \"ticks\": \"\", \"zerolinecolor\": \"white\"}, \"yaxis\": {\"backgroundcolor\": \"#E5ECF6\", \"gridcolor\": \"white\", \"gridwidth\": 2, \"linecolor\": \"white\", \"showbackground\": true, \"ticks\": \"\", \"zerolinecolor\": \"white\"}, \"zaxis\": {\"backgroundcolor\": \"#E5ECF6\", \"gridcolor\": \"white\", \"gridwidth\": 2, \"linecolor\": \"white\", \"showbackground\": true, \"ticks\": \"\", \"zerolinecolor\": \"white\"}}, \"shapedefaults\": {\"line\": {\"color\": \"#2a3f5f\"}}, \"ternary\": {\"aaxis\": {\"gridcolor\": \"white\", \"linecolor\": \"white\", \"ticks\": \"\"}, \"baxis\": {\"gridcolor\": \"white\", \"linecolor\": \"white\", \"ticks\": \"\"}, \"bgcolor\": \"#E5ECF6\", \"caxis\": {\"gridcolor\": \"white\", \"linecolor\": \"white\", \"ticks\": \"\"}}, \"title\": {\"x\": 0.05}, \"xaxis\": {\"automargin\": true, \"gridcolor\": \"white\", \"linecolor\": \"white\", \"ticks\": \"\", \"title\": {\"standoff\": 15}, \"zerolinecolor\": \"white\", \"zerolinewidth\": 2}, \"yaxis\": {\"automargin\": true, \"gridcolor\": \"white\", \"linecolor\": \"white\", \"ticks\": \"\", \"title\": {\"standoff\": 15}, \"zerolinecolor\": \"white\", \"zerolinewidth\": 2}}}},                        {\"responsive\": true}                    ).then(function(){\n",
       "                            \n",
       "var gd = document.getElementById('8f6f95f7-a131-41f0-9082-3dae627cd8f7');\n",
       "var x = new MutationObserver(function (mutations, observer) {{\n",
       "        var display = window.getComputedStyle(gd).display;\n",
       "        if (!display || display === 'none') {{\n",
       "            console.log([gd, 'removed!']);\n",
       "            Plotly.purge(gd);\n",
       "            observer.disconnect();\n",
       "        }}\n",
       "}});\n",
       "\n",
       "// Listen for the removal of the full notebook cells\n",
       "var notebookContainer = gd.closest('#notebook-container');\n",
       "if (notebookContainer) {{\n",
       "    x.observe(notebookContainer, {childList: true});\n",
       "}}\n",
       "\n",
       "// Listen for the clearing of the current output cell\n",
       "var outputEl = gd.closest('.output');\n",
       "if (outputEl) {{\n",
       "    x.observe(outputEl, {childList: true});\n",
       "}}\n",
       "\n",
       "                        })                };                });            </script>        </div>"
      ]
     },
     "metadata": {},
     "output_type": "display_data"
    }
   ],
   "source": [
    "import plotly.express as px\n",
    "fig = px.treemap(df.query('Variable != \"GE3_partial\"'), path=['Item','name', 'scenario'], values='Value')\n",
    "fig"
   ]
  },
  {
   "cell_type": "code",
   "execution_count": 128,
   "metadata": {
    "ExecuteTime": {
     "end_time": "2021-06-11T02:38:43.915094Z",
     "start_time": "2021-06-11T02:38:43.899553Z"
    }
   },
   "outputs": [],
   "source": [
    "from sklearn.preprocessing import LabelEncoder\n",
    "import plotly.graph_objects as go\n",
    "import pandas as pd\n",
    "\n",
    "\n",
    "def emission_data_dict_to_df(data_dict):\n",
    "\n",
    "    data_dict = data_dict.copy()\n",
    "\n",
    "    data = pd.concat([v.to_frame(name='Value').assign(Variable=k)\n",
    "                      for k, v in data_dict.items()], axis=0).reset_index().dropna()\n",
    "\n",
    "    data = pd.concat([data, data.groupby('Variable').sum().reset_index().rename(\n",
    "        columns={\"Variable\": 'Item'}).assign(Variable='Non-CO2 agricultural emissions')])\n",
    "\n",
    "    return data\n",
    "\n",
    "\n",
    "def encode_source_target(df, source='Item', target='Variable'):\n",
    "\n",
    "    le = LabelEncoder()\n",
    "\n",
    "    encoded = le.fit_transform(\n",
    "        df[[source, target]].values.flatten()).reshape(-1, 2)\n",
    "\n",
    "    return encoded, le.classes_\n",
    "\n",
    "\n",
    "def sankeyplot(df, source, target, valueformat='.00f', valuesuffix=' Gg(CO2eq)'):\n",
    "\n",
    "    data = df.copy()\n",
    "\n",
    "    encoded_s_t, classe_names = encode_source_target(data, source, target)\n",
    "\n",
    "    data[['Source', 'Target']] = encoded_s_t\n",
    "    color_dict = pd.DataFrame({'scenario': ['BAU', 'scenario 1' ,'scenario 2'],\n",
    "                               'color': ['grey', '#D8A488', '#86BBD8']})\n",
    "    \n",
    "    data = data.merge(color_dict, on='scenario')\n",
    "    \n",
    "    fig = go.Figure(data=[go.Sankey(\n",
    "        valueformat=valueformat,\n",
    "        valuesuffix=valuesuffix,\n",
    "        node=dict(\n",
    "            pad=15,\n",
    "            thickness=20,\n",
    "            line=dict(color=\"black\", width=0.5),\n",
    "            label=classe_names,\n",
    "            color='lightgrey'\n",
    "        ),\n",
    "        link=dict(\n",
    "            target=data['Target'],\n",
    "            source=data['Source'],\n",
    "            value=data['Value'],\n",
    "            color=data['color']\n",
    "        ))])\n",
    "\n",
    "    return fig"
   ]
  },
  {
   "cell_type": "code",
   "execution_count": 129,
   "metadata": {
    "ExecuteTime": {
     "end_time": "2021-06-11T02:38:44.492538Z",
     "start_time": "2021-06-11T02:38:44.467980Z"
    }
   },
   "outputs": [
    {
     "data": {
      "text/html": [
       "<div>\n",
       "<style scoped>\n",
       "    .dataframe tbody tr th:only-of-type {\n",
       "        vertical-align: middle;\n",
       "    }\n",
       "\n",
       "    .dataframe tbody tr th {\n",
       "        vertical-align: top;\n",
       "    }\n",
       "\n",
       "    .dataframe thead th {\n",
       "        text-align: right;\n",
       "    }\n",
       "</style>\n",
       "<table border=\"1\" class=\"dataframe\">\n",
       "  <thead>\n",
       "    <tr style=\"text-align: right;\">\n",
       "      <th></th>\n",
       "      <th>ISO</th>\n",
       "      <th>Year</th>\n",
       "      <th>Item</th>\n",
       "      <th>Value</th>\n",
       "      <th>Variable</th>\n",
       "      <th>scenario</th>\n",
       "      <th>name</th>\n",
       "      <th>unit</th>\n",
       "    </tr>\n",
       "  </thead>\n",
       "  <tbody>\n",
       "    <tr>\n",
       "      <th>1</th>\n",
       "      <td>FRA</td>\n",
       "      <td>2018</td>\n",
       "      <td>Asses</td>\n",
       "      <td>0.871797</td>\n",
       "      <td>TMA_CO2eq</td>\n",
       "      <td>BAU</td>\n",
       "      <td>Emissions (CO2eq) (Manure applied)</td>\n",
       "      <td>gigagrams (CO2eq)</td>\n",
       "    </tr>\n",
       "    <tr>\n",
       "      <th>3</th>\n",
       "      <td>FRA</td>\n",
       "      <td>2018</td>\n",
       "      <td>Cattle, dairy</td>\n",
       "      <td>866.338757</td>\n",
       "      <td>TMA_CO2eq</td>\n",
       "      <td>BAU</td>\n",
       "      <td>Emissions (CO2eq) (Manure applied)</td>\n",
       "      <td>gigagrams (CO2eq)</td>\n",
       "    </tr>\n",
       "    <tr>\n",
       "      <th>4</th>\n",
       "      <td>FRA</td>\n",
       "      <td>2018</td>\n",
       "      <td>Cattle, non-dairy</td>\n",
       "      <td>1759.820777</td>\n",
       "      <td>TMA_CO2eq</td>\n",
       "      <td>BAU</td>\n",
       "      <td>Emissions (CO2eq) (Manure applied)</td>\n",
       "      <td>gigagrams (CO2eq)</td>\n",
       "    </tr>\n",
       "    <tr>\n",
       "      <th>6</th>\n",
       "      <td>FRA</td>\n",
       "      <td>2018</td>\n",
       "      <td>Chickens, broilers</td>\n",
       "      <td>89.383033</td>\n",
       "      <td>TMA_CO2eq</td>\n",
       "      <td>BAU</td>\n",
       "      <td>Emissions (CO2eq) (Manure applied)</td>\n",
       "      <td>gigagrams (CO2eq)</td>\n",
       "    </tr>\n",
       "    <tr>\n",
       "      <th>7</th>\n",
       "      <td>FRA</td>\n",
       "      <td>2018</td>\n",
       "      <td>Chickens, layers</td>\n",
       "      <td>86.495942</td>\n",
       "      <td>TMA_CO2eq</td>\n",
       "      <td>BAU</td>\n",
       "      <td>Emissions (CO2eq) (Manure applied)</td>\n",
       "      <td>gigagrams (CO2eq)</td>\n",
       "    </tr>\n",
       "    <tr>\n",
       "      <th>...</th>\n",
       "      <td>...</td>\n",
       "      <td>...</td>\n",
       "      <td>...</td>\n",
       "      <td>...</td>\n",
       "      <td>...</td>\n",
       "      <td>...</td>\n",
       "      <td>...</td>\n",
       "      <td>...</td>\n",
       "    </tr>\n",
       "    <tr>\n",
       "      <th>74</th>\n",
       "      <td>FRA</td>\n",
       "      <td>2018</td>\n",
       "      <td>Swine, market</td>\n",
       "      <td>377.755906</td>\n",
       "      <td>TEE_CO2eq</td>\n",
       "      <td>scenario 2</td>\n",
       "      <td>Emissions (CO2eq) (Enteric)</td>\n",
       "      <td>gigagrams (CO2eq)</td>\n",
       "    </tr>\n",
       "    <tr>\n",
       "      <th>0</th>\n",
       "      <td>NaN</td>\n",
       "      <td>18162</td>\n",
       "      <td>TEE_CO2eq</td>\n",
       "      <td>19594.276243</td>\n",
       "      <td>GE3_partial</td>\n",
       "      <td>scenario 2</td>\n",
       "      <td>Non-CO2 agricultural emissions</td>\n",
       "      <td>gigagrams (CO2eq)</td>\n",
       "    </tr>\n",
       "    <tr>\n",
       "      <th>1</th>\n",
       "      <td>NaN</td>\n",
       "      <td>26234</td>\n",
       "      <td>TMA_CO2eq</td>\n",
       "      <td>2733.116450</td>\n",
       "      <td>GE3_partial</td>\n",
       "      <td>scenario 2</td>\n",
       "      <td>Non-CO2 agricultural emissions</td>\n",
       "      <td>gigagrams (CO2eq)</td>\n",
       "    </tr>\n",
       "    <tr>\n",
       "      <th>2</th>\n",
       "      <td>NaN</td>\n",
       "      <td>22198</td>\n",
       "      <td>TMP_CO2eq</td>\n",
       "      <td>3811.784884</td>\n",
       "      <td>GE3_partial</td>\n",
       "      <td>scenario 2</td>\n",
       "      <td>Non-CO2 agricultural emissions</td>\n",
       "      <td>gigagrams (CO2eq)</td>\n",
       "    </tr>\n",
       "    <tr>\n",
       "      <th>3</th>\n",
       "      <td>NaN</td>\n",
       "      <td>26234</td>\n",
       "      <td>TMT_CO2eq</td>\n",
       "      <td>6117.631610</td>\n",
       "      <td>GE3_partial</td>\n",
       "      <td>scenario 2</td>\n",
       "      <td>Non-CO2 agricultural emissions</td>\n",
       "      <td>gigagrams (CO2eq)</td>\n",
       "    </tr>\n",
       "  </tbody>\n",
       "</table>\n",
       "<p>150 rows × 8 columns</p>\n",
       "</div>"
      ],
      "text/plain": [
       "    ISO   Year                Item         Value     Variable    scenario  \\\n",
       "1   FRA   2018               Asses      0.871797    TMA_CO2eq         BAU   \n",
       "3   FRA   2018       Cattle, dairy    866.338757    TMA_CO2eq         BAU   \n",
       "4   FRA   2018   Cattle, non-dairy   1759.820777    TMA_CO2eq         BAU   \n",
       "6   FRA   2018  Chickens, broilers     89.383033    TMA_CO2eq         BAU   \n",
       "7   FRA   2018    Chickens, layers     86.495942    TMA_CO2eq         BAU   \n",
       "..  ...    ...                 ...           ...          ...         ...   \n",
       "74  FRA   2018       Swine, market    377.755906    TEE_CO2eq  scenario 2   \n",
       "0   NaN  18162           TEE_CO2eq  19594.276243  GE3_partial  scenario 2   \n",
       "1   NaN  26234           TMA_CO2eq   2733.116450  GE3_partial  scenario 2   \n",
       "2   NaN  22198           TMP_CO2eq   3811.784884  GE3_partial  scenario 2   \n",
       "3   NaN  26234           TMT_CO2eq   6117.631610  GE3_partial  scenario 2   \n",
       "\n",
       "                                  name               unit  \n",
       "1   Emissions (CO2eq) (Manure applied)  gigagrams (CO2eq)  \n",
       "3   Emissions (CO2eq) (Manure applied)  gigagrams (CO2eq)  \n",
       "4   Emissions (CO2eq) (Manure applied)  gigagrams (CO2eq)  \n",
       "6   Emissions (CO2eq) (Manure applied)  gigagrams (CO2eq)  \n",
       "7   Emissions (CO2eq) (Manure applied)  gigagrams (CO2eq)  \n",
       "..                                 ...                ...  \n",
       "74         Emissions (CO2eq) (Enteric)  gigagrams (CO2eq)  \n",
       "0       Non-CO2 agricultural emissions  gigagrams (CO2eq)  \n",
       "1       Non-CO2 agricultural emissions  gigagrams (CO2eq)  \n",
       "2       Non-CO2 agricultural emissions  gigagrams (CO2eq)  \n",
       "3       Non-CO2 agricultural emissions  gigagrams (CO2eq)  \n",
       "\n",
       "[150 rows x 8 columns]"
      ]
     },
     "execution_count": 129,
     "metadata": {},
     "output_type": "execute_result"
    }
   ],
   "source": [
    "df"
   ]
  },
  {
   "cell_type": "code",
   "execution_count": 130,
   "metadata": {
    "ExecuteTime": {
     "end_time": "2021-06-11T02:38:45.506029Z",
     "start_time": "2021-06-11T02:38:45.461672Z"
    }
   },
   "outputs": [
    {
     "data": {
      "application/vnd.plotly.v1+json": {
       "config": {
        "plotlyServerURL": "https://plot.ly"
       },
       "data": [
        {
         "link": {
          "color": [
           "grey",
           "grey",
           "grey",
           "grey",
           "grey",
           "grey",
           "grey",
           "grey",
           "grey",
           "grey",
           "grey",
           "grey",
           "grey",
           "grey",
           "grey",
           "grey",
           "grey",
           "grey",
           "grey",
           "grey",
           "grey",
           "grey",
           "grey",
           "grey",
           "grey",
           "grey",
           "grey",
           "grey",
           "grey",
           "grey",
           "grey",
           "grey",
           "grey",
           "grey",
           "grey",
           "grey",
           "grey",
           "grey",
           "grey",
           "grey",
           "grey",
           "grey",
           "grey",
           "grey",
           "grey",
           "grey",
           "grey",
           "grey",
           "grey",
           "grey",
           "#D8A488",
           "#D8A488",
           "#D8A488",
           "#D8A488",
           "#D8A488",
           "#D8A488",
           "#D8A488",
           "#D8A488",
           "#D8A488",
           "#D8A488",
           "#D8A488",
           "#D8A488",
           "#D8A488",
           "#D8A488",
           "#D8A488",
           "#D8A488",
           "#D8A488",
           "#D8A488",
           "#D8A488",
           "#D8A488",
           "#D8A488",
           "#D8A488",
           "#D8A488",
           "#D8A488",
           "#D8A488",
           "#D8A488",
           "#D8A488",
           "#D8A488",
           "#D8A488",
           "#D8A488",
           "#D8A488",
           "#D8A488",
           "#D8A488",
           "#D8A488",
           "#D8A488",
           "#D8A488",
           "#D8A488",
           "#D8A488",
           "#D8A488",
           "#D8A488",
           "#D8A488",
           "#D8A488",
           "#D8A488",
           "#D8A488",
           "#D8A488",
           "#D8A488",
           "#D8A488",
           "#D8A488",
           "#D8A488",
           "#D8A488",
           "#86BBD8",
           "#86BBD8",
           "#86BBD8",
           "#86BBD8",
           "#86BBD8",
           "#86BBD8",
           "#86BBD8",
           "#86BBD8",
           "#86BBD8",
           "#86BBD8",
           "#86BBD8",
           "#86BBD8",
           "#86BBD8",
           "#86BBD8",
           "#86BBD8",
           "#86BBD8",
           "#86BBD8",
           "#86BBD8",
           "#86BBD8",
           "#86BBD8",
           "#86BBD8",
           "#86BBD8",
           "#86BBD8",
           "#86BBD8",
           "#86BBD8",
           "#86BBD8",
           "#86BBD8",
           "#86BBD8",
           "#86BBD8",
           "#86BBD8",
           "#86BBD8",
           "#86BBD8",
           "#86BBD8",
           "#86BBD8",
           "#86BBD8",
           "#86BBD8",
           "#86BBD8",
           "#86BBD8",
           "#86BBD8",
           "#86BBD8",
           "#86BBD8",
           "#86BBD8",
           "#86BBD8",
           "#86BBD8",
           "#86BBD8",
           "#86BBD8",
           "#86BBD8",
           "#86BBD8",
           "#86BBD8",
           "#86BBD8"
          ],
          "source": [
           0,
           1,
           2,
           3,
           4,
           5,
           7,
           8,
           9,
           10,
           11,
           12,
           17,
           0,
           1,
           2,
           3,
           4,
           5,
           7,
           8,
           9,
           10,
           17,
           0,
           1,
           2,
           3,
           4,
           5,
           7,
           8,
           9,
           10,
           11,
           12,
           17,
           0,
           1,
           2,
           7,
           8,
           9,
           10,
           11,
           12,
           13,
           14,
           15,
           16,
           0,
           1,
           2,
           3,
           4,
           5,
           7,
           8,
           9,
           10,
           11,
           12,
           17,
           0,
           1,
           2,
           3,
           4,
           5,
           7,
           8,
           9,
           10,
           17,
           0,
           1,
           2,
           3,
           4,
           5,
           7,
           8,
           9,
           10,
           11,
           12,
           17,
           0,
           1,
           2,
           7,
           8,
           9,
           10,
           11,
           12,
           13,
           14,
           15,
           16,
           0,
           1,
           2,
           3,
           4,
           5,
           7,
           8,
           9,
           10,
           11,
           12,
           17,
           0,
           1,
           2,
           3,
           4,
           5,
           7,
           8,
           9,
           10,
           17,
           0,
           1,
           2,
           3,
           4,
           5,
           7,
           8,
           9,
           10,
           11,
           12,
           17,
           0,
           1,
           2,
           7,
           8,
           9,
           10,
           11,
           12,
           13,
           14,
           15,
           16
          ],
          "target": [
           14,
           14,
           14,
           14,
           14,
           14,
           14,
           14,
           14,
           14,
           14,
           14,
           14,
           15,
           15,
           15,
           15,
           15,
           15,
           15,
           15,
           15,
           15,
           15,
           16,
           16,
           16,
           16,
           16,
           16,
           16,
           16,
           16,
           16,
           16,
           16,
           16,
           13,
           13,
           13,
           13,
           13,
           13,
           13,
           13,
           13,
           6,
           6,
           6,
           6,
           14,
           14,
           14,
           14,
           14,
           14,
           14,
           14,
           14,
           14,
           14,
           14,
           14,
           15,
           15,
           15,
           15,
           15,
           15,
           15,
           15,
           15,
           15,
           15,
           16,
           16,
           16,
           16,
           16,
           16,
           16,
           16,
           16,
           16,
           16,
           16,
           16,
           13,
           13,
           13,
           13,
           13,
           13,
           13,
           13,
           13,
           6,
           6,
           6,
           6,
           14,
           14,
           14,
           14,
           14,
           14,
           14,
           14,
           14,
           14,
           14,
           14,
           14,
           15,
           15,
           15,
           15,
           15,
           15,
           15,
           15,
           15,
           15,
           15,
           16,
           16,
           16,
           16,
           16,
           16,
           16,
           16,
           16,
           16,
           16,
           16,
           16,
           13,
           13,
           13,
           13,
           13,
           13,
           13,
           13,
           13,
           6,
           6,
           6,
           6
          ],
          "value": [
           0.8717974466820667,
           866.3387570844865,
           1759.8207774701352,
           89.38303271533348,
           86.4959418509472,
           45.4975048453068,
           54.19183025636113,
           30.783519881365255,
           0.8010461896827867,
           245.8319820682293,
           93.82996748294771,
           258.94640361124175,
           80.23427744465467,
           0.8717974466820667,
           1472.1700557449662,
           2990.464677798901,
           151.26359382594896,
           146.98261447398718,
           77.31394180006679,
           54.19183025636113,
           30.783519881365255,
           0.8010461896827867,
           245.8319820682293,
           136.34216376958798,
           0.7909658820566666,
           2121.263801017574,
           2973.2530210564864,
           76.65952481455949,
           256.9022263377504,
           26.2963028469276,
           22.493523277329068,
           22.913530049987855,
           0.7267745603086666,
           134.68289766188963,
           300.6966905392555,
           1603.3751405746384,
           64.20372202571599,
           6.396599999999999,
           8728.335251999999,
           17948.591261999998,
           136.35888,
           140.193018,
           5.877479999999999,
           1183.090608,
           41.972868,
           377.7559065,
           28568.571874499998,
           3613.026838347374,
           5307.017223255779,
           7604.258120644478,
           0.8717974466820667,
           866.3387570844865,
           1759.8207774701352,
           89.38303271533348,
           86.4959418509472,
           45.4975048453068,
           54.19183025636113,
           30.783519881365255,
           0.8010461896827867,
           245.8319820682293,
           93.82996748294771,
           258.94640361124175,
           80.23427744465467,
           0.8717974466820667,
           1472.1700557449662,
           2990.464677798901,
           151.26359382594896,
           146.98261447398718,
           77.31394180006679,
           54.19183025636113,
           30.783519881365255,
           0.8010461896827867,
           245.8319820682293,
           136.34216376958798,
           0.7909658820566666,
           2121.263801017574,
           2973.2530210564864,
           76.65952481455949,
           256.9022263377504,
           26.2963028469276,
           22.493523277329068,
           22.913530049987855,
           0.7267745603086666,
           134.68289766188963,
           300.6966905392555,
           1603.3751405746384,
           64.20372202571599,
           6.396599999999999,
           8728.335251999999,
           17948.591261999998,
           136.35888,
           140.193018,
           5.877479999999999,
           1183.090608,
           41.972868,
           377.7559065,
           28568.571874499998,
           3613.026838347374,
           5307.017223255779,
           7604.258120644478,
           0.8717974466820667,
           866.3387570844865,
           879.9103887350676,
           89.38303271533348,
           86.4959418509472,
           45.4975048453068,
           54.19183025636113,
           30.783519881365255,
           0.8010461896827867,
           245.8319820682293,
           93.82996748294771,
           258.94640361124175,
           80.23427744465467,
           0.8717974466820667,
           1472.1700557449662,
           1495.2323388994505,
           151.26359382594896,
           146.98261447398718,
           77.31394180006679,
           54.19183025636113,
           30.783519881365255,
           0.8010461896827867,
           245.8319820682293,
           136.34216376958798,
           0.7909658820566666,
           2121.263801017574,
           1486.6265105282432,
           76.65952481455949,
           256.9022263377504,
           26.2963028469276,
           22.493523277329068,
           22.913530049987855,
           0.7267745603086666,
           134.68289766188963,
           300.6966905392555,
           1603.3751405746384,
           64.20372202571599,
           6.396599999999999,
           8728.335251999999,
           8974.295630999999,
           136.35888,
           140.193018,
           5.877479999999999,
           1183.090608,
           41.972868,
           377.7559065,
           19594.276243499997,
           2733.1164496123065,
           3811.7848843563283,
           6117.6316101162365
          ]
         },
         "node": {
          "color": "lightgrey",
          "label": [
           "Asses",
           "Cattle, dairy",
           "Cattle, non-dairy",
           "Chickens, broilers",
           "Chickens, layers",
           "Ducks",
           "GE3_partial",
           "Goats",
           "Horses",
           "Mules",
           "Sheep",
           "Swine, breeding",
           "Swine, market",
           "TEE_CO2eq",
           "TMA_CO2eq",
           "TMP_CO2eq",
           "TMT_CO2eq",
           "Turkeys"
          ],
          "line": {
           "color": "black",
           "width": 0.5
          },
          "pad": 15,
          "thickness": 20
         },
         "type": "sankey",
         "valueformat": ".00f",
         "valuesuffix": " Gg(CO2eq)"
        }
       ],
       "layout": {
        "template": {
         "data": {
          "bar": [
           {
            "error_x": {
             "color": "#2a3f5f"
            },
            "error_y": {
             "color": "#2a3f5f"
            },
            "marker": {
             "line": {
              "color": "#E5ECF6",
              "width": 0.5
             }
            },
            "type": "bar"
           }
          ],
          "barpolar": [
           {
            "marker": {
             "line": {
              "color": "#E5ECF6",
              "width": 0.5
             }
            },
            "type": "barpolar"
           }
          ],
          "carpet": [
           {
            "aaxis": {
             "endlinecolor": "#2a3f5f",
             "gridcolor": "white",
             "linecolor": "white",
             "minorgridcolor": "white",
             "startlinecolor": "#2a3f5f"
            },
            "baxis": {
             "endlinecolor": "#2a3f5f",
             "gridcolor": "white",
             "linecolor": "white",
             "minorgridcolor": "white",
             "startlinecolor": "#2a3f5f"
            },
            "type": "carpet"
           }
          ],
          "choropleth": [
           {
            "colorbar": {
             "outlinewidth": 0,
             "ticks": ""
            },
            "type": "choropleth"
           }
          ],
          "contour": [
           {
            "colorbar": {
             "outlinewidth": 0,
             "ticks": ""
            },
            "colorscale": [
             [
              0,
              "#0d0887"
             ],
             [
              0.1111111111111111,
              "#46039f"
             ],
             [
              0.2222222222222222,
              "#7201a8"
             ],
             [
              0.3333333333333333,
              "#9c179e"
             ],
             [
              0.4444444444444444,
              "#bd3786"
             ],
             [
              0.5555555555555556,
              "#d8576b"
             ],
             [
              0.6666666666666666,
              "#ed7953"
             ],
             [
              0.7777777777777778,
              "#fb9f3a"
             ],
             [
              0.8888888888888888,
              "#fdca26"
             ],
             [
              1,
              "#f0f921"
             ]
            ],
            "type": "contour"
           }
          ],
          "contourcarpet": [
           {
            "colorbar": {
             "outlinewidth": 0,
             "ticks": ""
            },
            "type": "contourcarpet"
           }
          ],
          "heatmap": [
           {
            "colorbar": {
             "outlinewidth": 0,
             "ticks": ""
            },
            "colorscale": [
             [
              0,
              "#0d0887"
             ],
             [
              0.1111111111111111,
              "#46039f"
             ],
             [
              0.2222222222222222,
              "#7201a8"
             ],
             [
              0.3333333333333333,
              "#9c179e"
             ],
             [
              0.4444444444444444,
              "#bd3786"
             ],
             [
              0.5555555555555556,
              "#d8576b"
             ],
             [
              0.6666666666666666,
              "#ed7953"
             ],
             [
              0.7777777777777778,
              "#fb9f3a"
             ],
             [
              0.8888888888888888,
              "#fdca26"
             ],
             [
              1,
              "#f0f921"
             ]
            ],
            "type": "heatmap"
           }
          ],
          "heatmapgl": [
           {
            "colorbar": {
             "outlinewidth": 0,
             "ticks": ""
            },
            "colorscale": [
             [
              0,
              "#0d0887"
             ],
             [
              0.1111111111111111,
              "#46039f"
             ],
             [
              0.2222222222222222,
              "#7201a8"
             ],
             [
              0.3333333333333333,
              "#9c179e"
             ],
             [
              0.4444444444444444,
              "#bd3786"
             ],
             [
              0.5555555555555556,
              "#d8576b"
             ],
             [
              0.6666666666666666,
              "#ed7953"
             ],
             [
              0.7777777777777778,
              "#fb9f3a"
             ],
             [
              0.8888888888888888,
              "#fdca26"
             ],
             [
              1,
              "#f0f921"
             ]
            ],
            "type": "heatmapgl"
           }
          ],
          "histogram": [
           {
            "marker": {
             "colorbar": {
              "outlinewidth": 0,
              "ticks": ""
             }
            },
            "type": "histogram"
           }
          ],
          "histogram2d": [
           {
            "colorbar": {
             "outlinewidth": 0,
             "ticks": ""
            },
            "colorscale": [
             [
              0,
              "#0d0887"
             ],
             [
              0.1111111111111111,
              "#46039f"
             ],
             [
              0.2222222222222222,
              "#7201a8"
             ],
             [
              0.3333333333333333,
              "#9c179e"
             ],
             [
              0.4444444444444444,
              "#bd3786"
             ],
             [
              0.5555555555555556,
              "#d8576b"
             ],
             [
              0.6666666666666666,
              "#ed7953"
             ],
             [
              0.7777777777777778,
              "#fb9f3a"
             ],
             [
              0.8888888888888888,
              "#fdca26"
             ],
             [
              1,
              "#f0f921"
             ]
            ],
            "type": "histogram2d"
           }
          ],
          "histogram2dcontour": [
           {
            "colorbar": {
             "outlinewidth": 0,
             "ticks": ""
            },
            "colorscale": [
             [
              0,
              "#0d0887"
             ],
             [
              0.1111111111111111,
              "#46039f"
             ],
             [
              0.2222222222222222,
              "#7201a8"
             ],
             [
              0.3333333333333333,
              "#9c179e"
             ],
             [
              0.4444444444444444,
              "#bd3786"
             ],
             [
              0.5555555555555556,
              "#d8576b"
             ],
             [
              0.6666666666666666,
              "#ed7953"
             ],
             [
              0.7777777777777778,
              "#fb9f3a"
             ],
             [
              0.8888888888888888,
              "#fdca26"
             ],
             [
              1,
              "#f0f921"
             ]
            ],
            "type": "histogram2dcontour"
           }
          ],
          "mesh3d": [
           {
            "colorbar": {
             "outlinewidth": 0,
             "ticks": ""
            },
            "type": "mesh3d"
           }
          ],
          "parcoords": [
           {
            "line": {
             "colorbar": {
              "outlinewidth": 0,
              "ticks": ""
             }
            },
            "type": "parcoords"
           }
          ],
          "pie": [
           {
            "automargin": true,
            "type": "pie"
           }
          ],
          "scatter": [
           {
            "marker": {
             "colorbar": {
              "outlinewidth": 0,
              "ticks": ""
             }
            },
            "type": "scatter"
           }
          ],
          "scatter3d": [
           {
            "line": {
             "colorbar": {
              "outlinewidth": 0,
              "ticks": ""
             }
            },
            "marker": {
             "colorbar": {
              "outlinewidth": 0,
              "ticks": ""
             }
            },
            "type": "scatter3d"
           }
          ],
          "scattercarpet": [
           {
            "marker": {
             "colorbar": {
              "outlinewidth": 0,
              "ticks": ""
             }
            },
            "type": "scattercarpet"
           }
          ],
          "scattergeo": [
           {
            "marker": {
             "colorbar": {
              "outlinewidth": 0,
              "ticks": ""
             }
            },
            "type": "scattergeo"
           }
          ],
          "scattergl": [
           {
            "marker": {
             "colorbar": {
              "outlinewidth": 0,
              "ticks": ""
             }
            },
            "type": "scattergl"
           }
          ],
          "scattermapbox": [
           {
            "marker": {
             "colorbar": {
              "outlinewidth": 0,
              "ticks": ""
             }
            },
            "type": "scattermapbox"
           }
          ],
          "scatterpolar": [
           {
            "marker": {
             "colorbar": {
              "outlinewidth": 0,
              "ticks": ""
             }
            },
            "type": "scatterpolar"
           }
          ],
          "scatterpolargl": [
           {
            "marker": {
             "colorbar": {
              "outlinewidth": 0,
              "ticks": ""
             }
            },
            "type": "scatterpolargl"
           }
          ],
          "scatterternary": [
           {
            "marker": {
             "colorbar": {
              "outlinewidth": 0,
              "ticks": ""
             }
            },
            "type": "scatterternary"
           }
          ],
          "surface": [
           {
            "colorbar": {
             "outlinewidth": 0,
             "ticks": ""
            },
            "colorscale": [
             [
              0,
              "#0d0887"
             ],
             [
              0.1111111111111111,
              "#46039f"
             ],
             [
              0.2222222222222222,
              "#7201a8"
             ],
             [
              0.3333333333333333,
              "#9c179e"
             ],
             [
              0.4444444444444444,
              "#bd3786"
             ],
             [
              0.5555555555555556,
              "#d8576b"
             ],
             [
              0.6666666666666666,
              "#ed7953"
             ],
             [
              0.7777777777777778,
              "#fb9f3a"
             ],
             [
              0.8888888888888888,
              "#fdca26"
             ],
             [
              1,
              "#f0f921"
             ]
            ],
            "type": "surface"
           }
          ],
          "table": [
           {
            "cells": {
             "fill": {
              "color": "#EBF0F8"
             },
             "line": {
              "color": "white"
             }
            },
            "header": {
             "fill": {
              "color": "#C8D4E3"
             },
             "line": {
              "color": "white"
             }
            },
            "type": "table"
           }
          ]
         },
         "layout": {
          "annotationdefaults": {
           "arrowcolor": "#2a3f5f",
           "arrowhead": 0,
           "arrowwidth": 1
          },
          "autotypenumbers": "strict",
          "coloraxis": {
           "colorbar": {
            "outlinewidth": 0,
            "ticks": ""
           }
          },
          "colorscale": {
           "diverging": [
            [
             0,
             "#8e0152"
            ],
            [
             0.1,
             "#c51b7d"
            ],
            [
             0.2,
             "#de77ae"
            ],
            [
             0.3,
             "#f1b6da"
            ],
            [
             0.4,
             "#fde0ef"
            ],
            [
             0.5,
             "#f7f7f7"
            ],
            [
             0.6,
             "#e6f5d0"
            ],
            [
             0.7,
             "#b8e186"
            ],
            [
             0.8,
             "#7fbc41"
            ],
            [
             0.9,
             "#4d9221"
            ],
            [
             1,
             "#276419"
            ]
           ],
           "sequential": [
            [
             0,
             "#0d0887"
            ],
            [
             0.1111111111111111,
             "#46039f"
            ],
            [
             0.2222222222222222,
             "#7201a8"
            ],
            [
             0.3333333333333333,
             "#9c179e"
            ],
            [
             0.4444444444444444,
             "#bd3786"
            ],
            [
             0.5555555555555556,
             "#d8576b"
            ],
            [
             0.6666666666666666,
             "#ed7953"
            ],
            [
             0.7777777777777778,
             "#fb9f3a"
            ],
            [
             0.8888888888888888,
             "#fdca26"
            ],
            [
             1,
             "#f0f921"
            ]
           ],
           "sequentialminus": [
            [
             0,
             "#0d0887"
            ],
            [
             0.1111111111111111,
             "#46039f"
            ],
            [
             0.2222222222222222,
             "#7201a8"
            ],
            [
             0.3333333333333333,
             "#9c179e"
            ],
            [
             0.4444444444444444,
             "#bd3786"
            ],
            [
             0.5555555555555556,
             "#d8576b"
            ],
            [
             0.6666666666666666,
             "#ed7953"
            ],
            [
             0.7777777777777778,
             "#fb9f3a"
            ],
            [
             0.8888888888888888,
             "#fdca26"
            ],
            [
             1,
             "#f0f921"
            ]
           ]
          },
          "colorway": [
           "#636efa",
           "#EF553B",
           "#00cc96",
           "#ab63fa",
           "#FFA15A",
           "#19d3f3",
           "#FF6692",
           "#B6E880",
           "#FF97FF",
           "#FECB52"
          ],
          "font": {
           "color": "#2a3f5f"
          },
          "geo": {
           "bgcolor": "white",
           "lakecolor": "white",
           "landcolor": "#E5ECF6",
           "showlakes": true,
           "showland": true,
           "subunitcolor": "white"
          },
          "hoverlabel": {
           "align": "left"
          },
          "hovermode": "closest",
          "mapbox": {
           "style": "light"
          },
          "paper_bgcolor": "white",
          "plot_bgcolor": "#E5ECF6",
          "polar": {
           "angularaxis": {
            "gridcolor": "white",
            "linecolor": "white",
            "ticks": ""
           },
           "bgcolor": "#E5ECF6",
           "radialaxis": {
            "gridcolor": "white",
            "linecolor": "white",
            "ticks": ""
           }
          },
          "scene": {
           "xaxis": {
            "backgroundcolor": "#E5ECF6",
            "gridcolor": "white",
            "gridwidth": 2,
            "linecolor": "white",
            "showbackground": true,
            "ticks": "",
            "zerolinecolor": "white"
           },
           "yaxis": {
            "backgroundcolor": "#E5ECF6",
            "gridcolor": "white",
            "gridwidth": 2,
            "linecolor": "white",
            "showbackground": true,
            "ticks": "",
            "zerolinecolor": "white"
           },
           "zaxis": {
            "backgroundcolor": "#E5ECF6",
            "gridcolor": "white",
            "gridwidth": 2,
            "linecolor": "white",
            "showbackground": true,
            "ticks": "",
            "zerolinecolor": "white"
           }
          },
          "shapedefaults": {
           "line": {
            "color": "#2a3f5f"
           }
          },
          "ternary": {
           "aaxis": {
            "gridcolor": "white",
            "linecolor": "white",
            "ticks": ""
           },
           "baxis": {
            "gridcolor": "white",
            "linecolor": "white",
            "ticks": ""
           },
           "bgcolor": "#E5ECF6",
           "caxis": {
            "gridcolor": "white",
            "linecolor": "white",
            "ticks": ""
           }
          },
          "title": {
           "x": 0.05
          },
          "xaxis": {
           "automargin": true,
           "gridcolor": "white",
           "linecolor": "white",
           "ticks": "",
           "title": {
            "standoff": 15
           },
           "zerolinecolor": "white",
           "zerolinewidth": 2
          },
          "yaxis": {
           "automargin": true,
           "gridcolor": "white",
           "linecolor": "white",
           "ticks": "",
           "title": {
            "standoff": 15
           },
           "zerolinecolor": "white",
           "zerolinewidth": 2
          }
         }
        }
       }
      },
      "text/html": [
       "<div>                            <div id=\"4a4de563-17b5-407a-8e35-b58ab25ff528\" class=\"plotly-graph-div\" style=\"height:525px; width:100%;\"></div>            <script type=\"text/javascript\">                require([\"plotly\"], function(Plotly) {                    window.PLOTLYENV=window.PLOTLYENV || {};                                    if (document.getElementById(\"4a4de563-17b5-407a-8e35-b58ab25ff528\")) {                    Plotly.newPlot(                        \"4a4de563-17b5-407a-8e35-b58ab25ff528\",                        [{\"link\": {\"color\": [\"grey\", \"grey\", \"grey\", \"grey\", \"grey\", \"grey\", \"grey\", \"grey\", \"grey\", \"grey\", \"grey\", \"grey\", \"grey\", \"grey\", \"grey\", \"grey\", \"grey\", \"grey\", \"grey\", \"grey\", \"grey\", \"grey\", \"grey\", \"grey\", \"grey\", \"grey\", \"grey\", \"grey\", \"grey\", \"grey\", \"grey\", \"grey\", \"grey\", \"grey\", \"grey\", \"grey\", \"grey\", \"grey\", \"grey\", \"grey\", \"grey\", \"grey\", \"grey\", \"grey\", \"grey\", \"grey\", \"grey\", \"grey\", \"grey\", \"grey\", \"#D8A488\", \"#D8A488\", \"#D8A488\", \"#D8A488\", \"#D8A488\", \"#D8A488\", \"#D8A488\", \"#D8A488\", \"#D8A488\", \"#D8A488\", \"#D8A488\", \"#D8A488\", \"#D8A488\", \"#D8A488\", \"#D8A488\", \"#D8A488\", \"#D8A488\", \"#D8A488\", \"#D8A488\", \"#D8A488\", \"#D8A488\", \"#D8A488\", \"#D8A488\", \"#D8A488\", \"#D8A488\", \"#D8A488\", \"#D8A488\", \"#D8A488\", \"#D8A488\", \"#D8A488\", \"#D8A488\", \"#D8A488\", \"#D8A488\", \"#D8A488\", \"#D8A488\", \"#D8A488\", \"#D8A488\", \"#D8A488\", \"#D8A488\", \"#D8A488\", \"#D8A488\", \"#D8A488\", \"#D8A488\", \"#D8A488\", \"#D8A488\", \"#D8A488\", \"#D8A488\", \"#D8A488\", \"#D8A488\", \"#D8A488\", \"#86BBD8\", \"#86BBD8\", \"#86BBD8\", \"#86BBD8\", \"#86BBD8\", \"#86BBD8\", \"#86BBD8\", \"#86BBD8\", \"#86BBD8\", \"#86BBD8\", \"#86BBD8\", \"#86BBD8\", \"#86BBD8\", \"#86BBD8\", \"#86BBD8\", \"#86BBD8\", \"#86BBD8\", \"#86BBD8\", \"#86BBD8\", \"#86BBD8\", \"#86BBD8\", \"#86BBD8\", \"#86BBD8\", \"#86BBD8\", \"#86BBD8\", \"#86BBD8\", \"#86BBD8\", \"#86BBD8\", \"#86BBD8\", \"#86BBD8\", \"#86BBD8\", \"#86BBD8\", \"#86BBD8\", \"#86BBD8\", \"#86BBD8\", \"#86BBD8\", \"#86BBD8\", \"#86BBD8\", \"#86BBD8\", \"#86BBD8\", \"#86BBD8\", \"#86BBD8\", \"#86BBD8\", \"#86BBD8\", \"#86BBD8\", \"#86BBD8\", \"#86BBD8\", \"#86BBD8\", \"#86BBD8\", \"#86BBD8\"], \"source\": [0, 1, 2, 3, 4, 5, 7, 8, 9, 10, 11, 12, 17, 0, 1, 2, 3, 4, 5, 7, 8, 9, 10, 17, 0, 1, 2, 3, 4, 5, 7, 8, 9, 10, 11, 12, 17, 0, 1, 2, 7, 8, 9, 10, 11, 12, 13, 14, 15, 16, 0, 1, 2, 3, 4, 5, 7, 8, 9, 10, 11, 12, 17, 0, 1, 2, 3, 4, 5, 7, 8, 9, 10, 17, 0, 1, 2, 3, 4, 5, 7, 8, 9, 10, 11, 12, 17, 0, 1, 2, 7, 8, 9, 10, 11, 12, 13, 14, 15, 16, 0, 1, 2, 3, 4, 5, 7, 8, 9, 10, 11, 12, 17, 0, 1, 2, 3, 4, 5, 7, 8, 9, 10, 17, 0, 1, 2, 3, 4, 5, 7, 8, 9, 10, 11, 12, 17, 0, 1, 2, 7, 8, 9, 10, 11, 12, 13, 14, 15, 16], \"target\": [14, 14, 14, 14, 14, 14, 14, 14, 14, 14, 14, 14, 14, 15, 15, 15, 15, 15, 15, 15, 15, 15, 15, 15, 16, 16, 16, 16, 16, 16, 16, 16, 16, 16, 16, 16, 16, 13, 13, 13, 13, 13, 13, 13, 13, 13, 6, 6, 6, 6, 14, 14, 14, 14, 14, 14, 14, 14, 14, 14, 14, 14, 14, 15, 15, 15, 15, 15, 15, 15, 15, 15, 15, 15, 16, 16, 16, 16, 16, 16, 16, 16, 16, 16, 16, 16, 16, 13, 13, 13, 13, 13, 13, 13, 13, 13, 6, 6, 6, 6, 14, 14, 14, 14, 14, 14, 14, 14, 14, 14, 14, 14, 14, 15, 15, 15, 15, 15, 15, 15, 15, 15, 15, 15, 16, 16, 16, 16, 16, 16, 16, 16, 16, 16, 16, 16, 16, 13, 13, 13, 13, 13, 13, 13, 13, 13, 6, 6, 6, 6], \"value\": [0.8717974466820667, 866.3387570844865, 1759.8207774701352, 89.38303271533348, 86.4959418509472, 45.4975048453068, 54.19183025636113, 30.783519881365255, 0.8010461896827867, 245.8319820682293, 93.82996748294771, 258.94640361124175, 80.23427744465467, 0.8717974466820667, 1472.1700557449662, 2990.464677798901, 151.26359382594896, 146.98261447398718, 77.31394180006679, 54.19183025636113, 30.783519881365255, 0.8010461896827867, 245.8319820682293, 136.34216376958798, 0.7909658820566666, 2121.263801017574, 2973.2530210564864, 76.65952481455949, 256.9022263377504, 26.2963028469276, 22.493523277329068, 22.913530049987855, 0.7267745603086666, 134.68289766188963, 300.6966905392555, 1603.3751405746384, 64.20372202571599, 6.396599999999999, 8728.335251999999, 17948.591261999998, 136.35888, 140.193018, 5.877479999999999, 1183.090608, 41.972868, 377.7559065, 28568.571874499998, 3613.026838347374, 5307.017223255779, 7604.258120644478, 0.8717974466820667, 866.3387570844865, 1759.8207774701352, 89.38303271533348, 86.4959418509472, 45.4975048453068, 54.19183025636113, 30.783519881365255, 0.8010461896827867, 245.8319820682293, 93.82996748294771, 258.94640361124175, 80.23427744465467, 0.8717974466820667, 1472.1700557449662, 2990.464677798901, 151.26359382594896, 146.98261447398718, 77.31394180006679, 54.19183025636113, 30.783519881365255, 0.8010461896827867, 245.8319820682293, 136.34216376958798, 0.7909658820566666, 2121.263801017574, 2973.2530210564864, 76.65952481455949, 256.9022263377504, 26.2963028469276, 22.493523277329068, 22.913530049987855, 0.7267745603086666, 134.68289766188963, 300.6966905392555, 1603.3751405746384, 64.20372202571599, 6.396599999999999, 8728.335251999999, 17948.591261999998, 136.35888, 140.193018, 5.877479999999999, 1183.090608, 41.972868, 377.7559065, 28568.571874499998, 3613.026838347374, 5307.017223255779, 7604.258120644478, 0.8717974466820667, 866.3387570844865, 879.9103887350676, 89.38303271533348, 86.4959418509472, 45.4975048453068, 54.19183025636113, 30.783519881365255, 0.8010461896827867, 245.8319820682293, 93.82996748294771, 258.94640361124175, 80.23427744465467, 0.8717974466820667, 1472.1700557449662, 1495.2323388994505, 151.26359382594896, 146.98261447398718, 77.31394180006679, 54.19183025636113, 30.783519881365255, 0.8010461896827867, 245.8319820682293, 136.34216376958798, 0.7909658820566666, 2121.263801017574, 1486.6265105282432, 76.65952481455949, 256.9022263377504, 26.2963028469276, 22.493523277329068, 22.913530049987855, 0.7267745603086666, 134.68289766188963, 300.6966905392555, 1603.3751405746384, 64.20372202571599, 6.396599999999999, 8728.335251999999, 8974.295630999999, 136.35888, 140.193018, 5.877479999999999, 1183.090608, 41.972868, 377.7559065, 19594.276243499997, 2733.1164496123065, 3811.7848843563283, 6117.6316101162365]}, \"node\": {\"color\": \"lightgrey\", \"label\": [\"Asses\", \"Cattle, dairy\", \"Cattle, non-dairy\", \"Chickens, broilers\", \"Chickens, layers\", \"Ducks\", \"GE3_partial\", \"Goats\", \"Horses\", \"Mules\", \"Sheep\", \"Swine, breeding\", \"Swine, market\", \"TEE_CO2eq\", \"TMA_CO2eq\", \"TMP_CO2eq\", \"TMT_CO2eq\", \"Turkeys\"], \"line\": {\"color\": \"black\", \"width\": 0.5}, \"pad\": 15, \"thickness\": 20}, \"type\": \"sankey\", \"valueformat\": \".00f\", \"valuesuffix\": \" Gg(CO2eq)\"}],                        {\"template\": {\"data\": {\"bar\": [{\"error_x\": {\"color\": \"#2a3f5f\"}, \"error_y\": {\"color\": \"#2a3f5f\"}, \"marker\": {\"line\": {\"color\": \"#E5ECF6\", \"width\": 0.5}}, \"type\": \"bar\"}], \"barpolar\": [{\"marker\": {\"line\": {\"color\": \"#E5ECF6\", \"width\": 0.5}}, \"type\": \"barpolar\"}], \"carpet\": [{\"aaxis\": {\"endlinecolor\": \"#2a3f5f\", \"gridcolor\": \"white\", \"linecolor\": \"white\", \"minorgridcolor\": \"white\", \"startlinecolor\": \"#2a3f5f\"}, \"baxis\": {\"endlinecolor\": \"#2a3f5f\", \"gridcolor\": \"white\", \"linecolor\": \"white\", \"minorgridcolor\": \"white\", \"startlinecolor\": \"#2a3f5f\"}, \"type\": \"carpet\"}], \"choropleth\": [{\"colorbar\": {\"outlinewidth\": 0, \"ticks\": \"\"}, \"type\": \"choropleth\"}], \"contour\": [{\"colorbar\": {\"outlinewidth\": 0, \"ticks\": \"\"}, \"colorscale\": [[0.0, \"#0d0887\"], [0.1111111111111111, \"#46039f\"], [0.2222222222222222, \"#7201a8\"], [0.3333333333333333, \"#9c179e\"], [0.4444444444444444, \"#bd3786\"], [0.5555555555555556, \"#d8576b\"], [0.6666666666666666, \"#ed7953\"], [0.7777777777777778, \"#fb9f3a\"], [0.8888888888888888, \"#fdca26\"], [1.0, \"#f0f921\"]], \"type\": \"contour\"}], \"contourcarpet\": [{\"colorbar\": {\"outlinewidth\": 0, \"ticks\": \"\"}, \"type\": \"contourcarpet\"}], \"heatmap\": [{\"colorbar\": {\"outlinewidth\": 0, \"ticks\": \"\"}, \"colorscale\": [[0.0, \"#0d0887\"], [0.1111111111111111, \"#46039f\"], [0.2222222222222222, \"#7201a8\"], [0.3333333333333333, \"#9c179e\"], [0.4444444444444444, \"#bd3786\"], [0.5555555555555556, \"#d8576b\"], [0.6666666666666666, \"#ed7953\"], [0.7777777777777778, \"#fb9f3a\"], [0.8888888888888888, \"#fdca26\"], [1.0, \"#f0f921\"]], \"type\": \"heatmap\"}], \"heatmapgl\": [{\"colorbar\": {\"outlinewidth\": 0, \"ticks\": \"\"}, \"colorscale\": [[0.0, \"#0d0887\"], [0.1111111111111111, \"#46039f\"], [0.2222222222222222, \"#7201a8\"], [0.3333333333333333, \"#9c179e\"], [0.4444444444444444, \"#bd3786\"], [0.5555555555555556, \"#d8576b\"], [0.6666666666666666, \"#ed7953\"], [0.7777777777777778, \"#fb9f3a\"], [0.8888888888888888, \"#fdca26\"], [1.0, \"#f0f921\"]], \"type\": \"heatmapgl\"}], \"histogram\": [{\"marker\": {\"colorbar\": {\"outlinewidth\": 0, \"ticks\": \"\"}}, \"type\": \"histogram\"}], \"histogram2d\": [{\"colorbar\": {\"outlinewidth\": 0, \"ticks\": \"\"}, \"colorscale\": [[0.0, \"#0d0887\"], [0.1111111111111111, \"#46039f\"], [0.2222222222222222, \"#7201a8\"], [0.3333333333333333, \"#9c179e\"], [0.4444444444444444, \"#bd3786\"], [0.5555555555555556, \"#d8576b\"], [0.6666666666666666, \"#ed7953\"], [0.7777777777777778, \"#fb9f3a\"], [0.8888888888888888, \"#fdca26\"], [1.0, \"#f0f921\"]], \"type\": \"histogram2d\"}], \"histogram2dcontour\": [{\"colorbar\": {\"outlinewidth\": 0, \"ticks\": \"\"}, \"colorscale\": [[0.0, \"#0d0887\"], [0.1111111111111111, \"#46039f\"], [0.2222222222222222, \"#7201a8\"], [0.3333333333333333, \"#9c179e\"], [0.4444444444444444, \"#bd3786\"], [0.5555555555555556, \"#d8576b\"], [0.6666666666666666, \"#ed7953\"], [0.7777777777777778, \"#fb9f3a\"], [0.8888888888888888, \"#fdca26\"], [1.0, \"#f0f921\"]], \"type\": \"histogram2dcontour\"}], \"mesh3d\": [{\"colorbar\": {\"outlinewidth\": 0, \"ticks\": \"\"}, \"type\": \"mesh3d\"}], \"parcoords\": [{\"line\": {\"colorbar\": {\"outlinewidth\": 0, \"ticks\": \"\"}}, \"type\": \"parcoords\"}], \"pie\": [{\"automargin\": true, \"type\": \"pie\"}], \"scatter\": [{\"marker\": {\"colorbar\": {\"outlinewidth\": 0, \"ticks\": \"\"}}, \"type\": \"scatter\"}], \"scatter3d\": [{\"line\": {\"colorbar\": {\"outlinewidth\": 0, \"ticks\": \"\"}}, \"marker\": {\"colorbar\": {\"outlinewidth\": 0, \"ticks\": \"\"}}, \"type\": \"scatter3d\"}], \"scattercarpet\": [{\"marker\": {\"colorbar\": {\"outlinewidth\": 0, \"ticks\": \"\"}}, \"type\": \"scattercarpet\"}], \"scattergeo\": [{\"marker\": {\"colorbar\": {\"outlinewidth\": 0, \"ticks\": \"\"}}, \"type\": \"scattergeo\"}], \"scattergl\": [{\"marker\": {\"colorbar\": {\"outlinewidth\": 0, \"ticks\": \"\"}}, \"type\": \"scattergl\"}], \"scattermapbox\": [{\"marker\": {\"colorbar\": {\"outlinewidth\": 0, \"ticks\": \"\"}}, \"type\": \"scattermapbox\"}], \"scatterpolar\": [{\"marker\": {\"colorbar\": {\"outlinewidth\": 0, \"ticks\": \"\"}}, \"type\": \"scatterpolar\"}], \"scatterpolargl\": [{\"marker\": {\"colorbar\": {\"outlinewidth\": 0, \"ticks\": \"\"}}, \"type\": \"scatterpolargl\"}], \"scatterternary\": [{\"marker\": {\"colorbar\": {\"outlinewidth\": 0, \"ticks\": \"\"}}, \"type\": \"scatterternary\"}], \"surface\": [{\"colorbar\": {\"outlinewidth\": 0, \"ticks\": \"\"}, \"colorscale\": [[0.0, \"#0d0887\"], [0.1111111111111111, \"#46039f\"], [0.2222222222222222, \"#7201a8\"], [0.3333333333333333, \"#9c179e\"], [0.4444444444444444, \"#bd3786\"], [0.5555555555555556, \"#d8576b\"], [0.6666666666666666, \"#ed7953\"], [0.7777777777777778, \"#fb9f3a\"], [0.8888888888888888, \"#fdca26\"], [1.0, \"#f0f921\"]], \"type\": \"surface\"}], \"table\": [{\"cells\": {\"fill\": {\"color\": \"#EBF0F8\"}, \"line\": {\"color\": \"white\"}}, \"header\": {\"fill\": {\"color\": \"#C8D4E3\"}, \"line\": {\"color\": \"white\"}}, \"type\": \"table\"}]}, \"layout\": {\"annotationdefaults\": {\"arrowcolor\": \"#2a3f5f\", \"arrowhead\": 0, \"arrowwidth\": 1}, \"autotypenumbers\": \"strict\", \"coloraxis\": {\"colorbar\": {\"outlinewidth\": 0, \"ticks\": \"\"}}, \"colorscale\": {\"diverging\": [[0, \"#8e0152\"], [0.1, \"#c51b7d\"], [0.2, \"#de77ae\"], [0.3, \"#f1b6da\"], [0.4, \"#fde0ef\"], [0.5, \"#f7f7f7\"], [0.6, \"#e6f5d0\"], [0.7, \"#b8e186\"], [0.8, \"#7fbc41\"], [0.9, \"#4d9221\"], [1, \"#276419\"]], \"sequential\": [[0.0, \"#0d0887\"], [0.1111111111111111, \"#46039f\"], [0.2222222222222222, \"#7201a8\"], [0.3333333333333333, \"#9c179e\"], [0.4444444444444444, \"#bd3786\"], [0.5555555555555556, \"#d8576b\"], [0.6666666666666666, \"#ed7953\"], [0.7777777777777778, \"#fb9f3a\"], [0.8888888888888888, \"#fdca26\"], [1.0, \"#f0f921\"]], \"sequentialminus\": [[0.0, \"#0d0887\"], [0.1111111111111111, \"#46039f\"], [0.2222222222222222, \"#7201a8\"], [0.3333333333333333, \"#9c179e\"], [0.4444444444444444, \"#bd3786\"], [0.5555555555555556, \"#d8576b\"], [0.6666666666666666, \"#ed7953\"], [0.7777777777777778, \"#fb9f3a\"], [0.8888888888888888, \"#fdca26\"], [1.0, \"#f0f921\"]]}, \"colorway\": [\"#636efa\", \"#EF553B\", \"#00cc96\", \"#ab63fa\", \"#FFA15A\", \"#19d3f3\", \"#FF6692\", \"#B6E880\", \"#FF97FF\", \"#FECB52\"], \"font\": {\"color\": \"#2a3f5f\"}, \"geo\": {\"bgcolor\": \"white\", \"lakecolor\": \"white\", \"landcolor\": \"#E5ECF6\", \"showlakes\": true, \"showland\": true, \"subunitcolor\": \"white\"}, \"hoverlabel\": {\"align\": \"left\"}, \"hovermode\": \"closest\", \"mapbox\": {\"style\": \"light\"}, \"paper_bgcolor\": \"white\", \"plot_bgcolor\": \"#E5ECF6\", \"polar\": {\"angularaxis\": {\"gridcolor\": \"white\", \"linecolor\": \"white\", \"ticks\": \"\"}, \"bgcolor\": \"#E5ECF6\", \"radialaxis\": {\"gridcolor\": \"white\", \"linecolor\": \"white\", \"ticks\": \"\"}}, \"scene\": {\"xaxis\": {\"backgroundcolor\": \"#E5ECF6\", \"gridcolor\": \"white\", \"gridwidth\": 2, \"linecolor\": \"white\", \"showbackground\": true, \"ticks\": \"\", \"zerolinecolor\": \"white\"}, \"yaxis\": {\"backgroundcolor\": \"#E5ECF6\", \"gridcolor\": \"white\", \"gridwidth\": 2, \"linecolor\": \"white\", \"showbackground\": true, \"ticks\": \"\", \"zerolinecolor\": \"white\"}, \"zaxis\": {\"backgroundcolor\": \"#E5ECF6\", \"gridcolor\": \"white\", \"gridwidth\": 2, \"linecolor\": \"white\", \"showbackground\": true, \"ticks\": \"\", \"zerolinecolor\": \"white\"}}, \"shapedefaults\": {\"line\": {\"color\": \"#2a3f5f\"}}, \"ternary\": {\"aaxis\": {\"gridcolor\": \"white\", \"linecolor\": \"white\", \"ticks\": \"\"}, \"baxis\": {\"gridcolor\": \"white\", \"linecolor\": \"white\", \"ticks\": \"\"}, \"bgcolor\": \"#E5ECF6\", \"caxis\": {\"gridcolor\": \"white\", \"linecolor\": \"white\", \"ticks\": \"\"}}, \"title\": {\"x\": 0.05}, \"xaxis\": {\"automargin\": true, \"gridcolor\": \"white\", \"linecolor\": \"white\", \"ticks\": \"\", \"title\": {\"standoff\": 15}, \"zerolinecolor\": \"white\", \"zerolinewidth\": 2}, \"yaxis\": {\"automargin\": true, \"gridcolor\": \"white\", \"linecolor\": \"white\", \"ticks\": \"\", \"title\": {\"standoff\": 15}, \"zerolinecolor\": \"white\", \"zerolinewidth\": 2}}}},                        {\"responsive\": true}                    ).then(function(){\n",
       "                            \n",
       "var gd = document.getElementById('4a4de563-17b5-407a-8e35-b58ab25ff528');\n",
       "var x = new MutationObserver(function (mutations, observer) {{\n",
       "        var display = window.getComputedStyle(gd).display;\n",
       "        if (!display || display === 'none') {{\n",
       "            console.log([gd, 'removed!']);\n",
       "            Plotly.purge(gd);\n",
       "            observer.disconnect();\n",
       "        }}\n",
       "}});\n",
       "\n",
       "// Listen for the removal of the full notebook cells\n",
       "var notebookContainer = gd.closest('#notebook-container');\n",
       "if (notebookContainer) {{\n",
       "    x.observe(notebookContainer, {childList: true});\n",
       "}}\n",
       "\n",
       "// Listen for the clearing of the current output cell\n",
       "var outputEl = gd.closest('.output');\n",
       "if (outputEl) {{\n",
       "    x.observe(outputEl, {childList: true});\n",
       "}}\n",
       "\n",
       "                        })                };                });            </script>        </div>"
      ]
     },
     "metadata": {},
     "output_type": "display_data"
    }
   ],
   "source": [
    "sankeyplot(df, 'Item', 'Variable')"
   ]
  },
  {
   "cell_type": "code",
   "execution_count": null,
   "metadata": {},
   "outputs": [],
   "source": []
  },
  {
   "cell_type": "code",
   "execution_count": null,
   "metadata": {},
   "outputs": [],
   "source": []
  }
 ],
 "metadata": {
  "kernelspec": {
   "display_name": "Python 3",
   "language": "python",
   "name": "python3"
  },
  "language_info": {
   "codemirror_mode": {
    "name": "ipython",
    "version": 3
   },
   "file_extension": ".py",
   "mimetype": "text/x-python",
   "name": "python",
   "nbconvert_exporter": "python",
   "pygments_lexer": "ipython3",
   "version": "3.7.7"
  }
 },
 "nbformat": 4,
 "nbformat_minor": 4
}
