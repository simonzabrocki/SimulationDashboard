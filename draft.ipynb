{
 "cells": [
  {
   "cell_type": "code",
   "execution_count": 1,
   "metadata": {
    "ExecuteTime": {
     "end_time": "2021-03-16T02:44:37.869340Z",
     "start_time": "2021-03-16T02:44:37.847055Z"
    }
   },
   "outputs": [],
   "source": [
    "import pandas as pd\n",
    "import plotly.express as px\n",
    "from pages.country_profile import data\n",
    "import pandas as pd\n",
    "\n"
   ]
  },
  {
   "cell_type": "code",
   "execution_count": 4,
   "metadata": {},
   "outputs": [],
   "source": []
  },
  {
   "cell_type": "code",
   "execution_count": 24,
   "metadata": {},
   "outputs": [],
   "source": [
    "\n",
    "model_properties = {'EW_model': {'model': 'EW_model',\n",
    "                                 'description': 'This model calculates the water use efficiency (EW1) and the water stress (EW2) of a country. Water withdrawals from the agricultural, industrial, and municipal sectors are calculated to determine a country’s total withdrawal. Currently, due to data limitations, agricultural withdrawal is only represented by irrigation water use and industrial water withdrawal is not modelled. Water availability of a country includes natural and non-conventional sources. The inclusion of non-conventional water resources allows the development of scenarios related to human innovation in managing freshwater resources. Water use efficiency is calculated by summating the corresponding gross value added for each sector and dividing by the total water withdrawal.  Water stress is calculated by the total water withdrawal divided by the total renewable freshwater minus the environmental flow requirement. To find the percentage values the water stress output is multiplied by 100.',\n",
    "                                 'display_name': 'TODO',\n",
    "                                 'model_group': 'Water'},\n",
    "                    'IWW_model ': {'model': 'IWW_model ',\n",
    "                                   'description': 'This sub-model calculates the agricultural water use for a country. Currently, due to data limitations, agricultural withdrawal is only represented by irrigation water withdrawal. Potential crop evapotranspiration (ETc) is the evapotranspiration from crops under standard conditions. It is calculated by the summation of crop coefficients, cropping intensity and reference evapotranspiration for each irrigated crop denoted in a country. Cropping intensity is the harvest irrigated area divided by the total actual irrigation area. Subtracting potential crop evapotranspiration from actual evapotranspiration, the irrigation consumptive use is calculated representing the water demand required to fulfill the deficit between crop consumption under ample water versus rainfed conditions. By multiplying irrigation consumptive use with the total actual area irrigated within a country, as well as considering the additional non-consumptive water required for rice paddy irrigation, the irrigation water requirement is computed. Total irrigation water withdrawal is then determined by the irrigation water requirement divided by the water requirement ratio (or irrigation efficiency). Users will be able to set irrigation efficiency values depending on various technologies to understand the impact on irrigation water withdrawal.',\n",
    "                                   'display_name': 'TODO',\n",
    "                                   'model_group': 'Water'},\n",
    "                    'MWU_model ': {'model': 'MWU_model ',\n",
    "                                   'description': 'Municipal water withdrawal is calculated by the municipal water demand (or municipal water withdrawal per capita) multiplied by the total population of a country. Municipal water demand is represented by a logarithmic regression model as a function of GDP per capita (proxy for income) and water tariff price (in m3 per USD). A scenario will be available to users to investigate the impact of changing water tariffs on municipal water withdrawal.',\n",
    "                                   'display_name': 'TODO',\n",
    "                                   'model_group': 'Water'},\n",
    "                    'EW1_partial_model': {'model': 'EW1_partial_model',\n",
    "                                          'description': 'Total water use efficiency is dependent by the total water withdrawal from agriculture, industry and municipal sectors and each sector’s gross value added. A corrective coefficient was applied to the agricultural sector to focus on irrigated production related to gross value added. The summation of sectoral gross value added was then divided by total water withdrawal to calculate EW 1.',\n",
    "                                          'display_name': 'TODO',\n",
    "                                          'model_group': 'Water'},\n",
    "                    'EW2_Partial_model': {'model': 'EW2_Partial_model',\n",
    "                                          'description': 'A country’s total freshwater availability includes natural and non-conventional sources. Total renewable freshwater is determined by the internal renewable water resources plus the external renewable water resources. A scenario to improve natural freshwater availability is to include non-conventional water resources of desalinated water and treated wastewater. EW 2 is the computed by the total water withdrawal divided by the total renewable freshwater minus the environmental flow requirement. To find the percentage values the water stress output is multiplied by 100.',\n",
    "                                          'display_name': 'TODO',\n",
    "                                          'model_group': 'Water'},\n",
    "                    'EW1_partial_model': {'model': 'EW1_partial_model',\n",
    "    'description': \"Total water use efficiency is dependent by the total water withdrawal from agriculture, industry and municipal sectors and each sector’s gross value added. A corrective coefficient was applied to the agricultural sector to focus on irrigated production related to gross value added. The summation of sectoral gross value added was then divided by total water withdrawal to calculate EW1.\",\n",
    "    'display_name': 'TODO',\n",
    "    'model_group': 'Water'\n",
    "},\n",
    "    'GE3_model': {'model': 'GE3_model',\n",
    "                  'description': 'This model calculates the different agricultural non-CO2 emissions using emission factors. To compare the different greenhouse gasses, they are converted to their respective CO2-equivalent using their global-warming potential in relative to CO2. From the total animal populations that are calculated in the food demand (FDTi) model, methane (CH4) emissions from enteric fermentation are computed. The total animal stocks are also used to compute the total manure that is produced per animal. Total manure production is used to compute the CH4 and nitrous oxide (N2O) emissions from manure that is treated, left on the pasture, and applied to the soils. In addition, N2O emissions from fertilizer use and other CH4 and N2O emissions that are not yet included are added. After summing, all the emissions are divided by total population to compute the GE3 indicator:  the ratio of non-CO2 emissions in agriculture to population.',\n",
    "                  'display_name': 'TODO',\n",
    "                  'model_group': 'AFOLU'},\n",
    "    'BE3_model ': {'model': 'BE3_model',\n",
    "                      'description': \"The change in above group biomass is calculated by multiplying the forest biomass increment rate in m3/ha multiplied by a harvest rate set by the user. The total forest biomass increment rates are calculated by taking the natural increment rate and a climate smart forestry policy.\",\n",
    "                      'display_name': 'TODO',\n",
    "                      'model_group': 'AFOLU'},\n",
    "    'SL1_model': {'model': 'SL1_model',\n",
    "                      'description': \"The nutrient balance consist of nutrient in- and outputs. Nutrient inputs consist of 1) biological nitrogen fixation and 2) atmospheric nitrogen deposition, which are kept constant in the model.  3) fertilizer application to cropland and 4) manure application to croplands. \\n The nutrient outputs are based on total crops harvested. The total food demand per food group is divided by the nitrogen concentration of their respective crop to compute the total crop nitrogen during harvest.  \",\n",
    "                      'display_name': 'TODO',\n",
    "                      'model_group': 'AFOLU'},\n",
    "    'BE2_model': {'model': 'BE2_model',\n",
    "                  'description': 'Land use change is a consequence of changes in a country’s food demand. The total food demand for 97 different food groups are calculated based on the total calorie demand, population, food waste reduction policies and other types of food demand.  From the total crop-based food demands, the total cropland demand was computed by dividing it by the total crop yields. However, some minor differences occurred as the food groups calculated did not exactly match the crop types in FAOSTAT. Thus, an additional parameter was used to correct this. With the total cropland demand, the change in land use was calculated by comparing it to the previous year. If the cropland area increased, it was assumed that this caused a decrease in the inactive or fallow land area. When cropland area decreases, the total inactive land or fallow areas will increase. A reforestation scenario set by the user determines the share of inactive lands to be converted to forests. Both the fallow land and forest area were then computed by adding their respective changes to the land use of the previous year.',\n",
    "                  'display_name': 'TODO',\n",
    "                  'model_group': 'AFOLU'\n",
    "                  }}\n",
    "\n",
    "\n",
    "model_properties_df = pd.DataFrame(model_properties).T.reset_index(drop=True)"
   ]
  },
  {
   "cell_type": "code",
   "execution_count": 25,
   "metadata": {},
   "outputs": [
    {
     "output_type": "execute_result",
     "data": {
      "text/plain": [
       "               model                                        description  \\\n",
       "0           EW_model  This model calculates the water use efficiency...   \n",
       "1         IWW_model   This sub-model calculates the agricultural wat...   \n",
       "2         MWU_model   Municipal water withdrawal is calculated by th...   \n",
       "3  EW1_partial_model  Total water use efficiency is dependent by the...   \n",
       "4  EW2_Partial_model  A country’s total freshwater availability incl...   \n",
       "5          GE3_model  This model calculates the different agricultur...   \n",
       "6      BE3_SL1_model  The change in above group biomass is calculate...   \n",
       "7          BE2_model  Land use change is a consequence of changes in...   \n",
       "\n",
       "  display_name model_group  \n",
       "0         TODO       Water  \n",
       "1         TODO       Water  \n",
       "2         TODO       Water  \n",
       "3         TODO       Water  \n",
       "4         TODO       Water  \n",
       "5         TODO       AFOLU  \n",
       "6         TODO       AFOLU  \n",
       "7         TODO       AFOLU  "
      ],
      "text/html": "<div>\n<style scoped>\n    .dataframe tbody tr th:only-of-type {\n        vertical-align: middle;\n    }\n\n    .dataframe tbody tr th {\n        vertical-align: top;\n    }\n\n    .dataframe thead th {\n        text-align: right;\n    }\n</style>\n<table border=\"1\" class=\"dataframe\">\n  <thead>\n    <tr style=\"text-align: right;\">\n      <th></th>\n      <th>model</th>\n      <th>description</th>\n      <th>display_name</th>\n      <th>model_group</th>\n    </tr>\n  </thead>\n  <tbody>\n    <tr>\n      <th>0</th>\n      <td>EW_model</td>\n      <td>This model calculates the water use efficiency...</td>\n      <td>TODO</td>\n      <td>Water</td>\n    </tr>\n    <tr>\n      <th>1</th>\n      <td>IWW_model</td>\n      <td>This sub-model calculates the agricultural wat...</td>\n      <td>TODO</td>\n      <td>Water</td>\n    </tr>\n    <tr>\n      <th>2</th>\n      <td>MWU_model</td>\n      <td>Municipal water withdrawal is calculated by th...</td>\n      <td>TODO</td>\n      <td>Water</td>\n    </tr>\n    <tr>\n      <th>3</th>\n      <td>EW1_partial_model</td>\n      <td>Total water use efficiency is dependent by the...</td>\n      <td>TODO</td>\n      <td>Water</td>\n    </tr>\n    <tr>\n      <th>4</th>\n      <td>EW2_Partial_model</td>\n      <td>A country’s total freshwater availability incl...</td>\n      <td>TODO</td>\n      <td>Water</td>\n    </tr>\n    <tr>\n      <th>5</th>\n      <td>GE3_model</td>\n      <td>This model calculates the different agricultur...</td>\n      <td>TODO</td>\n      <td>AFOLU</td>\n    </tr>\n    <tr>\n      <th>6</th>\n      <td>BE3_SL1_model</td>\n      <td>The change in above group biomass is calculate...</td>\n      <td>TODO</td>\n      <td>AFOLU</td>\n    </tr>\n    <tr>\n      <th>7</th>\n      <td>BE2_model</td>\n      <td>Land use change is a consequence of changes in...</td>\n      <td>TODO</td>\n      <td>AFOLU</td>\n    </tr>\n  </tbody>\n</table>\n</div>"
     },
     "metadata": {},
     "execution_count": 25
    }
   ],
   "source": [
    "model_properties_df"
   ]
  },
  {
   "cell_type": "code",
   "execution_count": 3,
   "metadata": {
    "ExecuteTime": {
     "end_time": "2021-03-16T02:47:23.215975Z",
     "start_time": "2021-03-16T02:47:23.174306Z"
    }
   },
   "outputs": [],
   "source": [
    "df = data[data.Aggregation.isin(['Index', 'Dimension'])].pivot(index=['ISO', 'Year', 'Continent', 'UNregion', 'IncomeLevel'], columns='Variable', values='Value'.dropna()"
   ]
  },
  {
   "cell_type": "code",
   "execution_count": 4,
   "metadata": {
    "ExecuteTime": {
     "end_time": "2021-03-16T02:47:23.536236Z",
     "start_time": "2021-03-16T02:47:23.531921Z"
    }
   },
   "outputs": [],
   "source": [
    "from sklearn.decomposition import PCA"
   ]
  },
  {
   "cell_type": "code",
   "execution_count": 5,
   "metadata": {
    "ExecuteTime": {
     "end_time": "2021-03-16T02:47:23.740744Z",
     "start_time": "2021-03-16T02:47:23.736773Z"
    }
   },
   "outputs": [],
   "source": [
    "pca = PCA(n_components=2)"
   ]
  },
  {
   "cell_type": "code",
   "execution_count": 6,
   "metadata": {
    "ExecuteTime": {
     "end_time": "2021-03-16T02:47:23.934691Z",
     "start_time": "2021-03-16T02:47:23.921113Z"
    }
   },
   "outputs": [
    {
     "output_type": "execute_result",
     "data": {
      "text/plain": [
       "PCA(n_components=2)"
      ]
     },
     "metadata": {},
     "execution_count": 6
    }
   ],
   "source": [
    "pca.fit(df.drop(columns=['Index']).values)"
   ]
  },
  {
   "cell_type": "code",
   "execution_count": 7,
   "metadata": {
    "ExecuteTime": {
     "end_time": "2021-03-16T02:47:24.113019Z",
     "start_time": "2021-03-16T02:47:24.093911Z"
    }
   },
   "outputs": [],
   "source": [
    "res= pd.DataFrame(pca.transform(df.drop(columns=['Index']).values), columns=['dim_1', 'dim_2'])\n",
    "res[['ISO', 'Year', 'Continent', 'UNregion', 'IncomeLevel', 'Index']] = df.reset_index()[['ISO', 'Year', 'Continent', 'UNregion', 'IncomeLevel', 'Index']]"
   ]
  },
  {
   "cell_type": "code",
   "execution_count": 8,
   "metadata": {
    "ExecuteTime": {
     "end_time": "2021-03-16T02:50:58.214105Z",
     "start_time": "2021-03-16T02:50:57.936592Z"
    }
   },
   "outputs": [
    {
     "output_type": "display_data",
     "data": {
      "text/plain": "<Figure size 720x720 with 1 Axes>",
      "image/svg+xml": "<?xml version=\"1.0\" encoding=\"utf-8\" standalone=\"no\"?>\n<!DOCTYPE svg PUBLIC \"-//W3C//DTD SVG 1.1//EN\"\n  \"http://www.w3.org/Graphics/SVG/1.1/DTD/svg11.dtd\">\n<!-- Created with matplotlib (https://matplotlib.org/) -->\n<svg height=\"590.625625pt\" version=\"1.1\" viewBox=\"0 0 616.452188 590.625625\" width=\"616.452188pt\" xmlns=\"http://www.w3.org/2000/svg\" xmlns:xlink=\"http://www.w3.org/1999/xlink\">\n <metadata>\n  <rdf:RDF xmlns:cc=\"http://creativecommons.org/ns#\" xmlns:dc=\"http://purl.org/dc/elements/1.1/\" xmlns:rdf=\"http://www.w3.org/1999/02/22-rdf-syntax-ns#\">\n   <cc:Work>\n    <dc:type rdf:resource=\"http://purl.org/dc/dcmitype/StillImage\"/>\n    <dc:date>2021-03-17T13:16:06.894106</dc:date>\n    <dc:format>image/svg+xml</dc:format>\n    <dc:creator>\n     <cc:Agent>\n      <dc:title>Matplotlib v3.3.1, https://matplotlib.org/</dc:title>\n     </cc:Agent>\n    </dc:creator>\n   </cc:Work>\n  </rdf:RDF>\n </metadata>\n <defs>\n  <style type=\"text/css\">*{stroke-linecap:butt;stroke-linejoin:round;}</style>\n </defs>\n <g id=\"figure_1\">\n  <g id=\"patch_1\">\n   <path d=\"M 0 590.625625 \nL 616.452188 590.625625 \nL 616.452188 0 \nL 0 0 \nz\n\" style=\"fill:#ffffff;\"/>\n  </g>\n  <g id=\"axes_1\">\n   <g id=\"patch_2\">\n    <path d=\"M 51.252187 550.8 \nL 609.252187 550.8 \nL 609.252187 7.2 \nL 51.252187 7.2 \nz\n\" style=\"fill:#e5e5e5;\"/>\n   </g>\n   <g id=\"matplotlib.axis_1\">\n    <g id=\"xtick_1\">\n     <g id=\"line2d_1\">\n      <path clip-path=\"url(#p8127912d54)\" d=\"M 129.220241 550.8 \nL 129.220241 7.2 \n\" style=\"fill:none;stroke:#ffffff;stroke-linecap:square;stroke-width:0.8;\"/>\n     </g>\n     <g id=\"line2d_2\">\n      <defs>\n       <path d=\"M 0 0 \nL 0 3.5 \n\" id=\"m26b05ac536\" style=\"stroke:#555555;stroke-width:0.8;\"/>\n      </defs>\n      <g>\n       <use style=\"fill:#555555;stroke:#555555;stroke-width:0.8;\" x=\"129.220241\" xlink:href=\"#m26b05ac536\" y=\"550.8\"/>\n      </g>\n     </g>\n     <g id=\"text_1\">\n      <!-- −40 -->\n      <g style=\"fill:#555555;\" transform=\"translate(118.667897 565.398438)scale(0.1 -0.1)\">\n       <defs>\n        <path d=\"M 10.59375 35.5 \nL 73.1875 35.5 \nL 73.1875 27.203125 \nL 10.59375 27.203125 \nz\n\" id=\"DejaVuSans-8722\"/>\n        <path d=\"M 37.796875 64.3125 \nL 12.890625 25.390625 \nL 37.796875 25.390625 \nz\nM 35.203125 72.90625 \nL 47.609375 72.90625 \nL 47.609375 25.390625 \nL 58.015625 25.390625 \nL 58.015625 17.1875 \nL 47.609375 17.1875 \nL 47.609375 0 \nL 37.796875 0 \nL 37.796875 17.1875 \nL 4.890625 17.1875 \nL 4.890625 26.703125 \nz\n\" id=\"DejaVuSans-52\"/>\n        <path d=\"M 31.78125 66.40625 \nQ 24.171875 66.40625 20.328125 58.90625 \nQ 16.5 51.421875 16.5 36.375 \nQ 16.5 21.390625 20.328125 13.890625 \nQ 24.171875 6.390625 31.78125 6.390625 \nQ 39.453125 6.390625 43.28125 13.890625 \nQ 47.125 21.390625 47.125 36.375 \nQ 47.125 51.421875 43.28125 58.90625 \nQ 39.453125 66.40625 31.78125 66.40625 \nz\nM 31.78125 74.21875 \nQ 44.046875 74.21875 50.515625 64.515625 \nQ 56.984375 54.828125 56.984375 36.375 \nQ 56.984375 17.96875 50.515625 8.265625 \nQ 44.046875 -1.421875 31.78125 -1.421875 \nQ 19.53125 -1.421875 13.0625 8.265625 \nQ 6.59375 17.96875 6.59375 36.375 \nQ 6.59375 54.828125 13.0625 64.515625 \nQ 19.53125 74.21875 31.78125 74.21875 \nz\n\" id=\"DejaVuSans-48\"/>\n       </defs>\n       <use xlink:href=\"#DejaVuSans-8722\"/>\n       <use x=\"83.789062\" xlink:href=\"#DejaVuSans-52\"/>\n       <use x=\"147.412109\" xlink:href=\"#DejaVuSans-48\"/>\n      </g>\n     </g>\n    </g>\n    <g id=\"xtick_2\">\n     <g id=\"line2d_3\">\n      <path clip-path=\"url(#p8127912d54)\" d=\"M 231.760551 550.8 \nL 231.760551 7.2 \n\" style=\"fill:none;stroke:#ffffff;stroke-linecap:square;stroke-width:0.8;\"/>\n     </g>\n     <g id=\"line2d_4\">\n      <g>\n       <use style=\"fill:#555555;stroke:#555555;stroke-width:0.8;\" x=\"231.760551\" xlink:href=\"#m26b05ac536\" y=\"550.8\"/>\n      </g>\n     </g>\n     <g id=\"text_2\">\n      <!-- −20 -->\n      <g style=\"fill:#555555;\" transform=\"translate(221.208207 565.398438)scale(0.1 -0.1)\">\n       <defs>\n        <path d=\"M 19.1875 8.296875 \nL 53.609375 8.296875 \nL 53.609375 0 \nL 7.328125 0 \nL 7.328125 8.296875 \nQ 12.9375 14.109375 22.625 23.890625 \nQ 32.328125 33.6875 34.8125 36.53125 \nQ 39.546875 41.84375 41.421875 45.53125 \nQ 43.3125 49.21875 43.3125 52.78125 \nQ 43.3125 58.59375 39.234375 62.25 \nQ 35.15625 65.921875 28.609375 65.921875 \nQ 23.96875 65.921875 18.8125 64.3125 \nQ 13.671875 62.703125 7.8125 59.421875 \nL 7.8125 69.390625 \nQ 13.765625 71.78125 18.9375 73 \nQ 24.125 74.21875 28.421875 74.21875 \nQ 39.75 74.21875 46.484375 68.546875 \nQ 53.21875 62.890625 53.21875 53.421875 \nQ 53.21875 48.921875 51.53125 44.890625 \nQ 49.859375 40.875 45.40625 35.40625 \nQ 44.1875 33.984375 37.640625 27.21875 \nQ 31.109375 20.453125 19.1875 8.296875 \nz\n\" id=\"DejaVuSans-50\"/>\n       </defs>\n       <use xlink:href=\"#DejaVuSans-8722\"/>\n       <use x=\"83.789062\" xlink:href=\"#DejaVuSans-50\"/>\n       <use x=\"147.412109\" xlink:href=\"#DejaVuSans-48\"/>\n      </g>\n     </g>\n    </g>\n    <g id=\"xtick_3\">\n     <g id=\"line2d_5\">\n      <path clip-path=\"url(#p8127912d54)\" d=\"M 334.300861 550.8 \nL 334.300861 7.2 \n\" style=\"fill:none;stroke:#ffffff;stroke-linecap:square;stroke-width:0.8;\"/>\n     </g>\n     <g id=\"line2d_6\">\n      <g>\n       <use style=\"fill:#555555;stroke:#555555;stroke-width:0.8;\" x=\"334.300861\" xlink:href=\"#m26b05ac536\" y=\"550.8\"/>\n      </g>\n     </g>\n     <g id=\"text_3\">\n      <!-- 0 -->\n      <g style=\"fill:#555555;\" transform=\"translate(331.119611 565.398438)scale(0.1 -0.1)\">\n       <use xlink:href=\"#DejaVuSans-48\"/>\n      </g>\n     </g>\n    </g>\n    <g id=\"xtick_4\">\n     <g id=\"line2d_7\">\n      <path clip-path=\"url(#p8127912d54)\" d=\"M 436.841171 550.8 \nL 436.841171 7.2 \n\" style=\"fill:none;stroke:#ffffff;stroke-linecap:square;stroke-width:0.8;\"/>\n     </g>\n     <g id=\"line2d_8\">\n      <g>\n       <use style=\"fill:#555555;stroke:#555555;stroke-width:0.8;\" x=\"436.841171\" xlink:href=\"#m26b05ac536\" y=\"550.8\"/>\n      </g>\n     </g>\n     <g id=\"text_4\">\n      <!-- 20 -->\n      <g style=\"fill:#555555;\" transform=\"translate(430.478671 565.398438)scale(0.1 -0.1)\">\n       <use xlink:href=\"#DejaVuSans-50\"/>\n       <use x=\"63.623047\" xlink:href=\"#DejaVuSans-48\"/>\n      </g>\n     </g>\n    </g>\n    <g id=\"xtick_5\">\n     <g id=\"line2d_9\">\n      <path clip-path=\"url(#p8127912d54)\" d=\"M 539.381481 550.8 \nL 539.381481 7.2 \n\" style=\"fill:none;stroke:#ffffff;stroke-linecap:square;stroke-width:0.8;\"/>\n     </g>\n     <g id=\"line2d_10\">\n      <g>\n       <use style=\"fill:#555555;stroke:#555555;stroke-width:0.8;\" x=\"539.381481\" xlink:href=\"#m26b05ac536\" y=\"550.8\"/>\n      </g>\n     </g>\n     <g id=\"text_5\">\n      <!-- 40 -->\n      <g style=\"fill:#555555;\" transform=\"translate(533.018981 565.398438)scale(0.1 -0.1)\">\n       <use xlink:href=\"#DejaVuSans-52\"/>\n       <use x=\"63.623047\" xlink:href=\"#DejaVuSans-48\"/>\n      </g>\n     </g>\n    </g>\n    <g id=\"text_6\">\n     <!-- dim_1 -->\n     <g style=\"fill:#555555;\" transform=\"translate(312.114375 580.59625)scale(0.12 -0.12)\">\n      <defs>\n       <path d=\"M 45.40625 46.390625 \nL 45.40625 75.984375 \nL 54.390625 75.984375 \nL 54.390625 0 \nL 45.40625 0 \nL 45.40625 8.203125 \nQ 42.578125 3.328125 38.25 0.953125 \nQ 33.9375 -1.421875 27.875 -1.421875 \nQ 17.96875 -1.421875 11.734375 6.484375 \nQ 5.515625 14.40625 5.515625 27.296875 \nQ 5.515625 40.1875 11.734375 48.09375 \nQ 17.96875 56 27.875 56 \nQ 33.9375 56 38.25 53.625 \nQ 42.578125 51.265625 45.40625 46.390625 \nz\nM 14.796875 27.296875 \nQ 14.796875 17.390625 18.875 11.75 \nQ 22.953125 6.109375 30.078125 6.109375 \nQ 37.203125 6.109375 41.296875 11.75 \nQ 45.40625 17.390625 45.40625 27.296875 \nQ 45.40625 37.203125 41.296875 42.84375 \nQ 37.203125 48.484375 30.078125 48.484375 \nQ 22.953125 48.484375 18.875 42.84375 \nQ 14.796875 37.203125 14.796875 27.296875 \nz\n\" id=\"DejaVuSans-100\"/>\n       <path d=\"M 9.421875 54.6875 \nL 18.40625 54.6875 \nL 18.40625 0 \nL 9.421875 0 \nz\nM 9.421875 75.984375 \nL 18.40625 75.984375 \nL 18.40625 64.59375 \nL 9.421875 64.59375 \nz\n\" id=\"DejaVuSans-105\"/>\n       <path d=\"M 52 44.1875 \nQ 55.375 50.25 60.0625 53.125 \nQ 64.75 56 71.09375 56 \nQ 79.640625 56 84.28125 50.015625 \nQ 88.921875 44.046875 88.921875 33.015625 \nL 88.921875 0 \nL 79.890625 0 \nL 79.890625 32.71875 \nQ 79.890625 40.578125 77.09375 44.375 \nQ 74.3125 48.1875 68.609375 48.1875 \nQ 61.625 48.1875 57.5625 43.546875 \nQ 53.515625 38.921875 53.515625 30.90625 \nL 53.515625 0 \nL 44.484375 0 \nL 44.484375 32.71875 \nQ 44.484375 40.625 41.703125 44.40625 \nQ 38.921875 48.1875 33.109375 48.1875 \nQ 26.21875 48.1875 22.15625 43.53125 \nQ 18.109375 38.875 18.109375 30.90625 \nL 18.109375 0 \nL 9.078125 0 \nL 9.078125 54.6875 \nL 18.109375 54.6875 \nL 18.109375 46.1875 \nQ 21.1875 51.21875 25.484375 53.609375 \nQ 29.78125 56 35.6875 56 \nQ 41.65625 56 45.828125 52.96875 \nQ 50 49.953125 52 44.1875 \nz\n\" id=\"DejaVuSans-109\"/>\n       <path d=\"M 50.984375 -16.609375 \nL 50.984375 -23.578125 \nL -0.984375 -23.578125 \nL -0.984375 -16.609375 \nz\n\" id=\"DejaVuSans-95\"/>\n       <path d=\"M 12.40625 8.296875 \nL 28.515625 8.296875 \nL 28.515625 63.921875 \nL 10.984375 60.40625 \nL 10.984375 69.390625 \nL 28.421875 72.90625 \nL 38.28125 72.90625 \nL 38.28125 8.296875 \nL 54.390625 8.296875 \nL 54.390625 0 \nL 12.40625 0 \nz\n\" id=\"DejaVuSans-49\"/>\n      </defs>\n      <use xlink:href=\"#DejaVuSans-100\"/>\n      <use x=\"63.476562\" xlink:href=\"#DejaVuSans-105\"/>\n      <use x=\"91.259766\" xlink:href=\"#DejaVuSans-109\"/>\n      <use x=\"188.671875\" xlink:href=\"#DejaVuSans-95\"/>\n      <use x=\"238.671875\" xlink:href=\"#DejaVuSans-49\"/>\n     </g>\n    </g>\n   </g>\n   <g id=\"matplotlib.axis_2\">\n    <g id=\"ytick_1\">\n     <g id=\"line2d_11\">\n      <path clip-path=\"url(#p8127912d54)\" d=\"M 51.252187 500.591944 \nL 609.252187 500.591944 \n\" style=\"fill:none;stroke:#ffffff;stroke-linecap:square;stroke-width:0.8;\"/>\n     </g>\n     <g id=\"line2d_12\">\n      <defs>\n       <path d=\"M 0 0 \nL -3.5 0 \n\" id=\"m3c27168368\" style=\"stroke:#555555;stroke-width:0.8;\"/>\n      </defs>\n      <g>\n       <use style=\"fill:#555555;stroke:#555555;stroke-width:0.8;\" x=\"51.252187\" xlink:href=\"#m3c27168368\" y=\"500.591944\"/>\n      </g>\n     </g>\n     <g id=\"text_7\">\n      <!-- −20 -->\n      <g style=\"fill:#555555;\" transform=\"translate(23.1475 504.391163)scale(0.1 -0.1)\">\n       <use xlink:href=\"#DejaVuSans-8722\"/>\n       <use x=\"83.789062\" xlink:href=\"#DejaVuSans-50\"/>\n       <use x=\"147.412109\" xlink:href=\"#DejaVuSans-48\"/>\n      </g>\n     </g>\n    </g>\n    <g id=\"ytick_2\">\n     <g id=\"line2d_13\">\n      <path clip-path=\"url(#p8127912d54)\" d=\"M 51.252187 424.437321 \nL 609.252187 424.437321 \n\" style=\"fill:none;stroke:#ffffff;stroke-linecap:square;stroke-width:0.8;\"/>\n     </g>\n     <g id=\"line2d_14\">\n      <g>\n       <use style=\"fill:#555555;stroke:#555555;stroke-width:0.8;\" x=\"51.252187\" xlink:href=\"#m3c27168368\" y=\"424.437321\"/>\n      </g>\n     </g>\n     <g id=\"text_8\">\n      <!-- −10 -->\n      <g style=\"fill:#555555;\" transform=\"translate(23.1475 428.23654)scale(0.1 -0.1)\">\n       <use xlink:href=\"#DejaVuSans-8722\"/>\n       <use x=\"83.789062\" xlink:href=\"#DejaVuSans-49\"/>\n       <use x=\"147.412109\" xlink:href=\"#DejaVuSans-48\"/>\n      </g>\n     </g>\n    </g>\n    <g id=\"ytick_3\">\n     <g id=\"line2d_15\">\n      <path clip-path=\"url(#p8127912d54)\" d=\"M 51.252187 348.282698 \nL 609.252187 348.282698 \n\" style=\"fill:none;stroke:#ffffff;stroke-linecap:square;stroke-width:0.8;\"/>\n     </g>\n     <g id=\"line2d_16\">\n      <g>\n       <use style=\"fill:#555555;stroke:#555555;stroke-width:0.8;\" x=\"51.252187\" xlink:href=\"#m3c27168368\" y=\"348.282698\"/>\n      </g>\n     </g>\n     <g id=\"text_9\">\n      <!-- 0 -->\n      <g style=\"fill:#555555;\" transform=\"translate(37.889687 352.081917)scale(0.1 -0.1)\">\n       <use xlink:href=\"#DejaVuSans-48\"/>\n      </g>\n     </g>\n    </g>\n    <g id=\"ytick_4\">\n     <g id=\"line2d_17\">\n      <path clip-path=\"url(#p8127912d54)\" d=\"M 51.252187 272.128076 \nL 609.252187 272.128076 \n\" style=\"fill:none;stroke:#ffffff;stroke-linecap:square;stroke-width:0.8;\"/>\n     </g>\n     <g id=\"line2d_18\">\n      <g>\n       <use style=\"fill:#555555;stroke:#555555;stroke-width:0.8;\" x=\"51.252187\" xlink:href=\"#m3c27168368\" y=\"272.128076\"/>\n      </g>\n     </g>\n     <g id=\"text_10\">\n      <!-- 10 -->\n      <g style=\"fill:#555555;\" transform=\"translate(31.527187 275.927294)scale(0.1 -0.1)\">\n       <use xlink:href=\"#DejaVuSans-49\"/>\n       <use x=\"63.623047\" xlink:href=\"#DejaVuSans-48\"/>\n      </g>\n     </g>\n    </g>\n    <g id=\"ytick_5\">\n     <g id=\"line2d_19\">\n      <path clip-path=\"url(#p8127912d54)\" d=\"M 51.252187 195.973453 \nL 609.252187 195.973453 \n\" style=\"fill:none;stroke:#ffffff;stroke-linecap:square;stroke-width:0.8;\"/>\n     </g>\n     <g id=\"line2d_20\">\n      <g>\n       <use style=\"fill:#555555;stroke:#555555;stroke-width:0.8;\" x=\"51.252187\" xlink:href=\"#m3c27168368\" y=\"195.973453\"/>\n      </g>\n     </g>\n     <g id=\"text_11\">\n      <!-- 20 -->\n      <g style=\"fill:#555555;\" transform=\"translate(31.527187 199.772671)scale(0.1 -0.1)\">\n       <use xlink:href=\"#DejaVuSans-50\"/>\n       <use x=\"63.623047\" xlink:href=\"#DejaVuSans-48\"/>\n      </g>\n     </g>\n    </g>\n    <g id=\"ytick_6\">\n     <g id=\"line2d_21\">\n      <path clip-path=\"url(#p8127912d54)\" d=\"M 51.252187 119.81883 \nL 609.252187 119.81883 \n\" style=\"fill:none;stroke:#ffffff;stroke-linecap:square;stroke-width:0.8;\"/>\n     </g>\n     <g id=\"line2d_22\">\n      <g>\n       <use style=\"fill:#555555;stroke:#555555;stroke-width:0.8;\" x=\"51.252187\" xlink:href=\"#m3c27168368\" y=\"119.81883\"/>\n      </g>\n     </g>\n     <g id=\"text_12\">\n      <!-- 30 -->\n      <g style=\"fill:#555555;\" transform=\"translate(31.527187 123.618049)scale(0.1 -0.1)\">\n       <defs>\n        <path d=\"M 40.578125 39.3125 \nQ 47.65625 37.796875 51.625 33 \nQ 55.609375 28.21875 55.609375 21.1875 \nQ 55.609375 10.40625 48.1875 4.484375 \nQ 40.765625 -1.421875 27.09375 -1.421875 \nQ 22.515625 -1.421875 17.65625 -0.515625 \nQ 12.796875 0.390625 7.625 2.203125 \nL 7.625 11.71875 \nQ 11.71875 9.328125 16.59375 8.109375 \nQ 21.484375 6.890625 26.8125 6.890625 \nQ 36.078125 6.890625 40.9375 10.546875 \nQ 45.796875 14.203125 45.796875 21.1875 \nQ 45.796875 27.640625 41.28125 31.265625 \nQ 36.765625 34.90625 28.71875 34.90625 \nL 20.21875 34.90625 \nL 20.21875 43.015625 \nL 29.109375 43.015625 \nQ 36.375 43.015625 40.234375 45.921875 \nQ 44.09375 48.828125 44.09375 54.296875 \nQ 44.09375 59.90625 40.109375 62.90625 \nQ 36.140625 65.921875 28.71875 65.921875 \nQ 24.65625 65.921875 20.015625 65.03125 \nQ 15.375 64.15625 9.8125 62.3125 \nL 9.8125 71.09375 \nQ 15.4375 72.65625 20.34375 73.4375 \nQ 25.25 74.21875 29.59375 74.21875 \nQ 40.828125 74.21875 47.359375 69.109375 \nQ 53.90625 64.015625 53.90625 55.328125 \nQ 53.90625 49.265625 50.4375 45.09375 \nQ 46.96875 40.921875 40.578125 39.3125 \nz\n\" id=\"DejaVuSans-51\"/>\n       </defs>\n       <use xlink:href=\"#DejaVuSans-51\"/>\n       <use x=\"63.623047\" xlink:href=\"#DejaVuSans-48\"/>\n      </g>\n     </g>\n    </g>\n    <g id=\"ytick_7\">\n     <g id=\"line2d_23\">\n      <path clip-path=\"url(#p8127912d54)\" d=\"M 51.252187 43.664207 \nL 609.252187 43.664207 \n\" style=\"fill:none;stroke:#ffffff;stroke-linecap:square;stroke-width:0.8;\"/>\n     </g>\n     <g id=\"line2d_24\">\n      <g>\n       <use style=\"fill:#555555;stroke:#555555;stroke-width:0.8;\" x=\"51.252187\" xlink:href=\"#m3c27168368\" y=\"43.664207\"/>\n      </g>\n     </g>\n     <g id=\"text_13\">\n      <!-- 40 -->\n      <g style=\"fill:#555555;\" transform=\"translate(31.527187 47.463426)scale(0.1 -0.1)\">\n       <use xlink:href=\"#DejaVuSans-52\"/>\n       <use x=\"63.623047\" xlink:href=\"#DejaVuSans-48\"/>\n      </g>\n     </g>\n    </g>\n    <g id=\"text_14\">\n     <!-- dim_2 -->\n     <g style=\"fill:#555555;\" transform=\"translate(16.318125 297.137812)rotate(-90)scale(0.12 -0.12)\">\n      <use xlink:href=\"#DejaVuSans-100\"/>\n      <use x=\"63.476562\" xlink:href=\"#DejaVuSans-105\"/>\n      <use x=\"91.259766\" xlink:href=\"#DejaVuSans-109\"/>\n      <use x=\"188.671875\" xlink:href=\"#DejaVuSans-95\"/>\n      <use x=\"238.671875\" xlink:href=\"#DejaVuSans-50\"/>\n     </g>\n    </g>\n   </g>\n   <g id=\"PathCollection_1\">\n    <defs>\n     <path d=\"M 0 3 \nC 0.795609 3 1.55874 2.683901 2.12132 2.12132 \nC 2.683901 1.55874 3 0.795609 3 -0 \nC 3 -0.795609 2.683901 -1.55874 2.12132 -2.12132 \nC 1.55874 -2.683901 0.795609 -3 0 -3 \nC -0.795609 -3 -1.55874 -2.683901 -2.12132 -2.12132 \nC -2.683901 -1.55874 -3 -0.795609 -3 0 \nC -3 0.795609 -2.683901 1.55874 -2.12132 2.12132 \nC -1.55874 2.683901 -0.795609 3 0 3 \nz\n\" id=\"C0_0_2e47e63994\"/>\n    </defs>\n    <g clip-path=\"url(#p8127912d54)\">\n     <use style=\"fill:#e24a33;stroke:#ffffff;stroke-width:0.48;\" x=\"464.137223\" xlink:href=\"#C0_0_2e47e63994\" y=\"489.685426\"/>\n    </g>\n    <g clip-path=\"url(#p8127912d54)\">\n     <use style=\"fill:#348abd;stroke:#ffffff;stroke-width:0.48;\" x=\"327.634257\" xlink:href=\"#C0_0_2e47e63994\" y=\"460.349542\"/>\n    </g>\n    <g clip-path=\"url(#p8127912d54)\">\n     <use style=\"fill:#988ed5;stroke:#ffffff;stroke-width:0.48;\" x=\"308.511095\" xlink:href=\"#C0_0_2e47e63994\" y=\"313.676278\"/>\n    </g>\n    <g clip-path=\"url(#p8127912d54)\">\n     <use style=\"fill:#777777;stroke:#ffffff;stroke-width:0.48;\" x=\"380.450591\" xlink:href=\"#C0_0_2e47e63994\" y=\"265.82458\"/>\n    </g>\n    <g clip-path=\"url(#p8127912d54)\">\n     <use style=\"fill:#fbc15e;stroke:#ffffff;stroke-width:0.48;\" x=\"272.702913\" xlink:href=\"#C0_0_2e47e63994\" y=\"275.661075\"/>\n    </g>\n    <g clip-path=\"url(#p8127912d54)\">\n     <use style=\"fill:#348abd;stroke:#ffffff;stroke-width:0.48;\" x=\"98.454123\" xlink:href=\"#C0_0_2e47e63994\" y=\"452.174666\"/>\n    </g>\n    <g clip-path=\"url(#p8127912d54)\">\n     <use style=\"fill:#e24a33;stroke:#ffffff;stroke-width:0.48;\" x=\"459.680417\" xlink:href=\"#C0_0_2e47e63994\" y=\"418.776282\"/>\n    </g>\n    <g clip-path=\"url(#p8127912d54)\">\n     <use style=\"fill:#988ed5;stroke:#ffffff;stroke-width:0.48;\" x=\"340.973071\" xlink:href=\"#C0_0_2e47e63994\" y=\"360.176329\"/>\n    </g>\n    <g clip-path=\"url(#p8127912d54)\">\n     <use style=\"fill:#777777;stroke:#ffffff;stroke-width:0.48;\" x=\"392.037458\" xlink:href=\"#C0_0_2e47e63994\" y=\"260.314003\"/>\n    </g>\n    <g clip-path=\"url(#p8127912d54)\">\n     <use style=\"fill:#348abd;stroke:#ffffff;stroke-width:0.48;\" x=\"203.006782\" xlink:href=\"#C0_0_2e47e63994\" y=\"373.309596\"/>\n    </g>\n    <g clip-path=\"url(#p8127912d54)\">\n     <use style=\"fill:#fbc15e;stroke:#ffffff;stroke-width:0.48;\" x=\"401.03087\" xlink:href=\"#C0_0_2e47e63994\" y=\"473.042459\"/>\n    </g>\n    <g clip-path=\"url(#p8127912d54)\">\n     <use style=\"fill:#777777;stroke:#ffffff;stroke-width:0.48;\" x=\"349.999131\" xlink:href=\"#C0_0_2e47e63994\" y=\"283.020152\"/>\n    </g>\n    <g clip-path=\"url(#p8127912d54)\">\n     <use style=\"fill:#e24a33;stroke:#ffffff;stroke-width:0.48;\" x=\"522.210915\" xlink:href=\"#C0_0_2e47e63994\" y=\"479.044043\"/>\n    </g>\n    <g clip-path=\"url(#p8127912d54)\">\n     <use style=\"fill:#348abd;stroke:#ffffff;stroke-width:0.48;\" x=\"224.759893\" xlink:href=\"#C0_0_2e47e63994\" y=\"279.776745\"/>\n    </g>\n    <g clip-path=\"url(#p8127912d54)\">\n     <use style=\"fill:#777777;stroke:#ffffff;stroke-width:0.48;\" x=\"448.762101\" xlink:href=\"#C0_0_2e47e63994\" y=\"411.324075\"/>\n    </g>\n    <g clip-path=\"url(#p8127912d54)\">\n     <use style=\"fill:#348abd;stroke:#ffffff;stroke-width:0.48;\" x=\"221.920335\" xlink:href=\"#C0_0_2e47e63994\" y=\"317.493675\"/>\n    </g>\n    <g clip-path=\"url(#p8127912d54)\">\n     <use style=\"fill:#988ed5;stroke:#ffffff;stroke-width:0.48;\" x=\"379.968059\" xlink:href=\"#C0_0_2e47e63994\" y=\"365.012398\"/>\n    </g>\n    <g clip-path=\"url(#p8127912d54)\">\n     <use style=\"fill:#348abd;stroke:#ffffff;stroke-width:0.48;\" x=\"397.329026\" xlink:href=\"#C0_0_2e47e63994\" y=\"358.462515\"/>\n    </g>\n    <g clip-path=\"url(#p8127912d54)\">\n     <use style=\"fill:#348abd;stroke:#ffffff;stroke-width:0.48;\" x=\"307.146583\" xlink:href=\"#C0_0_2e47e63994\" y=\"336.636013\"/>\n    </g>\n    <g clip-path=\"url(#p8127912d54)\">\n     <use style=\"fill:#988ed5;stroke:#ffffff;stroke-width:0.48;\" x=\"355.896817\" xlink:href=\"#C0_0_2e47e63994\" y=\"376.948818\"/>\n    </g>\n    <g clip-path=\"url(#p8127912d54)\">\n     <use style=\"fill:#988ed5;stroke:#ffffff;stroke-width:0.48;\" x=\"284.795233\" xlink:href=\"#C0_0_2e47e63994\" y=\"415.393305\"/>\n    </g>\n    <g clip-path=\"url(#p8127912d54)\">\n     <use style=\"fill:#e24a33;stroke:#ffffff;stroke-width:0.48;\" x=\"389.825726\" xlink:href=\"#C0_0_2e47e63994\" y=\"440.796036\"/>\n    </g>\n    <g clip-path=\"url(#p8127912d54)\">\n     <use style=\"fill:#988ed5;stroke:#ffffff;stroke-width:0.48;\" x=\"222.041066\" xlink:href=\"#C0_0_2e47e63994\" y=\"260.812734\"/>\n    </g>\n    <g clip-path=\"url(#p8127912d54)\">\n     <use style=\"fill:#348abd;stroke:#ffffff;stroke-width:0.48;\" x=\"112.319593\" xlink:href=\"#C0_0_2e47e63994\" y=\"461.930333\"/>\n    </g>\n    <g clip-path=\"url(#p8127912d54)\">\n     <use style=\"fill:#988ed5;stroke:#ffffff;stroke-width:0.48;\" x=\"325.530327\" xlink:href=\"#C0_0_2e47e63994\" y=\"382.496824\"/>\n    </g>\n    <g clip-path=\"url(#p8127912d54)\">\n     <use style=\"fill:#777777;stroke:#ffffff;stroke-width:0.48;\" x=\"272.125842\" xlink:href=\"#C0_0_2e47e63994\" y=\"252.664278\"/>\n    </g>\n    <g clip-path=\"url(#p8127912d54)\">\n     <use style=\"fill:#e24a33;stroke:#ffffff;stroke-width:0.48;\" x=\"458.283898\" xlink:href=\"#C0_0_2e47e63994\" y=\"465.656258\"/>\n    </g>\n    <g clip-path=\"url(#p8127912d54)\">\n     <use style=\"fill:#988ed5;stroke:#ffffff;stroke-width:0.48;\" x=\"339.830484\" xlink:href=\"#C0_0_2e47e63994\" y=\"421.111796\"/>\n    </g>\n    <g clip-path=\"url(#p8127912d54)\">\n     <use style=\"fill:#e24a33;stroke:#ffffff;stroke-width:0.48;\" x=\"320.32842\" xlink:href=\"#C0_0_2e47e63994\" y=\"428.301151\"/>\n    </g>\n    <g clip-path=\"url(#p8127912d54)\">\n     <use style=\"fill:#988ed5;stroke:#ffffff;stroke-width:0.48;\" x=\"283.13682\" xlink:href=\"#C0_0_2e47e63994\" y=\"399.681255\"/>\n    </g>\n    <g clip-path=\"url(#p8127912d54)\">\n     <use style=\"fill:#777777;stroke:#ffffff;stroke-width:0.48;\" x=\"254.705137\" xlink:href=\"#C0_0_2e47e63994\" y=\"346.735886\"/>\n    </g>\n    <g clip-path=\"url(#p8127912d54)\">\n     <use style=\"fill:#348abd;stroke:#ffffff;stroke-width:0.48;\" x=\"103.756555\" xlink:href=\"#C0_0_2e47e63994\" y=\"408.87135\"/>\n    </g>\n    <g clip-path=\"url(#p8127912d54)\">\n     <use style=\"fill:#348abd;stroke:#ffffff;stroke-width:0.48;\" x=\"97.700175\" xlink:href=\"#C0_0_2e47e63994\" y=\"387.459363\"/>\n    </g>\n    <g clip-path=\"url(#p8127912d54)\">\n     <use style=\"fill:#348abd;stroke:#ffffff;stroke-width:0.48;\" x=\"76.615824\" xlink:href=\"#C0_0_2e47e63994\" y=\"437.738977\"/>\n    </g>\n    <g clip-path=\"url(#p8127912d54)\">\n     <use style=\"fill:#988ed5;stroke:#ffffff;stroke-width:0.48;\" x=\"353.206031\" xlink:href=\"#C0_0_2e47e63994\" y=\"417.461454\"/>\n    </g>\n    <g clip-path=\"url(#p8127912d54)\">\n     <use style=\"fill:#e24a33;stroke:#ffffff;stroke-width:0.48;\" x=\"456.393277\" xlink:href=\"#C0_0_2e47e63994\" y=\"134.207126\"/>\n    </g>\n    <g clip-path=\"url(#p8127912d54)\">\n     <use style=\"fill:#988ed5;stroke:#ffffff;stroke-width:0.48;\" x=\"306.357077\" xlink:href=\"#C0_0_2e47e63994\" y=\"365.117773\"/>\n    </g>\n    <g clip-path=\"url(#p8127912d54)\">\n     <use style=\"fill:#e24a33;stroke:#ffffff;stroke-width:0.48;\" x=\"379.519091\" xlink:href=\"#C0_0_2e47e63994\" y=\"121.098769\"/>\n    </g>\n    <g clip-path=\"url(#p8127912d54)\">\n     <use style=\"fill:#348abd;stroke:#ffffff;stroke-width:0.48;\" x=\"178.847452\" xlink:href=\"#C0_0_2e47e63994\" y=\"325.941076\"/>\n    </g>\n    <g clip-path=\"url(#p8127912d54)\">\n     <use style=\"fill:#348abd;stroke:#ffffff;stroke-width:0.48;\" x=\"170.399247\" xlink:href=\"#C0_0_2e47e63994\" y=\"387.85627\"/>\n    </g>\n    <g clip-path=\"url(#p8127912d54)\">\n     <use style=\"fill:#e24a33;stroke:#ffffff;stroke-width:0.48;\" x=\"482.888313\" xlink:href=\"#C0_0_2e47e63994\" y=\"452.539701\"/>\n    </g>\n    <g clip-path=\"url(#p8127912d54)\">\n     <use style=\"fill:#348abd;stroke:#ffffff;stroke-width:0.48;\" x=\"108.802035\" xlink:href=\"#C0_0_2e47e63994\" y=\"386.372859\"/>\n    </g>\n    <g clip-path=\"url(#p8127912d54)\">\n     <use style=\"fill:#348abd;stroke:#ffffff;stroke-width:0.48;\" x=\"155.791924\" xlink:href=\"#C0_0_2e47e63994\" y=\"381.478738\"/>\n    </g>\n    <g clip-path=\"url(#p8127912d54)\">\n     <use style=\"fill:#348abd;stroke:#ffffff;stroke-width:0.48;\" x=\"183.04826\" xlink:href=\"#C0_0_2e47e63994\" y=\"400.548409\"/>\n    </g>\n    <g clip-path=\"url(#p8127912d54)\">\n     <use style=\"fill:#777777;stroke:#ffffff;stroke-width:0.48;\" x=\"346.704782\" xlink:href=\"#C0_0_2e47e63994\" y=\"417.467577\"/>\n    </g>\n    <g clip-path=\"url(#p8127912d54)\">\n     <use style=\"fill:#e24a33;stroke:#ffffff;stroke-width:0.48;\" x=\"406.016356\" xlink:href=\"#C0_0_2e47e63994\" y=\"470.927496\"/>\n    </g>\n    <g clip-path=\"url(#p8127912d54)\">\n     <use style=\"fill:#e24a33;stroke:#ffffff;stroke-width:0.48;\" x=\"473.372573\" xlink:href=\"#C0_0_2e47e63994\" y=\"485.773419\"/>\n    </g>\n    <g clip-path=\"url(#p8127912d54)\">\n     <use style=\"fill:#348abd;stroke:#ffffff;stroke-width:0.48;\" x=\"221.654163\" xlink:href=\"#C0_0_2e47e63994\" y=\"374.733783\"/>\n    </g>\n    <g clip-path=\"url(#p8127912d54)\">\n     <use style=\"fill:#988ed5;stroke:#ffffff;stroke-width:0.48;\" x=\"405.569635\" xlink:href=\"#C0_0_2e47e63994\" y=\"469.332004\"/>\n    </g>\n    <g clip-path=\"url(#p8127912d54)\">\n     <use style=\"fill:#988ed5;stroke:#ffffff;stroke-width:0.48;\" x=\"397.220719\" xlink:href=\"#C0_0_2e47e63994\" y=\"473.497101\"/>\n    </g>\n    <g clip-path=\"url(#p8127912d54)\">\n     <use style=\"fill:#348abd;stroke:#ffffff;stroke-width:0.48;\" x=\"205.497492\" xlink:href=\"#C0_0_2e47e63994\" y=\"426.11089\"/>\n    </g>\n    <g clip-path=\"url(#p8127912d54)\">\n     <use style=\"fill:#348abd;stroke:#ffffff;stroke-width:0.48;\" x=\"150.073459\" xlink:href=\"#C0_0_2e47e63994\" y=\"390.641251\"/>\n    </g>\n    <g clip-path=\"url(#p8127912d54)\">\n     <use style=\"fill:#777777;stroke:#ffffff;stroke-width:0.48;\" x=\"383.688677\" xlink:href=\"#C0_0_2e47e63994\" y=\"396.149355\"/>\n    </g>\n    <g clip-path=\"url(#p8127912d54)\">\n     <use style=\"fill:#777777;stroke:#ffffff;stroke-width:0.48;\" x=\"422.90962\" xlink:href=\"#C0_0_2e47e63994\" y=\"246.377361\"/>\n    </g>\n    <g clip-path=\"url(#p8127912d54)\">\n     <use style=\"fill:#348abd;stroke:#ffffff;stroke-width:0.48;\" x=\"255.833742\" xlink:href=\"#C0_0_2e47e63994\" y=\"340.090773\"/>\n    </g>\n    <g clip-path=\"url(#p8127912d54)\">\n     <use style=\"fill:#777777;stroke:#ffffff;stroke-width:0.48;\" x=\"385.874608\" xlink:href=\"#C0_0_2e47e63994\" y=\"110.998392\"/>\n    </g>\n    <g clip-path=\"url(#p8127912d54)\">\n     <use style=\"fill:#348abd;stroke:#ffffff;stroke-width:0.48;\" x=\"333.142038\" xlink:href=\"#C0_0_2e47e63994\" y=\"240.181633\"/>\n    </g>\n    <g clip-path=\"url(#p8127912d54)\">\n     <use style=\"fill:#777777;stroke:#ffffff;stroke-width:0.48;\" x=\"320.340339\" xlink:href=\"#C0_0_2e47e63994\" y=\"198.393128\"/>\n    </g>\n    <g clip-path=\"url(#p8127912d54)\">\n     <use style=\"fill:#348abd;stroke:#ffffff;stroke-width:0.48;\" x=\"204.6115\" xlink:href=\"#C0_0_2e47e63994\" y=\"415.788439\"/>\n    </g>\n    <g clip-path=\"url(#p8127912d54)\">\n     <use style=\"fill:#777777;stroke:#ffffff;stroke-width:0.48;\" x=\"380.290353\" xlink:href=\"#C0_0_2e47e63994\" y=\"145.07532\"/>\n    </g>\n    <g clip-path=\"url(#p8127912d54)\">\n     <use style=\"fill:#777777;stroke:#ffffff;stroke-width:0.48;\" x=\"219.583627\" xlink:href=\"#C0_0_2e47e63994\" y=\"277.970574\"/>\n    </g>\n    <g clip-path=\"url(#p8127912d54)\">\n     <use style=\"fill:#777777;stroke:#ffffff;stroke-width:0.48;\" x=\"383.547902\" xlink:href=\"#C0_0_2e47e63994\" y=\"184.741923\"/>\n    </g>\n    <g clip-path=\"url(#p8127912d54)\">\n     <use style=\"fill:#e24a33;stroke:#ffffff;stroke-width:0.48;\" x=\"462.733683\" xlink:href=\"#C0_0_2e47e63994\" y=\"447.337504\"/>\n    </g>\n    <g clip-path=\"url(#p8127912d54)\">\n     <use style=\"fill:#777777;stroke:#ffffff;stroke-width:0.48;\" x=\"371.838216\" xlink:href=\"#C0_0_2e47e63994\" y=\"230.232084\"/>\n    </g>\n    <g clip-path=\"url(#p8127912d54)\">\n     <use style=\"fill:#777777;stroke:#ffffff;stroke-width:0.48;\" x=\"442.341869\" xlink:href=\"#C0_0_2e47e63994\" y=\"494.579329\"/>\n    </g>\n    <g clip-path=\"url(#p8127912d54)\">\n     <use style=\"fill:#777777;stroke:#ffffff;stroke-width:0.48;\" x=\"250.314666\" xlink:href=\"#C0_0_2e47e63994\" y=\"118.546903\"/>\n    </g>\n    <g clip-path=\"url(#p8127912d54)\">\n     <use style=\"fill:#777777;stroke:#ffffff;stroke-width:0.48;\" x=\"427.103817\" xlink:href=\"#C0_0_2e47e63994\" y=\"446.481896\"/>\n    </g>\n    <g clip-path=\"url(#p8127912d54)\">\n     <use style=\"fill:#777777;stroke:#ffffff;stroke-width:0.48;\" x=\"408.671634\" xlink:href=\"#C0_0_2e47e63994\" y=\"305.586884\"/>\n    </g>\n    <g clip-path=\"url(#p8127912d54)\">\n     <use style=\"fill:#777777;stroke:#ffffff;stroke-width:0.48;\" x=\"450.553224\" xlink:href=\"#C0_0_2e47e63994\" y=\"211.50261\"/>\n    </g>\n    <g clip-path=\"url(#p8127912d54)\">\n     <use style=\"fill:#e24a33;stroke:#ffffff;stroke-width:0.48;\" x=\"492.688236\" xlink:href=\"#C0_0_2e47e63994\" y=\"328.114766\"/>\n    </g>\n    <g clip-path=\"url(#p8127912d54)\">\n     <use style=\"fill:#348abd;stroke:#ffffff;stroke-width:0.48;\" x=\"157.690733\" xlink:href=\"#C0_0_2e47e63994\" y=\"380.574631\"/>\n    </g>\n    <g clip-path=\"url(#p8127912d54)\">\n     <use style=\"fill:#348abd;stroke:#ffffff;stroke-width:0.48;\" x=\"186.888028\" xlink:href=\"#C0_0_2e47e63994\" y=\"335.783141\"/>\n    </g>\n    <g clip-path=\"url(#p8127912d54)\">\n     <use style=\"fill:#348abd;stroke:#ffffff;stroke-width:0.48;\" x=\"182.571158\" xlink:href=\"#C0_0_2e47e63994\" y=\"488.848956\"/>\n    </g>\n    <g clip-path=\"url(#p8127912d54)\">\n     <use style=\"fill:#e24a33;stroke:#ffffff;stroke-width:0.48;\" x=\"336.038522\" xlink:href=\"#C0_0_2e47e63994\" y=\"332.843334\"/>\n    </g>\n    <g clip-path=\"url(#p8127912d54)\">\n     <use style=\"fill:#348abd;stroke:#ffffff;stroke-width:0.48;\" x=\"291.085867\" xlink:href=\"#C0_0_2e47e63994\" y=\"327.932973\"/>\n    </g>\n    <g clip-path=\"url(#p8127912d54)\">\n     <use style=\"fill:#e24a33;stroke:#ffffff;stroke-width:0.48;\" x=\"504.388861\" xlink:href=\"#C0_0_2e47e63994\" y=\"447.892151\"/>\n    </g>\n    <g clip-path=\"url(#p8127912d54)\">\n     <use style=\"fill:#988ed5;stroke:#ffffff;stroke-width:0.48;\" x=\"255.174002\" xlink:href=\"#C0_0_2e47e63994\" y=\"342.781421\"/>\n    </g>\n    <g clip-path=\"url(#p8127912d54)\">\n     <use style=\"fill:#348abd;stroke:#ffffff;stroke-width:0.48;\" x=\"349.598892\" xlink:href=\"#C0_0_2e47e63994\" y=\"283.405613\"/>\n    </g>\n    <g clip-path=\"url(#p8127912d54)\">\n     <use style=\"fill:#777777;stroke:#ffffff;stroke-width:0.48;\" x=\"457.750094\" xlink:href=\"#C0_0_2e47e63994\" y=\"468.253864\"/>\n    </g>\n    <g clip-path=\"url(#p8127912d54)\">\n     <use style=\"fill:#348abd;stroke:#ffffff;stroke-width:0.48;\" x=\"377.157693\" xlink:href=\"#C0_0_2e47e63994\" y=\"412.148321\"/>\n    </g>\n    <g clip-path=\"url(#p8127912d54)\">\n     <use style=\"fill:#777777;stroke:#ffffff;stroke-width:0.48;\" x=\"447.779463\" xlink:href=\"#C0_0_2e47e63994\" y=\"289.628916\"/>\n    </g>\n    <g clip-path=\"url(#p8127912d54)\">\n     <use style=\"fill:#e24a33;stroke:#ffffff;stroke-width:0.48;\" x=\"338.092161\" xlink:href=\"#C0_0_2e47e63994\" y=\"291.894835\"/>\n    </g>\n    <g clip-path=\"url(#p8127912d54)\">\n     <use style=\"fill:#e24a33;stroke:#ffffff;stroke-width:0.48;\" x=\"506.585592\" xlink:href=\"#C0_0_2e47e63994\" y=\"526.090909\"/>\n    </g>\n    <g clip-path=\"url(#p8127912d54)\">\n     <use style=\"fill:#777777;stroke:#ffffff;stroke-width:0.48;\" x=\"285.570418\" xlink:href=\"#C0_0_2e47e63994\" y=\"344.782186\"/>\n    </g>\n    <g clip-path=\"url(#p8127912d54)\">\n     <use style=\"fill:#e24a33;stroke:#ffffff;stroke-width:0.48;\" x=\"583.888551\" xlink:href=\"#C0_0_2e47e63994\" y=\"410.894891\"/>\n    </g>\n    <g clip-path=\"url(#p8127912d54)\">\n     <use style=\"fill:#e24a33;stroke:#ffffff;stroke-width:0.48;\" x=\"506.654319\" xlink:href=\"#C0_0_2e47e63994\" y=\"473.600291\"/>\n    </g>\n    <g clip-path=\"url(#p8127912d54)\">\n     <use style=\"fill:#988ed5;stroke:#ffffff;stroke-width:0.48;\" x=\"346.998254\" xlink:href=\"#C0_0_2e47e63994\" y=\"453.674983\"/>\n    </g>\n    <g clip-path=\"url(#p8127912d54)\">\n     <use style=\"fill:#348abd;stroke:#ffffff;stroke-width:0.48;\" x=\"142.395095\" xlink:href=\"#C0_0_2e47e63994\" y=\"312.231457\"/>\n    </g>\n    <g clip-path=\"url(#p8127912d54)\">\n     <use style=\"fill:#348abd;stroke:#ffffff;stroke-width:0.48;\" x=\"146.86687\" xlink:href=\"#C0_0_2e47e63994\" y=\"415.430249\"/>\n    </g>\n    <g clip-path=\"url(#p8127912d54)\">\n     <use style=\"fill:#777777;stroke:#ffffff;stroke-width:0.48;\" x=\"369.92474\" xlink:href=\"#C0_0_2e47e63994\" y=\"409.886466\"/>\n    </g>\n    <g clip-path=\"url(#p8127912d54)\">\n     <use style=\"fill:#fbc15e;stroke:#ffffff;stroke-width:0.48;\" x=\"237.706942\" xlink:href=\"#C0_0_2e47e63994\" y=\"340.383881\"/>\n    </g>\n    <g clip-path=\"url(#p8127912d54)\">\n     <use style=\"fill:#777777;stroke:#ffffff;stroke-width:0.48;\" x=\"464.622846\" xlink:href=\"#C0_0_2e47e63994\" y=\"151.441059\"/>\n    </g>\n    <g clip-path=\"url(#p8127912d54)\">\n     <use style=\"fill:#777777;stroke:#ffffff;stroke-width:0.48;\" x=\"522.078804\" xlink:href=\"#C0_0_2e47e63994\" y=\"178.138422\"/>\n    </g>\n    <g clip-path=\"url(#p8127912d54)\">\n     <use style=\"fill:#988ed5;stroke:#ffffff;stroke-width:0.48;\" x=\"312.615725\" xlink:href=\"#C0_0_2e47e63994\" y=\"403.375125\"/>\n    </g>\n    <g clip-path=\"url(#p8127912d54)\">\n     <use style=\"fill:#988ed5;stroke:#ffffff;stroke-width:0.48;\" x=\"335.312462\" xlink:href=\"#C0_0_2e47e63994\" y=\"418.249944\"/>\n    </g>\n    <g clip-path=\"url(#p8127912d54)\">\n     <use style=\"fill:#777777;stroke:#ffffff;stroke-width:0.48;\" x=\"307.003798\" xlink:href=\"#C0_0_2e47e63994\" y=\"441.693994\"/>\n    </g>\n    <g clip-path=\"url(#p8127912d54)\">\n     <use style=\"fill:#348abd;stroke:#ffffff;stroke-width:0.48;\" x=\"162.909614\" xlink:href=\"#C0_0_2e47e63994\" y=\"325.456631\"/>\n    </g>\n    <g clip-path=\"url(#p8127912d54)\">\n     <use style=\"fill:#348abd;stroke:#ffffff;stroke-width:0.48;\" x=\"172.856935\" xlink:href=\"#C0_0_2e47e63994\" y=\"392.024366\"/>\n    </g>\n    <g clip-path=\"url(#p8127912d54)\">\n     <use style=\"fill:#988ed5;stroke:#ffffff;stroke-width:0.48;\" x=\"359.581752\" xlink:href=\"#C0_0_2e47e63994\" y=\"366.014774\"/>\n    </g>\n    <g clip-path=\"url(#p8127912d54)\">\n     <use style=\"fill:#777777;stroke:#ffffff;stroke-width:0.48;\" x=\"449.827436\" xlink:href=\"#C0_0_2e47e63994\" y=\"210.379207\"/>\n    </g>\n    <g clip-path=\"url(#p8127912d54)\">\n     <use style=\"fill:#348abd;stroke:#ffffff;stroke-width:0.48;\" x=\"188.758597\" xlink:href=\"#C0_0_2e47e63994\" y=\"390.204933\"/>\n    </g>\n    <g clip-path=\"url(#p8127912d54)\">\n     <use style=\"fill:#348abd;stroke:#ffffff;stroke-width:0.48;\" x=\"286.813217\" xlink:href=\"#C0_0_2e47e63994\" y=\"257.889191\"/>\n    </g>\n    <g clip-path=\"url(#p8127912d54)\">\n     <use style=\"fill:#777777;stroke:#ffffff;stroke-width:0.48;\" x=\"408.575284\" xlink:href=\"#C0_0_2e47e63994\" y=\"99.210392\"/>\n    </g>\n    <g clip-path=\"url(#p8127912d54)\">\n     <use style=\"fill:#e24a33;stroke:#ffffff;stroke-width:0.48;\" x=\"425.765345\" xlink:href=\"#C0_0_2e47e63994\" y=\"476.867553\"/>\n    </g>\n    <g clip-path=\"url(#p8127912d54)\">\n     <use style=\"fill:#988ed5;stroke:#ffffff;stroke-width:0.48;\" x=\"365.828555\" xlink:href=\"#C0_0_2e47e63994\" y=\"381.074472\"/>\n    </g>\n    <g clip-path=\"url(#p8127912d54)\">\n     <use style=\"fill:#348abd;stroke:#ffffff;stroke-width:0.48;\" x=\"269.821116\" xlink:href=\"#C0_0_2e47e63994\" y=\"342.187956\"/>\n    </g>\n    <g clip-path=\"url(#p8127912d54)\">\n     <use style=\"fill:#348abd;stroke:#ffffff;stroke-width:0.48;\" x=\"141.777554\" xlink:href=\"#C0_0_2e47e63994\" y=\"422.035524\"/>\n    </g>\n    <g clip-path=\"url(#p8127912d54)\">\n     <use style=\"fill:#348abd;stroke:#ffffff;stroke-width:0.48;\" x=\"130.107282\" xlink:href=\"#C0_0_2e47e63994\" y=\"387.68493\"/>\n    </g>\n    <g clip-path=\"url(#p8127912d54)\">\n     <use style=\"fill:#348abd;stroke:#ffffff;stroke-width:0.48;\" x=\"98.902085\" xlink:href=\"#C0_0_2e47e63994\" y=\"471.649868\"/>\n    </g>\n    <g clip-path=\"url(#p8127912d54)\">\n     <use style=\"fill:#e24a33;stroke:#ffffff;stroke-width:0.48;\" x=\"471.012814\" xlink:href=\"#C0_0_2e47e63994\" y=\"153.203393\"/>\n    </g>\n    <g clip-path=\"url(#p8127912d54)\">\n     <use style=\"fill:#777777;stroke:#ffffff;stroke-width:0.48;\" x=\"316.528078\" xlink:href=\"#C0_0_2e47e63994\" y=\"377.425948\"/>\n    </g>\n    <g clip-path=\"url(#p8127912d54)\">\n     <use style=\"fill:#777777;stroke:#ffffff;stroke-width:0.48;\" x=\"440.325264\" xlink:href=\"#C0_0_2e47e63994\" y=\"225.114664\"/>\n    </g>\n    <g clip-path=\"url(#p8127912d54)\">\n     <use style=\"fill:#988ed5;stroke:#ffffff;stroke-width:0.48;\" x=\"412.921416\" xlink:href=\"#C0_0_2e47e63994\" y=\"75.422144\"/>\n    </g>\n    <g clip-path=\"url(#p8127912d54)\">\n     <use style=\"fill:#e24a33;stroke:#ffffff;stroke-width:0.48;\" x=\"313.03259\" xlink:href=\"#C0_0_2e47e63994\" y=\"149.350021\"/>\n    </g>\n    <g clip-path=\"url(#p8127912d54)\">\n     <use style=\"fill:#777777;stroke:#ffffff;stroke-width:0.48;\" x=\"300.503308\" xlink:href=\"#C0_0_2e47e63994\" y=\"289.862895\"/>\n    </g>\n    <g clip-path=\"url(#p8127912d54)\">\n     <use style=\"fill:#e24a33;stroke:#ffffff;stroke-width:0.48;\" x=\"414.960712\" xlink:href=\"#C0_0_2e47e63994\" y=\"480.775857\"/>\n    </g>\n    <g clip-path=\"url(#p8127912d54)\">\n     <use style=\"fill:#e24a33;stroke:#ffffff;stroke-width:0.48;\" x=\"428.574779\" xlink:href=\"#C0_0_2e47e63994\" y=\"509.280246\"/>\n    </g>\n    <g clip-path=\"url(#p8127912d54)\">\n     <use style=\"fill:#348abd;stroke:#ffffff;stroke-width:0.48;\" x=\"276.177011\" xlink:href=\"#C0_0_2e47e63994\" y=\"224.932791\"/>\n    </g>\n    <g clip-path=\"url(#p8127912d54)\">\n     <use style=\"fill:#988ed5;stroke:#ffffff;stroke-width:0.48;\" x=\"331.410375\" xlink:href=\"#C0_0_2e47e63994\" y=\"361.68764\"/>\n    </g>\n    <g clip-path=\"url(#p8127912d54)\">\n     <use style=\"fill:#988ed5;stroke:#ffffff;stroke-width:0.48;\" x=\"217.69089\" xlink:href=\"#C0_0_2e47e63994\" y=\"286.090954\"/>\n    </g>\n    <g clip-path=\"url(#p8127912d54)\">\n     <use style=\"fill:#777777;stroke:#ffffff;stroke-width:0.48;\" x=\"442.061554\" xlink:href=\"#C0_0_2e47e63994\" y=\"31.909091\"/>\n    </g>\n    <g clip-path=\"url(#p8127912d54)\">\n     <use style=\"fill:#777777;stroke:#ffffff;stroke-width:0.48;\" x=\"371.328796\" xlink:href=\"#C0_0_2e47e63994\" y=\"325.67706\"/>\n    </g>\n    <g clip-path=\"url(#p8127912d54)\">\n     <use style=\"fill:#e24a33;stroke:#ffffff;stroke-width:0.48;\" x=\"313.453057\" xlink:href=\"#C0_0_2e47e63994\" y=\"243.805152\"/>\n    </g>\n    <g clip-path=\"url(#p8127912d54)\">\n     <use style=\"fill:#e24a33;stroke:#ffffff;stroke-width:0.48;\" x=\"515.514471\" xlink:href=\"#C0_0_2e47e63994\" y=\"460.785666\"/>\n    </g>\n    <g clip-path=\"url(#p8127912d54)\">\n     <use style=\"fill:#e24a33;stroke:#ffffff;stroke-width:0.48;\" x=\"433.702918\" xlink:href=\"#C0_0_2e47e63994\" y=\"443.303891\"/>\n    </g>\n   </g>\n   <g id=\"PathCollection_2\"/>\n   <g id=\"PathCollection_3\"/>\n   <g id=\"PathCollection_4\"/>\n   <g id=\"PathCollection_5\"/>\n   <g id=\"PathCollection_6\"/>\n   <g id=\"patch_3\">\n    <path d=\"M 51.252187 550.8 \nL 51.252187 7.2 \n\" style=\"fill:none;stroke:#ffffff;stroke-linecap:square;stroke-linejoin:miter;\"/>\n   </g>\n   <g id=\"patch_4\">\n    <path d=\"M 609.252187 550.8 \nL 609.252187 7.2 \n\" style=\"fill:none;stroke:#ffffff;stroke-linecap:square;stroke-linejoin:miter;\"/>\n   </g>\n   <g id=\"patch_5\">\n    <path d=\"M 51.252187 550.8 \nL 609.252187 550.8 \n\" style=\"fill:none;stroke:#ffffff;stroke-linecap:square;stroke-linejoin:miter;\"/>\n   </g>\n   <g id=\"patch_6\">\n    <path d=\"M 51.252187 7.2 \nL 609.252187 7.2 \n\" style=\"fill:none;stroke:#ffffff;stroke-linecap:square;stroke-linejoin:miter;\"/>\n   </g>\n   <g id=\"legend_1\">\n    <g id=\"patch_7\">\n     <path d=\"M 523.792812 103.26875 \nL 602.252187 103.26875 \nQ 604.252187 103.26875 604.252187 101.26875 \nL 604.252187 14.2 \nQ 604.252187 12.2 602.252187 12.2 \nL 523.792812 12.2 \nQ 521.792812 12.2 521.792812 14.2 \nL 521.792812 101.26875 \nQ 521.792812 103.26875 523.792812 103.26875 \nz\n\" style=\"fill:#e5e5e5;opacity:0.8;stroke:#cccccc;stroke-linejoin:miter;stroke-width:0.5;\"/>\n    </g>\n    <g id=\"text_15\">\n     <!-- Continent -->\n     <g transform=\"translate(538.579531 23.798437)scale(0.1 -0.1)\">\n      <defs>\n       <path d=\"M 64.40625 67.28125 \nL 64.40625 56.890625 \nQ 59.421875 61.53125 53.78125 63.8125 \nQ 48.140625 66.109375 41.796875 66.109375 \nQ 29.296875 66.109375 22.65625 58.46875 \nQ 16.015625 50.828125 16.015625 36.375 \nQ 16.015625 21.96875 22.65625 14.328125 \nQ 29.296875 6.6875 41.796875 6.6875 \nQ 48.140625 6.6875 53.78125 8.984375 \nQ 59.421875 11.28125 64.40625 15.921875 \nL 64.40625 5.609375 \nQ 59.234375 2.09375 53.4375 0.328125 \nQ 47.65625 -1.421875 41.21875 -1.421875 \nQ 24.65625 -1.421875 15.125 8.703125 \nQ 5.609375 18.84375 5.609375 36.375 \nQ 5.609375 53.953125 15.125 64.078125 \nQ 24.65625 74.21875 41.21875 74.21875 \nQ 47.75 74.21875 53.53125 72.484375 \nQ 59.328125 70.75 64.40625 67.28125 \nz\n\" id=\"DejaVuSans-67\"/>\n       <path d=\"M 30.609375 48.390625 \nQ 23.390625 48.390625 19.1875 42.75 \nQ 14.984375 37.109375 14.984375 27.296875 \nQ 14.984375 17.484375 19.15625 11.84375 \nQ 23.34375 6.203125 30.609375 6.203125 \nQ 37.796875 6.203125 41.984375 11.859375 \nQ 46.1875 17.53125 46.1875 27.296875 \nQ 46.1875 37.015625 41.984375 42.703125 \nQ 37.796875 48.390625 30.609375 48.390625 \nz\nM 30.609375 56 \nQ 42.328125 56 49.015625 48.375 \nQ 55.71875 40.765625 55.71875 27.296875 \nQ 55.71875 13.875 49.015625 6.21875 \nQ 42.328125 -1.421875 30.609375 -1.421875 \nQ 18.84375 -1.421875 12.171875 6.21875 \nQ 5.515625 13.875 5.515625 27.296875 \nQ 5.515625 40.765625 12.171875 48.375 \nQ 18.84375 56 30.609375 56 \nz\n\" id=\"DejaVuSans-111\"/>\n       <path d=\"M 54.890625 33.015625 \nL 54.890625 0 \nL 45.90625 0 \nL 45.90625 32.71875 \nQ 45.90625 40.484375 42.875 44.328125 \nQ 39.84375 48.1875 33.796875 48.1875 \nQ 26.515625 48.1875 22.3125 43.546875 \nQ 18.109375 38.921875 18.109375 30.90625 \nL 18.109375 0 \nL 9.078125 0 \nL 9.078125 54.6875 \nL 18.109375 54.6875 \nL 18.109375 46.1875 \nQ 21.34375 51.125 25.703125 53.5625 \nQ 30.078125 56 35.796875 56 \nQ 45.21875 56 50.046875 50.171875 \nQ 54.890625 44.34375 54.890625 33.015625 \nz\n\" id=\"DejaVuSans-110\"/>\n       <path d=\"M 18.3125 70.21875 \nL 18.3125 54.6875 \nL 36.8125 54.6875 \nL 36.8125 47.703125 \nL 18.3125 47.703125 \nL 18.3125 18.015625 \nQ 18.3125 11.328125 20.140625 9.421875 \nQ 21.96875 7.515625 27.59375 7.515625 \nL 36.8125 7.515625 \nL 36.8125 0 \nL 27.59375 0 \nQ 17.1875 0 13.234375 3.875 \nQ 9.28125 7.765625 9.28125 18.015625 \nL 9.28125 47.703125 \nL 2.6875 47.703125 \nL 2.6875 54.6875 \nL 9.28125 54.6875 \nL 9.28125 70.21875 \nz\n\" id=\"DejaVuSans-116\"/>\n       <path d=\"M 56.203125 29.59375 \nL 56.203125 25.203125 \nL 14.890625 25.203125 \nQ 15.484375 15.921875 20.484375 11.0625 \nQ 25.484375 6.203125 34.421875 6.203125 \nQ 39.59375 6.203125 44.453125 7.46875 \nQ 49.3125 8.734375 54.109375 11.28125 \nL 54.109375 2.78125 \nQ 49.265625 0.734375 44.1875 -0.34375 \nQ 39.109375 -1.421875 33.890625 -1.421875 \nQ 20.796875 -1.421875 13.15625 6.1875 \nQ 5.515625 13.8125 5.515625 26.8125 \nQ 5.515625 40.234375 12.765625 48.109375 \nQ 20.015625 56 32.328125 56 \nQ 43.359375 56 49.78125 48.890625 \nQ 56.203125 41.796875 56.203125 29.59375 \nz\nM 47.21875 32.234375 \nQ 47.125 39.59375 43.09375 43.984375 \nQ 39.0625 48.390625 32.421875 48.390625 \nQ 24.90625 48.390625 20.390625 44.140625 \nQ 15.875 39.890625 15.1875 32.171875 \nz\n\" id=\"DejaVuSans-101\"/>\n      </defs>\n      <use xlink:href=\"#DejaVuSans-67\"/>\n      <use x=\"69.824219\" xlink:href=\"#DejaVuSans-111\"/>\n      <use x=\"131.005859\" xlink:href=\"#DejaVuSans-110\"/>\n      <use x=\"194.384766\" xlink:href=\"#DejaVuSans-116\"/>\n      <use x=\"233.59375\" xlink:href=\"#DejaVuSans-105\"/>\n      <use x=\"261.376953\" xlink:href=\"#DejaVuSans-110\"/>\n      <use x=\"324.755859\" xlink:href=\"#DejaVuSans-101\"/>\n      <use x=\"386.279297\" xlink:href=\"#DejaVuSans-110\"/>\n      <use x=\"449.658203\" xlink:href=\"#DejaVuSans-116\"/>\n     </g>\n    </g>\n    <g id=\"PathCollection_7\">\n     <defs>\n      <path d=\"M 0 3 \nC 0.795609 3 1.55874 2.683901 2.12132 2.12132 \nC 2.683901 1.55874 3 0.795609 3 0 \nC 3 -0.795609 2.683901 -1.55874 2.12132 -2.12132 \nC 1.55874 -2.683901 0.795609 -3 0 -3 \nC -0.795609 -3 -1.55874 -2.683901 -2.12132 -2.12132 \nC -2.683901 -1.55874 -3 -0.795609 -3 0 \nC -3 0.795609 -2.683901 1.55874 -2.12132 2.12132 \nC -1.55874 2.683901 -0.795609 3 0 3 \nz\n\" id=\"m8fed3880ea\" style=\"stroke:#e24a33;stroke-width:0.5;\"/>\n     </defs>\n     <g>\n      <use style=\"fill:#e24a33;stroke:#e24a33;stroke-width:0.5;\" x=\"535.792812\" xlink:href=\"#m8fed3880ea\" y=\"35.851562\"/>\n     </g>\n    </g>\n    <g id=\"text_16\">\n     <!-- Africa -->\n     <g transform=\"translate(553.792812 38.476562)scale(0.1 -0.1)\">\n      <defs>\n       <path d=\"M 34.1875 63.1875 \nL 20.796875 26.90625 \nL 47.609375 26.90625 \nz\nM 28.609375 72.90625 \nL 39.796875 72.90625 \nL 67.578125 0 \nL 57.328125 0 \nL 50.6875 18.703125 \nL 17.828125 18.703125 \nL 11.1875 0 \nL 0.78125 0 \nz\n\" id=\"DejaVuSans-65\"/>\n       <path d=\"M 37.109375 75.984375 \nL 37.109375 68.5 \nL 28.515625 68.5 \nQ 23.6875 68.5 21.796875 66.546875 \nQ 19.921875 64.59375 19.921875 59.515625 \nL 19.921875 54.6875 \nL 34.71875 54.6875 \nL 34.71875 47.703125 \nL 19.921875 47.703125 \nL 19.921875 0 \nL 10.890625 0 \nL 10.890625 47.703125 \nL 2.296875 47.703125 \nL 2.296875 54.6875 \nL 10.890625 54.6875 \nL 10.890625 58.5 \nQ 10.890625 67.625 15.140625 71.796875 \nQ 19.390625 75.984375 28.609375 75.984375 \nz\n\" id=\"DejaVuSans-102\"/>\n       <path d=\"M 41.109375 46.296875 \nQ 39.59375 47.171875 37.8125 47.578125 \nQ 36.03125 48 33.890625 48 \nQ 26.265625 48 22.1875 43.046875 \nQ 18.109375 38.09375 18.109375 28.8125 \nL 18.109375 0 \nL 9.078125 0 \nL 9.078125 54.6875 \nL 18.109375 54.6875 \nL 18.109375 46.1875 \nQ 20.953125 51.171875 25.484375 53.578125 \nQ 30.03125 56 36.53125 56 \nQ 37.453125 56 38.578125 55.875 \nQ 39.703125 55.765625 41.0625 55.515625 \nz\n\" id=\"DejaVuSans-114\"/>\n       <path d=\"M 48.78125 52.59375 \nL 48.78125 44.1875 \nQ 44.96875 46.296875 41.140625 47.34375 \nQ 37.3125 48.390625 33.40625 48.390625 \nQ 24.65625 48.390625 19.8125 42.84375 \nQ 14.984375 37.3125 14.984375 27.296875 \nQ 14.984375 17.28125 19.8125 11.734375 \nQ 24.65625 6.203125 33.40625 6.203125 \nQ 37.3125 6.203125 41.140625 7.25 \nQ 44.96875 8.296875 48.78125 10.40625 \nL 48.78125 2.09375 \nQ 45.015625 0.34375 40.984375 -0.53125 \nQ 36.96875 -1.421875 32.421875 -1.421875 \nQ 20.0625 -1.421875 12.78125 6.34375 \nQ 5.515625 14.109375 5.515625 27.296875 \nQ 5.515625 40.671875 12.859375 48.328125 \nQ 20.21875 56 33.015625 56 \nQ 37.15625 56 41.109375 55.140625 \nQ 45.0625 54.296875 48.78125 52.59375 \nz\n\" id=\"DejaVuSans-99\"/>\n       <path d=\"M 34.28125 27.484375 \nQ 23.390625 27.484375 19.1875 25 \nQ 14.984375 22.515625 14.984375 16.5 \nQ 14.984375 11.71875 18.140625 8.90625 \nQ 21.296875 6.109375 26.703125 6.109375 \nQ 34.1875 6.109375 38.703125 11.40625 \nQ 43.21875 16.703125 43.21875 25.484375 \nL 43.21875 27.484375 \nz\nM 52.203125 31.203125 \nL 52.203125 0 \nL 43.21875 0 \nL 43.21875 8.296875 \nQ 40.140625 3.328125 35.546875 0.953125 \nQ 30.953125 -1.421875 24.3125 -1.421875 \nQ 15.921875 -1.421875 10.953125 3.296875 \nQ 6 8.015625 6 15.921875 \nQ 6 25.140625 12.171875 29.828125 \nQ 18.359375 34.515625 30.609375 34.515625 \nL 43.21875 34.515625 \nL 43.21875 35.40625 \nQ 43.21875 41.609375 39.140625 45 \nQ 35.0625 48.390625 27.6875 48.390625 \nQ 23 48.390625 18.546875 47.265625 \nQ 14.109375 46.140625 10.015625 43.890625 \nL 10.015625 52.203125 \nQ 14.9375 54.109375 19.578125 55.046875 \nQ 24.21875 56 28.609375 56 \nQ 40.484375 56 46.34375 49.84375 \nQ 52.203125 43.703125 52.203125 31.203125 \nz\n\" id=\"DejaVuSans-97\"/>\n      </defs>\n      <use xlink:href=\"#DejaVuSans-65\"/>\n      <use x=\"64.783203\" xlink:href=\"#DejaVuSans-102\"/>\n      <use x=\"99.988281\" xlink:href=\"#DejaVuSans-114\"/>\n      <use x=\"141.101562\" xlink:href=\"#DejaVuSans-105\"/>\n      <use x=\"168.884766\" xlink:href=\"#DejaVuSans-99\"/>\n      <use x=\"223.865234\" xlink:href=\"#DejaVuSans-97\"/>\n     </g>\n    </g>\n    <g id=\"PathCollection_8\">\n     <defs>\n      <path d=\"M 0 3 \nC 0.795609 3 1.55874 2.683901 2.12132 2.12132 \nC 2.683901 1.55874 3 0.795609 3 0 \nC 3 -0.795609 2.683901 -1.55874 2.12132 -2.12132 \nC 1.55874 -2.683901 0.795609 -3 0 -3 \nC -0.795609 -3 -1.55874 -2.683901 -2.12132 -2.12132 \nC -2.683901 -1.55874 -3 -0.795609 -3 0 \nC -3 0.795609 -2.683901 1.55874 -2.12132 2.12132 \nC -1.55874 2.683901 -0.795609 3 0 3 \nz\n\" id=\"m5652595c7b\" style=\"stroke:#348abd;stroke-width:0.5;\"/>\n     </defs>\n     <g>\n      <use style=\"fill:#348abd;stroke:#348abd;stroke-width:0.5;\" x=\"535.792812\" xlink:href=\"#m5652595c7b\" y=\"50.529688\"/>\n     </g>\n    </g>\n    <g id=\"text_17\">\n     <!-- Europe -->\n     <g transform=\"translate(553.792812 53.154688)scale(0.1 -0.1)\">\n      <defs>\n       <path d=\"M 9.8125 72.90625 \nL 55.90625 72.90625 \nL 55.90625 64.59375 \nL 19.671875 64.59375 \nL 19.671875 43.015625 \nL 54.390625 43.015625 \nL 54.390625 34.71875 \nL 19.671875 34.71875 \nL 19.671875 8.296875 \nL 56.78125 8.296875 \nL 56.78125 0 \nL 9.8125 0 \nz\n\" id=\"DejaVuSans-69\"/>\n       <path d=\"M 8.5 21.578125 \nL 8.5 54.6875 \nL 17.484375 54.6875 \nL 17.484375 21.921875 \nQ 17.484375 14.15625 20.5 10.265625 \nQ 23.53125 6.390625 29.59375 6.390625 \nQ 36.859375 6.390625 41.078125 11.03125 \nQ 45.3125 15.671875 45.3125 23.6875 \nL 45.3125 54.6875 \nL 54.296875 54.6875 \nL 54.296875 0 \nL 45.3125 0 \nL 45.3125 8.40625 \nQ 42.046875 3.421875 37.71875 1 \nQ 33.40625 -1.421875 27.6875 -1.421875 \nQ 18.265625 -1.421875 13.375 4.4375 \nQ 8.5 10.296875 8.5 21.578125 \nz\nM 31.109375 56 \nz\n\" id=\"DejaVuSans-117\"/>\n       <path d=\"M 18.109375 8.203125 \nL 18.109375 -20.796875 \nL 9.078125 -20.796875 \nL 9.078125 54.6875 \nL 18.109375 54.6875 \nL 18.109375 46.390625 \nQ 20.953125 51.265625 25.265625 53.625 \nQ 29.59375 56 35.59375 56 \nQ 45.5625 56 51.78125 48.09375 \nQ 58.015625 40.1875 58.015625 27.296875 \nQ 58.015625 14.40625 51.78125 6.484375 \nQ 45.5625 -1.421875 35.59375 -1.421875 \nQ 29.59375 -1.421875 25.265625 0.953125 \nQ 20.953125 3.328125 18.109375 8.203125 \nz\nM 48.6875 27.296875 \nQ 48.6875 37.203125 44.609375 42.84375 \nQ 40.53125 48.484375 33.40625 48.484375 \nQ 26.265625 48.484375 22.1875 42.84375 \nQ 18.109375 37.203125 18.109375 27.296875 \nQ 18.109375 17.390625 22.1875 11.75 \nQ 26.265625 6.109375 33.40625 6.109375 \nQ 40.53125 6.109375 44.609375 11.75 \nQ 48.6875 17.390625 48.6875 27.296875 \nz\n\" id=\"DejaVuSans-112\"/>\n      </defs>\n      <use xlink:href=\"#DejaVuSans-69\"/>\n      <use x=\"63.183594\" xlink:href=\"#DejaVuSans-117\"/>\n      <use x=\"126.5625\" xlink:href=\"#DejaVuSans-114\"/>\n      <use x=\"165.425781\" xlink:href=\"#DejaVuSans-111\"/>\n      <use x=\"226.607422\" xlink:href=\"#DejaVuSans-112\"/>\n      <use x=\"290.083984\" xlink:href=\"#DejaVuSans-101\"/>\n     </g>\n    </g>\n    <g id=\"PathCollection_9\">\n     <defs>\n      <path d=\"M 0 3 \nC 0.795609 3 1.55874 2.683901 2.12132 2.12132 \nC 2.683901 1.55874 3 0.795609 3 0 \nC 3 -0.795609 2.683901 -1.55874 2.12132 -2.12132 \nC 1.55874 -2.683901 0.795609 -3 0 -3 \nC -0.795609 -3 -1.55874 -2.683901 -2.12132 -2.12132 \nC -2.683901 -1.55874 -3 -0.795609 -3 0 \nC -3 0.795609 -2.683901 1.55874 -2.12132 2.12132 \nC -1.55874 2.683901 -0.795609 3 0 3 \nz\n\" id=\"mbe48a9f469\" style=\"stroke:#988ed5;stroke-width:0.5;\"/>\n     </defs>\n     <g>\n      <use style=\"fill:#988ed5;stroke:#988ed5;stroke-width:0.5;\" x=\"535.792812\" xlink:href=\"#mbe48a9f469\" y=\"65.207813\"/>\n     </g>\n    </g>\n    <g id=\"text_18\">\n     <!-- Americas -->\n     <g transform=\"translate(553.792812 67.832813)scale(0.1 -0.1)\">\n      <defs>\n       <path d=\"M 44.28125 53.078125 \nL 44.28125 44.578125 \nQ 40.484375 46.53125 36.375 47.5 \nQ 32.28125 48.484375 27.875 48.484375 \nQ 21.1875 48.484375 17.84375 46.4375 \nQ 14.5 44.390625 14.5 40.28125 \nQ 14.5 37.15625 16.890625 35.375 \nQ 19.28125 33.59375 26.515625 31.984375 \nL 29.59375 31.296875 \nQ 39.15625 29.25 43.1875 25.515625 \nQ 47.21875 21.78125 47.21875 15.09375 \nQ 47.21875 7.46875 41.1875 3.015625 \nQ 35.15625 -1.421875 24.609375 -1.421875 \nQ 20.21875 -1.421875 15.453125 -0.5625 \nQ 10.6875 0.296875 5.421875 2 \nL 5.421875 11.28125 \nQ 10.40625 8.6875 15.234375 7.390625 \nQ 20.0625 6.109375 24.8125 6.109375 \nQ 31.15625 6.109375 34.5625 8.28125 \nQ 37.984375 10.453125 37.984375 14.40625 \nQ 37.984375 18.0625 35.515625 20.015625 \nQ 33.0625 21.96875 24.703125 23.78125 \nL 21.578125 24.515625 \nQ 13.234375 26.265625 9.515625 29.90625 \nQ 5.8125 33.546875 5.8125 39.890625 \nQ 5.8125 47.609375 11.28125 51.796875 \nQ 16.75 56 26.8125 56 \nQ 31.78125 56 36.171875 55.265625 \nQ 40.578125 54.546875 44.28125 53.078125 \nz\n\" id=\"DejaVuSans-115\"/>\n      </defs>\n      <use xlink:href=\"#DejaVuSans-65\"/>\n      <use x=\"68.408203\" xlink:href=\"#DejaVuSans-109\"/>\n      <use x=\"165.820312\" xlink:href=\"#DejaVuSans-101\"/>\n      <use x=\"227.34375\" xlink:href=\"#DejaVuSans-114\"/>\n      <use x=\"268.457031\" xlink:href=\"#DejaVuSans-105\"/>\n      <use x=\"296.240234\" xlink:href=\"#DejaVuSans-99\"/>\n      <use x=\"351.220703\" xlink:href=\"#DejaVuSans-97\"/>\n      <use x=\"412.5\" xlink:href=\"#DejaVuSans-115\"/>\n     </g>\n    </g>\n    <g id=\"PathCollection_10\">\n     <defs>\n      <path d=\"M 0 3 \nC 0.795609 3 1.55874 2.683901 2.12132 2.12132 \nC 2.683901 1.55874 3 0.795609 3 0 \nC 3 -0.795609 2.683901 -1.55874 2.12132 -2.12132 \nC 1.55874 -2.683901 0.795609 -3 0 -3 \nC -0.795609 -3 -1.55874 -2.683901 -2.12132 -2.12132 \nC -2.683901 -1.55874 -3 -0.795609 -3 0 \nC -3 0.795609 -2.683901 1.55874 -2.12132 2.12132 \nC -1.55874 2.683901 -0.795609 3 0 3 \nz\n\" id=\"m7e0b16532d\" style=\"stroke:#777777;stroke-width:0.5;\"/>\n     </defs>\n     <g>\n      <use style=\"fill:#777777;stroke:#777777;stroke-width:0.5;\" x=\"535.792812\" xlink:href=\"#m7e0b16532d\" y=\"79.885938\"/>\n     </g>\n    </g>\n    <g id=\"text_19\">\n     <!-- Asia -->\n     <g transform=\"translate(553.792812 82.510938)scale(0.1 -0.1)\">\n      <use xlink:href=\"#DejaVuSans-65\"/>\n      <use x=\"68.408203\" xlink:href=\"#DejaVuSans-115\"/>\n      <use x=\"120.507812\" xlink:href=\"#DejaVuSans-105\"/>\n      <use x=\"148.291016\" xlink:href=\"#DejaVuSans-97\"/>\n     </g>\n    </g>\n    <g id=\"PathCollection_11\">\n     <defs>\n      <path d=\"M 0 3 \nC 0.795609 3 1.55874 2.683901 2.12132 2.12132 \nC 2.683901 1.55874 3 0.795609 3 0 \nC 3 -0.795609 2.683901 -1.55874 2.12132 -2.12132 \nC 1.55874 -2.683901 0.795609 -3 0 -3 \nC -0.795609 -3 -1.55874 -2.683901 -2.12132 -2.12132 \nC -2.683901 -1.55874 -3 -0.795609 -3 0 \nC -3 0.795609 -2.683901 1.55874 -2.12132 2.12132 \nC -1.55874 2.683901 -0.795609 3 0 3 \nz\n\" id=\"mc6d0d6c1dc\" style=\"stroke:#fbc15e;stroke-width:0.5;\"/>\n     </defs>\n     <g>\n      <use style=\"fill:#fbc15e;stroke:#fbc15e;stroke-width:0.5;\" x=\"535.792812\" xlink:href=\"#mc6d0d6c1dc\" y=\"94.564062\"/>\n     </g>\n    </g>\n    <g id=\"text_20\">\n     <!-- Oceania -->\n     <g transform=\"translate(553.792812 97.189062)scale(0.1 -0.1)\">\n      <defs>\n       <path d=\"M 39.40625 66.21875 \nQ 28.65625 66.21875 22.328125 58.203125 \nQ 16.015625 50.203125 16.015625 36.375 \nQ 16.015625 22.609375 22.328125 14.59375 \nQ 28.65625 6.59375 39.40625 6.59375 \nQ 50.140625 6.59375 56.421875 14.59375 \nQ 62.703125 22.609375 62.703125 36.375 \nQ 62.703125 50.203125 56.421875 58.203125 \nQ 50.140625 66.21875 39.40625 66.21875 \nz\nM 39.40625 74.21875 \nQ 54.734375 74.21875 63.90625 63.9375 \nQ 73.09375 53.65625 73.09375 36.375 \nQ 73.09375 19.140625 63.90625 8.859375 \nQ 54.734375 -1.421875 39.40625 -1.421875 \nQ 24.03125 -1.421875 14.8125 8.828125 \nQ 5.609375 19.09375 5.609375 36.375 \nQ 5.609375 53.65625 14.8125 63.9375 \nQ 24.03125 74.21875 39.40625 74.21875 \nz\n\" id=\"DejaVuSans-79\"/>\n      </defs>\n      <use xlink:href=\"#DejaVuSans-79\"/>\n      <use x=\"78.710938\" xlink:href=\"#DejaVuSans-99\"/>\n      <use x=\"133.691406\" xlink:href=\"#DejaVuSans-101\"/>\n      <use x=\"195.214844\" xlink:href=\"#DejaVuSans-97\"/>\n      <use x=\"256.494141\" xlink:href=\"#DejaVuSans-110\"/>\n      <use x=\"319.873047\" xlink:href=\"#DejaVuSans-105\"/>\n      <use x=\"347.65625\" xlink:href=\"#DejaVuSans-97\"/>\n     </g>\n    </g>\n   </g>\n  </g>\n </g>\n <defs>\n  <clipPath id=\"p8127912d54\">\n   <rect height=\"543.6\" width=\"558\" x=\"51.252187\" y=\"7.2\"/>\n  </clipPath>\n </defs>\n</svg>\n",
      "image/png": "[encoded data removed]"
     },
     "metadata": {}
    }
   ],
   "source": [
    "import seaborn as sns\n",
    "import matplotlib.pyplot as plt\n",
    "plt.style.use('ggplot')\n",
    "\n",
    "plt.figure(figsize=(10, 10))\n",
    "sns.scatterplot(data=res.query(\"Year == 2012\"), x='dim_1', y='dim_2', hue='Continent')\n",
    "plt.show()"
   ]
  },
  {
   "cell_type": "code",
   "execution_count": 9,
   "metadata": {
    "ExecuteTime": {
     "end_time": "2021-03-16T02:44:20.168904Z",
     "start_time": "2021-03-16T02:44:20.130919Z"
    }
   },
   "outputs": [
    {
     "output_type": "execute_result",
     "data": {
      "text/plain": [
       "Variable                                                  ESRU   GEO  Index  \\\n",
       "ISO Year   Continent UNregion       IncomeLevel                               \n",
       "AFG 2013.0 Asia      Southern Asia  Low income           48.62  6.01  24.19   \n",
       "    2014.0 Asia      Southern Asia  Low income           49.31  5.95  24.36   \n",
       "    2015.0 Asia      Southern Asia  Low income           65.44  5.81  25.87   \n",
       "    2016.0 Asia      Southern Asia  Low income           67.01  6.12  27.62   \n",
       "    2017.0 Asia      Southern Asia  Low income           67.11  5.98  27.54   \n",
       "...                                                        ...   ...    ...   \n",
       "ZWE 2015.0 Africa    Eastern Africa Lower middle income  57.42  3.98  29.72   \n",
       "    2016.0 Africa    Eastern Africa Lower middle income  57.37  3.88  29.50   \n",
       "    2017.0 Africa    Eastern Africa Lower middle income  57.56  4.06  29.75   \n",
       "    2018.0 Africa    Eastern Africa Lower middle income  57.57  4.19  29.94   \n",
       "    2019.0 Africa    Eastern Africa Lower middle income  57.58  4.19  29.80   \n",
       "\n",
       "Variable                                                   NCP     SI  \n",
       "ISO Year   Continent UNregion       IncomeLevel                        \n",
       "AFG 2013.0 Asia      Southern Asia  Low income           36.96  31.71  \n",
       "    2014.0 Asia      Southern Asia  Low income           36.80  32.63  \n",
       "    2015.0 Asia      Southern Asia  Low income           36.72  32.11  \n",
       "    2016.0 Asia      Southern Asia  Low income           37.06  38.30  \n",
       "    2017.0 Asia      Southern Asia  Low income           37.22  38.50  \n",
       "...                                                        ...    ...  \n",
       "ZWE 2015.0 Africa    Eastern Africa Lower middle income  78.17  43.71  \n",
       "    2016.0 Africa    Eastern Africa Lower middle income  78.36  43.42  \n",
       "    2017.0 Africa    Eastern Africa Lower middle income  78.24  42.79  \n",
       "    2018.0 Africa    Eastern Africa Lower middle income  78.33  42.53  \n",
       "    2019.0 Africa    Eastern Africa Lower middle income  78.42  41.71  \n",
       "\n",
       "[2209 rows x 5 columns]"
      ],
      "text/html": "<div>\n<style scoped>\n    .dataframe tbody tr th:only-of-type {\n        vertical-align: middle;\n    }\n\n    .dataframe tbody tr th {\n        vertical-align: top;\n    }\n\n    .dataframe thead th {\n        text-align: right;\n    }\n</style>\n<table border=\"1\" class=\"dataframe\">\n  <thead>\n    <tr style=\"text-align: right;\">\n      <th></th>\n      <th></th>\n      <th></th>\n      <th></th>\n      <th>Variable</th>\n      <th>ESRU</th>\n      <th>GEO</th>\n      <th>Index</th>\n      <th>NCP</th>\n      <th>SI</th>\n    </tr>\n    <tr>\n      <th>ISO</th>\n      <th>Year</th>\n      <th>Continent</th>\n      <th>UNregion</th>\n      <th>IncomeLevel</th>\n      <th></th>\n      <th></th>\n      <th></th>\n      <th></th>\n      <th></th>\n    </tr>\n  </thead>\n  <tbody>\n    <tr>\n      <th rowspan=\"5\" valign=\"top\">AFG</th>\n      <th>2013.0</th>\n      <th>Asia</th>\n      <th>Southern Asia</th>\n      <th>Low income</th>\n      <td>48.62</td>\n      <td>6.01</td>\n      <td>24.19</td>\n      <td>36.96</td>\n      <td>31.71</td>\n    </tr>\n    <tr>\n      <th>2014.0</th>\n      <th>Asia</th>\n      <th>Southern Asia</th>\n      <th>Low income</th>\n      <td>49.31</td>\n      <td>5.95</td>\n      <td>24.36</td>\n      <td>36.80</td>\n      <td>32.63</td>\n    </tr>\n    <tr>\n      <th>2015.0</th>\n      <th>Asia</th>\n      <th>Southern Asia</th>\n      <th>Low income</th>\n      <td>65.44</td>\n      <td>5.81</td>\n      <td>25.87</td>\n      <td>36.72</td>\n      <td>32.11</td>\n    </tr>\n    <tr>\n      <th>2016.0</th>\n      <th>Asia</th>\n      <th>Southern Asia</th>\n      <th>Low income</th>\n      <td>67.01</td>\n      <td>6.12</td>\n      <td>27.62</td>\n      <td>37.06</td>\n      <td>38.30</td>\n    </tr>\n    <tr>\n      <th>2017.0</th>\n      <th>Asia</th>\n      <th>Southern Asia</th>\n      <th>Low income</th>\n      <td>67.11</td>\n      <td>5.98</td>\n      <td>27.54</td>\n      <td>37.22</td>\n      <td>38.50</td>\n    </tr>\n    <tr>\n      <th>...</th>\n      <th>...</th>\n      <th>...</th>\n      <th>...</th>\n      <th>...</th>\n      <td>...</td>\n      <td>...</td>\n      <td>...</td>\n      <td>...</td>\n      <td>...</td>\n    </tr>\n    <tr>\n      <th rowspan=\"5\" valign=\"top\">ZWE</th>\n      <th>2015.0</th>\n      <th>Africa</th>\n      <th>Eastern Africa</th>\n      <th>Lower middle income</th>\n      <td>57.42</td>\n      <td>3.98</td>\n      <td>29.72</td>\n      <td>78.17</td>\n      <td>43.71</td>\n    </tr>\n    <tr>\n      <th>2016.0</th>\n      <th>Africa</th>\n      <th>Eastern Africa</th>\n      <th>Lower middle income</th>\n      <td>57.37</td>\n      <td>3.88</td>\n      <td>29.50</td>\n      <td>78.36</td>\n      <td>43.42</td>\n    </tr>\n    <tr>\n      <th>2017.0</th>\n      <th>Africa</th>\n      <th>Eastern Africa</th>\n      <th>Lower middle income</th>\n      <td>57.56</td>\n      <td>4.06</td>\n      <td>29.75</td>\n      <td>78.24</td>\n      <td>42.79</td>\n    </tr>\n    <tr>\n      <th>2018.0</th>\n      <th>Africa</th>\n      <th>Eastern Africa</th>\n      <th>Lower middle income</th>\n      <td>57.57</td>\n      <td>4.19</td>\n      <td>29.94</td>\n      <td>78.33</td>\n      <td>42.53</td>\n    </tr>\n    <tr>\n      <th>2019.0</th>\n      <th>Africa</th>\n      <th>Eastern Africa</th>\n      <th>Lower middle income</th>\n      <td>57.58</td>\n      <td>4.19</td>\n      <td>29.80</td>\n      <td>78.42</td>\n      <td>41.71</td>\n    </tr>\n  </tbody>\n</table>\n<p>2209 rows × 5 columns</p>\n</div>"
     },
     "metadata": {},
     "execution_count": 9
    }
   ],
   "source": [
    "df"
   ]
  },
  {
   "cell_type": "code",
   "execution_count": 50,
   "metadata": {
    "ExecuteTime": {
     "end_time": "2021-03-16T02:44:34.548205Z",
     "start_time": "2021-03-16T02:44:34.540034Z"
    }
   },
   "outputs": [],
   "source": [
    "compo_df = pd.DataFrame(pca.components_.T, columns=['PC_1', 'PC_2'])\n",
    "compo_df['dimension'] = df.drop(columns=['Index']).columns"
   ]
  },
  {
   "cell_type": "code",
   "execution_count": 59,
   "metadata": {
    "ExecuteTime": {
     "end_time": "2021-03-16T02:45:04.506431Z",
     "start_time": "2021-03-16T02:45:04.266109Z"
    }
   },
   "outputs": [
    {
     "data": {
      "text/plain": [
       "<AxesSubplot:xlabel='PC_1', ylabel='PC_2'>"
      ]
     },
     "execution_count": 59,
     "metadata": {},
     "output_type": "execute_result"
    },
    {
     "data": {
      "image/png": "[encoded data removed]",
      "text/plain": [
       "<Figure size 432x288 with 1 Axes>"
      ]
     },
     "metadata": {},
     "output_type": "display_data"
    }
   ],
   "source": [
    "sns.scatterplot(data=compo_df, x='PC_1', y='PC_2', hue='dimension')"
   ]
  },
  {
   "cell_type": "code",
   "execution_count": 49,
   "metadata": {
    "ExecuteTime": {
     "end_time": "2021-03-16T02:44:33.922798Z",
     "start_time": "2021-03-16T02:44:33.655205Z"
    }
   },
   "outputs": [],
   "source": [
    "indicator_property = pd.read_csv('data/indicators/indicator_properties.csv', index_col=0)\n",
    "indicator_property['Category'] = indicator_property['Indicator'].apply(lambda x: x[0:2])\n",
    "data = pd.merge(data, indicator_property[['Category', 'Dimension']].drop_duplicates(), left_on='Variable', right_on='Category', how='left')\n"
   ]
  },
  {
   "cell_type": "code",
   "execution_count": null,
   "metadata": {},
   "outputs": [],
   "source": []
  },
  {
   "cell_type": "code",
   "execution_count": null,
   "metadata": {
    "ExecuteTime": {
     "end_time": "2021-03-11T01:46:53.178122Z",
     "start_time": "2021-03-11T01:46:52.371212Z"
    },
    "scrolled": false
   },
   "outputs": [],
   "source": [
    "\n",
    "def circular_plot(ISO):\n",
    "    df = data[(data.ISO.isin([ISO])) & (data.Aggregation == 'Category') & (data.Year == 2019)].fillna(0)   \n",
    "    for dim in df.Dimension.unique():\n",
    "        df = df.append({'Variable': f'{dim}', 'Value':0, 'Dimension': dim}, ignore_index=True)\n",
    "\n",
    "    index = data[(data.ISO.isin([ISO])) & (data.Variable == 'Index') & (data.Year == 2019)].Value.unique()[0]\n",
    "    fig = px.bar_polar(df,\n",
    "                       theta='Variable',\n",
    "                       r='Value',\n",
    "                       range_r=[-30, 100],\n",
    "                       color='Dimension',\n",
    "                       hover_data={'Variable_name':True, 'Variable': False},\n",
    "                       color_discrete_map={\n",
    "                          \"Natural Capital Protection\": \"#89afc5\",\n",
    "                          \"Social Inclusion\": \"#c7829d\",\n",
    "                          \"Efficiant and Sustainable Resource Use\": \"#cc8608\",\n",
    "                          \"Green Economic Opportunities\": \"#93c186\"\n",
    "                      },\n",
    "                       labels={'Year': 'Year', 'Value': 'Score', 'Category': 'Dimension', 'Variable_name': 'Category'}\n",
    "                      )\n",
    "    \n",
    "    fig.update_traces(offset=-4/12)\n",
    "    fig.update_polars(radialaxis=dict(gridcolor='white',\n",
    "                                      dtick=20,\n",
    "                                      gridwidth=3,\n",
    "                                      ticks='',\n",
    "                                      angle=0,\n",
    "                                      tickangle=0,\n",
    "                                      tickvals = [20, 40, 60, 80],\n",
    "                                      showline=True,\n",
    "                                      linewidth=0,\n",
    "                                      side='clockwise',\n",
    "                                      ),\n",
    "                      \n",
    "                      \n",
    "                      \n",
    "                  angularaxis=dict(showgrid=False, rotation=90 - 1 * 360 / 20, ticks='',\n",
    "                                   linewidth=1, linecolor='green',  #showticklabels=False,\n",
    "                                   tickvals=[0, 1, 2, 3, 5, 6, 7, 8, 10, 11, 12, 13, 15, 16, 17, 18],\n",
    "                                  ))\n",
    "    \n",
    "    fig.update_layout(\n",
    "    title_text=\"Distances to targets\",\n",
    "    # Add annotations in the center of the donut pies.\n",
    "    annotations=[dict(text=f'{index}', x=0.5, y=0.5, font_size=20, showarrow=False, font_color='green'),\n",
    "                 ])\n",
    "    return fig\n",
    "\n",
    "fig = circular_plot('DNK')\n",
    "fig"
   ]
  },
  {
   "cell_type": "code",
   "execution_count": null,
   "metadata": {
    "ExecuteTime": {
     "end_time": "2021-03-11T04:20:14.573234Z",
     "start_time": "2021-03-11T04:20:14.563965Z"
    }
   },
   "outputs": [],
   "source": []
  },
  {
   "cell_type": "code",
   "execution_count": 5,
   "metadata": {
    "ExecuteTime": {
     "end_time": "2021-03-11T04:22:15.794925Z",
     "start_time": "2021-03-11T04:22:14.713512Z"
    }
   },
   "outputs": [
    {
     "ename": "NameError",
     "evalue": "name 'px' is not defined",
     "output_type": "error",
     "traceback": [
      "\u001b[0;31m---------------------------------------------------------------------------\u001b[0m",
      "\u001b[0;31mNameError\u001b[0m                                 Traceback (most recent call last)",
      "\u001b[0;32m<ipython-input-5-f6efe0737aea>\u001b[0m in \u001b[0;36m<module>\u001b[0;34m\u001b[0m\n\u001b[1;32m     39\u001b[0m     \u001b[0;32mreturn\u001b[0m \u001b[0mfig\u001b[0m\u001b[0;34m\u001b[0m\u001b[0;34m\u001b[0m\u001b[0m\n\u001b[1;32m     40\u001b[0m \u001b[0;34m\u001b[0m\u001b[0m\n\u001b[0;32m---> 41\u001b[0;31m \u001b[0mISO_category_heatmap\u001b[0m\u001b[0;34m(\u001b[0m\u001b[0;34m'FRA'\u001b[0m\u001b[0;34m)\u001b[0m\u001b[0;34m\u001b[0m\u001b[0;34m\u001b[0m\u001b[0m\n\u001b[0m",
      "\u001b[0;32m<ipython-input-5-f6efe0737aea>\u001b[0m in \u001b[0;36mISO_category_heatmap\u001b[0;34m(ISO)\u001b[0m\n\u001b[1;32m     28\u001b[0m                        \u001b[0mygap\u001b[0m\u001b[0;34m=\u001b[0m\u001b[0;36m3\u001b[0m\u001b[0;34m,\u001b[0m\u001b[0;34m\u001b[0m\u001b[0;34m\u001b[0m\u001b[0m\n\u001b[1;32m     29\u001b[0m                        \u001b[0mhoverongaps\u001b[0m \u001b[0;34m=\u001b[0m \u001b[0;32mFalse\u001b[0m\u001b[0;34m,\u001b[0m\u001b[0;34m\u001b[0m\u001b[0;34m\u001b[0m\u001b[0m\n\u001b[0;32m---> 30\u001b[0;31m                        \u001b[0mcolorscale\u001b[0m\u001b[0;34m=\u001b[0m \u001b[0mpx\u001b[0m\u001b[0;34m.\u001b[0m\u001b[0mcolors\u001b[0m\u001b[0;34m.\u001b[0m\u001b[0mdiverging\u001b[0m\u001b[0;34m.\u001b[0m\u001b[0mRdYlGn\u001b[0m\u001b[0;34m,\u001b[0m\u001b[0;34m\u001b[0m\u001b[0;34m\u001b[0m\u001b[0m\n\u001b[0m\u001b[1;32m     31\u001b[0m                        colorbar=dict(title='Score', tickvals=[1, 20, 40, 60, 80, 100],)),\n\u001b[1;32m     32\u001b[0m                    )\n",
      "\u001b[0;31mNameError\u001b[0m: name 'px' is not defined"
     ]
    }
   ],
   "source": [
    "import plotly.graph_objects as go\n",
    "from app import data\n",
    "data = add_reference_to_data(data)\n",
    "indicator_property = pd.read_csv('data/indicators/indicator_properties.csv', index_col=0)\n",
    "indicator_property['Category'] = indicator_property['Indicator'].apply(lambda x: x[0:2])\n",
    "data = pd.merge(data, indicator_property[['Category', 'Dimension']].drop_duplicates(), left_on='Variable', right_on='Category')\n",
    "\n",
    "\n",
    "def ISO_category_heatmap(ISO):\n",
    "    REF_1 = 'AVG_' + \"_\".join(data[data.ISO == ISO][[\"IncomeLevel\"]].drop_duplicates().values[0].tolist())\n",
    "    REF_2 = 'AVG_' + \"_\".join(data[data.ISO == ISO][[\"Continent\"]].drop_duplicates().values[0].tolist())\n",
    "\n",
    "    df = data[(data.ISO.isin([ISO, REF_1, REF_2])) & (data.Aggregation == 'Category') & (data.Year == 2019)].fillna(0)\n",
    "    df = df.round(2)\n",
    "    continent = df.Continent.values[0]\n",
    "    \n",
    "    cats = ['EE', 'EW', 'SL', 'ME',\n",
    "            'EQ', 'GE', 'BE', 'CV',\n",
    "            'AB', 'GB', 'SE', 'SP',\n",
    "            'GV', 'GT', 'GJ', 'GN']\n",
    "    \n",
    "    df = df.pivot(index=['ISO'], columns=['Variable'], values='Value')#[cats]\n",
    "    \n",
    "    fig = go.Figure(data=go.Heatmap(\n",
    "                       z=df.values,\n",
    "                       x=df.columns,\n",
    "                       y=df.index,\n",
    "                       ygap=3,\n",
    "                       hoverongaps = False,\n",
    "                       colorscale= px.colors.diverging.RdYlGn,\n",
    "                       colorbar=dict(title='Score', tickvals=[1, 20, 40, 60, 80, 100],)),\n",
    "                   )\n",
    "\n",
    "    fig.update_xaxes(side='top')\n",
    "    fig.update_layout(paper_bgcolor='rgba(0,0,0,0)',\n",
    "    plot_bgcolor='rgba(0,0,0,0)'\n",
    ")\n",
    "    \n",
    "    return fig\n",
    "\n",
    "ISO_category_heatmap('FRA')"
   ]
  },
  {
   "cell_type": "code",
   "execution_count": null,
   "metadata": {},
   "outputs": [],
   "source": []
  },
  {
   "cell_type": "code",
   "execution_count": 6,
   "metadata": {
    "ExecuteTime": {
     "end_time": "2021-03-11T04:22:20.283404Z",
     "start_time": "2021-03-11T04:22:20.127828Z"
    },
    "scrolled": false
   },
   "outputs": [],
   "source": [
    "from app import data\n",
    "import numpy as np\n",
    "import pandas as pd\n",
    "\n",
    "def add_reference_to_data(data):\n",
    "    data['Continental_Rank'] = data.groupby([\"Year\", \"Continent\", \"Variable\"])[\"Value\"].rank(method='dense', ascending=False)\n",
    "    \n",
    "    data['Income_Rank'] = data.groupby([\"Year\", \"IncomeLevel\", \"Variable\"])[\"Value\"].rank(method='dense', ascending=False)\n",
    "\n",
    "\n",
    "    Income_region_group = data.groupby(['Variable', 'Year', 'IncomeLevel', 'Region', 'Aggregation']).mean().reset_index()\n",
    "    Income_region_group['ISO'] = 'AVG' + '_' + Income_region_group[\"IncomeLevel\"] + '_' + Income_region_group[\"Region\"]\n",
    "\n",
    "    Income_group = data.groupby(['Variable', 'Year', 'IncomeLevel', 'Aggregation']).mean().reset_index()\n",
    "    Income_group['ISO'] = 'AVG' + '_' + Income_group[\"IncomeLevel\"]\n",
    "    Income_group['Continental_Rank'] = np.nan\n",
    "    Income_group['Income_Rank'] = np.nan\n",
    "\n",
    "\n",
    "    Region_group = data.groupby(['Variable', 'Year', 'Continent', 'Aggregation']).mean().reset_index()\n",
    "    Region_group['ISO'] = 'AVG' + '_' + Region_group[\"Continent\"]\n",
    "    Region_group['Continental_Rank'] = np.nan\n",
    "    Region_group['Income_Rank'] = np.nan\n",
    "\n",
    "    data = pd.concat([data, Income_region_group, Region_group, Income_group])\n",
    "    \n",
    "    return data\n",
    "def make_continent_heatmap_df(Continent):\n",
    "    '''Sacré bricolage'''\n",
    "    \n",
    "    df = data[(data.Continent == Continent) & (data.Aggregation.isin(['Dimension', 'Index'])) & (data.Year.isin([2005, 2019]))].fillna(0)\n",
    "    df = df.round(2).astype({'Year':int})\n",
    "    \n",
    "    dimension_df = (df.query(\"Year == 2019\").replace(2019, 'Dimensions 2019')\n",
    "           .pivot(index=['Country', 'UNregion'], columns=['Variable', 'Year'], values='Value')\n",
    "           .loc[:, (['ESRU', 'NCP', 'GEO', 'SI'], slice(None))]\n",
    "           .swaplevel(0, 1, axis=1)\n",
    "       )\n",
    "    \n",
    "    index_df = (df.pivot(index=['Country', 'UNregion'], columns=['Variable', 'Year'], values='Value')\n",
    "          .loc[:, (['Index'], slice(None))]\n",
    "          .droplevel(level='Variable', axis=1)\n",
    "       )\n",
    "    \n",
    "    rank_df = (df.query(\"Variable == 'Index'\")[['Country', 'UNregion', 'Continental_Rank', 'Year']].astype({'Continental_Rank': pd.Int64Dtype()})\n",
    "                 .pivot(index=['Country', 'UNregion'], columns='Year', values='Continental_Rank'))\n",
    "    \n",
    "    index_rank_df = pd.concat([index_df, rank_df], axis=1, keys=['Index', \"Rank\"]).swaplevel(0, 1, axis=1)[[2005, 2019]]\n",
    "\n",
    "    \n",
    "    df = pd.concat([dimension_df, index_rank_df], axis=1).sort_values(by=[(2019, 'Rank')]).dropna(subset=[(2019, 'Rank')])\n",
    "    \n",
    "    return df\n",
    "\n",
    "\n",
    "df = make_continent_heatmap_df('Africa').reset_index()#.droplevel(level='Variable', axis=1)"
   ]
  },
  {
   "cell_type": "code",
   "execution_count": 7,
   "metadata": {
    "ExecuteTime": {
     "end_time": "2021-03-11T04:22:21.630182Z",
     "start_time": "2021-03-11T04:22:21.574821Z"
    }
   },
   "outputs": [
    {
     "data": {
      "text/html": [
       "<div>\n",
       "<style scoped>\n",
       "    .dataframe tbody tr th:only-of-type {\n",
       "        vertical-align: middle;\n",
       "    }\n",
       "\n",
       "    .dataframe tbody tr th {\n",
       "        vertical-align: top;\n",
       "    }\n",
       "\n",
       "    .dataframe thead tr th {\n",
       "        text-align: left;\n",
       "    }\n",
       "</style>\n",
       "<table border=\"1\" class=\"dataframe\">\n",
       "  <thead>\n",
       "    <tr>\n",
       "      <th>Year</th>\n",
       "      <th>Country</th>\n",
       "      <th>UNregion</th>\n",
       "      <th colspan=\"4\" halign=\"left\">Dimensions 2019</th>\n",
       "      <th colspan=\"2\" halign=\"left\">2005</th>\n",
       "      <th colspan=\"2\" halign=\"left\">2019</th>\n",
       "    </tr>\n",
       "    <tr>\n",
       "      <th>Variable</th>\n",
       "      <th></th>\n",
       "      <th></th>\n",
       "      <th>ESRU</th>\n",
       "      <th>NCP</th>\n",
       "      <th>GEO</th>\n",
       "      <th>SI</th>\n",
       "      <th>Index</th>\n",
       "      <th>Rank</th>\n",
       "      <th>Index</th>\n",
       "      <th>Rank</th>\n",
       "    </tr>\n",
       "  </thead>\n",
       "  <tbody>\n",
       "    <tr>\n",
       "      <th>0</th>\n",
       "      <td>Tanzania</td>\n",
       "      <td>Eastern Africa</td>\n",
       "      <td>71.77</td>\n",
       "      <td>66.89</td>\n",
       "      <td>47.50</td>\n",
       "      <td>41.77</td>\n",
       "      <td>37.62</td>\n",
       "      <td>9</td>\n",
       "      <td>55.55</td>\n",
       "      <td>1</td>\n",
       "    </tr>\n",
       "    <tr>\n",
       "      <th>1</th>\n",
       "      <td>Morocco</td>\n",
       "      <td>Northern Africa</td>\n",
       "      <td>50.34</td>\n",
       "      <td>73.63</td>\n",
       "      <td>26.34</td>\n",
       "      <td>72.16</td>\n",
       "      <td>45.02</td>\n",
       "      <td>4</td>\n",
       "      <td>51.52</td>\n",
       "      <td>2</td>\n",
       "    </tr>\n",
       "    <tr>\n",
       "      <th>2</th>\n",
       "      <td>Tunisia</td>\n",
       "      <td>Northern Africa</td>\n",
       "      <td>28.27</td>\n",
       "      <td>61.76</td>\n",
       "      <td>46.09</td>\n",
       "      <td>75.42</td>\n",
       "      <td>44.21</td>\n",
       "      <td>5</td>\n",
       "      <td>49.63</td>\n",
       "      <td>3</td>\n",
       "    </tr>\n",
       "    <tr>\n",
       "      <th>3</th>\n",
       "      <td>South Africa</td>\n",
       "      <td>Southern Africa</td>\n",
       "      <td>40.14</td>\n",
       "      <td>59.22</td>\n",
       "      <td>35.41</td>\n",
       "      <td>67.24</td>\n",
       "      <td>49.95</td>\n",
       "      <td>2</td>\n",
       "      <td>48.78</td>\n",
       "      <td>4</td>\n",
       "    </tr>\n",
       "    <tr>\n",
       "      <th>4</th>\n",
       "      <td>Cabo Verde</td>\n",
       "      <td>Western Africa</td>\n",
       "      <td>67.97</td>\n",
       "      <td>68.39</td>\n",
       "      <td>15.40</td>\n",
       "      <td>69.17</td>\n",
       "      <td>58.20</td>\n",
       "      <td>1</td>\n",
       "      <td>47.17</td>\n",
       "      <td>5</td>\n",
       "    </tr>\n",
       "    <tr>\n",
       "      <th>5</th>\n",
       "      <td>Senegal</td>\n",
       "      <td>Western Africa</td>\n",
       "      <td>70.00</td>\n",
       "      <td>65.62</td>\n",
       "      <td>18.53</td>\n",
       "      <td>43.76</td>\n",
       "      <td>41.95</td>\n",
       "      <td>6</td>\n",
       "      <td>43.93</td>\n",
       "      <td>6</td>\n",
       "    </tr>\n",
       "    <tr>\n",
       "      <th>6</th>\n",
       "      <td>Mauritius</td>\n",
       "      <td>Eastern Africa</td>\n",
       "      <td>59.21</td>\n",
       "      <td>53.20</td>\n",
       "      <td>12.96</td>\n",
       "      <td>84.43</td>\n",
       "      <td>48.18</td>\n",
       "      <td>3</td>\n",
       "      <td>43.09</td>\n",
       "      <td>7</td>\n",
       "    </tr>\n",
       "    <tr>\n",
       "      <th>7</th>\n",
       "      <td>Uganda</td>\n",
       "      <td>Eastern Africa</td>\n",
       "      <td>65.41</td>\n",
       "      <td>69.92</td>\n",
       "      <td>23.65</td>\n",
       "      <td>31.63</td>\n",
       "      <td>39.00</td>\n",
       "      <td>8</td>\n",
       "      <td>43.01</td>\n",
       "      <td>8</td>\n",
       "    </tr>\n",
       "    <tr>\n",
       "      <th>8</th>\n",
       "      <td>Egypt</td>\n",
       "      <td>Northern Africa</td>\n",
       "      <td>24.87</td>\n",
       "      <td>54.85</td>\n",
       "      <td>39.68</td>\n",
       "      <td>61.17</td>\n",
       "      <td>35.42</td>\n",
       "      <td>10</td>\n",
       "      <td>42.65</td>\n",
       "      <td>9</td>\n",
       "    </tr>\n",
       "    <tr>\n",
       "      <th>9</th>\n",
       "      <td>Ethiopia</td>\n",
       "      <td>Eastern Africa</td>\n",
       "      <td>57.88</td>\n",
       "      <td>67.24</td>\n",
       "      <td>26.01</td>\n",
       "      <td>29.98</td>\n",
       "      <td>29.96</td>\n",
       "      <td>16</td>\n",
       "      <td>41.74</td>\n",
       "      <td>10</td>\n",
       "    </tr>\n",
       "    <tr>\n",
       "      <th>10</th>\n",
       "      <td>Ghana</td>\n",
       "      <td>Western Africa</td>\n",
       "      <td>69.80</td>\n",
       "      <td>68.23</td>\n",
       "      <td>11.99</td>\n",
       "      <td>51.76</td>\n",
       "      <td>41.74</td>\n",
       "      <td>7</td>\n",
       "      <td>41.46</td>\n",
       "      <td>11</td>\n",
       "    </tr>\n",
       "    <tr>\n",
       "      <th>11</th>\n",
       "      <td>Botswana</td>\n",
       "      <td>Southern Africa</td>\n",
       "      <td>66.41</td>\n",
       "      <td>58.75</td>\n",
       "      <td>12.24</td>\n",
       "      <td>53.92</td>\n",
       "      <td>33.48</td>\n",
       "      <td>12</td>\n",
       "      <td>40.06</td>\n",
       "      <td>12</td>\n",
       "    </tr>\n",
       "    <tr>\n",
       "      <th>12</th>\n",
       "      <td>Cameroon</td>\n",
       "      <td>Middle Africa</td>\n",
       "      <td>67.58</td>\n",
       "      <td>59.76</td>\n",
       "      <td>12.86</td>\n",
       "      <td>43.61</td>\n",
       "      <td>32.40</td>\n",
       "      <td>14</td>\n",
       "      <td>38.79</td>\n",
       "      <td>13</td>\n",
       "    </tr>\n",
       "    <tr>\n",
       "      <th>13</th>\n",
       "      <td>Kenya</td>\n",
       "      <td>Eastern Africa</td>\n",
       "      <td>62.67</td>\n",
       "      <td>62.48</td>\n",
       "      <td>10.28</td>\n",
       "      <td>53.68</td>\n",
       "      <td>32.52</td>\n",
       "      <td>13</td>\n",
       "      <td>38.34</td>\n",
       "      <td>14</td>\n",
       "    </tr>\n",
       "    <tr>\n",
       "      <th>14</th>\n",
       "      <td>Madagascar</td>\n",
       "      <td>Eastern Africa</td>\n",
       "      <td>60.35</td>\n",
       "      <td>56.36</td>\n",
       "      <td>15.49</td>\n",
       "      <td>31.39</td>\n",
       "      <td>34.23</td>\n",
       "      <td>11</td>\n",
       "      <td>35.86</td>\n",
       "      <td>15</td>\n",
       "    </tr>\n",
       "    <tr>\n",
       "      <th>15</th>\n",
       "      <td>Angola</td>\n",
       "      <td>Middle Africa</td>\n",
       "      <td>76.39</td>\n",
       "      <td>56.04</td>\n",
       "      <td>7.17</td>\n",
       "      <td>40.59</td>\n",
       "      <td>NaN</td>\n",
       "      <td>&lt;NA&gt;</td>\n",
       "      <td>33.41</td>\n",
       "      <td>16</td>\n",
       "    </tr>\n",
       "    <tr>\n",
       "      <th>16</th>\n",
       "      <td>Lesotho</td>\n",
       "      <td>Southern Africa</td>\n",
       "      <td>56.76</td>\n",
       "      <td>45.40</td>\n",
       "      <td>8.23</td>\n",
       "      <td>50.88</td>\n",
       "      <td>25.58</td>\n",
       "      <td>21</td>\n",
       "      <td>32.23</td>\n",
       "      <td>17</td>\n",
       "    </tr>\n",
       "    <tr>\n",
       "      <th>17</th>\n",
       "      <td>Zambia</td>\n",
       "      <td>Eastern Africa</td>\n",
       "      <td>65.23</td>\n",
       "      <td>59.62</td>\n",
       "      <td>8.14</td>\n",
       "      <td>32.63</td>\n",
       "      <td>24.49</td>\n",
       "      <td>22</td>\n",
       "      <td>31.88</td>\n",
       "      <td>18</td>\n",
       "    </tr>\n",
       "    <tr>\n",
       "      <th>18</th>\n",
       "      <td>Malawi</td>\n",
       "      <td>Eastern Africa</td>\n",
       "      <td>62.08</td>\n",
       "      <td>76.44</td>\n",
       "      <td>7.47</td>\n",
       "      <td>27.22</td>\n",
       "      <td>26.91</td>\n",
       "      <td>20</td>\n",
       "      <td>31.34</td>\n",
       "      <td>19</td>\n",
       "    </tr>\n",
       "    <tr>\n",
       "      <th>19</th>\n",
       "      <td>Burundi</td>\n",
       "      <td>Eastern Africa</td>\n",
       "      <td>58.59</td>\n",
       "      <td>68.51</td>\n",
       "      <td>6.65</td>\n",
       "      <td>34.23</td>\n",
       "      <td>20.96</td>\n",
       "      <td>23</td>\n",
       "      <td>30.92</td>\n",
       "      <td>20</td>\n",
       "    </tr>\n",
       "    <tr>\n",
       "      <th>20</th>\n",
       "      <td>Zimbabwe</td>\n",
       "      <td>Eastern Africa</td>\n",
       "      <td>57.58</td>\n",
       "      <td>78.42</td>\n",
       "      <td>4.19</td>\n",
       "      <td>41.71</td>\n",
       "      <td>29.72</td>\n",
       "      <td>17</td>\n",
       "      <td>29.80</td>\n",
       "      <td>21</td>\n",
       "    </tr>\n",
       "    <tr>\n",
       "      <th>21</th>\n",
       "      <td>Algeria</td>\n",
       "      <td>Northern Africa</td>\n",
       "      <td>28.43</td>\n",
       "      <td>45.45</td>\n",
       "      <td>7.19</td>\n",
       "      <td>66.27</td>\n",
       "      <td>32.36</td>\n",
       "      <td>15</td>\n",
       "      <td>28.01</td>\n",
       "      <td>22</td>\n",
       "    </tr>\n",
       "    <tr>\n",
       "      <th>22</th>\n",
       "      <td>Nigeria</td>\n",
       "      <td>Western Africa</td>\n",
       "      <td>67.97</td>\n",
       "      <td>57.23</td>\n",
       "      <td>4.17</td>\n",
       "      <td>36.18</td>\n",
       "      <td>28.06</td>\n",
       "      <td>19</td>\n",
       "      <td>27.68</td>\n",
       "      <td>23</td>\n",
       "    </tr>\n",
       "    <tr>\n",
       "      <th>23</th>\n",
       "      <td>Niger</td>\n",
       "      <td>Western Africa</td>\n",
       "      <td>59.67</td>\n",
       "      <td>48.93</td>\n",
       "      <td>4.83</td>\n",
       "      <td>25.47</td>\n",
       "      <td>20.69</td>\n",
       "      <td>24</td>\n",
       "      <td>24.48</td>\n",
       "      <td>24</td>\n",
       "    </tr>\n",
       "  </tbody>\n",
       "</table>\n",
       "</div>"
      ],
      "text/plain": [
       "Year           Country         UNregion Dimensions 2019                       \\\n",
       "Variable                                           ESRU    NCP    GEO     SI   \n",
       "0             Tanzania   Eastern Africa           71.77  66.89  47.50  41.77   \n",
       "1              Morocco  Northern Africa           50.34  73.63  26.34  72.16   \n",
       "2              Tunisia  Northern Africa           28.27  61.76  46.09  75.42   \n",
       "3         South Africa  Southern Africa           40.14  59.22  35.41  67.24   \n",
       "4           Cabo Verde   Western Africa           67.97  68.39  15.40  69.17   \n",
       "5              Senegal   Western Africa           70.00  65.62  18.53  43.76   \n",
       "6            Mauritius   Eastern Africa           59.21  53.20  12.96  84.43   \n",
       "7               Uganda   Eastern Africa           65.41  69.92  23.65  31.63   \n",
       "8                Egypt  Northern Africa           24.87  54.85  39.68  61.17   \n",
       "9             Ethiopia   Eastern Africa           57.88  67.24  26.01  29.98   \n",
       "10               Ghana   Western Africa           69.80  68.23  11.99  51.76   \n",
       "11            Botswana  Southern Africa           66.41  58.75  12.24  53.92   \n",
       "12            Cameroon    Middle Africa           67.58  59.76  12.86  43.61   \n",
       "13               Kenya   Eastern Africa           62.67  62.48  10.28  53.68   \n",
       "14          Madagascar   Eastern Africa           60.35  56.36  15.49  31.39   \n",
       "15              Angola    Middle Africa           76.39  56.04   7.17  40.59   \n",
       "16             Lesotho  Southern Africa           56.76  45.40   8.23  50.88   \n",
       "17              Zambia   Eastern Africa           65.23  59.62   8.14  32.63   \n",
       "18              Malawi   Eastern Africa           62.08  76.44   7.47  27.22   \n",
       "19             Burundi   Eastern Africa           58.59  68.51   6.65  34.23   \n",
       "20            Zimbabwe   Eastern Africa           57.58  78.42   4.19  41.71   \n",
       "21             Algeria  Northern Africa           28.43  45.45   7.19  66.27   \n",
       "22             Nigeria   Western Africa           67.97  57.23   4.17  36.18   \n",
       "23               Niger   Western Africa           59.67  48.93   4.83  25.47   \n",
       "\n",
       "Year       2005         2019       \n",
       "Variable  Index  Rank  Index Rank  \n",
       "0         37.62     9  55.55    1  \n",
       "1         45.02     4  51.52    2  \n",
       "2         44.21     5  49.63    3  \n",
       "3         49.95     2  48.78    4  \n",
       "4         58.20     1  47.17    5  \n",
       "5         41.95     6  43.93    6  \n",
       "6         48.18     3  43.09    7  \n",
       "7         39.00     8  43.01    8  \n",
       "8         35.42    10  42.65    9  \n",
       "9         29.96    16  41.74   10  \n",
       "10        41.74     7  41.46   11  \n",
       "11        33.48    12  40.06   12  \n",
       "12        32.40    14  38.79   13  \n",
       "13        32.52    13  38.34   14  \n",
       "14        34.23    11  35.86   15  \n",
       "15          NaN  <NA>  33.41   16  \n",
       "16        25.58    21  32.23   17  \n",
       "17        24.49    22  31.88   18  \n",
       "18        26.91    20  31.34   19  \n",
       "19        20.96    23  30.92   20  \n",
       "20        29.72    17  29.80   21  \n",
       "21        32.36    15  28.01   22  \n",
       "22        28.06    19  27.68   23  \n",
       "23        20.69    24  24.48   24  "
      ]
     },
     "execution_count": 7,
     "metadata": {},
     "output_type": "execute_result"
    }
   ],
   "source": [
    "df"
   ]
  },
  {
   "cell_type": "code",
   "execution_count": null,
   "metadata": {
    "ExecuteTime": {
     "end_time": "2021-03-11T04:21:34.491915Z",
     "start_time": "2021-03-11T04:21:33.374Z"
    }
   },
   "outputs": [],
   "source": [
    "df = make_continent_heatmap_df('Africa').reset_index()\n",
    "colnames = (df.columns.to_frame()['Year'].astype(str) + '_' + df.columns.to_frame()['Variable']).values\n",
    "df.columns= colnames"
   ]
  },
  {
   "cell_type": "code",
   "execution_count": null,
   "metadata": {
    "ExecuteTime": {
     "end_time": "2021-03-11T04:21:34.492989Z",
     "start_time": "2021-03-11T04:21:33.612Z"
    }
   },
   "outputs": [],
   "source": [
    "df"
   ]
  },
  {
   "cell_type": "code",
   "execution_count": null,
   "metadata": {
    "ExecuteTime": {
     "end_time": "2021-03-11T04:06:46.905884Z",
     "start_time": "2021-03-11T04:06:46.897890Z"
    }
   },
   "outputs": [],
   "source": [
    "df['2005_Rank']#.astype(str)"
   ]
  },
  {
   "cell_type": "code",
   "execution_count": null,
   "metadata": {
    "ExecuteTime": {
     "end_time": "2021-03-11T04:20:47.129736Z",
     "start_time": "2021-03-11T04:20:45.761228Z"
    }
   },
   "outputs": [],
   "source": [
    "\n",
    "data = add_reference_to_data(data)\n",
    "\n",
    "\n",
    "def make_continent_heatmap_df(Continent):\n",
    "    '''Sacré bricolage'''\n",
    "    \n",
    "    df = data[(data.Continent == Continent) & (data.Aggregation.isin(['Dimension', 'Index'])) & (data.Year.isin([2005, 2019]))].fillna(0)\n",
    "    df = df.round(2).astype({'Year':int})\n",
    "    \n",
    "    dimension_df = (df.query(\"Year == 2019\").replace(2019, 'Dimensions 2019')\n",
    "           .pivot(index=['Country', 'UNregion'], columns=['Variable', 'Year'], values='Value')\n",
    "           .loc[:, (['ESRU', 'NCP', 'GEO', 'SI'], slice(None))]\n",
    "           .swaplevel(0, 1, axis=1)\n",
    "       )\n",
    "    \n",
    "    index_df = (df.pivot(index=['Country', 'UNregion'], columns=['Variable', 'Year'], values='Value')\n",
    "          .loc[:, (['Index'], slice(None))]\n",
    "          .droplevel(level='Variable', axis=1)\n",
    "       )\n",
    "    \n",
    "    rank_df = (df.query(\"Variable == 'Index'\")[['Country', 'UNregion', 'Continental_Rank', 'Year']].astype({'Continental_Rank': float})\n",
    "                 .pivot(index=['Country', 'UNregion'], columns='Year', values='Continental_Rank'))\n",
    "    \n",
    "    index_rank_df = pd.concat([index_df, rank_df], axis=1, keys=['Index', \"Rank\"]).swaplevel(0, 1, axis=1)[[2005, 2019]]\n",
    "\n",
    "    \n",
    "    df = pd.concat([dimension_df, index_rank_df], axis=1).sort_values(by=[(2019, 'Rank')]).dropna(subset=[(2019, 'Rank')])\n",
    "    \n",
    "    return df\n",
    "\n",
    "\n",
    "df = make_continent_heatmap_df('Africa').reset_index()\n",
    "print(df)\n",
    "print()\n",
    "colnames = (df.columns.to_frame()['Year'].astype(str) + '_' + df.columns.to_frame()['Variable']).values\n",
    "df.columns= colnames\n"
   ]
  },
  {
   "cell_type": "code",
   "execution_count": null,
   "metadata": {
    "ExecuteTime": {
     "end_time": "2021-03-11T04:20:34.665851Z",
     "start_time": "2021-03-11T04:20:34.619498Z"
    }
   },
   "outputs": [],
   "source": [
    "df"
   ]
  }
 ],
 "metadata": {
  "kernelspec": {
   "display_name": "Python 3",
   "language": "python",
   "name": "python3"
  },
  "language_info": {
   "codemirror_mode": {
    "name": "ipython",
    "version": 3
   },
   "file_extension": ".py",
   "mimetype": "text/x-python",
   "name": "python",
   "nbconvert_exporter": "python",
   "pygments_lexer": "ipython3",
   "version": "3.7.7-final"
  }
 },
 "nbformat": 4,
 "nbformat_minor": 4
}