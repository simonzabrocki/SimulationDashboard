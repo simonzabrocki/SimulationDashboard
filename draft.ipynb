{
 "cells": [
  {
   "cell_type": "code",
   "execution_count": 1,
   "metadata": {
    "ExecuteTime": {
     "end_time": "2021-06-11T03:59:01.207852Z",
     "start_time": "2021-06-11T03:58:57.644413Z"
    }
   },
   "outputs": [],
   "source": [
    "import os\n",
    "import pandas as pd\n",
    "import plotly.express as px\n",
    "\n",
    "from plots.simulation.GE3_plots import sankeyplot, emission_data_dict_to_df\n",
    "from ggmodel_dev.models.landuse import BE2_scenario, GE3_scenario\n",
    "from ggmodel_dev.models.water import EW_scenario\n",
    "from ggmodel_dev.models.transport import VEHC_scenario\n",
    "from ggmodel_dev.projection import run_projection\n",
    "\n",
    "\n",
    "\n",
    "def get_data_dict_from_folder_parquet(folder_name):\n",
    "    files = os.listdir(folder_name)\n",
    "    data_dict = {file.split('.')[0]: pd.read_parquet(\n",
    "        f'{folder_name}/{file}') for file in files}\n",
    "    data_dict = {name: df[name] for name, df in data_dict.items()}\n",
    "    return data_dict\n",
    "\n",
    "\n",
    "def get_data_dict_from_folder(folder_name):\n",
    "    files = os.listdir(folder_name)\n",
    "    data_dict = {file.split('.')[0]: pd.read_csv(\n",
    "        f'{folder_name}/{file}') for file in files}\n",
    "\n",
    "    data_dict = {name: df.set_index([col for col in df.columns if col != name]).squeeze(\n",
    "    ) for name, df in data_dict.items()}\n",
    "\n",
    "    return data_dict"
   ]
  },
  {
   "cell_type": "code",
   "execution_count": 2,
   "metadata": {
    "ExecuteTime": {
     "end_time": "2021-06-11T03:59:06.167264Z",
     "start_time": "2021-06-11T03:59:01.210004Z"
    }
   },
   "outputs": [],
   "source": [
    "scenario_data_dictionnary = {\n",
    "    'EW_models': get_data_dict_from_folder('data/sim/EW'),\n",
    "    'BE2_model': get_data_dict_from_folder('data/sim/BE2'),\n",
    "    'GE3_model': get_data_dict_from_folder_parquet('data/sim/GE3'),\n",
    "    'VEHC_model': get_data_dict_from_folder('data/sim/VEHC'),\n",
    "}\n"
   ]
  },
  {
   "cell_type": "code",
   "execution_count": 3,
   "metadata": {
    "ExecuteTime": {
     "end_time": "2021-06-11T03:59:06.189322Z",
     "start_time": "2021-06-11T03:59:06.169941Z"
    }
   },
   "outputs": [],
   "source": [
    "from ggmodel_dev.projection import *\n",
    "from ggmodel_dev.models.landuse.GE3 import model_dictionnary\n",
    "\n",
    "projection_dict = {\n",
    "    'Pop': lambda x: x,\n",
    "    'OEi': lambda x: x,\n",
    "    'EF_EEi': lambda x: x,\n",
    "    'TAi': lambda x: x,\n",
    "    'IN_F': lambda x: x,\n",
    "    'MYi': lambda x: x,\n",
    "    'EF_ASi': lambda x: x,\n",
    "    'EF_Ti': lambda x: x,\n",
    "    'EF_CH4Ti': lambda x: x,\n",
    "    'EF_Li': lambda x: x,\n",
    "    'EF_F': lambda x: x,        \n",
    "}\n",
    "\n",
    "\n",
    "def run_scenario(data_dict,\n",
    "                 MM_Ti=1/3,\n",
    "                 MM_ASi=1/3,\n",
    "                 MM_LPi=1/3,\n",
    "                 TAi_pct_Asses=1,\n",
    "                 TAi_pct_Cattle_dairy=1,\n",
    "                 TAi_pct_Cattle_non_dairy=1,\n",
    "                 TAi_pct_Chickens_broilers=1,\n",
    "                 TAi_pct_Chickens_layers=1,\n",
    "                 TAi_pct_Ducks=1,\n",
    "                 TAi_pct_Goats=1,\n",
    "                 TAi_pct_Horses=1,\n",
    "                 TAi_pct_Mules=1,\n",
    "                 TAi_pct_Sheep=1,\n",
    "                 TAi_pct_Swine_breeding=1,\n",
    "                 TAi_pct_Swine_market=1,\n",
    "                 TAi_pct_Turkeys=1\n",
    "                 ):\n",
    "    \n",
    "    data_dict = data_dict.copy()\n",
    "    \n",
    "    \n",
    "    data_dict['MM_Ti'] = MM_Ti\n",
    "    data_dict['MM_ASi'] = MM_ASi\n",
    "    data_dict['MM_LPi'] = MM_LPi\n",
    "    \n",
    "    TAi_pct_target = pd.Series(index=['Asses', 'Cattle, dairy','Cattle, non-dairy',\n",
    "                                  'Chickens, broilers', 'Chickens, layers', 'Ducks', 'Goats',\n",
    "                                  'Horses', 'Mules', 'Sheep', 'Swine, breeding', 'Swine, market',\n",
    "                                  'Turkeys'],\n",
    "                           data=[TAi_pct_Asses, TAi_pct_Cattle_dairy,\n",
    "                                 TAi_pct_Cattle_non_dairy, TAi_pct_Chickens_broilers,\n",
    "                                 TAi_pct_Chickens_layers, TAi_pct_Ducks,TAi_pct_Goats,\n",
    "                                 TAi_pct_Horses, TAi_pct_Mules ,TAi_pct_Sheep, TAi_pct_Swine_breeding,\n",
    "                                 TAi_pct_Swine_market, TAi_pct_Turkeys\n",
    "                               \n",
    "                           ], name='TAi_pct_target')\n",
    "    \n",
    "    TAi_pct_target.index.name = 'Item'\n",
    "    \n",
    "    tmp = pd.merge(data_dict['TAi'].reset_index(), TAi_pct_target.reset_index(),on='Item')\n",
    "    tmp['TAi'] = tmp['TAi'] * tmp['TAi_pct_target']\n",
    "\n",
    "    data_dict['TAi'] = tmp.set_index(['ISO', 'Year', 'Item'])['TAi']\n",
    "    \n",
    "    results = model_dictionnary['GE3_model'].run(data_dict)\n",
    "    \n",
    "    return results"
   ]
  },
  {
   "cell_type": "code",
   "execution_count": 4,
   "metadata": {
    "ExecuteTime": {
     "end_time": "2021-06-11T03:59:06.202329Z",
     "start_time": "2021-06-11T03:59:06.193280Z"
    }
   },
   "outputs": [],
   "source": [
    "def emission_data_dict_to_df(data_dict):\n",
    "\n",
    "    data_dict = data_dict.copy()\n",
    "\n",
    "    data = pd.concat([v.to_frame(name='Value').assign(Variable=k)\n",
    "                      for k, v in data_dict.items()], axis=0).reset_index().dropna()\n",
    "\n",
    "    data = pd.concat([data, data.groupby('Variable').sum().reset_index().rename(\n",
    "        columns={\"Variable\": 'Item'}).assign(Variable='GE3_partial')])\n",
    "\n",
    "    return data"
   ]
  },
  {
   "cell_type": "code",
   "execution_count": 20,
   "metadata": {
    "ExecuteTime": {
     "end_time": "2021-06-11T04:01:43.832215Z",
     "start_time": "2021-06-11T04:01:43.812639Z"
    }
   },
   "outputs": [],
   "source": [
    "from ggmodel_dev.models.landuse import BE2_scenario, GE3_scenario, GE3\n",
    "\n",
    "def run_all_scenarios_GE3(data_dict, ISO, args_dict_1, args_dict_2):\n",
    "    scenarios_results = {}\n",
    "    data_dict = {k: v.loc[ISO, 2018, :] for k, v in data_dict.items()}\n",
    "\n",
    "    scenarios_results['BAU'] = GE3_scenario.run_scenario(\n",
    "        data_dict=data_dict, MM_Ti=data_dict['MM_Ti'], MM_ASi=data_dict['MM_ASi'])\n",
    "    scenarios_results['scenario_one'] = GE3_scenario.run_scenario(\n",
    "        data_dict=data_dict, **args_dict_1)\n",
    "    scenarios_results['scenario_two'] = GE3_scenario.run_scenario(\n",
    "        data_dict=data_dict, **args_dict_2)\n",
    "    \n",
    "    displayed_variables = ['TEE_CO2eq', 'TMA_CO2eq', 'TMT_CO2eq', 'TMP_CO2eq']\n",
    "\n",
    "    df_0 = emission_data_dict_to_df({k: v for k, v in scenarios_results['BAU'].items() if k in displayed_variables})\n",
    "    df_1 = emission_data_dict_to_df({k: v for k, v in scenarios_results['scenario_one'].items() if k in displayed_variables})\n",
    "    df_2 = emission_data_dict_to_df({k: v for k, v in scenarios_results['scenario_two'].items() if k in displayed_variables})\n",
    "\n",
    "    df = pd.concat([df_0.assign(scenario='BAU'), df_1.assign(scenario='scenario 1'), df_2.assign(scenario='scenario 2')], axis=0)\n",
    "\n",
    "    df = df.merge(GE3.model_dictionnary['GE3_model'].summary_df[['name', 'unit']], left_on='Variable', right_index=True, how='left')\n",
    "\n",
    "    #fig_2 = px.treemap(df.query('Variable != \"GE3_partial\"'), path=['Item', 'name', 'scenario'], values='Value', )\n",
    "    fig_1 = px.treemap(df.query('Variable != \"GE3_partial\"'), path=['scenario', 'Item', 'name'], values='Value',  color='scenario', color_discrete_map={'BAU': 'grey', 'scenario 1': '#D8A488', 'scenario 2': '#86BBD8'})\n",
    "\n",
    "    \n",
    "    df.loc[df.Variable == 'GE3_partial', 'unit'] = 'gigagrams (CO2eq)'\n",
    "    df.loc[df.Variable == 'GE3_partial', 'name'] = 'Non-CO2 agricultural emissions'\n",
    "\n",
    "\n",
    "    df = df.merge(model_dictionnary['GE3_model'].summary_df[['name']], left_on='Item', right_index=True, how='left', suffixes=('_target', '_source'))\n",
    "    df['name'] = df['name_target']\n",
    "    df.loc[df.name_source.isna(), 'name'] = df.loc[df.name_source.isna(), 'Item']\n",
    "\n",
    "    df.loc[df.name_source.isna(), 'name_source'] = df.loc[df.name_source.isna(), 'Item']\n",
    "\n",
    "    df.loc[df.name_target.isna(), 'name_target'] = df.loc[df.name_target.isna(), 'Variable']\n",
    "    \n",
    "    fig_2 = sankeyplot(df, 'name_source', 'name_target')\n",
    "    return fig_1, fig_2, {}\n"
   ]
  },
  {
   "cell_type": "code",
   "execution_count": 21,
   "metadata": {
    "ExecuteTime": {
     "end_time": "2021-06-11T04:01:44.665460Z",
     "start_time": "2021-06-11T04:01:44.025196Z"
    }
   },
   "outputs": [
    {
     "name": "stderr",
     "output_type": "stream",
     "text": [
      "/home/simon/anaconda3/lib/python3.7/site-packages/pandas/core/indexes/multi.py:3585: RuntimeWarning:\n",
      "\n",
      "The values in the array are unorderable. Pass `sort=False` to suppress this warning.\n",
      "\n"
     ]
    }
   ],
   "source": [
    "data_dict = scenario_data_dictionnary['GE3_model']\n",
    "\n",
    "args_dict_1 = dict(MM_Ti=1/3, MM_ASi=1/3, MM_LPi=1/3)\n",
    "args_dict_2 = dict(MM_Ti=1/3, MM_ASi=1/3, MM_LPi=1/3, TAi_pct_Cattle_non_dairy=1/2)\n",
    "\n",
    "fig_1, fig_2, __ = run_all_scenarios_GE3(data_dict, 'FRA', args_dict_1, args_dict_2)\n",
    " \n",
    "\n",
    "#sankeyplot(df, 'Item', 'Variable')"
   ]
  },
  {
   "cell_type": "code",
   "execution_count": 22,
   "metadata": {
    "ExecuteTime": {
     "end_time": "2021-06-11T04:01:44.681378Z",
     "start_time": "2021-06-11T04:01:44.667782Z"
    }
   },
   "outputs": [
    {
     "data": {
      "application/vnd.plotly.v1+json": {
       "config": {
        "plotlyServerURL": "https://plot.ly"
       },
       "data": [
        {
         "link": {
          "color": [
           "grey",
           "grey",
           "grey",
           "grey",
           "grey",
           "grey",
           "grey",
           "grey",
           "grey",
           "grey",
           "grey",
           "grey",
           "grey",
           "grey",
           "grey",
           "grey",
           "grey",
           "grey",
           "grey",
           "grey",
           "grey",
           "grey",
           "grey",
           "grey",
           "grey",
           "grey",
           "grey",
           "grey",
           "grey",
           "grey",
           "grey",
           "grey",
           "grey",
           "grey",
           "grey",
           "grey",
           "grey",
           "grey",
           "grey",
           "grey",
           "grey",
           "grey",
           "grey",
           "grey",
           "grey",
           "grey",
           "grey",
           "grey",
           "grey",
           "grey",
           "#D8A488",
           "#D8A488",
           "#D8A488",
           "#D8A488",
           "#D8A488",
           "#D8A488",
           "#D8A488",
           "#D8A488",
           "#D8A488",
           "#D8A488",
           "#D8A488",
           "#D8A488",
           "#D8A488",
           "#D8A488",
           "#D8A488",
           "#D8A488",
           "#D8A488",
           "#D8A488",
           "#D8A488",
           "#D8A488",
           "#D8A488",
           "#D8A488",
           "#D8A488",
           "#D8A488",
           "#D8A488",
           "#D8A488",
           "#D8A488",
           "#D8A488",
           "#D8A488",
           "#D8A488",
           "#D8A488",
           "#D8A488",
           "#D8A488",
           "#D8A488",
           "#D8A488",
           "#D8A488",
           "#D8A488",
           "#D8A488",
           "#D8A488",
           "#D8A488",
           "#D8A488",
           "#D8A488",
           "#D8A488",
           "#D8A488",
           "#D8A488",
           "#D8A488",
           "#D8A488",
           "#D8A488",
           "#D8A488",
           "#D8A488",
           "#86BBD8",
           "#86BBD8",
           "#86BBD8",
           "#86BBD8",
           "#86BBD8",
           "#86BBD8",
           "#86BBD8",
           "#86BBD8",
           "#86BBD8",
           "#86BBD8",
           "#86BBD8",
           "#86BBD8",
           "#86BBD8",
           "#86BBD8",
           "#86BBD8",
           "#86BBD8",
           "#86BBD8",
           "#86BBD8",
           "#86BBD8",
           "#86BBD8",
           "#86BBD8",
           "#86BBD8",
           "#86BBD8",
           "#86BBD8",
           "#86BBD8",
           "#86BBD8",
           "#86BBD8",
           "#86BBD8",
           "#86BBD8",
           "#86BBD8",
           "#86BBD8",
           "#86BBD8",
           "#86BBD8",
           "#86BBD8",
           "#86BBD8",
           "#86BBD8",
           "#86BBD8",
           "#86BBD8",
           "#86BBD8",
           "#86BBD8",
           "#86BBD8",
           "#86BBD8",
           "#86BBD8",
           "#86BBD8",
           "#86BBD8",
           "#86BBD8",
           "#86BBD8",
           "#86BBD8",
           "#86BBD8",
           "#86BBD8"
          ],
          "source": [
           0,
           1,
           2,
           3,
           4,
           5,
           10,
           11,
           12,
           14,
           15,
           16,
           17,
           0,
           1,
           2,
           3,
           4,
           5,
           10,
           11,
           12,
           14,
           17,
           0,
           1,
           2,
           3,
           4,
           5,
           10,
           11,
           12,
           14,
           15,
           16,
           17,
           0,
           1,
           2,
           10,
           11,
           12,
           14,
           15,
           16,
           6,
           7,
           9,
           8,
           0,
           1,
           2,
           3,
           4,
           5,
           10,
           11,
           12,
           14,
           15,
           16,
           17,
           0,
           1,
           2,
           3,
           4,
           5,
           10,
           11,
           12,
           14,
           17,
           0,
           1,
           2,
           3,
           4,
           5,
           10,
           11,
           12,
           14,
           15,
           16,
           17,
           0,
           1,
           2,
           10,
           11,
           12,
           14,
           15,
           16,
           6,
           7,
           9,
           8,
           0,
           1,
           2,
           3,
           4,
           5,
           10,
           11,
           12,
           14,
           15,
           16,
           17,
           0,
           1,
           2,
           3,
           4,
           5,
           10,
           11,
           12,
           14,
           17,
           0,
           1,
           2,
           3,
           4,
           5,
           10,
           11,
           12,
           14,
           15,
           16,
           17,
           0,
           1,
           2,
           10,
           11,
           12,
           14,
           15,
           16,
           6,
           7,
           9,
           8
          ],
          "target": [
           7,
           7,
           7,
           7,
           7,
           7,
           7,
           7,
           7,
           7,
           7,
           7,
           7,
           9,
           9,
           9,
           9,
           9,
           9,
           9,
           9,
           9,
           9,
           9,
           8,
           8,
           8,
           8,
           8,
           8,
           8,
           8,
           8,
           8,
           8,
           8,
           8,
           6,
           6,
           6,
           6,
           6,
           6,
           6,
           6,
           6,
           13,
           13,
           13,
           13,
           7,
           7,
           7,
           7,
           7,
           7,
           7,
           7,
           7,
           7,
           7,
           7,
           7,
           9,
           9,
           9,
           9,
           9,
           9,
           9,
           9,
           9,
           9,
           9,
           8,
           8,
           8,
           8,
           8,
           8,
           8,
           8,
           8,
           8,
           8,
           8,
           8,
           6,
           6,
           6,
           6,
           6,
           6,
           6,
           6,
           6,
           13,
           13,
           13,
           13,
           7,
           7,
           7,
           7,
           7,
           7,
           7,
           7,
           7,
           7,
           7,
           7,
           7,
           9,
           9,
           9,
           9,
           9,
           9,
           9,
           9,
           9,
           9,
           9,
           8,
           8,
           8,
           8,
           8,
           8,
           8,
           8,
           8,
           8,
           8,
           8,
           8,
           6,
           6,
           6,
           6,
           6,
           6,
           6,
           6,
           6,
           13,
           13,
           13,
           13
          ],
          "value": [
           0.10461569360184773,
           1349.16319200444,
           2723.340655215642,
           262.1157434378894,
           253.6493494779027,
           133.42143295886223,
           6.503019630568457,
           3.6940223860978993,
           0.09612554248354185,
           94.76822908750508,
           199.00329415131037,
           539.0607304900859,
           235.28701860644983,
           0.8717974466820667,
           1472.1700557449662,
           2990.464677798901,
           151.26359382594896,
           146.98261447398718,
           77.31394180006679,
           54.19183025636113,
           30.783519881365255,
           0.8010461896827867,
           245.8319820682293,
           136.34216376958798,
           0.5227205138467999,
           2782.8315791548184,
           3920.356566749433,
           138.5025825548049,
           316.7477402309862,
           57.775485569967145,
           5.819113967611348,
           13.441677778915349,
           0.48029880953969994,
           69.66635527151432,
           367.6243596529664,
           1788.0781697239158,
           119.71686475560506,
           6.396599999999999,
           8728.335251999999,
           17948.591261999998,
           136.35888,
           140.193018,
           5.877479999999999,
           1183.090608,
           41.972868,
           377.7559065,
           28568.571874499998,
           5800.207428682839,
           5307.017223255779,
           9581.563514733924,
           0.8717974466820667,
           866.3387570844865,
           1759.8207774701352,
           89.38303271533348,
           86.4959418509472,
           45.4975048453068,
           54.19183025636113,
           30.783519881365255,
           0.8010461896827867,
           245.8319820682293,
           93.82996748294771,
           258.94640361124175,
           80.23427744465467,
           0.8717974466820667,
           1472.1700557449662,
           2990.464677798901,
           151.26359382594896,
           146.98261447398718,
           77.31394180006679,
           54.19183025636113,
           30.783519881365255,
           0.8010461896827867,
           245.8319820682293,
           136.34216376958798,
           0.7909658820566666,
           2121.263801017574,
           2973.2530210564864,
           76.65952481455949,
           256.9022263377504,
           26.2963028469276,
           22.493523277329068,
           22.913530049987855,
           0.7267745603086666,
           134.68289766188963,
           300.6966905392555,
           1603.3751405746384,
           64.20372202571599,
           6.396599999999999,
           8728.335251999999,
           17948.591261999998,
           136.35888,
           140.193018,
           5.877479999999999,
           1183.090608,
           41.972868,
           377.7559065,
           28568.571874499998,
           3613.026838347374,
           5307.017223255779,
           7604.258120644478,
           0.8717974466820667,
           866.3387570844865,
           879.9103887350676,
           89.38303271533348,
           86.4959418509472,
           45.4975048453068,
           54.19183025636113,
           30.783519881365255,
           0.8010461896827867,
           245.8319820682293,
           93.82996748294771,
           258.94640361124175,
           80.23427744465467,
           0.8717974466820667,
           1472.1700557449662,
           1495.2323388994505,
           151.26359382594896,
           146.98261447398718,
           77.31394180006679,
           54.19183025636113,
           30.783519881365255,
           0.8010461896827867,
           245.8319820682293,
           136.34216376958798,
           0.7909658820566666,
           2121.263801017574,
           1486.6265105282432,
           76.65952481455949,
           256.9022263377504,
           26.2963028469276,
           22.493523277329068,
           22.913530049987855,
           0.7267745603086666,
           134.68289766188963,
           300.6966905392555,
           1603.3751405746384,
           64.20372202571599,
           6.396599999999999,
           8728.335251999999,
           8974.295630999999,
           136.35888,
           140.193018,
           5.877479999999999,
           1183.090608,
           41.972868,
           377.7559065,
           19594.276243499997,
           2733.1164496123065,
           3811.7848843563283,
           6117.6316101162365
          ]
         },
         "node": {
          "color": "lightgrey",
          "label": [
           "Asses",
           "Cattle, dairy",
           "Cattle, non-dairy",
           "Chickens, broilers",
           "Chickens, layers",
           "Ducks",
           "Emissions (CO2eq) (Enteric)",
           "Emissions (CO2eq) (Manure applied)",
           "Emissions (CO2eq) (Manure management)",
           "Emissions (CO2eq) (Manure on pasture)",
           "Goats",
           "Horses",
           "Mules",
           "Non-CO2 agricultural emissions",
           "Sheep",
           "Swine, breeding",
           "Swine, market",
           "Turkeys"
          ],
          "line": {
           "color": "black",
           "width": 0.5
          },
          "pad": 15,
          "thickness": 20
         },
         "type": "sankey",
         "valueformat": ".00f",
         "valuesuffix": " Gg(CO2eq)"
        }
       ],
       "layout": {
        "template": {
         "data": {
          "bar": [
           {
            "error_x": {
             "color": "#2a3f5f"
            },
            "error_y": {
             "color": "#2a3f5f"
            },
            "marker": {
             "line": {
              "color": "#E5ECF6",
              "width": 0.5
             }
            },
            "type": "bar"
           }
          ],
          "barpolar": [
           {
            "marker": {
             "line": {
              "color": "#E5ECF6",
              "width": 0.5
             }
            },
            "type": "barpolar"
           }
          ],
          "carpet": [
           {
            "aaxis": {
             "endlinecolor": "#2a3f5f",
             "gridcolor": "white",
             "linecolor": "white",
             "minorgridcolor": "white",
             "startlinecolor": "#2a3f5f"
            },
            "baxis": {
             "endlinecolor": "#2a3f5f",
             "gridcolor": "white",
             "linecolor": "white",
             "minorgridcolor": "white",
             "startlinecolor": "#2a3f5f"
            },
            "type": "carpet"
           }
          ],
          "choropleth": [
           {
            "colorbar": {
             "outlinewidth": 0,
             "ticks": ""
            },
            "type": "choropleth"
           }
          ],
          "contour": [
           {
            "colorbar": {
             "outlinewidth": 0,
             "ticks": ""
            },
            "colorscale": [
             [
              0,
              "#0d0887"
             ],
             [
              0.1111111111111111,
              "#46039f"
             ],
             [
              0.2222222222222222,
              "#7201a8"
             ],
             [
              0.3333333333333333,
              "#9c179e"
             ],
             [
              0.4444444444444444,
              "#bd3786"
             ],
             [
              0.5555555555555556,
              "#d8576b"
             ],
             [
              0.6666666666666666,
              "#ed7953"
             ],
             [
              0.7777777777777778,
              "#fb9f3a"
             ],
             [
              0.8888888888888888,
              "#fdca26"
             ],
             [
              1,
              "#f0f921"
             ]
            ],
            "type": "contour"
           }
          ],
          "contourcarpet": [
           {
            "colorbar": {
             "outlinewidth": 0,
             "ticks": ""
            },
            "type": "contourcarpet"
           }
          ],
          "heatmap": [
           {
            "colorbar": {
             "outlinewidth": 0,
             "ticks": ""
            },
            "colorscale": [
             [
              0,
              "#0d0887"
             ],
             [
              0.1111111111111111,
              "#46039f"
             ],
             [
              0.2222222222222222,
              "#7201a8"
             ],
             [
              0.3333333333333333,
              "#9c179e"
             ],
             [
              0.4444444444444444,
              "#bd3786"
             ],
             [
              0.5555555555555556,
              "#d8576b"
             ],
             [
              0.6666666666666666,
              "#ed7953"
             ],
             [
              0.7777777777777778,
              "#fb9f3a"
             ],
             [
              0.8888888888888888,
              "#fdca26"
             ],
             [
              1,
              "#f0f921"
             ]
            ],
            "type": "heatmap"
           }
          ],
          "heatmapgl": [
           {
            "colorbar": {
             "outlinewidth": 0,
             "ticks": ""
            },
            "colorscale": [
             [
              0,
              "#0d0887"
             ],
             [
              0.1111111111111111,
              "#46039f"
             ],
             [
              0.2222222222222222,
              "#7201a8"
             ],
             [
              0.3333333333333333,
              "#9c179e"
             ],
             [
              0.4444444444444444,
              "#bd3786"
             ],
             [
              0.5555555555555556,
              "#d8576b"
             ],
             [
              0.6666666666666666,
              "#ed7953"
             ],
             [
              0.7777777777777778,
              "#fb9f3a"
             ],
             [
              0.8888888888888888,
              "#fdca26"
             ],
             [
              1,
              "#f0f921"
             ]
            ],
            "type": "heatmapgl"
           }
          ],
          "histogram": [
           {
            "marker": {
             "colorbar": {
              "outlinewidth": 0,
              "ticks": ""
             }
            },
            "type": "histogram"
           }
          ],
          "histogram2d": [
           {
            "colorbar": {
             "outlinewidth": 0,
             "ticks": ""
            },
            "colorscale": [
             [
              0,
              "#0d0887"
             ],
             [
              0.1111111111111111,
              "#46039f"
             ],
             [
              0.2222222222222222,
              "#7201a8"
             ],
             [
              0.3333333333333333,
              "#9c179e"
             ],
             [
              0.4444444444444444,
              "#bd3786"
             ],
             [
              0.5555555555555556,
              "#d8576b"
             ],
             [
              0.6666666666666666,
              "#ed7953"
             ],
             [
              0.7777777777777778,
              "#fb9f3a"
             ],
             [
              0.8888888888888888,
              "#fdca26"
             ],
             [
              1,
              "#f0f921"
             ]
            ],
            "type": "histogram2d"
           }
          ],
          "histogram2dcontour": [
           {
            "colorbar": {
             "outlinewidth": 0,
             "ticks": ""
            },
            "colorscale": [
             [
              0,
              "#0d0887"
             ],
             [
              0.1111111111111111,
              "#46039f"
             ],
             [
              0.2222222222222222,
              "#7201a8"
             ],
             [
              0.3333333333333333,
              "#9c179e"
             ],
             [
              0.4444444444444444,
              "#bd3786"
             ],
             [
              0.5555555555555556,
              "#d8576b"
             ],
             [
              0.6666666666666666,
              "#ed7953"
             ],
             [
              0.7777777777777778,
              "#fb9f3a"
             ],
             [
              0.8888888888888888,
              "#fdca26"
             ],
             [
              1,
              "#f0f921"
             ]
            ],
            "type": "histogram2dcontour"
           }
          ],
          "mesh3d": [
           {
            "colorbar": {
             "outlinewidth": 0,
             "ticks": ""
            },
            "type": "mesh3d"
           }
          ],
          "parcoords": [
           {
            "line": {
             "colorbar": {
              "outlinewidth": 0,
              "ticks": ""
             }
            },
            "type": "parcoords"
           }
          ],
          "pie": [
           {
            "automargin": true,
            "type": "pie"
           }
          ],
          "scatter": [
           {
            "marker": {
             "colorbar": {
              "outlinewidth": 0,
              "ticks": ""
             }
            },
            "type": "scatter"
           }
          ],
          "scatter3d": [
           {
            "line": {
             "colorbar": {
              "outlinewidth": 0,
              "ticks": ""
             }
            },
            "marker": {
             "colorbar": {
              "outlinewidth": 0,
              "ticks": ""
             }
            },
            "type": "scatter3d"
           }
          ],
          "scattercarpet": [
           {
            "marker": {
             "colorbar": {
              "outlinewidth": 0,
              "ticks": ""
             }
            },
            "type": "scattercarpet"
           }
          ],
          "scattergeo": [
           {
            "marker": {
             "colorbar": {
              "outlinewidth": 0,
              "ticks": ""
             }
            },
            "type": "scattergeo"
           }
          ],
          "scattergl": [
           {
            "marker": {
             "colorbar": {
              "outlinewidth": 0,
              "ticks": ""
             }
            },
            "type": "scattergl"
           }
          ],
          "scattermapbox": [
           {
            "marker": {
             "colorbar": {
              "outlinewidth": 0,
              "ticks": ""
             }
            },
            "type": "scattermapbox"
           }
          ],
          "scatterpolar": [
           {
            "marker": {
             "colorbar": {
              "outlinewidth": 0,
              "ticks": ""
             }
            },
            "type": "scatterpolar"
           }
          ],
          "scatterpolargl": [
           {
            "marker": {
             "colorbar": {
              "outlinewidth": 0,
              "ticks": ""
             }
            },
            "type": "scatterpolargl"
           }
          ],
          "scatterternary": [
           {
            "marker": {
             "colorbar": {
              "outlinewidth": 0,
              "ticks": ""
             }
            },
            "type": "scatterternary"
           }
          ],
          "surface": [
           {
            "colorbar": {
             "outlinewidth": 0,
             "ticks": ""
            },
            "colorscale": [
             [
              0,
              "#0d0887"
             ],
             [
              0.1111111111111111,
              "#46039f"
             ],
             [
              0.2222222222222222,
              "#7201a8"
             ],
             [
              0.3333333333333333,
              "#9c179e"
             ],
             [
              0.4444444444444444,
              "#bd3786"
             ],
             [
              0.5555555555555556,
              "#d8576b"
             ],
             [
              0.6666666666666666,
              "#ed7953"
             ],
             [
              0.7777777777777778,
              "#fb9f3a"
             ],
             [
              0.8888888888888888,
              "#fdca26"
             ],
             [
              1,
              "#f0f921"
             ]
            ],
            "type": "surface"
           }
          ],
          "table": [
           {
            "cells": {
             "fill": {
              "color": "#EBF0F8"
             },
             "line": {
              "color": "white"
             }
            },
            "header": {
             "fill": {
              "color": "#C8D4E3"
             },
             "line": {
              "color": "white"
             }
            },
            "type": "table"
           }
          ]
         },
         "layout": {
          "annotationdefaults": {
           "arrowcolor": "#2a3f5f",
           "arrowhead": 0,
           "arrowwidth": 1
          },
          "autotypenumbers": "strict",
          "coloraxis": {
           "colorbar": {
            "outlinewidth": 0,
            "ticks": ""
           }
          },
          "colorscale": {
           "diverging": [
            [
             0,
             "#8e0152"
            ],
            [
             0.1,
             "#c51b7d"
            ],
            [
             0.2,
             "#de77ae"
            ],
            [
             0.3,
             "#f1b6da"
            ],
            [
             0.4,
             "#fde0ef"
            ],
            [
             0.5,
             "#f7f7f7"
            ],
            [
             0.6,
             "#e6f5d0"
            ],
            [
             0.7,
             "#b8e186"
            ],
            [
             0.8,
             "#7fbc41"
            ],
            [
             0.9,
             "#4d9221"
            ],
            [
             1,
             "#276419"
            ]
           ],
           "sequential": [
            [
             0,
             "#0d0887"
            ],
            [
             0.1111111111111111,
             "#46039f"
            ],
            [
             0.2222222222222222,
             "#7201a8"
            ],
            [
             0.3333333333333333,
             "#9c179e"
            ],
            [
             0.4444444444444444,
             "#bd3786"
            ],
            [
             0.5555555555555556,
             "#d8576b"
            ],
            [
             0.6666666666666666,
             "#ed7953"
            ],
            [
             0.7777777777777778,
             "#fb9f3a"
            ],
            [
             0.8888888888888888,
             "#fdca26"
            ],
            [
             1,
             "#f0f921"
            ]
           ],
           "sequentialminus": [
            [
             0,
             "#0d0887"
            ],
            [
             0.1111111111111111,
             "#46039f"
            ],
            [
             0.2222222222222222,
             "#7201a8"
            ],
            [
             0.3333333333333333,
             "#9c179e"
            ],
            [
             0.4444444444444444,
             "#bd3786"
            ],
            [
             0.5555555555555556,
             "#d8576b"
            ],
            [
             0.6666666666666666,
             "#ed7953"
            ],
            [
             0.7777777777777778,
             "#fb9f3a"
            ],
            [
             0.8888888888888888,
             "#fdca26"
            ],
            [
             1,
             "#f0f921"
            ]
           ]
          },
          "colorway": [
           "#636efa",
           "#EF553B",
           "#00cc96",
           "#ab63fa",
           "#FFA15A",
           "#19d3f3",
           "#FF6692",
           "#B6E880",
           "#FF97FF",
           "#FECB52"
          ],
          "font": {
           "color": "#2a3f5f"
          },
          "geo": {
           "bgcolor": "white",
           "lakecolor": "white",
           "landcolor": "#E5ECF6",
           "showlakes": true,
           "showland": true,
           "subunitcolor": "white"
          },
          "hoverlabel": {
           "align": "left"
          },
          "hovermode": "closest",
          "mapbox": {
           "style": "light"
          },
          "paper_bgcolor": "white",
          "plot_bgcolor": "#E5ECF6",
          "polar": {
           "angularaxis": {
            "gridcolor": "white",
            "linecolor": "white",
            "ticks": ""
           },
           "bgcolor": "#E5ECF6",
           "radialaxis": {
            "gridcolor": "white",
            "linecolor": "white",
            "ticks": ""
           }
          },
          "scene": {
           "xaxis": {
            "backgroundcolor": "#E5ECF6",
            "gridcolor": "white",
            "gridwidth": 2,
            "linecolor": "white",
            "showbackground": true,
            "ticks": "",
            "zerolinecolor": "white"
           },
           "yaxis": {
            "backgroundcolor": "#E5ECF6",
            "gridcolor": "white",
            "gridwidth": 2,
            "linecolor": "white",
            "showbackground": true,
            "ticks": "",
            "zerolinecolor": "white"
           },
           "zaxis": {
            "backgroundcolor": "#E5ECF6",
            "gridcolor": "white",
            "gridwidth": 2,
            "linecolor": "white",
            "showbackground": true,
            "ticks": "",
            "zerolinecolor": "white"
           }
          },
          "shapedefaults": {
           "line": {
            "color": "#2a3f5f"
           }
          },
          "ternary": {
           "aaxis": {
            "gridcolor": "white",
            "linecolor": "white",
            "ticks": ""
           },
           "baxis": {
            "gridcolor": "white",
            "linecolor": "white",
            "ticks": ""
           },
           "bgcolor": "#E5ECF6",
           "caxis": {
            "gridcolor": "white",
            "linecolor": "white",
            "ticks": ""
           }
          },
          "title": {
           "x": 0.05
          },
          "xaxis": {
           "automargin": true,
           "gridcolor": "white",
           "linecolor": "white",
           "ticks": "",
           "title": {
            "standoff": 15
           },
           "zerolinecolor": "white",
           "zerolinewidth": 2
          },
          "yaxis": {
           "automargin": true,
           "gridcolor": "white",
           "linecolor": "white",
           "ticks": "",
           "title": {
            "standoff": 15
           },
           "zerolinecolor": "white",
           "zerolinewidth": 2
          }
         }
        }
       }
      },
      "text/html": [
       "<div>                            <div id=\"b65c9dc9-a367-4093-ae68-d58310fbd9b5\" class=\"plotly-graph-div\" style=\"height:525px; width:100%;\"></div>            <script type=\"text/javascript\">                require([\"plotly\"], function(Plotly) {                    window.PLOTLYENV=window.PLOTLYENV || {};                                    if (document.getElementById(\"b65c9dc9-a367-4093-ae68-d58310fbd9b5\")) {                    Plotly.newPlot(                        \"b65c9dc9-a367-4093-ae68-d58310fbd9b5\",                        [{\"link\": {\"color\": [\"grey\", \"grey\", \"grey\", \"grey\", \"grey\", \"grey\", \"grey\", \"grey\", \"grey\", \"grey\", \"grey\", \"grey\", \"grey\", \"grey\", \"grey\", \"grey\", \"grey\", \"grey\", \"grey\", \"grey\", \"grey\", \"grey\", \"grey\", \"grey\", \"grey\", \"grey\", \"grey\", \"grey\", \"grey\", \"grey\", \"grey\", \"grey\", \"grey\", \"grey\", \"grey\", \"grey\", \"grey\", \"grey\", \"grey\", \"grey\", \"grey\", \"grey\", \"grey\", \"grey\", \"grey\", \"grey\", \"grey\", \"grey\", \"grey\", \"grey\", \"#D8A488\", \"#D8A488\", \"#D8A488\", \"#D8A488\", \"#D8A488\", \"#D8A488\", \"#D8A488\", \"#D8A488\", \"#D8A488\", \"#D8A488\", \"#D8A488\", \"#D8A488\", \"#D8A488\", \"#D8A488\", \"#D8A488\", \"#D8A488\", \"#D8A488\", \"#D8A488\", \"#D8A488\", \"#D8A488\", \"#D8A488\", \"#D8A488\", \"#D8A488\", \"#D8A488\", \"#D8A488\", \"#D8A488\", \"#D8A488\", \"#D8A488\", \"#D8A488\", \"#D8A488\", \"#D8A488\", \"#D8A488\", \"#D8A488\", \"#D8A488\", \"#D8A488\", \"#D8A488\", \"#D8A488\", \"#D8A488\", \"#D8A488\", \"#D8A488\", \"#D8A488\", \"#D8A488\", \"#D8A488\", \"#D8A488\", \"#D8A488\", \"#D8A488\", \"#D8A488\", \"#D8A488\", \"#D8A488\", \"#D8A488\", \"#86BBD8\", \"#86BBD8\", \"#86BBD8\", \"#86BBD8\", \"#86BBD8\", \"#86BBD8\", \"#86BBD8\", \"#86BBD8\", \"#86BBD8\", \"#86BBD8\", \"#86BBD8\", \"#86BBD8\", \"#86BBD8\", \"#86BBD8\", \"#86BBD8\", \"#86BBD8\", \"#86BBD8\", \"#86BBD8\", \"#86BBD8\", \"#86BBD8\", \"#86BBD8\", \"#86BBD8\", \"#86BBD8\", \"#86BBD8\", \"#86BBD8\", \"#86BBD8\", \"#86BBD8\", \"#86BBD8\", \"#86BBD8\", \"#86BBD8\", \"#86BBD8\", \"#86BBD8\", \"#86BBD8\", \"#86BBD8\", \"#86BBD8\", \"#86BBD8\", \"#86BBD8\", \"#86BBD8\", \"#86BBD8\", \"#86BBD8\", \"#86BBD8\", \"#86BBD8\", \"#86BBD8\", \"#86BBD8\", \"#86BBD8\", \"#86BBD8\", \"#86BBD8\", \"#86BBD8\", \"#86BBD8\", \"#86BBD8\"], \"source\": [0, 1, 2, 3, 4, 5, 10, 11, 12, 14, 15, 16, 17, 0, 1, 2, 3, 4, 5, 10, 11, 12, 14, 17, 0, 1, 2, 3, 4, 5, 10, 11, 12, 14, 15, 16, 17, 0, 1, 2, 10, 11, 12, 14, 15, 16, 6, 7, 9, 8, 0, 1, 2, 3, 4, 5, 10, 11, 12, 14, 15, 16, 17, 0, 1, 2, 3, 4, 5, 10, 11, 12, 14, 17, 0, 1, 2, 3, 4, 5, 10, 11, 12, 14, 15, 16, 17, 0, 1, 2, 10, 11, 12, 14, 15, 16, 6, 7, 9, 8, 0, 1, 2, 3, 4, 5, 10, 11, 12, 14, 15, 16, 17, 0, 1, 2, 3, 4, 5, 10, 11, 12, 14, 17, 0, 1, 2, 3, 4, 5, 10, 11, 12, 14, 15, 16, 17, 0, 1, 2, 10, 11, 12, 14, 15, 16, 6, 7, 9, 8], \"target\": [7, 7, 7, 7, 7, 7, 7, 7, 7, 7, 7, 7, 7, 9, 9, 9, 9, 9, 9, 9, 9, 9, 9, 9, 8, 8, 8, 8, 8, 8, 8, 8, 8, 8, 8, 8, 8, 6, 6, 6, 6, 6, 6, 6, 6, 6, 13, 13, 13, 13, 7, 7, 7, 7, 7, 7, 7, 7, 7, 7, 7, 7, 7, 9, 9, 9, 9, 9, 9, 9, 9, 9, 9, 9, 8, 8, 8, 8, 8, 8, 8, 8, 8, 8, 8, 8, 8, 6, 6, 6, 6, 6, 6, 6, 6, 6, 13, 13, 13, 13, 7, 7, 7, 7, 7, 7, 7, 7, 7, 7, 7, 7, 7, 9, 9, 9, 9, 9, 9, 9, 9, 9, 9, 9, 8, 8, 8, 8, 8, 8, 8, 8, 8, 8, 8, 8, 8, 6, 6, 6, 6, 6, 6, 6, 6, 6, 13, 13, 13, 13], \"value\": [0.10461569360184773, 1349.16319200444, 2723.340655215642, 262.1157434378894, 253.6493494779027, 133.42143295886223, 6.503019630568457, 3.6940223860978993, 0.09612554248354185, 94.76822908750508, 199.00329415131037, 539.0607304900859, 235.28701860644983, 0.8717974466820667, 1472.1700557449662, 2990.464677798901, 151.26359382594896, 146.98261447398718, 77.31394180006679, 54.19183025636113, 30.783519881365255, 0.8010461896827867, 245.8319820682293, 136.34216376958798, 0.5227205138467999, 2782.8315791548184, 3920.356566749433, 138.5025825548049, 316.7477402309862, 57.775485569967145, 5.819113967611348, 13.441677778915349, 0.48029880953969994, 69.66635527151432, 367.6243596529664, 1788.0781697239158, 119.71686475560506, 6.396599999999999, 8728.335251999999, 17948.591261999998, 136.35888, 140.193018, 5.877479999999999, 1183.090608, 41.972868, 377.7559065, 28568.571874499998, 5800.207428682839, 5307.017223255779, 9581.563514733924, 0.8717974466820667, 866.3387570844865, 1759.8207774701352, 89.38303271533348, 86.4959418509472, 45.4975048453068, 54.19183025636113, 30.783519881365255, 0.8010461896827867, 245.8319820682293, 93.82996748294771, 258.94640361124175, 80.23427744465467, 0.8717974466820667, 1472.1700557449662, 2990.464677798901, 151.26359382594896, 146.98261447398718, 77.31394180006679, 54.19183025636113, 30.783519881365255, 0.8010461896827867, 245.8319820682293, 136.34216376958798, 0.7909658820566666, 2121.263801017574, 2973.2530210564864, 76.65952481455949, 256.9022263377504, 26.2963028469276, 22.493523277329068, 22.913530049987855, 0.7267745603086666, 134.68289766188963, 300.6966905392555, 1603.3751405746384, 64.20372202571599, 6.396599999999999, 8728.335251999999, 17948.591261999998, 136.35888, 140.193018, 5.877479999999999, 1183.090608, 41.972868, 377.7559065, 28568.571874499998, 3613.026838347374, 5307.017223255779, 7604.258120644478, 0.8717974466820667, 866.3387570844865, 879.9103887350676, 89.38303271533348, 86.4959418509472, 45.4975048453068, 54.19183025636113, 30.783519881365255, 0.8010461896827867, 245.8319820682293, 93.82996748294771, 258.94640361124175, 80.23427744465467, 0.8717974466820667, 1472.1700557449662, 1495.2323388994505, 151.26359382594896, 146.98261447398718, 77.31394180006679, 54.19183025636113, 30.783519881365255, 0.8010461896827867, 245.8319820682293, 136.34216376958798, 0.7909658820566666, 2121.263801017574, 1486.6265105282432, 76.65952481455949, 256.9022263377504, 26.2963028469276, 22.493523277329068, 22.913530049987855, 0.7267745603086666, 134.68289766188963, 300.6966905392555, 1603.3751405746384, 64.20372202571599, 6.396599999999999, 8728.335251999999, 8974.295630999999, 136.35888, 140.193018, 5.877479999999999, 1183.090608, 41.972868, 377.7559065, 19594.276243499997, 2733.1164496123065, 3811.7848843563283, 6117.6316101162365]}, \"node\": {\"color\": \"lightgrey\", \"label\": [\"Asses\", \"Cattle, dairy\", \"Cattle, non-dairy\", \"Chickens, broilers\", \"Chickens, layers\", \"Ducks\", \"Emissions (CO2eq) (Enteric)\", \"Emissions (CO2eq) (Manure applied)\", \"Emissions (CO2eq) (Manure management)\", \"Emissions (CO2eq) (Manure on pasture)\", \"Goats\", \"Horses\", \"Mules\", \"Non-CO2 agricultural emissions\", \"Sheep\", \"Swine, breeding\", \"Swine, market\", \"Turkeys\"], \"line\": {\"color\": \"black\", \"width\": 0.5}, \"pad\": 15, \"thickness\": 20}, \"type\": \"sankey\", \"valueformat\": \".00f\", \"valuesuffix\": \" Gg(CO2eq)\"}],                        {\"template\": {\"data\": {\"bar\": [{\"error_x\": {\"color\": \"#2a3f5f\"}, \"error_y\": {\"color\": \"#2a3f5f\"}, \"marker\": {\"line\": {\"color\": \"#E5ECF6\", \"width\": 0.5}}, \"type\": \"bar\"}], \"barpolar\": [{\"marker\": {\"line\": {\"color\": \"#E5ECF6\", \"width\": 0.5}}, \"type\": \"barpolar\"}], \"carpet\": [{\"aaxis\": {\"endlinecolor\": \"#2a3f5f\", \"gridcolor\": \"white\", \"linecolor\": \"white\", \"minorgridcolor\": \"white\", \"startlinecolor\": \"#2a3f5f\"}, \"baxis\": {\"endlinecolor\": \"#2a3f5f\", \"gridcolor\": \"white\", \"linecolor\": \"white\", \"minorgridcolor\": \"white\", \"startlinecolor\": \"#2a3f5f\"}, \"type\": \"carpet\"}], \"choropleth\": [{\"colorbar\": {\"outlinewidth\": 0, \"ticks\": \"\"}, \"type\": \"choropleth\"}], \"contour\": [{\"colorbar\": {\"outlinewidth\": 0, \"ticks\": \"\"}, \"colorscale\": [[0.0, \"#0d0887\"], [0.1111111111111111, \"#46039f\"], [0.2222222222222222, \"#7201a8\"], [0.3333333333333333, \"#9c179e\"], [0.4444444444444444, \"#bd3786\"], [0.5555555555555556, \"#d8576b\"], [0.6666666666666666, \"#ed7953\"], [0.7777777777777778, \"#fb9f3a\"], [0.8888888888888888, \"#fdca26\"], [1.0, \"#f0f921\"]], \"type\": \"contour\"}], \"contourcarpet\": [{\"colorbar\": {\"outlinewidth\": 0, \"ticks\": \"\"}, \"type\": \"contourcarpet\"}], \"heatmap\": [{\"colorbar\": {\"outlinewidth\": 0, \"ticks\": \"\"}, \"colorscale\": [[0.0, \"#0d0887\"], [0.1111111111111111, \"#46039f\"], [0.2222222222222222, \"#7201a8\"], [0.3333333333333333, \"#9c179e\"], [0.4444444444444444, \"#bd3786\"], [0.5555555555555556, \"#d8576b\"], [0.6666666666666666, \"#ed7953\"], [0.7777777777777778, \"#fb9f3a\"], [0.8888888888888888, \"#fdca26\"], [1.0, \"#f0f921\"]], \"type\": \"heatmap\"}], \"heatmapgl\": [{\"colorbar\": {\"outlinewidth\": 0, \"ticks\": \"\"}, \"colorscale\": [[0.0, \"#0d0887\"], [0.1111111111111111, \"#46039f\"], [0.2222222222222222, \"#7201a8\"], [0.3333333333333333, \"#9c179e\"], [0.4444444444444444, \"#bd3786\"], [0.5555555555555556, \"#d8576b\"], [0.6666666666666666, \"#ed7953\"], [0.7777777777777778, \"#fb9f3a\"], [0.8888888888888888, \"#fdca26\"], [1.0, \"#f0f921\"]], \"type\": \"heatmapgl\"}], \"histogram\": [{\"marker\": {\"colorbar\": {\"outlinewidth\": 0, \"ticks\": \"\"}}, \"type\": \"histogram\"}], \"histogram2d\": [{\"colorbar\": {\"outlinewidth\": 0, \"ticks\": \"\"}, \"colorscale\": [[0.0, \"#0d0887\"], [0.1111111111111111, \"#46039f\"], [0.2222222222222222, \"#7201a8\"], [0.3333333333333333, \"#9c179e\"], [0.4444444444444444, \"#bd3786\"], [0.5555555555555556, \"#d8576b\"], [0.6666666666666666, \"#ed7953\"], [0.7777777777777778, \"#fb9f3a\"], [0.8888888888888888, \"#fdca26\"], [1.0, \"#f0f921\"]], \"type\": \"histogram2d\"}], \"histogram2dcontour\": [{\"colorbar\": {\"outlinewidth\": 0, \"ticks\": \"\"}, \"colorscale\": [[0.0, \"#0d0887\"], [0.1111111111111111, \"#46039f\"], [0.2222222222222222, \"#7201a8\"], [0.3333333333333333, \"#9c179e\"], [0.4444444444444444, \"#bd3786\"], [0.5555555555555556, \"#d8576b\"], [0.6666666666666666, \"#ed7953\"], [0.7777777777777778, \"#fb9f3a\"], [0.8888888888888888, \"#fdca26\"], [1.0, \"#f0f921\"]], \"type\": \"histogram2dcontour\"}], \"mesh3d\": [{\"colorbar\": {\"outlinewidth\": 0, \"ticks\": \"\"}, \"type\": \"mesh3d\"}], \"parcoords\": [{\"line\": {\"colorbar\": {\"outlinewidth\": 0, \"ticks\": \"\"}}, \"type\": \"parcoords\"}], \"pie\": [{\"automargin\": true, \"type\": \"pie\"}], \"scatter\": [{\"marker\": {\"colorbar\": {\"outlinewidth\": 0, \"ticks\": \"\"}}, \"type\": \"scatter\"}], \"scatter3d\": [{\"line\": {\"colorbar\": {\"outlinewidth\": 0, \"ticks\": \"\"}}, \"marker\": {\"colorbar\": {\"outlinewidth\": 0, \"ticks\": \"\"}}, \"type\": \"scatter3d\"}], \"scattercarpet\": [{\"marker\": {\"colorbar\": {\"outlinewidth\": 0, \"ticks\": \"\"}}, \"type\": \"scattercarpet\"}], \"scattergeo\": [{\"marker\": {\"colorbar\": {\"outlinewidth\": 0, \"ticks\": \"\"}}, \"type\": \"scattergeo\"}], \"scattergl\": [{\"marker\": {\"colorbar\": {\"outlinewidth\": 0, \"ticks\": \"\"}}, \"type\": \"scattergl\"}], \"scattermapbox\": [{\"marker\": {\"colorbar\": {\"outlinewidth\": 0, \"ticks\": \"\"}}, \"type\": \"scattermapbox\"}], \"scatterpolar\": [{\"marker\": {\"colorbar\": {\"outlinewidth\": 0, \"ticks\": \"\"}}, \"type\": \"scatterpolar\"}], \"scatterpolargl\": [{\"marker\": {\"colorbar\": {\"outlinewidth\": 0, \"ticks\": \"\"}}, \"type\": \"scatterpolargl\"}], \"scatterternary\": [{\"marker\": {\"colorbar\": {\"outlinewidth\": 0, \"ticks\": \"\"}}, \"type\": \"scatterternary\"}], \"surface\": [{\"colorbar\": {\"outlinewidth\": 0, \"ticks\": \"\"}, \"colorscale\": [[0.0, \"#0d0887\"], [0.1111111111111111, \"#46039f\"], [0.2222222222222222, \"#7201a8\"], [0.3333333333333333, \"#9c179e\"], [0.4444444444444444, \"#bd3786\"], [0.5555555555555556, \"#d8576b\"], [0.6666666666666666, \"#ed7953\"], [0.7777777777777778, \"#fb9f3a\"], [0.8888888888888888, \"#fdca26\"], [1.0, \"#f0f921\"]], \"type\": \"surface\"}], \"table\": [{\"cells\": {\"fill\": {\"color\": \"#EBF0F8\"}, \"line\": {\"color\": \"white\"}}, \"header\": {\"fill\": {\"color\": \"#C8D4E3\"}, \"line\": {\"color\": \"white\"}}, \"type\": \"table\"}]}, \"layout\": {\"annotationdefaults\": {\"arrowcolor\": \"#2a3f5f\", \"arrowhead\": 0, \"arrowwidth\": 1}, \"autotypenumbers\": \"strict\", \"coloraxis\": {\"colorbar\": {\"outlinewidth\": 0, \"ticks\": \"\"}}, \"colorscale\": {\"diverging\": [[0, \"#8e0152\"], [0.1, \"#c51b7d\"], [0.2, \"#de77ae\"], [0.3, \"#f1b6da\"], [0.4, \"#fde0ef\"], [0.5, \"#f7f7f7\"], [0.6, \"#e6f5d0\"], [0.7, \"#b8e186\"], [0.8, \"#7fbc41\"], [0.9, \"#4d9221\"], [1, \"#276419\"]], \"sequential\": [[0.0, \"#0d0887\"], [0.1111111111111111, \"#46039f\"], [0.2222222222222222, \"#7201a8\"], [0.3333333333333333, \"#9c179e\"], [0.4444444444444444, \"#bd3786\"], [0.5555555555555556, \"#d8576b\"], [0.6666666666666666, \"#ed7953\"], [0.7777777777777778, \"#fb9f3a\"], [0.8888888888888888, \"#fdca26\"], [1.0, \"#f0f921\"]], \"sequentialminus\": [[0.0, \"#0d0887\"], [0.1111111111111111, \"#46039f\"], [0.2222222222222222, \"#7201a8\"], [0.3333333333333333, \"#9c179e\"], [0.4444444444444444, \"#bd3786\"], [0.5555555555555556, \"#d8576b\"], [0.6666666666666666, \"#ed7953\"], [0.7777777777777778, \"#fb9f3a\"], [0.8888888888888888, \"#fdca26\"], [1.0, \"#f0f921\"]]}, \"colorway\": [\"#636efa\", \"#EF553B\", \"#00cc96\", \"#ab63fa\", \"#FFA15A\", \"#19d3f3\", \"#FF6692\", \"#B6E880\", \"#FF97FF\", \"#FECB52\"], \"font\": {\"color\": \"#2a3f5f\"}, \"geo\": {\"bgcolor\": \"white\", \"lakecolor\": \"white\", \"landcolor\": \"#E5ECF6\", \"showlakes\": true, \"showland\": true, \"subunitcolor\": \"white\"}, \"hoverlabel\": {\"align\": \"left\"}, \"hovermode\": \"closest\", \"mapbox\": {\"style\": \"light\"}, \"paper_bgcolor\": \"white\", \"plot_bgcolor\": \"#E5ECF6\", \"polar\": {\"angularaxis\": {\"gridcolor\": \"white\", \"linecolor\": \"white\", \"ticks\": \"\"}, \"bgcolor\": \"#E5ECF6\", \"radialaxis\": {\"gridcolor\": \"white\", \"linecolor\": \"white\", \"ticks\": \"\"}}, \"scene\": {\"xaxis\": {\"backgroundcolor\": \"#E5ECF6\", \"gridcolor\": \"white\", \"gridwidth\": 2, \"linecolor\": \"white\", \"showbackground\": true, \"ticks\": \"\", \"zerolinecolor\": \"white\"}, \"yaxis\": {\"backgroundcolor\": \"#E5ECF6\", \"gridcolor\": \"white\", \"gridwidth\": 2, \"linecolor\": \"white\", \"showbackground\": true, \"ticks\": \"\", \"zerolinecolor\": \"white\"}, \"zaxis\": {\"backgroundcolor\": \"#E5ECF6\", \"gridcolor\": \"white\", \"gridwidth\": 2, \"linecolor\": \"white\", \"showbackground\": true, \"ticks\": \"\", \"zerolinecolor\": \"white\"}}, \"shapedefaults\": {\"line\": {\"color\": \"#2a3f5f\"}}, \"ternary\": {\"aaxis\": {\"gridcolor\": \"white\", \"linecolor\": \"white\", \"ticks\": \"\"}, \"baxis\": {\"gridcolor\": \"white\", \"linecolor\": \"white\", \"ticks\": \"\"}, \"bgcolor\": \"#E5ECF6\", \"caxis\": {\"gridcolor\": \"white\", \"linecolor\": \"white\", \"ticks\": \"\"}}, \"title\": {\"x\": 0.05}, \"xaxis\": {\"automargin\": true, \"gridcolor\": \"white\", \"linecolor\": \"white\", \"ticks\": \"\", \"title\": {\"standoff\": 15}, \"zerolinecolor\": \"white\", \"zerolinewidth\": 2}, \"yaxis\": {\"automargin\": true, \"gridcolor\": \"white\", \"linecolor\": \"white\", \"ticks\": \"\", \"title\": {\"standoff\": 15}, \"zerolinecolor\": \"white\", \"zerolinewidth\": 2}}}},                        {\"responsive\": true}                    ).then(function(){\n",
       "                            \n",
       "var gd = document.getElementById('b65c9dc9-a367-4093-ae68-d58310fbd9b5');\n",
       "var x = new MutationObserver(function (mutations, observer) {{\n",
       "        var display = window.getComputedStyle(gd).display;\n",
       "        if (!display || display === 'none') {{\n",
       "            console.log([gd, 'removed!']);\n",
       "            Plotly.purge(gd);\n",
       "            observer.disconnect();\n",
       "        }}\n",
       "}});\n",
       "\n",
       "// Listen for the removal of the full notebook cells\n",
       "var notebookContainer = gd.closest('#notebook-container');\n",
       "if (notebookContainer) {{\n",
       "    x.observe(notebookContainer, {childList: true});\n",
       "}}\n",
       "\n",
       "// Listen for the clearing of the current output cell\n",
       "var outputEl = gd.closest('.output');\n",
       "if (outputEl) {{\n",
       "    x.observe(outputEl, {childList: true});\n",
       "}}\n",
       "\n",
       "                        })                };                });            </script>        </div>"
      ]
     },
     "metadata": {},
     "output_type": "display_data"
    }
   ],
   "source": [
    "fig_2"
   ]
  },
  {
   "cell_type": "code",
   "execution_count": null,
   "metadata": {
    "ExecuteTime": {
     "end_time": "2021-06-11T03:59:07.075004Z",
     "start_time": "2021-06-11T03:58:59.944Z"
    }
   },
   "outputs": [],
   "source": [
    "from ggmodel_dev.models.landuse.GE3 import model_dictionnary\n",
    "df = df.merge(model_dictionnary['GE3_model'].summary_df[['name', 'unit']], left_on='Variable', right_index=True, how='left')\n",
    "\n",
    "df.loc[df.Variable == 'GE3_partial', 'unit'] = 'gigagrams (CO2eq)'\n",
    "df.loc[df.Variable == 'GE3_partial', 'name'] = 'Non-CO2 agricultural emissions'\n",
    "\n",
    "\n",
    "df = df.merge(model_dictionnary['GE3_model'].summary_df[['name']], left_on='Item', right_index=True, how='left', suffixes=('_target', '_source'))\n",
    "df['name'] = df['name_target']\n",
    "df.loc[df.name_source.isna(), 'name'] = df.loc[df.name_source.isna(), 'Item']\n",
    "\n",
    "df.loc[df.name_source.isna(), 'name_source'] = df.loc[df.name_source.isna(), 'Item']\n",
    "\n",
    "df.loc[df.name_target.isna(), 'name_target'] = df.loc[df.name_target.isna(), 'Variable']"
   ]
  },
  {
   "cell_type": "code",
   "execution_count": null,
   "metadata": {
    "ExecuteTime": {
     "end_time": "2021-06-11T03:59:07.076452Z",
     "start_time": "2021-06-11T03:59:00.334Z"
    }
   },
   "outputs": [],
   "source": [
    "df"
   ]
  },
  {
   "cell_type": "code",
   "execution_count": 19,
   "metadata": {
    "ExecuteTime": {
     "end_time": "2021-06-11T04:01:41.156993Z",
     "start_time": "2021-06-11T04:01:41.139939Z"
    }
   },
   "outputs": [],
   "source": [
    "from sklearn.preprocessing import LabelEncoder\n",
    "import plotly.graph_objects as go\n",
    "import pandas as pd\n",
    "\n",
    "\n",
    "def emission_data_dict_to_df(data_dict):\n",
    "\n",
    "    data_dict = data_dict.copy()\n",
    "\n",
    "    data = pd.concat([v.to_frame(name='Value').assign(Variable=k)\n",
    "                      for k, v in data_dict.items()], axis=0).reset_index().dropna()\n",
    "\n",
    "    data = pd.concat([data, data.groupby('Variable').sum().reset_index().rename(\n",
    "        columns={\"Variable\": 'Item'}).assign(Variable='Non-CO2 agricultural emissions')])\n",
    "\n",
    "    return data\n",
    "\n",
    "\n",
    "def encode_source_target(df, source='Item', target='Variable'):\n",
    "\n",
    "    le = LabelEncoder()\n",
    "\n",
    "    encoded = le.fit_transform(\n",
    "        df[[source, target]].values.flatten()).reshape(-1, 2)\n",
    "\n",
    "    return encoded, le.classes_\n",
    "\n",
    "\n",
    "def sankeyplot(df, source, target, valueformat='.00f', valuesuffix=' Gg(CO2eq)'):\n",
    "\n",
    "    data = df.copy()\n",
    "\n",
    "    encoded_s_t, classe_names = encode_source_target(data, source, target)\n",
    "\n",
    "    data[['Source', 'Target']] = encoded_s_t\n",
    "    color_dict = pd.DataFrame({'scenario': ['BAU', 'scenario 1' ,'scenario 2'],\n",
    "                               'color': ['grey', '#D8A488', '#86BBD8']})\n",
    "    \n",
    "    data = data.merge(color_dict, on='scenario')\n",
    "    \n",
    "    fig = go.Figure(data=[go.Sankey(\n",
    "        valueformat=valueformat,\n",
    "        valuesuffix=valuesuffix,\n",
    "        node=dict(\n",
    "            pad=15,\n",
    "            thickness=20,\n",
    "            line=dict(color=\"black\", width=0.5),\n",
    "            label=classe_names,\n",
    "            color='lightgrey'\n",
    "        ),\n",
    "        link=dict(\n",
    "            target=data['Target'],\n",
    "            source=data['Source'],\n",
    "            value=data['Value'],\n",
    "            color=data['color']\n",
    "        ))])\n",
    "\n",
    "    return fig"
   ]
  },
  {
   "cell_type": "code",
   "execution_count": null,
   "metadata": {
    "ExecuteTime": {
     "end_time": "2021-06-11T03:59:07.079432Z",
     "start_time": "2021-06-11T03:59:01.564Z"
    }
   },
   "outputs": [],
   "source": [
    "sankeyplot(df, 'name_source', 'name_target')"
   ]
  },
  {
   "cell_type": "code",
   "execution_count": null,
   "metadata": {},
   "outputs": [],
   "source": []
  },
  {
   "cell_type": "code",
   "execution_count": null,
   "metadata": {},
   "outputs": [],
   "source": []
  }
 ],
 "metadata": {
  "kernelspec": {
   "display_name": "Python 3",
   "language": "python",
   "name": "python3"
  },
  "language_info": {
   "codemirror_mode": {
    "name": "ipython",
    "version": 3
   },
   "file_extension": ".py",
   "mimetype": "text/x-python",
   "name": "python",
   "nbconvert_exporter": "python",
   "pygments_lexer": "ipython3",
   "version": "3.7.7"
  }
 },
 "nbformat": 4,
 "nbformat_minor": 4
}
