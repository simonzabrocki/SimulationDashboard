{
 "cells": [
  {
   "cell_type": "code",
   "execution_count": 11,
   "metadata": {
    "ExecuteTime": {
     "end_time": "2021-12-17T02:11:06.620801Z",
     "start_time": "2021-12-17T02:10:58.365623Z"
    }
   },
   "outputs": [],
   "source": [
    "import pandas as pd\n",
    "from app import indicator_data, indicator_properties, data\n",
    "from pages.country_profile import group_data, circular_plot, missing_bar_plot, Indicator_lolipop, time_series_Index\n",
    "import plotly.express as px\n",
    "import plotly.graph_objs as go\n",
    "import os"
   ]
  },
  {
   "cell_type": "code",
   "execution_count": 12,
   "metadata": {
    "ExecuteTime": {
     "end_time": "2021-12-17T02:11:32.092740Z",
     "start_time": "2021-12-17T02:11:32.083199Z"
    }
   },
   "outputs": [
    {
     "name": "stdout",
     "output_type": "stream",
     "text": [
      "CMR\n",
      "PAN\n",
      "RWA\n"
     ]
    }
   ],
   "source": [
    "available_ISOs = data.query(\"Variable == 'Index' and Year == 2020\").ISO.unique()\n",
    "\n",
    "def export_ISO_plots(ISOs=available_ISOs):\n",
    "    path = 'outputs/plots/'\n",
    "    for ISO in ISOs:\n",
    "        print(ISO)\n",
    "\n",
    "        directory = f'{path}/{ISO}'\n",
    "        if not os.path.exists(directory):\n",
    "            os.makedirs(directory)\n",
    "            \n",
    "        ts = time_series_Index(ISO)\n",
    "        nans = missing_bar_plot(ISO)\n",
    "        ind = Indicator_lolipop(ISO)\n",
    "        cir = circular_plot(ISO)\n",
    "\n",
    "        ts.write_image(f\"{directory}/timeseries.png\", width=1200, height=600)\n",
    "        nans.write_image(f\"{directory}/missingvalues.png\", height=1200, width=600)\n",
    "        ind.write_image(f\"{directory}/indicators.png\", width=1500, height=600)\n",
    "        cir.write_image(f\"{directory}/circular.png\", height=600, width=600)\n",
    "\n",
    "        \n",
    "#export_ISO_plots()\n",
    "export_ISO_plots(ISOs=['CMR', 'PAN','RWA'])"
   ]
  },
  {
   "cell_type": "code",
   "execution_count": null,
   "metadata": {},
   "outputs": [],
   "source": []
  }
 ],
 "metadata": {
  "kernelspec": {
   "display_name": "Python 3",
   "language": "python",
   "name": "python3"
  },
  "language_info": {
   "codemirror_mode": {
    "name": "ipython",
    "version": 3
   },
   "file_extension": ".py",
   "mimetype": "text/x-python",
   "name": "python",
   "nbconvert_exporter": "python",
   "pygments_lexer": "ipython3",
   "version": "3.8.8"
  }
 },
 "nbformat": 4,
 "nbformat_minor": 4
}
