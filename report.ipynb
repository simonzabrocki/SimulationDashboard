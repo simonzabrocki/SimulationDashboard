{
 "cells": [
  {
   "cell_type": "code",
   "execution_count": null,
   "metadata": {
    "ExecuteTime": {
     "end_time": "2021-10-22T06:19:53.934542Z",
     "start_time": "2021-10-22T06:19:53.930796Z"
    }
   },
   "outputs": [],
   "source": [
    "from IPython.display import HTML"
   ]
  },
  {
   "cell_type": "code",
   "execution_count": null,
   "metadata": {
    "ExecuteTime": {
     "end_time": "2021-10-21T06:11:30.280609Z",
     "start_time": "2021-10-21T06:11:30.264304Z"
    }
   },
   "outputs": [],
   "source": [
    "import sys,os,argparse\n",
    "from IPython.display import HTML\n",
    "\n",
    "CONFIG_FILE = '.config_ipynb'\n",
    "\n",
    "if os.path.isfile(CONFIG_FILE):\n",
    "    with open(CONFIG_FILE) as f:\n",
    "        sys.argv = f.read().split()\n",
    "\n",
    "parser = argparse.ArgumentParser()\n",
    "parser.add_argument(\"input_file\",help=\"Input image, directory, or npy.\")\n",
    "parser.add_argument(\"--iso\", type=str, default='FRA', help=\"an optional integer parameter.\")\n",
    "args = parser.parse_args()\n",
    "ISO = args.iso"
   ]
  },
  {
   "cell_type": "code",
   "execution_count": null,
   "metadata": {
    "ExecuteTime": {
     "end_time": "2021-10-22T06:20:10.564474Z",
     "start_time": "2021-10-22T06:20:10.558138Z"
    }
   },
   "outputs": [],
   "source": [
    "HTML(f'''<h3>GREEN INDEX REPORT FOR {ISO}, STILL IN DEVELOPEMENT !!!<h3>''')"
   ]
  },
  {
   "cell_type": "code",
   "execution_count": null,
   "metadata": {
    "ExecuteTime": {
     "end_time": "2021-10-19T08:45:48.012015Z",
     "start_time": "2021-10-19T08:45:43.024215Z"
    }
   },
   "outputs": [],
   "source": [
    "from pages.country_profile import circular_plot, HTML_text, loliplot, loliplot_2, time_series_Index, missing_bar_plot"
   ]
  },
  {
   "cell_type": "code",
   "execution_count": null,
   "metadata": {
    "ExecuteTime": {
     "end_time": "2021-10-19T08:45:48.806862Z",
     "start_time": "2021-10-19T08:45:48.020740Z"
    }
   },
   "outputs": [],
   "source": [
    "circular_plot(ISO)"
   ]
  },
  {
   "cell_type": "code",
   "execution_count": null,
   "metadata": {
    "ExecuteTime": {
     "end_time": "2021-10-19T08:45:49.058753Z",
     "start_time": "2021-10-19T08:45:48.809255Z"
    }
   },
   "outputs": [],
   "source": [
    "time_series_Index(ISO)"
   ]
  },
  {
   "cell_type": "code",
   "execution_count": null,
   "metadata": {
    "ExecuteTime": {
     "end_time": "2021-10-19T08:45:49.286852Z",
     "start_time": "2021-10-19T08:45:49.060457Z"
    }
   },
   "outputs": [],
   "source": [
    "loliplot(ISO)"
   ]
  },
  {
   "cell_type": "code",
   "execution_count": null,
   "metadata": {
    "ExecuteTime": {
     "end_time": "2021-10-19T08:45:49.506362Z",
     "start_time": "2021-10-19T08:45:49.289008Z"
    }
   },
   "outputs": [],
   "source": [
    "loliplot_2(ISO)"
   ]
  },
  {
   "cell_type": "code",
   "execution_count": null,
   "metadata": {
    "ExecuteTime": {
     "end_time": "2021-10-19T08:45:49.713427Z",
     "start_time": "2021-10-19T08:45:49.508478Z"
    }
   },
   "outputs": [],
   "source": [
    "missing_bar_plot(ISO)"
   ]
  },
  {
   "cell_type": "code",
   "execution_count": null,
   "metadata": {},
   "outputs": [],
   "source": []
  }
 ],
 "metadata": {
  "kernelspec": {
   "display_name": "Python 3",
   "language": "python",
   "name": "python3"
  },
  "language_info": {
   "codemirror_mode": {
    "name": "ipython",
    "version": 3
   },
   "file_extension": ".py",
   "mimetype": "text/x-python",
   "name": "python",
   "nbconvert_exporter": "python",
   "pygments_lexer": "ipython3",
   "version": "3.7.7"
  }
 },
 "nbformat": 4,
 "nbformat_minor": 4
}
