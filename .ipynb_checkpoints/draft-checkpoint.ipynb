{
 "cells": [
  {
   "cell_type": "code",
   "execution_count": 1,
   "metadata": {
    "ExecuteTime": {
     "end_time": "2021-03-11T00:36:00.612861Z",
     "start_time": "2021-03-11T00:35:57.707593Z"
    }
   },
   "outputs": [],
   "source": [
    "import pandas as pd\n",
    "import plotly.express as px\n",
    "from pages.country_profile import data\n",
    "import pandas as pd\n",
    "\n"
   ]
  },
  {
   "cell_type": "code",
   "execution_count": 2,
   "metadata": {
    "ExecuteTime": {
     "end_time": "2021-03-11T00:36:00.724417Z",
     "start_time": "2021-03-11T00:36:00.614429Z"
    }
   },
   "outputs": [],
   "source": [
    "indicator_property = pd.read_csv('data/indicators/indicator_properties.csv', index_col=0)\n",
    "indicator_property['Category'] = indicator_property['Indicator'].apply(lambda x: x[0:2])\n",
    "data = pd.merge(data, indicator_property[['Category', 'Dimension']].drop_duplicates(), left_on='Variable', right_on='Category', how='left')\n"
   ]
  },
  {
   "cell_type": "code",
   "execution_count": 84,
   "metadata": {
    "ExecuteTime": {
     "end_time": "2021-03-11T00:56:16.056919Z",
     "start_time": "2021-03-11T00:56:15.881211Z"
    },
    "scrolled": false
   },
   "outputs": [
    {
     "data": {
      "application/vnd.plotly.v1+json": {
       "config": {
        "plotlyServerURL": "https://plot.ly"
       },
       "data": [
        {
         "customdata": [
          [
           "Access to basic services and resources",
           "AB"
          ],
          [
           "Gender balance",
           "GB"
          ],
          [
           "Social equity",
           "SE"
          ],
          [
           "Social protection",
           "SP"
          ],
          [
           null,
           "Social Inclusion"
          ]
         ],
         "hovertemplate": "Dimension=Social Inclusion<br>Score=%{r}<br>Category=%{customdata[0]}<extra></extra>",
         "legendgroup": "Social Inclusion",
         "marker": {
          "color": "#c7829d"
         },
         "name": "Social Inclusion",
         "offset": -0.3333333333333333,
         "r": [
          43.83,
          40.11,
          56.1,
          21.72,
          0
         ],
         "showlegend": true,
         "subplot": "polar",
         "theta": [
          "AB",
          "GB",
          "SE",
          "SP",
          "Social Inclusion"
         ],
         "type": "barpolar"
        },
        {
         "customdata": [
          [
           "Biodiversity and ecosystem protection",
           "BE"
          ],
          [
           "Cultural and social value",
           "CV"
          ],
          [
           "Environmental quality",
           "EQ"
          ],
          [
           "Greenhouse gas emissions reductions",
           "GE"
          ],
          [
           null,
           "Natural Capital Protection"
          ]
         ],
         "hovertemplate": "Dimension=Natural Capital Protection<br>Score=%{r}<br>Category=%{customdata[0]}<extra></extra>",
         "legendgroup": "Natural Capital Protection",
         "marker": {
          "color": "#89afc5"
         },
         "name": "Natural Capital Protection",
         "offset": -0.3333333333333333,
         "r": [
          9.21,
          37.57,
          71.19,
          79.24,
          0
         ],
         "showlegend": true,
         "subplot": "polar",
         "theta": [
          "BE",
          "CV",
          "EQ",
          "GE",
          "Natural Capital Protection"
         ],
         "type": "barpolar"
        },
        {
         "customdata": [
          [
           "Efficient and and sustainable energy",
           "EE"
          ],
          [
           "Efficient and sustainable water use",
           "EW"
          ],
          [
           "Material use efficiency",
           "ME"
          ],
          [
           "Sustainable land use",
           "SL"
          ],
          [
           null,
           "Efficient and Sustainable Resource Use"
          ]
         ],
         "hovertemplate": "Dimension=Efficient and Sustainable Resource Use<br>Score=%{r}<br>Category=%{customdata[0]}<extra></extra>",
         "legendgroup": "Efficient and Sustainable Resource Use",
         "marker": {
          "color": "#FFA15A"
         },
         "name": "Efficient and Sustainable Resource Use",
         "offset": -0.3333333333333333,
         "r": [
          70.57,
          0,
          85.46,
          50.21,
          0
         ],
         "showlegend": true,
         "subplot": "polar",
         "theta": [
          "EE",
          "EW",
          "ME",
          "SL",
          "Efficient and Sustainable Resource Use"
         ],
         "type": "barpolar"
        },
        {
         "customdata": [
          [
           "Green employment",
           "GJ"
          ],
          [
           "Green innovation",
           "GN"
          ],
          [
           "Green trade",
           "GT"
          ],
          [
           "Green investment",
           "GV"
          ],
          [
           null,
           "Green Economic Opportunities"
          ]
         ],
         "hovertemplate": "Dimension=Green Economic Opportunities<br>Score=%{r}<br>Category=%{customdata[0]}<extra></extra>",
         "legendgroup": "Green Economic Opportunities",
         "marker": {
          "color": "#93c186"
         },
         "name": "Green Economic Opportunities",
         "offset": -0.3333333333333333,
         "r": [
          1,
          0,
          3.6,
          61.79,
          0
         ],
         "showlegend": true,
         "subplot": "polar",
         "theta": [
          "GJ",
          "GN",
          "GT",
          "GV",
          "Green Economic Opportunities"
         ],
         "type": "barpolar"
        }
       ],
       "layout": {
        "annotations": [
         {
          "font": {
           "color": "green",
           "size": 20
          },
          "showarrow": false,
          "text": "27.62",
          "x": 0.5,
          "y": 0.5
         }
        ],
        "barmode": "relative",
        "legend": {
         "title": {
          "text": "Dimension"
         },
         "tracegroupgap": 0
        },
        "margin": {
         "t": 60
        },
        "polar": {
         "angularaxis": {
          "direction": "clockwise",
          "linecolor": "green",
          "linewidth": 1,
          "rotation": 72,
          "showgrid": false,
          "ticks": "",
          "tickvals": [
           0,
           1,
           2,
           3,
           5,
           6,
           7,
           8,
           10,
           11,
           12,
           13,
           15,
           16,
           17,
           18
          ]
         },
         "domain": {
          "x": [
           0,
           1
          ],
          "y": [
           0,
           1
          ]
         },
         "radialaxis": {
          "angle": 0,
          "dtick": 20,
          "gridcolor": "white",
          "gridwidth": 3,
          "linewidth": 0,
          "range": [
           -30,
           100
          ],
          "showline": true,
          "side": "clockwise",
          "tickangle": 0,
          "ticks": "",
          "tickvals": [
           20,
           40,
           60,
           80
          ]
         }
        },
        "template": {
         "data": {
          "bar": [
           {
            "error_x": {
             "color": "#2a3f5f"
            },
            "error_y": {
             "color": "#2a3f5f"
            },
            "marker": {
             "line": {
              "color": "#E5ECF6",
              "width": 0.5
             }
            },
            "type": "bar"
           }
          ],
          "barpolar": [
           {
            "marker": {
             "line": {
              "color": "#E5ECF6",
              "width": 0.5
             }
            },
            "type": "barpolar"
           }
          ],
          "carpet": [
           {
            "aaxis": {
             "endlinecolor": "#2a3f5f",
             "gridcolor": "white",
             "linecolor": "white",
             "minorgridcolor": "white",
             "startlinecolor": "#2a3f5f"
            },
            "baxis": {
             "endlinecolor": "#2a3f5f",
             "gridcolor": "white",
             "linecolor": "white",
             "minorgridcolor": "white",
             "startlinecolor": "#2a3f5f"
            },
            "type": "carpet"
           }
          ],
          "choropleth": [
           {
            "colorbar": {
             "outlinewidth": 0,
             "ticks": ""
            },
            "type": "choropleth"
           }
          ],
          "contour": [
           {
            "colorbar": {
             "outlinewidth": 0,
             "ticks": ""
            },
            "colorscale": [
             [
              0,
              "#0d0887"
             ],
             [
              0.1111111111111111,
              "#46039f"
             ],
             [
              0.2222222222222222,
              "#7201a8"
             ],
             [
              0.3333333333333333,
              "#9c179e"
             ],
             [
              0.4444444444444444,
              "#bd3786"
             ],
             [
              0.5555555555555556,
              "#d8576b"
             ],
             [
              0.6666666666666666,
              "#ed7953"
             ],
             [
              0.7777777777777778,
              "#fb9f3a"
             ],
             [
              0.8888888888888888,
              "#fdca26"
             ],
             [
              1,
              "#f0f921"
             ]
            ],
            "type": "contour"
           }
          ],
          "contourcarpet": [
           {
            "colorbar": {
             "outlinewidth": 0,
             "ticks": ""
            },
            "type": "contourcarpet"
           }
          ],
          "heatmap": [
           {
            "colorbar": {
             "outlinewidth": 0,
             "ticks": ""
            },
            "colorscale": [
             [
              0,
              "#0d0887"
             ],
             [
              0.1111111111111111,
              "#46039f"
             ],
             [
              0.2222222222222222,
              "#7201a8"
             ],
             [
              0.3333333333333333,
              "#9c179e"
             ],
             [
              0.4444444444444444,
              "#bd3786"
             ],
             [
              0.5555555555555556,
              "#d8576b"
             ],
             [
              0.6666666666666666,
              "#ed7953"
             ],
             [
              0.7777777777777778,
              "#fb9f3a"
             ],
             [
              0.8888888888888888,
              "#fdca26"
             ],
             [
              1,
              "#f0f921"
             ]
            ],
            "type": "heatmap"
           }
          ],
          "heatmapgl": [
           {
            "colorbar": {
             "outlinewidth": 0,
             "ticks": ""
            },
            "colorscale": [
             [
              0,
              "#0d0887"
             ],
             [
              0.1111111111111111,
              "#46039f"
             ],
             [
              0.2222222222222222,
              "#7201a8"
             ],
             [
              0.3333333333333333,
              "#9c179e"
             ],
             [
              0.4444444444444444,
              "#bd3786"
             ],
             [
              0.5555555555555556,
              "#d8576b"
             ],
             [
              0.6666666666666666,
              "#ed7953"
             ],
             [
              0.7777777777777778,
              "#fb9f3a"
             ],
             [
              0.8888888888888888,
              "#fdca26"
             ],
             [
              1,
              "#f0f921"
             ]
            ],
            "type": "heatmapgl"
           }
          ],
          "histogram": [
           {
            "marker": {
             "colorbar": {
              "outlinewidth": 0,
              "ticks": ""
             }
            },
            "type": "histogram"
           }
          ],
          "histogram2d": [
           {
            "colorbar": {
             "outlinewidth": 0,
             "ticks": ""
            },
            "colorscale": [
             [
              0,
              "#0d0887"
             ],
             [
              0.1111111111111111,
              "#46039f"
             ],
             [
              0.2222222222222222,
              "#7201a8"
             ],
             [
              0.3333333333333333,
              "#9c179e"
             ],
             [
              0.4444444444444444,
              "#bd3786"
             ],
             [
              0.5555555555555556,
              "#d8576b"
             ],
             [
              0.6666666666666666,
              "#ed7953"
             ],
             [
              0.7777777777777778,
              "#fb9f3a"
             ],
             [
              0.8888888888888888,
              "#fdca26"
             ],
             [
              1,
              "#f0f921"
             ]
            ],
            "type": "histogram2d"
           }
          ],
          "histogram2dcontour": [
           {
            "colorbar": {
             "outlinewidth": 0,
             "ticks": ""
            },
            "colorscale": [
             [
              0,
              "#0d0887"
             ],
             [
              0.1111111111111111,
              "#46039f"
             ],
             [
              0.2222222222222222,
              "#7201a8"
             ],
             [
              0.3333333333333333,
              "#9c179e"
             ],
             [
              0.4444444444444444,
              "#bd3786"
             ],
             [
              0.5555555555555556,
              "#d8576b"
             ],
             [
              0.6666666666666666,
              "#ed7953"
             ],
             [
              0.7777777777777778,
              "#fb9f3a"
             ],
             [
              0.8888888888888888,
              "#fdca26"
             ],
             [
              1,
              "#f0f921"
             ]
            ],
            "type": "histogram2dcontour"
           }
          ],
          "mesh3d": [
           {
            "colorbar": {
             "outlinewidth": 0,
             "ticks": ""
            },
            "type": "mesh3d"
           }
          ],
          "parcoords": [
           {
            "line": {
             "colorbar": {
              "outlinewidth": 0,
              "ticks": ""
             }
            },
            "type": "parcoords"
           }
          ],
          "pie": [
           {
            "automargin": true,
            "type": "pie"
           }
          ],
          "scatter": [
           {
            "marker": {
             "colorbar": {
              "outlinewidth": 0,
              "ticks": ""
             }
            },
            "type": "scatter"
           }
          ],
          "scatter3d": [
           {
            "line": {
             "colorbar": {
              "outlinewidth": 0,
              "ticks": ""
             }
            },
            "marker": {
             "colorbar": {
              "outlinewidth": 0,
              "ticks": ""
             }
            },
            "type": "scatter3d"
           }
          ],
          "scattercarpet": [
           {
            "marker": {
             "colorbar": {
              "outlinewidth": 0,
              "ticks": ""
             }
            },
            "type": "scattercarpet"
           }
          ],
          "scattergeo": [
           {
            "marker": {
             "colorbar": {
              "outlinewidth": 0,
              "ticks": ""
             }
            },
            "type": "scattergeo"
           }
          ],
          "scattergl": [
           {
            "marker": {
             "colorbar": {
              "outlinewidth": 0,
              "ticks": ""
             }
            },
            "type": "scattergl"
           }
          ],
          "scattermapbox": [
           {
            "marker": {
             "colorbar": {
              "outlinewidth": 0,
              "ticks": ""
             }
            },
            "type": "scattermapbox"
           }
          ],
          "scatterpolar": [
           {
            "marker": {
             "colorbar": {
              "outlinewidth": 0,
              "ticks": ""
             }
            },
            "type": "scatterpolar"
           }
          ],
          "scatterpolargl": [
           {
            "marker": {
             "colorbar": {
              "outlinewidth": 0,
              "ticks": ""
             }
            },
            "type": "scatterpolargl"
           }
          ],
          "scatterternary": [
           {
            "marker": {
             "colorbar": {
              "outlinewidth": 0,
              "ticks": ""
             }
            },
            "type": "scatterternary"
           }
          ],
          "surface": [
           {
            "colorbar": {
             "outlinewidth": 0,
             "ticks": ""
            },
            "colorscale": [
             [
              0,
              "#0d0887"
             ],
             [
              0.1111111111111111,
              "#46039f"
             ],
             [
              0.2222222222222222,
              "#7201a8"
             ],
             [
              0.3333333333333333,
              "#9c179e"
             ],
             [
              0.4444444444444444,
              "#bd3786"
             ],
             [
              0.5555555555555556,
              "#d8576b"
             ],
             [
              0.6666666666666666,
              "#ed7953"
             ],
             [
              0.7777777777777778,
              "#fb9f3a"
             ],
             [
              0.8888888888888888,
              "#fdca26"
             ],
             [
              1,
              "#f0f921"
             ]
            ],
            "type": "surface"
           }
          ],
          "table": [
           {
            "cells": {
             "fill": {
              "color": "#EBF0F8"
             },
             "line": {
              "color": "white"
             }
            },
            "header": {
             "fill": {
              "color": "#C8D4E3"
             },
             "line": {
              "color": "white"
             }
            },
            "type": "table"
           }
          ]
         },
         "layout": {
          "annotationdefaults": {
           "arrowcolor": "#2a3f5f",
           "arrowhead": 0,
           "arrowwidth": 1
          },
          "autotypenumbers": "strict",
          "coloraxis": {
           "colorbar": {
            "outlinewidth": 0,
            "ticks": ""
           }
          },
          "colorscale": {
           "diverging": [
            [
             0,
             "#8e0152"
            ],
            [
             0.1,
             "#c51b7d"
            ],
            [
             0.2,
             "#de77ae"
            ],
            [
             0.3,
             "#f1b6da"
            ],
            [
             0.4,
             "#fde0ef"
            ],
            [
             0.5,
             "#f7f7f7"
            ],
            [
             0.6,
             "#e6f5d0"
            ],
            [
             0.7,
             "#b8e186"
            ],
            [
             0.8,
             "#7fbc41"
            ],
            [
             0.9,
             "#4d9221"
            ],
            [
             1,
             "#276419"
            ]
           ],
           "sequential": [
            [
             0,
             "#0d0887"
            ],
            [
             0.1111111111111111,
             "#46039f"
            ],
            [
             0.2222222222222222,
             "#7201a8"
            ],
            [
             0.3333333333333333,
             "#9c179e"
            ],
            [
             0.4444444444444444,
             "#bd3786"
            ],
            [
             0.5555555555555556,
             "#d8576b"
            ],
            [
             0.6666666666666666,
             "#ed7953"
            ],
            [
             0.7777777777777778,
             "#fb9f3a"
            ],
            [
             0.8888888888888888,
             "#fdca26"
            ],
            [
             1,
             "#f0f921"
            ]
           ],
           "sequentialminus": [
            [
             0,
             "#0d0887"
            ],
            [
             0.1111111111111111,
             "#46039f"
            ],
            [
             0.2222222222222222,
             "#7201a8"
            ],
            [
             0.3333333333333333,
             "#9c179e"
            ],
            [
             0.4444444444444444,
             "#bd3786"
            ],
            [
             0.5555555555555556,
             "#d8576b"
            ],
            [
             0.6666666666666666,
             "#ed7953"
            ],
            [
             0.7777777777777778,
             "#fb9f3a"
            ],
            [
             0.8888888888888888,
             "#fdca26"
            ],
            [
             1,
             "#f0f921"
            ]
           ]
          },
          "colorway": [
           "#636efa",
           "#EF553B",
           "#00cc96",
           "#ab63fa",
           "#FFA15A",
           "#19d3f3",
           "#FF6692",
           "#B6E880",
           "#FF97FF",
           "#FECB52"
          ],
          "font": {
           "color": "#2a3f5f"
          },
          "geo": {
           "bgcolor": "white",
           "lakecolor": "white",
           "landcolor": "#E5ECF6",
           "showlakes": true,
           "showland": true,
           "subunitcolor": "white"
          },
          "hoverlabel": {
           "align": "left"
          },
          "hovermode": "closest",
          "mapbox": {
           "style": "light"
          },
          "paper_bgcolor": "white",
          "plot_bgcolor": "#E5ECF6",
          "polar": {
           "angularaxis": {
            "gridcolor": "white",
            "linecolor": "white",
            "ticks": ""
           },
           "bgcolor": "#E5ECF6",
           "radialaxis": {
            "gridcolor": "white",
            "linecolor": "white",
            "ticks": ""
           }
          },
          "scene": {
           "xaxis": {
            "backgroundcolor": "#E5ECF6",
            "gridcolor": "white",
            "gridwidth": 2,
            "linecolor": "white",
            "showbackground": true,
            "ticks": "",
            "zerolinecolor": "white"
           },
           "yaxis": {
            "backgroundcolor": "#E5ECF6",
            "gridcolor": "white",
            "gridwidth": 2,
            "linecolor": "white",
            "showbackground": true,
            "ticks": "",
            "zerolinecolor": "white"
           },
           "zaxis": {
            "backgroundcolor": "#E5ECF6",
            "gridcolor": "white",
            "gridwidth": 2,
            "linecolor": "white",
            "showbackground": true,
            "ticks": "",
            "zerolinecolor": "white"
           }
          },
          "shapedefaults": {
           "line": {
            "color": "#2a3f5f"
           }
          },
          "ternary": {
           "aaxis": {
            "gridcolor": "white",
            "linecolor": "white",
            "ticks": ""
           },
           "baxis": {
            "gridcolor": "white",
            "linecolor": "white",
            "ticks": ""
           },
           "bgcolor": "#E5ECF6",
           "caxis": {
            "gridcolor": "white",
            "linecolor": "white",
            "ticks": ""
           }
          },
          "title": {
           "x": 0.05
          },
          "xaxis": {
           "automargin": true,
           "gridcolor": "white",
           "linecolor": "white",
           "ticks": "",
           "title": {
            "standoff": 15
           },
           "zerolinecolor": "white",
           "zerolinewidth": 2
          },
          "yaxis": {
           "automargin": true,
           "gridcolor": "white",
           "linecolor": "white",
           "ticks": "",
           "title": {
            "standoff": 15
           },
           "zerolinecolor": "white",
           "zerolinewidth": 2
          }
         }
        },
        "title": {
         "text": "Distances to targets"
        }
       }
      },
      "text/html": [
       "<div>                            <div id=\"f7d9a2de-64a3-4aca-b534-1c1d079adac7\" class=\"plotly-graph-div\" style=\"height:525px; width:100%;\"></div>            <script type=\"text/javascript\">                require([\"plotly\"], function(Plotly) {                    window.PLOTLYENV=window.PLOTLYENV || {};                                    if (document.getElementById(\"f7d9a2de-64a3-4aca-b534-1c1d079adac7\")) {                    Plotly.newPlot(                        \"f7d9a2de-64a3-4aca-b534-1c1d079adac7\",                        [{\"customdata\": [[\"Access to basic services and resources\", \"AB\"], [\"Gender balance\", \"GB\"], [\"Social equity\", \"SE\"], [\"Social protection\", \"SP\"], [null, \"Social Inclusion\"]], \"hovertemplate\": \"Dimension=Social Inclusion<br>Score=%{r}<br>Category=%{customdata[0]}<extra></extra>\", \"legendgroup\": \"Social Inclusion\", \"marker\": {\"color\": \"#c7829d\"}, \"name\": \"Social Inclusion\", \"offset\": -0.3333333333333333, \"r\": [43.83, 40.11, 56.1, 21.72, 0.0], \"showlegend\": true, \"subplot\": \"polar\", \"theta\": [\"AB\", \"GB\", \"SE\", \"SP\", \"Social Inclusion\"], \"type\": \"barpolar\"}, {\"customdata\": [[\"Biodiversity and ecosystem protection\", \"BE\"], [\"Cultural and social value\", \"CV\"], [\"Environmental quality\", \"EQ\"], [\"Greenhouse gas emissions reductions\", \"GE\"], [null, \"Natural Capital Protection\"]], \"hovertemplate\": \"Dimension=Natural Capital Protection<br>Score=%{r}<br>Category=%{customdata[0]}<extra></extra>\", \"legendgroup\": \"Natural Capital Protection\", \"marker\": {\"color\": \"#89afc5\"}, \"name\": \"Natural Capital Protection\", \"offset\": -0.3333333333333333, \"r\": [9.21, 37.57, 71.19, 79.24, 0.0], \"showlegend\": true, \"subplot\": \"polar\", \"theta\": [\"BE\", \"CV\", \"EQ\", \"GE\", \"Natural Capital Protection\"], \"type\": \"barpolar\"}, {\"customdata\": [[\"Efficient and and sustainable energy\", \"EE\"], [\"Efficient and sustainable water use\", \"EW\"], [\"Material use efficiency\", \"ME\"], [\"Sustainable land use\", \"SL\"], [null, \"Efficient and Sustainable Resource Use\"]], \"hovertemplate\": \"Dimension=Efficient and Sustainable Resource Use<br>Score=%{r}<br>Category=%{customdata[0]}<extra></extra>\", \"legendgroup\": \"Efficient and Sustainable Resource Use\", \"marker\": {\"color\": \"#FFA15A\"}, \"name\": \"Efficient and Sustainable Resource Use\", \"offset\": -0.3333333333333333, \"r\": [70.57, 0.0, 85.46, 50.21, 0.0], \"showlegend\": true, \"subplot\": \"polar\", \"theta\": [\"EE\", \"EW\", \"ME\", \"SL\", \"Efficient and Sustainable Resource Use\"], \"type\": \"barpolar\"}, {\"customdata\": [[\"Green employment\", \"GJ\"], [\"Green innovation\", \"GN\"], [\"Green trade\", \"GT\"], [\"Green investment\", \"GV\"], [null, \"Green Economic Opportunities\"]], \"hovertemplate\": \"Dimension=Green Economic Opportunities<br>Score=%{r}<br>Category=%{customdata[0]}<extra></extra>\", \"legendgroup\": \"Green Economic Opportunities\", \"marker\": {\"color\": \"#93c186\"}, \"name\": \"Green Economic Opportunities\", \"offset\": -0.3333333333333333, \"r\": [1.0, 0.0, 3.6, 61.79, 0.0], \"showlegend\": true, \"subplot\": \"polar\", \"theta\": [\"GJ\", \"GN\", \"GT\", \"GV\", \"Green Economic Opportunities\"], \"type\": \"barpolar\"}],                        {\"annotations\": [{\"font\": {\"color\": \"green\", \"size\": 20}, \"showarrow\": false, \"text\": \"27.62\", \"x\": 0.5, \"y\": 0.5}], \"barmode\": \"relative\", \"legend\": {\"title\": {\"text\": \"Dimension\"}, \"tracegroupgap\": 0}, \"margin\": {\"t\": 60}, \"polar\": {\"angularaxis\": {\"direction\": \"clockwise\", \"linecolor\": \"green\", \"linewidth\": 1, \"rotation\": 72.0, \"showgrid\": false, \"ticks\": \"\", \"tickvals\": [0, 1, 2, 3, 5, 6, 7, 8, 10, 11, 12, 13, 15, 16, 17, 18]}, \"domain\": {\"x\": [0.0, 1.0], \"y\": [0.0, 1.0]}, \"radialaxis\": {\"angle\": 0, \"dtick\": 20, \"gridcolor\": \"white\", \"gridwidth\": 3, \"linewidth\": 0, \"range\": [-30, 100], \"showline\": true, \"side\": \"clockwise\", \"tickangle\": 0, \"ticks\": \"\", \"tickvals\": [20, 40, 60, 80]}}, \"template\": {\"data\": {\"bar\": [{\"error_x\": {\"color\": \"#2a3f5f\"}, \"error_y\": {\"color\": \"#2a3f5f\"}, \"marker\": {\"line\": {\"color\": \"#E5ECF6\", \"width\": 0.5}}, \"type\": \"bar\"}], \"barpolar\": [{\"marker\": {\"line\": {\"color\": \"#E5ECF6\", \"width\": 0.5}}, \"type\": \"barpolar\"}], \"carpet\": [{\"aaxis\": {\"endlinecolor\": \"#2a3f5f\", \"gridcolor\": \"white\", \"linecolor\": \"white\", \"minorgridcolor\": \"white\", \"startlinecolor\": \"#2a3f5f\"}, \"baxis\": {\"endlinecolor\": \"#2a3f5f\", \"gridcolor\": \"white\", \"linecolor\": \"white\", \"minorgridcolor\": \"white\", \"startlinecolor\": \"#2a3f5f\"}, \"type\": \"carpet\"}], \"choropleth\": [{\"colorbar\": {\"outlinewidth\": 0, \"ticks\": \"\"}, \"type\": \"choropleth\"}], \"contour\": [{\"colorbar\": {\"outlinewidth\": 0, \"ticks\": \"\"}, \"colorscale\": [[0.0, \"#0d0887\"], [0.1111111111111111, \"#46039f\"], [0.2222222222222222, \"#7201a8\"], [0.3333333333333333, \"#9c179e\"], [0.4444444444444444, \"#bd3786\"], [0.5555555555555556, \"#d8576b\"], [0.6666666666666666, \"#ed7953\"], [0.7777777777777778, \"#fb9f3a\"], [0.8888888888888888, \"#fdca26\"], [1.0, \"#f0f921\"]], \"type\": \"contour\"}], \"contourcarpet\": [{\"colorbar\": {\"outlinewidth\": 0, \"ticks\": \"\"}, \"type\": \"contourcarpet\"}], \"heatmap\": [{\"colorbar\": {\"outlinewidth\": 0, \"ticks\": \"\"}, \"colorscale\": [[0.0, \"#0d0887\"], [0.1111111111111111, \"#46039f\"], [0.2222222222222222, \"#7201a8\"], [0.3333333333333333, \"#9c179e\"], [0.4444444444444444, \"#bd3786\"], [0.5555555555555556, \"#d8576b\"], [0.6666666666666666, \"#ed7953\"], [0.7777777777777778, \"#fb9f3a\"], [0.8888888888888888, \"#fdca26\"], [1.0, \"#f0f921\"]], \"type\": \"heatmap\"}], \"heatmapgl\": [{\"colorbar\": {\"outlinewidth\": 0, \"ticks\": \"\"}, \"colorscale\": [[0.0, \"#0d0887\"], [0.1111111111111111, \"#46039f\"], [0.2222222222222222, \"#7201a8\"], [0.3333333333333333, \"#9c179e\"], [0.4444444444444444, \"#bd3786\"], [0.5555555555555556, \"#d8576b\"], [0.6666666666666666, \"#ed7953\"], [0.7777777777777778, \"#fb9f3a\"], [0.8888888888888888, \"#fdca26\"], [1.0, \"#f0f921\"]], \"type\": \"heatmapgl\"}], \"histogram\": [{\"marker\": {\"colorbar\": {\"outlinewidth\": 0, \"ticks\": \"\"}}, \"type\": \"histogram\"}], \"histogram2d\": [{\"colorbar\": {\"outlinewidth\": 0, \"ticks\": \"\"}, \"colorscale\": [[0.0, \"#0d0887\"], [0.1111111111111111, \"#46039f\"], [0.2222222222222222, \"#7201a8\"], [0.3333333333333333, \"#9c179e\"], [0.4444444444444444, \"#bd3786\"], [0.5555555555555556, \"#d8576b\"], [0.6666666666666666, \"#ed7953\"], [0.7777777777777778, \"#fb9f3a\"], [0.8888888888888888, \"#fdca26\"], [1.0, \"#f0f921\"]], \"type\": \"histogram2d\"}], \"histogram2dcontour\": [{\"colorbar\": {\"outlinewidth\": 0, \"ticks\": \"\"}, \"colorscale\": [[0.0, \"#0d0887\"], [0.1111111111111111, \"#46039f\"], [0.2222222222222222, \"#7201a8\"], [0.3333333333333333, \"#9c179e\"], [0.4444444444444444, \"#bd3786\"], [0.5555555555555556, \"#d8576b\"], [0.6666666666666666, \"#ed7953\"], [0.7777777777777778, \"#fb9f3a\"], [0.8888888888888888, \"#fdca26\"], [1.0, \"#f0f921\"]], \"type\": \"histogram2dcontour\"}], \"mesh3d\": [{\"colorbar\": {\"outlinewidth\": 0, \"ticks\": \"\"}, \"type\": \"mesh3d\"}], \"parcoords\": [{\"line\": {\"colorbar\": {\"outlinewidth\": 0, \"ticks\": \"\"}}, \"type\": \"parcoords\"}], \"pie\": [{\"automargin\": true, \"type\": \"pie\"}], \"scatter\": [{\"marker\": {\"colorbar\": {\"outlinewidth\": 0, \"ticks\": \"\"}}, \"type\": \"scatter\"}], \"scatter3d\": [{\"line\": {\"colorbar\": {\"outlinewidth\": 0, \"ticks\": \"\"}}, \"marker\": {\"colorbar\": {\"outlinewidth\": 0, \"ticks\": \"\"}}, \"type\": \"scatter3d\"}], \"scattercarpet\": [{\"marker\": {\"colorbar\": {\"outlinewidth\": 0, \"ticks\": \"\"}}, \"type\": \"scattercarpet\"}], \"scattergeo\": [{\"marker\": {\"colorbar\": {\"outlinewidth\": 0, \"ticks\": \"\"}}, \"type\": \"scattergeo\"}], \"scattergl\": [{\"marker\": {\"colorbar\": {\"outlinewidth\": 0, \"ticks\": \"\"}}, \"type\": \"scattergl\"}], \"scattermapbox\": [{\"marker\": {\"colorbar\": {\"outlinewidth\": 0, \"ticks\": \"\"}}, \"type\": \"scattermapbox\"}], \"scatterpolar\": [{\"marker\": {\"colorbar\": {\"outlinewidth\": 0, \"ticks\": \"\"}}, \"type\": \"scatterpolar\"}], \"scatterpolargl\": [{\"marker\": {\"colorbar\": {\"outlinewidth\": 0, \"ticks\": \"\"}}, \"type\": \"scatterpolargl\"}], \"scatterternary\": [{\"marker\": {\"colorbar\": {\"outlinewidth\": 0, \"ticks\": \"\"}}, \"type\": \"scatterternary\"}], \"surface\": [{\"colorbar\": {\"outlinewidth\": 0, \"ticks\": \"\"}, \"colorscale\": [[0.0, \"#0d0887\"], [0.1111111111111111, \"#46039f\"], [0.2222222222222222, \"#7201a8\"], [0.3333333333333333, \"#9c179e\"], [0.4444444444444444, \"#bd3786\"], [0.5555555555555556, \"#d8576b\"], [0.6666666666666666, \"#ed7953\"], [0.7777777777777778, \"#fb9f3a\"], [0.8888888888888888, \"#fdca26\"], [1.0, \"#f0f921\"]], \"type\": \"surface\"}], \"table\": [{\"cells\": {\"fill\": {\"color\": \"#EBF0F8\"}, \"line\": {\"color\": \"white\"}}, \"header\": {\"fill\": {\"color\": \"#C8D4E3\"}, \"line\": {\"color\": \"white\"}}, \"type\": \"table\"}]}, \"layout\": {\"annotationdefaults\": {\"arrowcolor\": \"#2a3f5f\", \"arrowhead\": 0, \"arrowwidth\": 1}, \"autotypenumbers\": \"strict\", \"coloraxis\": {\"colorbar\": {\"outlinewidth\": 0, \"ticks\": \"\"}}, \"colorscale\": {\"diverging\": [[0, \"#8e0152\"], [0.1, \"#c51b7d\"], [0.2, \"#de77ae\"], [0.3, \"#f1b6da\"], [0.4, \"#fde0ef\"], [0.5, \"#f7f7f7\"], [0.6, \"#e6f5d0\"], [0.7, \"#b8e186\"], [0.8, \"#7fbc41\"], [0.9, \"#4d9221\"], [1, \"#276419\"]], \"sequential\": [[0.0, \"#0d0887\"], [0.1111111111111111, \"#46039f\"], [0.2222222222222222, \"#7201a8\"], [0.3333333333333333, \"#9c179e\"], [0.4444444444444444, \"#bd3786\"], [0.5555555555555556, \"#d8576b\"], [0.6666666666666666, \"#ed7953\"], [0.7777777777777778, \"#fb9f3a\"], [0.8888888888888888, \"#fdca26\"], [1.0, \"#f0f921\"]], \"sequentialminus\": [[0.0, \"#0d0887\"], [0.1111111111111111, \"#46039f\"], [0.2222222222222222, \"#7201a8\"], [0.3333333333333333, \"#9c179e\"], [0.4444444444444444, \"#bd3786\"], [0.5555555555555556, \"#d8576b\"], [0.6666666666666666, \"#ed7953\"], [0.7777777777777778, \"#fb9f3a\"], [0.8888888888888888, \"#fdca26\"], [1.0, \"#f0f921\"]]}, \"colorway\": [\"#636efa\", \"#EF553B\", \"#00cc96\", \"#ab63fa\", \"#FFA15A\", \"#19d3f3\", \"#FF6692\", \"#B6E880\", \"#FF97FF\", \"#FECB52\"], \"font\": {\"color\": \"#2a3f5f\"}, \"geo\": {\"bgcolor\": \"white\", \"lakecolor\": \"white\", \"landcolor\": \"#E5ECF6\", \"showlakes\": true, \"showland\": true, \"subunitcolor\": \"white\"}, \"hoverlabel\": {\"align\": \"left\"}, \"hovermode\": \"closest\", \"mapbox\": {\"style\": \"light\"}, \"paper_bgcolor\": \"white\", \"plot_bgcolor\": \"#E5ECF6\", \"polar\": {\"angularaxis\": {\"gridcolor\": \"white\", \"linecolor\": \"white\", \"ticks\": \"\"}, \"bgcolor\": \"#E5ECF6\", \"radialaxis\": {\"gridcolor\": \"white\", \"linecolor\": \"white\", \"ticks\": \"\"}}, \"scene\": {\"xaxis\": {\"backgroundcolor\": \"#E5ECF6\", \"gridcolor\": \"white\", \"gridwidth\": 2, \"linecolor\": \"white\", \"showbackground\": true, \"ticks\": \"\", \"zerolinecolor\": \"white\"}, \"yaxis\": {\"backgroundcolor\": \"#E5ECF6\", \"gridcolor\": \"white\", \"gridwidth\": 2, \"linecolor\": \"white\", \"showbackground\": true, \"ticks\": \"\", \"zerolinecolor\": \"white\"}, \"zaxis\": {\"backgroundcolor\": \"#E5ECF6\", \"gridcolor\": \"white\", \"gridwidth\": 2, \"linecolor\": \"white\", \"showbackground\": true, \"ticks\": \"\", \"zerolinecolor\": \"white\"}}, \"shapedefaults\": {\"line\": {\"color\": \"#2a3f5f\"}}, \"ternary\": {\"aaxis\": {\"gridcolor\": \"white\", \"linecolor\": \"white\", \"ticks\": \"\"}, \"baxis\": {\"gridcolor\": \"white\", \"linecolor\": \"white\", \"ticks\": \"\"}, \"bgcolor\": \"#E5ECF6\", \"caxis\": {\"gridcolor\": \"white\", \"linecolor\": \"white\", \"ticks\": \"\"}}, \"title\": {\"x\": 0.05}, \"xaxis\": {\"automargin\": true, \"gridcolor\": \"white\", \"linecolor\": \"white\", \"ticks\": \"\", \"title\": {\"standoff\": 15}, \"zerolinecolor\": \"white\", \"zerolinewidth\": 2}, \"yaxis\": {\"automargin\": true, \"gridcolor\": \"white\", \"linecolor\": \"white\", \"ticks\": \"\", \"title\": {\"standoff\": 15}, \"zerolinecolor\": \"white\", \"zerolinewidth\": 2}}}, \"title\": {\"text\": \"Distances to targets\"}},                        {\"responsive\": true}                    ).then(function(){\n",
       "                            \n",
       "var gd = document.getElementById('f7d9a2de-64a3-4aca-b534-1c1d079adac7');\n",
       "var x = new MutationObserver(function (mutations, observer) {{\n",
       "        var display = window.getComputedStyle(gd).display;\n",
       "        if (!display || display === 'none') {{\n",
       "            console.log([gd, 'removed!']);\n",
       "            Plotly.purge(gd);\n",
       "            observer.disconnect();\n",
       "        }}\n",
       "}});\n",
       "\n",
       "// Listen for the removal of the full notebook cells\n",
       "var notebookContainer = gd.closest('#notebook-container');\n",
       "if (notebookContainer) {{\n",
       "    x.observe(notebookContainer, {childList: true});\n",
       "}}\n",
       "\n",
       "// Listen for the clearing of the current output cell\n",
       "var outputEl = gd.closest('.output');\n",
       "if (outputEl) {{\n",
       "    x.observe(outputEl, {childList: true});\n",
       "}}\n",
       "\n",
       "                        })                };                });            </script>        </div>"
      ]
     },
     "metadata": {},
     "output_type": "display_data"
    }
   ],
   "source": [
    "\n",
    "def circular_plot(ISO):\n",
    "    df = data[(data.ISO.isin([ISO])) & (data.Aggregation == 'Category') & (data.Year == 2019)].fillna(0)   \n",
    "    for dim in df.Dimension.unique():\n",
    "        df = df.append({'Variable': f'{dim}', 'Value':0, 'Dimension': dim}, ignore_index=True)\n",
    "\n",
    "    index = data[(data.ISO.isin([ISO])) & (data.Variable == 'Index') & (data.Year == 2019)].Value.unique()[0]\n",
    "    fig = px.bar_polar(df,\n",
    "                       theta='Variable',\n",
    "                       r='Value',\n",
    "                       range_r=[-30, 100],\n",
    "                       color='Dimension',\n",
    "                       hover_data={'Variable_name':True, 'Variable': False},\n",
    "                       color_discrete_map={\n",
    "                          \"Natural Capital Protection\": \"#89afc5\",\n",
    "                          \"Social Inclusion\": \"#c7829d\",\n",
    "                          \"Efficiant and Sustainable Resource Use\": \"#cc8608\",\n",
    "                          \"Green Economic Opportunities\": \"#93c186\"\n",
    "                      },\n",
    "                       labels={'Year': 'Year', 'Value': 'Score', 'Category': 'Dimension', 'Variable_name': 'Category'}\n",
    "                      )\n",
    "    \n",
    "    fig.update_traces(offset=-4/12)\n",
    "    fig.update_polars(radialaxis=dict(gridcolor='white',\n",
    "                                      dtick=20,\n",
    "                                      gridwidth=3,\n",
    "                                      ticks='',\n",
    "                                      angle=0,\n",
    "                                      tickangle=0,\n",
    "                                      tickvals = [20, 40, 60, 80],\n",
    "                                      showline=True,\n",
    "                                      linewidth=0,\n",
    "                                      side='clockwise',\n",
    "                                      ),\n",
    "                      \n",
    "                      \n",
    "                      \n",
    "                  angularaxis=dict(showgrid=False, rotation=90 - 1 * 360 / 20, ticks='',\n",
    "                                   linewidth=1, linecolor='green',  #showticklabels=False,\n",
    "                                   tickvals=[0, 1, 2, 3, 5, 6, 7, 8, 10, 11, 12, 13, 15, 16, 17, 18],\n",
    "                                  ))\n",
    "    \n",
    "    fig.update_layout(\n",
    "    title_text=\"Distances to targets\",\n",
    "    # Add annotations in the center of the donut pies.\n",
    "    annotations=[dict(text=f'{index}', x=0.5, y=0.5, font_size=20, showarrow=False, font_color='green'),\n",
    "                 ])\n",
    "    return fig\n",
    "\n",
    "fig = circular_plot('AFG')\n",
    "fig"
   ]
  },
  {
   "cell_type": "code",
   "execution_count": 87,
   "metadata": {
    "ExecuteTime": {
     "end_time": "2021-03-09T04:24:50.978451Z",
     "start_time": "2021-03-09T04:24:50.965335Z"
    }
   },
   "outputs": [],
   "source": [
    "import numpy as np\n",
    "def add_reference_to_data(data):\n",
    "    data['Continental_Rank'] = data.groupby([\"Year\", \"Continent\", \"Variable\"])[\"Value\"].rank(method='dense', ascending=False)\n",
    "    \n",
    "    data['Income_Rank'] = data.groupby([\"Year\", \"IncomeLevel\", \"Variable\"])[\"Value\"].rank(method='dense', ascending=False)\n",
    "\n",
    "\n",
    "    Income_region_group = data.groupby(['Variable', 'Year', 'IncomeLevel', 'Region', 'Aggregation']).mean().reset_index()\n",
    "    Income_region_group['ISO'] = 'AVG' + '_' + Income_region_group[\"IncomeLevel\"] + '_' + Income_region_group[\"Region\"]\n",
    "\n",
    "    Income_group = data.groupby(['Variable', 'Year', 'IncomeLevel', 'Aggregation']).mean().reset_index()\n",
    "    Income_group['ISO'] = 'AVG' + '_' + Income_group[\"IncomeLevel\"]\n",
    "    Income_group['Continental_Rank'] = np.nan\n",
    "    Income_group['Income_Rank'] = np.nan\n",
    "\n",
    "\n",
    "    Region_group = data.groupby(['Variable', 'Year', 'Continent', 'Aggregation']).mean().reset_index()\n",
    "    Region_group['ISO'] = 'AVG' + '_' + Region_group[\"Continent\"]\n",
    "    Region_group['Continental_Rank'] = np.nan\n",
    "    Region_group['Income_Rank'] = np.nan\n",
    "\n",
    "    data = pd.concat([data, Income_region_group, Region_group, Income_group])\n",
    "    \n",
    "    return data"
   ]
  },
  {
   "cell_type": "code",
   "execution_count": null,
   "metadata": {
    "ExecuteTime": {
     "end_time": "2021-03-08T05:15:58.029992Z",
     "start_time": "2021-03-08T05:15:57.075634Z"
    }
   },
   "outputs": [],
   "source": [
    "from app import data\n",
    "data = add_reference_to_data(data)\n",
    "indicator_property = pd.read_csv('data/indicators/indicator_properties.csv', index_col=0)\n",
    "indicator_property['Category'] = indicator_property['Indicator'].apply(lambda x: x[0:2])\n",
    "data = pd.merge(data, indicator_property[['Category', 'Dimension']].drop_duplicates(), left_on='Variable', right_on='Category')\n"
   ]
  },
  {
   "cell_type": "code",
   "execution_count": null,
   "metadata": {
    "ExecuteTime": {
     "end_time": "2021-03-08T09:41:59.834992Z",
     "start_time": "2021-03-08T09:41:59.820381Z"
    }
   },
   "outputs": [],
   "source": [
    "import plotly.graph_objects as go\n",
    "\n",
    "def category_heatmap(ISO):\n",
    "    REF_1 = 'AVG_' + \"_\".join(data[data.ISO == ISO][[\"IncomeLevel\"]].drop_duplicates().values[0].tolist())\n",
    "    REF_2 = 'AVG_' + \"_\".join(data[data.ISO == ISO][[\"Continent\"]].drop_duplicates().values[0].tolist())\n",
    "\n",
    "    df = data[(data.ISO.isin([ISO, REF_1, REF_2])) & (data.Aggregation == 'Category') & (data.Year == 2019)].fillna(0)\n",
    "    df = df.round(2)\n",
    "    continent = df.Continent.values[0]\n",
    "    \n",
    "    cats = ['EE', 'EW', 'SL', 'ME',\n",
    "            'EQ', 'GE', 'BE', 'CV',\n",
    "            'AB', 'GB', 'SE', 'SP',\n",
    "            'GV', 'GT', 'GJ', 'GN']\n",
    "    \n",
    "    df = df.pivot(index=['ISO'], columns=['Dimension', 'Variable'], values='Value')#[cats]\n",
    "    \n",
    "\n",
    "#     fig = go.Figure(data=go.Heatmap(\n",
    "#                        z=df.values,\n",
    "#                        x=df.columns,\n",
    "#                        y=df.index,\n",
    "#                        ygap=3,\n",
    "#                        hoverongaps = False,\n",
    "#                        colorscale= px.colors.diverging.RdYlGn,\n",
    "#                        colorbar=dict(title='Score', tickvals=[1, 20, 40, 60, 80, 100],)),\n",
    "#                    )\n",
    "\n",
    "#     fig.update_xaxes(side='top')\n",
    "#     fig.update_layout(paper_bgcolor='rgba(0,0,0,0)',\n",
    "#     plot_bgcolor='rgba(0,0,0,0)'\n",
    "# )\n",
    "    \n",
    "    return df.columns"
   ]
  },
  {
   "cell_type": "code",
   "execution_count": null,
   "metadata": {
    "ExecuteTime": {
     "end_time": "2021-03-08T09:42:00.055085Z",
     "start_time": "2021-03-08T09:41:59.984574Z"
    }
   },
   "outputs": [],
   "source": [
    "category_heatmap('FRA')"
   ]
  },
  {
   "cell_type": "code",
   "execution_count": null,
   "metadata": {},
   "outputs": [],
   "source": []
  }
 ],
 "metadata": {
  "kernelspec": {
   "display_name": "Python 3",
   "language": "python",
   "name": "python3"
  },
  "language_info": {
   "codemirror_mode": {
    "name": "ipython",
    "version": 3
   },
   "file_extension": ".py",
   "mimetype": "text/x-python",
   "name": "python",
   "nbconvert_exporter": "python",
   "pygments_lexer": "ipython3",
   "version": "3.7.7"
  }
 },
 "nbformat": 4,
 "nbformat_minor": 4
}
