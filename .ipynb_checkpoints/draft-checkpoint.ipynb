{
 "cells": [
  {
   "cell_type": "code",
   "execution_count": 1,
   "metadata": {
    "ExecuteTime": {
     "end_time": "2021-06-17T06:59:03.681928Z",
     "start_time": "2021-06-17T06:59:01.903603Z"
    }
   },
   "outputs": [],
   "source": [
    "from ggmodel_dev.models.water.EW import model_properties\n",
    "from ggmodel_dev.models.utils import all_model_dictionary, all_model_properties_df, all_model_properties\n"
   ]
  },
  {
   "cell_type": "code",
   "execution_count": null,
   "metadata": {
    "ExecuteTime": {
     "end_time": "2021-06-11T03:59:01.207852Z",
     "start_time": "2021-06-11T03:58:57.644413Z"
    }
   },
   "outputs": [],
   "source": [
    "import os\n",
    "import pandas as pd\n",
    "import plotly.express as px\n",
    "\n",
    "from plots.simulation.GE3_plots import sankeyplot, emission_data_dict_to_df\n",
    "from ggmodel_dev.models.landuse import BE2_scenario, GE3_scenario\n",
    "from ggmodel_dev.models.water import EW_scenario\n",
    "from ggmodel_dev.models.transport import VEHC_scenario\n",
    "from ggmodel_dev.projection import run_projection\n",
    "\n",
    "\n",
    "\n",
    "def get_data_dict_from_folder_parquet(folder_name):\n",
    "    files = os.listdir(folder_name)\n",
    "    data_dict = {file.split('.')[0]: pd.read_parquet(\n",
    "        f'{folder_name}/{file}') for file in files}\n",
    "    data_dict = {name: df[name] for name, df in data_dict.items()}\n",
    "    return data_dict\n",
    "\n",
    "\n",
    "def get_data_dict_from_folder(folder_name):\n",
    "    files = os.listdir(folder_name)\n",
    "    data_dict = {file.split('.')[0]: pd.read_csv(\n",
    "        f'{folder_name}/{file}') for file in files}\n",
    "\n",
    "    data_dict = {name: df.set_index([col for col in df.columns if col != name]).squeeze(\n",
    "    ) for name, df in data_dict.items()}\n",
    "\n",
    "    return data_dict"
   ]
  },
  {
   "cell_type": "code",
   "execution_count": null,
   "metadata": {
    "ExecuteTime": {
     "end_time": "2021-06-11T03:59:06.167264Z",
     "start_time": "2021-06-11T03:59:01.210004Z"
    }
   },
   "outputs": [],
   "source": [
    "scenario_data_dictionnary = {\n",
    "    'EW_models': get_data_dict_from_folder('data/sim/EW'),\n",
    "    'BE2_model': get_data_dict_from_folder('data/sim/BE2'),\n",
    "    'GE3_model': get_data_dict_from_folder_parquet('data/sim/GE3'),\n",
    "    'VEHC_model': get_data_dict_from_folder('data/sim/VEHC'),\n",
    "}\n"
   ]
  },
  {
   "cell_type": "code",
   "execution_count": null,
   "metadata": {
    "ExecuteTime": {
     "end_time": "2021-06-11T03:59:06.189322Z",
     "start_time": "2021-06-11T03:59:06.169941Z"
    }
   },
   "outputs": [],
   "source": [
    "from ggmodel_dev.projection import *\n",
    "from ggmodel_dev.models.landuse.GE3 import model_dictionnary\n",
    "\n",
    "projection_dict = {\n",
    "    'Pop': lambda x: x,\n",
    "    'OEi': lambda x: x,\n",
    "    'EF_EEi': lambda x: x,\n",
    "    'TAi': lambda x: x,\n",
    "    'IN_F': lambda x: x,\n",
    "    'MYi': lambda x: x,\n",
    "    'EF_ASi': lambda x: x,\n",
    "    'EF_Ti': lambda x: x,\n",
    "    'EF_CH4Ti': lambda x: x,\n",
    "    'EF_Li': lambda x: x,\n",
    "    'EF_F': lambda x: x,        \n",
    "}\n",
    "\n",
    "\n",
    "def run_scenario(data_dict,\n",
    "                 MM_Ti=1/3,\n",
    "                 MM_ASi=1/3,\n",
    "                 MM_LPi=1/3,\n",
    "                 TAi_pct_Asses=1,\n",
    "                 TAi_pct_Cattle_dairy=1,\n",
    "                 TAi_pct_Cattle_non_dairy=1,\n",
    "                 TAi_pct_Chickens_broilers=1,\n",
    "                 TAi_pct_Chickens_layers=1,\n",
    "                 TAi_pct_Ducks=1,\n",
    "                 TAi_pct_Goats=1,\n",
    "                 TAi_pct_Horses=1,\n",
    "                 TAi_pct_Mules=1,\n",
    "                 TAi_pct_Sheep=1,\n",
    "                 TAi_pct_Swine_breeding=1,\n",
    "                 TAi_pct_Swine_market=1,\n",
    "                 TAi_pct_Turkeys=1\n",
    "                 ):\n",
    "    \n",
    "    data_dict = data_dict.copy()\n",
    "    \n",
    "    \n",
    "    data_dict['MM_Ti'] = MM_Ti\n",
    "    data_dict['MM_ASi'] = MM_ASi\n",
    "    data_dict['MM_LPi'] = MM_LPi\n",
    "    \n",
    "    TAi_pct_target = pd.Series(index=['Asses', 'Cattle, dairy','Cattle, non-dairy',\n",
    "                                  'Chickens, broilers', 'Chickens, layers', 'Ducks', 'Goats',\n",
    "                                  'Horses', 'Mules', 'Sheep', 'Swine, breeding', 'Swine, market',\n",
    "                                  'Turkeys'],\n",
    "                           data=[TAi_pct_Asses, TAi_pct_Cattle_dairy,\n",
    "                                 TAi_pct_Cattle_non_dairy, TAi_pct_Chickens_broilers,\n",
    "                                 TAi_pct_Chickens_layers, TAi_pct_Ducks,TAi_pct_Goats,\n",
    "                                 TAi_pct_Horses, TAi_pct_Mules ,TAi_pct_Sheep, TAi_pct_Swine_breeding,\n",
    "                                 TAi_pct_Swine_market, TAi_pct_Turkeys\n",
    "                               \n",
    "                           ], name='TAi_pct_target')\n",
    "    \n",
    "    TAi_pct_target.index.name = 'Item'\n",
    "    \n",
    "    tmp = pd.merge(data_dict['TAi'].reset_index(), TAi_pct_target.reset_index(),on='Item')\n",
    "    tmp['TAi'] = tmp['TAi'] * tmp['TAi_pct_target']\n",
    "\n",
    "    data_dict['TAi'] = tmp.set_index(['ISO', 'Year', 'Item'])['TAi']\n",
    "    \n",
    "    results = model_dictionnary['GE3_model'].run(data_dict)\n",
    "    \n",
    "    return results"
   ]
  },
  {
   "cell_type": "code",
   "execution_count": null,
   "metadata": {
    "ExecuteTime": {
     "end_time": "2021-06-11T03:59:06.202329Z",
     "start_time": "2021-06-11T03:59:06.193280Z"
    }
   },
   "outputs": [],
   "source": [
    "def emission_data_dict_to_df(data_dict):\n",
    "\n",
    "    data_dict = data_dict.copy()\n",
    "\n",
    "    data = pd.concat([v.to_frame(name='Value').assign(Variable=k)\n",
    "                      for k, v in data_dict.items()], axis=0).reset_index().dropna()\n",
    "\n",
    "    data = pd.concat([data, data.groupby('Variable').sum().reset_index().rename(\n",
    "        columns={\"Variable\": 'Item'}).assign(Variable='GE3_partial')])\n",
    "\n",
    "    return data"
   ]
  },
  {
   "cell_type": "code",
   "execution_count": null,
   "metadata": {
    "ExecuteTime": {
     "end_time": "2021-06-11T04:01:43.832215Z",
     "start_time": "2021-06-11T04:01:43.812639Z"
    }
   },
   "outputs": [],
   "source": [
    "from ggmodel_dev.models.landuse import BE2_scenario, GE3_scenario, GE3\n",
    "\n",
    "def run_all_scenarios_GE3(data_dict, ISO, args_dict_1, args_dict_2):\n",
    "    scenarios_results = {}\n",
    "    data_dict = {k: v.loc[ISO, 2018, :] for k, v in data_dict.items()}\n",
    "\n",
    "    scenarios_results['BAU'] = GE3_scenario.run_scenario(\n",
    "        data_dict=data_dict, MM_Ti=data_dict['MM_Ti'], MM_ASi=data_dict['MM_ASi'])\n",
    "    scenarios_results['scenario_one'] = GE3_scenario.run_scenario(\n",
    "        data_dict=data_dict, **args_dict_1)\n",
    "    scenarios_results['scenario_two'] = GE3_scenario.run_scenario(\n",
    "        data_dict=data_dict, **args_dict_2)\n",
    "    \n",
    "    displayed_variables = ['TEE_CO2eq', 'TMA_CO2eq', 'TMT_CO2eq', 'TMP_CO2eq']\n",
    "\n",
    "    df_0 = emission_data_dict_to_df({k: v for k, v in scenarios_results['BAU'].items() if k in displayed_variables})\n",
    "    df_1 = emission_data_dict_to_df({k: v for k, v in scenarios_results['scenario_one'].items() if k in displayed_variables})\n",
    "    df_2 = emission_data_dict_to_df({k: v for k, v in scenarios_results['scenario_two'].items() if k in displayed_variables})\n",
    "\n",
    "    df = pd.concat([df_0.assign(scenario='BAU'), df_1.assign(scenario='scenario 1'), df_2.assign(scenario='scenario 2')], axis=0)\n",
    "\n",
    "    df = df.merge(GE3.model_dictionnary['GE3_model'].summary_df[['name', 'unit']], left_on='Variable', right_index=True, how='left')\n",
    "\n",
    "    #fig_2 = px.treemap(df.query('Variable != \"GE3_partial\"'), path=['Item', 'name', 'scenario'], values='Value', )\n",
    "    fig_1 = px.treemap(df.query('Variable != \"GE3_partial\"'), path=['scenario', 'Item', 'name'], values='Value',  color='scenario', color_discrete_map={'BAU': 'grey', 'scenario 1': '#D8A488', 'scenario 2': '#86BBD8'})\n",
    "\n",
    "    \n",
    "    df.loc[df.Variable == 'GE3_partial', 'unit'] = 'gigagrams (CO2eq)'\n",
    "    df.loc[df.Variable == 'GE3_partial', 'name'] = 'Non-CO2 agricultural emissions'\n",
    "\n",
    "\n",
    "    df = df.merge(model_dictionnary['GE3_model'].summary_df[['name']], left_on='Item', right_index=True, how='left', suffixes=('_target', '_source'))\n",
    "    df['name'] = df['name_target']\n",
    "    df.loc[df.name_source.isna(), 'name'] = df.loc[df.name_source.isna(), 'Item']\n",
    "\n",
    "    df.loc[df.name_source.isna(), 'name_source'] = df.loc[df.name_source.isna(), 'Item']\n",
    "\n",
    "    df.loc[df.name_target.isna(), 'name_target'] = df.loc[df.name_target.isna(), 'Variable']\n",
    "    \n",
    "    fig_2 = sankeyplot(df, 'name_source', 'name_target')\n",
    "    return fig_1, fig_2, {}\n"
   ]
  },
  {
   "cell_type": "code",
   "execution_count": null,
   "metadata": {
    "ExecuteTime": {
     "end_time": "2021-06-11T04:01:44.665460Z",
     "start_time": "2021-06-11T04:01:44.025196Z"
    }
   },
   "outputs": [],
   "source": [
    "data_dict = scenario_data_dictionnary['GE3_model']\n",
    "\n",
    "args_dict_1 = dict(MM_Ti=1/3, MM_ASi=1/3, MM_LPi=1/3)\n",
    "args_dict_2 = dict(MM_Ti=1/3, MM_ASi=1/3, MM_LPi=1/3, TAi_pct_Cattle_non_dairy=1/2)\n",
    "\n",
    "fig_1, fig_2, __ = run_all_scenarios_GE3(data_dict, 'FRA', args_dict_1, args_dict_2)\n",
    " \n",
    "\n",
    "#sankeyplot(df, 'Item', 'Variable')"
   ]
  },
  {
   "cell_type": "code",
   "execution_count": null,
   "metadata": {
    "ExecuteTime": {
     "end_time": "2021-06-11T04:01:44.681378Z",
     "start_time": "2021-06-11T04:01:44.667782Z"
    }
   },
   "outputs": [],
   "source": [
    "fig_2"
   ]
  },
  {
   "cell_type": "code",
   "execution_count": null,
   "metadata": {
    "ExecuteTime": {
     "end_time": "2021-06-11T03:59:07.075004Z",
     "start_time": "2021-06-11T03:58:59.944Z"
    }
   },
   "outputs": [],
   "source": [
    "from ggmodel_dev.models.landuse.GE3 import model_dictionnary\n",
    "df = df.merge(model_dictionnary['GE3_model'].summary_df[['name', 'unit']], left_on='Variable', right_index=True, how='left')\n",
    "\n",
    "df.loc[df.Variable == 'GE3_partial', 'unit'] = 'gigagrams (CO2eq)'\n",
    "df.loc[df.Variable == 'GE3_partial', 'name'] = 'Non-CO2 agricultural emissions'\n",
    "\n",
    "\n",
    "df = df.merge(model_dictionnary['GE3_model'].summary_df[['name']], left_on='Item', right_index=True, how='left', suffixes=('_target', '_source'))\n",
    "df['name'] = df['name_target']\n",
    "df.loc[df.name_source.isna(), 'name'] = df.loc[df.name_source.isna(), 'Item']\n",
    "\n",
    "df.loc[df.name_source.isna(), 'name_source'] = df.loc[df.name_source.isna(), 'Item']\n",
    "\n",
    "df.loc[df.name_target.isna(), 'name_target'] = df.loc[df.name_target.isna(), 'Variable']"
   ]
  },
  {
   "cell_type": "code",
   "execution_count": null,
   "metadata": {
    "ExecuteTime": {
     "end_time": "2021-06-11T03:59:07.076452Z",
     "start_time": "2021-06-11T03:59:00.334Z"
    }
   },
   "outputs": [],
   "source": [
    "df"
   ]
  },
  {
   "cell_type": "code",
   "execution_count": null,
   "metadata": {
    "ExecuteTime": {
     "end_time": "2021-06-11T04:01:41.156993Z",
     "start_time": "2021-06-11T04:01:41.139939Z"
    }
   },
   "outputs": [],
   "source": [
    "from sklearn.preprocessing import LabelEncoder\n",
    "import plotly.graph_objects as go\n",
    "import pandas as pd\n",
    "\n",
    "\n",
    "def emission_data_dict_to_df(data_dict):\n",
    "\n",
    "    data_dict = data_dict.copy()\n",
    "\n",
    "    data = pd.concat([v.to_frame(name='Value').assign(Variable=k)\n",
    "                      for k, v in data_dict.items()], axis=0).reset_index().dropna()\n",
    "\n",
    "    data = pd.concat([data, data.groupby('Variable').sum().reset_index().rename(\n",
    "        columns={\"Variable\": 'Item'}).assign(Variable='Non-CO2 agricultural emissions')])\n",
    "\n",
    "    return data\n",
    "\n",
    "\n",
    "def encode_source_target(df, source='Item', target='Variable'):\n",
    "\n",
    "    le = LabelEncoder()\n",
    "\n",
    "    encoded = le.fit_transform(\n",
    "        df[[source, target]].values.flatten()).reshape(-1, 2)\n",
    "\n",
    "    return encoded, le.classes_\n",
    "\n",
    "\n",
    "def sankeyplot(df, source, target, valueformat='.00f', valuesuffix=' Gg(CO2eq)'):\n",
    "\n",
    "    data = df.copy()\n",
    "\n",
    "    encoded_s_t, classe_names = encode_source_target(data, source, target)\n",
    "\n",
    "    data[['Source', 'Target']] = encoded_s_t\n",
    "    color_dict = pd.DataFrame({'scenario': ['BAU', 'scenario 1' ,'scenario 2'],\n",
    "                               'color': ['grey', '#D8A488', '#86BBD8']})\n",
    "    \n",
    "    data = data.merge(color_dict, on='scenario')\n",
    "    \n",
    "    fig = go.Figure(data=[go.Sankey(\n",
    "        valueformat=valueformat,\n",
    "        valuesuffix=valuesuffix,\n",
    "        node=dict(\n",
    "            pad=15,\n",
    "            thickness=20,\n",
    "            line=dict(color=\"black\", width=0.5),\n",
    "            label=classe_names,\n",
    "            color='lightgrey'\n",
    "        ),\n",
    "        link=dict(\n",
    "            target=data['Target'],\n",
    "            source=data['Source'],\n",
    "            value=data['Value'],\n",
    "            color=data['color']\n",
    "        ))])\n",
    "\n",
    "    return fig"
   ]
  },
  {
   "cell_type": "code",
   "execution_count": null,
   "metadata": {
    "ExecuteTime": {
     "end_time": "2021-06-11T03:59:07.079432Z",
     "start_time": "2021-06-11T03:59:01.564Z"
    }
   },
   "outputs": [],
   "source": [
    "sankeyplot(df, 'name_source', 'name_target')"
   ]
  },
  {
   "cell_type": "code",
   "execution_count": null,
   "metadata": {},
   "outputs": [],
   "source": []
  },
  {
   "cell_type": "code",
   "execution_count": null,
   "metadata": {},
   "outputs": [],
   "source": []
  }
 ],
 "metadata": {
  "kernelspec": {
   "display_name": "Python 3",
   "language": "python",
   "name": "python3"
  },
  "language_info": {
   "codemirror_mode": {
    "name": "ipython",
    "version": 3
   },
   "file_extension": ".py",
   "mimetype": "text/x-python",
   "name": "python",
   "nbconvert_exporter": "python",
   "pygments_lexer": "ipython3",
   "version": "3.7.7"
  }
 },
 "nbformat": 4,
 "nbformat_minor": 4
}
